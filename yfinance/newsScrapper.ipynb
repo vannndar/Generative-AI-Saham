{
 "cells": [
  {
   "cell_type": "code",
   "execution_count": 2,
   "metadata": {},
   "outputs": [],
   "source": [
    "import re\n",
    "import csv\n",
    "from time import sleep\n",
    "from bs4 import BeautifulSoup\n",
    "import requests\n",
    "\n",
    "headers = {\n",
    "    'accept': '*/*',\n",
    "    'accept-encoding': 'gzip, deflate, br',\n",
    "    'accept-language': 'en-US,en;q=0.9',\n",
    "    'referer': 'https://www.google.com',\n",
    "    'user-agent': 'Mozilla/5.0 (Windows NT 10.0; Win64; x64) AppleWebKit/537.36 (KHTML, like Gecko) Chrome/85.0.4183.83 Safari/537.36 Edg/85.0.564.44'\n",
    "}\n",
    "\n",
    "def get_article(card):\n",
    "    \"\"\"Extract article information from the raw html\"\"\"\n",
    "    headline = card.find('h4', 's-title').text\n",
    "    source = card.find(\"span\", 's-source').text\n",
    "    posted = card.find('span', 's-time').text.replace('·', '').strip()\n",
    "    description = card.find('p', 's-desc').text.strip()\n",
    "    raw_link = card.find('a').get('href')\n",
    "    unquoted_link = requests.utils.unquote(raw_link)\n",
    "    pattern = re.compile(r'RU=(.+)\\/RK')\n",
    "    clean_link = re.search(pattern, unquoted_link).group(1)\n",
    "    \n",
    "    article = (headline, source, posted, description, clean_link)\n",
    "    return article\n",
    "\n",
    "def get_the_news(search):\n",
    "    \"\"\"Run the main program\"\"\"\n",
    "    template = 'https://news.search.yahoo.com/search?p={}'\n",
    "    url = template.format(search)\n",
    "    articles = []\n",
    "    links = set()\n",
    "    \n",
    "    while True:\n",
    "        response = requests.get(url, headers=headers)\n",
    "        soup = BeautifulSoup(response.text, 'html.parser')\n",
    "        cards = soup.find_all('div', 'NewsArticle')\n",
    "        \n",
    "        # extract articles from page\n",
    "        for card in cards:\n",
    "            article = get_article(card)\n",
    "            link = article[-1]\n",
    "            if not link in links:\n",
    "                links.add(link)\n",
    "                articles.append(article)        \n",
    "                \n",
    "        # find the next page\n",
    "        try:\n",
    "            url = soup.find('a', 'next').get('href')\n",
    "            sleep(1)\n",
    "        except AttributeError:\n",
    "            break\n",
    "            \n",
    "    # save article data\n",
    "    with open('results.csv', 'w', newline='', encoding='utf-8') as f:\n",
    "        writer = csv.writer(f)\n",
    "        writer.writerow(['Headline', 'Source', 'Posted', 'Description', 'Link'])\n",
    "        writer.writerows(articles)\n",
    "        \n",
    "    return articles"
   ]
  },
  {
   "cell_type": "code",
   "execution_count": 3,
   "metadata": {},
   "outputs": [],
   "source": [
    "# run the main program\n",
    "articles = get_the_news('iphone')"
   ]
  },
  {
   "cell_type": "code",
   "execution_count": 4,
   "metadata": {},
   "outputs": [
    {
     "data": {
      "text/plain": [
       "[('Wall Street is eager to see some sign that AI is driving iPhone demand in...',\n",
       "  'Business Insider ·  via Yahoo Finance',\n",
       "  '54 minutes ago',\n",
       "  'Wall Street anticipates $94.36 billion in revenue and adjusted earnings per share of $1.60. Analysts...',\n",
       "  'https://finance.yahoo.com/news/wall-street-eager-see-sign-031943613.html?fr=sycsrp_catchall'),\n",
       " ('5 phones you should buy instead of the iPhone 16',\n",
       "  'Digital Trends ·  via Yahoo News',\n",
       "  '14 hours ago',\n",
       "  'Apple’s iPhone 16 has arrived, and it’s quite an impressive offering this year. Not only does it come in some of the best colors we’ve seen in a while,...',\n",
       "  'https://www.yahoo.com/tech/5-phones-buy-instead-iphone-143032836.html'),\n",
       " ('Two Boston men arrested for stealing iPhone package from porch of Billerica...',\n",
       "  'The Boston Globe',\n",
       "  '2 hours ago',\n",
       "  'Two Boston men were arrested for allegedly stealing an Apple iPhone package from the porch of a home in Billerica, police said. Daneuri Diaz Romero, 24, and Yonaykin Guerrero Peguero, 25, will ...',\n",
       "  'https://www.bostonglobe.com/2024/10/30/metro/two-boston-men-arrested-stealing-iphone-package-porch-billerica-home-police-say/'),\n",
       " ('How to Record Calls on an iPhone Without a Third-Party App',\n",
       "  'Lifehacker',\n",
       "  '2 days ago',\n",
       "  \"If you're on iPhone and want to record your phone conversations, there's finally an official way to...\",\n",
       "  'https://lifehacker.com/tech/how-to-record-calls-on-an-iphone-without-a-third-party-app')]"
      ]
     },
     "execution_count": 4,
     "metadata": {},
     "output_type": "execute_result"
    }
   ],
   "source": [
    "# show the first 4 records\n",
    "articles[0:4]"
   ]
  }
 ],
 "metadata": {
  "kernelspec": {
   "display_name": "base",
   "language": "python",
   "name": "python3"
  },
  "language_info": {
   "codemirror_mode": {
    "name": "ipython",
    "version": 3
   },
   "file_extension": ".py",
   "mimetype": "text/x-python",
   "name": "python",
   "nbconvert_exporter": "python",
   "pygments_lexer": "ipython3",
   "version": "3.9.13"
  }
 },
 "nbformat": 4,
 "nbformat_minor": 2
}
