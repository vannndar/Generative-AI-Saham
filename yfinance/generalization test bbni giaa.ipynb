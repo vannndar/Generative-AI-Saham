{
 "cells": [
  {
   "cell_type": "markdown",
   "metadata": {},
   "source": [
    "# Import Data"
   ]
  },
  {
   "cell_type": "code",
   "execution_count": 1,
   "metadata": {},
   "outputs": [],
   "source": [
    "import pandas as pd\n",
    "import numpy as np "
   ]
  },
  {
   "cell_type": "code",
   "execution_count": 2,
   "metadata": {},
   "outputs": [],
   "source": [
    "data = pd.read_csv('Data/giaa_data_5y.csv')"
   ]
  },
  {
   "cell_type": "code",
   "execution_count": 3,
   "metadata": {},
   "outputs": [],
   "source": [
    "data['date_str'] = pd.to_datetime(data['date_str'])"
   ]
  },
  {
   "cell_type": "code",
   "execution_count": 4,
   "metadata": {},
   "outputs": [],
   "source": [
    "# rename columns\n",
    "data = data.rename(columns={'date_str': 'date'})"
   ]
  },
  {
   "cell_type": "code",
   "execution_count": 5,
   "metadata": {},
   "outputs": [
    {
     "data": {
      "text/html": [
       "<div>\n",
       "<style scoped>\n",
       "    .dataframe tbody tr th:only-of-type {\n",
       "        vertical-align: middle;\n",
       "    }\n",
       "\n",
       "    .dataframe tbody tr th {\n",
       "        vertical-align: top;\n",
       "    }\n",
       "\n",
       "    .dataframe thead th {\n",
       "        text-align: right;\n",
       "    }\n",
       "</style>\n",
       "<table border=\"1\" class=\"dataframe\">\n",
       "  <thead>\n",
       "    <tr style=\"text-align: right;\">\n",
       "      <th></th>\n",
       "      <th>Open</th>\n",
       "      <th>High</th>\n",
       "      <th>Low</th>\n",
       "      <th>Close</th>\n",
       "      <th>Volume</th>\n",
       "      <th>Dividends</th>\n",
       "      <th>Stock Splits</th>\n",
       "      <th>date</th>\n",
       "    </tr>\n",
       "  </thead>\n",
       "  <tbody>\n",
       "    <tr>\n",
       "      <th>0</th>\n",
       "      <td>513.469910</td>\n",
       "      <td>531.808105</td>\n",
       "      <td>508.885315</td>\n",
       "      <td>527.223511</td>\n",
       "      <td>16244660</td>\n",
       "      <td>0.0</td>\n",
       "      <td>0.0</td>\n",
       "      <td>2019-11-13</td>\n",
       "    </tr>\n",
       "    <tr>\n",
       "      <th>1</th>\n",
       "      <td>531.808105</td>\n",
       "      <td>536.392639</td>\n",
       "      <td>508.885315</td>\n",
       "      <td>508.885315</td>\n",
       "      <td>17279985</td>\n",
       "      <td>0.0</td>\n",
       "      <td>0.0</td>\n",
       "      <td>2019-11-14</td>\n",
       "    </tr>\n",
       "    <tr>\n",
       "      <th>2</th>\n",
       "      <td>508.885315</td>\n",
       "      <td>536.392639</td>\n",
       "      <td>504.300781</td>\n",
       "      <td>536.392639</td>\n",
       "      <td>14703616</td>\n",
       "      <td>0.0</td>\n",
       "      <td>0.0</td>\n",
       "      <td>2019-11-15</td>\n",
       "    </tr>\n",
       "    <tr>\n",
       "      <th>3</th>\n",
       "      <td>536.392639</td>\n",
       "      <td>540.977173</td>\n",
       "      <td>522.638977</td>\n",
       "      <td>522.638977</td>\n",
       "      <td>4026892</td>\n",
       "      <td>0.0</td>\n",
       "      <td>0.0</td>\n",
       "      <td>2019-11-18</td>\n",
       "    </tr>\n",
       "    <tr>\n",
       "      <th>4</th>\n",
       "      <td>527.223511</td>\n",
       "      <td>536.392639</td>\n",
       "      <td>504.300781</td>\n",
       "      <td>508.885315</td>\n",
       "      <td>20386831</td>\n",
       "      <td>0.0</td>\n",
       "      <td>0.0</td>\n",
       "      <td>2019-11-19</td>\n",
       "    </tr>\n",
       "  </tbody>\n",
       "</table>\n",
       "</div>"
      ],
      "text/plain": [
       "         Open        High         Low       Close    Volume  Dividends  \\\n",
       "0  513.469910  531.808105  508.885315  527.223511  16244660        0.0   \n",
       "1  531.808105  536.392639  508.885315  508.885315  17279985        0.0   \n",
       "2  508.885315  536.392639  504.300781  536.392639  14703616        0.0   \n",
       "3  536.392639  540.977173  522.638977  522.638977   4026892        0.0   \n",
       "4  527.223511  536.392639  504.300781  508.885315  20386831        0.0   \n",
       "\n",
       "   Stock Splits       date  \n",
       "0           0.0 2019-11-13  \n",
       "1           0.0 2019-11-14  \n",
       "2           0.0 2019-11-15  \n",
       "3           0.0 2019-11-18  \n",
       "4           0.0 2019-11-19  "
      ]
     },
     "execution_count": 5,
     "metadata": {},
     "output_type": "execute_result"
    }
   ],
   "source": [
    "data.head()"
   ]
  },
  {
   "cell_type": "code",
   "execution_count": 6,
   "metadata": {},
   "outputs": [
    {
     "name": "stdout",
     "output_type": "stream",
     "text": [
      "<class 'pandas.core.frame.DataFrame'>\n",
      "RangeIndex: 1213 entries, 0 to 1212\n",
      "Data columns (total 8 columns):\n",
      " #   Column        Non-Null Count  Dtype         \n",
      "---  ------        --------------  -----         \n",
      " 0   Open          1213 non-null   float64       \n",
      " 1   High          1213 non-null   float64       \n",
      " 2   Low           1213 non-null   float64       \n",
      " 3   Close         1213 non-null   float64       \n",
      " 4   Volume        1213 non-null   int64         \n",
      " 5   Dividends     1213 non-null   float64       \n",
      " 6   Stock Splits  1213 non-null   float64       \n",
      " 7   date          1213 non-null   datetime64[ns]\n",
      "dtypes: datetime64[ns](1), float64(6), int64(1)\n",
      "memory usage: 75.9 KB\n"
     ]
    }
   ],
   "source": [
    "data.info()"
   ]
  },
  {
   "cell_type": "code",
   "execution_count": 7,
   "metadata": {},
   "outputs": [
    {
     "data": {
      "text/plain": [
       "Open            0\n",
       "High            0\n",
       "Low             0\n",
       "Close           0\n",
       "Volume          0\n",
       "Dividends       0\n",
       "Stock Splits    0\n",
       "date            0\n",
       "dtype: int64"
      ]
     },
     "execution_count": 7,
     "metadata": {},
     "output_type": "execute_result"
    }
   ],
   "source": [
    "data.isnull().sum()"
   ]
  },
  {
   "cell_type": "markdown",
   "metadata": {},
   "source": [
    "# Feature Engineering"
   ]
  },
  {
   "cell_type": "code",
   "execution_count": 8,
   "metadata": {},
   "outputs": [
    {
     "data": {
      "text/plain": [
       "Dividends\n",
       "0.0    1213\n",
       "Name: count, dtype: int64"
      ]
     },
     "execution_count": 8,
     "metadata": {},
     "output_type": "execute_result"
    }
   ],
   "source": [
    "data['Dividends'].value_counts()"
   ]
  },
  {
   "cell_type": "code",
   "execution_count": 9,
   "metadata": {},
   "outputs": [
    {
     "data": {
      "text/plain": [
       "Stock Splits\n",
       "0.0    1213\n",
       "Name: count, dtype: int64"
      ]
     },
     "execution_count": 9,
     "metadata": {},
     "output_type": "execute_result"
    }
   ],
   "source": [
    "data['Stock Splits'].value_counts()"
   ]
  },
  {
   "cell_type": "code",
   "execution_count": 10,
   "metadata": {},
   "outputs": [],
   "source": [
    "data.drop(['Dividends', 'Stock Splits'], axis=1, inplace=True)"
   ]
  },
  {
   "cell_type": "code",
   "execution_count": 11,
   "metadata": {},
   "outputs": [],
   "source": [
    "# 1. Menghitung Return Harian\n",
    "data['return'] = data['Close'].pct_change()\n",
    "data['log_return'] = np.log(data['Close'] / data['Close'].shift(1))"
   ]
  },
  {
   "cell_type": "code",
   "execution_count": 12,
   "metadata": {},
   "outputs": [],
   "source": [
    "# 2. Moving Averages\n",
    "data['ma_5'] = data['Close'].rolling(window=5).mean()\n",
    "data['ma_10'] = data['Close'].rolling(window=10).mean()\n",
    "data['ma_20'] = data['Close'].rolling(window=20).mean()"
   ]
  },
  {
   "cell_type": "code",
   "execution_count": 13,
   "metadata": {},
   "outputs": [],
   "source": [
    "# 3. Exponential Moving Average (EMA)\n",
    "data['ema_10'] = data['Close'].ewm(span=10, adjust=False).mean()\n",
    "data['ema_20'] = data['Close'].ewm(span=20, adjust=False).mean()"
   ]
  },
  {
   "cell_type": "code",
   "execution_count": 14,
   "metadata": {},
   "outputs": [],
   "source": [
    "# 4. Bollinger Bands\n",
    "data['bollinger_mid'] = data['Close'].rolling(window=20).mean()\n",
    "data['bollinger_std'] = data['Close'].rolling(window=20).std()\n",
    "data['bollinger_upper'] = data['bollinger_mid'] + (2 * data['bollinger_std'])\n",
    "data['bollinger_lower'] = data['bollinger_mid'] - (2 * data['bollinger_std'])"
   ]
  },
  {
   "cell_type": "code",
   "execution_count": 15,
   "metadata": {},
   "outputs": [],
   "source": [
    "# 10. Penambahan Fitur Waktu\n",
    "data['day_of_week'] = data['date'].dt.dayofweek  # 0 = Monday, 6 = Sunday\n",
    "data['month'] = data['date'].dt.month"
   ]
  },
  {
   "cell_type": "code",
   "execution_count": 16,
   "metadata": {},
   "outputs": [],
   "source": [
    "# Hapus data yang mengandung nilai NaN akibat perhitungan rolling\n",
    "data = data.dropna().reset_index(drop=True)"
   ]
  },
  {
   "cell_type": "code",
   "execution_count": 17,
   "metadata": {},
   "outputs": [
    {
     "data": {
      "text/html": [
       "<div>\n",
       "<style scoped>\n",
       "    .dataframe tbody tr th:only-of-type {\n",
       "        vertical-align: middle;\n",
       "    }\n",
       "\n",
       "    .dataframe tbody tr th {\n",
       "        vertical-align: top;\n",
       "    }\n",
       "\n",
       "    .dataframe thead th {\n",
       "        text-align: right;\n",
       "    }\n",
       "</style>\n",
       "<table border=\"1\" class=\"dataframe\">\n",
       "  <thead>\n",
       "    <tr style=\"text-align: right;\">\n",
       "      <th></th>\n",
       "      <th>Open</th>\n",
       "      <th>High</th>\n",
       "      <th>Low</th>\n",
       "      <th>Close</th>\n",
       "      <th>Volume</th>\n",
       "      <th>date</th>\n",
       "      <th>return</th>\n",
       "      <th>log_return</th>\n",
       "      <th>ma_5</th>\n",
       "      <th>ma_10</th>\n",
       "      <th>ma_20</th>\n",
       "      <th>ema_10</th>\n",
       "      <th>ema_20</th>\n",
       "      <th>bollinger_mid</th>\n",
       "      <th>bollinger_std</th>\n",
       "      <th>bollinger_upper</th>\n",
       "      <th>bollinger_lower</th>\n",
       "      <th>day_of_week</th>\n",
       "      <th>month</th>\n",
       "    </tr>\n",
       "  </thead>\n",
       "  <tbody>\n",
       "    <tr>\n",
       "      <th>0</th>\n",
       "      <td>463.039795</td>\n",
       "      <td>481.378021</td>\n",
       "      <td>458.455261</td>\n",
       "      <td>472.208923</td>\n",
       "      <td>34022949</td>\n",
       "      <td>2019-12-10</td>\n",
       "      <td>0.030000</td>\n",
       "      <td>0.029559</td>\n",
       "      <td>457.538342</td>\n",
       "      <td>467.257596</td>\n",
       "      <td>487.154549</td>\n",
       "      <td>469.416584</td>\n",
       "      <td>482.634525</td>\n",
       "      <td>487.154549</td>\n",
       "      <td>26.478004</td>\n",
       "      <td>540.110557</td>\n",
       "      <td>434.198540</td>\n",
       "      <td>1</td>\n",
       "      <td>12</td>\n",
       "    </tr>\n",
       "    <tr>\n",
       "      <th>1</th>\n",
       "      <td>472.208923</td>\n",
       "      <td>481.378021</td>\n",
       "      <td>458.455261</td>\n",
       "      <td>458.455261</td>\n",
       "      <td>27687871</td>\n",
       "      <td>2019-12-11</td>\n",
       "      <td>-0.029126</td>\n",
       "      <td>-0.029559</td>\n",
       "      <td>457.538342</td>\n",
       "      <td>463.589954</td>\n",
       "      <td>483.716136</td>\n",
       "      <td>467.423616</td>\n",
       "      <td>480.331738</td>\n",
       "      <td>483.716136</td>\n",
       "      <td>25.445797</td>\n",
       "      <td>534.607730</td>\n",
       "      <td>432.824542</td>\n",
       "      <td>2</td>\n",
       "      <td>12</td>\n",
       "    </tr>\n",
       "    <tr>\n",
       "      <th>2</th>\n",
       "      <td>458.455261</td>\n",
       "      <td>472.208923</td>\n",
       "      <td>458.455261</td>\n",
       "      <td>458.455261</td>\n",
       "      <td>9238197</td>\n",
       "      <td>2019-12-12</td>\n",
       "      <td>0.000000</td>\n",
       "      <td>0.000000</td>\n",
       "      <td>458.271875</td>\n",
       "      <td>463.589954</td>\n",
       "      <td>481.194633</td>\n",
       "      <td>465.793006</td>\n",
       "      <td>478.248264</td>\n",
       "      <td>481.194633</td>\n",
       "      <td>25.318755</td>\n",
       "      <td>531.832144</td>\n",
       "      <td>430.557123</td>\n",
       "      <td>3</td>\n",
       "      <td>12</td>\n",
       "    </tr>\n",
       "    <tr>\n",
       "      <th>3</th>\n",
       "      <td>458.455261</td>\n",
       "      <td>467.624359</td>\n",
       "      <td>454.787598</td>\n",
       "      <td>456.621429</td>\n",
       "      <td>23349061</td>\n",
       "      <td>2019-12-13</td>\n",
       "      <td>-0.004000</td>\n",
       "      <td>-0.004008</td>\n",
       "      <td>460.839227</td>\n",
       "      <td>463.773337</td>\n",
       "      <td>477.206073</td>\n",
       "      <td>464.125447</td>\n",
       "      <td>476.188566</td>\n",
       "      <td>477.206073</td>\n",
       "      <td>22.264674</td>\n",
       "      <td>521.735420</td>\n",
       "      <td>432.676726</td>\n",
       "      <td>4</td>\n",
       "      <td>12</td>\n",
       "    </tr>\n",
       "    <tr>\n",
       "      <th>4</th>\n",
       "      <td>458.455261</td>\n",
       "      <td>467.624359</td>\n",
       "      <td>456.621429</td>\n",
       "      <td>463.039795</td>\n",
       "      <td>15549827</td>\n",
       "      <td>2019-12-16</td>\n",
       "      <td>0.014056</td>\n",
       "      <td>0.013958</td>\n",
       "      <td>461.756134</td>\n",
       "      <td>460.564148</td>\n",
       "      <td>474.226114</td>\n",
       "      <td>463.928056</td>\n",
       "      <td>474.936302</td>\n",
       "      <td>474.226114</td>\n",
       "      <td>19.705102</td>\n",
       "      <td>513.636317</td>\n",
       "      <td>434.815910</td>\n",
       "      <td>0</td>\n",
       "      <td>12</td>\n",
       "    </tr>\n",
       "  </tbody>\n",
       "</table>\n",
       "</div>"
      ],
      "text/plain": [
       "         Open        High         Low       Close    Volume       date  \\\n",
       "0  463.039795  481.378021  458.455261  472.208923  34022949 2019-12-10   \n",
       "1  472.208923  481.378021  458.455261  458.455261  27687871 2019-12-11   \n",
       "2  458.455261  472.208923  458.455261  458.455261   9238197 2019-12-12   \n",
       "3  458.455261  467.624359  454.787598  456.621429  23349061 2019-12-13   \n",
       "4  458.455261  467.624359  456.621429  463.039795  15549827 2019-12-16   \n",
       "\n",
       "     return  log_return        ma_5       ma_10       ma_20      ema_10  \\\n",
       "0  0.030000    0.029559  457.538342  467.257596  487.154549  469.416584   \n",
       "1 -0.029126   -0.029559  457.538342  463.589954  483.716136  467.423616   \n",
       "2  0.000000    0.000000  458.271875  463.589954  481.194633  465.793006   \n",
       "3 -0.004000   -0.004008  460.839227  463.773337  477.206073  464.125447   \n",
       "4  0.014056    0.013958  461.756134  460.564148  474.226114  463.928056   \n",
       "\n",
       "       ema_20  bollinger_mid  bollinger_std  bollinger_upper  bollinger_lower  \\\n",
       "0  482.634525     487.154549      26.478004       540.110557       434.198540   \n",
       "1  480.331738     483.716136      25.445797       534.607730       432.824542   \n",
       "2  478.248264     481.194633      25.318755       531.832144       430.557123   \n",
       "3  476.188566     477.206073      22.264674       521.735420       432.676726   \n",
       "4  474.936302     474.226114      19.705102       513.636317       434.815910   \n",
       "\n",
       "   day_of_week  month  \n",
       "0            1     12  \n",
       "1            2     12  \n",
       "2            3     12  \n",
       "3            4     12  \n",
       "4            0     12  "
      ]
     },
     "execution_count": 17,
     "metadata": {},
     "output_type": "execute_result"
    }
   ],
   "source": [
    "data.head()"
   ]
  },
  {
   "cell_type": "code",
   "execution_count": 18,
   "metadata": {},
   "outputs": [
    {
     "data": {
      "text/plain": [
       "Open               0\n",
       "High               0\n",
       "Low                0\n",
       "Close              0\n",
       "Volume             0\n",
       "date               0\n",
       "return             0\n",
       "log_return         0\n",
       "ma_5               0\n",
       "ma_10              0\n",
       "ma_20              0\n",
       "ema_10             0\n",
       "ema_20             0\n",
       "bollinger_mid      0\n",
       "bollinger_std      0\n",
       "bollinger_upper    0\n",
       "bollinger_lower    0\n",
       "day_of_week        0\n",
       "month              0\n",
       "dtype: int64"
      ]
     },
     "execution_count": 18,
     "metadata": {},
     "output_type": "execute_result"
    }
   ],
   "source": [
    "data.isnull().sum()"
   ]
  },
  {
   "cell_type": "markdown",
   "metadata": {},
   "source": [
    "# Modelling"
   ]
  },
  {
   "cell_type": "markdown",
   "metadata": {},
   "source": [
    "## Preprocessing"
   ]
  },
  {
   "cell_type": "code",
   "execution_count": 19,
   "metadata": {},
   "outputs": [],
   "source": [
    "dataUsed = data[['Close', 'Volume', 'ma_5', 'ma_10', 'ema_10', 'bollinger_mid', 'bollinger_std', 'bollinger_upper', 'bollinger_lower', 'day_of_week', 'month']]\n"
   ]
  },
  {
   "cell_type": "code",
   "execution_count": 20,
   "metadata": {},
   "outputs": [
    {
     "data": {
      "text/plain": [
       "array([[1.        , 0.02039823, 0.98975658, ..., 0.96877591, 0.25      ,\n",
       "        1.        ],\n",
       "       [0.96742451, 0.01660008, 0.98975658, ..., 0.96536468, 0.5       ,\n",
       "        1.        ],\n",
       "       [0.96742451, 0.0055387 , 0.99153805, ..., 0.95973535, 0.75      ,\n",
       "        1.        ],\n",
       "       ...,\n",
       "       [0.01894797, 0.00590928, 0.01505746, ..., 0.02400798, 0.        ,\n",
       "        0.90909091],\n",
       "       [0.01894797, 0.00597139, 0.01651463, ..., 0.0234786 , 0.25      ,\n",
       "        0.90909091],\n",
       "       [0.02131646, 0.00722006, 0.01845753, ..., 0.02321517, 0.5       ,\n",
       "        0.90909091]])"
      ]
     },
     "execution_count": 20,
     "metadata": {},
     "output_type": "execute_result"
    }
   ],
   "source": [
    "from sklearn.preprocessing import MinMaxScaler\n",
    "\n",
    "# preprocessing\n",
    "scaler = MinMaxScaler(feature_range=(0, 1))\n",
    "data_scaled = scaler.fit_transform(dataUsed)\n",
    "\n",
    "data_scaled"
   ]
  },
  {
   "cell_type": "markdown",
   "metadata": {},
   "source": [
    "## Train Test Sequence"
   ]
  },
  {
   "cell_type": "code",
   "execution_count": 21,
   "metadata": {},
   "outputs": [],
   "source": [
    "import numpy as np\n",
    "\n",
    "sequence_length = 60\n",
    "x = []\n",
    "y = []\n",
    "\n",
    "# Target tetap kolom 0 (harga close), tetapi kita hanya menggunakan kolom lain sebagai input\n",
    "for i in range(sequence_length, len(data_scaled)):\n",
    "    x.append(data_scaled[i-sequence_length:i, 1:])  \n",
    "    y.append(data_scaled[i, 0]) \n",
    "\n",
    "# Konversi ke array numpy\n",
    "x, y = np.array(x), np.array(y)\n"
   ]
  },
  {
   "cell_type": "code",
   "execution_count": 22,
   "metadata": {},
   "outputs": [
    {
     "name": "stdout",
     "output_type": "stream",
     "text": [
      "(1134, 60, 10) (1134,)\n"
     ]
    }
   ],
   "source": [
    "print(x.shape, y.shape)"
   ]
  },
  {
   "cell_type": "markdown",
   "metadata": {},
   "source": [
    "## LSTM"
   ]
  },
  {
   "cell_type": "code",
   "execution_count": 23,
   "metadata": {},
   "outputs": [],
   "source": [
    "from sklearn.model_selection import train_test_split\n",
    "\n",
    "# train and test split\n",
    "x_train, x_test, y_train, y_test = train_test_split(x, y, test_size=0.2, random_state=42)"
   ]
  },
  {
   "cell_type": "code",
   "execution_count": 24,
   "metadata": {},
   "outputs": [],
   "source": [
    "from tensorflow.keras.models import Sequential\n",
    "from tensorflow.keras.layers import LSTM, Dense, Dropout"
   ]
  },
  {
   "cell_type": "code",
   "execution_count": 25,
   "metadata": {},
   "outputs": [],
   "source": [
    "from keras.models import load_model\n",
    "\n",
    "model = load_model('Model/lstm_model_bbni.h5')"
   ]
  },
  {
   "cell_type": "code",
   "execution_count": 26,
   "metadata": {},
   "outputs": [
    {
     "data": {
      "text/plain": [
       "(907, 60, 10)"
      ]
     },
     "execution_count": 26,
     "metadata": {},
     "output_type": "execute_result"
    }
   ],
   "source": [
    "x_train.shape"
   ]
  },
  {
   "cell_type": "code",
   "execution_count": 27,
   "metadata": {},
   "outputs": [
    {
     "name": "stdout",
     "output_type": "stream",
     "text": [
      "8/8 [==============================] - 1s 10ms/step\n"
     ]
    }
   ],
   "source": [
    "# prediction\n",
    "predicted_prices =  model.predict(x_test)\n"
   ]
  },
  {
   "cell_type": "code",
   "execution_count": 28,
   "metadata": {},
   "outputs": [],
   "source": [
    "# Dapatkan jumlah kolom yang diharapkan oleh scaler\n",
    "expected_columns = scaler.min_.shape[0]  # Ini adalah 13 dalam kasus Anda\n",
    "\n",
    "# Tambahkan kolom nol untuk menyesuaikan jumlah kolom\n",
    "predicted_prices_padded = np.hstack([np.zeros((predicted_prices.shape[0], expected_columns - 1)), predicted_prices])\n",
    "\n",
    "# Inverse transform dan ambil hanya kolom harga 'Close'\n",
    "predicted_prices = scaler.inverse_transform(predicted_prices_padded)[:, -1]  # Ambil hanya kolom harga\n"
   ]
  },
  {
   "cell_type": "code",
   "execution_count": 29,
   "metadata": {},
   "outputs": [],
   "source": [
    "expected_columns = scaler.min_.shape[0]  # Ini adalah 13 dalam kasus Anda\n",
    "\n",
    "# Tambahkan kolom nol untuk menyesuaikan jumlah kolom\n",
    "real_prices_padded = np.hstack([np.zeros((y_test.shape[0], expected_columns - 1)), y_test.reshape(-1,1)])\n",
    "\n",
    "# Inverse transform dan ambil hanya kolom harga 'Close'\n",
    "real_prices = scaler.inverse_transform(real_prices_padded)[:, -1]  # Ambil hanya kolom harga\n"
   ]
  },
  {
   "cell_type": "code",
   "execution_count": 30,
   "metadata": {},
   "outputs": [
    {
     "data": {
      "text/plain": [
       "array([ 1.49501559,  1.96397773,  5.0006154 ,  5.0006154 ,  1.78160357,\n",
       "        5.95616241,  5.0006154 ,  6.29060436,  1.23448107,  1.46896214,\n",
       "        1.41685524,  5.90838516,  5.0006154 ,  1.36474833,  1.6513363 ,\n",
       "        1.85976392,  2.25056571,  1.36474833,  1.70344321,  5.0006154 ,\n",
       "        5.71727576,  6.24282671,  1.41685524,  5.47838871,  5.47838871,\n",
       "        5.2872793 ,  7.58059333,  6.72060042,  7.43726118,  5.23950205,\n",
       "        5.71727576,  5.0006154 ,  2.06819154,  5.0006154 ,  1.80765702,\n",
       "        4.66617345,  1.52106904,  1.26053452,  5.0006154 ,  5.0006154 ,\n",
       "        7.53281568,  5.0006154 ,  1.99003118, 10.11279361,  2.04213809,\n",
       "        1.33869488,  5.86060791,  5.0006154 ,  1.        ,  2.25056571,\n",
       "        5.0006154 ,  5.0006154 , 10.0172391 ,  5.0006154 ,  1.33869488,\n",
       "        6.05171731,  1.39080178,  1.28658797,  9.6350203 ,  5.0006154 ,\n",
       "        2.09424499,  1.07816036,  5.2872793 ,  5.0006154 ,  1.20842762,\n",
       "        1.28658797,  5.0006154 ,  5.0006154 ,  5.0006154 ,  5.0006154 ,\n",
       "        5.0006154 ,  5.0006154 ,  5.0006154 ,  5.0006154 ,  5.0006154 ,\n",
       "        5.0006154 ,  8.48836309,  5.000615  ,  1.02605345,  5.1917248 ,\n",
       "        5.0961699 ,  3.97340191,  7.72392548,  1.33869488,  4.96012473,\n",
       "        1.83371047,  2.01608464,  8.05836663,  9.10946855,  5.43061145,\n",
       "        5.0006154 ,  1.31264143,  5.0006154 ,  5.14394715,  5.0006154 ,\n",
       "        5.0006154 ,  7.96281213,  5.0006154 ,  1.33869488,  5.0006154 ,\n",
       "        3.3969176 ,  3.28062998,  5.0006154 ,  5.0006154 ,  3.9440401 ,\n",
       "        9.20502384,  5.0006154 ,  5.0006154 ,  1.39080178,  5.0006154 ,\n",
       "        1.23448107,  5.0006154 ,  5.0006154 ,  1.26053452,  5.000615  ,\n",
       "        1.78160357,  1.36474833,  1.41685524,  5.0961699 ,  5.76505301,\n",
       "        6.24282671,  8.53614074,  1.5471225 ,  1.39080178,  5.0006154 ,\n",
       "        6.09949456,  5.0006154 ,  1.23448107,  1.91187083,  5.0006154 ,\n",
       "        5.0006154 ,  5.0006154 ,  8.87058189,  2.09424499,  5.0006154 ,\n",
       "        5.90838516,  5.0006154 ,  5.0006154 ,  1.49501559,  5.0006154 ,\n",
       "        5.81283066,  5.0006154 ,  5.0006154 ,  5.0006154 ,  5.52616635,\n",
       "        1.26053452,  5.0006154 ,  7.91503448,  5.0006154 ,  8.48836309,\n",
       "        5.0006154 ,  5.1917248 ,  5.0006154 ,  6.19504946,  1.33869488,\n",
       "        5.14394715,  1.23448107,  5.0006154 ,  5.0006154 ,  1.67738976,\n",
       "        1.44290869,  5.0006154 ,  5.0006154 ,  6.38615926,  5.0006154 ,\n",
       "        1.39080178,  5.0006154 ,  5.0006154 ,  2.09424499,  1.28658797,\n",
       "        2.06819154,  5.0006154 ,  5.0006154 ,  5.62172086,  8.53614074,\n",
       "        1.33869488,  1.5992294 ,  1.62528285,  5.0006154 ,  1.93792428,\n",
       "        4.6183962 ,  4.04506799,  2.22451225,  4.95283775,  5.57394361,\n",
       "        2.1463519 ,  5.0006154 ,  5.0006154 ,  5.0006154 ,  5.0006154 ,\n",
       "        1.96397773,  5.0961699 ,  2.1984588 ,  5.0006154 ,  1.49501559,\n",
       "        1.33869488,  1.33869488,  1.39080178,  5.0006154 ,  1.88581737,\n",
       "        5.0006154 ,  6.48171377,  5.000615  ,  5.0006154 ,  6.38615926,\n",
       "        7.48503803,  1.36474833,  5.0006154 ,  5.90838516,  9.01391404,\n",
       "        5.0006154 ,  5.0006154 ,  7.53281568,  1.23448107,  5.0006154 ,\n",
       "        7.34170588,  5.0006154 ,  1.31264143,  5.0006154 ,  5.0006154 ,\n",
       "        1.13026726,  1.33869488,  6.24282671,  1.99003118,  6.24282671,\n",
       "        5.0006154 ,  5.0006154 ])"
      ]
     },
     "execution_count": 30,
     "metadata": {},
     "output_type": "execute_result"
    }
   ],
   "source": [
    "real_prices"
   ]
  },
  {
   "cell_type": "markdown",
   "metadata": {},
   "source": [
    "# Evaluation"
   ]
  },
  {
   "cell_type": "code",
   "execution_count": 31,
   "metadata": {},
   "outputs": [
    {
     "data": {
      "image/png": "[encoded data removed]",
      "text/plain": [
       "<Figure size 640x480 with 1 Axes>"
      ]
     },
     "metadata": {},
     "output_type": "display_data"
    }
   ],
   "source": [
    "# conpare real and predicted prices\n",
    "import matplotlib.pyplot as plt\n",
    "\n",
    "plt.plot(real_prices, color='red', label='Real Prices')\n",
    "plt.plot(predicted_prices, color='blue', label='Predicted Prices')\n",
    "plt.title('Stock Prices Prediction')\n",
    "plt.xlabel('Time')\n",
    "plt.ylabel('Stock Prices')\n",
    "plt.legend()\n",
    "plt.show()"
   ]
  },
  {
   "cell_type": "code",
   "execution_count": 32,
   "metadata": {},
   "outputs": [
    {
     "name": "stdout",
     "output_type": "stream",
     "text": [
      "Real Prices:  [ 1.49501559  1.96397773  5.0006154   5.0006154   1.78160357  5.95616241\n",
      "  5.0006154   6.29060436  1.23448107  1.46896214  1.41685524  5.90838516\n",
      "  5.0006154   1.36474833  1.6513363   1.85976392  2.25056571  1.36474833\n",
      "  1.70344321  5.0006154   5.71727576  6.24282671  1.41685524  5.47838871\n",
      "  5.47838871  5.2872793   7.58059333  6.72060042  7.43726118  5.23950205\n",
      "  5.71727576  5.0006154   2.06819154  5.0006154   1.80765702  4.66617345\n",
      "  1.52106904  1.26053452  5.0006154   5.0006154   7.53281568  5.0006154\n",
      "  1.99003118 10.11279361  2.04213809  1.33869488  5.86060791  5.0006154\n",
      "  1.          2.25056571  5.0006154   5.0006154  10.0172391   5.0006154\n",
      "  1.33869488  6.05171731  1.39080178  1.28658797  9.6350203   5.0006154\n",
      "  2.09424499  1.07816036  5.2872793   5.0006154   1.20842762  1.28658797\n",
      "  5.0006154   5.0006154   5.0006154   5.0006154   5.0006154   5.0006154\n",
      "  5.0006154   5.0006154   5.0006154   5.0006154   8.48836309  5.000615\n",
      "  1.02605345  5.1917248   5.0961699   3.97340191  7.72392548  1.33869488\n",
      "  4.96012473  1.83371047  2.01608464  8.05836663  9.10946855  5.43061145\n",
      "  5.0006154   1.31264143  5.0006154   5.14394715  5.0006154   5.0006154\n",
      "  7.96281213  5.0006154   1.33869488  5.0006154   3.3969176   3.28062998\n",
      "  5.0006154   5.0006154   3.9440401   9.20502384  5.0006154   5.0006154\n",
      "  1.39080178  5.0006154   1.23448107  5.0006154   5.0006154   1.26053452\n",
      "  5.000615    1.78160357  1.36474833  1.41685524  5.0961699   5.76505301\n",
      "  6.24282671  8.53614074  1.5471225   1.39080178  5.0006154   6.09949456\n",
      "  5.0006154   1.23448107  1.91187083  5.0006154   5.0006154   5.0006154\n",
      "  8.87058189  2.09424499  5.0006154   5.90838516  5.0006154   5.0006154\n",
      "  1.49501559  5.0006154   5.81283066  5.0006154   5.0006154   5.0006154\n",
      "  5.52616635  1.26053452  5.0006154   7.91503448  5.0006154   8.48836309\n",
      "  5.0006154   5.1917248   5.0006154   6.19504946  1.33869488  5.14394715\n",
      "  1.23448107  5.0006154   5.0006154   1.67738976  1.44290869  5.0006154\n",
      "  5.0006154   6.38615926  5.0006154   1.39080178  5.0006154   5.0006154\n",
      "  2.09424499  1.28658797  2.06819154  5.0006154   5.0006154   5.62172086\n",
      "  8.53614074  1.33869488  1.5992294   1.62528285  5.0006154   1.93792428\n",
      "  4.6183962   4.04506799  2.22451225  4.95283775  5.57394361  2.1463519\n",
      "  5.0006154   5.0006154   5.0006154   5.0006154   1.96397773  5.0961699\n",
      "  2.1984588   5.0006154   1.49501559  1.33869488  1.33869488  1.39080178\n",
      "  5.0006154   1.88581737  5.0006154   6.48171377  5.000615    5.0006154\n",
      "  6.38615926  7.48503803  1.36474833  5.0006154   5.90838516  9.01391404\n",
      "  5.0006154   5.0006154   7.53281568  1.23448107  5.0006154   7.34170588\n",
      "  5.0006154   1.31264143  5.0006154   5.0006154   1.13026726  1.33869488\n",
      "  6.24282671  1.99003118  6.24282671  5.0006154   5.0006154 ]\n",
      "Predicted Prices:  [ 1.78571014  2.46821015  5.29544437  5.53486389  2.10632402  6.35468215\n",
      "  5.4093785   5.49762946  1.77209456  1.98595779  1.95065491  6.34304434\n",
      "  5.29786175  1.74507453  2.13867761  2.39263718  3.0688172   1.87776306\n",
      "  2.22344363  5.31052566  5.85212952  7.91141814  2.00226465  5.84051532\n",
      "  5.81547469  5.15635225  8.27937937  7.92445773  8.19853497  6.15807664\n",
      "  6.15901881  5.47096577  2.33972253  5.38921198  2.47972797  5.19450754\n",
      "  1.89144371  1.5133435   5.46245968  5.31914812  8.1623345   5.29432353\n",
      "  2.54373476  8.58382833  2.2493784   1.92073968  6.47378707  5.3301788\n",
      "  1.3817835   2.73583004  5.26494807  5.24887413 10.31011504  5.28574336\n",
      "  1.73336607  6.41919363  1.72637962  1.73125504 10.15042925  5.26137313\n",
      "  2.24255618  1.73021878  5.55350929  5.31473821  1.81949797  1.65650229\n",
      "  5.4062317   5.30546796  5.43934733  5.30251917  5.41169196  5.36013943\n",
      "  5.45197517  5.28162095  5.30777782  5.33972836  8.52719384  5.29647899\n",
      "  1.46201585  5.70158842  6.30378985  4.73587698  7.04071021  1.72396797\n",
      "  5.30761194  2.47393218  2.41510552 10.04674721  8.74222577  6.16230625\n",
      "  5.30669993  1.84189665  5.31470674  5.38152054  5.33978376  5.30260342\n",
      "  8.15399265  5.30887276  1.72845967  5.31326759  4.99364817  4.86041364\n",
      "  5.33212739  5.30104887  5.29515654 10.28241378  5.38546461  5.30222446\n",
      "  1.78862189  5.32095444  1.79522987  5.3208161   5.30317089  1.5875714\n",
      "  5.32191759  2.14539836  1.76652481  1.99038638  5.78166342  6.34998769\n",
      "  6.00471461 10.12144095  2.12296051  2.04931302  5.31467462  7.28001958\n",
      "  5.32264733  1.48615414  2.39338544  5.31178647  5.32324266  5.3922506\n",
      " 10.1424349   2.54985231  5.31594461  6.02773649  5.34796104  5.29212219\n",
      "  2.32280329  5.31834528  6.7357564   5.33325249  5.31242803  5.30606002\n",
      "  6.32743853  1.76619813  5.30701858  8.37394589  5.30600363  8.49430901\n",
      "  5.44369757  5.44045603  5.46571729  7.72507685  1.81964976  5.33248505\n",
      "  1.72734047  5.35173792  5.30705956  1.84068567  1.90687102  5.30526602\n",
      "  5.3074972   7.85553503  5.28108856  1.90500225  5.36707425  5.29399472\n",
      "  2.74561137  1.81874987  2.32827863  5.32123441  5.35347539  6.11421162\n",
      "  8.62616438  1.7916505   1.81786425  1.6758958   5.49466854  2.19833039\n",
      "  4.16761434  4.87522545  2.52607021  5.35379797  5.30730838  2.57855934\n",
      "  5.66628653  5.31628817  5.32364523  5.35328329  2.48584142  6.44123989\n",
      "  2.61934854  5.37352127  2.03889735  1.78817686  1.67695189  1.96465847\n",
      "  5.75070357  2.4210926   5.39995188  5.81977314  5.30972052  5.32396847\n",
      "  6.55962884  8.22181451  1.89614719  5.32376817  5.88760221  7.63041329\n",
      "  5.31551582  5.31136653  8.32285887  1.83135821  5.59354794  7.28807688\n",
      "  5.31467396  1.79001006  5.30528536  5.29024702  1.78170018  1.93544003\n",
      "  6.54229474  2.43276155  6.47464171  5.34680283  5.30082005]\n",
      "Difference:  [-0.29069455 -0.50423241 -0.29482897 -0.53424849 -0.32472045 -0.39851974\n",
      " -0.4087631   0.7929749  -0.53761349 -0.51699565 -0.53379967 -0.43465918\n",
      " -0.29724636 -0.38032619 -0.48734131 -0.53287326 -0.81825149 -0.51301473\n",
      " -0.52000042 -0.30991026 -0.13485376 -1.66859143 -0.58540941 -0.36212661\n",
      " -0.33708598  0.13092705 -0.69878604 -1.20385731 -0.76127379 -0.91857459\n",
      " -0.44174306 -0.47035037 -0.27153099 -0.38859658 -0.67207095 -0.52833409\n",
      " -0.37037467 -0.25280898 -0.46184429 -0.31853272 -0.62951882 -0.29370814\n",
      " -0.55370358  1.52896528 -0.20724031 -0.5820448  -0.61317916 -0.3295634\n",
      " -0.3817835  -0.48526433 -0.26433267 -0.24825873 -0.29287594 -0.28512796\n",
      " -0.39467119 -0.36747631 -0.33557784 -0.44466707 -0.51540895 -0.26075773\n",
      " -0.14831119 -0.65205843 -0.26622999 -0.31412282 -0.61107036 -0.36991432\n",
      " -0.4056163  -0.30485256 -0.43873193 -0.30190377 -0.41107657 -0.35952403\n",
      " -0.45135977 -0.28100555 -0.30716242 -0.33911296 -0.03883076 -0.29586399\n",
      " -0.4359624  -0.50986362 -1.20761995 -0.76247507  0.68321527 -0.38527309\n",
      " -0.34748721 -0.64022171 -0.39902089 -1.98838057  0.36724278 -0.73169479\n",
      " -0.30608453 -0.52925523 -0.31409134 -0.23757339 -0.33916836 -0.30198803\n",
      " -0.19118052 -0.30825736 -0.38976479 -0.31265219 -1.59673057 -1.57978366\n",
      " -0.33151199 -0.30043348 -1.35111644 -1.07738994 -0.38484921 -0.30160906\n",
      " -0.3978201  -0.32033904 -0.5607488  -0.3202007  -0.30255549 -0.32703688\n",
      " -0.32130259 -0.3637948  -0.40177648 -0.57353115 -0.68549352 -0.58493468\n",
      "  0.23811211 -1.58530021 -0.57583801 -0.65851124 -0.31405922 -1.18052502\n",
      " -0.32203193 -0.25167307 -0.48151461 -0.31117107 -0.32262727 -0.3916352\n",
      " -1.271853   -0.45560732 -0.31532921 -0.11935133 -0.34734564 -0.29150679\n",
      " -0.8277877  -0.31772988 -0.92292574 -0.33263709 -0.31181263 -0.30544462\n",
      " -0.80127218 -0.50566361 -0.30640318 -0.45891141 -0.30538823 -0.00594592\n",
      " -0.44308217 -0.24873123 -0.46510189 -1.53002739 -0.48095488 -0.1885379\n",
      " -0.4928594  -0.35112252 -0.30644416 -0.16329591 -0.46396233 -0.30465062\n",
      " -0.30688181 -1.46937577 -0.28047316 -0.51420047 -0.36645885 -0.29337933\n",
      " -0.65136638 -0.5321619  -0.26008709 -0.32061901 -0.35285999 -0.49249076\n",
      " -0.09002364 -0.45295563 -0.21863485 -0.05061294 -0.49405315 -0.26040611\n",
      "  0.45078185 -0.83015747 -0.30155795 -0.40096022  0.26663523 -0.43220744\n",
      " -0.66567113 -0.31567277 -0.32302984 -0.35266789 -0.52186369 -1.34506999\n",
      " -0.42088974 -0.37290587 -0.54388176 -0.44948199 -0.33825701 -0.57385669\n",
      " -0.75008817 -0.53527523 -0.39933648  0.66194063 -0.30910552 -0.32335307\n",
      " -0.17346958 -0.73677648 -0.53139886 -0.32315277  0.02078295  1.38350075\n",
      " -0.31490042 -0.31075113 -0.79004319 -0.59687714 -0.59293254  0.053629\n",
      " -0.31405856 -0.47736864 -0.30466997 -0.28963162 -0.65143292 -0.59674516\n",
      " -0.29946803 -0.44273037 -0.231815   -0.34618743 -0.30020465]\n"
     ]
    }
   ],
   "source": [
    "# print real and predicted prices and difference\n",
    "print('Real Prices: ', real_prices)\n",
    "print('Predicted Prices: ', predicted_prices)\n",
    "print('Difference: ', real_prices - predicted_prices)"
   ]
  },
  {
   "cell_type": "code",
   "execution_count": 33,
   "metadata": {},
   "outputs": [
    {
     "data": {
      "text/plain": [
       "0.5746396549297818"
      ]
     },
     "execution_count": 33,
     "metadata": {},
     "output_type": "execute_result"
    }
   ],
   "source": [
    "# calculate RMSE\n",
    "from sklearn.metrics import mean_squared_error\n",
    "\n",
    "rmse = np.sqrt(mean_squared_error(real_prices, predicted_prices))\n",
    "rmse"
   ]
  },
  {
   "cell_type": "code",
   "execution_count": 34,
   "metadata": {},
   "outputs": [
    {
     "data": {
      "text/plain": [
       "0.4807924794109111"
      ]
     },
     "execution_count": 34,
     "metadata": {},
     "output_type": "execute_result"
    }
   ],
   "source": [
    "# calculate MAE\n",
    "from sklearn.metrics import mean_absolute_error\n",
    "\n",
    "mae = mean_absolute_error(real_prices, predicted_prices)\n",
    "mae"
   ]
  },
  {
   "cell_type": "markdown",
   "metadata": {},
   "source": [
    "Directional Accuracy adalah metrik yang digunakan untuk mengukur seberapa baik model memprediksi arah perubahan harga (naik atau turun) dibandingkan dengan nilai aktual. Ini adalah metrik yang sangat berguna dalam prediksi saham karena dalam banyak kasus, arah perubahan harga lebih penting daripada nilai absolut dari harga itu sendiri—terutama jika tujuannya adalah untuk membuat keputusan beli atau jual."
   ]
  },
  {
   "cell_type": "code",
   "execution_count": 35,
   "metadata": {},
   "outputs": [
    {
     "data": {
      "text/plain": [
       "0.8008849557522124"
      ]
     },
     "execution_count": 35,
     "metadata": {},
     "output_type": "execute_result"
    }
   ],
   "source": [
    "# direction accuracy\n",
    "direction_accuracy = np.mean(np.sign(real_prices[1:] - real_prices[:-1]) == np.sign(predicted_prices[1:] - predicted_prices[:-1]))\n",
    "direction_accuracy"
   ]
  }
 ],
 "metadata": {
  "kernelspec": {
   "display_name": "ML",
   "language": "python",
   "name": "ml"
  },
  "language_info": {
   "codemirror_mode": {
    "name": "ipython",
    "version": 3
   },
   "file_extension": ".py",
   "mimetype": "text/x-python",
   "name": "python",
   "nbconvert_exporter": "python",
   "pygments_lexer": "ipython3",
   "version": "3.8.19"
  }
 },
 "nbformat": 4,
 "nbformat_minor": 2
}
