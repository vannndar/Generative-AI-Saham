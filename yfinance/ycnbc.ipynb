{
 "cells": [
  {
   "cell_type": "code",
   "execution_count": 1,
   "metadata": {},
   "outputs": [
    {
     "name": "stdout",
     "output_type": "stream",
     "text": [
      "Collecting ycnbc\n",
      "  Downloading ycnbc-1.0.8-py2.py3-none-any.whl (12 kB)\n",
      "Requirement already satisfied: lxml>=4.5.1 in c:\\users\\thari\\anaconda3\\lib\\site-packages (from ycnbc) (4.9.1)\n",
      "Requirement already satisfied: requests>=2.23.0 in c:\\users\\thari\\anaconda3\\lib\\site-packages (from ycnbc) (2.32.3)\n",
      "Collecting cssselect>=1.2.0\n",
      "  Downloading cssselect-1.2.0-py2.py3-none-any.whl (18 kB)\n",
      "Requirement already satisfied: urllib3<3,>=1.21.1 in c:\\users\\thari\\anaconda3\\lib\\site-packages (from requests>=2.23.0->ycnbc) (1.26.11)\n",
      "Requirement already satisfied: certifi>=2017.4.17 in c:\\users\\thari\\anaconda3\\lib\\site-packages (from requests>=2.23.0->ycnbc) (2022.9.14)\n",
      "Requirement already satisfied: charset-normalizer<4,>=2 in c:\\users\\thari\\anaconda3\\lib\\site-packages (from requests>=2.23.0->ycnbc) (2.0.4)\n",
      "Requirement already satisfied: idna<4,>=2.5 in c:\\users\\thari\\anaconda3\\lib\\site-packages (from requests>=2.23.0->ycnbc) (3.3)\n",
      "Installing collected packages: cssselect, ycnbc\n",
      "  Attempting uninstall: cssselect\n",
      "    Found existing installation: cssselect 1.1.0\n",
      "    Uninstalling cssselect-1.1.0:\n",
      "      Successfully uninstalled cssselect-1.1.0\n",
      "Successfully installed cssselect-1.2.0 ycnbc-1.0.8\n"
     ]
    }
   ],
   "source": [
    "!pip install ycnbc --upgrade --no-cache-dir"
   ]
  },
  {
   "cell_type": "code",
   "execution_count": 3,
   "metadata": {},
   "outputs": [],
   "source": [
    "import ycnbc\n",
    "\n",
    "news = ycnbc.News()\n",
    "\n",
    "# Get trending news\n",
    "trending_ = news.trending()\n"
   ]
  },
  {
   "cell_type": "code",
   "execution_count": 8,
   "metadata": {},
   "outputs": [],
   "source": [
    "finance_ = news.finance()"
   ]
  },
  {
   "cell_type": "code",
   "execution_count": 13,
   "metadata": {},
   "outputs": [
    {
     "data": {
      "text/plain": [
       "{'headline': ['Chinese smartphone company Honor gets new investors as it gears up for IPO',\n",
       "  'Stocks making the biggest moves after hours: Microsoft, Meta Platforms and more',\n",
       "  'The Trump-linked stocks set to make wild moves as election approaches',\n",
       "  'Stocks making the biggest moves midday: Reddit, Super Micro, Garmin, Snap and more',\n",
       "  'Sigh of relief for UK tech founders as capital gains tax hike less than feared',\n",
       "  'Stocks making biggest moves premarket: Eli Lilly, Caterpillar, VinFast and more',\n",
       "  \"China's Xiaomi delivers 20,000 EVs in October, just months after launching its first car\",\n",
       "  'Stocks making the biggest moves after hours: Alphabet, Visa, Chipotle and more',\n",
       "  'How the stock market is likely to react to the election outcome',\n",
       "  'Stocks making biggest moves midday: VF Corporation, Pfizer, F5, JetBlue and more',\n",
       "  \"Stocks making biggest moves premarket: VF Corp., McDonald's, Pfizer and more\",\n",
       "  'Chinese IPOs in the U.S. and Hong Kong set to increase next year, analysts say',\n",
       "  'Stocks making the biggest moves after hours: Cadence Design, Ford and more',\n",
       "  \"JPMorgan is suing customers accused of theft in viral 'infinite money glitch'\",\n",
       "  'Bret Taylorâ\\x80\\x99s AI startup Sierra raises funding at $4.5 billion valuation',\n",
       "  'Stocks making biggest moves midday: Taiwan Semiconductor, Delta Air and more',\n",
       "  \"Stocks making biggest moves premarket: Exxon, Spotify, McDonald's and more\",\n",
       "  'Wise CEO fined Â£350,000 by UK regulators over failure to report tax issue',\n",
       "  'Stocks making the biggest moves midday: Tapestry, Capri, L3Harris and more',\n",
       "  'Stocks making the biggest moves premarket: Deckers Outdoor, Capital One and more',\n",
       "  'Chart analyst Carter Worth breaks down his most important technical indicator',\n",
       "  'Stocks making the biggest moves after hours: Dexcom, Capri, Skechers and more',\n",
       "  'Stocks making the biggest moves midday: Tesla, IBM, Molina Healthcare and more',\n",
       "  'Stocks making biggest moves premarket: Tesla, UPS, Lam Research, IBM and more',\n",
       "  'Chinese smartphone maker Oppo doubles down on AI in regular talks with Google, Microsoft',\n",
       "  'Stocks making the biggest moves after hours: Tesla, IBM, T-Mobile and more',\n",
       "  \"Stocks making biggest moves midday: McDonald's, Spirit Airlines, Boeing and more\",\n",
       "  'Apple, Goldman Sachs ordered to pay more than $89M for Apple Card failures',\n",
       "  'Watch CFPB Director Rohit Chopra speak at DC Fintech Week',\n",
       "  'Morgan Stanley expands OpenAI-powered chatbot tools to Wall Street division',\n",
       "  \"Stocks making biggest moves premarket: Boeing, McDonald's and more\",\n",
       "  'Chinese smartphone companies tout AI features ahead of Apple Intelligence launch',\n",
       "  \"Crypto firm Circle sees UK introducing stablecoin laws in 'months, not years'\"],\n",
       " 'time': ['an hour ago',\n",
       "  '5 hours ago',\n",
       "  'Wed, Oct 30th 2024',\n",
       "  'Wed, Oct 30th 2024',\n",
       "  'Wed, Oct 30th 2024',\n",
       "  'Wed, Oct 30th 2024',\n",
       "  'Wed, Oct 30th 2024',\n",
       "  'Tue, Oct 29th 2024',\n",
       "  'Tue, Oct 29th 2024',\n",
       "  'Tue, Oct 29th 2024',\n",
       "  'Tue, Oct 29th 2024',\n",
       "  'Mon, Oct 28th 2024',\n",
       "  'Mon, Oct 28th 2024',\n",
       "  'Mon, Oct 28th 2024',\n",
       "  'Mon, Oct 28th 2024',\n",
       "  'Mon, Oct 28th 2024',\n",
       "  'Mon, Oct 28th 2024',\n",
       "  'Tue, Oct 29th 2024',\n",
       "  'Sun, Oct 27th 2024',\n",
       "  'Fri, Oct 25th 2024',\n",
       "  'Fri, Oct 25th 2024',\n",
       "  'Fri, Oct 25th 2024',\n",
       "  'Thu, Oct 24th 2024',\n",
       "  'Thu, Oct 24th 2024',\n",
       "  'Thu, Oct 24th 2024',\n",
       "  'Thu, Oct 24th 2024',\n",
       "  'Wed, Oct 23rd 2024',\n",
       "  'Wed, Oct 23rd 2024',\n",
       "  'Wed, Oct 23rd 2024',\n",
       "  'Wed, Oct 23rd 2024',\n",
       "  'Wed, Oct 23rd 2024',\n",
       "  'Wed, Oct 23rd 2024',\n",
       "  'Wed, Oct 23rd 2024'],\n",
       " 'link': ['https://www.cnbc.com/2024/10/31/chinese-smartphone-company-honor-gets-new-investors-as-it-readies-ipo.html',\n",
       "  'https://www.cnbc.com/2024/10/30/stocks-making-the-biggest-moves-after-hours-msft-meta-sbux-coin.html',\n",
       "  'https://www.cnbc.com/2024/10/30/the-trump-linked-stocks-set-to-make-wild-moves-as-election-approaches.html',\n",
       "  'https://www.cnbc.com/2024/10/30/stocks-making-the-biggest-moves-midday-rddt-smci-grmn-snap-and-more.html',\n",
       "  'https://www.cnbc.com/2024/10/30/uks-labour-hikes-capital-gains-tax-by-less-than-feared.html',\n",
       "  'https://www.cnbc.com/2024/10/30/stocks-making-the-biggest-moves-premarket-lly-cat-vfs-googl-more.html',\n",
       "  'https://www.cnbc.com/2024/10/30/chinese-smartphone-company-xiaomi-delivers-20000-su7-evs-in-october.html',\n",
       "  'https://www.cnbc.com/2024/10/29/stocks-making-the-biggest-moves-after-hours-googl-v-cmg-amd.html',\n",
       "  'https://www.cnbc.com/2024/10/29/how-the-stock-market-is-likely-to-react-to-the-election-outcome.html',\n",
       "  'https://www.cnbc.com/2024/10/29/stocks-making-the-biggest-moves-midday-vffc-pfe-ffiv-jblu-and-more.html',\n",
       "  'https://www.cnbc.com/2024/10/29/stocks-making-the-biggest-moves-premarket-vfc-mcd-pfe-pypl-and-more.html',\n",
       "  'https://www.cnbc.com/2024/10/29/chinese-ipos-in-the-us-hong-kong-to-rise-next-year-analysts-say.html',\n",
       "  'https://www.cnbc.com/2024/10/28/stocks-making-the-biggest-moves-after-hours-cdns-f-boot-and-more.html',\n",
       "  'https://www.cnbc.com/2024/10/28/jpmorgan-suing-customers-over-infinite-money-glitch.html',\n",
       "  'https://www.cnbc.com/2024/10/28/bret-taylors-ai-startup-sierra-valued-at-4point5-billion-in-funding.html',\n",
       "  'https://www.cnbc.com/2024/10/28/stocks-making-the-biggest-moves-midday-mrna-hood-nio.html',\n",
       "  'https://www.cnbc.com/2024/10/28/stocks-making-the-biggest-moves-premarket-exxon-spotify-boeing-mcdonalds-and-more.html',\n",
       "  'https://www.cnbc.com/2024/10/28/wises-billionaire-ceo-fined-350000-by-regulators-over-tax-issue.html',\n",
       "  'https://www.cnbc.com/2024/10/25/stocks-making-the-biggest-moves-midday-tpr-cpri-lhx-and-more.html',\n",
       "  'https://www.cnbc.com/2024/10/25/stocks-making-the-biggest-moves-premarket-deck-cof-cpri-skx-and-more.html',\n",
       "  'https://www.cnbc.com/2024/10/25/chart-analyst-carter-worth-breaks-down-his-most-important-technical-indicator.html',\n",
       "  'https://www.cnbc.com/2024/10/24/stocks-making-the-biggest-moves-after-hours-dxcm-crpi-skx-cof.html',\n",
       "  'https://www.cnbc.com/2024/10/24/stocks-making-the-biggest-moves-midday-tsla-ibm-whr-moh.html',\n",
       "  'https://www.cnbc.com/2024/10/24/stocks-making-the-biggest-moves-premarket-tsla-ups-lrcx-ibm.html',\n",
       "  'https://www.cnbc.com/2024/10/24/chinese-smartphone-maker-oppo-in-weekly-ai-talks-with-google-microsoft.html',\n",
       "  'https://www.cnbc.com/2024/10/23/stocks-making-the-biggest-moves-after-hours-tsla-ibm-tmus.html',\n",
       "  'https://www.cnbc.com/2024/10/23/stocks-making-the-biggest-moves-midday-mcd-save-ba-t-and-more.html',\n",
       "  'https://www.cnbc.com/2024/10/23/apple-goldman-sachs-fines-apple-card-failures.html',\n",
       "  'https://www.cnbc.com/2024/10/23/watch-cfpb-director-rohit-chopra-speak-at-dc-fintech-week.html',\n",
       "  'https://www.cnbc.com/2024/10/23/morgan-stanley-rolls-out-openai-powered-chatbot-for-wall-street-division.html',\n",
       "  'https://www.cnbc.com/2024/10/23/stocks-making-the-biggest-moves-premarket-ba-mcd-enph-ko-and-more.html',\n",
       "  'https://www.cnbc.com/2024/10/23/chinese-smartphones-tout-ai-ahead-of-apple-intelligence-launch.html',\n",
       "  'https://www.cnbc.com/2024/10/23/uk-to-introduce-stablecoin-law-in-months-circles-dante-disparte.html']}"
      ]
     },
     "execution_count": 13,
     "metadata": {},
     "output_type": "execute_result"
    }
   ],
   "source": [
    "finance_"
   ]
  }
 ],
 "metadata": {
  "kernelspec": {
   "display_name": "base",
   "language": "python",
   "name": "python3"
  },
  "language_info": {
   "codemirror_mode": {
    "name": "ipython",
    "version": 3
   },
   "file_extension": ".py",
   "mimetype": "text/x-python",
   "name": "python",
   "nbconvert_exporter": "python",
   "pygments_lexer": "ipython3",
   "version": "3.9.13"
  }
 },
 "nbformat": 4,
 "nbformat_minor": 2
}
