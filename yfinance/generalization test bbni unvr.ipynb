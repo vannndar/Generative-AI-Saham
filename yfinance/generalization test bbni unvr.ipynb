{
 "cells": [
  {
   "cell_type": "markdown",
   "metadata": {},
   "source": [
    "# Import Data"
   ]
  },
  {
   "cell_type": "code",
   "execution_count": 1,
   "metadata": {},
   "outputs": [],
   "source": [
    "import pandas as pd\n",
    "import numpy as np "
   ]
  },
  {
   "cell_type": "code",
   "execution_count": 2,
   "metadata": {},
   "outputs": [],
   "source": [
    "data = pd.read_csv('Data/unvr_data_5y.csv')"
   ]
  },
  {
   "cell_type": "code",
   "execution_count": 3,
   "metadata": {},
   "outputs": [],
   "source": [
    "data['date_str'] = pd.to_datetime(data['date_str'])"
   ]
  },
  {
   "cell_type": "code",
   "execution_count": 4,
   "metadata": {},
   "outputs": [],
   "source": [
    "# rename columns\n",
    "data = data.rename(columns={'date_str': 'date'})"
   ]
  },
  {
   "cell_type": "code",
   "execution_count": 5,
   "metadata": {},
   "outputs": [
    {
     "data": {
      "text/html": [
       "<div>\n",
       "<style scoped>\n",
       "    .dataframe tbody tr th:only-of-type {\n",
       "        vertical-align: middle;\n",
       "    }\n",
       "\n",
       "    .dataframe tbody tr th {\n",
       "        vertical-align: top;\n",
       "    }\n",
       "\n",
       "    .dataframe thead th {\n",
       "        text-align: right;\n",
       "    }\n",
       "</style>\n",
       "<table border=\"1\" class=\"dataframe\">\n",
       "  <thead>\n",
       "    <tr style=\"text-align: right;\">\n",
       "      <th></th>\n",
       "      <th>Open</th>\n",
       "      <th>High</th>\n",
       "      <th>Low</th>\n",
       "      <th>Close</th>\n",
       "      <th>Volume</th>\n",
       "      <th>Dividends</th>\n",
       "      <th>Stock Splits</th>\n",
       "      <th>date</th>\n",
       "    </tr>\n",
       "  </thead>\n",
       "  <tbody>\n",
       "    <tr>\n",
       "      <th>0</th>\n",
       "      <td>7242.865112</td>\n",
       "      <td>7242.865112</td>\n",
       "      <td>7100.189901</td>\n",
       "      <td>7104.386230</td>\n",
       "      <td>9261000</td>\n",
       "      <td>0.0</td>\n",
       "      <td>0.0</td>\n",
       "      <td>2019-11-13</td>\n",
       "    </tr>\n",
       "    <tr>\n",
       "      <th>1</th>\n",
       "      <td>7108.582762</td>\n",
       "      <td>7184.116699</td>\n",
       "      <td>7108.582762</td>\n",
       "      <td>7184.116699</td>\n",
       "      <td>5768500</td>\n",
       "      <td>0.0</td>\n",
       "      <td>0.0</td>\n",
       "      <td>2019-11-14</td>\n",
       "    </tr>\n",
       "    <tr>\n",
       "      <th>2</th>\n",
       "      <td>7146.349692</td>\n",
       "      <td>7146.349692</td>\n",
       "      <td>7083.404744</td>\n",
       "      <td>7087.601074</td>\n",
       "      <td>9221000</td>\n",
       "      <td>0.0</td>\n",
       "      <td>0.0</td>\n",
       "      <td>2019-11-15</td>\n",
       "    </tr>\n",
       "    <tr>\n",
       "      <th>3</th>\n",
       "      <td>7087.601197</td>\n",
       "      <td>7095.993857</td>\n",
       "      <td>7049.834228</td>\n",
       "      <td>7075.012207</td>\n",
       "      <td>7779500</td>\n",
       "      <td>0.0</td>\n",
       "      <td>0.0</td>\n",
       "      <td>2019-11-18</td>\n",
       "    </tr>\n",
       "    <tr>\n",
       "      <th>4</th>\n",
       "      <td>7075.012123</td>\n",
       "      <td>7184.116699</td>\n",
       "      <td>7066.619463</td>\n",
       "      <td>7184.116699</td>\n",
       "      <td>6868000</td>\n",
       "      <td>0.0</td>\n",
       "      <td>0.0</td>\n",
       "      <td>2019-11-19</td>\n",
       "    </tr>\n",
       "  </tbody>\n",
       "</table>\n",
       "</div>"
      ],
      "text/plain": [
       "          Open         High          Low        Close   Volume  Dividends  \\\n",
       "0  7242.865112  7242.865112  7100.189901  7104.386230  9261000        0.0   \n",
       "1  7108.582762  7184.116699  7108.582762  7184.116699  5768500        0.0   \n",
       "2  7146.349692  7146.349692  7083.404744  7087.601074  9221000        0.0   \n",
       "3  7087.601197  7095.993857  7049.834228  7075.012207  7779500        0.0   \n",
       "4  7075.012123  7184.116699  7066.619463  7184.116699  6868000        0.0   \n",
       "\n",
       "   Stock Splits       date  \n",
       "0           0.0 2019-11-13  \n",
       "1           0.0 2019-11-14  \n",
       "2           0.0 2019-11-15  \n",
       "3           0.0 2019-11-18  \n",
       "4           0.0 2019-11-19  "
      ]
     },
     "execution_count": 5,
     "metadata": {},
     "output_type": "execute_result"
    }
   ],
   "source": [
    "data.head()"
   ]
  },
  {
   "cell_type": "code",
   "execution_count": 6,
   "metadata": {},
   "outputs": [
    {
     "name": "stdout",
     "output_type": "stream",
     "text": [
      "<class 'pandas.core.frame.DataFrame'>\n",
      "RangeIndex: 1213 entries, 0 to 1212\n",
      "Data columns (total 8 columns):\n",
      " #   Column        Non-Null Count  Dtype         \n",
      "---  ------        --------------  -----         \n",
      " 0   Open          1213 non-null   float64       \n",
      " 1   High          1213 non-null   float64       \n",
      " 2   Low           1213 non-null   float64       \n",
      " 3   Close         1213 non-null   float64       \n",
      " 4   Volume        1213 non-null   int64         \n",
      " 5   Dividends     1213 non-null   float64       \n",
      " 6   Stock Splits  1213 non-null   float64       \n",
      " 7   date          1213 non-null   datetime64[ns]\n",
      "dtypes: datetime64[ns](1), float64(6), int64(1)\n",
      "memory usage: 75.9 KB\n"
     ]
    }
   ],
   "source": [
    "data.info()"
   ]
  },
  {
   "cell_type": "code",
   "execution_count": 7,
   "metadata": {},
   "outputs": [
    {
     "data": {
      "text/plain": [
       "Open            0\n",
       "High            0\n",
       "Low             0\n",
       "Close           0\n",
       "Volume          0\n",
       "Dividends       0\n",
       "Stock Splits    0\n",
       "date            0\n",
       "dtype: int64"
      ]
     },
     "execution_count": 7,
     "metadata": {},
     "output_type": "execute_result"
    }
   ],
   "source": [
    "data.isnull().sum()"
   ]
  },
  {
   "cell_type": "markdown",
   "metadata": {},
   "source": [
    "# Feature Engineering"
   ]
  },
  {
   "cell_type": "code",
   "execution_count": 8,
   "metadata": {},
   "outputs": [
    {
     "data": {
      "text/plain": [
       "Dividends\n",
       "0.0      1202\n",
       "71.0        2\n",
       "86.0        1\n",
       "107.0       1\n",
       "87.0        1\n",
       "100.0       1\n",
       "66.0        1\n",
       "84.0        1\n",
       "69.0        1\n",
       "63.0        1\n",
       "77.0        1\n",
       "Name: count, dtype: int64"
      ]
     },
     "execution_count": 8,
     "metadata": {},
     "output_type": "execute_result"
    }
   ],
   "source": [
    "data['Dividends'].value_counts()"
   ]
  },
  {
   "cell_type": "code",
   "execution_count": 9,
   "metadata": {},
   "outputs": [
    {
     "data": {
      "text/plain": [
       "Stock Splits\n",
       "0.0    1212\n",
       "5.0       1\n",
       "Name: count, dtype: int64"
      ]
     },
     "execution_count": 9,
     "metadata": {},
     "output_type": "execute_result"
    }
   ],
   "source": [
    "data['Stock Splits'].value_counts()"
   ]
  },
  {
   "cell_type": "code",
   "execution_count": 10,
   "metadata": {},
   "outputs": [],
   "source": [
    "data.drop(['Dividends', 'Stock Splits'], axis=1, inplace=True)"
   ]
  },
  {
   "cell_type": "code",
   "execution_count": 11,
   "metadata": {},
   "outputs": [],
   "source": [
    "# 1. Menghitung Return Harian\n",
    "data['return'] = data['Close'].pct_change()\n",
    "data['log_return'] = np.log(data['Close'] / data['Close'].shift(1))"
   ]
  },
  {
   "cell_type": "code",
   "execution_count": 12,
   "metadata": {},
   "outputs": [],
   "source": [
    "# 2. Moving Averages\n",
    "data['ma_5'] = data['Close'].rolling(window=5).mean()\n",
    "data['ma_10'] = data['Close'].rolling(window=10).mean()\n",
    "data['ma_20'] = data['Close'].rolling(window=20).mean()"
   ]
  },
  {
   "cell_type": "code",
   "execution_count": 13,
   "metadata": {},
   "outputs": [],
   "source": [
    "# 3. Exponential Moving Average (EMA)\n",
    "data['ema_10'] = data['Close'].ewm(span=10, adjust=False).mean()\n",
    "data['ema_20'] = data['Close'].ewm(span=20, adjust=False).mean()"
   ]
  },
  {
   "cell_type": "code",
   "execution_count": 14,
   "metadata": {},
   "outputs": [],
   "source": [
    "# 4. Bollinger Bands\n",
    "data['bollinger_mid'] = data['Close'].rolling(window=20).mean()\n",
    "data['bollinger_std'] = data['Close'].rolling(window=20).std()\n",
    "data['bollinger_upper'] = data['bollinger_mid'] + (2 * data['bollinger_std'])\n",
    "data['bollinger_lower'] = data['bollinger_mid'] - (2 * data['bollinger_std'])"
   ]
  },
  {
   "cell_type": "code",
   "execution_count": 15,
   "metadata": {},
   "outputs": [],
   "source": [
    "# 10. Penambahan Fitur Waktu\n",
    "data['day_of_week'] = data['date'].dt.dayofweek  # 0 = Monday, 6 = Sunday\n",
    "data['month'] = data['date'].dt.month"
   ]
  },
  {
   "cell_type": "code",
   "execution_count": 16,
   "metadata": {},
   "outputs": [],
   "source": [
    "# Hapus data yang mengandung nilai NaN akibat perhitungan rolling\n",
    "data = data.dropna().reset_index(drop=True)"
   ]
  },
  {
   "cell_type": "code",
   "execution_count": 17,
   "metadata": {},
   "outputs": [
    {
     "data": {
      "text/html": [
       "<div>\n",
       "<style scoped>\n",
       "    .dataframe tbody tr th:only-of-type {\n",
       "        vertical-align: middle;\n",
       "    }\n",
       "\n",
       "    .dataframe tbody tr th {\n",
       "        vertical-align: top;\n",
       "    }\n",
       "\n",
       "    .dataframe thead th {\n",
       "        text-align: right;\n",
       "    }\n",
       "</style>\n",
       "<table border=\"1\" class=\"dataframe\">\n",
       "  <thead>\n",
       "    <tr style=\"text-align: right;\">\n",
       "      <th></th>\n",
       "      <th>Open</th>\n",
       "      <th>High</th>\n",
       "      <th>Low</th>\n",
       "      <th>Close</th>\n",
       "      <th>Volume</th>\n",
       "      <th>date</th>\n",
       "      <th>return</th>\n",
       "      <th>log_return</th>\n",
       "      <th>ma_5</th>\n",
       "      <th>ma_10</th>\n",
       "      <th>ma_20</th>\n",
       "      <th>ema_10</th>\n",
       "      <th>ema_20</th>\n",
       "      <th>bollinger_mid</th>\n",
       "      <th>bollinger_std</th>\n",
       "      <th>bollinger_upper</th>\n",
       "      <th>bollinger_lower</th>\n",
       "      <th>day_of_week</th>\n",
       "      <th>month</th>\n",
       "    </tr>\n",
       "  </thead>\n",
       "  <tbody>\n",
       "    <tr>\n",
       "      <th>0</th>\n",
       "      <td>7167.923729</td>\n",
       "      <td>7176.401462</td>\n",
       "      <td>7134.012795</td>\n",
       "      <td>7150.968262</td>\n",
       "      <td>10179000</td>\n",
       "      <td>2019-12-10</td>\n",
       "      <td>-0.002365</td>\n",
       "      <td>-0.002368</td>\n",
       "      <td>7150.120703</td>\n",
       "      <td>7109.336621</td>\n",
       "      <td>7101.406274</td>\n",
       "      <td>7130.713569</td>\n",
       "      <td>7113.287509</td>\n",
       "      <td>7101.406274</td>\n",
       "      <td>86.225254</td>\n",
       "      <td>7273.856782</td>\n",
       "      <td>6928.955767</td>\n",
       "      <td>1</td>\n",
       "      <td>12</td>\n",
       "    </tr>\n",
       "    <tr>\n",
       "      <th>1</th>\n",
       "      <td>7206.072839</td>\n",
       "      <td>7206.072839</td>\n",
       "      <td>7091.623446</td>\n",
       "      <td>7138.250977</td>\n",
       "      <td>8613500</td>\n",
       "      <td>2019-12-11</td>\n",
       "      <td>-0.001778</td>\n",
       "      <td>-0.001780</td>\n",
       "      <td>7153.511523</td>\n",
       "      <td>7134.963672</td>\n",
       "      <td>7103.099512</td>\n",
       "      <td>7132.084006</td>\n",
       "      <td>7115.664982</td>\n",
       "      <td>7103.099512</td>\n",
       "      <td>86.618463</td>\n",
       "      <td>7276.336438</td>\n",
       "      <td>6929.862586</td>\n",
       "      <td>2</td>\n",
       "      <td>12</td>\n",
       "    </tr>\n",
       "    <tr>\n",
       "      <th>2</th>\n",
       "      <td>7078.907706</td>\n",
       "      <td>7138.251842</td>\n",
       "      <td>6951.741699</td>\n",
       "      <td>6951.741699</td>\n",
       "      <td>13365500</td>\n",
       "      <td>2019-12-12</td>\n",
       "      <td>-0.026128</td>\n",
       "      <td>-0.026476</td>\n",
       "      <td>7114.514063</td>\n",
       "      <td>7128.511426</td>\n",
       "      <td>7091.480762</td>\n",
       "      <td>7099.294496</td>\n",
       "      <td>7100.053241</td>\n",
       "      <td>7091.480762</td>\n",
       "      <td>90.669411</td>\n",
       "      <td>7272.819584</td>\n",
       "      <td>6910.141940</td>\n",
       "      <td>3</td>\n",
       "      <td>12</td>\n",
       "    </tr>\n",
       "    <tr>\n",
       "      <th>3</th>\n",
       "      <td>7019.563670</td>\n",
       "      <td>7036.519138</td>\n",
       "      <td>6951.741799</td>\n",
       "      <td>6989.891602</td>\n",
       "      <td>12891500</td>\n",
       "      <td>2019-12-13</td>\n",
       "      <td>0.005488</td>\n",
       "      <td>0.005473</td>\n",
       "      <td>7079.755273</td>\n",
       "      <td>7125.874170</td>\n",
       "      <td>7086.595288</td>\n",
       "      <td>7079.403061</td>\n",
       "      <td>7089.561656</td>\n",
       "      <td>7086.595288</td>\n",
       "      <td>93.478353</td>\n",
       "      <td>7273.551995</td>\n",
       "      <td>6899.638581</td>\n",
       "      <td>4</td>\n",
       "      <td>12</td>\n",
       "    </tr>\n",
       "    <tr>\n",
       "      <th>4</th>\n",
       "      <td>6994.130761</td>\n",
       "      <td>7015.325097</td>\n",
       "      <td>6934.786621</td>\n",
       "      <td>6934.786621</td>\n",
       "      <td>12503000</td>\n",
       "      <td>2019-12-16</td>\n",
       "      <td>-0.007884</td>\n",
       "      <td>-0.007915</td>\n",
       "      <td>7033.127832</td>\n",
       "      <td>7100.101953</td>\n",
       "      <td>7079.584009</td>\n",
       "      <td>7053.109163</td>\n",
       "      <td>7074.821177</td>\n",
       "      <td>7079.584009</td>\n",
       "      <td>99.460225</td>\n",
       "      <td>7278.504459</td>\n",
       "      <td>6880.663559</td>\n",
       "      <td>0</td>\n",
       "      <td>12</td>\n",
       "    </tr>\n",
       "  </tbody>\n",
       "</table>\n",
       "</div>"
      ],
      "text/plain": [
       "          Open         High          Low        Close    Volume       date  \\\n",
       "0  7167.923729  7176.401462  7134.012795  7150.968262  10179000 2019-12-10   \n",
       "1  7206.072839  7206.072839  7091.623446  7138.250977   8613500 2019-12-11   \n",
       "2  7078.907706  7138.251842  6951.741699  6951.741699  13365500 2019-12-12   \n",
       "3  7019.563670  7036.519138  6951.741799  6989.891602  12891500 2019-12-13   \n",
       "4  6994.130761  7015.325097  6934.786621  6934.786621  12503000 2019-12-16   \n",
       "\n",
       "     return  log_return         ma_5        ma_10        ma_20       ema_10  \\\n",
       "0 -0.002365   -0.002368  7150.120703  7109.336621  7101.406274  7130.713569   \n",
       "1 -0.001778   -0.001780  7153.511523  7134.963672  7103.099512  7132.084006   \n",
       "2 -0.026128   -0.026476  7114.514063  7128.511426  7091.480762  7099.294496   \n",
       "3  0.005488    0.005473  7079.755273  7125.874170  7086.595288  7079.403061   \n",
       "4 -0.007884   -0.007915  7033.127832  7100.101953  7079.584009  7053.109163   \n",
       "\n",
       "        ema_20  bollinger_mid  bollinger_std  bollinger_upper  \\\n",
       "0  7113.287509    7101.406274      86.225254      7273.856782   \n",
       "1  7115.664982    7103.099512      86.618463      7276.336438   \n",
       "2  7100.053241    7091.480762      90.669411      7272.819584   \n",
       "3  7089.561656    7086.595288      93.478353      7273.551995   \n",
       "4  7074.821177    7079.584009      99.460225      7278.504459   \n",
       "\n",
       "   bollinger_lower  day_of_week  month  \n",
       "0      6928.955767            1     12  \n",
       "1      6929.862586            2     12  \n",
       "2      6910.141940            3     12  \n",
       "3      6899.638581            4     12  \n",
       "4      6880.663559            0     12  "
      ]
     },
     "execution_count": 17,
     "metadata": {},
     "output_type": "execute_result"
    }
   ],
   "source": [
    "data.head()"
   ]
  },
  {
   "cell_type": "code",
   "execution_count": 18,
   "metadata": {},
   "outputs": [
    {
     "data": {
      "text/plain": [
       "Open               0\n",
       "High               0\n",
       "Low                0\n",
       "Close              0\n",
       "Volume             0\n",
       "date               0\n",
       "return             0\n",
       "log_return         0\n",
       "ma_5               0\n",
       "ma_10              0\n",
       "ma_20              0\n",
       "ema_10             0\n",
       "ema_20             0\n",
       "bollinger_mid      0\n",
       "bollinger_std      0\n",
       "bollinger_upper    0\n",
       "bollinger_lower    0\n",
       "day_of_week        0\n",
       "month              0\n",
       "dtype: int64"
      ]
     },
     "execution_count": 18,
     "metadata": {},
     "output_type": "execute_result"
    }
   ],
   "source": [
    "data.isnull().sum()"
   ]
  },
  {
   "cell_type": "markdown",
   "metadata": {},
   "source": [
    "# Modelling"
   ]
  },
  {
   "cell_type": "markdown",
   "metadata": {},
   "source": [
    "## Preprocessing"
   ]
  },
  {
   "cell_type": "code",
   "execution_count": 19,
   "metadata": {},
   "outputs": [],
   "source": [
    "dataUsed = data[['Close', 'Volume', 'ma_5', 'ma_10', 'ema_10', 'bollinger_mid', 'bollinger_std', 'bollinger_upper', 'bollinger_lower', 'day_of_week', 'month']]\n"
   ]
  },
  {
   "cell_type": "code",
   "execution_count": 20,
   "metadata": {},
   "outputs": [
    {
     "data": {
      "text/plain": [
       "array([[9.78555577e-01, 4.05693337e-02, 9.87434187e-01, ...,\n",
       "        9.92252767e-01, 2.50000000e-01, 1.00000000e+00],\n",
       "       [9.76257821e-01, 3.43298906e-02, 9.88054672e-01, ...,\n",
       "        9.92419996e-01, 5.00000000e-01, 1.00000000e+00],\n",
       "       [9.42559379e-01, 5.32694204e-02, 9.80918541e-01, ...,\n",
       "        9.88783263e-01, 7.50000000e-01, 1.00000000e+00],\n",
       "       ...,\n",
       "       [9.03398552e-04, 8.95701859e-02, 0.00000000e+00, ...,\n",
       "        3.93390085e-03, 0.00000000e+00, 9.09090909e-01],\n",
       "       [1.62611739e-02, 9.69232032e-02, 1.64690676e-03, ...,\n",
       "        6.61107403e-04, 2.50000000e-01, 9.09090909e-01],\n",
       "       [1.17441812e-02, 8.98228724e-02, 3.29381353e-03, ...,\n",
       "        0.00000000e+00, 5.00000000e-01, 9.09090909e-01]])"
      ]
     },
     "execution_count": 20,
     "metadata": {},
     "output_type": "execute_result"
    }
   ],
   "source": [
    "from sklearn.preprocessing import MinMaxScaler\n",
    "\n",
    "# preprocessing\n",
    "scaler = MinMaxScaler(feature_range=(0, 1))\n",
    "data_scaled = scaler.fit_transform(dataUsed)\n",
    "\n",
    "data_scaled"
   ]
  },
  {
   "cell_type": "markdown",
   "metadata": {},
   "source": [
    "## Train Test Sequence"
   ]
  },
  {
   "cell_type": "code",
   "execution_count": 21,
   "metadata": {},
   "outputs": [],
   "source": [
    "import numpy as np\n",
    "\n",
    "sequence_length = 60\n",
    "x = []\n",
    "y = []\n",
    "\n",
    "# Target tetap kolom 0 (harga close), tetapi kita hanya menggunakan kolom lain sebagai input\n",
    "for i in range(sequence_length, len(data_scaled)):\n",
    "    x.append(data_scaled[i-sequence_length:i, 1:])  \n",
    "    y.append(data_scaled[i, 0]) \n",
    "\n",
    "# Konversi ke array numpy\n",
    "x, y = np.array(x), np.array(y)\n"
   ]
  },
  {
   "cell_type": "code",
   "execution_count": 22,
   "metadata": {},
   "outputs": [
    {
     "name": "stdout",
     "output_type": "stream",
     "text": [
      "(1134, 60, 10) (1134,)\n"
     ]
    }
   ],
   "source": [
    "print(x.shape, y.shape)"
   ]
  },
  {
   "cell_type": "markdown",
   "metadata": {},
   "source": [
    "## LSTM"
   ]
  },
  {
   "cell_type": "code",
   "execution_count": 23,
   "metadata": {},
   "outputs": [],
   "source": [
    "from sklearn.model_selection import train_test_split\n",
    "\n",
    "# train and test split\n",
    "x_train, x_test, y_train, y_test = train_test_split(x, y, test_size=0.2, random_state=42)"
   ]
  },
  {
   "cell_type": "code",
   "execution_count": 24,
   "metadata": {},
   "outputs": [],
   "source": [
    "from tensorflow.keras.models import Sequential\n",
    "from tensorflow.keras.layers import LSTM, Dense, Dropout"
   ]
  },
  {
   "cell_type": "code",
   "execution_count": 25,
   "metadata": {},
   "outputs": [],
   "source": [
    "from keras.models import load_model\n",
    "\n",
    "model = load_model('Model/lstm_model_bbni.h5')"
   ]
  },
  {
   "cell_type": "code",
   "execution_count": 26,
   "metadata": {},
   "outputs": [
    {
     "data": {
      "text/plain": [
       "(907, 60, 10)"
      ]
     },
     "execution_count": 26,
     "metadata": {},
     "output_type": "execute_result"
    }
   ],
   "source": [
    "x_train.shape"
   ]
  },
  {
   "cell_type": "code",
   "execution_count": 27,
   "metadata": {},
   "outputs": [
    {
     "name": "stdout",
     "output_type": "stream",
     "text": [
      "8/8 [==============================] - 1s 10ms/step\n"
     ]
    }
   ],
   "source": [
    "# prediction\n",
    "predicted_prices =  model.predict(x_test)\n"
   ]
  },
  {
   "cell_type": "code",
   "execution_count": 28,
   "metadata": {},
   "outputs": [],
   "source": [
    "# Dapatkan jumlah kolom yang diharapkan oleh scaler\n",
    "expected_columns = scaler.min_.shape[0]  # Ini adalah 13 dalam kasus Anda\n",
    "\n",
    "# Tambahkan kolom nol untuk menyesuaikan jumlah kolom\n",
    "predicted_prices_padded = np.hstack([np.zeros((predicted_prices.shape[0], expected_columns - 1)), predicted_prices])\n",
    "\n",
    "# Inverse transform dan ambil hanya kolom harga 'Close'\n",
    "predicted_prices = scaler.inverse_transform(predicted_prices_padded)[:, -1]  # Ambil hanya kolom harga\n"
   ]
  },
  {
   "cell_type": "code",
   "execution_count": 29,
   "metadata": {},
   "outputs": [],
   "source": [
    "expected_columns = scaler.min_.shape[0]  # Ini adalah 13 dalam kasus Anda\n",
    "\n",
    "# Tambahkan kolom nol untuk menyesuaikan jumlah kolom\n",
    "real_prices_padded = np.hstack([np.zeros((y_test.shape[0], expected_columns - 1)), y_test.reshape(-1,1)])\n",
    "\n",
    "# Inverse transform dan ambil hanya kolom harga 'Close'\n",
    "real_prices = scaler.inverse_transform(real_prices_padded)[:, -1]  # Ambil hanya kolom harga\n"
   ]
  },
  {
   "cell_type": "code",
   "execution_count": 30,
   "metadata": {},
   "outputs": [
    {
     "data": {
      "text/plain": [
       "array([ 5.89146672,  4.17482487,  6.05964142,  4.6847432 ,  5.46803517,\n",
       "       11.55026156,  4.70257517, 11.11541269,  3.47834428,  2.56804691,\n",
       "        5.65213492, 11.24178245,  6.24066387,  5.78100649,  5.37598385,\n",
       "        4.33053756,  6.18602573,  4.91706885,  5.28393494,  5.45154242,\n",
       "       11.37954914,  7.35008741,  2.7617274 , 10.91008538, 11.03812139,\n",
       "       11.53664521,  8.60186105,  7.43641843,  8.04072201, 11.45239967,\n",
       "       11.59294185,  5.00572798,  4.78384531,  6.25400559,  4.33053756,\n",
       "        9.51473109,  2.8391992 ,  2.95766466,  4.82740288,  6.27694503,\n",
       "        7.9975565 ,  5.70807637,  4.30804841, 10.58743094,  4.36514373,\n",
       "        1.72542904, 11.03116716,  6.39666625,  3.35516002,  5.87305442,\n",
       "        4.67095459,  3.40079921, 10.41477374,  5.02252012,  5.39439566,\n",
       "       10.86267513,  2.14195051,  2.42104592,  9.93996281,  6.27183854,\n",
       "        4.38417566,  3.51708019, 11.07329041,  4.95223108,  1.4372449 ,\n",
       "        2.56804691,  6.51667957,  6.31322328,  5.13055521,  6.33136288,\n",
       "        5.36237963,  6.56062629,  6.21784768,  5.32135298,  6.13182526,\n",
       "        5.02252012,  8.8608483 ,  6.42535656,  3.13653758, 11.20883575,\n",
       "        7.17586682, 10.18870311,  9.81046822,  2.24217301,  6.02033538,\n",
       "        4.13685707,  5.22870483, 10.06945741, 10.78204936,  6.86824656,\n",
       "        5.37408808,  5.65213492,  5.81354657, 11.20883575,  6.27183854,\n",
       "        4.8467376 ,  8.94717836,  5.46197958,  2.8004633 ,  4.75884561,\n",
       "        6.18602573,  7.32432202,  4.60064129,  4.88189352,  6.31489633,\n",
       "        9.98312639,  4.13193399,  5.95042724,  4.65062226,  4.72368969,\n",
       "        3.90444068,  6.56717972,  6.20443706,  2.47120691,  6.24125585,\n",
       "        5.4496253 ,  5.37598385,  5.08142484, 11.28390667, 11.55026156,\n",
       "       11.36815317, 10.11262098,  5.09983472,  5.92828551,  5.96856879,\n",
       "        7.65224017,  5.16622158,  2.9974142 ,  4.49836678,  6.60345991,\n",
       "        6.73640833,  6.12917982, 10.19895006,  4.38417566,  5.42682317,\n",
       "       11.15753497,  4.07843612,  5.09489077,  4.38864166,  5.58502798,\n",
       "        7.30692286,  4.18543138,  5.89600939,  5.16622158, 10.86267513,\n",
       "        2.18068642, 11.33686885,  9.37882377,  6.27694503,  9.20616561,\n",
       "        6.34089559, 11.25151216,  5.07705879,  7.52274557,  5.46803517,\n",
       "       11.16615546,  2.78109511,  4.11410105,  6.11368565,  4.36927347,\n",
       "        5.76259515,  4.93439862,  6.02218311,  7.60907466,  3.54345987,\n",
       "        2.08317486,  4.48858515,  5.91414899,  4.4603034 ,  2.38129639,\n",
       "        4.76481338,  4.75884561,  6.04001606, 10.90479741,  8.90401285,\n",
       "        1.96392625,  3.98191297,  4.19496117,  5.27321587,  5.21029495,\n",
       "       11.19966017,  9.51473109,  4.32707986, 11.25151216, 11.41027642,\n",
       "        4.44127146,  6.32331787,  3.97144136,  6.20438466,  4.98736371,\n",
       "        4.26998454,  9.72534637,  5.46803517,  6.51257846,  2.1229244 ,\n",
       "        4.59352645,  5.65213492,  5.71640767,  6.16511258,  4.4603034 ,\n",
       "        5.91518737, 11.53664521,  6.33330572,  7.34718965, 11.49452487,\n",
       "        7.95439196,  1.56643089,  6.33136288, 11.42222555, 10.82472771,\n",
       "        6.22252427,  6.0420637 ,  8.1270511 ,  2.48067023,  4.7739055 ,\n",
       "       10.15578552,  4.6533759 ,  4.68868564,  4.79173796,  4.7412674 ,\n",
       "        1.08943646,  1.78505334, 11.11541269,  4.15579293, 11.11541269,\n",
       "        6.51257846,  4.82740288])"
      ]
     },
     "execution_count": 30,
     "metadata": {},
     "output_type": "execute_result"
    }
   ],
   "source": [
    "real_prices"
   ]
  },
  {
   "cell_type": "markdown",
   "metadata": {},
   "source": [
    "# Evaluation"
   ]
  },
  {
   "cell_type": "code",
   "execution_count": 31,
   "metadata": {},
   "outputs": [
    {
     "data": {
      "image/png": "[encoded data removed]",
      "text/plain": [
       "<Figure size 640x480 with 1 Axes>"
      ]
     },
     "metadata": {},
     "output_type": "display_data"
    }
   ],
   "source": [
    "# conpare real and predicted prices\n",
    "import matplotlib.pyplot as plt\n",
    "\n",
    "plt.plot(real_prices, color='red', label='Real Prices')\n",
    "plt.plot(predicted_prices, color='blue', label='Predicted Prices')\n",
    "plt.title('Stock Prices Prediction')\n",
    "plt.xlabel('Time')\n",
    "plt.ylabel('Stock Prices')\n",
    "plt.legend()\n",
    "plt.show()"
   ]
  },
  {
   "cell_type": "code",
   "execution_count": 32,
   "metadata": {},
   "outputs": [
    {
     "name": "stdout",
     "output_type": "stream",
     "text": [
      "Real Prices:  [ 5.89146672  4.17482487  6.05964142  4.6847432   5.46803517 11.55026156\n",
      "  4.70257517 11.11541269  3.47834428  2.56804691  5.65213492 11.24178245\n",
      "  6.24066387  5.78100649  5.37598385  4.33053756  6.18602573  4.91706885\n",
      "  5.28393494  5.45154242 11.37954914  7.35008741  2.7617274  10.91008538\n",
      " 11.03812139 11.53664521  8.60186105  7.43641843  8.04072201 11.45239967\n",
      " 11.59294185  5.00572798  4.78384531  6.25400559  4.33053756  9.51473109\n",
      "  2.8391992   2.95766466  4.82740288  6.27694503  7.9975565   5.70807637\n",
      "  4.30804841 10.58743094  4.36514373  1.72542904 11.03116716  6.39666625\n",
      "  3.35516002  5.87305442  4.67095459  3.40079921 10.41477374  5.02252012\n",
      "  5.39439566 10.86267513  2.14195051  2.42104592  9.93996281  6.27183854\n",
      "  4.38417566  3.51708019 11.07329041  4.95223108  1.4372449   2.56804691\n",
      "  6.51667957  6.31322328  5.13055521  6.33136288  5.36237963  6.56062629\n",
      "  6.21784768  5.32135298  6.13182526  5.02252012  8.8608483   6.42535656\n",
      "  3.13653758 11.20883575  7.17586682 10.18870311  9.81046822  2.24217301\n",
      "  6.02033538  4.13685707  5.22870483 10.06945741 10.78204936  6.86824656\n",
      "  5.37408808  5.65213492  5.81354657 11.20883575  6.27183854  4.8467376\n",
      "  8.94717836  5.46197958  2.8004633   4.75884561  6.18602573  7.32432202\n",
      "  4.60064129  4.88189352  6.31489633  9.98312639  4.13193399  5.95042724\n",
      "  4.65062226  4.72368969  3.90444068  6.56717972  6.20443706  2.47120691\n",
      "  6.24125585  5.4496253   5.37598385  5.08142484 11.28390667 11.55026156\n",
      " 11.36815317 10.11262098  5.09983472  5.92828551  5.96856879  7.65224017\n",
      "  5.16622158  2.9974142   4.49836678  6.60345991  6.73640833  6.12917982\n",
      " 10.19895006  4.38417566  5.42682317 11.15753497  4.07843612  5.09489077\n",
      "  4.38864166  5.58502798  7.30692286  4.18543138  5.89600939  5.16622158\n",
      " 10.86267513  2.18068642 11.33686885  9.37882377  6.27694503  9.20616561\n",
      "  6.34089559 11.25151216  5.07705879  7.52274557  5.46803517 11.16615546\n",
      "  2.78109511  4.11410105  6.11368565  4.36927347  5.76259515  4.93439862\n",
      "  6.02218311  7.60907466  3.54345987  2.08317486  4.48858515  5.91414899\n",
      "  4.4603034   2.38129639  4.76481338  4.75884561  6.04001606 10.90479741\n",
      "  8.90401285  1.96392625  3.98191297  4.19496117  5.27321587  5.21029495\n",
      " 11.19966017  9.51473109  4.32707986 11.25151216 11.41027642  4.44127146\n",
      "  6.32331787  3.97144136  6.20438466  4.98736371  4.26998454  9.72534637\n",
      "  5.46803517  6.51257846  2.1229244   4.59352645  5.65213492  5.71640767\n",
      "  6.16511258  4.4603034   5.91518737 11.53664521  6.33330572  7.34718965\n",
      " 11.49452487  7.95439196  1.56643089  6.33136288 11.42222555 10.82472771\n",
      "  6.22252427  6.0420637   8.1270511   2.48067023  4.7739055  10.15578552\n",
      "  4.6533759   4.68868564  4.79173796  4.7412674   1.08943646  1.78505334\n",
      " 11.11541269  4.15579293 11.11541269  6.51257846  4.82740288]\n",
      "Predicted Prices:  [ 6.1106993   4.65716803  5.97355217  5.11036128  5.58689505 11.71461147\n",
      "  4.08893064 11.41535133  3.05492494  3.21218908  5.58637774 11.49240869\n",
      "  6.4104656   5.87142435  5.81998426  4.71403068  6.85966134  5.74531609\n",
      "  5.51377159  5.5820393  11.69630963  7.54465216  3.407083   11.41343945\n",
      " 11.30966496 10.71760547  9.29907221  7.51821566  8.57832545 11.51366228\n",
      " 11.71402466  5.34280533  5.08785999  5.80106282  4.6202139   9.40193403\n",
      "  2.95508599  3.46997355  5.4093385   6.31483233  8.51234072  6.6345101\n",
      "  5.32587445 11.17495555  5.15146077  2.69753133 11.54465359  6.3559764\n",
      "  3.46473277  6.7036649   5.11318353  3.72754002 10.95337695  5.03193918\n",
      "  5.71254992 11.74006122  3.0439041   3.05265933 10.81575972  6.12833893\n",
      "  5.11364019  4.12986425 11.11171079  5.60156196  2.27034727  2.20940581\n",
      "  6.87120932  6.88597393  5.30107051  6.54920596  4.27312762  6.78126776\n",
      "  6.88687742  6.00050369  6.64800602  5.46559501  9.53221059  6.57490879\n",
      "  3.68391496 11.74516547  8.12780201  9.07813156 10.29774618  3.02445863\n",
      "  6.61665279  4.67037547  5.41254857 10.59901327 11.18666416  8.13001549\n",
      "  6.71148288  5.56723437  6.8476249  11.38089359  6.3517009   4.82782778\n",
      "  9.46594459  6.80481678  2.9546136   5.11023343  6.40918839  9.06379771\n",
      "  5.15622342  5.32160288  6.49880409 10.87164873  4.72973943  6.52831495\n",
      "  5.01375437  5.19803756  3.15241992  6.78619039  6.46974236  2.94926316\n",
      "  6.52465379  5.55255499  6.05648547  5.63057157 10.95607036 11.712973\n",
      " 11.65988296 10.4409076   5.75695127  6.36918843  6.27265888  7.80137759\n",
      "  5.51504683  3.58949694  4.66704771  6.39707327  6.29772508  6.07291478\n",
      " 10.34084737  4.66136158  5.88745075 11.44430029  4.52501237  5.24961764\n",
      "  4.47817954  5.72679296  7.99962091  4.11755145  6.18112049  5.80770358\n",
      " 11.4885233   2.54821515 11.31622475 10.28512555  6.58652169  9.31434691\n",
      "  6.80980629 11.40713865  5.40264463  7.63578176  6.28889018 11.34751964\n",
      "  3.04484659  4.58026344  6.23643056  4.5290702   6.10167032  5.62318763\n",
      "  6.39521646  7.59414071  3.6071851   2.28872123  3.77919778  6.53117949\n",
      "  4.7671594   2.86170948  5.26153737  5.15952069  5.93437243 11.43491727\n",
      "  9.61632997  2.33761084  4.29465067  4.53060901  5.38315541  5.29537225\n",
      " 10.59481972  9.0118472   4.67497224 11.32067925 11.24232042  4.65290695\n",
      "  6.80933225  4.18525922  6.3761839   5.62613904  4.63331708  9.91066355\n",
      "  5.93728155  5.52958164  2.30000532  4.97442251  6.04760009  6.03654155\n",
      "  7.17363888  4.67203721  4.64304039 11.60336387  6.4518562   6.57072049\n",
      " 11.74411511  8.64064574  2.65201685  6.65993625 11.63758624 11.34613162\n",
      "  6.87831527  4.86532971  8.90889227  2.82613713  5.31355083 10.47631145\n",
      "  4.840473    4.9910059   5.6110276   5.26277098  2.03001803  2.71643916\n",
      " 11.75519037  4.64165008 11.76123482  6.47063798  5.56036052]\n",
      "Difference:  [-0.21923257 -0.48234316  0.08608925 -0.42561808 -0.11885987 -0.16434991\n",
      "  0.61364453 -0.29993864  0.42341935 -0.64414217  0.06575718 -0.25062625\n",
      " -0.16980172 -0.09041786 -0.44400041 -0.38349312 -0.67363561 -0.82824724\n",
      " -0.22983665 -0.13049688 -0.31676049 -0.19456476 -0.64535561 -0.50335408\n",
      " -0.27154357  0.81903973 -0.69721115 -0.08179723 -0.53760344 -0.0612626\n",
      " -0.12108282 -0.33707735 -0.30401468  0.45294277 -0.28967633  0.11279706\n",
      " -0.11588679 -0.51230889 -0.58193562 -0.0378873  -0.51478422 -0.92643373\n",
      " -1.01782604 -0.58752461 -0.78631704 -0.97210229 -0.51348643  0.04068984\n",
      " -0.10957274 -0.83061048 -0.44222894 -0.32674081 -0.53860321 -0.00941906\n",
      " -0.31815426 -0.8773861  -0.90195358 -0.63161341 -0.8757969   0.1434996\n",
      " -0.72946453 -0.61278406 -0.03842037 -0.64933088 -0.83310237  0.3586411\n",
      " -0.35452975 -0.57275065 -0.1705153  -0.21784308  1.08925201 -0.22064147\n",
      " -0.66902974 -0.67915071 -0.51618076 -0.44307489 -0.67136228 -0.14955223\n",
      " -0.54737738 -0.53632972 -0.9519352   1.11057155 -0.48727796 -0.78228562\n",
      " -0.59631741 -0.53351839 -0.18384374 -0.52955586 -0.4046148  -1.26176894\n",
      " -1.33739481  0.08490055 -1.03407833 -0.17205784 -0.07986237  0.01890982\n",
      " -0.51876623 -1.3428372  -0.1541503  -0.35138782 -0.22316266 -1.73947569\n",
      " -0.55558213 -0.43970936 -0.18390776 -0.88852234 -0.59780544 -0.57788771\n",
      " -0.36313211 -0.47434788  0.75202076 -0.21901067 -0.26530529 -0.47805625\n",
      " -0.28339794 -0.1029297  -0.68050163 -0.54914674  0.32783631 -0.16271144\n",
      " -0.29172979 -0.32828662 -0.65711656 -0.44090292 -0.3040901  -0.14913743\n",
      " -0.34882525 -0.59208274 -0.16868093  0.20638664  0.43868325  0.05626504\n",
      " -0.14189731 -0.27718592 -0.46062758 -0.28676532 -0.44657625 -0.15472687\n",
      " -0.08953788 -0.14176498 -0.69269805  0.06787993 -0.2851111  -0.641482\n",
      " -0.62584818 -0.36752874  0.0206441  -0.90630178 -0.30957665 -0.1081813\n",
      " -0.4689107  -0.15562649 -0.32558584 -0.11303619 -0.82085501 -0.18136417\n",
      " -0.26375149 -0.46616239 -0.12274491 -0.15979673 -0.33907517 -0.68878901\n",
      " -0.37303335  0.01493395 -0.06372523 -0.20554637  0.70938737 -0.61703049\n",
      " -0.30685601 -0.48041309 -0.496724   -0.40067508  0.10564363 -0.53011986\n",
      " -0.71231712 -0.37368459 -0.3127377  -0.33564784 -0.10993954 -0.0850773\n",
      "  0.60484044  0.50288389 -0.34789238 -0.06916709  0.167956   -0.21163549\n",
      " -0.48601438 -0.21381787 -0.17179924 -0.63877533 -0.36333254 -0.18531717\n",
      " -0.46924637  0.98299682 -0.17708092 -0.38089606 -0.39546517 -0.32013388\n",
      " -1.0085263  -0.21173382  1.27214698 -0.06671867 -0.11855048  0.77646916\n",
      " -0.24959025 -0.68625378 -1.08558596 -0.32857337 -0.21536069 -0.52140391\n",
      " -0.655791    1.17673399 -0.78184118 -0.3454669  -0.53964533 -0.32052592\n",
      " -0.1870971  -0.30232026 -0.81928964 -0.52150358 -0.94058157 -0.93138582\n",
      " -0.63977768 -0.48585715 -0.64582213  0.04194048 -0.73295764]\n"
     ]
    }
   ],
   "source": [
    "# print real and predicted prices and difference\n",
    "print('Real Prices: ', real_prices)\n",
    "print('Predicted Prices: ', predicted_prices)\n",
    "print('Difference: ', real_prices - predicted_prices)"
   ]
  },
  {
   "cell_type": "code",
   "execution_count": 33,
   "metadata": {},
   "outputs": [
    {
     "data": {
      "text/plain": [
       "0.5374110711484734"
      ]
     },
     "execution_count": 33,
     "metadata": {},
     "output_type": "execute_result"
    }
   ],
   "source": [
    "# calculate RMSE\n",
    "from sklearn.metrics import mean_squared_error\n",
    "\n",
    "rmse = np.sqrt(mean_squared_error(real_prices, predicted_prices))\n",
    "rmse"
   ]
  },
  {
   "cell_type": "code",
   "execution_count": 34,
   "metadata": {},
   "outputs": [
    {
     "data": {
      "text/plain": [
       "0.44320276396327485"
      ]
     },
     "execution_count": 34,
     "metadata": {},
     "output_type": "execute_result"
    }
   ],
   "source": [
    "# calculate MAE\n",
    "from sklearn.metrics import mean_absolute_error\n",
    "\n",
    "mae = mean_absolute_error(real_prices, predicted_prices)\n",
    "mae"
   ]
  },
  {
   "cell_type": "markdown",
   "metadata": {},
   "source": [
    "Directional Accuracy adalah metrik yang digunakan untuk mengukur seberapa baik model memprediksi arah perubahan harga (naik atau turun) dibandingkan dengan nilai aktual. Ini adalah metrik yang sangat berguna dalam prediksi saham karena dalam banyak kasus, arah perubahan harga lebih penting daripada nilai absolut dari harga itu sendiri—terutama jika tujuannya adalah untuk membuat keputusan beli atau jual."
   ]
  },
  {
   "cell_type": "code",
   "execution_count": 35,
   "metadata": {},
   "outputs": [
    {
     "data": {
      "text/plain": [
       "0.9292035398230089"
      ]
     },
     "execution_count": 35,
     "metadata": {},
     "output_type": "execute_result"
    }
   ],
   "source": [
    "# direction accuracy\n",
    "direction_accuracy = np.mean(np.sign(real_prices[1:] - real_prices[:-1]) == np.sign(predicted_prices[1:] - predicted_prices[:-1]))\n",
    "direction_accuracy"
   ]
  }
 ],
 "metadata": {
  "kernelspec": {
   "display_name": "ML",
   "language": "python",
   "name": "ml"
  },
  "language_info": {
   "codemirror_mode": {
    "name": "ipython",
    "version": 3
   },
   "file_extension": ".py",
   "mimetype": "text/x-python",
   "name": "python",
   "nbconvert_exporter": "python",
   "pygments_lexer": "ipython3",
   "version": "3.8.19"
  }
 },
 "nbformat": 4,
 "nbformat_minor": 2
}
