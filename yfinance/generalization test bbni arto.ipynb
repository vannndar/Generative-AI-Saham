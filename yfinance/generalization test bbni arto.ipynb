{
 "cells": [
  {
   "cell_type": "markdown",
   "metadata": {},
   "source": [
    "# Import Data"
   ]
  },
  {
   "cell_type": "code",
   "execution_count": 82,
   "metadata": {},
   "outputs": [],
   "source": [
    "import pandas as pd\n",
    "import numpy as np "
   ]
  },
  {
   "cell_type": "code",
   "execution_count": 83,
   "metadata": {},
   "outputs": [],
   "source": [
    "data = pd.read_csv('Data/arto_data_5y.csv')"
   ]
  },
  {
   "cell_type": "code",
   "execution_count": 84,
   "metadata": {},
   "outputs": [],
   "source": [
    "data['date_str'] = pd.to_datetime(data['date_str'])"
   ]
  },
  {
   "cell_type": "code",
   "execution_count": 85,
   "metadata": {},
   "outputs": [],
   "source": [
    "# rename columns\n",
    "data = data.rename(columns={'date_str': 'date'})"
   ]
  },
  {
   "cell_type": "code",
   "execution_count": 86,
   "metadata": {},
   "outputs": [
    {
     "data": {
      "text/html": [
       "<div>\n",
       "<style scoped>\n",
       "    .dataframe tbody tr th:only-of-type {\n",
       "        vertical-align: middle;\n",
       "    }\n",
       "\n",
       "    .dataframe tbody tr th {\n",
       "        vertical-align: top;\n",
       "    }\n",
       "\n",
       "    .dataframe thead th {\n",
       "        text-align: right;\n",
       "    }\n",
       "</style>\n",
       "<table border=\"1\" class=\"dataframe\">\n",
       "  <thead>\n",
       "    <tr style=\"text-align: right;\">\n",
       "      <th></th>\n",
       "      <th>Open</th>\n",
       "      <th>High</th>\n",
       "      <th>Low</th>\n",
       "      <th>Close</th>\n",
       "      <th>Volume</th>\n",
       "      <th>Dividends</th>\n",
       "      <th>Stock Splits</th>\n",
       "      <th>date</th>\n",
       "    </tr>\n",
       "  </thead>\n",
       "  <tbody>\n",
       "    <tr>\n",
       "      <th>0</th>\n",
       "      <td>205.888260</td>\n",
       "      <td>269.526428</td>\n",
       "      <td>163.462799</td>\n",
       "      <td>269.526428</td>\n",
       "      <td>6254169</td>\n",
       "      <td>0.0</td>\n",
       "      <td>0.0</td>\n",
       "      <td>2019-11-13</td>\n",
       "    </tr>\n",
       "    <tr>\n",
       "      <th>1</th>\n",
       "      <td>296.978210</td>\n",
       "      <td>336.908051</td>\n",
       "      <td>282.004517</td>\n",
       "      <td>336.908051</td>\n",
       "      <td>4187344</td>\n",
       "      <td>0.0</td>\n",
       "      <td>0.0</td>\n",
       "      <td>2019-11-14</td>\n",
       "    </tr>\n",
       "    <tr>\n",
       "      <th>2</th>\n",
       "      <td>368.103241</td>\n",
       "      <td>420.511169</td>\n",
       "      <td>368.103241</td>\n",
       "      <td>368.103241</td>\n",
       "      <td>6198872</td>\n",
       "      <td>0.0</td>\n",
       "      <td>0.0</td>\n",
       "      <td>2019-11-15</td>\n",
       "    </tr>\n",
       "    <tr>\n",
       "      <th>3</th>\n",
       "      <td>374.342285</td>\n",
       "      <td>436.732666</td>\n",
       "      <td>358.120789</td>\n",
       "      <td>380.581329</td>\n",
       "      <td>3166353</td>\n",
       "      <td>0.0</td>\n",
       "      <td>0.0</td>\n",
       "      <td>2019-11-18</td>\n",
       "    </tr>\n",
       "    <tr>\n",
       "      <th>4</th>\n",
       "      <td>386.820343</td>\n",
       "      <td>418.015533</td>\n",
       "      <td>355.625153</td>\n",
       "      <td>355.625153</td>\n",
       "      <td>1647689</td>\n",
       "      <td>0.0</td>\n",
       "      <td>0.0</td>\n",
       "      <td>2019-11-19</td>\n",
       "    </tr>\n",
       "  </tbody>\n",
       "</table>\n",
       "</div>"
      ],
      "text/plain": [
       "         Open        High         Low       Close   Volume  Dividends  \\\n",
       "0  205.888260  269.526428  163.462799  269.526428  6254169        0.0   \n",
       "1  296.978210  336.908051  282.004517  336.908051  4187344        0.0   \n",
       "2  368.103241  420.511169  368.103241  368.103241  6198872        0.0   \n",
       "3  374.342285  436.732666  358.120789  380.581329  3166353        0.0   \n",
       "4  386.820343  418.015533  355.625153  355.625153  1647689        0.0   \n",
       "\n",
       "   Stock Splits       date  \n",
       "0           0.0 2019-11-13  \n",
       "1           0.0 2019-11-14  \n",
       "2           0.0 2019-11-15  \n",
       "3           0.0 2019-11-18  \n",
       "4           0.0 2019-11-19  "
      ]
     },
     "execution_count": 86,
     "metadata": {},
     "output_type": "execute_result"
    }
   ],
   "source": [
    "data.head()"
   ]
  },
  {
   "cell_type": "code",
   "execution_count": 87,
   "metadata": {},
   "outputs": [
    {
     "name": "stdout",
     "output_type": "stream",
     "text": [
      "<class 'pandas.core.frame.DataFrame'>\n",
      "RangeIndex: 1213 entries, 0 to 1212\n",
      "Data columns (total 8 columns):\n",
      " #   Column        Non-Null Count  Dtype         \n",
      "---  ------        --------------  -----         \n",
      " 0   Open          1213 non-null   float64       \n",
      " 1   High          1213 non-null   float64       \n",
      " 2   Low           1213 non-null   float64       \n",
      " 3   Close         1213 non-null   float64       \n",
      " 4   Volume        1213 non-null   int64         \n",
      " 5   Dividends     1213 non-null   float64       \n",
      " 6   Stock Splits  1213 non-null   float64       \n",
      " 7   date          1213 non-null   datetime64[ns]\n",
      "dtypes: datetime64[ns](1), float64(6), int64(1)\n",
      "memory usage: 75.9 KB\n"
     ]
    }
   ],
   "source": [
    "data.info()"
   ]
  },
  {
   "cell_type": "code",
   "execution_count": 88,
   "metadata": {},
   "outputs": [
    {
     "data": {
      "text/plain": [
       "Open            0\n",
       "High            0\n",
       "Low             0\n",
       "Close           0\n",
       "Volume          0\n",
       "Dividends       0\n",
       "Stock Splits    0\n",
       "date            0\n",
       "dtype: int64"
      ]
     },
     "execution_count": 88,
     "metadata": {},
     "output_type": "execute_result"
    }
   ],
   "source": [
    "data.isnull().sum()"
   ]
  },
  {
   "cell_type": "markdown",
   "metadata": {},
   "source": [
    "# Feature Engineering"
   ]
  },
  {
   "cell_type": "code",
   "execution_count": 89,
   "metadata": {},
   "outputs": [
    {
     "data": {
      "text/plain": [
       "Dividends\n",
       "0.0    1213\n",
       "Name: count, dtype: int64"
      ]
     },
     "execution_count": 89,
     "metadata": {},
     "output_type": "execute_result"
    }
   ],
   "source": [
    "data['Dividends'].value_counts()"
   ]
  },
  {
   "cell_type": "code",
   "execution_count": 90,
   "metadata": {},
   "outputs": [
    {
     "data": {
      "text/plain": [
       "Stock Splits\n",
       "0.0    1213\n",
       "Name: count, dtype: int64"
      ]
     },
     "execution_count": 90,
     "metadata": {},
     "output_type": "execute_result"
    }
   ],
   "source": [
    "data['Stock Splits'].value_counts()"
   ]
  },
  {
   "cell_type": "code",
   "execution_count": 91,
   "metadata": {},
   "outputs": [],
   "source": [
    "data.drop(['Dividends', 'Stock Splits'], axis=1, inplace=True)"
   ]
  },
  {
   "cell_type": "code",
   "execution_count": 92,
   "metadata": {},
   "outputs": [],
   "source": [
    "# 1. Menghitung Return Harian\n",
    "data['return'] = data['Close'].pct_change()\n",
    "data['log_return'] = np.log(data['Close'] / data['Close'].shift(1))"
   ]
  },
  {
   "cell_type": "code",
   "execution_count": 93,
   "metadata": {},
   "outputs": [],
   "source": [
    "# 2. Moving Averages\n",
    "data['ma_5'] = data['Close'].rolling(window=5).mean()\n",
    "data['ma_10'] = data['Close'].rolling(window=10).mean()\n",
    "data['ma_20'] = data['Close'].rolling(window=20).mean()"
   ]
  },
  {
   "cell_type": "code",
   "execution_count": 94,
   "metadata": {},
   "outputs": [],
   "source": [
    "# 3. Exponential Moving Average (EMA)\n",
    "data['ema_10'] = data['Close'].ewm(span=10, adjust=False).mean()\n",
    "data['ema_20'] = data['Close'].ewm(span=20, adjust=False).mean()"
   ]
  },
  {
   "cell_type": "code",
   "execution_count": 95,
   "metadata": {},
   "outputs": [],
   "source": [
    "# 4. Bollinger Bands\n",
    "data['bollinger_mid'] = data['Close'].rolling(window=20).mean()\n",
    "data['bollinger_std'] = data['Close'].rolling(window=20).std()\n",
    "data['bollinger_upper'] = data['bollinger_mid'] + (2 * data['bollinger_std'])\n",
    "data['bollinger_lower'] = data['bollinger_mid'] - (2 * data['bollinger_std'])"
   ]
  },
  {
   "cell_type": "code",
   "execution_count": 96,
   "metadata": {},
   "outputs": [],
   "source": [
    "# 10. Penambahan Fitur Waktu\n",
    "data['day_of_week'] = data['date'].dt.dayofweek  # 0 = Monday, 6 = Sunday\n",
    "data['month'] = data['date'].dt.month"
   ]
  },
  {
   "cell_type": "code",
   "execution_count": 97,
   "metadata": {},
   "outputs": [],
   "source": [
    "# Hapus data yang mengandung nilai NaN akibat perhitungan rolling\n",
    "data = data.dropna().reset_index(drop=True)"
   ]
  },
  {
   "cell_type": "code",
   "execution_count": 98,
   "metadata": {},
   "outputs": [
    {
     "data": {
      "text/html": [
       "<div>\n",
       "<style scoped>\n",
       "    .dataframe tbody tr th:only-of-type {\n",
       "        vertical-align: middle;\n",
       "    }\n",
       "\n",
       "    .dataframe tbody tr th {\n",
       "        vertical-align: top;\n",
       "    }\n",
       "\n",
       "    .dataframe thead th {\n",
       "        text-align: right;\n",
       "    }\n",
       "</style>\n",
       "<table border=\"1\" class=\"dataframe\">\n",
       "  <thead>\n",
       "    <tr style=\"text-align: right;\">\n",
       "      <th></th>\n",
       "      <th>Open</th>\n",
       "      <th>High</th>\n",
       "      <th>Low</th>\n",
       "      <th>Close</th>\n",
       "      <th>Volume</th>\n",
       "      <th>date</th>\n",
       "      <th>return</th>\n",
       "      <th>log_return</th>\n",
       "      <th>ma_5</th>\n",
       "      <th>ma_10</th>\n",
       "      <th>ma_20</th>\n",
       "      <th>ema_10</th>\n",
       "      <th>ema_20</th>\n",
       "      <th>bollinger_mid</th>\n",
       "      <th>bollinger_std</th>\n",
       "      <th>bollinger_upper</th>\n",
       "      <th>bollinger_lower</th>\n",
       "      <th>day_of_week</th>\n",
       "      <th>month</th>\n",
       "    </tr>\n",
       "  </thead>\n",
       "  <tbody>\n",
       "    <tr>\n",
       "      <th>0</th>\n",
       "      <td>272.022064</td>\n",
       "      <td>272.022064</td>\n",
       "      <td>267.030823</td>\n",
       "      <td>269.526428</td>\n",
       "      <td>338994</td>\n",
       "      <td>2019-12-10</td>\n",
       "      <td>-0.018182</td>\n",
       "      <td>-0.018349</td>\n",
       "      <td>265.283890</td>\n",
       "      <td>248.750443</td>\n",
       "      <td>274.455280</td>\n",
       "      <td>260.345510</td>\n",
       "      <td>263.989136</td>\n",
       "      <td>274.455280</td>\n",
       "      <td>47.828346</td>\n",
       "      <td>370.111972</td>\n",
       "      <td>178.798587</td>\n",
       "      <td>1</td>\n",
       "      <td>12</td>\n",
       "    </tr>\n",
       "    <tr>\n",
       "      <th>1</th>\n",
       "      <td>267.030823</td>\n",
       "      <td>280.756714</td>\n",
       "      <td>267.030823</td>\n",
       "      <td>272.022064</td>\n",
       "      <td>460808</td>\n",
       "      <td>2019-12-11</td>\n",
       "      <td>0.009259</td>\n",
       "      <td>0.009217</td>\n",
       "      <td>272.022052</td>\n",
       "      <td>251.495621</td>\n",
       "      <td>274.580061</td>\n",
       "      <td>262.468520</td>\n",
       "      <td>264.754177</td>\n",
       "      <td>274.580061</td>\n",
       "      <td>47.818065</td>\n",
       "      <td>370.216191</td>\n",
       "      <td>178.943932</td>\n",
       "      <td>2</td>\n",
       "      <td>12</td>\n",
       "    </tr>\n",
       "    <tr>\n",
       "      <th>2</th>\n",
       "      <td>272.022064</td>\n",
       "      <td>284.500122</td>\n",
       "      <td>272.022064</td>\n",
       "      <td>274.517670</td>\n",
       "      <td>147458</td>\n",
       "      <td>2019-12-12</td>\n",
       "      <td>0.009174</td>\n",
       "      <td>0.009132</td>\n",
       "      <td>273.269861</td>\n",
       "      <td>255.239043</td>\n",
       "      <td>271.460542</td>\n",
       "      <td>264.659274</td>\n",
       "      <td>265.684033</td>\n",
       "      <td>271.460542</td>\n",
       "      <td>45.517710</td>\n",
       "      <td>362.495962</td>\n",
       "      <td>180.425122</td>\n",
       "      <td>3</td>\n",
       "      <td>12</td>\n",
       "    </tr>\n",
       "    <tr>\n",
       "      <th>3</th>\n",
       "      <td>274.517670</td>\n",
       "      <td>274.517670</td>\n",
       "      <td>274.517670</td>\n",
       "      <td>274.517670</td>\n",
       "      <td>70523</td>\n",
       "      <td>2019-12-13</td>\n",
       "      <td>0.000000</td>\n",
       "      <td>0.000000</td>\n",
       "      <td>273.020300</td>\n",
       "      <td>258.982465</td>\n",
       "      <td>266.781264</td>\n",
       "      <td>266.451710</td>\n",
       "      <td>266.525332</td>\n",
       "      <td>266.781264</td>\n",
       "      <td>39.468174</td>\n",
       "      <td>345.717612</td>\n",
       "      <td>187.844916</td>\n",
       "      <td>4</td>\n",
       "      <td>12</td>\n",
       "    </tr>\n",
       "    <tr>\n",
       "      <th>4</th>\n",
       "      <td>274.517670</td>\n",
       "      <td>278.261108</td>\n",
       "      <td>274.517670</td>\n",
       "      <td>274.517670</td>\n",
       "      <td>141848</td>\n",
       "      <td>2019-12-16</td>\n",
       "      <td>0.000000</td>\n",
       "      <td>0.000000</td>\n",
       "      <td>273.020300</td>\n",
       "      <td>263.911304</td>\n",
       "      <td>261.478081</td>\n",
       "      <td>267.918248</td>\n",
       "      <td>267.286507</td>\n",
       "      <td>261.478081</td>\n",
       "      <td>29.149271</td>\n",
       "      <td>319.776624</td>\n",
       "      <td>203.179538</td>\n",
       "      <td>0</td>\n",
       "      <td>12</td>\n",
       "    </tr>\n",
       "  </tbody>\n",
       "</table>\n",
       "</div>"
      ],
      "text/plain": [
       "         Open        High         Low       Close  Volume       date  \\\n",
       "0  272.022064  272.022064  267.030823  269.526428  338994 2019-12-10   \n",
       "1  267.030823  280.756714  267.030823  272.022064  460808 2019-12-11   \n",
       "2  272.022064  284.500122  272.022064  274.517670  147458 2019-12-12   \n",
       "3  274.517670  274.517670  274.517670  274.517670   70523 2019-12-13   \n",
       "4  274.517670  278.261108  274.517670  274.517670  141848 2019-12-16   \n",
       "\n",
       "     return  log_return        ma_5       ma_10       ma_20      ema_10  \\\n",
       "0 -0.018182   -0.018349  265.283890  248.750443  274.455280  260.345510   \n",
       "1  0.009259    0.009217  272.022052  251.495621  274.580061  262.468520   \n",
       "2  0.009174    0.009132  273.269861  255.239043  271.460542  264.659274   \n",
       "3  0.000000    0.000000  273.020300  258.982465  266.781264  266.451710   \n",
       "4  0.000000    0.000000  273.020300  263.911304  261.478081  267.918248   \n",
       "\n",
       "       ema_20  bollinger_mid  bollinger_std  bollinger_upper  bollinger_lower  \\\n",
       "0  263.989136     274.455280      47.828346       370.111972       178.798587   \n",
       "1  264.754177     274.580061      47.818065       370.216191       178.943932   \n",
       "2  265.684033     271.460542      45.517710       362.495962       180.425122   \n",
       "3  266.525332     266.781264      39.468174       345.717612       187.844916   \n",
       "4  267.286507     261.478081      29.149271       319.776624       203.179538   \n",
       "\n",
       "   day_of_week  month  \n",
       "0            1     12  \n",
       "1            2     12  \n",
       "2            3     12  \n",
       "3            4     12  \n",
       "4            0     12  "
      ]
     },
     "execution_count": 98,
     "metadata": {},
     "output_type": "execute_result"
    }
   ],
   "source": [
    "data.head()"
   ]
  },
  {
   "cell_type": "code",
   "execution_count": 99,
   "metadata": {},
   "outputs": [
    {
     "data": {
      "text/plain": [
       "Open               0\n",
       "High               0\n",
       "Low                0\n",
       "Close              0\n",
       "Volume             0\n",
       "date               0\n",
       "return             0\n",
       "log_return         0\n",
       "ma_5               0\n",
       "ma_10              0\n",
       "ma_20              0\n",
       "ema_10             0\n",
       "ema_20             0\n",
       "bollinger_mid      0\n",
       "bollinger_std      0\n",
       "bollinger_upper    0\n",
       "bollinger_lower    0\n",
       "day_of_week        0\n",
       "month              0\n",
       "dtype: int64"
      ]
     },
     "execution_count": 99,
     "metadata": {},
     "output_type": "execute_result"
    }
   ],
   "source": [
    "data.isnull().sum()"
   ]
  },
  {
   "cell_type": "markdown",
   "metadata": {},
   "source": [
    "# Modelling"
   ]
  },
  {
   "cell_type": "markdown",
   "metadata": {},
   "source": [
    "## Preprocessing"
   ]
  },
  {
   "cell_type": "code",
   "execution_count": 100,
   "metadata": {},
   "outputs": [],
   "source": [
    "dataUsed = data[['Close', 'Volume', 'ma_5', 'ma_10', 'ema_10', 'bollinger_mid', 'bollinger_std', 'bollinger_upper', 'bollinger_lower', 'day_of_week', 'month']]\n"
   ]
  },
  {
   "cell_type": "code",
   "execution_count": 101,
   "metadata": {},
   "outputs": [
    {
     "data": {
      "text/plain": [
       "array([[0.00000000e+00, 8.91470371e-04, 0.00000000e+00, ...,\n",
       "        9.32372813e-03, 2.50000000e-01, 1.00000000e+00],\n",
       "       [1.33239343e-04, 1.21181106e-03, 3.62955307e-04, ...,\n",
       "        9.33263485e-03, 5.00000000e-01, 1.00000000e+00],\n",
       "       [2.66477056e-04, 3.87778067e-04, 4.30169307e-04, ...,\n",
       "        9.42340201e-03, 7.50000000e-01, 1.00000000e+00],\n",
       "       ...,\n",
       "       [1.19082604e-01, 2.49382074e-02, 1.25437744e-01, ...,\n",
       "        1.52824756e-01, 0.00000000e+00, 9.09090909e-01],\n",
       "       [1.16947047e-01, 3.42953933e-02, 1.22421269e-01, ...,\n",
       "        1.49367046e-01, 2.50000000e-01, 9.09090909e-01],\n",
       "       [1.22285940e-01, 4.80237540e-02, 1.22421269e-01, ...,\n",
       "        1.47703203e-01, 5.00000000e-01, 9.09090909e-01]])"
      ]
     },
     "execution_count": 101,
     "metadata": {},
     "output_type": "execute_result"
    }
   ],
   "source": [
    "from sklearn.preprocessing import MinMaxScaler\n",
    "\n",
    "# preprocessing\n",
    "scaler = MinMaxScaler(feature_range=(0, 1))\n",
    "data_scaled = scaler.fit_transform(dataUsed)\n",
    "\n",
    "data_scaled"
   ]
  },
  {
   "cell_type": "markdown",
   "metadata": {},
   "source": [
    "## Train Test Sequence"
   ]
  },
  {
   "cell_type": "code",
   "execution_count": 102,
   "metadata": {},
   "outputs": [],
   "source": [
    "import numpy as np\n",
    "\n",
    "sequence_length = 60\n",
    "x = []\n",
    "y = []\n",
    "\n",
    "# Target tetap kolom 0 (harga close), tetapi kita hanya menggunakan kolom lain sebagai input\n",
    "for i in range(sequence_length, len(data_scaled)):\n",
    "    x.append(data_scaled[i-sequence_length:i, 1:])  \n",
    "    y.append(data_scaled[i, 0]) \n",
    "\n",
    "# Konversi ke array numpy\n",
    "x, y = np.array(x), np.array(y)\n"
   ]
  },
  {
   "cell_type": "code",
   "execution_count": 103,
   "metadata": {},
   "outputs": [
    {
     "name": "stdout",
     "output_type": "stream",
     "text": [
      "(1134, 60, 10) (1134,)\n"
     ]
    }
   ],
   "source": [
    "print(x.shape, y.shape)"
   ]
  },
  {
   "cell_type": "markdown",
   "metadata": {},
   "source": [
    "## LSTM"
   ]
  },
  {
   "cell_type": "code",
   "execution_count": 104,
   "metadata": {},
   "outputs": [],
   "source": [
    "from sklearn.model_selection import train_test_split\n",
    "\n",
    "# train and test split\n",
    "x_train, x_test, y_train, y_test = train_test_split(x, y, test_size=0.2, random_state=42)"
   ]
  },
  {
   "cell_type": "code",
   "execution_count": 105,
   "metadata": {},
   "outputs": [],
   "source": [
    "from tensorflow.keras.models import Sequential\n",
    "from tensorflow.keras.layers import LSTM, Dense, Dropout"
   ]
  },
  {
   "cell_type": "code",
   "execution_count": 106,
   "metadata": {},
   "outputs": [],
   "source": [
    "from keras.models import load_model\n",
    "\n",
    "model = load_model('Model/lstm_model_bbni.h5')"
   ]
  },
  {
   "cell_type": "code",
   "execution_count": 109,
   "metadata": {},
   "outputs": [
    {
     "data": {
      "text/plain": [
       "(907, 60, 10)"
      ]
     },
     "execution_count": 109,
     "metadata": {},
     "output_type": "execute_result"
    }
   ],
   "source": [
    "x_train.shape"
   ]
  },
  {
   "cell_type": "code",
   "execution_count": 110,
   "metadata": {},
   "outputs": [
    {
     "name": "stdout",
     "output_type": "stream",
     "text": [
      "8/8 [==============================] - 1s 10ms/step\n"
     ]
    }
   ],
   "source": [
    "# prediction\n",
    "predicted_prices =  model.predict(x_test)\n"
   ]
  },
  {
   "cell_type": "code",
   "execution_count": 111,
   "metadata": {},
   "outputs": [],
   "source": [
    "# Dapatkan jumlah kolom yang diharapkan oleh scaler\n",
    "expected_columns = scaler.min_.shape[0]  # Ini adalah 13 dalam kasus Anda\n",
    "\n",
    "# Tambahkan kolom nol untuk menyesuaikan jumlah kolom\n",
    "predicted_prices_padded = np.hstack([np.zeros((predicted_prices.shape[0], expected_columns - 1)), predicted_prices])\n",
    "\n",
    "# Inverse transform dan ambil hanya kolom harga 'Close'\n",
    "predicted_prices = scaler.inverse_transform(predicted_prices_padded)[:, -1]  # Ambil hanya kolom harga\n"
   ]
  },
  {
   "cell_type": "code",
   "execution_count": 112,
   "metadata": {},
   "outputs": [],
   "source": [
    "expected_columns = scaler.min_.shape[0]  # Ini adalah 13 dalam kasus Anda\n",
    "\n",
    "# Tambahkan kolom nol untuk menyesuaikan jumlah kolom\n",
    "real_prices_padded = np.hstack([np.zeros((y_test.shape[0], expected_columns - 1)), y_test.reshape(-1,1)])\n",
    "\n",
    "# Inverse transform dan ambil hanya kolom harga 'Close'\n",
    "real_prices = scaler.inverse_transform(real_prices_padded)[:, -1]  # Ambil hanya kolom harga\n"
   ]
  },
  {
   "cell_type": "code",
   "execution_count": 113,
   "metadata": {},
   "outputs": [
    {
     "data": {
      "text/plain": [
       "array([ 2.23943526,  2.21007134,  9.94452608, 10.51712238,  2.15134352,\n",
       "        2.12751588,  7.21368215,  1.32875951,  2.24530804,  2.33927256,\n",
       "        2.01333312,  2.2005728 ,  5.05543453,  2.1572163 ,  2.24530804,\n",
       "        2.66814839,  2.97940587,  2.60942056,  2.22181691, 10.2088013 ,\n",
       "        2.1762204 ,  7.69818672,  2.33339978,  2.26388889,  2.25414789,\n",
       "        1.27031393,  7.3311378 ,  7.0962265 ,  6.9934528 ,  2.1762204 ,\n",
       "        2.12264531, 11.60358717,  2.01333312,  5.81889627,  2.72687621,\n",
       "        1.25570255,  2.51545604,  2.28054473, 11.61826913,  5.2022541 ,\n",
       "        6.93472497,  9.75366064,  1.89881386,  2.44896656,  2.02801508,\n",
       "        2.52132882,  2.20544323,  6.14189932,  2.19832578,  2.62116613,\n",
       "        9.75366064,  9.65088694,  2.92140167,  9.31320194,  2.70925787,\n",
       "        1.50653148,  2.08674291,  2.46847378,  2.9262721 ,  5.84826019,\n",
       "        2.03976065,  2.19245299,  1.28005485, 10.17943738,  2.48609213,\n",
       "        2.07499734,  9.16638238,  5.84826019, 11.97063609,  5.95103388,\n",
       "        6.77322345,  9.69493281,  9.01956281,  9.65088694,  4.40942844,\n",
       "       10.23816521,  6.77322345,  3.03813369,  2.16308908,  2.23466606,\n",
       "        7.91841607,  1.28249009,  4.27539107,  2.44498265,  2.92067804,\n",
       "        2.77973126,  2.46847378,  4.16580546,  2.2785003 ,  8.24141911,\n",
       "       11.53017739,  2.11610682, 10.72266978,  2.21031365,  6.27403693,\n",
       "        8.96083498,  6.6557678 , 11.06035478,  2.35689091,  9.04892672,\n",
       "        2.58592943,  1.05202954,  9.53343129, 10.53180434,  2.63878447,\n",
       "        2.94088351,  9.81238847,  3.74286761,  2.35689091,  9.54811325,\n",
       "        2.24530804,  6.53831215,  3.17908048,  2.16896186,  3.22606274,\n",
       "        2.18070743,  2.73862178,  2.06912456,  1.28005485,  2.1323863 ,\n",
       "        1.33606522,  3.9588108 ,  2.1572163 ,  2.71513065,  4.43879235,\n",
       "        7.99182585, 10.01793586,  2.24530804,  2.72100343,  6.12721736,\n",
       "        8.5497402 ,  5.48121127,  3.86140147,  2.22768969,  9.91516216,\n",
       "        2.2005728 , 10.09134564, 11.01630891,  2.54481995, 10.13539151,\n",
       "        7.81564237,  9.3278839 ,  5.23161801,  9.98857195,  2.25414789,\n",
       "        2.11610682,  2.20544323,  5.96787741,  6.12721736,  6.97877084,\n",
       "        9.19574629,  2.20544323, 11.75040674,  7.97714389,  2.55069273,\n",
       "        2.22492507,  2.25118082, 10.53180434,  7.19900019,  2.65640282,\n",
       "        2.35101813, 10.1060276 ,  5.95103388,  8.16800933,  9.95920803,\n",
       "        2.48609213,  8.12396346,  5.99507975,  2.18658021,  2.43323708,\n",
       "        1.76080347,  9.06360868,  5.99507975,  2.25414789,  7.21368215,\n",
       "        2.46847378,  2.82084074,  2.70338508, 11.32463   ,  2.34514534,\n",
       "        1.26544347,  1.27274917,  2.21007134,  2.22979563,  1.27031393,\n",
       "        2.21594412,  8.96083498,  8.4469665 ,  6.83195128, 10.70798782,\n",
       "        1.9869056 ,  1.06888417,  2.2922903 ,  4.9967067 ,  2.65053004,\n",
       "        2.36863647,  2.30403586,  2.58005665,  9.10765455,  2.72100343,\n",
       "        5.9803978 ,  1.32632426,  2.97353308,  4.01301561,  1.4553916 ,\n",
       "        6.72917758,  2.54481995,  4.01301561,  2.1762204 ,  2.26388889,\n",
       "        5.42248345,  8.5497402 ,  7.06686258,  2.41561873, 10.28221108,\n",
       "        4.25103852, 10.41434869,  2.44498265, 10.51712238, 10.13539151,\n",
       "        2.45085543,  2.55656552,  1.49922577,  2.18658021,  1.49679056,\n",
       "        6.47958432, 11.20717434])"
      ]
     },
     "execution_count": 113,
     "metadata": {},
     "output_type": "execute_result"
    }
   ],
   "source": [
    "real_prices"
   ]
  },
  {
   "cell_type": "markdown",
   "metadata": {},
   "source": [
    "# Evaluation"
   ]
  },
  {
   "cell_type": "code",
   "execution_count": 114,
   "metadata": {},
   "outputs": [
    {
     "data": {
      "image/png": "[encoded data removed]",
      "text/plain": [
       "<Figure size 640x480 with 1 Axes>"
      ]
     },
     "metadata": {},
     "output_type": "display_data"
    }
   ],
   "source": [
    "# conpare real and predicted prices\n",
    "import matplotlib.pyplot as plt\n",
    "\n",
    "plt.plot(real_prices, color='red', label='Real Prices')\n",
    "plt.plot(predicted_prices, color='blue', label='Predicted Prices')\n",
    "plt.title('Stock Prices Prediction')\n",
    "plt.xlabel('Time')\n",
    "plt.ylabel('Stock Prices')\n",
    "plt.legend()\n",
    "plt.show()"
   ]
  },
  {
   "cell_type": "code",
   "execution_count": 115,
   "metadata": {},
   "outputs": [
    {
     "name": "stdout",
     "output_type": "stream",
     "text": [
      "Real Prices:  [ 2.23943526  2.21007134  9.94452608 10.51712238  2.15134352  2.12751588\n",
      "  7.21368215  1.32875951  2.24530804  2.33927256  2.01333312  2.2005728\n",
      "  5.05543453  2.1572163   2.24530804  2.66814839  2.97940587  2.60942056\n",
      "  2.22181691 10.2088013   2.1762204   7.69818672  2.33339978  2.26388889\n",
      "  2.25414789  1.27031393  7.3311378   7.0962265   6.9934528   2.1762204\n",
      "  2.12264531 11.60358717  2.01333312  5.81889627  2.72687621  1.25570255\n",
      "  2.51545604  2.28054473 11.61826913  5.2022541   6.93472497  9.75366064\n",
      "  1.89881386  2.44896656  2.02801508  2.52132882  2.20544323  6.14189932\n",
      "  2.19832578  2.62116613  9.75366064  9.65088694  2.92140167  9.31320194\n",
      "  2.70925787  1.50653148  2.08674291  2.46847378  2.9262721   5.84826019\n",
      "  2.03976065  2.19245299  1.28005485 10.17943738  2.48609213  2.07499734\n",
      "  9.16638238  5.84826019 11.97063609  5.95103388  6.77322345  9.69493281\n",
      "  9.01956281  9.65088694  4.40942844 10.23816521  6.77322345  3.03813369\n",
      "  2.16308908  2.23466606  7.91841607  1.28249009  4.27539107  2.44498265\n",
      "  2.92067804  2.77973126  2.46847378  4.16580546  2.2785003   8.24141911\n",
      " 11.53017739  2.11610682 10.72266978  2.21031365  6.27403693  8.96083498\n",
      "  6.6557678  11.06035478  2.35689091  9.04892672  2.58592943  1.05202954\n",
      "  9.53343129 10.53180434  2.63878447  2.94088351  9.81238847  3.74286761\n",
      "  2.35689091  9.54811325  2.24530804  6.53831215  3.17908048  2.16896186\n",
      "  3.22606274  2.18070743  2.73862178  2.06912456  1.28005485  2.1323863\n",
      "  1.33606522  3.9588108   2.1572163   2.71513065  4.43879235  7.99182585\n",
      " 10.01793586  2.24530804  2.72100343  6.12721736  8.5497402   5.48121127\n",
      "  3.86140147  2.22768969  9.91516216  2.2005728  10.09134564 11.01630891\n",
      "  2.54481995 10.13539151  7.81564237  9.3278839   5.23161801  9.98857195\n",
      "  2.25414789  2.11610682  2.20544323  5.96787741  6.12721736  6.97877084\n",
      "  9.19574629  2.20544323 11.75040674  7.97714389  2.55069273  2.22492507\n",
      "  2.25118082 10.53180434  7.19900019  2.65640282  2.35101813 10.1060276\n",
      "  5.95103388  8.16800933  9.95920803  2.48609213  8.12396346  5.99507975\n",
      "  2.18658021  2.43323708  1.76080347  9.06360868  5.99507975  2.25414789\n",
      "  7.21368215  2.46847378  2.82084074  2.70338508 11.32463     2.34514534\n",
      "  1.26544347  1.27274917  2.21007134  2.22979563  1.27031393  2.21594412\n",
      "  8.96083498  8.4469665   6.83195128 10.70798782  1.9869056   1.06888417\n",
      "  2.2922903   4.9967067   2.65053004  2.36863647  2.30403586  2.58005665\n",
      "  9.10765455  2.72100343  5.9803978   1.32632426  2.97353308  4.01301561\n",
      "  1.4553916   6.72917758  2.54481995  4.01301561  2.1762204   2.26388889\n",
      "  5.42248345  8.5497402   7.06686258  2.41561873 10.28221108  4.25103852\n",
      " 10.41434869  2.44498265 10.51712238 10.13539151  2.45085543  2.55656552\n",
      "  1.49922577  2.18658021  1.49679056  6.47958432 11.20717434]\n",
      "Predicted Prices:  [ 2.26307429  2.09060986 10.27418274 10.71618599  2.1695791   2.10661414\n",
      "  8.54596382  1.21000308  2.13361353  2.53669536  2.14357942  2.33604023\n",
      "  5.38264105  2.04970527  2.22499441  2.65794426  3.00515889  2.60135436\n",
      "  2.20590447 10.31325495  2.03034881  7.51557535  2.57989129  2.08698165\n",
      "  2.1285819   1.16349086  7.40806299  7.493415    7.82719386  2.12302378\n",
      "  2.05344543 11.52751815  1.96168689  6.62696618  2.73487     1.23115242\n",
      "  2.3850136   2.16154738 11.56504959  5.50445643  7.69346333  9.50401759\n",
      "  1.71308006  2.16145936  2.00167063  2.45520957  2.25585525  6.79396313\n",
      "  2.09999797  2.82751432 10.57486039 10.18679166  2.72283995 10.20253122\n",
      "  2.64879104  1.40412596  2.27267417  2.36575811  2.95026302  6.46121758\n",
      "  2.01314829  2.21963888  1.24505058 10.37882531  2.45243338  2.03757966\n",
      "  9.44848394  6.70048892 11.44206911  6.75931787  8.46235389  9.86959553\n",
      "  9.1977669   9.97435874  4.86822245 10.94406474  7.20047402  3.08939792\n",
      "  2.08751749  2.11463177  8.75133604  1.2231556   4.49398172  2.38872278\n",
      "  2.82125548  2.67212288  2.65727353  3.67715487  2.18062404  8.7737534\n",
      " 10.60625231  2.08958705 10.32006389  2.12457111  6.66582596 10.23800653\n",
      "  7.15644836 10.46781486  2.33927357 10.01593685  2.99153462  0.9138781\n",
      "  9.98469836 10.51377732  2.94655958  2.91831692 10.15354949  3.70255463\n",
      "  2.2745813   9.87832683  2.20309746  6.53311497  3.48020728  1.97608483\n",
      "  3.16019791  2.17816567  2.68284327  2.12838258  1.21483785  2.08565068\n",
      "  1.21493325  3.55496036  2.19608298  2.27397826  4.03524068  8.00447339\n",
      " 10.34815067  2.12201621  2.72547764  6.87509406  9.08477002  6.18795663\n",
      "  3.44505078  2.10229684 10.44129771  2.28470963 10.39316964 11.09764445\n",
      "  2.26345621 10.52538365  8.48982239 10.00045627  5.66007456 10.33860505\n",
      "  1.49851513  2.17013608  2.13067359  5.25883216  7.05899632  7.66761363\n",
      "  9.19484729  2.12358026 11.66578186  7.61285365  2.68321322  2.12381564\n",
      "  2.08824165 10.28031439  7.68245167  2.43234521  2.28017204 10.42595285\n",
      "  6.40221423  7.54256064 10.07287556  2.43741307  8.69661015  6.61637479\n",
      "  2.14300556  2.28789856  1.66653867  9.93580711  6.25235042  1.67383328\n",
      "  6.97224188  2.45958391  2.90271258  2.6680662  11.60879594  2.30502596\n",
      "  1.20455527  1.22160482  2.11940606  2.16138592  1.21597442  2.08758141\n",
      "  9.42089087  9.6151616   7.65000874 10.428186    1.91142485  0.94335355\n",
      "  2.50128201  7.01716119  2.71141621  2.34460942  2.08627027  2.66466354\n",
      "  8.93810743  2.63027759  8.10047448  1.20430285  3.16524135  4.25551814\n",
      "  1.22922185  7.92555201  2.45109667  4.85580769  2.05684088  2.23239425\n",
      "  6.4663415   9.89417195  7.96155906  2.35823812 11.43264216  4.47354016\n",
      " 10.23250103  2.46523595 10.49517322 10.5392651   2.4199616   2.44912627\n",
      "  1.31125118  2.02428223  1.3262492   6.37813151 10.51691264]\n",
      "Difference:  [-2.36390386e-02  1.19461479e-01 -3.29656660e-01 -1.99063603e-01\n",
      " -1.82355881e-02  2.09017330e-02 -1.33228167e+00  1.18756434e-01\n",
      "  1.11694511e-01 -1.97422801e-01 -1.30246300e-01 -1.35467424e-01\n",
      " -3.27206517e-01  1.07511031e-01  2.03136316e-02  1.02041257e-02\n",
      " -2.57530188e-02  8.06620073e-03  1.59124383e-02 -1.04453657e-01\n",
      "  1.45871592e-01  1.82611368e-01 -2.46491517e-01  1.76907231e-01\n",
      "  1.25565998e-01  1.06823064e-01 -7.69251920e-02 -3.97188501e-01\n",
      " -8.33741055e-01  5.31966209e-02  6.91998800e-02  7.60690187e-02\n",
      "  5.16462292e-02 -8.08069905e-01 -7.99378759e-03  2.45501323e-02\n",
      "  1.30442444e-01  1.18997356e-01  5.32195398e-02 -3.02202335e-01\n",
      " -7.58738351e-01  2.49643049e-01  1.85733799e-01  2.87507205e-01\n",
      "  2.63444513e-02  6.61192536e-02 -5.04120195e-02 -6.52063816e-01\n",
      "  9.83278091e-02 -2.06348194e-01 -8.21199753e-01 -5.35904714e-01\n",
      "  1.98561721e-01 -8.89329276e-01  6.04668212e-02  1.02405523e-01\n",
      " -1.85931267e-01  1.02715672e-01 -2.39909274e-02 -6.12957396e-01\n",
      "  2.66123525e-02 -2.71858901e-02  3.50042658e-02 -1.99387925e-01\n",
      "  3.36587484e-02  3.74176856e-02 -2.82101567e-01 -8.52228739e-01\n",
      "  5.28566974e-01 -8.08283992e-01 -1.68913043e+00 -1.74662713e-01\n",
      " -1.78204089e-01 -3.23471793e-01 -4.58794005e-01 -7.05899528e-01\n",
      " -4.27250572e-01 -5.12642282e-02  7.55715958e-02  1.20034285e-01\n",
      " -8.32919972e-01  5.93344900e-02 -2.18590653e-01  5.62598701e-02\n",
      "  9.94225659e-02  1.07608377e-01 -1.88799753e-01  4.88650589e-01\n",
      "  9.78762618e-02 -5.32334293e-01  9.23925076e-01  2.65197720e-02\n",
      "  4.02605887e-01  8.57425368e-02 -3.91789035e-01 -1.27717155e+00\n",
      " -5.00680565e-01  5.92539915e-01  1.76173359e-02 -9.67010127e-01\n",
      " -4.05605190e-01  1.38151444e-01 -4.51267063e-01  1.80270248e-02\n",
      " -3.07775104e-01  2.25665948e-02 -3.41161025e-01  4.03129823e-02\n",
      "  8.23096096e-02 -3.30213585e-01  4.22105751e-02  5.19717662e-03\n",
      " -3.01126802e-01  1.92877035e-01  6.58648247e-02  2.54175451e-03\n",
      "  5.57785114e-02 -5.92580199e-02  6.52169960e-02  4.67356169e-02\n",
      "  1.21131973e-01  4.03850448e-01 -3.88666813e-02  4.41152386e-01\n",
      "  4.03551673e-01 -1.26475389e-02 -3.30214811e-01  1.23291831e-01\n",
      " -4.47420442e-03 -7.47876694e-01 -5.35029824e-01 -7.06745360e-01\n",
      "  4.16350693e-01  1.25392846e-01 -5.26135547e-01 -8.41368282e-02\n",
      " -3.01823999e-01 -8.13355402e-02  2.81363742e-01 -3.89992139e-01\n",
      " -6.74180018e-01 -6.72572374e-01 -4.28456553e-01 -3.50033100e-01\n",
      "  7.55632766e-01 -5.40292595e-02  7.47696406e-02  7.09045256e-01\n",
      " -9.31778958e-01 -6.88842781e-01  8.99004451e-04  8.18629658e-02\n",
      "  8.46248823e-02  3.64290246e-01 -1.32520484e-01  1.01109425e-01\n",
      "  1.62939169e-01  2.51489955e-01 -4.83451472e-01  2.24057611e-01\n",
      "  7.08460901e-02 -3.19925253e-01 -4.51180347e-01  6.25448691e-01\n",
      " -1.13667526e-01  4.86790593e-02 -5.72646694e-01 -6.21295038e-01\n",
      "  4.35746465e-02  1.45338527e-01  9.42647994e-02 -8.72198428e-01\n",
      " -2.57270667e-01  5.80314614e-01  2.41440271e-01  8.88986967e-03\n",
      " -8.18718472e-02  3.53188799e-02 -2.84165944e-01  4.01193776e-02\n",
      "  6.08881935e-02  5.11443497e-02  9.06652825e-02  6.84097093e-02\n",
      "  5.43395058e-02  1.28362714e-01 -4.60055883e-01 -1.16819509e+00\n",
      " -8.18057460e-01  2.79801820e-01  7.54807562e-02  1.25530618e-01\n",
      " -2.08991708e-01 -2.02045449e+00 -6.08861749e-02  2.40270487e-02\n",
      "  2.17765591e-01 -8.46068902e-02  1.69547120e-01  9.07258425e-02\n",
      " -2.12007668e+00  1.22021417e-01 -1.91708261e-01 -2.42502527e-01\n",
      "  2.26169752e-01 -1.19637443e+00  9.37232835e-02 -8.42792080e-01\n",
      "  1.19379517e-01  3.14946372e-02 -1.04385805e+00 -1.34443175e+00\n",
      " -8.94696473e-01  5.73806183e-02 -1.15043108e+00 -2.22501640e-01\n",
      "  1.81847658e-01 -2.02533011e-02  2.19491680e-02 -4.03873584e-01\n",
      "  3.08938286e-02  1.07439244e-01  1.87974596e-01  1.62297979e-01\n",
      "  1.70541365e-01  1.01452811e-01  6.90261705e-01]\n"
     ]
    }
   ],
   "source": [
    "# print real and predicted prices and difference\n",
    "print('Real Prices: ', real_prices)\n",
    "print('Predicted Prices: ', predicted_prices)\n",
    "print('Difference: ', real_prices - predicted_prices)"
   ]
  },
  {
   "cell_type": "code",
   "execution_count": 116,
   "metadata": {},
   "outputs": [
    {
     "data": {
      "text/plain": [
       "0.463603631328499"
      ]
     },
     "execution_count": 116,
     "metadata": {},
     "output_type": "execute_result"
    }
   ],
   "source": [
    "# calculate RMSE\n",
    "from sklearn.metrics import mean_squared_error\n",
    "\n",
    "rmse = np.sqrt(mean_squared_error(real_prices, predicted_prices))\n",
    "rmse"
   ]
  },
  {
   "cell_type": "code",
   "execution_count": 117,
   "metadata": {},
   "outputs": [
    {
     "data": {
      "text/plain": [
       "0.30124079087037026"
      ]
     },
     "execution_count": 117,
     "metadata": {},
     "output_type": "execute_result"
    }
   ],
   "source": [
    "# calculate MAE\n",
    "from sklearn.metrics import mean_absolute_error\n",
    "\n",
    "mae = mean_absolute_error(real_prices, predicted_prices)\n",
    "mae"
   ]
  },
  {
   "cell_type": "markdown",
   "metadata": {},
   "source": [
    "Directional Accuracy adalah metrik yang digunakan untuk mengukur seberapa baik model memprediksi arah perubahan harga (naik atau turun) dibandingkan dengan nilai aktual. Ini adalah metrik yang sangat berguna dalam prediksi saham karena dalam banyak kasus, arah perubahan harga lebih penting daripada nilai absolut dari harga itu sendiri—terutama jika tujuannya adalah untuk membuat keputusan beli atau jual."
   ]
  },
  {
   "cell_type": "code",
   "execution_count": 118,
   "metadata": {},
   "outputs": [
    {
     "data": {
      "text/plain": [
       "0.9601769911504425"
      ]
     },
     "execution_count": 118,
     "metadata": {},
     "output_type": "execute_result"
    }
   ],
   "source": [
    "# direction accuracy\n",
    "direction_accuracy = np.mean(np.sign(real_prices[1:] - real_prices[:-1]) == np.sign(predicted_prices[1:] - predicted_prices[:-1]))\n",
    "direction_accuracy"
   ]
  }
 ],
 "metadata": {
  "kernelspec": {
   "display_name": "ML",
   "language": "python",
   "name": "ml"
  },
  "language_info": {
   "codemirror_mode": {
    "name": "ipython",
    "version": 3
   },
   "file_extension": ".py",
   "mimetype": "text/x-python",
   "name": "python",
   "nbconvert_exporter": "python",
   "pygments_lexer": "ipython3",
   "version": "3.8.19"
  }
 },
 "nbformat": 4,
 "nbformat_minor": 2
}
