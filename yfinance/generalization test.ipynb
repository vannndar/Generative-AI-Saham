{
 "cells": [
  {
   "cell_type": "markdown",
   "metadata": {},
   "source": [
    "# Import Data"
   ]
  },
  {
   "cell_type": "code",
   "execution_count": 63,
   "metadata": {},
   "outputs": [],
   "source": [
    "import pandas as pd\n",
    "import numpy as np "
   ]
  },
  {
   "cell_type": "code",
   "execution_count": 64,
   "metadata": {},
   "outputs": [],
   "source": [
    "data = pd.read_csv('Data/bbca_data_5y.csv')"
   ]
  },
  {
   "cell_type": "code",
   "execution_count": 65,
   "metadata": {},
   "outputs": [],
   "source": [
    "data['date_str'] = pd.to_datetime(data['date_str'])"
   ]
  },
  {
   "cell_type": "code",
   "execution_count": 66,
   "metadata": {},
   "outputs": [],
   "source": [
    "# rename columns\n",
    "data = data.rename(columns={'date_str': 'date'})"
   ]
  },
  {
   "cell_type": "code",
   "execution_count": 67,
   "metadata": {},
   "outputs": [
    {
     "data": {
      "text/html": [
       "<div>\n",
       "<style scoped>\n",
       "    .dataframe tbody tr th:only-of-type {\n",
       "        vertical-align: middle;\n",
       "    }\n",
       "\n",
       "    .dataframe tbody tr th {\n",
       "        vertical-align: top;\n",
       "    }\n",
       "\n",
       "    .dataframe thead th {\n",
       "        text-align: right;\n",
       "    }\n",
       "</style>\n",
       "<table border=\"1\" class=\"dataframe\">\n",
       "  <thead>\n",
       "    <tr style=\"text-align: right;\">\n",
       "      <th></th>\n",
       "      <th>Open</th>\n",
       "      <th>High</th>\n",
       "      <th>Low</th>\n",
       "      <th>Close</th>\n",
       "      <th>Volume</th>\n",
       "      <th>Dividends</th>\n",
       "      <th>Stock Splits</th>\n",
       "      <th>date</th>\n",
       "    </tr>\n",
       "  </thead>\n",
       "  <tbody>\n",
       "    <tr>\n",
       "      <th>0</th>\n",
       "      <td>5633.568658</td>\n",
       "      <td>5660.523532</td>\n",
       "      <td>5615.598742</td>\n",
       "      <td>5651.538574</td>\n",
       "      <td>58420500</td>\n",
       "      <td>0.0</td>\n",
       "      <td>0.0</td>\n",
       "      <td>2019-10-31</td>\n",
       "    </tr>\n",
       "    <tr>\n",
       "      <th>1</th>\n",
       "      <td>5660.522959</td>\n",
       "      <td>5682.985352</td>\n",
       "      <td>5638.060566</td>\n",
       "      <td>5682.985352</td>\n",
       "      <td>42080500</td>\n",
       "      <td>0.0</td>\n",
       "      <td>0.0</td>\n",
       "      <td>2019-11-01</td>\n",
       "    </tr>\n",
       "    <tr>\n",
       "      <th>2</th>\n",
       "      <td>5705.447725</td>\n",
       "      <td>5732.402596</td>\n",
       "      <td>5624.583111</td>\n",
       "      <td>5638.060547</td>\n",
       "      <td>43794500</td>\n",
       "      <td>0.0</td>\n",
       "      <td>0.0</td>\n",
       "      <td>2019-11-04</td>\n",
       "    </tr>\n",
       "    <tr>\n",
       "      <th>3</th>\n",
       "      <td>5705.447660</td>\n",
       "      <td>5714.432617</td>\n",
       "      <td>5633.568005</td>\n",
       "      <td>5714.432617</td>\n",
       "      <td>66161500</td>\n",
       "      <td>0.0</td>\n",
       "      <td>0.0</td>\n",
       "      <td>2019-11-05</td>\n",
       "    </tr>\n",
       "    <tr>\n",
       "      <th>4</th>\n",
       "      <td>5732.401911</td>\n",
       "      <td>5732.401911</td>\n",
       "      <td>5656.029785</td>\n",
       "      <td>5656.029785</td>\n",
       "      <td>63393000</td>\n",
       "      <td>0.0</td>\n",
       "      <td>0.0</td>\n",
       "      <td>2019-11-06</td>\n",
       "    </tr>\n",
       "  </tbody>\n",
       "</table>\n",
       "</div>"
      ],
      "text/plain": [
       "          Open         High          Low        Close    Volume  Dividends  \\\n",
       "0  5633.568658  5660.523532  5615.598742  5651.538574  58420500        0.0   \n",
       "1  5660.522959  5682.985352  5638.060566  5682.985352  42080500        0.0   \n",
       "2  5705.447725  5732.402596  5624.583111  5638.060547  43794500        0.0   \n",
       "3  5705.447660  5714.432617  5633.568005  5714.432617  66161500        0.0   \n",
       "4  5732.401911  5732.401911  5656.029785  5656.029785  63393000        0.0   \n",
       "\n",
       "   Stock Splits       date  \n",
       "0           0.0 2019-10-31  \n",
       "1           0.0 2019-11-01  \n",
       "2           0.0 2019-11-04  \n",
       "3           0.0 2019-11-05  \n",
       "4           0.0 2019-11-06  "
      ]
     },
     "execution_count": 67,
     "metadata": {},
     "output_type": "execute_result"
    }
   ],
   "source": [
    "data.head()"
   ]
  },
  {
   "cell_type": "code",
   "execution_count": 68,
   "metadata": {},
   "outputs": [
    {
     "name": "stdout",
     "output_type": "stream",
     "text": [
      "<class 'pandas.core.frame.DataFrame'>\n",
      "RangeIndex: 1213 entries, 0 to 1212\n",
      "Data columns (total 8 columns):\n",
      " #   Column        Non-Null Count  Dtype         \n",
      "---  ------        --------------  -----         \n",
      " 0   Open          1213 non-null   float64       \n",
      " 1   High          1213 non-null   float64       \n",
      " 2   Low           1213 non-null   float64       \n",
      " 3   Close         1213 non-null   float64       \n",
      " 4   Volume        1213 non-null   int64         \n",
      " 5   Dividends     1213 non-null   float64       \n",
      " 6   Stock Splits  1213 non-null   float64       \n",
      " 7   date          1213 non-null   datetime64[ns]\n",
      "dtypes: datetime64[ns](1), float64(6), int64(1)\n",
      "memory usage: 75.9 KB\n"
     ]
    }
   ],
   "source": [
    "data.info()"
   ]
  },
  {
   "cell_type": "code",
   "execution_count": 69,
   "metadata": {},
   "outputs": [
    {
     "data": {
      "text/plain": [
       "Open            0\n",
       "High            0\n",
       "Low             0\n",
       "Close           0\n",
       "Volume          0\n",
       "Dividends       0\n",
       "Stock Splits    0\n",
       "date            0\n",
       "dtype: int64"
      ]
     },
     "execution_count": 69,
     "metadata": {},
     "output_type": "execute_result"
    }
   ],
   "source": [
    "data.isnull().sum()"
   ]
  },
  {
   "cell_type": "markdown",
   "metadata": {},
   "source": [
    "# Feature Engineering"
   ]
  },
  {
   "cell_type": "code",
   "execution_count": 70,
   "metadata": {},
   "outputs": [
    {
     "data": {
      "text/plain": [
       "Dividends\n",
       "0.0      1203\n",
       "20.0        1\n",
       "91.0        1\n",
       "19.6        1\n",
       "86.4        1\n",
       "25.0        1\n",
       "120.0       1\n",
       "35.0        1\n",
       "170.0       1\n",
       "42.5        1\n",
       "227.5       1\n",
       "Name: count, dtype: int64"
      ]
     },
     "execution_count": 70,
     "metadata": {},
     "output_type": "execute_result"
    }
   ],
   "source": [
    "data['Dividends'].value_counts()"
   ]
  },
  {
   "cell_type": "code",
   "execution_count": 71,
   "metadata": {},
   "outputs": [
    {
     "data": {
      "text/plain": [
       "Stock Splits\n",
       "0.0    1212\n",
       "5.0       1\n",
       "Name: count, dtype: int64"
      ]
     },
     "execution_count": 71,
     "metadata": {},
     "output_type": "execute_result"
    }
   ],
   "source": [
    "data['Stock Splits'].value_counts()"
   ]
  },
  {
   "cell_type": "code",
   "execution_count": 72,
   "metadata": {},
   "outputs": [],
   "source": [
    "data.drop(['Dividends', 'Stock Splits'], axis=1, inplace=True)"
   ]
  },
  {
   "cell_type": "code",
   "execution_count": 73,
   "metadata": {},
   "outputs": [],
   "source": [
    "# 1. Menghitung Return Harian\n",
    "data['return'] = data['Close'].pct_change()\n",
    "data['log_return'] = np.log(data['Close'] / data['Close'].shift(1))"
   ]
  },
  {
   "cell_type": "code",
   "execution_count": 74,
   "metadata": {},
   "outputs": [],
   "source": [
    "# 2. Moving Averages\n",
    "data['ma_5'] = data['Close'].rolling(window=5).mean()\n",
    "data['ma_10'] = data['Close'].rolling(window=10).mean()\n",
    "data['ma_20'] = data['Close'].rolling(window=20).mean()"
   ]
  },
  {
   "cell_type": "code",
   "execution_count": 75,
   "metadata": {},
   "outputs": [],
   "source": [
    "# 3. Exponential Moving Average (EMA)\n",
    "data['ema_10'] = data['Close'].ewm(span=10, adjust=False).mean()\n",
    "data['ema_20'] = data['Close'].ewm(span=20, adjust=False).mean()"
   ]
  },
  {
   "cell_type": "code",
   "execution_count": 76,
   "metadata": {},
   "outputs": [],
   "source": [
    "# 4. Bollinger Bands\n",
    "data['bollinger_mid'] = data['Close'].rolling(window=20).mean()\n",
    "data['bollinger_std'] = data['Close'].rolling(window=20).std()\n",
    "data['bollinger_upper'] = data['bollinger_mid'] + (2 * data['bollinger_std'])\n",
    "data['bollinger_lower'] = data['bollinger_mid'] - (2 * data['bollinger_std'])"
   ]
  },
  {
   "cell_type": "code",
   "execution_count": 77,
   "metadata": {},
   "outputs": [],
   "source": [
    "# 10. Penambahan Fitur Waktu\n",
    "data['day_of_week'] = data['date'].dt.dayofweek  # 0 = Monday, 6 = Sunday\n",
    "data['month'] = data['date'].dt.month"
   ]
  },
  {
   "cell_type": "code",
   "execution_count": 78,
   "metadata": {},
   "outputs": [],
   "source": [
    "# Hapus data yang mengandung nilai NaN akibat perhitungan rolling\n",
    "data = data.dropna().reset_index(drop=True)"
   ]
  },
  {
   "cell_type": "code",
   "execution_count": 79,
   "metadata": {},
   "outputs": [
    {
     "data": {
      "text/html": [
       "<div>\n",
       "<style scoped>\n",
       "    .dataframe tbody tr th:only-of-type {\n",
       "        vertical-align: middle;\n",
       "    }\n",
       "\n",
       "    .dataframe tbody tr th {\n",
       "        vertical-align: top;\n",
       "    }\n",
       "\n",
       "    .dataframe thead th {\n",
       "        text-align: right;\n",
       "    }\n",
       "</style>\n",
       "<table border=\"1\" class=\"dataframe\">\n",
       "  <thead>\n",
       "    <tr style=\"text-align: right;\">\n",
       "      <th></th>\n",
       "      <th>Open</th>\n",
       "      <th>High</th>\n",
       "      <th>Low</th>\n",
       "      <th>Close</th>\n",
       "      <th>Volume</th>\n",
       "      <th>date</th>\n",
       "      <th>return</th>\n",
       "      <th>log_return</th>\n",
       "      <th>ma_5</th>\n",
       "      <th>ma_10</th>\n",
       "      <th>ma_20</th>\n",
       "      <th>ema_10</th>\n",
       "      <th>ema_20</th>\n",
       "      <th>bollinger_mid</th>\n",
       "      <th>bollinger_std</th>\n",
       "      <th>bollinger_upper</th>\n",
       "      <th>bollinger_lower</th>\n",
       "      <th>day_of_week</th>\n",
       "      <th>month</th>\n",
       "    </tr>\n",
       "  </thead>\n",
       "  <tbody>\n",
       "    <tr>\n",
       "      <th>0</th>\n",
       "      <td>5633.567592</td>\n",
       "      <td>5660.522461</td>\n",
       "      <td>5606.612723</td>\n",
       "      <td>5660.522461</td>\n",
       "      <td>58833500</td>\n",
       "      <td>2019-11-27</td>\n",
       "      <td>0.002387</td>\n",
       "      <td>0.002384</td>\n",
       "      <td>5654.232910</td>\n",
       "      <td>5656.479346</td>\n",
       "      <td>5656.254785</td>\n",
       "      <td>5656.135917</td>\n",
       "      <td>5655.397281</td>\n",
       "      <td>5656.254785</td>\n",
       "      <td>22.882915</td>\n",
       "      <td>5702.020616</td>\n",
       "      <td>5610.488955</td>\n",
       "      <td>2</td>\n",
       "      <td>11</td>\n",
       "    </tr>\n",
       "    <tr>\n",
       "      <th>1</th>\n",
       "      <td>5656.029959</td>\n",
       "      <td>5656.029959</td>\n",
       "      <td>5611.105178</td>\n",
       "      <td>5615.597656</td>\n",
       "      <td>44248000</td>\n",
       "      <td>2019-11-28</td>\n",
       "      <td>-0.007937</td>\n",
       "      <td>-0.007968</td>\n",
       "      <td>5645.247949</td>\n",
       "      <td>5654.682373</td>\n",
       "      <td>5654.457739</td>\n",
       "      <td>5648.765324</td>\n",
       "      <td>5651.606841</td>\n",
       "      <td>5654.457739</td>\n",
       "      <td>24.618244</td>\n",
       "      <td>5703.694226</td>\n",
       "      <td>5605.221252</td>\n",
       "      <td>3</td>\n",
       "      <td>11</td>\n",
       "    </tr>\n",
       "    <tr>\n",
       "      <th>2</th>\n",
       "      <td>5597.627951</td>\n",
       "      <td>5656.030169</td>\n",
       "      <td>5593.135473</td>\n",
       "      <td>5642.552734</td>\n",
       "      <td>52954500</td>\n",
       "      <td>2019-11-29</td>\n",
       "      <td>0.004800</td>\n",
       "      <td>0.004789</td>\n",
       "      <td>5640.755566</td>\n",
       "      <td>5655.131592</td>\n",
       "      <td>5652.436108</td>\n",
       "      <td>5647.635762</td>\n",
       "      <td>5650.744545</td>\n",
       "      <td>5652.436108</td>\n",
       "      <td>23.798789</td>\n",
       "      <td>5700.033687</td>\n",
       "      <td>5604.838530</td>\n",
       "      <td>4</td>\n",
       "      <td>11</td>\n",
       "    </tr>\n",
       "    <tr>\n",
       "      <th>3</th>\n",
       "      <td>5642.552605</td>\n",
       "      <td>5772.834473</td>\n",
       "      <td>5633.567649</td>\n",
       "      <td>5772.834473</td>\n",
       "      <td>49909000</td>\n",
       "      <td>2019-12-02</td>\n",
       "      <td>0.023089</td>\n",
       "      <td>0.022827</td>\n",
       "      <td>5667.710352</td>\n",
       "      <td>5668.159766</td>\n",
       "      <td>5659.174805</td>\n",
       "      <td>5670.399164</td>\n",
       "      <td>5662.372157</td>\n",
       "      <td>5659.174805</td>\n",
       "      <td>35.646048</td>\n",
       "      <td>5730.466900</td>\n",
       "      <td>5587.882709</td>\n",
       "      <td>0</td>\n",
       "      <td>12</td>\n",
       "    </tr>\n",
       "    <tr>\n",
       "      <th>4</th>\n",
       "      <td>5768.341972</td>\n",
       "      <td>5768.341972</td>\n",
       "      <td>5700.954799</td>\n",
       "      <td>5727.909668</td>\n",
       "      <td>42823000</td>\n",
       "      <td>2019-12-03</td>\n",
       "      <td>-0.007782</td>\n",
       "      <td>-0.007813</td>\n",
       "      <td>5683.883398</td>\n",
       "      <td>5673.550635</td>\n",
       "      <td>5659.848657</td>\n",
       "      <td>5680.855619</td>\n",
       "      <td>5668.613825</td>\n",
       "      <td>5659.848657</td>\n",
       "      <td>36.852585</td>\n",
       "      <td>5733.553828</td>\n",
       "      <td>5586.143486</td>\n",
       "      <td>1</td>\n",
       "      <td>12</td>\n",
       "    </tr>\n",
       "  </tbody>\n",
       "</table>\n",
       "</div>"
      ],
      "text/plain": [
       "          Open         High          Low        Close    Volume       date  \\\n",
       "0  5633.567592  5660.522461  5606.612723  5660.522461  58833500 2019-11-27   \n",
       "1  5656.029959  5656.029959  5611.105178  5615.597656  44248000 2019-11-28   \n",
       "2  5597.627951  5656.030169  5593.135473  5642.552734  52954500 2019-11-29   \n",
       "3  5642.552605  5772.834473  5633.567649  5772.834473  49909000 2019-12-02   \n",
       "4  5768.341972  5768.341972  5700.954799  5727.909668  42823000 2019-12-03   \n",
       "\n",
       "     return  log_return         ma_5        ma_10        ma_20       ema_10  \\\n",
       "0  0.002387    0.002384  5654.232910  5656.479346  5656.254785  5656.135917   \n",
       "1 -0.007937   -0.007968  5645.247949  5654.682373  5654.457739  5648.765324   \n",
       "2  0.004800    0.004789  5640.755566  5655.131592  5652.436108  5647.635762   \n",
       "3  0.023089    0.022827  5667.710352  5668.159766  5659.174805  5670.399164   \n",
       "4 -0.007782   -0.007813  5683.883398  5673.550635  5659.848657  5680.855619   \n",
       "\n",
       "        ema_20  bollinger_mid  bollinger_std  bollinger_upper  \\\n",
       "0  5655.397281    5656.254785      22.882915      5702.020616   \n",
       "1  5651.606841    5654.457739      24.618244      5703.694226   \n",
       "2  5650.744545    5652.436108      23.798789      5700.033687   \n",
       "3  5662.372157    5659.174805      35.646048      5730.466900   \n",
       "4  5668.613825    5659.848657      36.852585      5733.553828   \n",
       "\n",
       "   bollinger_lower  day_of_week  month  \n",
       "0      5610.488955            2     11  \n",
       "1      5605.221252            3     11  \n",
       "2      5604.838530            4     11  \n",
       "3      5587.882709            0     12  \n",
       "4      5586.143486            1     12  "
      ]
     },
     "execution_count": 79,
     "metadata": {},
     "output_type": "execute_result"
    }
   ],
   "source": [
    "data.head()"
   ]
  },
  {
   "cell_type": "code",
   "execution_count": 80,
   "metadata": {},
   "outputs": [
    {
     "data": {
      "text/plain": [
       "Open               0\n",
       "High               0\n",
       "Low                0\n",
       "Close              0\n",
       "Volume             0\n",
       "date               0\n",
       "return             0\n",
       "log_return         0\n",
       "ma_5               0\n",
       "ma_10              0\n",
       "ma_20              0\n",
       "ema_10             0\n",
       "ema_20             0\n",
       "bollinger_mid      0\n",
       "bollinger_std      0\n",
       "bollinger_upper    0\n",
       "bollinger_lower    0\n",
       "day_of_week        0\n",
       "month              0\n",
       "dtype: int64"
      ]
     },
     "execution_count": 80,
     "metadata": {},
     "output_type": "execute_result"
    }
   ],
   "source": [
    "data.isnull().sum()"
   ]
  },
  {
   "cell_type": "markdown",
   "metadata": {},
   "source": [
    "# Modelling"
   ]
  },
  {
   "cell_type": "markdown",
   "metadata": {},
   "source": [
    "## Preprocessing"
   ]
  },
  {
   "cell_type": "code",
   "execution_count": 81,
   "metadata": {},
   "outputs": [],
   "source": [
    "dataUsed = data[['Close', 'Volume', 'ma_5', 'ma_10', 'ema_10', 'bollinger_mid', 'bollinger_std', 'bollinger_upper', 'bollinger_lower', 'day_of_week', 'month']]"
   ]
  },
  {
   "cell_type": "code",
   "execution_count": 82,
   "metadata": {},
   "outputs": [
    {
     "data": {
      "text/plain": [
       "array([[0.23969743, 0.07777769, 0.21817154, ..., 0.27528493, 0.5       ,\n",
       "        0.90909091],\n",
       "       [0.23323999, 0.05849571, 0.21682084, ..., 0.27446791, 0.75      ,\n",
       "        0.90909091],\n",
       "       [0.23711448, 0.07000567, 0.2161455 , ..., 0.27440854, 1.        ,\n",
       "        0.90909091],\n",
       "       ...,\n",
       "       [0.93531759, 0.06567692, 0.96767917, ..., 0.99948838, 0.25      ,\n",
       "        0.81818182],\n",
       "       [0.91375679, 0.15134759, 0.9586594 , ..., 0.99624454, 0.5       ,\n",
       "        0.81818182],\n",
       "       [0.89938292, 0.12896526, 0.94512975, ..., 0.99061983, 0.75      ,\n",
       "        0.81818182]])"
      ]
     },
     "execution_count": 82,
     "metadata": {},
     "output_type": "execute_result"
    }
   ],
   "source": [
    "from sklearn.preprocessing import MinMaxScaler\n",
    "\n",
    "# preprocessing\n",
    "scaler = MinMaxScaler(feature_range=(0, 1))\n",
    "data_scaled = scaler.fit_transform(dataUsed)\n",
    "\n",
    "data_scaled"
   ]
  },
  {
   "cell_type": "markdown",
   "metadata": {},
   "source": [
    "## Train Test Sequence"
   ]
  },
  {
   "cell_type": "code",
   "execution_count": 83,
   "metadata": {},
   "outputs": [],
   "source": [
    "import numpy as np\n",
    "\n",
    "# sequence generator 60 days\n",
    "sequence_length = 60\n",
    "x = []\n",
    "y = []\n",
    "\n",
    "for i in range(sequence_length, len(data_scaled)):\n",
    "    x.append(data_scaled[i-sequence_length:i])\n",
    "    y.append(data_scaled[i,3])\n",
    "\n",
    "x, y = np.array(x), np.array(y)"
   ]
  },
  {
   "cell_type": "code",
   "execution_count": 84,
   "metadata": {},
   "outputs": [
    {
     "name": "stdout",
     "output_type": "stream",
     "text": [
      "(1134, 60, 11) (1134,)\n"
     ]
    }
   ],
   "source": [
    "print(x.shape, y.shape)"
   ]
  },
  {
   "cell_type": "markdown",
   "metadata": {},
   "source": [
    "## LSTM"
   ]
  },
  {
   "cell_type": "code",
   "execution_count": 85,
   "metadata": {},
   "outputs": [],
   "source": [
    "from sklearn.model_selection import train_test_split\n",
    "\n",
    "# train and test split\n",
    "x_train, x_test, y_train, y_test = train_test_split(x, y, test_size=0.2, random_state=42)"
   ]
  },
  {
   "cell_type": "code",
   "execution_count": 86,
   "metadata": {},
   "outputs": [],
   "source": [
    "from tensorflow.keras.models import Sequential\n",
    "from tensorflow.keras.layers import LSTM, Dense, Dropout"
   ]
  },
  {
   "cell_type": "code",
   "execution_count": 1,
   "metadata": {},
   "outputs": [],
   "source": [
    "from keras.models import load_model\n",
    "\n",
    "model = load_model('Model/lstm_model_bbni.h5')"
   ]
  },
  {
   "cell_type": "code",
   "execution_count": 90,
   "metadata": {},
   "outputs": [
    {
     "name": "stdout",
     "output_type": "stream",
     "text": [
      "Epoch 1/100\n"
     ]
    },
    {
     "ename": "KeyboardInterrupt",
     "evalue": "",
     "output_type": "error",
     "traceback": [
      "\u001b[1;31m---------------------------------------------------------------------------\u001b[0m",
      "\u001b[1;31mKeyboardInterrupt\u001b[0m                         Traceback (most recent call last)",
      "Cell \u001b[1;32mIn[90], line 2\u001b[0m\n\u001b[0;32m      1\u001b[0m \u001b[38;5;66;03m# train model with early stopping\u001b[39;00m\n\u001b[1;32m----> 2\u001b[0m \u001b[43mmodel\u001b[49m\u001b[38;5;241;43m.\u001b[39;49m\u001b[43mfit\u001b[49m\u001b[43m(\u001b[49m\u001b[43mx_train\u001b[49m\u001b[43m,\u001b[49m\u001b[43m \u001b[49m\u001b[43my_train\u001b[49m\u001b[43m,\u001b[49m\u001b[43m \u001b[49m\u001b[43mepochs\u001b[49m\u001b[38;5;241;43m=\u001b[39;49m\u001b[38;5;241;43m100\u001b[39;49m\u001b[43m,\u001b[49m\u001b[43m \u001b[49m\u001b[43mbatch_size\u001b[49m\u001b[38;5;241;43m=\u001b[39;49m\u001b[38;5;241;43m32\u001b[39;49m\u001b[43m,\u001b[49m\u001b[43m \u001b[49m\u001b[43mvalidation_data\u001b[49m\u001b[38;5;241;43m=\u001b[39;49m\u001b[43m(\u001b[49m\u001b[43mx_test\u001b[49m\u001b[43m,\u001b[49m\u001b[43m \u001b[49m\u001b[43my_test\u001b[49m\u001b[43m)\u001b[49m\u001b[43m,\u001b[49m\u001b[43m \u001b[49m\u001b[43mverbose\u001b[49m\u001b[38;5;241;43m=\u001b[39;49m\u001b[38;5;241;43m1\u001b[39;49m\u001b[43m)\u001b[49m\n",
      "File \u001b[1;32mc:\\Users\\thari\\anaconda3\\envs\\ML\\lib\\site-packages\\keras\\src\\utils\\traceback_utils.py:65\u001b[0m, in \u001b[0;36mfilter_traceback.<locals>.error_handler\u001b[1;34m(*args, **kwargs)\u001b[0m\n\u001b[0;32m     63\u001b[0m filtered_tb \u001b[38;5;241m=\u001b[39m \u001b[38;5;28;01mNone\u001b[39;00m\n\u001b[0;32m     64\u001b[0m \u001b[38;5;28;01mtry\u001b[39;00m:\n\u001b[1;32m---> 65\u001b[0m     \u001b[38;5;28;01mreturn\u001b[39;00m \u001b[43mfn\u001b[49m\u001b[43m(\u001b[49m\u001b[38;5;241;43m*\u001b[39;49m\u001b[43margs\u001b[49m\u001b[43m,\u001b[49m\u001b[43m \u001b[49m\u001b[38;5;241;43m*\u001b[39;49m\u001b[38;5;241;43m*\u001b[39;49m\u001b[43mkwargs\u001b[49m\u001b[43m)\u001b[49m\n\u001b[0;32m     66\u001b[0m \u001b[38;5;28;01mexcept\u001b[39;00m \u001b[38;5;167;01mException\u001b[39;00m \u001b[38;5;28;01mas\u001b[39;00m e:\n\u001b[0;32m     67\u001b[0m     filtered_tb \u001b[38;5;241m=\u001b[39m _process_traceback_frames(e\u001b[38;5;241m.\u001b[39m__traceback__)\n",
      "File \u001b[1;32mc:\\Users\\thari\\anaconda3\\envs\\ML\\lib\\site-packages\\keras\\src\\engine\\training.py:1742\u001b[0m, in \u001b[0;36mModel.fit\u001b[1;34m(self, x, y, batch_size, epochs, verbose, callbacks, validation_split, validation_data, shuffle, class_weight, sample_weight, initial_epoch, steps_per_epoch, validation_steps, validation_batch_size, validation_freq, max_queue_size, workers, use_multiprocessing)\u001b[0m\n\u001b[0;32m   1734\u001b[0m \u001b[38;5;28;01mwith\u001b[39;00m tf\u001b[38;5;241m.\u001b[39mprofiler\u001b[38;5;241m.\u001b[39mexperimental\u001b[38;5;241m.\u001b[39mTrace(\n\u001b[0;32m   1735\u001b[0m     \u001b[38;5;124m\"\u001b[39m\u001b[38;5;124mtrain\u001b[39m\u001b[38;5;124m\"\u001b[39m,\n\u001b[0;32m   1736\u001b[0m     epoch_num\u001b[38;5;241m=\u001b[39mepoch,\n\u001b[1;32m   (...)\u001b[0m\n\u001b[0;32m   1739\u001b[0m     _r\u001b[38;5;241m=\u001b[39m\u001b[38;5;241m1\u001b[39m,\n\u001b[0;32m   1740\u001b[0m ):\n\u001b[0;32m   1741\u001b[0m     callbacks\u001b[38;5;241m.\u001b[39mon_train_batch_begin(step)\n\u001b[1;32m-> 1742\u001b[0m     tmp_logs \u001b[38;5;241m=\u001b[39m \u001b[38;5;28;43mself\u001b[39;49m\u001b[38;5;241;43m.\u001b[39;49m\u001b[43mtrain_function\u001b[49m\u001b[43m(\u001b[49m\u001b[43miterator\u001b[49m\u001b[43m)\u001b[49m\n\u001b[0;32m   1743\u001b[0m     \u001b[38;5;28;01mif\u001b[39;00m data_handler\u001b[38;5;241m.\u001b[39mshould_sync:\n\u001b[0;32m   1744\u001b[0m         context\u001b[38;5;241m.\u001b[39masync_wait()\n",
      "File \u001b[1;32mc:\\Users\\thari\\anaconda3\\envs\\ML\\lib\\site-packages\\tensorflow\\python\\util\\traceback_utils.py:150\u001b[0m, in \u001b[0;36mfilter_traceback.<locals>.error_handler\u001b[1;34m(*args, **kwargs)\u001b[0m\n\u001b[0;32m    148\u001b[0m filtered_tb \u001b[38;5;241m=\u001b[39m \u001b[38;5;28;01mNone\u001b[39;00m\n\u001b[0;32m    149\u001b[0m \u001b[38;5;28;01mtry\u001b[39;00m:\n\u001b[1;32m--> 150\u001b[0m   \u001b[38;5;28;01mreturn\u001b[39;00m \u001b[43mfn\u001b[49m\u001b[43m(\u001b[49m\u001b[38;5;241;43m*\u001b[39;49m\u001b[43margs\u001b[49m\u001b[43m,\u001b[49m\u001b[43m \u001b[49m\u001b[38;5;241;43m*\u001b[39;49m\u001b[38;5;241;43m*\u001b[39;49m\u001b[43mkwargs\u001b[49m\u001b[43m)\u001b[49m\n\u001b[0;32m    151\u001b[0m \u001b[38;5;28;01mexcept\u001b[39;00m \u001b[38;5;167;01mException\u001b[39;00m \u001b[38;5;28;01mas\u001b[39;00m e:\n\u001b[0;32m    152\u001b[0m   filtered_tb \u001b[38;5;241m=\u001b[39m _process_traceback_frames(e\u001b[38;5;241m.\u001b[39m__traceback__)\n",
      "File \u001b[1;32mc:\\Users\\thari\\anaconda3\\envs\\ML\\lib\\site-packages\\tensorflow\\python\\eager\\polymorphic_function\\polymorphic_function.py:825\u001b[0m, in \u001b[0;36mFunction.__call__\u001b[1;34m(self, *args, **kwds)\u001b[0m\n\u001b[0;32m    822\u001b[0m compiler \u001b[38;5;241m=\u001b[39m \u001b[38;5;124m\"\u001b[39m\u001b[38;5;124mxla\u001b[39m\u001b[38;5;124m\"\u001b[39m \u001b[38;5;28;01mif\u001b[39;00m \u001b[38;5;28mself\u001b[39m\u001b[38;5;241m.\u001b[39m_jit_compile \u001b[38;5;28;01melse\u001b[39;00m \u001b[38;5;124m\"\u001b[39m\u001b[38;5;124mnonXla\u001b[39m\u001b[38;5;124m\"\u001b[39m\n\u001b[0;32m    824\u001b[0m \u001b[38;5;28;01mwith\u001b[39;00m OptionalXlaContext(\u001b[38;5;28mself\u001b[39m\u001b[38;5;241m.\u001b[39m_jit_compile):\n\u001b[1;32m--> 825\u001b[0m   result \u001b[38;5;241m=\u001b[39m \u001b[38;5;28;43mself\u001b[39;49m\u001b[38;5;241;43m.\u001b[39;49m\u001b[43m_call\u001b[49m\u001b[43m(\u001b[49m\u001b[38;5;241;43m*\u001b[39;49m\u001b[43margs\u001b[49m\u001b[43m,\u001b[49m\u001b[43m \u001b[49m\u001b[38;5;241;43m*\u001b[39;49m\u001b[38;5;241;43m*\u001b[39;49m\u001b[43mkwds\u001b[49m\u001b[43m)\u001b[49m\n\u001b[0;32m    827\u001b[0m new_tracing_count \u001b[38;5;241m=\u001b[39m \u001b[38;5;28mself\u001b[39m\u001b[38;5;241m.\u001b[39mexperimental_get_tracing_count()\n\u001b[0;32m    828\u001b[0m without_tracing \u001b[38;5;241m=\u001b[39m (tracing_count \u001b[38;5;241m==\u001b[39m new_tracing_count)\n",
      "File \u001b[1;32mc:\\Users\\thari\\anaconda3\\envs\\ML\\lib\\site-packages\\tensorflow\\python\\eager\\polymorphic_function\\polymorphic_function.py:897\u001b[0m, in \u001b[0;36mFunction._call\u001b[1;34m(self, *args, **kwds)\u001b[0m\n\u001b[0;32m    892\u001b[0m   _, _, filtered_flat_args \u001b[38;5;241m=\u001b[39m (\n\u001b[0;32m    893\u001b[0m       \u001b[38;5;28mself\u001b[39m\u001b[38;5;241m.\u001b[39m_variable_creation_fn\u001b[38;5;241m.\u001b[39m_function_spec  \u001b[38;5;66;03m# pylint: disable=protected-access\u001b[39;00m\n\u001b[0;32m    894\u001b[0m       \u001b[38;5;241m.\u001b[39mcanonicalize_function_inputs(\n\u001b[0;32m    895\u001b[0m           args, kwds))\n\u001b[0;32m    896\u001b[0m   \u001b[38;5;66;03m# If we did not create any variables the trace we have is good enough.\u001b[39;00m\n\u001b[1;32m--> 897\u001b[0m   \u001b[38;5;28;01mreturn\u001b[39;00m \u001b[38;5;28;43mself\u001b[39;49m\u001b[38;5;241;43m.\u001b[39;49m\u001b[43m_concrete_variable_creation_fn\u001b[49m\u001b[38;5;241;43m.\u001b[39;49m\u001b[43m_call_flat\u001b[49m\u001b[43m(\u001b[49m\u001b[43m   \u001b[49m\u001b[38;5;66;43;03m# pylint: disable=protected-access\u001b[39;49;00m\n\u001b[0;32m    898\u001b[0m \u001b[43m      \u001b[49m\u001b[43mfiltered_flat_args\u001b[49m\u001b[43m,\u001b[49m\n\u001b[0;32m    899\u001b[0m \u001b[43m      \u001b[49m\u001b[38;5;28;43mself\u001b[39;49m\u001b[38;5;241;43m.\u001b[39;49m\u001b[43m_concrete_variable_creation_fn\u001b[49m\u001b[38;5;241;43m.\u001b[39;49m\u001b[43mcaptured_inputs\u001b[49m\u001b[43m)\u001b[49m\n\u001b[0;32m    901\u001b[0m \u001b[38;5;28;01mdef\u001b[39;00m \u001b[38;5;21mfn_with_cond\u001b[39m(inner_args, inner_kwds, inner_filtered_flat_args):\n\u001b[0;32m    902\u001b[0m \u001b[38;5;250m  \u001b[39m\u001b[38;5;124;03m\"\"\"Conditionally runs initialization if it's needed.\"\"\"\u001b[39;00m\n",
      "File \u001b[1;32mc:\\Users\\thari\\anaconda3\\envs\\ML\\lib\\site-packages\\tensorflow\\python\\eager\\polymorphic_function\\monomorphic_function.py:1349\u001b[0m, in \u001b[0;36mConcreteFunction._call_flat\u001b[1;34m(self, args, captured_inputs)\u001b[0m\n\u001b[0;32m   1345\u001b[0m possible_gradient_type \u001b[38;5;241m=\u001b[39m gradients_util\u001b[38;5;241m.\u001b[39mPossibleTapeGradientTypes(args)\n\u001b[0;32m   1346\u001b[0m \u001b[38;5;28;01mif\u001b[39;00m (possible_gradient_type \u001b[38;5;241m==\u001b[39m gradients_util\u001b[38;5;241m.\u001b[39mPOSSIBLE_GRADIENT_TYPES_NONE\n\u001b[0;32m   1347\u001b[0m     \u001b[38;5;129;01mand\u001b[39;00m executing_eagerly):\n\u001b[0;32m   1348\u001b[0m   \u001b[38;5;66;03m# No tape is watching; skip to running the function.\u001b[39;00m\n\u001b[1;32m-> 1349\u001b[0m   \u001b[38;5;28;01mreturn\u001b[39;00m \u001b[38;5;28mself\u001b[39m\u001b[38;5;241m.\u001b[39m_build_call_outputs(\u001b[38;5;28;43mself\u001b[39;49m\u001b[38;5;241;43m.\u001b[39;49m\u001b[43m_inference_function\u001b[49m\u001b[43m(\u001b[49m\u001b[38;5;241;43m*\u001b[39;49m\u001b[43margs\u001b[49m\u001b[43m)\u001b[49m)\n\u001b[0;32m   1350\u001b[0m forward_backward \u001b[38;5;241m=\u001b[39m \u001b[38;5;28mself\u001b[39m\u001b[38;5;241m.\u001b[39m_select_forward_and_backward_functions(\n\u001b[0;32m   1351\u001b[0m     args,\n\u001b[0;32m   1352\u001b[0m     possible_gradient_type,\n\u001b[0;32m   1353\u001b[0m     executing_eagerly)\n\u001b[0;32m   1354\u001b[0m forward_function, args_with_tangents \u001b[38;5;241m=\u001b[39m forward_backward\u001b[38;5;241m.\u001b[39mforward()\n",
      "File \u001b[1;32mc:\\Users\\thari\\anaconda3\\envs\\ML\\lib\\site-packages\\tensorflow\\python\\eager\\polymorphic_function\\atomic_function.py:196\u001b[0m, in \u001b[0;36mAtomicFunction.__call__\u001b[1;34m(self, *args)\u001b[0m\n\u001b[0;32m    194\u001b[0m \u001b[38;5;28;01mwith\u001b[39;00m record\u001b[38;5;241m.\u001b[39mstop_recording():\n\u001b[0;32m    195\u001b[0m   \u001b[38;5;28;01mif\u001b[39;00m \u001b[38;5;28mself\u001b[39m\u001b[38;5;241m.\u001b[39m_bound_context\u001b[38;5;241m.\u001b[39mexecuting_eagerly():\n\u001b[1;32m--> 196\u001b[0m     outputs \u001b[38;5;241m=\u001b[39m \u001b[38;5;28;43mself\u001b[39;49m\u001b[38;5;241;43m.\u001b[39;49m\u001b[43m_bound_context\u001b[49m\u001b[38;5;241;43m.\u001b[39;49m\u001b[43mcall_function\u001b[49m\u001b[43m(\u001b[49m\n\u001b[0;32m    197\u001b[0m \u001b[43m        \u001b[49m\u001b[38;5;28;43mself\u001b[39;49m\u001b[38;5;241;43m.\u001b[39;49m\u001b[43mname\u001b[49m\u001b[43m,\u001b[49m\n\u001b[0;32m    198\u001b[0m \u001b[43m        \u001b[49m\u001b[38;5;28;43mlist\u001b[39;49m\u001b[43m(\u001b[49m\u001b[43margs\u001b[49m\u001b[43m)\u001b[49m\u001b[43m,\u001b[49m\n\u001b[0;32m    199\u001b[0m \u001b[43m        \u001b[49m\u001b[38;5;28;43mlen\u001b[39;49m\u001b[43m(\u001b[49m\u001b[38;5;28;43mself\u001b[39;49m\u001b[38;5;241;43m.\u001b[39;49m\u001b[43mfunction_type\u001b[49m\u001b[38;5;241;43m.\u001b[39;49m\u001b[43mflat_outputs\u001b[49m\u001b[43m)\u001b[49m\u001b[43m,\u001b[49m\n\u001b[0;32m    200\u001b[0m \u001b[43m    \u001b[49m\u001b[43m)\u001b[49m\n\u001b[0;32m    201\u001b[0m   \u001b[38;5;28;01melse\u001b[39;00m:\n\u001b[0;32m    202\u001b[0m     outputs \u001b[38;5;241m=\u001b[39m make_call_op_in_graph(\u001b[38;5;28mself\u001b[39m, \u001b[38;5;28mlist\u001b[39m(args))\n",
      "File \u001b[1;32mc:\\Users\\thari\\anaconda3\\envs\\ML\\lib\\site-packages\\tensorflow\\python\\eager\\context.py:1457\u001b[0m, in \u001b[0;36mContext.call_function\u001b[1;34m(self, name, tensor_inputs, num_outputs)\u001b[0m\n\u001b[0;32m   1455\u001b[0m cancellation_context \u001b[38;5;241m=\u001b[39m cancellation\u001b[38;5;241m.\u001b[39mcontext()\n\u001b[0;32m   1456\u001b[0m \u001b[38;5;28;01mif\u001b[39;00m cancellation_context \u001b[38;5;129;01mis\u001b[39;00m \u001b[38;5;28;01mNone\u001b[39;00m:\n\u001b[1;32m-> 1457\u001b[0m   outputs \u001b[38;5;241m=\u001b[39m \u001b[43mexecute\u001b[49m\u001b[38;5;241;43m.\u001b[39;49m\u001b[43mexecute\u001b[49m\u001b[43m(\u001b[49m\n\u001b[0;32m   1458\u001b[0m \u001b[43m      \u001b[49m\u001b[43mname\u001b[49m\u001b[38;5;241;43m.\u001b[39;49m\u001b[43mdecode\u001b[49m\u001b[43m(\u001b[49m\u001b[38;5;124;43m\"\u001b[39;49m\u001b[38;5;124;43mutf-8\u001b[39;49m\u001b[38;5;124;43m\"\u001b[39;49m\u001b[43m)\u001b[49m\u001b[43m,\u001b[49m\n\u001b[0;32m   1459\u001b[0m \u001b[43m      \u001b[49m\u001b[43mnum_outputs\u001b[49m\u001b[38;5;241;43m=\u001b[39;49m\u001b[43mnum_outputs\u001b[49m\u001b[43m,\u001b[49m\n\u001b[0;32m   1460\u001b[0m \u001b[43m      \u001b[49m\u001b[43minputs\u001b[49m\u001b[38;5;241;43m=\u001b[39;49m\u001b[43mtensor_inputs\u001b[49m\u001b[43m,\u001b[49m\n\u001b[0;32m   1461\u001b[0m \u001b[43m      \u001b[49m\u001b[43mattrs\u001b[49m\u001b[38;5;241;43m=\u001b[39;49m\u001b[43mattrs\u001b[49m\u001b[43m,\u001b[49m\n\u001b[0;32m   1462\u001b[0m \u001b[43m      \u001b[49m\u001b[43mctx\u001b[49m\u001b[38;5;241;43m=\u001b[39;49m\u001b[38;5;28;43mself\u001b[39;49m\u001b[43m,\u001b[49m\n\u001b[0;32m   1463\u001b[0m \u001b[43m  \u001b[49m\u001b[43m)\u001b[49m\n\u001b[0;32m   1464\u001b[0m \u001b[38;5;28;01melse\u001b[39;00m:\n\u001b[0;32m   1465\u001b[0m   outputs \u001b[38;5;241m=\u001b[39m execute\u001b[38;5;241m.\u001b[39mexecute_with_cancellation(\n\u001b[0;32m   1466\u001b[0m       name\u001b[38;5;241m.\u001b[39mdecode(\u001b[38;5;124m\"\u001b[39m\u001b[38;5;124mutf-8\u001b[39m\u001b[38;5;124m\"\u001b[39m),\n\u001b[0;32m   1467\u001b[0m       num_outputs\u001b[38;5;241m=\u001b[39mnum_outputs,\n\u001b[1;32m   (...)\u001b[0m\n\u001b[0;32m   1471\u001b[0m       cancellation_manager\u001b[38;5;241m=\u001b[39mcancellation_context,\n\u001b[0;32m   1472\u001b[0m   )\n",
      "File \u001b[1;32mc:\\Users\\thari\\anaconda3\\envs\\ML\\lib\\site-packages\\tensorflow\\python\\eager\\execute.py:53\u001b[0m, in \u001b[0;36mquick_execute\u001b[1;34m(op_name, num_outputs, inputs, attrs, ctx, name)\u001b[0m\n\u001b[0;32m     51\u001b[0m \u001b[38;5;28;01mtry\u001b[39;00m:\n\u001b[0;32m     52\u001b[0m   ctx\u001b[38;5;241m.\u001b[39mensure_initialized()\n\u001b[1;32m---> 53\u001b[0m   tensors \u001b[38;5;241m=\u001b[39m \u001b[43mpywrap_tfe\u001b[49m\u001b[38;5;241;43m.\u001b[39;49m\u001b[43mTFE_Py_Execute\u001b[49m\u001b[43m(\u001b[49m\u001b[43mctx\u001b[49m\u001b[38;5;241;43m.\u001b[39;49m\u001b[43m_handle\u001b[49m\u001b[43m,\u001b[49m\u001b[43m \u001b[49m\u001b[43mdevice_name\u001b[49m\u001b[43m,\u001b[49m\u001b[43m \u001b[49m\u001b[43mop_name\u001b[49m\u001b[43m,\u001b[49m\n\u001b[0;32m     54\u001b[0m \u001b[43m                                      \u001b[49m\u001b[43minputs\u001b[49m\u001b[43m,\u001b[49m\u001b[43m \u001b[49m\u001b[43mattrs\u001b[49m\u001b[43m,\u001b[49m\u001b[43m \u001b[49m\u001b[43mnum_outputs\u001b[49m\u001b[43m)\u001b[49m\n\u001b[0;32m     55\u001b[0m \u001b[38;5;28;01mexcept\u001b[39;00m core\u001b[38;5;241m.\u001b[39m_NotOkStatusException \u001b[38;5;28;01mas\u001b[39;00m e:\n\u001b[0;32m     56\u001b[0m   \u001b[38;5;28;01mif\u001b[39;00m name \u001b[38;5;129;01mis\u001b[39;00m \u001b[38;5;129;01mnot\u001b[39;00m \u001b[38;5;28;01mNone\u001b[39;00m:\n",
      "\u001b[1;31mKeyboardInterrupt\u001b[0m: "
     ]
    }
   ],
   "source": [
    "# train model with early stopping\n",
    "model.fit(x_train, y_train, epochs=100, batch_size=32, validation_data=(x_test, y_test), verbose=1)"
   ]
  },
  {
   "cell_type": "code",
   "execution_count": null,
   "metadata": {},
   "outputs": [
    {
     "name": "stdout",
     "output_type": "stream",
     "text": [
      "8/8 [==============================] - 1s 14ms/step\n"
     ]
    }
   ],
   "source": [
    "# prediction\n",
    "predicted_prices =  model.predict(x_test)\n"
   ]
  },
  {
   "cell_type": "code",
   "execution_count": null,
   "metadata": {},
   "outputs": [],
   "source": [
    "# Dapatkan jumlah kolom yang diharapkan oleh scaler\n",
    "expected_columns = scaler.min_.shape[0]  # Ini adalah 13 dalam kasus Anda\n",
    "\n",
    "# Tambahkan kolom nol untuk menyesuaikan jumlah kolom\n",
    "predicted_prices_padded = np.hstack([np.zeros((predicted_prices.shape[0], expected_columns - 1)), predicted_prices])\n",
    "\n",
    "# Inverse transform dan ambil hanya kolom harga 'Close'\n",
    "predicted_prices = scaler.inverse_transform(predicted_prices_padded)[:, -1]  # Ambil hanya kolom harga\n"
   ]
  },
  {
   "cell_type": "code",
   "execution_count": null,
   "metadata": {},
   "outputs": [],
   "source": [
    "expected_columns = scaler.min_.shape[0]  # Ini adalah 13 dalam kasus Anda\n",
    "\n",
    "# Tambahkan kolom nol untuk menyesuaikan jumlah kolom\n",
    "real_prices_padded = np.hstack([np.zeros((y_test.shape[0], expected_columns - 1)), y_test.reshape(-1,1)])\n",
    "\n",
    "# Inverse transform dan ambil hanya kolom harga 'Close'\n",
    "real_prices = scaler.inverse_transform(real_prices_padded)[:, -1]  # Ambil hanya kolom harga\n"
   ]
  },
  {
   "cell_type": "code",
   "execution_count": null,
   "metadata": {},
   "outputs": [
    {
     "data": {
      "text/plain": [
       "array([ 8.29222756,  8.23603051,  5.2871986 ,  5.86497058,  7.43214798,\n",
       "        3.01337832,  6.1008896 ,  1.20678997, 10.2936704 ,  9.6641267 ,\n",
       "        8.01324361,  2.32806422,  6.98743696,  8.25764499,  7.25414573,\n",
       "        8.39597634,  6.91509457,  8.65967026,  7.53386339,  5.32028139,\n",
       "        2.98485748,  3.53676148,  9.61200505,  2.35169549,  2.43073899,\n",
       "        1.21864891,  3.47215124,  3.535104  ,  3.13433247,  2.96611518,\n",
       "        3.06797526,  5.16643782,  8.65534715,  6.2233175 ,  8.34714241,\n",
       "        1.00560705, 10.08110024, 10.68470427,  5.3493871 ,  6.89033869,\n",
       "        3.15688504,  4.62829846,  8.41759047,  3.53245617,  8.67263853,\n",
       "       11.5200948 ,  2.46903837,  5.67450196,  9.54270763,  7.31348019,\n",
       "        3.38591923,  6.20176351,  3.48606012,  3.66191141,  8.74612731,\n",
       "        2.19116479, 10.62642515, 11.06240743,  4.00431009,  5.50141453,\n",
       "        8.67263853,  9.88486226,  1.3322815 ,  5.2329647 , 11.6933939 ,\n",
       "       10.4936309 ,  3.22761725,  5.54785258,  5.1581221 ,  6.01645611,\n",
       "        6.05445129,  3.04196486,  3.46299793,  5.15044575,  7.26606655,\n",
       "        2.96405716,  4.11131717,  7.82526538, 10.22257333,  3.40777993,\n",
       "        3.56328315,  1.84749222,  4.4611419 , 11.0535203 ,  7.54657781,\n",
       "        8.33113342,  7.88986694,  4.34507906,  3.17798313,  3.55167989,\n",
       "        2.99472307,  8.15821966,  3.0005247 ,  2.23272333,  5.67872352,\n",
       "        3.78043027,  3.75985769,  3.0005247 , 10.54585253,  3.77131358,\n",
       "        7.51267253,  2.91286441,  3.83761802,  3.09086441,  7.52538703,\n",
       "        3.96921468,  5.87328647,  7.2449577 ,  8.80664713,  3.8318163 ,\n",
       "       10.15591983,  5.28188811,  7.81910401, 10.03594353,  8.08084606,\n",
       "        7.47029132,  8.74180455,  7.85655226,  1.25486797,  3.0035997 ,\n",
       "        1.01366301,  4.27396976,  7.54272831,  8.35274755,  7.72200618,\n",
       "        3.59809294,  5.26207032, 10.5202923 ,  8.48675615,  5.63650712,\n",
       "        3.99177568,  6.23176063,  4.17098394,  8.91471814,  5.25404638,\n",
       "        2.16916297,  5.93149746,  5.18306943,  8.28854756,  5.27062245,\n",
       "        3.58648968,  6.15602593,  6.70880736,  5.37013482,  2.18057096,\n",
       "       10.58541242,  2.41281171,  4.17997444,  5.81803853,  4.12112547,\n",
       "        3.53096002,  2.18464541,  5.14149041,  3.57157127,  8.72883594,\n",
       "        2.29220958, 10.1736941 ,  5.90239192,  5.1763468 ,  8.53916611,\n",
       "        8.29222756,  5.21217488,  5.46341952,  3.55913918,  6.17265798,\n",
       "       12.        ,  6.19798761,  6.11355412,  9.00549812, 10.80468057,\n",
       "        8.57753614,  3.80612329,  6.17265754,  2.13493761,  4.09905683,\n",
       "       11.2801422 ,  9.21674858,  8.72593547,  5.16643782,  7.75848473,\n",
       "        1.63892631,  1.79702702,  8.91039538,  2.66786906,  1.36080208,\n",
       "        8.93633245,  3.68180271,  6.24334263,  5.34943483,  2.94665201,\n",
       "        8.1841562 ,  3.42392257,  7.80086551,  6.15577112, 11.2401501 ,\n",
       "        8.80664713,  8.51269339,  8.62508768,  3.59229148,  8.45649616,\n",
       "        6.04178643,  1.05929653,  8.0151336 ,  7.15208169,  1.1896772 ,\n",
       "        3.10931649, 11.5334255 ,  7.21962825,  2.99708067,  2.5554154 ,\n",
       "        5.58162603,  3.79286219,  3.19799776, 10.85800337,  5.63628442,\n",
       "        4.56739695,  3.80529498,  8.81097006,  5.19138506,  3.14390801,\n",
       "       11.75116027, 11.48898983,  1.70875574,  8.17983345,  1.87825082,\n",
       "        5.61539879,  5.20801685])"
      ]
     },
     "execution_count": 56,
     "metadata": {},
     "output_type": "execute_result"
    }
   ],
   "source": [
    "real_prices"
   ]
  },
  {
   "cell_type": "markdown",
   "metadata": {},
   "source": [
    "# Evaluation"
   ]
  },
  {
   "cell_type": "code",
   "execution_count": null,
   "metadata": {},
   "outputs": [
    {
     "data": {
      "image/png": "[encoded data removed]",
      "text/plain": [
       "<Figure size 640x480 with 1 Axes>"
      ]
     },
     "metadata": {},
     "output_type": "display_data"
    }
   ],
   "source": [
    "# conpare real and predicted prices\n",
    "import matplotlib.pyplot as plt\n",
    "\n",
    "plt.plot(real_prices, color='red', label='Real Prices')\n",
    "plt.plot(predicted_prices, color='blue', label='Predicted Prices')\n",
    "plt.title('Stock Prices Prediction')\n",
    "plt.xlabel('Time')\n",
    "plt.ylabel('Stock Prices')\n",
    "plt.legend()\n",
    "plt.show()"
   ]
  },
  {
   "cell_type": "code",
   "execution_count": null,
   "metadata": {},
   "outputs": [
    {
     "name": "stdout",
     "output_type": "stream",
     "text": [
      "Real Prices:  [ 8.29222756  8.23603051  5.2871986   5.86497058  7.43214798  3.01337832\n",
      "  6.1008896   1.20678997 10.2936704   9.6641267   8.01324361  2.32806422\n",
      "  6.98743696  8.25764499  7.25414573  8.39597634  6.91509457  8.65967026\n",
      "  7.53386339  5.32028139  2.98485748  3.53676148  9.61200505  2.35169549\n",
      "  2.43073899  1.21864891  3.47215124  3.535104    3.13433247  2.96611518\n",
      "  3.06797526  5.16643782  8.65534715  6.2233175   8.34714241  1.00560705\n",
      " 10.08110024 10.68470427  5.3493871   6.89033869  3.15688504  4.62829846\n",
      "  8.41759047  3.53245617  8.67263853 11.5200948   2.46903837  5.67450196\n",
      "  9.54270763  7.31348019  3.38591923  6.20176351  3.48606012  3.66191141\n",
      "  8.74612731  2.19116479 10.62642515 11.06240743  4.00431009  5.50141453\n",
      "  8.67263853  9.88486226  1.3322815   5.2329647  11.6933939  10.4936309\n",
      "  3.22761725  5.54785258  5.1581221   6.01645611  6.05445129  3.04196486\n",
      "  3.46299793  5.15044575  7.26606655  2.96405716  4.11131717  7.82526538\n",
      " 10.22257333  3.40777993  3.56328315  1.84749222  4.4611419  11.0535203\n",
      "  7.54657781  8.33113342  7.88986694  4.34507906  3.17798313  3.55167989\n",
      "  2.99472307  8.15821966  3.0005247   2.23272333  5.67872352  3.78043027\n",
      "  3.75985769  3.0005247  10.54585253  3.77131358  7.51267253  2.91286441\n",
      "  3.83761802  3.09086441  7.52538703  3.96921468  5.87328647  7.2449577\n",
      "  8.80664713  3.8318163  10.15591983  5.28188811  7.81910401 10.03594353\n",
      "  8.08084606  7.47029132  8.74180455  7.85655226  1.25486797  3.0035997\n",
      "  1.01366301  4.27396976  7.54272831  8.35274755  7.72200618  3.59809294\n",
      "  5.26207032 10.5202923   8.48675615  5.63650712  3.99177568  6.23176063\n",
      "  4.17098394  8.91471814  5.25404638  2.16916297  5.93149746  5.18306943\n",
      "  8.28854756  5.27062245  3.58648968  6.15602593  6.70880736  5.37013482\n",
      "  2.18057096 10.58541242  2.41281171  4.17997444  5.81803853  4.12112547\n",
      "  3.53096002  2.18464541  5.14149041  3.57157127  8.72883594  2.29220958\n",
      " 10.1736941   5.90239192  5.1763468   8.53916611  8.29222756  5.21217488\n",
      "  5.46341952  3.55913918  6.17265798 12.          6.19798761  6.11355412\n",
      "  9.00549812 10.80468057  8.57753614  3.80612329  6.17265754  2.13493761\n",
      "  4.09905683 11.2801422   9.21674858  8.72593547  5.16643782  7.75848473\n",
      "  1.63892631  1.79702702  8.91039538  2.66786906  1.36080208  8.93633245\n",
      "  3.68180271  6.24334263  5.34943483  2.94665201  8.1841562   3.42392257\n",
      "  7.80086551  6.15577112 11.2401501   8.80664713  8.51269339  8.62508768\n",
      "  3.59229148  8.45649616  6.04178643  1.05929653  8.0151336   7.15208169\n",
      "  1.1896772   3.10931649 11.5334255   7.21962825  2.99708067  2.5554154\n",
      "  5.58162603  3.79286219  3.19799776 10.85800337  5.63628442  4.56739695\n",
      "  3.80529498  8.81097006  5.19138506  3.14390801 11.75116027 11.48898983\n",
      "  1.70875574  8.17983345  1.87825082  5.61539879  5.20801685]\n",
      "Predicted Prices:  [ 8.33149314  8.18076223  5.2106595   5.92879021  7.46858943  3.20230383\n",
      "  6.20669088  1.7313447  10.19164085  9.70969009  8.02274704  2.38001426\n",
      "  6.91437608  8.16478729  7.24821198  8.38689303  6.86209577  8.73256016\n",
      "  7.61138237  5.40573013  3.16950586  3.6657231   9.66734421  2.55461267\n",
      "  2.62838849  1.54858261  3.67278676  3.64325361  3.30276695  3.11669497\n",
      "  3.24622802  5.23971009  8.70381773  6.17126966  8.33570504  1.07143319\n",
      " 10.15387404 10.45304763  5.35083574  6.81281376  3.30793905  4.60057223\n",
      "  8.51134348  3.6898822   8.7288413  11.36864734  2.47849879  5.75364089\n",
      "  9.49784923  7.34127837  3.39978856  6.19781566  3.54491103  3.71114185\n",
      "  8.84747612  2.37640604 10.56726992 10.92346549  4.10019538  5.60279819\n",
      "  8.7524454   9.9775039   1.56351638  5.27729201 11.48302042 10.5187242\n",
      "  3.43092313  5.55237994  5.24726745  5.95490676  6.18389323  3.18035902\n",
      "  3.642288    5.12199581  7.31262445  3.13447607  4.21080798  7.92397517\n",
      "  9.9642899   3.6260826   3.79942659  2.00279376  4.66284007 11.06102633\n",
      "  7.54758161  8.34287393  7.8741824   4.42577991  3.35691389  3.7947118\n",
      "  3.14490616  8.13998926  3.1485665   2.57832167  5.73913461  3.85212553\n",
      "  3.95512831  3.14374959 10.51878583  3.85677049  7.53198892  3.1704323\n",
      "  3.95117703  3.18241531  7.54584873  4.00787675  5.91054213  7.14821273\n",
      "  8.88015378  3.94666877 10.2224381   5.35733029  7.74649763 10.06683373\n",
      "  7.97799164  7.51854348  8.80704474  7.82506037  1.39976326  3.14559394\n",
      "  1.45279281  4.37659985  7.47116745  8.29559886  7.71167338  3.69979089\n",
      "  5.3085269  10.32826018  8.43677759  5.74161232  3.99244535  6.41168118\n",
      "  4.34174085  8.9940843   5.25614136  2.28958112  5.95666751  5.23597878\n",
      "  8.31408232  5.33854818  3.75903717  6.14967841  6.62876856  5.44605464\n",
      "  2.4528189  10.66779828  2.78913775  4.22809029  5.72998697  4.26102364\n",
      "  3.6881762   2.48515692  5.21430689  3.68039264  8.71916914  2.6795978\n",
      " 10.13354492  5.93579978  5.21735239  8.40559745  8.23181188  5.2691521\n",
      "  5.48561171  3.6774904   6.25651413 11.8245163   6.27752316  6.05900252\n",
      "  9.05720448 10.57245612  8.61523402  3.91347808  6.4204292   2.35548471\n",
      "  4.24558535 11.19357538  9.13099211  8.63677543  5.23085356  7.73716903\n",
      "  1.958873    1.8965614   8.97402728  3.00826831  1.77584538  9.00378466\n",
      "  3.79475442  6.31875968  5.35922086  3.08011357  8.24789959  3.68978484\n",
      "  7.74549842  6.12033278 11.18238866  8.86601138  8.38981724  8.7261256\n",
      "  3.69492121  8.42146093  6.13195157  1.54835117  8.13983583  7.18351823\n",
      "  1.37242129  3.31531578 11.3683995   7.21527207  3.17082569  2.69653621\n",
      "  5.59465796  3.8659955   3.40567647 10.67953837  5.66572857  4.69728044\n",
      "  3.91677895  8.83745909  5.26889312  3.22896965 11.59770823 11.39784741\n",
      "  1.73966393  8.1319536   1.90809987  5.66478148  5.27524835]\n",
      "Difference:  [-0.03926557  0.05526827  0.0765391  -0.06381963 -0.03644144 -0.1889255\n",
      " -0.10580127 -0.52455473  0.10202954 -0.04556339 -0.00950343 -0.05195004\n",
      "  0.07306088  0.09285769  0.00593375  0.00908331  0.05299879 -0.0728899\n",
      " -0.07751897 -0.08544874 -0.18464838 -0.12896162 -0.05533916 -0.20291718\n",
      " -0.1976495  -0.3299337  -0.20063552 -0.10814961 -0.16843448 -0.1505798\n",
      " -0.17825276 -0.07327227 -0.04847057  0.05204785  0.01143737 -0.06582613\n",
      " -0.0727738   0.23165663 -0.00144864  0.07752493 -0.15105401  0.02772624\n",
      " -0.09375301 -0.15742604 -0.05620277  0.15144746 -0.00946042 -0.07913893\n",
      "  0.0448584  -0.02779818 -0.01386933  0.00394786 -0.0588509  -0.04923044\n",
      " -0.10134881 -0.18524126  0.05915523  0.13894194 -0.09588528 -0.10138366\n",
      " -0.07980687 -0.09264163 -0.23123488 -0.04432732  0.21037347 -0.0250933\n",
      " -0.20330588 -0.00452735 -0.08914535  0.06154935 -0.12944194 -0.13839416\n",
      " -0.17929007  0.02844995 -0.0465579  -0.1704189  -0.09949081 -0.09870979\n",
      "  0.25828343 -0.21830267 -0.23614343 -0.15530154 -0.20169817 -0.00750604\n",
      " -0.0010038  -0.01174051  0.01568454 -0.08070084 -0.17893076 -0.24303191\n",
      " -0.1501831   0.0182304  -0.1480418  -0.34559833 -0.06041109 -0.07169525\n",
      " -0.19527062 -0.1432249   0.02706669 -0.0854569  -0.01931639 -0.25756789\n",
      " -0.11355901 -0.0915509  -0.0204617  -0.03866207 -0.03725566  0.09674497\n",
      " -0.07350665 -0.11485247 -0.06651827 -0.07544219  0.07260638 -0.0308902\n",
      "  0.10285442 -0.04825217 -0.06524019  0.03149189 -0.14489529 -0.14199424\n",
      " -0.4391298  -0.10263009  0.07156086  0.05714869  0.0103328  -0.10169795\n",
      " -0.04645658  0.19203211  0.04997856 -0.1051052  -0.00066967 -0.17992055\n",
      " -0.17075691 -0.07936616 -0.00209498 -0.12041815 -0.02517006 -0.05290935\n",
      " -0.02553476 -0.06792573 -0.17254749  0.00634752  0.0800388  -0.07591981\n",
      " -0.27224794 -0.08238586 -0.37632604 -0.04811585  0.08805157 -0.13989817\n",
      " -0.15721618 -0.30051151 -0.07281649 -0.10882137  0.0096668  -0.38738821\n",
      "  0.04014918 -0.03340786 -0.04100559  0.13356866  0.06041568 -0.05697722\n",
      " -0.02219219 -0.11835122 -0.08385615  0.1754837  -0.07953555  0.0545516\n",
      " -0.05170636  0.23222444 -0.03769788 -0.10735479 -0.24777166 -0.2205471\n",
      " -0.14652852  0.08656682  0.08575647  0.08916003 -0.06441574  0.02131571\n",
      " -0.3199467  -0.09953438 -0.06363189 -0.34039925 -0.4150433  -0.06745221\n",
      " -0.11295171 -0.07541705 -0.00978603 -0.13346157 -0.06374339 -0.26586227\n",
      "  0.05536709  0.03543835  0.05776144 -0.05936425  0.12287615 -0.10103792\n",
      " -0.10262973  0.03503523 -0.09016514 -0.48905464 -0.12470223 -0.03143654\n",
      " -0.18274409 -0.20599929  0.165026    0.00435618 -0.17374502 -0.14112081\n",
      " -0.01303193 -0.0731333  -0.20767871  0.178465   -0.02944415 -0.12988348\n",
      " -0.11148397 -0.02648903 -0.07750806 -0.08506164  0.15345204  0.09114242\n",
      " -0.03090819  0.04787985 -0.02984906 -0.04938269 -0.0672315 ]\n"
     ]
    }
   ],
   "source": [
    "# print real and predicted prices and difference\n",
    "print('Real Prices: ', real_prices)\n",
    "print('Predicted Prices: ', predicted_prices)\n",
    "print('Difference: ', real_prices - predicted_prices)"
   ]
  },
  {
   "cell_type": "code",
   "execution_count": null,
   "metadata": {},
   "outputs": [
    {
     "data": {
      "text/plain": [
       "0.14082317561464353"
      ]
     },
     "execution_count": 58,
     "metadata": {},
     "output_type": "execute_result"
    }
   ],
   "source": [
    "# calculate RMSE\n",
    "from sklearn.metrics import mean_squared_error\n",
    "\n",
    "rmse = np.sqrt(mean_squared_error(real_prices, predicted_prices))\n",
    "rmse"
   ]
  },
  {
   "cell_type": "code",
   "execution_count": null,
   "metadata": {},
   "outputs": [
    {
     "name": "stdout",
     "output_type": "stream",
     "text": [
      "Real Prices:  [ 8.29222756  8.23603051  5.2871986   5.86497058  7.43214798  3.01337832\n",
      "  6.1008896   1.20678997 10.2936704   9.6641267   8.01324361  2.32806422\n",
      "  6.98743696  8.25764499  7.25414573  8.39597634  6.91509457  8.65967026\n",
      "  7.53386339  5.32028139  2.98485748  3.53676148  9.61200505  2.35169549\n",
      "  2.43073899  1.21864891  3.47215124  3.535104    3.13433247  2.96611518\n",
      "  3.06797526  5.16643782  8.65534715  6.2233175   8.34714241  1.00560705\n",
      " 10.08110024 10.68470427  5.3493871   6.89033869  3.15688504  4.62829846\n",
      "  8.41759047  3.53245617  8.67263853 11.5200948   2.46903837  5.67450196\n",
      "  9.54270763  7.31348019  3.38591923  6.20176351  3.48606012  3.66191141\n",
      "  8.74612731  2.19116479 10.62642515 11.06240743  4.00431009  5.50141453\n",
      "  8.67263853  9.88486226  1.3322815   5.2329647  11.6933939  10.4936309\n",
      "  3.22761725  5.54785258  5.1581221   6.01645611  6.05445129  3.04196486\n",
      "  3.46299793  5.15044575  7.26606655  2.96405716  4.11131717  7.82526538\n",
      " 10.22257333  3.40777993  3.56328315  1.84749222  4.4611419  11.0535203\n",
      "  7.54657781  8.33113342  7.88986694  4.34507906  3.17798313  3.55167989\n",
      "  2.99472307  8.15821966  3.0005247   2.23272333  5.67872352  3.78043027\n",
      "  3.75985769  3.0005247  10.54585253  3.77131358  7.51267253  2.91286441\n",
      "  3.83761802  3.09086441  7.52538703  3.96921468  5.87328647  7.2449577\n",
      "  8.80664713  3.8318163  10.15591983  5.28188811  7.81910401 10.03594353\n",
      "  8.08084606  7.47029132  8.74180455  7.85655226  1.25486797  3.0035997\n",
      "  1.01366301  4.27396976  7.54272831  8.35274755  7.72200618  3.59809294\n",
      "  5.26207032 10.5202923   8.48675615  5.63650712  3.99177568  6.23176063\n",
      "  4.17098394  8.91471814  5.25404638  2.16916297  5.93149746  5.18306943\n",
      "  8.28854756  5.27062245  3.58648968  6.15602593  6.70880736  5.37013482\n",
      "  2.18057096 10.58541242  2.41281171  4.17997444  5.81803853  4.12112547\n",
      "  3.53096002  2.18464541  5.14149041  3.57157127  8.72883594  2.29220958\n",
      " 10.1736941   5.90239192  5.1763468   8.53916611  8.29222756  5.21217488\n",
      "  5.46341952  3.55913918  6.17265798 12.          6.19798761  6.11355412\n",
      "  9.00549812 10.80468057  8.57753614  3.80612329  6.17265754  2.13493761\n",
      "  4.09905683 11.2801422   9.21674858  8.72593547  5.16643782  7.75848473\n",
      "  1.63892631  1.79702702  8.91039538  2.66786906  1.36080208  8.93633245\n",
      "  3.68180271  6.24334263  5.34943483  2.94665201  8.1841562   3.42392257\n",
      "  7.80086551  6.15577112 11.2401501   8.80664713  8.51269339  8.62508768\n",
      "  3.59229148  8.45649616  6.04178643  1.05929653  8.0151336   7.15208169\n",
      "  1.1896772   3.10931649 11.5334255   7.21962825  2.99708067  2.5554154\n",
      "  5.58162603  3.79286219  3.19799776 10.85800337  5.63628442  4.56739695\n",
      "  3.80529498  8.81097006  5.19138506  3.14390801 11.75116027 11.48898983\n",
      "  1.70875574  8.17983345  1.87825082  5.61539879  5.20801685]\n",
      "Predicted Prices:  [ 8.33149314  8.18076223  5.2106595   5.92879021  7.46858943  3.20230383\n",
      "  6.20669088  1.7313447  10.19164085  9.70969009  8.02274704  2.38001426\n",
      "  6.91437608  8.16478729  7.24821198  8.38689303  6.86209577  8.73256016\n",
      "  7.61138237  5.40573013  3.16950586  3.6657231   9.66734421  2.55461267\n",
      "  2.62838849  1.54858261  3.67278676  3.64325361  3.30276695  3.11669497\n",
      "  3.24622802  5.23971009  8.70381773  6.17126966  8.33570504  1.07143319\n",
      " 10.15387404 10.45304763  5.35083574  6.81281376  3.30793905  4.60057223\n",
      "  8.51134348  3.6898822   8.7288413  11.36864734  2.47849879  5.75364089\n",
      "  9.49784923  7.34127837  3.39978856  6.19781566  3.54491103  3.71114185\n",
      "  8.84747612  2.37640604 10.56726992 10.92346549  4.10019538  5.60279819\n",
      "  8.7524454   9.9775039   1.56351638  5.27729201 11.48302042 10.5187242\n",
      "  3.43092313  5.55237994  5.24726745  5.95490676  6.18389323  3.18035902\n",
      "  3.642288    5.12199581  7.31262445  3.13447607  4.21080798  7.92397517\n",
      "  9.9642899   3.6260826   3.79942659  2.00279376  4.66284007 11.06102633\n",
      "  7.54758161  8.34287393  7.8741824   4.42577991  3.35691389  3.7947118\n",
      "  3.14490616  8.13998926  3.1485665   2.57832167  5.73913461  3.85212553\n",
      "  3.95512831  3.14374959 10.51878583  3.85677049  7.53198892  3.1704323\n",
      "  3.95117703  3.18241531  7.54584873  4.00787675  5.91054213  7.14821273\n",
      "  8.88015378  3.94666877 10.2224381   5.35733029  7.74649763 10.06683373\n",
      "  7.97799164  7.51854348  8.80704474  7.82506037  1.39976326  3.14559394\n",
      "  1.45279281  4.37659985  7.47116745  8.29559886  7.71167338  3.69979089\n",
      "  5.3085269  10.32826018  8.43677759  5.74161232  3.99244535  6.41168118\n",
      "  4.34174085  8.9940843   5.25614136  2.28958112  5.95666751  5.23597878\n",
      "  8.31408232  5.33854818  3.75903717  6.14967841  6.62876856  5.44605464\n",
      "  2.4528189  10.66779828  2.78913775  4.22809029  5.72998697  4.26102364\n",
      "  3.6881762   2.48515692  5.21430689  3.68039264  8.71916914  2.6795978\n",
      " 10.13354492  5.93579978  5.21735239  8.40559745  8.23181188  5.2691521\n",
      "  5.48561171  3.6774904   6.25651413 11.8245163   6.27752316  6.05900252\n",
      "  9.05720448 10.57245612  8.61523402  3.91347808  6.4204292   2.35548471\n",
      "  4.24558535 11.19357538  9.13099211  8.63677543  5.23085356  7.73716903\n",
      "  1.958873    1.8965614   8.97402728  3.00826831  1.77584538  9.00378466\n",
      "  3.79475442  6.31875968  5.35922086  3.08011357  8.24789959  3.68978484\n",
      "  7.74549842  6.12033278 11.18238866  8.86601138  8.38981724  8.7261256\n",
      "  3.69492121  8.42146093  6.13195157  1.54835117  8.13983583  7.18351823\n",
      "  1.37242129  3.31531578 11.3683995   7.21527207  3.17082569  2.69653621\n",
      "  5.59465796  3.8659955   3.40567647 10.67953837  5.66572857  4.69728044\n",
      "  3.91677895  8.83745909  5.26889312  3.22896965 11.59770823 11.39784741\n",
      "  1.73966393  8.1319536   1.90809987  5.66478148  5.27524835]\n",
      "Difference:  [-0.03926557  0.05526827  0.0765391  -0.06381963 -0.03644144 -0.1889255\n",
      " -0.10580127 -0.52455473  0.10202954 -0.04556339 -0.00950343 -0.05195004\n",
      "  0.07306088  0.09285769  0.00593375  0.00908331  0.05299879 -0.0728899\n",
      " -0.07751897 -0.08544874 -0.18464838 -0.12896162 -0.05533916 -0.20291718\n",
      " -0.1976495  -0.3299337  -0.20063552 -0.10814961 -0.16843448 -0.1505798\n",
      " -0.17825276 -0.07327227 -0.04847057  0.05204785  0.01143737 -0.06582613\n",
      " -0.0727738   0.23165663 -0.00144864  0.07752493 -0.15105401  0.02772624\n",
      " -0.09375301 -0.15742604 -0.05620277  0.15144746 -0.00946042 -0.07913893\n",
      "  0.0448584  -0.02779818 -0.01386933  0.00394786 -0.0588509  -0.04923044\n",
      " -0.10134881 -0.18524126  0.05915523  0.13894194 -0.09588528 -0.10138366\n",
      " -0.07980687 -0.09264163 -0.23123488 -0.04432732  0.21037347 -0.0250933\n",
      " -0.20330588 -0.00452735 -0.08914535  0.06154935 -0.12944194 -0.13839416\n",
      " -0.17929007  0.02844995 -0.0465579  -0.1704189  -0.09949081 -0.09870979\n",
      "  0.25828343 -0.21830267 -0.23614343 -0.15530154 -0.20169817 -0.00750604\n",
      " -0.0010038  -0.01174051  0.01568454 -0.08070084 -0.17893076 -0.24303191\n",
      " -0.1501831   0.0182304  -0.1480418  -0.34559833 -0.06041109 -0.07169525\n",
      " -0.19527062 -0.1432249   0.02706669 -0.0854569  -0.01931639 -0.25756789\n",
      " -0.11355901 -0.0915509  -0.0204617  -0.03866207 -0.03725566  0.09674497\n",
      " -0.07350665 -0.11485247 -0.06651827 -0.07544219  0.07260638 -0.0308902\n",
      "  0.10285442 -0.04825217 -0.06524019  0.03149189 -0.14489529 -0.14199424\n",
      " -0.4391298  -0.10263009  0.07156086  0.05714869  0.0103328  -0.10169795\n",
      " -0.04645658  0.19203211  0.04997856 -0.1051052  -0.00066967 -0.17992055\n",
      " -0.17075691 -0.07936616 -0.00209498 -0.12041815 -0.02517006 -0.05290935\n",
      " -0.02553476 -0.06792573 -0.17254749  0.00634752  0.0800388  -0.07591981\n",
      " -0.27224794 -0.08238586 -0.37632604 -0.04811585  0.08805157 -0.13989817\n",
      " -0.15721618 -0.30051151 -0.07281649 -0.10882137  0.0096668  -0.38738821\n",
      "  0.04014918 -0.03340786 -0.04100559  0.13356866  0.06041568 -0.05697722\n",
      " -0.02219219 -0.11835122 -0.08385615  0.1754837  -0.07953555  0.0545516\n",
      " -0.05170636  0.23222444 -0.03769788 -0.10735479 -0.24777166 -0.2205471\n",
      " -0.14652852  0.08656682  0.08575647  0.08916003 -0.06441574  0.02131571\n",
      " -0.3199467  -0.09953438 -0.06363189 -0.34039925 -0.4150433  -0.06745221\n",
      " -0.11295171 -0.07541705 -0.00978603 -0.13346157 -0.06374339 -0.26586227\n",
      "  0.05536709  0.03543835  0.05776144 -0.05936425  0.12287615 -0.10103792\n",
      " -0.10262973  0.03503523 -0.09016514 -0.48905464 -0.12470223 -0.03143654\n",
      " -0.18274409 -0.20599929  0.165026    0.00435618 -0.17374502 -0.14112081\n",
      " -0.01303193 -0.0731333  -0.20767871  0.178465   -0.02944415 -0.12988348\n",
      " -0.11148397 -0.02648903 -0.07750806 -0.08506164  0.15345204  0.09114242\n",
      " -0.03090819  0.04787985 -0.02984906 -0.04938269 -0.0672315 ]\n"
     ]
    }
   ],
   "source": [
    "# calculate MAE\n",
    "from sklearn.metrics import mean_absolute_error\n",
    "\n",
    "mae = mean_absolute_error(real_prices, predicted_prices)\n",
    "mae"
   ]
  },
  {
   "cell_type": "markdown",
   "metadata": {},
   "source": [
    "Directional Accuracy adalah metrik yang digunakan untuk mengukur seberapa baik model memprediksi arah perubahan harga (naik atau turun) dibandingkan dengan nilai aktual. Ini adalah metrik yang sangat berguna dalam prediksi saham karena dalam banyak kasus, arah perubahan harga lebih penting daripada nilai absolut dari harga itu sendiri—terutama jika tujuannya adalah untuk membuat keputusan beli atau jual."
   ]
  },
  {
   "cell_type": "code",
   "execution_count": null,
   "metadata": {},
   "outputs": [
    {
     "data": {
      "text/plain": [
       "0.9867256637168141"
      ]
     },
     "execution_count": 60,
     "metadata": {},
     "output_type": "execute_result"
    }
   ],
   "source": [
    "# direction accuracy\n",
    "direction_accuracy = np.mean(np.sign(real_prices[1:] - real_prices[:-1]) == np.sign(predicted_prices[1:] - predicted_prices[:-1]))\n",
    "direction_accuracy"
   ]
  }
 ],
 "metadata": {
  "kernelspec": {
   "display_name": "ML",
   "language": "python",
   "name": "ml"
  },
  "language_info": {
   "codemirror_mode": {
    "name": "ipython",
    "version": 3
   },
   "file_extension": ".py",
   "mimetype": "text/x-python",
   "name": "python",
   "nbconvert_exporter": "python",
   "pygments_lexer": "ipython3",
   "version": "3.8.19"
  }
 },
 "nbformat": 4,
 "nbformat_minor": 2
}
