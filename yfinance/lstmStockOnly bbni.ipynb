{
 "cells": [
  {
   "cell_type": "markdown",
   "metadata": {},
   "source": [
    "# Import Data"
   ]
  },
  {
   "cell_type": "code",
   "execution_count": 1,
   "metadata": {},
   "outputs": [],
   "source": [
    "import pandas as pd\n",
    "import numpy as np "
   ]
  },
  {
   "cell_type": "code",
   "execution_count": 2,
   "metadata": {},
   "outputs": [],
   "source": [
    "data = pd.read_csv('Data/bbni_data_5y.csv')"
   ]
  },
  {
   "cell_type": "code",
   "execution_count": 3,
   "metadata": {},
   "outputs": [],
   "source": [
    "data['date_str'] = pd.to_datetime(data['date_str'])"
   ]
  },
  {
   "cell_type": "code",
   "execution_count": 4,
   "metadata": {},
   "outputs": [],
   "source": [
    "# rename columns\n",
    "data = data.rename(columns={'date_str': 'date'})"
   ]
  },
  {
   "cell_type": "code",
   "execution_count": 5,
   "metadata": {},
   "outputs": [
    {
     "data": {
      "text/html": [
       "<div>\n",
       "<style scoped>\n",
       "    .dataframe tbody tr th:only-of-type {\n",
       "        vertical-align: middle;\n",
       "    }\n",
       "\n",
       "    .dataframe tbody tr th {\n",
       "        vertical-align: top;\n",
       "    }\n",
       "\n",
       "    .dataframe thead th {\n",
       "        text-align: right;\n",
       "    }\n",
       "</style>\n",
       "<table border=\"1\" class=\"dataframe\">\n",
       "  <thead>\n",
       "    <tr style=\"text-align: right;\">\n",
       "      <th></th>\n",
       "      <th>Open</th>\n",
       "      <th>High</th>\n",
       "      <th>Low</th>\n",
       "      <th>Close</th>\n",
       "      <th>Volume</th>\n",
       "      <th>Dividends</th>\n",
       "      <th>Stock Splits</th>\n",
       "      <th>date</th>\n",
       "    </tr>\n",
       "  </thead>\n",
       "  <tbody>\n",
       "    <tr>\n",
       "      <th>0</th>\n",
       "      <td>3245.003550</td>\n",
       "      <td>3288.270264</td>\n",
       "      <td>3147.653443</td>\n",
       "      <td>3288.270264</td>\n",
       "      <td>47956400</td>\n",
       "      <td>0.0</td>\n",
       "      <td>0.0</td>\n",
       "      <td>2019-11-07</td>\n",
       "    </tr>\n",
       "    <tr>\n",
       "      <th>1</th>\n",
       "      <td>3309.903293</td>\n",
       "      <td>3331.536648</td>\n",
       "      <td>3245.003229</td>\n",
       "      <td>3320.719971</td>\n",
       "      <td>34375400</td>\n",
       "      <td>0.0</td>\n",
       "      <td>0.0</td>\n",
       "      <td>2019-11-08</td>\n",
       "    </tr>\n",
       "    <tr>\n",
       "      <th>2</th>\n",
       "      <td>3288.270320</td>\n",
       "      <td>3309.903678</td>\n",
       "      <td>3245.003606</td>\n",
       "      <td>3266.636963</td>\n",
       "      <td>29695800</td>\n",
       "      <td>0.0</td>\n",
       "      <td>0.0</td>\n",
       "      <td>2019-11-11</td>\n",
       "    </tr>\n",
       "    <tr>\n",
       "      <th>3</th>\n",
       "      <td>3245.003550</td>\n",
       "      <td>3288.270264</td>\n",
       "      <td>3223.370193</td>\n",
       "      <td>3288.270264</td>\n",
       "      <td>43277200</td>\n",
       "      <td>0.0</td>\n",
       "      <td>0.0</td>\n",
       "      <td>2019-11-12</td>\n",
       "    </tr>\n",
       "    <tr>\n",
       "      <th>4</th>\n",
       "      <td>3288.270302</td>\n",
       "      <td>3288.270302</td>\n",
       "      <td>3180.103516</td>\n",
       "      <td>3180.103516</td>\n",
       "      <td>47613000</td>\n",
       "      <td>0.0</td>\n",
       "      <td>0.0</td>\n",
       "      <td>2019-11-13</td>\n",
       "    </tr>\n",
       "  </tbody>\n",
       "</table>\n",
       "</div>"
      ],
      "text/plain": [
       "          Open         High          Low        Close    Volume  Dividends  \\\n",
       "0  3245.003550  3288.270264  3147.653443  3288.270264  47956400        0.0   \n",
       "1  3309.903293  3331.536648  3245.003229  3320.719971  34375400        0.0   \n",
       "2  3288.270320  3309.903678  3245.003606  3266.636963  29695800        0.0   \n",
       "3  3245.003550  3288.270264  3223.370193  3288.270264  43277200        0.0   \n",
       "4  3288.270302  3288.270302  3180.103516  3180.103516  47613000        0.0   \n",
       "\n",
       "   Stock Splits       date  \n",
       "0           0.0 2019-11-07  \n",
       "1           0.0 2019-11-08  \n",
       "2           0.0 2019-11-11  \n",
       "3           0.0 2019-11-12  \n",
       "4           0.0 2019-11-13  "
      ]
     },
     "execution_count": 5,
     "metadata": {},
     "output_type": "execute_result"
    }
   ],
   "source": [
    "data.head()"
   ]
  },
  {
   "cell_type": "code",
   "execution_count": 6,
   "metadata": {},
   "outputs": [
    {
     "name": "stdout",
     "output_type": "stream",
     "text": [
      "<class 'pandas.core.frame.DataFrame'>\n",
      "RangeIndex: 1213 entries, 0 to 1212\n",
      "Data columns (total 8 columns):\n",
      " #   Column        Non-Null Count  Dtype         \n",
      "---  ------        --------------  -----         \n",
      " 0   Open          1213 non-null   float64       \n",
      " 1   High          1213 non-null   float64       \n",
      " 2   Low           1213 non-null   float64       \n",
      " 3   Close         1213 non-null   float64       \n",
      " 4   Volume        1213 non-null   int64         \n",
      " 5   Dividends     1213 non-null   float64       \n",
      " 6   Stock Splits  1213 non-null   float64       \n",
      " 7   date          1213 non-null   datetime64[ns]\n",
      "dtypes: datetime64[ns](1), float64(6), int64(1)\n",
      "memory usage: 75.9 KB\n"
     ]
    }
   ],
   "source": [
    "data.info()"
   ]
  },
  {
   "cell_type": "code",
   "execution_count": 7,
   "metadata": {},
   "outputs": [
    {
     "data": {
      "text/plain": [
       "Open            0\n",
       "High            0\n",
       "Low             0\n",
       "Close           0\n",
       "Volume          0\n",
       "Dividends       0\n",
       "Stock Splits    0\n",
       "date            0\n",
       "dtype: int64"
      ]
     },
     "execution_count": 7,
     "metadata": {},
     "output_type": "execute_result"
    }
   ],
   "source": [
    "data.isnull().sum()"
   ]
  },
  {
   "cell_type": "markdown",
   "metadata": {},
   "source": [
    "# Feature Engineering"
   ]
  },
  {
   "cell_type": "code",
   "execution_count": 8,
   "metadata": {},
   "outputs": [
    {
     "data": {
      "text/plain": [
       "Dividends\n",
       "0.00000      1208\n",
       "103.12054       1\n",
       "22.01131        1\n",
       "73.14845        1\n",
       "196.39006       1\n",
       "280.49518       1\n",
       "Name: count, dtype: int64"
      ]
     },
     "execution_count": 8,
     "metadata": {},
     "output_type": "execute_result"
    }
   ],
   "source": [
    "data['Dividends'].value_counts()"
   ]
  },
  {
   "cell_type": "code",
   "execution_count": 9,
   "metadata": {},
   "outputs": [
    {
     "data": {
      "text/plain": [
       "Stock Splits\n",
       "0.0    1211\n",
       "2.0       2\n",
       "Name: count, dtype: int64"
      ]
     },
     "execution_count": 9,
     "metadata": {},
     "output_type": "execute_result"
    }
   ],
   "source": [
    "data['Stock Splits'].value_counts()"
   ]
  },
  {
   "cell_type": "code",
   "execution_count": 10,
   "metadata": {},
   "outputs": [],
   "source": [
    "data.drop(['Dividends', 'Stock Splits'], axis=1, inplace=True)"
   ]
  },
  {
   "cell_type": "code",
   "execution_count": 11,
   "metadata": {},
   "outputs": [],
   "source": [
    "# 1. Menghitung Return Harian\n",
    "data['return'] = data['Close'].pct_change()\n",
    "data['log_return'] = np.log(data['Close'] / data['Close'].shift(1))"
   ]
  },
  {
   "cell_type": "code",
   "execution_count": 12,
   "metadata": {},
   "outputs": [],
   "source": [
    "# 2. Moving Averages\n",
    "data['ma_5'] = data['Close'].rolling(window=5).mean()\n",
    "data['ma_10'] = data['Close'].rolling(window=10).mean()\n",
    "data['ma_20'] = data['Close'].rolling(window=20).mean()"
   ]
  },
  {
   "cell_type": "code",
   "execution_count": 13,
   "metadata": {},
   "outputs": [],
   "source": [
    "# 3. Exponential Moving Average (EMA)\n",
    "data['ema_10'] = data['Close'].ewm(span=10, adjust=False).mean()\n",
    "data['ema_20'] = data['Close'].ewm(span=20, adjust=False).mean()"
   ]
  },
  {
   "cell_type": "code",
   "execution_count": 14,
   "metadata": {},
   "outputs": [],
   "source": [
    "# 4. Bollinger Bands\n",
    "data['bollinger_mid'] = data['Close'].rolling(window=20).mean()\n",
    "data['bollinger_std'] = data['Close'].rolling(window=20).std()\n",
    "data['bollinger_upper'] = data['bollinger_mid'] + (2 * data['bollinger_std'])\n",
    "data['bollinger_lower'] = data['bollinger_mid'] - (2 * data['bollinger_std'])"
   ]
  },
  {
   "cell_type": "code",
   "execution_count": 15,
   "metadata": {},
   "outputs": [],
   "source": [
    "# 10. Penambahan Fitur Waktu\n",
    "data['day_of_week'] = data['date'].dt.dayofweek  # 0 = Monday, 6 = Sunday\n",
    "data['month'] = data['date'].dt.month"
   ]
  },
  {
   "cell_type": "code",
   "execution_count": 16,
   "metadata": {},
   "outputs": [],
   "source": [
    "# Hapus data yang mengandung nilai NaN akibat perhitungan rolling\n",
    "data = data.dropna().reset_index(drop=True)"
   ]
  },
  {
   "cell_type": "code",
   "execution_count": 17,
   "metadata": {},
   "outputs": [
    {
     "data": {
      "text/html": [
       "<div>\n",
       "<style scoped>\n",
       "    .dataframe tbody tr th:only-of-type {\n",
       "        vertical-align: middle;\n",
       "    }\n",
       "\n",
       "    .dataframe tbody tr th {\n",
       "        vertical-align: top;\n",
       "    }\n",
       "\n",
       "    .dataframe thead th {\n",
       "        text-align: right;\n",
       "    }\n",
       "</style>\n",
       "<table border=\"1\" class=\"dataframe\">\n",
       "  <thead>\n",
       "    <tr style=\"text-align: right;\">\n",
       "      <th></th>\n",
       "      <th>Open</th>\n",
       "      <th>High</th>\n",
       "      <th>Low</th>\n",
       "      <th>Close</th>\n",
       "      <th>Volume</th>\n",
       "      <th>date</th>\n",
       "      <th>return</th>\n",
       "      <th>log_return</th>\n",
       "      <th>ma_5</th>\n",
       "      <th>ma_10</th>\n",
       "      <th>ma_20</th>\n",
       "      <th>ema_10</th>\n",
       "      <th>ema_20</th>\n",
       "      <th>bollinger_mid</th>\n",
       "      <th>bollinger_std</th>\n",
       "      <th>bollinger_upper</th>\n",
       "      <th>bollinger_lower</th>\n",
       "      <th>day_of_week</th>\n",
       "      <th>month</th>\n",
       "    </tr>\n",
       "  </thead>\n",
       "  <tbody>\n",
       "    <tr>\n",
       "      <th>0</th>\n",
       "      <td>3245.003502</td>\n",
       "      <td>3266.636858</td>\n",
       "      <td>3212.553467</td>\n",
       "      <td>3212.553467</td>\n",
       "      <td>42196800</td>\n",
       "      <td>2019-12-04</td>\n",
       "      <td>-0.016556</td>\n",
       "      <td>-0.016695</td>\n",
       "      <td>3238.513525</td>\n",
       "      <td>3255.820166</td>\n",
       "      <td>3254.738501</td>\n",
       "      <td>3247.538989</td>\n",
       "      <td>3255.803649</td>\n",
       "      <td>3254.738501</td>\n",
       "      <td>47.590787</td>\n",
       "      <td>3349.920075</td>\n",
       "      <td>3159.556926</td>\n",
       "      <td>2</td>\n",
       "      <td>12</td>\n",
       "    </tr>\n",
       "    <tr>\n",
       "      <th>1</th>\n",
       "      <td>3223.370117</td>\n",
       "      <td>3255.820152</td>\n",
       "      <td>3212.553439</td>\n",
       "      <td>3223.370117</td>\n",
       "      <td>53985800</td>\n",
       "      <td>2019-12-05</td>\n",
       "      <td>0.003367</td>\n",
       "      <td>0.003361</td>\n",
       "      <td>3242.840186</td>\n",
       "      <td>3245.003491</td>\n",
       "      <td>3251.493494</td>\n",
       "      <td>3243.144648</td>\n",
       "      <td>3252.714741</td>\n",
       "      <td>3251.493494</td>\n",
       "      <td>47.396298</td>\n",
       "      <td>3346.286090</td>\n",
       "      <td>3156.700897</td>\n",
       "      <td>3</td>\n",
       "      <td>12</td>\n",
       "    </tr>\n",
       "    <tr>\n",
       "      <th>2</th>\n",
       "      <td>3245.003336</td>\n",
       "      <td>3299.086725</td>\n",
       "      <td>3234.186658</td>\n",
       "      <td>3277.453369</td>\n",
       "      <td>29544800</td>\n",
       "      <td>2019-12-06</td>\n",
       "      <td>0.016778</td>\n",
       "      <td>0.016639</td>\n",
       "      <td>3249.330176</td>\n",
       "      <td>3241.758472</td>\n",
       "      <td>3249.330164</td>\n",
       "      <td>3249.382598</td>\n",
       "      <td>3255.070801</td>\n",
       "      <td>3249.330164</td>\n",
       "      <td>44.996949</td>\n",
       "      <td>3339.324061</td>\n",
       "      <td>3159.336266</td>\n",
       "      <td>4</td>\n",
       "      <td>12</td>\n",
       "    </tr>\n",
       "    <tr>\n",
       "      <th>3</th>\n",
       "      <td>3299.086725</td>\n",
       "      <td>3309.903402</td>\n",
       "      <td>3255.820014</td>\n",
       "      <td>3277.453369</td>\n",
       "      <td>36970600</td>\n",
       "      <td>2019-12-09</td>\n",
       "      <td>0.000000</td>\n",
       "      <td>0.000000</td>\n",
       "      <td>3251.493457</td>\n",
       "      <td>3245.003467</td>\n",
       "      <td>3249.870984</td>\n",
       "      <td>3254.486374</td>\n",
       "      <td>3257.202474</td>\n",
       "      <td>3249.870984</td>\n",
       "      <td>45.280019</td>\n",
       "      <td>3340.431022</td>\n",
       "      <td>3159.310946</td>\n",
       "      <td>0</td>\n",
       "      <td>12</td>\n",
       "    </tr>\n",
       "    <tr>\n",
       "      <th>4</th>\n",
       "      <td>3277.453585</td>\n",
       "      <td>3309.903621</td>\n",
       "      <td>3255.820228</td>\n",
       "      <td>3288.270264</td>\n",
       "      <td>38381200</td>\n",
       "      <td>2019-12-10</td>\n",
       "      <td>0.003300</td>\n",
       "      <td>0.003295</td>\n",
       "      <td>3255.820117</td>\n",
       "      <td>3249.330151</td>\n",
       "      <td>3249.870984</td>\n",
       "      <td>3260.628900</td>\n",
       "      <td>3260.161311</td>\n",
       "      <td>3249.870984</td>\n",
       "      <td>45.280019</td>\n",
       "      <td>3340.431022</td>\n",
       "      <td>3159.310946</td>\n",
       "      <td>1</td>\n",
       "      <td>12</td>\n",
       "    </tr>\n",
       "  </tbody>\n",
       "</table>\n",
       "</div>"
      ],
      "text/plain": [
       "          Open         High          Low        Close    Volume       date  \\\n",
       "0  3245.003502  3266.636858  3212.553467  3212.553467  42196800 2019-12-04   \n",
       "1  3223.370117  3255.820152  3212.553439  3223.370117  53985800 2019-12-05   \n",
       "2  3245.003336  3299.086725  3234.186658  3277.453369  29544800 2019-12-06   \n",
       "3  3299.086725  3309.903402  3255.820014  3277.453369  36970600 2019-12-09   \n",
       "4  3277.453585  3309.903621  3255.820228  3288.270264  38381200 2019-12-10   \n",
       "\n",
       "     return  log_return         ma_5        ma_10        ma_20       ema_10  \\\n",
       "0 -0.016556   -0.016695  3238.513525  3255.820166  3254.738501  3247.538989   \n",
       "1  0.003367    0.003361  3242.840186  3245.003491  3251.493494  3243.144648   \n",
       "2  0.016778    0.016639  3249.330176  3241.758472  3249.330164  3249.382598   \n",
       "3  0.000000    0.000000  3251.493457  3245.003467  3249.870984  3254.486374   \n",
       "4  0.003300    0.003295  3255.820117  3249.330151  3249.870984  3260.628900   \n",
       "\n",
       "        ema_20  bollinger_mid  bollinger_std  bollinger_upper  \\\n",
       "0  3255.803649    3254.738501      47.590787      3349.920075   \n",
       "1  3252.714741    3251.493494      47.396298      3346.286090   \n",
       "2  3255.070801    3249.330164      44.996949      3339.324061   \n",
       "3  3257.202474    3249.870984      45.280019      3340.431022   \n",
       "4  3260.161311    3249.870984      45.280019      3340.431022   \n",
       "\n",
       "   bollinger_lower  day_of_week  month  \n",
       "0      3159.556926            2     12  \n",
       "1      3156.700897            3     12  \n",
       "2      3159.336266            4     12  \n",
       "3      3159.310946            0     12  \n",
       "4      3159.310946            1     12  "
      ]
     },
     "execution_count": 17,
     "metadata": {},
     "output_type": "execute_result"
    }
   ],
   "source": [
    "data.head()"
   ]
  },
  {
   "cell_type": "code",
   "execution_count": 18,
   "metadata": {},
   "outputs": [
    {
     "data": {
      "text/plain": [
       "Open               0\n",
       "High               0\n",
       "Low                0\n",
       "Close              0\n",
       "Volume             0\n",
       "date               0\n",
       "return             0\n",
       "log_return         0\n",
       "ma_5               0\n",
       "ma_10              0\n",
       "ma_20              0\n",
       "ema_10             0\n",
       "ema_20             0\n",
       "bollinger_mid      0\n",
       "bollinger_std      0\n",
       "bollinger_upper    0\n",
       "bollinger_lower    0\n",
       "day_of_week        0\n",
       "month              0\n",
       "dtype: int64"
      ]
     },
     "execution_count": 18,
     "metadata": {},
     "output_type": "execute_result"
    }
   ],
   "source": [
    "data.isnull().sum()"
   ]
  },
  {
   "cell_type": "markdown",
   "metadata": {},
   "source": [
    "# Modelling"
   ]
  },
  {
   "cell_type": "markdown",
   "metadata": {},
   "source": [
    "## Preprocessing"
   ]
  },
  {
   "cell_type": "code",
   "execution_count": 19,
   "metadata": {},
   "outputs": [],
   "source": [
    "dataUsed = data[['Close', 'Volume', 'ma_5', 'ma_10', 'ema_10', 'bollinger_mid', 'bollinger_std', 'bollinger_upper', 'bollinger_lower', 'day_of_week', 'month']]"
   ]
  },
  {
   "cell_type": "code",
   "execution_count": 20,
   "metadata": {},
   "outputs": [
    {
     "data": {
      "text/plain": [
       "array([[0.39722655, 0.09501956, 0.38797812, ..., 0.46656508, 0.5       ,\n",
       "        1.        ],\n",
       "       [0.39960833, 0.12156626, 0.38896933, ..., 0.46593506, 0.75      ,\n",
       "        1.        ],\n",
       "       [0.41151722, 0.06652955, 0.39045615, ..., 0.4665164 , 1.        ,\n",
       "        1.        ],\n",
       "       ...,\n",
       "       [0.87889247, 0.07306342, 0.85452522, ..., 0.901559  , 0.25      ,\n",
       "        0.90909091],\n",
       "       [0.8183387 , 0.151354  , 0.84994334, ..., 0.8932178 , 0.5       ,\n",
       "        0.90909091],\n",
       "       [0.80732892, 0.02430388, 0.84192505, ..., 0.88300305, 0.75      ,\n",
       "        0.90909091]])"
      ]
     },
     "execution_count": 20,
     "metadata": {},
     "output_type": "execute_result"
    }
   ],
   "source": [
    "from sklearn.preprocessing import MinMaxScaler\n",
    "\n",
    "# preprocessing\n",
    "scaler = MinMaxScaler(feature_range=(0, 1))\n",
    "data_scaled = scaler.fit_transform(dataUsed)\n",
    "\n",
    "data_scaled"
   ]
  },
  {
   "cell_type": "markdown",
   "metadata": {},
   "source": [
    "## Train Test Sequence"
   ]
  },
  {
   "cell_type": "code",
   "execution_count": 21,
   "metadata": {},
   "outputs": [],
   "source": [
    "import numpy as np\n",
    "\n",
    "sequence_length = 60\n",
    "x = []\n",
    "y = []\n",
    "\n",
    "# Target tetap kolom 0 (harga close), tetapi kita hanya menggunakan kolom lain sebagai input\n",
    "for i in range(sequence_length, len(data_scaled)):\n",
    "    x.append(data_scaled[i-sequence_length:i, 1:])  \n",
    "    y.append(data_scaled[i, 0]) \n",
    "\n",
    "# Konversi ke array numpy\n",
    "x, y = np.array(x), np.array(y)\n"
   ]
  },
  {
   "cell_type": "code",
   "execution_count": 22,
   "metadata": {},
   "outputs": [
    {
     "name": "stdout",
     "output_type": "stream",
     "text": [
      "(1134, 60, 10) (1134,)\n"
     ]
    }
   ],
   "source": [
    "print(x.shape, y.shape)"
   ]
  },
  {
   "cell_type": "markdown",
   "metadata": {},
   "source": [
    "## LSTM"
   ]
  },
  {
   "cell_type": "code",
   "execution_count": 23,
   "metadata": {},
   "outputs": [],
   "source": [
    "from sklearn.model_selection import train_test_split\n",
    "\n",
    "# train and test split\n",
    "x_train, x_test, y_train, y_test = train_test_split(x, y, test_size=0.2, random_state=42)"
   ]
  },
  {
   "cell_type": "code",
   "execution_count": 24,
   "metadata": {},
   "outputs": [],
   "source": [
    "from tensorflow.keras.models import Sequential\n",
    "from tensorflow.keras.layers import LSTM, Dense, Dropout"
   ]
  },
  {
   "cell_type": "code",
   "execution_count": 25,
   "metadata": {},
   "outputs": [],
   "source": [
    "# LSTM model\n",
    "model = Sequential()\n",
    "model.add(LSTM(units=50, return_sequences=True, input_shape=(x_train.shape[1], x_train.shape[2])))\n",
    "model.add(Dropout(0.2))\n",
    "model.add(LSTM(units=50, return_sequences=True))\n",
    "model.add(Dropout(0.2))\n",
    "model.add(LSTM(units=50))\n",
    "model.add(Dropout(0.2))\n",
    "model.add(Dense(units=1))\n",
    "\n",
    "model.compile(optimizer='adam', loss='mean_squared_error')"
   ]
  },
  {
   "cell_type": "code",
   "execution_count": 26,
   "metadata": {},
   "outputs": [
    {
     "name": "stdout",
     "output_type": "stream",
     "text": [
      "Epoch 1/100\n",
      "29/29 [==============================] - 7s 65ms/step - loss: 0.0440 - val_loss: 0.0049\n",
      "Epoch 2/100\n",
      "29/29 [==============================] - 1s 33ms/step - loss: 0.0088 - val_loss: 0.0029\n",
      "Epoch 3/100\n",
      "29/29 [==============================] - 1s 36ms/step - loss: 0.0069 - val_loss: 0.0030\n",
      "Epoch 4/100\n",
      "29/29 [==============================] - 1s 35ms/step - loss: 0.0074 - val_loss: 0.0027\n",
      "Epoch 5/100\n",
      "29/29 [==============================] - 1s 34ms/step - loss: 0.0073 - val_loss: 0.0026\n",
      "Epoch 6/100\n",
      "29/29 [==============================] - 1s 32ms/step - loss: 0.0073 - val_loss: 0.0033\n",
      "Epoch 7/100\n",
      "29/29 [==============================] - 1s 33ms/step - loss: 0.0058 - val_loss: 0.0024\n",
      "Epoch 8/100\n",
      "29/29 [==============================] - 1s 33ms/step - loss: 0.0059 - val_loss: 0.0028\n",
      "Epoch 9/100\n",
      "29/29 [==============================] - 1s 32ms/step - loss: 0.0059 - val_loss: 0.0023\n",
      "Epoch 10/100\n",
      "29/29 [==============================] - 1s 32ms/step - loss: 0.0055 - val_loss: 0.0024\n",
      "Epoch 11/100\n",
      "29/29 [==============================] - 1s 32ms/step - loss: 0.0046 - val_loss: 0.0022\n",
      "Epoch 12/100\n",
      "29/29 [==============================] - 1s 32ms/step - loss: 0.0054 - val_loss: 0.0039\n",
      "Epoch 13/100\n",
      "29/29 [==============================] - 1s 32ms/step - loss: 0.0053 - val_loss: 0.0024\n",
      "Epoch 14/100\n",
      "29/29 [==============================] - 1s 33ms/step - loss: 0.0045 - val_loss: 0.0026\n",
      "Epoch 15/100\n",
      "29/29 [==============================] - 2s 59ms/step - loss: 0.0045 - val_loss: 0.0021\n",
      "Epoch 16/100\n",
      "29/29 [==============================] - 2s 65ms/step - loss: 0.0044 - val_loss: 0.0023\n",
      "Epoch 17/100\n",
      "29/29 [==============================] - 2s 68ms/step - loss: 0.0046 - val_loss: 0.0023\n",
      "Epoch 18/100\n",
      "29/29 [==============================] - 2s 68ms/step - loss: 0.0048 - val_loss: 0.0019\n",
      "Epoch 19/100\n",
      "29/29 [==============================] - 2s 65ms/step - loss: 0.0043 - val_loss: 0.0019\n",
      "Epoch 20/100\n",
      "29/29 [==============================] - 2s 69ms/step - loss: 0.0041 - val_loss: 0.0019\n",
      "Epoch 21/100\n",
      "29/29 [==============================] - 2s 68ms/step - loss: 0.0045 - val_loss: 0.0018\n",
      "Epoch 22/100\n",
      "29/29 [==============================] - 2s 70ms/step - loss: 0.0044 - val_loss: 0.0020\n",
      "Epoch 23/100\n",
      "29/29 [==============================] - 2s 67ms/step - loss: 0.0038 - val_loss: 0.0018\n",
      "Epoch 24/100\n",
      "29/29 [==============================] - 2s 70ms/step - loss: 0.0039 - val_loss: 0.0018\n",
      "Epoch 25/100\n",
      "29/29 [==============================] - 2s 66ms/step - loss: 0.0040 - val_loss: 0.0021\n",
      "Epoch 26/100\n",
      "29/29 [==============================] - 2s 66ms/step - loss: 0.0040 - val_loss: 0.0018\n",
      "Epoch 27/100\n",
      "29/29 [==============================] - 2s 65ms/step - loss: 0.0038 - val_loss: 0.0023\n",
      "Epoch 28/100\n",
      "29/29 [==============================] - 2s 67ms/step - loss: 0.0043 - val_loss: 0.0025\n",
      "Epoch 29/100\n",
      "29/29 [==============================] - 2s 68ms/step - loss: 0.0039 - val_loss: 0.0016\n",
      "Epoch 30/100\n",
      "29/29 [==============================] - 2s 68ms/step - loss: 0.0034 - val_loss: 0.0019\n",
      "Epoch 31/100\n",
      "29/29 [==============================] - 2s 67ms/step - loss: 0.0048 - val_loss: 0.0019\n",
      "Epoch 32/100\n",
      "29/29 [==============================] - 2s 70ms/step - loss: 0.0038 - val_loss: 0.0016\n",
      "Epoch 33/100\n",
      "29/29 [==============================] - 2s 66ms/step - loss: 0.0035 - val_loss: 0.0019\n",
      "Epoch 34/100\n",
      "29/29 [==============================] - 2s 68ms/step - loss: 0.0031 - val_loss: 0.0016\n",
      "Epoch 35/100\n",
      "29/29 [==============================] - 2s 67ms/step - loss: 0.0036 - val_loss: 0.0015\n",
      "Epoch 36/100\n",
      "29/29 [==============================] - 2s 65ms/step - loss: 0.0032 - val_loss: 0.0015\n",
      "Epoch 37/100\n",
      "29/29 [==============================] - 2s 66ms/step - loss: 0.0036 - val_loss: 0.0017\n",
      "Epoch 38/100\n",
      "29/29 [==============================] - 2s 65ms/step - loss: 0.0032 - val_loss: 0.0016\n",
      "Epoch 39/100\n",
      "29/29 [==============================] - 2s 67ms/step - loss: 0.0032 - val_loss: 0.0015\n",
      "Epoch 40/100\n",
      "29/29 [==============================] - 2s 64ms/step - loss: 0.0029 - val_loss: 0.0017\n",
      "Epoch 41/100\n",
      "29/29 [==============================] - 2s 67ms/step - loss: 0.0032 - val_loss: 0.0016\n",
      "Epoch 42/100\n",
      "29/29 [==============================] - 2s 66ms/step - loss: 0.0031 - val_loss: 0.0014\n",
      "Epoch 43/100\n",
      "29/29 [==============================] - 2s 70ms/step - loss: 0.0033 - val_loss: 0.0028\n",
      "Epoch 44/100\n",
      "29/29 [==============================] - 2s 67ms/step - loss: 0.0035 - val_loss: 0.0017\n",
      "Epoch 45/100\n",
      "29/29 [==============================] - 2s 70ms/step - loss: 0.0030 - val_loss: 0.0016\n",
      "Epoch 46/100\n",
      "29/29 [==============================] - 2s 63ms/step - loss: 0.0031 - val_loss: 0.0019\n",
      "Epoch 47/100\n",
      "29/29 [==============================] - 2s 74ms/step - loss: 0.0030 - val_loss: 0.0014\n",
      "Epoch 48/100\n",
      "29/29 [==============================] - 2s 68ms/step - loss: 0.0029 - val_loss: 0.0014\n",
      "Epoch 49/100\n",
      "29/29 [==============================] - 2s 74ms/step - loss: 0.0029 - val_loss: 0.0020\n",
      "Epoch 50/100\n",
      "29/29 [==============================] - 2s 72ms/step - loss: 0.0029 - val_loss: 0.0022\n",
      "Epoch 51/100\n",
      "29/29 [==============================] - 2s 71ms/step - loss: 0.0030 - val_loss: 0.0015\n",
      "Epoch 52/100\n",
      "29/29 [==============================] - 2s 76ms/step - loss: 0.0032 - val_loss: 0.0016\n",
      "Epoch 53/100\n",
      "29/29 [==============================] - 2s 72ms/step - loss: 0.0030 - val_loss: 0.0014\n",
      "Epoch 54/100\n",
      "29/29 [==============================] - 2s 69ms/step - loss: 0.0025 - val_loss: 0.0013\n",
      "Epoch 55/100\n",
      "29/29 [==============================] - 2s 62ms/step - loss: 0.0028 - val_loss: 0.0017\n",
      "Epoch 56/100\n",
      "29/29 [==============================] - 2s 62ms/step - loss: 0.0029 - val_loss: 0.0024\n",
      "Epoch 57/100\n",
      "29/29 [==============================] - 2s 66ms/step - loss: 0.0028 - val_loss: 0.0013\n",
      "Epoch 58/100\n",
      "29/29 [==============================] - 2s 66ms/step - loss: 0.0025 - val_loss: 0.0013\n",
      "Epoch 59/100\n",
      "29/29 [==============================] - 2s 66ms/step - loss: 0.0030 - val_loss: 0.0018\n",
      "Epoch 60/100\n",
      "29/29 [==============================] - 2s 68ms/step - loss: 0.0029 - val_loss: 0.0015\n",
      "Epoch 61/100\n",
      "29/29 [==============================] - 2s 71ms/step - loss: 0.0027 - val_loss: 0.0015\n",
      "Epoch 62/100\n",
      "29/29 [==============================] - 2s 72ms/step - loss: 0.0025 - val_loss: 0.0014\n",
      "Epoch 63/100\n",
      "29/29 [==============================] - 2s 71ms/step - loss: 0.0023 - val_loss: 0.0012\n",
      "Epoch 64/100\n",
      "29/29 [==============================] - 2s 69ms/step - loss: 0.0025 - val_loss: 0.0012\n",
      "Epoch 65/100\n",
      "29/29 [==============================] - 2s 69ms/step - loss: 0.0026 - val_loss: 0.0014\n",
      "Epoch 66/100\n",
      "29/29 [==============================] - 2s 64ms/step - loss: 0.0025 - val_loss: 0.0013\n",
      "Epoch 67/100\n",
      "29/29 [==============================] - 2s 59ms/step - loss: 0.0023 - val_loss: 0.0015\n",
      "Epoch 68/100\n",
      "29/29 [==============================] - 1s 32ms/step - loss: 0.0024 - val_loss: 0.0012\n",
      "Epoch 69/100\n",
      "29/29 [==============================] - 1s 33ms/step - loss: 0.0025 - val_loss: 0.0012\n",
      "Epoch 70/100\n",
      "29/29 [==============================] - 1s 33ms/step - loss: 0.0022 - val_loss: 0.0014\n",
      "Epoch 71/100\n",
      "29/29 [==============================] - 1s 33ms/step - loss: 0.0024 - val_loss: 0.0012\n",
      "Epoch 72/100\n",
      "29/29 [==============================] - 1s 33ms/step - loss: 0.0021 - val_loss: 0.0012\n",
      "Epoch 73/100\n",
      "29/29 [==============================] - 1s 34ms/step - loss: 0.0022 - val_loss: 0.0011\n",
      "Epoch 74/100\n",
      "29/29 [==============================] - 1s 33ms/step - loss: 0.0020 - val_loss: 0.0012\n",
      "Epoch 75/100\n",
      "29/29 [==============================] - 1s 34ms/step - loss: 0.0021 - val_loss: 0.0011\n",
      "Epoch 76/100\n",
      "29/29 [==============================] - 1s 33ms/step - loss: 0.0021 - val_loss: 0.0012\n",
      "Epoch 77/100\n",
      "29/29 [==============================] - 1s 33ms/step - loss: 0.0023 - val_loss: 0.0011\n",
      "Epoch 78/100\n",
      "29/29 [==============================] - 1s 33ms/step - loss: 0.0024 - val_loss: 0.0019\n",
      "Epoch 79/100\n",
      "29/29 [==============================] - 1s 33ms/step - loss: 0.0024 - val_loss: 0.0011\n",
      "Epoch 80/100\n",
      "29/29 [==============================] - 1s 33ms/step - loss: 0.0022 - val_loss: 0.0011\n",
      "Epoch 81/100\n",
      "29/29 [==============================] - 1s 33ms/step - loss: 0.0020 - val_loss: 0.0012\n",
      "Epoch 82/100\n",
      "29/29 [==============================] - 1s 33ms/step - loss: 0.0020 - val_loss: 0.0011\n",
      "Epoch 83/100\n",
      "29/29 [==============================] - 1s 34ms/step - loss: 0.0022 - val_loss: 0.0012\n",
      "Epoch 84/100\n",
      "29/29 [==============================] - 1s 36ms/step - loss: 0.0022 - val_loss: 0.0013\n",
      "Epoch 85/100\n",
      "29/29 [==============================] - 1s 38ms/step - loss: 0.0023 - val_loss: 0.0012\n",
      "Epoch 86/100\n",
      "29/29 [==============================] - 1s 34ms/step - loss: 0.0021 - val_loss: 0.0012\n",
      "Epoch 87/100\n",
      "29/29 [==============================] - 1s 34ms/step - loss: 0.0022 - val_loss: 0.0011\n",
      "Epoch 88/100\n",
      "29/29 [==============================] - 1s 33ms/step - loss: 0.0019 - val_loss: 0.0013\n",
      "Epoch 89/100\n",
      "29/29 [==============================] - 1s 34ms/step - loss: 0.0020 - val_loss: 0.0016\n",
      "Epoch 90/100\n",
      "29/29 [==============================] - 1s 33ms/step - loss: 0.0021 - val_loss: 0.0013\n",
      "Epoch 91/100\n",
      "29/29 [==============================] - 1s 34ms/step - loss: 0.0019 - val_loss: 0.0014\n",
      "Epoch 92/100\n",
      "29/29 [==============================] - 1s 33ms/step - loss: 0.0022 - val_loss: 0.0010\n",
      "Epoch 93/100\n",
      "29/29 [==============================] - 1s 33ms/step - loss: 0.0021 - val_loss: 0.0013\n",
      "Epoch 94/100\n",
      "29/29 [==============================] - 1s 36ms/step - loss: 0.0020 - val_loss: 0.0011\n",
      "Epoch 95/100\n",
      "29/29 [==============================] - 1s 33ms/step - loss: 0.0019 - val_loss: 0.0011\n",
      "Epoch 96/100\n",
      "29/29 [==============================] - 1s 34ms/step - loss: 0.0020 - val_loss: 0.0010\n",
      "Epoch 97/100\n",
      "29/29 [==============================] - 1s 32ms/step - loss: 0.0020 - val_loss: 0.0012\n",
      "Epoch 98/100\n",
      "29/29 [==============================] - 1s 35ms/step - loss: 0.0020 - val_loss: 0.0012\n",
      "Epoch 99/100\n",
      "29/29 [==============================] - 1s 34ms/step - loss: 0.0020 - val_loss: 0.0012\n",
      "Epoch 100/100\n",
      "29/29 [==============================] - 1s 33ms/step - loss: 0.0018 - val_loss: 0.0013\n"
     ]
    },
    {
     "data": {
      "text/plain": [
       "<keras.src.callbacks.History at 0x29db5e3c100>"
      ]
     },
     "execution_count": 26,
     "metadata": {},
     "output_type": "execute_result"
    }
   ],
   "source": [
    "# train model with early stopping\n",
    "model.fit(x_train, y_train, epochs=100, batch_size=32, validation_data=(x_test, y_test), verbose=1)"
   ]
  },
  {
   "cell_type": "code",
   "execution_count": 27,
   "metadata": {},
   "outputs": [
    {
     "name": "stdout",
     "output_type": "stream",
     "text": [
      "8/8 [==============================] - 1s 10ms/step\n"
     ]
    }
   ],
   "source": [
    "# prediction\n",
    "predicted_prices =  model.predict(x_test)\n"
   ]
  },
  {
   "cell_type": "code",
   "execution_count": 28,
   "metadata": {},
   "outputs": [],
   "source": [
    "# Dapatkan jumlah kolom yang diharapkan oleh scaler\n",
    "expected_columns = scaler.min_.shape[0] \n",
    "\n",
    "# Tambahkan kolom nol untuk menyesuaikan jumlah kolom\n",
    "predicted_prices_padded = np.hstack([np.zeros((predicted_prices.shape[0], expected_columns - 1)), predicted_prices])\n",
    "\n",
    "# Inverse transform dan ambil hanya kolom harga 'Close'\n",
    "predicted_prices = scaler.inverse_transform(predicted_prices_padded)[:, -1]  # Ambil hanya kolom harga\n"
   ]
  },
  {
   "cell_type": "code",
   "execution_count": 29,
   "metadata": {},
   "outputs": [],
   "source": [
    "# Tambahkan kolom nol untuk menyesuaikan jumlah kolom\n",
    "real_prices_padded = np.hstack([np.zeros((y_test.shape[0], expected_columns - 1)), y_test.reshape(-1,1)])\n",
    "\n",
    "# Inverse transform dan ambil hanya kolom harga 'Close'\n",
    "real_prices = scaler.inverse_transform(real_prices_padded)[:, -1]  # Ambil hanya kolom harga\n"
   ]
  },
  {
   "cell_type": "markdown",
   "metadata": {},
   "source": [
    "# Evaluation"
   ]
  },
  {
   "cell_type": "code",
   "execution_count": 30,
   "metadata": {},
   "outputs": [
    {
     "data": {
      "image/png": "[encoded data removed]",
      "text/plain": [
       "<Figure size 640x480 with 1 Axes>"
      ]
     },
     "metadata": {},
     "output_type": "display_data"
    }
   ],
   "source": [
    "# conpare real and predicted prices\n",
    "import matplotlib.pyplot as plt\n",
    "\n",
    "plt.plot(real_prices, color='red', label='Real Prices')\n",
    "plt.plot(predicted_prices, color='blue', label='Predicted Prices')\n",
    "plt.title('Stock Prices Prediction')\n",
    "plt.xlabel('Time')\n",
    "plt.ylabel('Stock Prices')\n",
    "plt.legend()\n",
    "plt.show()"
   ]
  },
  {
   "cell_type": "code",
   "execution_count": 31,
   "metadata": {},
   "outputs": [
    {
     "name": "stdout",
     "output_type": "stream",
     "text": [
      "Real Prices:  [ 7.99075759  9.10036397  5.0680384   5.61202706  7.56066146  2.98661621\n",
      "  8.11468703  1.72338748 10.18338701 11.51606778  8.45309388  2.71669484\n",
      "  7.53296048  8.62646925  8.3953017   9.84010155  7.89307562  8.01965428\n",
      "  7.33905123  5.04083947  2.51155565  3.30007716 11.16931705  2.82466387\n",
      "  2.70589806  1.69099683  4.11605986  3.51767275  3.76246785  2.60872701\n",
      "  3.28352836  5.14963696  9.49334964  6.67422114  9.55114182  2.22004101\n",
      " 11.22710805  9.88061817  5.28563398  7.50525949  3.87126535  5.44883052\n",
      "  8.7998458   4.44418677  9.29107758 11.21280104  2.67350771  6.64651897\n",
      "  8.87542565  8.14238801  3.30007716  6.04721705  4.76809147  3.46327429\n",
      "  8.10634196  2.42518079 10.48615584  9.69895687  4.47117932  7.3944532\n",
      "  9.11770103  8.24566648  1.38868599  5.04083947 10.9100322  10.30449454\n",
      "  2.73432995  6.50801347  5.23123494  7.00663589  8.22549214  2.571134\n",
      "  2.70169123  5.50322897  7.3944532   3.08248217  4.03930678  8.0315829\n",
      "  9.26296976  2.92183492  3.62647083  2.07968282  3.95832972 10.12283324\n",
      "  7.80997267  9.31997309  7.31135025  4.30922638  3.95832972  3.84406642\n",
      "  3.19128026  8.65536593  2.83224846  2.52235244  6.72962311  3.27287823\n",
      "  3.7154009   2.91928622 11.87889247  3.30007716  7.7545707   2.45757174\n",
      "  3.51767275  3.3544768   7.80997267  4.25524305  6.26481263  7.83767365\n",
      "  8.07744646  3.51767275  9.65051386  5.59387098  8.33629607 10.30449454\n",
      "  8.11468703  7.58836244  8.01965428  8.3953017   1.194343    3.12157601\n",
      "  2.05808896  4.39020344  8.42419838  7.99075759  7.67146657  3.38167573\n",
      "  5.01363995  9.65051386  9.60893282  6.59111701  4.55125044  7.28364867\n",
      "  4.41719481  8.56867825  5.09523851  2.77067876  6.21041359  4.93204197\n",
      "  9.49334964  5.28563398  3.2456793   6.70192212  7.53296048  5.01363995\n",
      "  2.54394601 10.42560207  2.45757174  4.09329011  7.08973943  4.41719481\n",
      "  2.62553245  2.45757174  5.25843446  3.38167573  7.96186209  2.38199366\n",
      "  9.52940633  6.02001752  6.59111701 10.01347692  8.04854978  5.0680384\n",
      "  7.44985575  3.30007716  6.40080906 10.48615584  7.53296048  6.78502566\n",
      "  8.19302965  9.75951064  9.14659772  3.51767275  7.31135025  2.4899612\n",
      "  4.06629815 10.54670961 10.53360539  9.95568474  5.14963696  7.44985575\n",
      "  1.64780969  1.88533983  8.42419838  2.55474309  1.50745062  8.65536593\n",
      "  3.30007716  6.72962311  6.72962311  3.01720415  9.00789648  4.49817128\n",
      "  7.61606461  7.31135025 11.69723117  7.99075759  8.16413414  7.93296659\n",
      "  3.62647083  9.49334964  7.80997267  2.04729188  8.14238801  6.92353235\n",
      "  2.46836881  3.87126535 11.2733548   7.31135025  2.38199366  3.68840894\n",
      "  6.28640324  3.40887584  4.06166141  9.88061817  5.3128335   3.58044051\n",
      "  3.32727728  7.84627773  4.93204197  3.49047382 10.24394077 11.2733548\n",
      "  2.12286996  8.89231329  2.56553987  6.75732468  4.93204197]\n",
      "Predicted Prices:  [ 8.10846424  9.39693993  5.0987533   5.54030776  7.87059468  2.6964082\n",
      "  7.19277406  1.5098733   9.50428182 11.30966234  8.48568457  2.37211972\n",
      "  7.64845353  8.83182442  8.22500163 10.01112306  8.13157266  8.42833346\n",
      "  7.75669563  5.3364206   2.56057417  3.66016465 11.2776069   2.81148644\n",
      "  2.80959702  1.60446277  3.69541393  3.67515333  4.18875942  2.55025947\n",
      "  3.20491348  4.86740616  9.1305548   8.03281784 10.04566473  1.92567132\n",
      " 11.54263812  9.62808841  5.40606353  7.58263141  4.14102048  5.02725947\n",
      "  9.55426538  3.9816635   8.87069732 10.97663552  2.47042936  7.36707497\n",
      "  8.75963199  8.27211869  3.27176498  6.32414258  4.55356532  3.3558737\n",
      "  8.56946433  2.60851915 11.70943445 10.03398561  4.58561093  7.49676538\n",
      "  8.79865241  9.58013082  1.72265847  5.04936311 11.34795368 10.69042873\n",
      "  2.61607012  6.84276521  4.84168202  7.05886978  7.31601614  2.94438839\n",
      "  2.72741902  5.44206303  7.78287053  2.89333645  4.21865383  8.46207327\n",
      "  9.31243372  3.19100302  3.38729742  2.05555646  4.14711115 10.33174497\n",
      "  8.36424357 10.060211    8.03152293  4.66463327  3.91145441  3.4053252\n",
      "  2.7821295   8.5934605   2.88101807  2.4113652   7.48830158  3.1130702\n",
      "  4.06011248  2.83348222 11.91195196  3.33461586  8.15810096  3.19551472\n",
      "  3.37999609  3.08481967  8.18003446  4.61848888  5.9824664   8.2341873\n",
      "  8.3492344   3.30591621  9.52922803  6.37246341  8.06577086 10.18598652\n",
      "  8.664042    7.84231317  8.72611642  8.53324944  1.78762841  2.5935331\n",
      "  1.74977653  4.62032568  8.54126084  8.44538629  8.03605151  3.48127812\n",
      "  5.15097722  9.44470608  9.49390614  7.23606211  3.87617841  7.71739787\n",
      "  4.59018737  8.55133885  5.13572252  2.44939247  6.2899307   4.92742249\n",
      " 10.01972783  5.15961641  3.42962839  6.68641013  7.52496165  5.37830096\n",
      "  2.1970817  11.01478523  2.37590775  4.54899281  6.92770219  4.16262484\n",
      "  2.83050343  2.4533449   5.04326063  3.5728316   8.77530074  2.38397488\n",
      "  9.67602175  6.20705837  6.4189153  10.14084494  8.22493213  5.03069738\n",
      "  7.69471037  3.62568527  6.24627778 11.24253809  7.14073765  7.09821081\n",
      "  8.39640653 10.08792013  9.74309355  3.32044297  7.48276788  2.34796423\n",
      "  4.16821557 10.93533015 10.40271461 10.24698502  4.90894264  7.70975691\n",
      "  1.69725904  2.09254616  8.65746647  2.47923771  1.5501847   8.47729683\n",
      "  3.66204244  6.7860232   6.58359748  2.90269357  9.2641601   5.02898023\n",
      "  8.43038434  8.01999789 11.50042927  8.26742226  9.10242736  8.50882643\n",
      "  3.72891738  9.430426    7.7117514   1.62227239  8.69404328  7.60217834\n",
      "  2.24090296  4.18158069 11.03907645  7.7376588   2.56090364  3.32465586\n",
      "  6.78275019  3.11650549  3.99145171 10.03403872  5.41524953  4.47302514\n",
      "  3.45756158  8.30345553  5.02172381  3.10346721 11.40967602 10.93325436\n",
      "  2.51211599  9.37298572  2.60044973  7.71638161  5.01739553]\n",
      "Difference:  [-0.11770665 -0.29657596 -0.03071491  0.0717193  -0.30993322  0.29020802\n",
      "  0.92191297  0.21351417  0.67910519  0.20640544 -0.03259069  0.34457512\n",
      " -0.11549306 -0.20535517  0.17030006 -0.17102151 -0.23849705 -0.40867918\n",
      " -0.4176444  -0.29558113 -0.04901852 -0.36008749 -0.10828986  0.01317743\n",
      " -0.10369896  0.08653406  0.42064593 -0.15748058 -0.42629156  0.05846753\n",
      "  0.07861488  0.2822308   0.36279484 -1.3585967  -0.49452291  0.29436969\n",
      " -0.31553008  0.25252976 -0.12042955 -0.07737192 -0.26975513  0.42157105\n",
      " -0.75441958  0.46252327  0.42038027  0.23616552  0.20307835 -0.72055599\n",
      "  0.11579366 -0.12973068  0.02831218 -0.27692553  0.21452614  0.10740059\n",
      " -0.46312236 -0.18333836 -1.22327861 -0.33502874 -0.11443161 -0.10231218\n",
      "  0.31904862 -1.33446434 -0.33397248 -0.00852364 -0.43792147 -0.38593419\n",
      "  0.11825982 -0.33475174  0.38955292 -0.05223389  0.909476   -0.37325439\n",
      " -0.02572779  0.06116594 -0.38841733  0.18914572 -0.17934705 -0.43049037\n",
      " -0.04946396 -0.2691681   0.23917341  0.02412636 -0.18878143 -0.20891173\n",
      " -0.5542709  -0.74023792 -0.72017268 -0.3554069   0.04687531  0.43874121\n",
      "  0.40915076  0.06190543 -0.04876961  0.11098724 -0.75867847  0.15980803\n",
      " -0.34471158  0.085804   -0.03305949 -0.03453869 -0.40353026 -0.73794299\n",
      "  0.13767666  0.26965712 -0.37006179 -0.36324583  0.28234623 -0.39651365\n",
      " -0.27178794  0.21175654  0.12128583 -0.77859242  0.27052521  0.11850802\n",
      " -0.54935497 -0.25395073 -0.70646214 -0.13794774 -0.59328542  0.52804291\n",
      "  0.30831243 -0.23012225 -0.11706246 -0.4546287  -0.36458494 -0.09960239\n",
      " -0.13733728  0.20580778  0.11502668 -0.6449451   0.67507203 -0.43374919\n",
      " -0.17299256  0.0173394  -0.04048401  0.3212863  -0.07951711  0.00461948\n",
      " -0.52637819  0.12601757 -0.18394909  0.01551199  0.00799883 -0.36466102\n",
      "  0.34686431 -0.58918316  0.08166399 -0.4557027   0.16203724  0.25456997\n",
      " -0.20497098  0.00422684  0.21517383 -0.19115587 -0.81343865 -0.00198122\n",
      " -0.14661543 -0.18704085  0.17220171 -0.12736802 -0.17638236  0.03734102\n",
      " -0.24485462 -0.32560811  0.15453128 -0.75638226  0.39222282 -0.31318515\n",
      " -0.20337689 -0.32840949 -0.59649583  0.19722977 -0.17141763  0.14199697\n",
      " -0.10191742 -0.38862055  0.13089078 -0.29130028  0.24069432 -0.25990116\n",
      " -0.04944935 -0.20720634 -0.23326809  0.07550538 -0.04273408  0.1780691\n",
      " -0.36196528 -0.05640009  0.14602562  0.11451058 -0.25626362 -0.53080895\n",
      " -0.81431973 -0.70864765  0.1968019  -0.27666466 -0.93829322 -0.57585984\n",
      " -0.10244654  0.06292363  0.09822127  0.42501949 -0.55165527 -0.67864599\n",
      "  0.22746585 -0.31031534  0.23427836 -0.42630855 -0.17890998  0.36375308\n",
      " -0.49634695  0.29237035  0.0702097  -0.15342055 -0.10241602 -0.89258463\n",
      " -0.13028431 -0.4571778  -0.08968184  0.3870066  -1.16573524  0.34010044\n",
      " -0.38924603 -0.48067243 -0.03490986 -0.95905693 -0.08535355]\n"
     ]
    }
   ],
   "source": [
    "print(\"Real Prices: \", real_prices)\n",
    "print(\"Predicted Prices: \", predicted_prices)\n",
    "print(\"Difference: \", real_prices - predicted_prices)"
   ]
  },
  {
   "cell_type": "code",
   "execution_count": 32,
   "metadata": {},
   "outputs": [
    {
     "data": {
      "text/plain": [
       "0.39157715540705756"
      ]
     },
     "execution_count": 32,
     "metadata": {},
     "output_type": "execute_result"
    }
   ],
   "source": [
    "# calculate RMSE\n",
    "from sklearn.metrics import mean_squared_error\n",
    "\n",
    "rmse = np.sqrt(mean_squared_error(real_prices, predicted_prices))\n",
    "rmse"
   ]
  },
  {
   "cell_type": "code",
   "execution_count": 33,
   "metadata": {},
   "outputs": [
    {
     "data": {
      "text/plain": [
       "0.3013261748239152"
      ]
     },
     "execution_count": 33,
     "metadata": {},
     "output_type": "execute_result"
    }
   ],
   "source": [
    "# calculate MAE\n",
    "from sklearn.metrics import mean_absolute_error\n",
    "\n",
    "mae = mean_absolute_error(real_prices, predicted_prices)\n",
    "mae"
   ]
  },
  {
   "cell_type": "markdown",
   "metadata": {},
   "source": [
    "Directional Accuracy adalah metrik yang digunakan untuk mengukur seberapa baik model memprediksi arah perubahan harga (naik atau turun) dibandingkan dengan nilai aktual. Ini adalah metrik yang sangat berguna dalam prediksi saham karena dalam banyak kasus, arah perubahan harga lebih penting daripada nilai absolut dari harga itu sendiri—terutama jika tujuannya adalah untuk membuat keputusan beli atau jual."
   ]
  },
  {
   "cell_type": "code",
   "execution_count": 34,
   "metadata": {},
   "outputs": [
    {
     "data": {
      "text/plain": [
       "0.9734513274336283"
      ]
     },
     "execution_count": 34,
     "metadata": {},
     "output_type": "execute_result"
    }
   ],
   "source": [
    "# direction accuracy\n",
    "direction_accuracy = np.mean(np.sign(real_prices[1:] - real_prices[:-1]) == np.sign(predicted_prices[1:] - predicted_prices[:-1]))\n",
    "direction_accuracy"
   ]
  },
  {
   "cell_type": "markdown",
   "metadata": {},
   "source": [
    "# Save Model"
   ]
  },
  {
   "cell_type": "code",
   "execution_count": 35,
   "metadata": {},
   "outputs": [
    {
     "name": "stderr",
     "output_type": "stream",
     "text": [
      "c:\\Users\\thari\\anaconda3\\envs\\ML\\lib\\site-packages\\keras\\src\\engine\\training.py:3000: UserWarning: You are saving your model as an HDF5 file via `model.save()`. This file format is considered legacy. We recommend using instead the native Keras format, e.g. `model.save('my_model.keras')`.\n",
      "  saving_api.save_model(\n"
     ]
    }
   ],
   "source": [
    "# Save the entire model\n",
    "model.save('Model/lstm_model_bbni.h5')\n"
   ]
  }
 ],
 "metadata": {
  "kernelspec": {
   "display_name": "ML",
   "language": "python",
   "name": "ml"
  },
  "language_info": {
   "codemirror_mode": {
    "name": "ipython",
    "version": 3
   },
   "file_extension": ".py",
   "mimetype": "text/x-python",
   "name": "python",
   "nbconvert_exporter": "python",
   "pygments_lexer": "ipython3",
   "version": "3.8.19"
  }
 },
 "nbformat": 4,
 "nbformat_minor": 2
}
