{
 "cells": [
  {
   "cell_type": "markdown",
   "metadata": {},
   "source": [
    "# Import Data"
   ]
  },
  {
   "cell_type": "code",
   "execution_count": 8,
   "metadata": {},
   "outputs": [],
   "source": [
    "import pandas as pd\n",
    "import numpy as np "
   ]
  },
  {
   "cell_type": "code",
   "execution_count": 9,
   "metadata": {},
   "outputs": [],
   "source": [
    "data = pd.read_csv('Data/bbni_data_5y.csv')"
   ]
  },
  {
   "cell_type": "code",
   "execution_count": 10,
   "metadata": {},
   "outputs": [],
   "source": [
    "data['date_str'] = pd.to_datetime(data['date_str'])"
   ]
  },
  {
   "cell_type": "code",
   "execution_count": 11,
   "metadata": {},
   "outputs": [],
   "source": [
    "# rename columns\n",
    "data = data.rename(columns={'date_str': 'date'})"
   ]
  },
  {
   "cell_type": "code",
   "execution_count": 12,
   "metadata": {},
   "outputs": [
    {
     "data": {
      "text/html": [
       "<div>\n",
       "<style scoped>\n",
       "    .dataframe tbody tr th:only-of-type {\n",
       "        vertical-align: middle;\n",
       "    }\n",
       "\n",
       "    .dataframe tbody tr th {\n",
       "        vertical-align: top;\n",
       "    }\n",
       "\n",
       "    .dataframe thead th {\n",
       "        text-align: right;\n",
       "    }\n",
       "</style>\n",
       "<table border=\"1\" class=\"dataframe\">\n",
       "  <thead>\n",
       "    <tr style=\"text-align: right;\">\n",
       "      <th></th>\n",
       "      <th>Open</th>\n",
       "      <th>High</th>\n",
       "      <th>Low</th>\n",
       "      <th>Close</th>\n",
       "      <th>Volume</th>\n",
       "      <th>Dividends</th>\n",
       "      <th>Stock Splits</th>\n",
       "      <th>date</th>\n",
       "    </tr>\n",
       "  </thead>\n",
       "  <tbody>\n",
       "    <tr>\n",
       "      <th>0</th>\n",
       "      <td>3288.270208</td>\n",
       "      <td>3320.720243</td>\n",
       "      <td>3245.003495</td>\n",
       "      <td>3309.903564</td>\n",
       "      <td>48311000</td>\n",
       "      <td>0.0</td>\n",
       "      <td>0.0</td>\n",
       "      <td>2019-11-20</td>\n",
       "    </tr>\n",
       "    <tr>\n",
       "      <th>1</th>\n",
       "      <td>3299.086589</td>\n",
       "      <td>3342.353298</td>\n",
       "      <td>3255.819880</td>\n",
       "      <td>3331.536621</td>\n",
       "      <td>42079800</td>\n",
       "      <td>0.0</td>\n",
       "      <td>0.0</td>\n",
       "      <td>2019-11-21</td>\n",
       "    </tr>\n",
       "    <tr>\n",
       "      <th>2</th>\n",
       "      <td>3331.536921</td>\n",
       "      <td>3331.536921</td>\n",
       "      <td>3299.086886</td>\n",
       "      <td>3309.903564</td>\n",
       "      <td>21247000</td>\n",
       "      <td>0.0</td>\n",
       "      <td>0.0</td>\n",
       "      <td>2019-11-22</td>\n",
       "    </tr>\n",
       "    <tr>\n",
       "      <th>3</th>\n",
       "      <td>3299.087056</td>\n",
       "      <td>3309.903735</td>\n",
       "      <td>3234.186983</td>\n",
       "      <td>3245.003662</td>\n",
       "      <td>25178600</td>\n",
       "      <td>0.0</td>\n",
       "      <td>0.0</td>\n",
       "      <td>2019-11-25</td>\n",
       "    </tr>\n",
       "    <tr>\n",
       "      <th>4</th>\n",
       "      <td>3255.820341</td>\n",
       "      <td>3277.453699</td>\n",
       "      <td>3212.553625</td>\n",
       "      <td>3245.003662</td>\n",
       "      <td>73842800</td>\n",
       "      <td>0.0</td>\n",
       "      <td>0.0</td>\n",
       "      <td>2019-11-26</td>\n",
       "    </tr>\n",
       "  </tbody>\n",
       "</table>\n",
       "</div>"
      ],
      "text/plain": [
       "          Open         High          Low        Close    Volume  Dividends  \\\n",
       "0  3288.270208  3320.720243  3245.003495  3309.903564  48311000        0.0   \n",
       "1  3299.086589  3342.353298  3255.819880  3331.536621  42079800        0.0   \n",
       "2  3331.536921  3331.536921  3299.086886  3309.903564  21247000        0.0   \n",
       "3  3299.087056  3309.903735  3234.186983  3245.003662  25178600        0.0   \n",
       "4  3255.820341  3277.453699  3212.553625  3245.003662  73842800        0.0   \n",
       "\n",
       "   Stock Splits       date  \n",
       "0           0.0 2019-11-20  \n",
       "1           0.0 2019-11-21  \n",
       "2           0.0 2019-11-22  \n",
       "3           0.0 2019-11-25  \n",
       "4           0.0 2019-11-26  "
      ]
     },
     "execution_count": 12,
     "metadata": {},
     "output_type": "execute_result"
    }
   ],
   "source": [
    "data.head()"
   ]
  },
  {
   "cell_type": "code",
   "execution_count": 13,
   "metadata": {},
   "outputs": [
    {
     "name": "stdout",
     "output_type": "stream",
     "text": [
      "<class 'pandas.core.frame.DataFrame'>\n",
      "RangeIndex: 1213 entries, 0 to 1212\n",
      "Data columns (total 8 columns):\n",
      " #   Column        Non-Null Count  Dtype         \n",
      "---  ------        --------------  -----         \n",
      " 0   Open          1213 non-null   float64       \n",
      " 1   High          1213 non-null   float64       \n",
      " 2   Low           1213 non-null   float64       \n",
      " 3   Close         1213 non-null   float64       \n",
      " 4   Volume        1213 non-null   int64         \n",
      " 5   Dividends     1213 non-null   float64       \n",
      " 6   Stock Splits  1213 non-null   float64       \n",
      " 7   date          1213 non-null   datetime64[ns]\n",
      "dtypes: datetime64[ns](1), float64(6), int64(1)\n",
      "memory usage: 75.9 KB\n"
     ]
    }
   ],
   "source": [
    "data.info()"
   ]
  },
  {
   "cell_type": "code",
   "execution_count": 14,
   "metadata": {},
   "outputs": [
    {
     "data": {
      "text/plain": [
       "Open            0\n",
       "High            0\n",
       "Low             0\n",
       "Close           0\n",
       "Volume          0\n",
       "Dividends       0\n",
       "Stock Splits    0\n",
       "date            0\n",
       "dtype: int64"
      ]
     },
     "execution_count": 14,
     "metadata": {},
     "output_type": "execute_result"
    }
   ],
   "source": [
    "data.isnull().sum()"
   ]
  },
  {
   "cell_type": "markdown",
   "metadata": {},
   "source": [
    "# Feature Engineering"
   ]
  },
  {
   "cell_type": "code",
   "execution_count": 15,
   "metadata": {},
   "outputs": [
    {
     "data": {
      "text/plain": [
       "Dividends\n",
       "0.00000      1208\n",
       "103.12054       1\n",
       "22.01131        1\n",
       "73.14845        1\n",
       "196.39006       1\n",
       "280.49518       1\n",
       "Name: count, dtype: int64"
      ]
     },
     "execution_count": 15,
     "metadata": {},
     "output_type": "execute_result"
    }
   ],
   "source": [
    "data['Dividends'].value_counts()"
   ]
  },
  {
   "cell_type": "code",
   "execution_count": 16,
   "metadata": {},
   "outputs": [
    {
     "data": {
      "text/plain": [
       "Stock Splits\n",
       "0.0    1211\n",
       "2.0       2\n",
       "Name: count, dtype: int64"
      ]
     },
     "execution_count": 16,
     "metadata": {},
     "output_type": "execute_result"
    }
   ],
   "source": [
    "data['Stock Splits'].value_counts()"
   ]
  },
  {
   "cell_type": "code",
   "execution_count": 17,
   "metadata": {},
   "outputs": [],
   "source": [
    "data.drop(['Dividends', 'Stock Splits'], axis=1, inplace=True)"
   ]
  },
  {
   "cell_type": "code",
   "execution_count": 18,
   "metadata": {},
   "outputs": [],
   "source": [
    "# 1. Menghitung Return Harian\n",
    "data['return'] = data['Close'].pct_change()\n",
    "data['log_return'] = np.log(data['Close'] / data['Close'].shift(1))"
   ]
  },
  {
   "cell_type": "code",
   "execution_count": 19,
   "metadata": {},
   "outputs": [],
   "source": [
    "# 2. Moving Averages\n",
    "data['ma_5'] = data['Close'].rolling(window=5).mean()\n",
    "data['ma_10'] = data['Close'].rolling(window=10).mean()\n",
    "data['ma_20'] = data['Close'].rolling(window=20).mean()"
   ]
  },
  {
   "cell_type": "code",
   "execution_count": 20,
   "metadata": {},
   "outputs": [],
   "source": [
    "# 3. Exponential Moving Average (EMA)\n",
    "data['ema_10'] = data['Close'].ewm(span=10, adjust=False).mean()\n",
    "data['ema_20'] = data['Close'].ewm(span=20, adjust=False).mean()"
   ]
  },
  {
   "cell_type": "code",
   "execution_count": 21,
   "metadata": {},
   "outputs": [],
   "source": [
    "# 4. Bollinger Bands\n",
    "data['bollinger_mid'] = data['Close'].rolling(window=20).mean()\n",
    "data['bollinger_std'] = data['Close'].rolling(window=20).std()\n",
    "data['bollinger_upper'] = data['bollinger_mid'] + (2 * data['bollinger_std'])\n",
    "data['bollinger_lower'] = data['bollinger_mid'] - (2 * data['bollinger_std'])"
   ]
  },
  {
   "cell_type": "code",
   "execution_count": 22,
   "metadata": {},
   "outputs": [],
   "source": [
    "# 10. Penambahan Fitur Waktu\n",
    "data['day_of_week'] = data['date'].dt.dayofweek  # 0 = Monday, 6 = Sunday\n",
    "data['month'] = data['date'].dt.month"
   ]
  },
  {
   "cell_type": "code",
   "execution_count": 23,
   "metadata": {},
   "outputs": [],
   "source": [
    "# Hapus data yang mengandung nilai NaN akibat perhitungan rolling\n",
    "data = data.dropna().reset_index(drop=True)"
   ]
  },
  {
   "cell_type": "code",
   "execution_count": 24,
   "metadata": {},
   "outputs": [
    {
     "data": {
      "text/html": [
       "<div>\n",
       "<style scoped>\n",
       "    .dataframe tbody tr th:only-of-type {\n",
       "        vertical-align: middle;\n",
       "    }\n",
       "\n",
       "    .dataframe tbody tr th {\n",
       "        vertical-align: top;\n",
       "    }\n",
       "\n",
       "    .dataframe thead th {\n",
       "        text-align: right;\n",
       "    }\n",
       "</style>\n",
       "<table border=\"1\" class=\"dataframe\">\n",
       "  <thead>\n",
       "    <tr style=\"text-align: right;\">\n",
       "      <th></th>\n",
       "      <th>Open</th>\n",
       "      <th>High</th>\n",
       "      <th>Low</th>\n",
       "      <th>Close</th>\n",
       "      <th>Volume</th>\n",
       "      <th>date</th>\n",
       "      <th>return</th>\n",
       "      <th>log_return</th>\n",
       "      <th>ma_5</th>\n",
       "      <th>ma_10</th>\n",
       "      <th>ma_20</th>\n",
       "      <th>ema_10</th>\n",
       "      <th>ema_20</th>\n",
       "      <th>bollinger_mid</th>\n",
       "      <th>bollinger_std</th>\n",
       "      <th>bollinger_upper</th>\n",
       "      <th>bollinger_lower</th>\n",
       "      <th>day_of_week</th>\n",
       "      <th>month</th>\n",
       "    </tr>\n",
       "  </thead>\n",
       "  <tbody>\n",
       "    <tr>\n",
       "      <th>0</th>\n",
       "      <td>3331.536621</td>\n",
       "      <td>3342.353298</td>\n",
       "      <td>3309.903266</td>\n",
       "      <td>3331.536621</td>\n",
       "      <td>45188200</td>\n",
       "      <td>2019-12-17</td>\n",
       "      <td>0.000000</td>\n",
       "      <td>0.000000</td>\n",
       "      <td>3296.923389</td>\n",
       "      <td>3276.371729</td>\n",
       "      <td>3270.963477</td>\n",
       "      <td>3290.321411</td>\n",
       "      <td>3283.007058</td>\n",
       "      <td>3270.963477</td>\n",
       "      <td>39.920722</td>\n",
       "      <td>3350.804920</td>\n",
       "      <td>3191.122033</td>\n",
       "      <td>1</td>\n",
       "      <td>12</td>\n",
       "    </tr>\n",
       "    <tr>\n",
       "      <th>1</th>\n",
       "      <td>3331.536729</td>\n",
       "      <td>3396.436795</td>\n",
       "      <td>3309.903373</td>\n",
       "      <td>3385.620117</td>\n",
       "      <td>84394000</td>\n",
       "      <td>2019-12-18</td>\n",
       "      <td>0.016234</td>\n",
       "      <td>0.016103</td>\n",
       "      <td>3322.883398</td>\n",
       "      <td>3293.678418</td>\n",
       "      <td>3274.749304</td>\n",
       "      <td>3307.648449</td>\n",
       "      <td>3292.779730</td>\n",
       "      <td>3274.749304</td>\n",
       "      <td>46.804623</td>\n",
       "      <td>3368.358550</td>\n",
       "      <td>3181.140059</td>\n",
       "      <td>2</td>\n",
       "      <td>12</td>\n",
       "    </tr>\n",
       "    <tr>\n",
       "      <th>2</th>\n",
       "      <td>3385.620117</td>\n",
       "      <td>3396.436795</td>\n",
       "      <td>3353.170084</td>\n",
       "      <td>3385.620117</td>\n",
       "      <td>38600800</td>\n",
       "      <td>2019-12-19</td>\n",
       "      <td>0.000000</td>\n",
       "      <td>0.000000</td>\n",
       "      <td>3348.843408</td>\n",
       "      <td>3309.903418</td>\n",
       "      <td>3277.453479</td>\n",
       "      <td>3321.825116</td>\n",
       "      <td>3301.621672</td>\n",
       "      <td>3277.453479</td>\n",
       "      <td>51.577264</td>\n",
       "      <td>3380.608006</td>\n",
       "      <td>3174.298952</td>\n",
       "      <td>3</td>\n",
       "      <td>12</td>\n",
       "    </tr>\n",
       "    <tr>\n",
       "      <th>3</th>\n",
       "      <td>3385.620389</td>\n",
       "      <td>3385.620389</td>\n",
       "      <td>3353.170354</td>\n",
       "      <td>3374.803711</td>\n",
       "      <td>37723600</td>\n",
       "      <td>2019-12-20</td>\n",
       "      <td>-0.003195</td>\n",
       "      <td>-0.003200</td>\n",
       "      <td>3361.823438</td>\n",
       "      <td>3319.638452</td>\n",
       "      <td>3280.698486</td>\n",
       "      <td>3331.457587</td>\n",
       "      <td>3308.591390</td>\n",
       "      <td>3280.698486</td>\n",
       "      <td>55.610263</td>\n",
       "      <td>3391.919013</td>\n",
       "      <td>3169.477960</td>\n",
       "      <td>4</td>\n",
       "      <td>12</td>\n",
       "    </tr>\n",
       "    <tr>\n",
       "      <th>4</th>\n",
       "      <td>3396.436929</td>\n",
       "      <td>3428.886963</td>\n",
       "      <td>3374.803572</td>\n",
       "      <td>3428.886963</td>\n",
       "      <td>45834400</td>\n",
       "      <td>2019-12-23</td>\n",
       "      <td>0.016026</td>\n",
       "      <td>0.015899</td>\n",
       "      <td>3381.293506</td>\n",
       "      <td>3334.781812</td>\n",
       "      <td>3289.892651</td>\n",
       "      <td>3349.172019</td>\n",
       "      <td>3320.048111</td>\n",
       "      <td>3289.892651</td>\n",
       "      <td>63.970625</td>\n",
       "      <td>3417.833902</td>\n",
       "      <td>3161.951401</td>\n",
       "      <td>0</td>\n",
       "      <td>12</td>\n",
       "    </tr>\n",
       "  </tbody>\n",
       "</table>\n",
       "</div>"
      ],
      "text/plain": [
       "          Open         High          Low        Close    Volume       date  \\\n",
       "0  3331.536621  3342.353298  3309.903266  3331.536621  45188200 2019-12-17   \n",
       "1  3331.536729  3396.436795  3309.903373  3385.620117  84394000 2019-12-18   \n",
       "2  3385.620117  3396.436795  3353.170084  3385.620117  38600800 2019-12-19   \n",
       "3  3385.620389  3385.620389  3353.170354  3374.803711  37723600 2019-12-20   \n",
       "4  3396.436929  3428.886963  3374.803572  3428.886963  45834400 2019-12-23   \n",
       "\n",
       "     return  log_return         ma_5        ma_10        ma_20       ema_10  \\\n",
       "0  0.000000    0.000000  3296.923389  3276.371729  3270.963477  3290.321411   \n",
       "1  0.016234    0.016103  3322.883398  3293.678418  3274.749304  3307.648449   \n",
       "2  0.000000    0.000000  3348.843408  3309.903418  3277.453479  3321.825116   \n",
       "3 -0.003195   -0.003200  3361.823438  3319.638452  3280.698486  3331.457587   \n",
       "4  0.016026    0.015899  3381.293506  3334.781812  3289.892651  3349.172019   \n",
       "\n",
       "        ema_20  bollinger_mid  bollinger_std  bollinger_upper  \\\n",
       "0  3283.007058    3270.963477      39.920722      3350.804920   \n",
       "1  3292.779730    3274.749304      46.804623      3368.358550   \n",
       "2  3301.621672    3277.453479      51.577264      3380.608006   \n",
       "3  3308.591390    3280.698486      55.610263      3391.919013   \n",
       "4  3320.048111    3289.892651      63.970625      3417.833902   \n",
       "\n",
       "   bollinger_lower  day_of_week  month  \n",
       "0      3191.122033            1     12  \n",
       "1      3181.140059            2     12  \n",
       "2      3174.298952            3     12  \n",
       "3      3169.477960            4     12  \n",
       "4      3161.951401            0     12  "
      ]
     },
     "execution_count": 24,
     "metadata": {},
     "output_type": "execute_result"
    }
   ],
   "source": [
    "data.head()"
   ]
  },
  {
   "cell_type": "code",
   "execution_count": 25,
   "metadata": {},
   "outputs": [
    {
     "data": {
      "text/plain": [
       "Open               0\n",
       "High               0\n",
       "Low                0\n",
       "Close              0\n",
       "Volume             0\n",
       "date               0\n",
       "return             0\n",
       "log_return         0\n",
       "ma_5               0\n",
       "ma_10              0\n",
       "ma_20              0\n",
       "ema_10             0\n",
       "ema_20             0\n",
       "bollinger_mid      0\n",
       "bollinger_std      0\n",
       "bollinger_upper    0\n",
       "bollinger_lower    0\n",
       "day_of_week        0\n",
       "month              0\n",
       "dtype: int64"
      ]
     },
     "execution_count": 25,
     "metadata": {},
     "output_type": "execute_result"
    }
   ],
   "source": [
    "data.isnull().sum()"
   ]
  },
  {
   "cell_type": "markdown",
   "metadata": {},
   "source": [
    "# Modelling"
   ]
  },
  {
   "cell_type": "markdown",
   "metadata": {},
   "source": [
    "## Preprocessing"
   ]
  },
  {
   "cell_type": "code",
   "execution_count": 26,
   "metadata": {},
   "outputs": [],
   "source": [
    "dataUsed = data[['Close', 'Open']]"
   ]
  },
  {
   "cell_type": "code",
   "execution_count": 27,
   "metadata": {},
   "outputs": [
    {
     "name": "stderr",
     "output_type": "stream",
     "text": [
      "C:\\Users\\thari\\AppData\\Local\\Temp\\ipykernel_20912\\1216798107.py:6: SettingWithCopyWarning: \n",
      "A value is trying to be set on a copy of a slice from a DataFrame.\n",
      "Try using .loc[row_indexer,col_indexer] = value instead\n",
      "\n",
      "See the caveats in the documentation: https://pandas.pydata.org/pandas-docs/stable/user_guide/indexing.html#returning-a-view-versus-a-copy\n",
      "  dataUsed['Close'] = scaler.fit_transform(dataUsed.Close.values.reshape(-1,1))\n",
      "C:\\Users\\thari\\AppData\\Local\\Temp\\ipykernel_20912\\1216798107.py:7: SettingWithCopyWarning: \n",
      "A value is trying to be set on a copy of a slice from a DataFrame.\n",
      "Try using .loc[row_indexer,col_indexer] = value instead\n",
      "\n",
      "See the caveats in the documentation: https://pandas.pydata.org/pandas-docs/stable/user_guide/indexing.html#returning-a-view-versus-a-copy\n",
      "  dataUsed['Open'] = scaler.fit_transform(dataUsed.Open.values.reshape(-1,1))\n"
     ]
    },
    {
     "data": {
      "text/plain": [
       "array([[0.42342612, 0.42342611],\n",
       "       [0.43533507, 0.42342613],\n",
       "       [0.43533507, 0.43533505],\n",
       "       ...,\n",
       "       [0.76218885, 0.77540057],\n",
       "       [0.75778494, 0.75998689],\n",
       "       [0.75778494, 0.76218884]])"
      ]
     },
     "execution_count": 27,
     "metadata": {},
     "output_type": "execute_result"
    }
   ],
   "source": [
    "from sklearn.preprocessing import MinMaxScaler\n",
    "import numpy as np\n",
    "\n",
    "# preprocessing\n",
    "scaler = MinMaxScaler(feature_range=(0, 1))\n",
    "dataUsed['Close'] = scaler.fit_transform(dataUsed.Close.values.reshape(-1,1))\n",
    "dataUsed['Open'] = scaler.fit_transform(dataUsed.Open.values.reshape(-1,1))\n",
    "\n",
    "data_scaled = np.array(dataUsed)\n",
    "\n",
    "data_scaled"
   ]
  },
  {
   "cell_type": "markdown",
   "metadata": {},
   "source": [
    "## Train Test Sequence"
   ]
  },
  {
   "cell_type": "code",
   "execution_count": 28,
   "metadata": {},
   "outputs": [],
   "source": [
    "import numpy as np\n",
    "\n",
    "sequence_length = 60\n",
    "x = []\n",
    "y = []\n",
    "\n",
    "# Target tetap kolom 0 (harga close), tetapi kita hanya menggunakan kolom lain sebagai input\n",
    "for i in range(sequence_length, len(data_scaled)):\n",
    "    x.append(data_scaled[i-sequence_length:i, 0:])  \n",
    "    y.append(data_scaled[i, 0]) \n",
    "\n",
    "# Konversi ke array numpy\n",
    "x, y = np.array(x), np.array(y)\n"
   ]
  },
  {
   "cell_type": "code",
   "execution_count": 29,
   "metadata": {},
   "outputs": [
    {
     "name": "stdout",
     "output_type": "stream",
     "text": [
      "(1134, 60, 2) (1134,)\n"
     ]
    }
   ],
   "source": [
    "print(x.shape, y.shape)"
   ]
  },
  {
   "cell_type": "markdown",
   "metadata": {},
   "source": [
    "## LSTM"
   ]
  },
  {
   "cell_type": "code",
   "execution_count": 30,
   "metadata": {},
   "outputs": [],
   "source": [
    "from sklearn.model_selection import train_test_split\n",
    "\n",
    "# train and test split\n",
    "x_train, x_test, y_train, y_test = train_test_split(x, y, test_size=0.2, shuffle=False)"
   ]
  },
  {
   "cell_type": "code",
   "execution_count": 31,
   "metadata": {},
   "outputs": [],
   "source": [
    "from tensorflow.keras.models import Sequential\n",
    "from tensorflow.keras.layers import LSTM, Dense, Dropout"
   ]
  },
  {
   "cell_type": "code",
   "execution_count": 32,
   "metadata": {},
   "outputs": [],
   "source": [
    "# LSTM model\n",
    "model = Sequential()\n",
    "model.add(LSTM(units=100, return_sequences=True, input_shape=(x_train.shape[1], x_train.shape[2])))\n",
    "model.add(Dropout(0.2))\n",
    "model.add(LSTM(units=50, return_sequences=True))\n",
    "model.add(Dropout(0.3))\n",
    "model.add(LSTM(units=50))\n",
    "model.add(Dense(units=1))\n",
    "\n",
    "model.compile(optimizer='adam', loss='mean_squared_error')"
   ]
  },
  {
   "cell_type": "code",
   "execution_count": 33,
   "metadata": {},
   "outputs": [
    {
     "name": "stdout",
     "output_type": "stream",
     "text": [
      "Epoch 1/30\n",
      "182/182 [==============================] - 12s 40ms/step - loss: 0.0059 - val_loss: 0.0028\n",
      "Epoch 2/30\n",
      "182/182 [==============================] - 8s 47ms/step - loss: 0.0021 - val_loss: 0.0025\n",
      "Epoch 3/30\n",
      "182/182 [==============================] - 8s 46ms/step - loss: 0.0020 - val_loss: 0.0037\n",
      "Epoch 4/30\n",
      "182/182 [==============================] - 8s 45ms/step - loss: 0.0016 - val_loss: 0.0024\n",
      "Epoch 5/30\n",
      "182/182 [==============================] - 8s 45ms/step - loss: 0.0016 - val_loss: 0.0056\n",
      "Epoch 6/30\n",
      "182/182 [==============================] - 8s 46ms/step - loss: 0.0014 - val_loss: 0.0031\n",
      "Epoch 7/30\n",
      "182/182 [==============================] - 8s 47ms/step - loss: 0.0012 - val_loss: 0.0015\n",
      "Epoch 8/30\n",
      "182/182 [==============================] - 9s 47ms/step - loss: 0.0010 - val_loss: 0.0038\n",
      "Epoch 9/30\n",
      "182/182 [==============================] - 9s 49ms/step - loss: 0.0011 - val_loss: 0.0018\n",
      "Epoch 10/30\n",
      "182/182 [==============================] - 9s 48ms/step - loss: 0.0011 - val_loss: 0.0015\n",
      "Epoch 11/30\n",
      "182/182 [==============================] - 8s 47ms/step - loss: 0.0011 - val_loss: 0.0046\n",
      "Epoch 12/30\n",
      "182/182 [==============================] - 9s 47ms/step - loss: 7.9570e-04 - val_loss: 0.0027\n",
      "Epoch 13/30\n",
      "182/182 [==============================] - 9s 47ms/step - loss: 7.6818e-04 - val_loss: 0.0013\n",
      "Epoch 14/30\n",
      "182/182 [==============================] - 9s 48ms/step - loss: 8.9883e-04 - val_loss: 0.0018\n",
      "Epoch 15/30\n",
      "182/182 [==============================] - 9s 47ms/step - loss: 9.1743e-04 - val_loss: 0.0012\n",
      "Epoch 16/30\n",
      "182/182 [==============================] - 9s 48ms/step - loss: 8.1633e-04 - val_loss: 0.0058\n",
      "Epoch 17/30\n",
      "182/182 [==============================] - 9s 47ms/step - loss: 8.6104e-04 - val_loss: 0.0034\n",
      "Epoch 18/30\n",
      "182/182 [==============================] - 8s 47ms/step - loss: 8.1661e-04 - val_loss: 0.0022\n",
      "Epoch 19/30\n",
      "182/182 [==============================] - 9s 47ms/step - loss: 7.7556e-04 - val_loss: 0.0015\n",
      "Epoch 20/30\n",
      "182/182 [==============================] - 8s 46ms/step - loss: 7.7536e-04 - val_loss: 0.0015\n",
      "Epoch 21/30\n",
      "182/182 [==============================] - 9s 47ms/step - loss: 7.0168e-04 - val_loss: 0.0016\n",
      "Epoch 22/30\n",
      "182/182 [==============================] - 8s 46ms/step - loss: 6.1029e-04 - val_loss: 0.0012\n",
      "Epoch 23/30\n",
      "182/182 [==============================] - 9s 48ms/step - loss: 7.1516e-04 - val_loss: 0.0021\n",
      "Epoch 24/30\n",
      "182/182 [==============================] - 9s 47ms/step - loss: 6.6949e-04 - val_loss: 9.0982e-04\n",
      "Epoch 25/30\n",
      "182/182 [==============================] - 8s 46ms/step - loss: 6.3638e-04 - val_loss: 0.0010\n",
      "Epoch 26/30\n",
      "182/182 [==============================] - 8s 47ms/step - loss: 6.5058e-04 - val_loss: 0.0017\n",
      "Epoch 27/30\n",
      "182/182 [==============================] - 8s 46ms/step - loss: 7.0456e-04 - val_loss: 0.0017\n",
      "Epoch 28/30\n",
      "182/182 [==============================] - 8s 46ms/step - loss: 7.4584e-04 - val_loss: 0.0015\n",
      "Epoch 29/30\n",
      "182/182 [==============================] - 8s 46ms/step - loss: 6.4779e-04 - val_loss: 0.0021\n",
      "Epoch 30/30\n",
      "182/182 [==============================] - 9s 47ms/step - loss: 5.8371e-04 - val_loss: 0.0013\n"
     ]
    },
    {
     "data": {
      "text/plain": [
       "<keras.src.callbacks.History at 0x197557e9ee0>"
      ]
     },
     "execution_count": 33,
     "metadata": {},
     "output_type": "execute_result"
    }
   ],
   "source": [
    "# train model with early stopping\n",
    "model.fit(x_train, y_train, epochs=30, batch_size=5, validation_data=(x_test, y_test), verbose=1)"
   ]
  },
  {
   "cell_type": "code",
   "execution_count": 34,
   "metadata": {},
   "outputs": [
    {
     "name": "stdout",
     "output_type": "stream",
     "text": [
      "8/8 [==============================] - 2s 31ms/step\n"
     ]
    }
   ],
   "source": [
    "# prediction\n",
    "predicted_prices =  model.predict(x_test)\n"
   ]
  },
  {
   "cell_type": "code",
   "execution_count": 35,
   "metadata": {},
   "outputs": [],
   "source": [
    "# Dapatkan jumlah kolom yang diharapkan oleh scaler\n",
    "expected_columns = scaler.min_.shape[0] \n",
    "\n",
    "# Tambahkan kolom nol untuk menyesuaikan jumlah kolom\n",
    "predicted_prices_padded = np.hstack([np.zeros((predicted_prices.shape[0], expected_columns - 1)), predicted_prices])\n",
    "\n",
    "# Inverse transform dan ambil hanya kolom harga 'Close'\n",
    "predicted_prices = scaler.inverse_transform(predicted_prices_padded)[:, -1]  # Ambil hanya kolom harga\n"
   ]
  },
  {
   "cell_type": "code",
   "execution_count": 36,
   "metadata": {},
   "outputs": [],
   "source": [
    "# Tambahkan kolom nol untuk menyesuaikan jumlah kolom\n",
    "real_prices_padded = np.hstack([np.zeros((y_test.shape[0], expected_columns - 1)), y_test.reshape(-1,1)])\n",
    "\n",
    "# Inverse transform dan ambil hanya kolom harga 'Close'\n",
    "real_prices = scaler.inverse_transform(real_prices_padded)[:, -1]  # Ambil hanya kolom harga\n"
   ]
  },
  {
   "cell_type": "code",
   "execution_count": 37,
   "metadata": {},
   "outputs": [],
   "source": [
    "real_prices_padded_train = np.hstack([np.zeros((y_train.shape[0], expected_columns - 1)), y_train.reshape(-1,1)])\n",
    "\n",
    "# Inverse transform dan ambil hanya kolom harga 'Close'\n",
    "real_prices_train = scaler.inverse_transform(real_prices_padded_train)[:, -1]  # Ambil hanya kolom harga"
   ]
  },
  {
   "cell_type": "markdown",
   "metadata": {},
   "source": [
    "# Evaluation"
   ]
  },
  {
   "cell_type": "code",
   "execution_count": 38,
   "metadata": {},
   "outputs": [
    {
     "data": {
      "image/png": "[encoded data removed]",
      "text/plain": [
       "<Figure size 640x480 with 1 Axes>"
      ]
     },
     "metadata": {},
     "output_type": "display_data"
    }
   ],
   "source": [
    "# conpare real and predicted prices\n",
    "import matplotlib.pyplot as plt\n",
    "\n",
    "plt.plot(real_prices, color='red', label='Real Prices')\n",
    "plt.plot(predicted_prices, color='blue', label='Predicted Prices')\n",
    "plt.title('Stock Prices Prediction')\n",
    "plt.xlabel('Time')\n",
    "plt.ylabel('Stock Prices')\n",
    "plt.legend()\n",
    "plt.show()"
   ]
  },
  {
   "cell_type": "code",
   "execution_count": 39,
   "metadata": {},
   "outputs": [
    {
     "data": {
      "application/vnd.plotly.v1+json": {
       "config": {
        "plotlyServerURL": "https://plot.ly"
       },
       "data": [
        {
         "mode": "lines",
         "name": "Real Prices",
         "type": "scatter",
         "x": [
          "2023-12-07T00:00:00",
          "2023-12-08T00:00:00",
          "2023-12-11T00:00:00",
          "2023-12-12T00:00:00",
          "2023-12-13T00:00:00",
          "2023-12-14T00:00:00",
          "2023-12-15T00:00:00",
          "2023-12-18T00:00:00",
          "2023-12-19T00:00:00",
          "2023-12-20T00:00:00",
          "2023-12-21T00:00:00",
          "2023-12-22T00:00:00",
          "2023-12-27T00:00:00",
          "2023-12-28T00:00:00",
          "2023-12-29T00:00:00",
          "2024-01-02T00:00:00",
          "2024-01-03T00:00:00",
          "2024-01-04T00:00:00",
          "2024-01-05T00:00:00",
          "2024-01-08T00:00:00",
          "2024-01-09T00:00:00",
          "2024-01-10T00:00:00",
          "2024-01-11T00:00:00",
          "2024-01-12T00:00:00",
          "2024-01-15T00:00:00",
          "2024-01-16T00:00:00",
          "2024-01-17T00:00:00",
          "2024-01-18T00:00:00",
          "2024-01-19T00:00:00",
          "2024-01-22T00:00:00",
          "2024-01-23T00:00:00",
          "2024-01-24T00:00:00",
          "2024-01-25T00:00:00",
          "2024-01-26T00:00:00",
          "2024-01-29T00:00:00",
          "2024-01-30T00:00:00",
          "2024-01-31T00:00:00",
          "2024-02-01T00:00:00",
          "2024-02-02T00:00:00",
          "2024-02-05T00:00:00",
          "2024-02-06T00:00:00",
          "2024-02-07T00:00:00",
          "2024-02-12T00:00:00",
          "2024-02-13T00:00:00",
          "2024-02-15T00:00:00",
          "2024-02-16T00:00:00",
          "2024-02-19T00:00:00",
          "2024-02-20T00:00:00",
          "2024-02-21T00:00:00",
          "2024-02-22T00:00:00",
          "2024-02-23T00:00:00",
          "2024-02-26T00:00:00",
          "2024-02-27T00:00:00",
          "2024-02-28T00:00:00",
          "2024-02-29T00:00:00",
          "2024-03-01T00:00:00",
          "2024-03-04T00:00:00",
          "2024-03-05T00:00:00",
          "2024-03-06T00:00:00",
          "2024-03-07T00:00:00",
          "2024-03-08T00:00:00",
          "2024-03-13T00:00:00",
          "2024-03-14T00:00:00",
          "2024-03-15T00:00:00",
          "2024-03-18T00:00:00",
          "2024-03-19T00:00:00",
          "2024-03-20T00:00:00",
          "2024-03-21T00:00:00",
          "2024-03-22T00:00:00",
          "2024-03-25T00:00:00",
          "2024-03-26T00:00:00",
          "2024-03-27T00:00:00",
          "2024-03-28T00:00:00",
          "2024-04-01T00:00:00",
          "2024-04-02T00:00:00",
          "2024-04-03T00:00:00",
          "2024-04-04T00:00:00",
          "2024-04-05T00:00:00",
          "2024-04-16T00:00:00",
          "2024-04-17T00:00:00",
          "2024-04-18T00:00:00",
          "2024-04-19T00:00:00",
          "2024-04-22T00:00:00",
          "2024-04-23T00:00:00",
          "2024-04-24T00:00:00",
          "2024-04-25T00:00:00",
          "2024-04-26T00:00:00",
          "2024-04-29T00:00:00",
          "2024-04-30T00:00:00",
          "2024-05-02T00:00:00",
          "2024-05-03T00:00:00",
          "2024-05-06T00:00:00",
          "2024-05-07T00:00:00",
          "2024-05-08T00:00:00",
          "2024-05-13T00:00:00",
          "2024-05-14T00:00:00",
          "2024-05-15T00:00:00",
          "2024-05-16T00:00:00",
          "2024-05-17T00:00:00",
          "2024-05-20T00:00:00",
          "2024-05-21T00:00:00",
          "2024-05-22T00:00:00",
          "2024-05-27T00:00:00",
          "2024-05-28T00:00:00",
          "2024-05-29T00:00:00",
          "2024-05-30T00:00:00",
          "2024-05-31T00:00:00",
          "2024-06-03T00:00:00",
          "2024-06-04T00:00:00",
          "2024-06-05T00:00:00",
          "2024-06-06T00:00:00",
          "2024-06-07T00:00:00",
          "2024-06-10T00:00:00",
          "2024-06-11T00:00:00",
          "2024-06-12T00:00:00",
          "2024-06-13T00:00:00",
          "2024-06-14T00:00:00",
          "2024-06-19T00:00:00",
          "2024-06-20T00:00:00",
          "2024-06-21T00:00:00",
          "2024-06-24T00:00:00",
          "2024-06-25T00:00:00",
          "2024-06-26T00:00:00",
          "2024-06-27T00:00:00",
          "2024-06-28T00:00:00",
          "2024-07-01T00:00:00",
          "2024-07-02T00:00:00",
          "2024-07-03T00:00:00",
          "2024-07-04T00:00:00",
          "2024-07-05T00:00:00",
          "2024-07-08T00:00:00",
          "2024-07-09T00:00:00",
          "2024-07-10T00:00:00",
          "2024-07-11T00:00:00",
          "2024-07-12T00:00:00",
          "2024-07-15T00:00:00",
          "2024-07-16T00:00:00",
          "2024-07-17T00:00:00",
          "2024-07-18T00:00:00",
          "2024-07-19T00:00:00",
          "2024-07-22T00:00:00",
          "2024-07-23T00:00:00",
          "2024-07-24T00:00:00",
          "2024-07-25T00:00:00",
          "2024-07-26T00:00:00",
          "2024-07-29T00:00:00",
          "2024-07-30T00:00:00",
          "2024-07-31T00:00:00",
          "2024-08-01T00:00:00",
          "2024-08-02T00:00:00",
          "2024-08-05T00:00:00",
          "2024-08-06T00:00:00",
          "2024-08-07T00:00:00",
          "2024-08-08T00:00:00",
          "2024-08-09T00:00:00",
          "2024-08-12T00:00:00",
          "2024-08-13T00:00:00",
          "2024-08-14T00:00:00",
          "2024-08-15T00:00:00",
          "2024-08-16T00:00:00",
          "2024-08-19T00:00:00",
          "2024-08-20T00:00:00",
          "2024-08-21T00:00:00",
          "2024-08-22T00:00:00",
          "2024-08-23T00:00:00",
          "2024-08-26T00:00:00",
          "2024-08-27T00:00:00",
          "2024-08-28T00:00:00",
          "2024-08-29T00:00:00",
          "2024-08-30T00:00:00",
          "2024-09-02T00:00:00",
          "2024-09-03T00:00:00",
          "2024-09-04T00:00:00",
          "2024-09-05T00:00:00",
          "2024-09-06T00:00:00",
          "2024-09-09T00:00:00",
          "2024-09-10T00:00:00",
          "2024-09-11T00:00:00",
          "2024-09-12T00:00:00",
          "2024-09-13T00:00:00",
          "2024-09-17T00:00:00",
          "2024-09-18T00:00:00",
          "2024-09-19T00:00:00",
          "2024-09-20T00:00:00",
          "2024-09-23T00:00:00",
          "2024-09-24T00:00:00",
          "2024-09-25T00:00:00",
          "2024-09-26T00:00:00",
          "2024-09-27T00:00:00",
          "2024-09-30T00:00:00",
          "2024-10-01T00:00:00",
          "2024-10-02T00:00:00",
          "2024-10-03T00:00:00",
          "2024-10-04T00:00:00",
          "2024-10-07T00:00:00",
          "2024-10-08T00:00:00",
          "2024-10-09T00:00:00",
          "2024-10-10T00:00:00",
          "2024-10-11T00:00:00",
          "2024-10-14T00:00:00",
          "2024-10-15T00:00:00",
          "2024-10-16T00:00:00",
          "2024-10-17T00:00:00",
          "2024-10-18T00:00:00",
          "2024-10-21T00:00:00",
          "2024-10-22T00:00:00",
          "2024-10-23T00:00:00",
          "2024-10-24T00:00:00",
          "2024-10-25T00:00:00",
          "2024-10-28T00:00:00",
          "2024-10-29T00:00:00",
          "2024-10-30T00:00:00",
          "2024-10-31T00:00:00",
          "2024-11-01T00:00:00",
          "2024-11-04T00:00:00",
          "2024-11-05T00:00:00",
          "2024-11-06T00:00:00",
          "2024-11-07T00:00:00",
          "2024-11-08T00:00:00",
          "2024-11-11T00:00:00",
          "2024-11-12T00:00:00",
          "2024-11-13T00:00:00",
          "2024-11-14T00:00:00",
          "2024-11-15T00:00:00",
          "2024-11-18T00:00:00",
          "2024-11-19T00:00:00",
          "2024-11-20T00:00:00"
         ],
         "y": [
          5034.4126254886005,
          4843.534213322242,
          4938.9736635460395,
          5034.4126254886005,
          4938.9736635460395,
          5105.991724875215,
          5034.4126254886005,
          4962.833037820753,
          4962.833037820753,
          4962.833037820753,
          4915.11380099009,
          5010.552762932652,
          5034.4126254886005,
          5105.991724875215,
          5129.851587431164,
          5129.851587431164,
          5105.991724875215,
          5344.5898621534725,
          5320.729999597524,
          5320.729999597524,
          5392.309098984136,
          5344.5898621534725,
          5344.5898621534725,
          5344.5898621534725,
          5368.449236428187,
          5344.5898621534725,
          5296.870137041574,
          5296.870137041574,
          5249.150411929676,
          5273.010274485625,
          5177.571312543063,
          5225.290549373726,
          5153.711449987114,
          5177.571312543063,
          5320.729999597524,
          5392.309098984136,
          5487.7480609266995,
          5463.888686651986,
          5511.607923482649,
          5487.7480609266995,
          5511.607923482649,
          5487.7480609266995,
          5678.626473093059,
          5607.047373706446,
          5726.346198204957,
          5726.346198204957,
          5607.047373706446,
          5750.205572479673,
          5726.346198204957,
          5678.626473093059,
          5630.90674798116,
          5630.90674798116,
          5726.346198204957,
          5702.486335649008,
          5726.346198204957,
          5630.90674798116,
          5607.047373706446,
          5630.90674798116,
          5678.626473093059,
          5702.486335649008,
          5821.78516014752,
          5941.083984646032,
          5869.504885259419,
          5800.0000045597535,
          5800.0000045597535,
          5850.000003039835,
          5875.000002279876,
          5800.0000045597535,
          5850.000003039835,
          5925.000000759959,
          5949.999999999999,
          5925.000000759959,
          5900.0000015199175,
          5650.000009119507,
          5475.000014439219,
          5325.000018998971,
          5350.000018239013,
          5300.00001975893,
          5200.000022798766,
          5250.000021278849,
          5300.00001975893,
          5225.000022038807,
          5350.000018239013,
          5250.000021278849,
          5300.00001975893,
          5300.00001975893,
          5150.000024318685,
          5225.000022038807,
          5250.000021278849,
          4830.000034046158,
          4830.000034046158,
          4810.000034654126,
          4700.000037997945,
          4670.000038909896,
          4780.000035566076,
          4930.000031006322,
          5025.000028118479,
          5200.000022798766,
          5175.000023558725,
          4980.000029486406,
          4770.00003587006,
          4760.000036174043,
          4670.000038909896,
          4710.0000376939615,
          4530.000043165665,
          4490.0000443816,
          4400.000047117453,
          4620.000040429813,
          4640.000039821846,
          4610.000040733796,
          4770.00003587006,
          4700.000037997945,
          4610.000040733796,
          4480.000044685583,
          4430.000046205501,
          4480.000044685583,
          4310.000049853304,
          4300.000050157288,
          4400.000047117453,
          4540.000042861681,
          4540.000042861681,
          4480.000044685583,
          4420.000046509485,
          4580.000041645748,
          4660.000039213879,
          4710.0000376939615,
          4710.0000376939615,
          4650.000039517861,
          4710.0000376939615,
          4700.000037997945,
          4670.000038909896,
          4860.000033134207,
          4820.0000343501415,
          4870.000032830224,
          5025.000028118479,
          5025.000028118479,
          4980.000029486406,
          5000.000028878439,
          5075.000026598561,
          5100.000025838603,
          5100.000025838603,
          5050.000027358519,
          5100.000025838603,
          5025.000028118479,
          5000.000028878439,
          5025.000028118479,
          4950.000030398355,
          4970.000029790388,
          5075.000026598561,
          5100.000025838603,
          4960.000030094373,
          5025.000028118479,
          5000.000028878439,
          5025.000028118479,
          5125.000025078643,
          5125.000025078643,
          5175.000023558725,
          5275.000020518891,
          5250.000021278849,
          5300.00001975893,
          5350.000018239013,
          5475.000014439219,
          5450.000015199177,
          5275.000020518891,
          5450.000015199177,
          5525.000012919301,
          5400.000016719096,
          5375.000017479055,
          5300.00001975893,
          5350.000018239013,
          5350.000018239013,
          5375.000017479055,
          5350.000018239013,
          5450.000015199177,
          5650.000009119507,
          5725.000006839629,
          5700.000007599588,
          5650.000009119507,
          5600.000010639424,
          5625.000009879465,
          5650.000009119507,
          5700.000007599588,
          5825.000003799793,
          5750.000006079671,
          5800.0000045597535,
          5800.0000045597535,
          5600.000010639424,
          5600.000010639424,
          5450.000015199177,
          5350.000018239013,
          5375.000017479055,
          5350.000018239013,
          5375.000017479055,
          5325.000018998971,
          5200.000022798766,
          5350.000018239013,
          5325.000018998971,
          5325.000018998971,
          5375.000017479055,
          5425.000015959137,
          5500.00001367926,
          5475.000014439219,
          5500.00001367926,
          5650.000009119507,
          5625.000009879465,
          5650.000009119507,
          5675.000008359549,
          5625.000009879465,
          5650.000009119507,
          5500.00001367926,
          5300.00001975893,
          5225.000022038807,
          5250.000021278849,
          5200.000022798766,
          5300.00001975893,
          5400.000016719096,
          5125.000025078643,
          5025.000028118479,
          4980.000029486406,
          4990.000029182421,
          4930.000031006322,
          4960.000030094373,
          4950.000030398355,
          4910.00003161429,
          4870.000032830224,
          4850.000033438191,
          4850.000033438191
         ]
        },
        {
         "mode": "lines",
         "name": "Predicted Prices",
         "type": "scatter",
         "x": [
          "2023-12-07T00:00:00",
          "2023-12-08T00:00:00",
          "2023-12-11T00:00:00",
          "2023-12-12T00:00:00",
          "2023-12-13T00:00:00",
          "2023-12-14T00:00:00",
          "2023-12-15T00:00:00",
          "2023-12-18T00:00:00",
          "2023-12-19T00:00:00",
          "2023-12-20T00:00:00",
          "2023-12-21T00:00:00",
          "2023-12-22T00:00:00",
          "2023-12-27T00:00:00",
          "2023-12-28T00:00:00",
          "2023-12-29T00:00:00",
          "2024-01-02T00:00:00",
          "2024-01-03T00:00:00",
          "2024-01-04T00:00:00",
          "2024-01-05T00:00:00",
          "2024-01-08T00:00:00",
          "2024-01-09T00:00:00",
          "2024-01-10T00:00:00",
          "2024-01-11T00:00:00",
          "2024-01-12T00:00:00",
          "2024-01-15T00:00:00",
          "2024-01-16T00:00:00",
          "2024-01-17T00:00:00",
          "2024-01-18T00:00:00",
          "2024-01-19T00:00:00",
          "2024-01-22T00:00:00",
          "2024-01-23T00:00:00",
          "2024-01-24T00:00:00",
          "2024-01-25T00:00:00",
          "2024-01-26T00:00:00",
          "2024-01-29T00:00:00",
          "2024-01-30T00:00:00",
          "2024-01-31T00:00:00",
          "2024-02-01T00:00:00",
          "2024-02-02T00:00:00",
          "2024-02-05T00:00:00",
          "2024-02-06T00:00:00",
          "2024-02-07T00:00:00",
          "2024-02-12T00:00:00",
          "2024-02-13T00:00:00",
          "2024-02-15T00:00:00",
          "2024-02-16T00:00:00",
          "2024-02-19T00:00:00",
          "2024-02-20T00:00:00",
          "2024-02-21T00:00:00",
          "2024-02-22T00:00:00",
          "2024-02-23T00:00:00",
          "2024-02-26T00:00:00",
          "2024-02-27T00:00:00",
          "2024-02-28T00:00:00",
          "2024-02-29T00:00:00",
          "2024-03-01T00:00:00",
          "2024-03-04T00:00:00",
          "2024-03-05T00:00:00",
          "2024-03-06T00:00:00",
          "2024-03-07T00:00:00",
          "2024-03-08T00:00:00",
          "2024-03-13T00:00:00",
          "2024-03-14T00:00:00",
          "2024-03-15T00:00:00",
          "2024-03-18T00:00:00",
          "2024-03-19T00:00:00",
          "2024-03-20T00:00:00",
          "2024-03-21T00:00:00",
          "2024-03-22T00:00:00",
          "2024-03-25T00:00:00",
          "2024-03-26T00:00:00",
          "2024-03-27T00:00:00",
          "2024-03-28T00:00:00",
          "2024-04-01T00:00:00",
          "2024-04-02T00:00:00",
          "2024-04-03T00:00:00",
          "2024-04-04T00:00:00",
          "2024-04-05T00:00:00",
          "2024-04-16T00:00:00",
          "2024-04-17T00:00:00",
          "2024-04-18T00:00:00",
          "2024-04-19T00:00:00",
          "2024-04-22T00:00:00",
          "2024-04-23T00:00:00",
          "2024-04-24T00:00:00",
          "2024-04-25T00:00:00",
          "2024-04-26T00:00:00",
          "2024-04-29T00:00:00",
          "2024-04-30T00:00:00",
          "2024-05-02T00:00:00",
          "2024-05-03T00:00:00",
          "2024-05-06T00:00:00",
          "2024-05-07T00:00:00",
          "2024-05-08T00:00:00",
          "2024-05-13T00:00:00",
          "2024-05-14T00:00:00",
          "2024-05-15T00:00:00",
          "2024-05-16T00:00:00",
          "2024-05-17T00:00:00",
          "2024-05-20T00:00:00",
          "2024-05-21T00:00:00",
          "2024-05-22T00:00:00",
          "2024-05-27T00:00:00",
          "2024-05-28T00:00:00",
          "2024-05-29T00:00:00",
          "2024-05-30T00:00:00",
          "2024-05-31T00:00:00",
          "2024-06-03T00:00:00",
          "2024-06-04T00:00:00",
          "2024-06-05T00:00:00",
          "2024-06-06T00:00:00",
          "2024-06-07T00:00:00",
          "2024-06-10T00:00:00",
          "2024-06-11T00:00:00",
          "2024-06-12T00:00:00",
          "2024-06-13T00:00:00",
          "2024-06-14T00:00:00",
          "2024-06-19T00:00:00",
          "2024-06-20T00:00:00",
          "2024-06-21T00:00:00",
          "2024-06-24T00:00:00",
          "2024-06-25T00:00:00",
          "2024-06-26T00:00:00",
          "2024-06-27T00:00:00",
          "2024-06-28T00:00:00",
          "2024-07-01T00:00:00",
          "2024-07-02T00:00:00",
          "2024-07-03T00:00:00",
          "2024-07-04T00:00:00",
          "2024-07-05T00:00:00",
          "2024-07-08T00:00:00",
          "2024-07-09T00:00:00",
          "2024-07-10T00:00:00",
          "2024-07-11T00:00:00",
          "2024-07-12T00:00:00",
          "2024-07-15T00:00:00",
          "2024-07-16T00:00:00",
          "2024-07-17T00:00:00",
          "2024-07-18T00:00:00",
          "2024-07-19T00:00:00",
          "2024-07-22T00:00:00",
          "2024-07-23T00:00:00",
          "2024-07-24T00:00:00",
          "2024-07-25T00:00:00",
          "2024-07-26T00:00:00",
          "2024-07-29T00:00:00",
          "2024-07-30T00:00:00",
          "2024-07-31T00:00:00",
          "2024-08-01T00:00:00",
          "2024-08-02T00:00:00",
          "2024-08-05T00:00:00",
          "2024-08-06T00:00:00",
          "2024-08-07T00:00:00",
          "2024-08-08T00:00:00",
          "2024-08-09T00:00:00",
          "2024-08-12T00:00:00",
          "2024-08-13T00:00:00",
          "2024-08-14T00:00:00",
          "2024-08-15T00:00:00",
          "2024-08-16T00:00:00",
          "2024-08-19T00:00:00",
          "2024-08-20T00:00:00",
          "2024-08-21T00:00:00",
          "2024-08-22T00:00:00",
          "2024-08-23T00:00:00",
          "2024-08-26T00:00:00",
          "2024-08-27T00:00:00",
          "2024-08-28T00:00:00",
          "2024-08-29T00:00:00",
          "2024-08-30T00:00:00",
          "2024-09-02T00:00:00",
          "2024-09-03T00:00:00",
          "2024-09-04T00:00:00",
          "2024-09-05T00:00:00",
          "2024-09-06T00:00:00",
          "2024-09-09T00:00:00",
          "2024-09-10T00:00:00",
          "2024-09-11T00:00:00",
          "2024-09-12T00:00:00",
          "2024-09-13T00:00:00",
          "2024-09-17T00:00:00",
          "2024-09-18T00:00:00",
          "2024-09-19T00:00:00",
          "2024-09-20T00:00:00",
          "2024-09-23T00:00:00",
          "2024-09-24T00:00:00",
          "2024-09-25T00:00:00",
          "2024-09-26T00:00:00",
          "2024-09-27T00:00:00",
          "2024-09-30T00:00:00",
          "2024-10-01T00:00:00",
          "2024-10-02T00:00:00",
          "2024-10-03T00:00:00",
          "2024-10-04T00:00:00",
          "2024-10-07T00:00:00",
          "2024-10-08T00:00:00",
          "2024-10-09T00:00:00",
          "2024-10-10T00:00:00",
          "2024-10-11T00:00:00",
          "2024-10-14T00:00:00",
          "2024-10-15T00:00:00",
          "2024-10-16T00:00:00",
          "2024-10-17T00:00:00",
          "2024-10-18T00:00:00",
          "2024-10-21T00:00:00",
          "2024-10-22T00:00:00",
          "2024-10-23T00:00:00",
          "2024-10-24T00:00:00",
          "2024-10-25T00:00:00",
          "2024-10-28T00:00:00",
          "2024-10-29T00:00:00",
          "2024-10-30T00:00:00",
          "2024-10-31T00:00:00",
          "2024-11-01T00:00:00",
          "2024-11-04T00:00:00",
          "2024-11-05T00:00:00",
          "2024-11-06T00:00:00",
          "2024-11-07T00:00:00",
          "2024-11-08T00:00:00",
          "2024-11-11T00:00:00",
          "2024-11-12T00:00:00",
          "2024-11-13T00:00:00",
          "2024-11-14T00:00:00",
          "2024-11-15T00:00:00",
          "2024-11-18T00:00:00",
          "2024-11-19T00:00:00",
          "2024-11-20T00:00:00"
         ],
         "y": [
          5154.117237033826,
          5146.764765025869,
          5096.991707428367,
          5063.708250644825,
          5090.028757812701,
          5107.715077526123,
          5147.209508104768,
          5178.931627043456,
          5162.78661414151,
          5131.673817582982,
          5111.977085911562,
          5094.801286859616,
          5105.546312128591,
          5136.292865603887,
          5177.115840936785,
          5215.4208612362545,
          5236.403098009132,
          5237.329127268363,
          5284.22827295553,
          5350.840933071811,
          5386.542731101177,
          5414.352301979965,
          5420.77576714265,
          5421.473875724806,
          5417.885072474622,
          5425.590523773441,
          5427.720039173139,
          5414.919938155529,
          5399.242947641543,
          5381.889576185604,
          5373.404268033279,
          5350.35937620184,
          5336.38745973167,
          5319.802034785067,
          5305.965192445372,
          5335.150137386173,
          5392.849799718563,
          5465.022425045192,
          5507.434619255889,
          5531.696261020166,
          5537.510403802691,
          5541.864446665809,
          5540.302567441675,
          5580.526506600742,
          5617.724406271666,
          5678.10903914551,
          5708.625777116248,
          5691.159528080334,
          5689.397338522429,
          5700.645575832594,
          5700.1604999973,
          5686.750535220249,
          5668.441358644654,
          5678.1439581091,
          5691.543636679821,
          5706.771282391025,
          5691.064786706253,
          5665.972127746466,
          5653.354742236012,
          5663.290134791056,
          5686.735917979676,
          5730.282301782941,
          5791.787589767341,
          5823.985581093555,
          5819.465334791335,
          5797.5779118615255,
          5790.739479480366,
          5802.487680556038,
          5803.464599467632,
          5807.439947524067,
          5832.71559268065,
          5860.008146346596,
          5869.626019953648,
          5864.784465048474,
          5803.395844299013,
          5694.688238230387,
          5572.765022546395,
          5488.3558720331175,
          5448.3801552741415,
          5394.014035861197,
          5380.071895251452,
          5395.730749559543,
          5394.280394467185,
          5411.959946939602,
          5415.443722609377,
          5415.483243296851,
          5412.936865851196,
          5367.147006309696,
          5334.765487407404,
          5345.002969600946,
          5259.345127777282,
          5140.146944701497,
          5054.749777001375,
          4983.473946452832,
          4925.444313449,
          4910.644628059003,
          4969.260033444295,
          5058.428990591397,
          5179.77996837594,
          5258.511945064651,
          5243.138939016643,
          5134.781063963195,
          5011.968091431764,
          4918.876029328791,
          4878.743041888842,
          4828.644615343782,
          4763.667191344137,
          4698.107243238715,
          4702.604480921515,
          4755.735984885364,
          4793.244365573633,
          4847.955614277872,
          4879.3474918554775,
          4855.223089738797,
          4779.296540481443,
          4688.7218920326195,
          4647.167513291816,
          4599.241100419971,
          4544.5696430928465,
          4531.684004148923,
          4583.203551305197,
          4652.057521642591,
          4680.283683877695,
          4661.101803901995,
          4667.159567360728,
          4716.318971543826,
          4784.349774685278,
          4832.6302496065455,
          4841.069269830391,
          4842.864754214044,
          4845.369986834384,
          4841.550826700362,
          4877.43019713372,
          4922.59828257161,
          4964.454480261272,
          5031.559524833133,
          5093.421852452998,
          5117.738714903882,
          5124.754990378674,
          5137.366150027403,
          5162.620952081688,
          5188.017595507455,
          5189.988486777977,
          5190.887717762826,
          5175.483853095832,
          5151.455004422153,
          5143.668346231264,
          5126.445447181917,
          5114.616851283096,
          5131.594234828754,
          5167.739693178459,
          5160.002029812452,
          5151.644216480675,
          5144.487182392963,
          5144.806866858076,
          5175.496034129642,
          5213.269149286058,
          5250.656802394783,
          5301.633075443112,
          5334.774690855173,
          5359.418817081096,
          5383.112822669809,
          5432.313100988582,
          5472.800150477954,
          5450.251974136339,
          5445.929872650769,
          5482.3170568492005,
          5496.43974744898,
          5480.684256939327,
          5448.637851811642,
          5427.268258163594,
          5424.299875568819,
          5437.0661403814,
          5439.006443722577,
          5462.4774010477395,
          5538.229896866425,
          5625.05928345301,
          5677.395230564221,
          5680.86168209702,
          5652.729719856718,
          5633.4595950583025,
          5633.674793322287,
          5660.586486664427,
          5719.336424800914,
          5746.479557785452,
          5755.8497503716935,
          5760.889991472797,
          5717.907724879774,
          5668.357715545823,
          5608.3276861006825,
          5533.723726425497,
          5489.877689190496,
          5465.614152598738,
          5466.745905984544,
          5465.171575036959,
          5427.027615073428,
          5409.038935031867,
          5417.147713894632,
          5429.622987343964,
          5453.904118762338,
          5476.836403703441,
          5510.9606225095395,
          5531.936362731051,
          5544.507731002665,
          5586.19204077078,
          5626.385121310862,
          5649.129006262363,
          5663.978769235804,
          5658.151904040188,
          5653.110850870164,
          5622.008611207605,
          5532.769274754042,
          5437.923143782372,
          5380.103024560079,
          5353.446050169396,
          5367.64507524772,
          5413.846112352732,
          5399.811395886028,
          5322.95556909376,
          5238.776234085038,
          5178.734835675008,
          5138.496008585727,
          5123.926950769207,
          5122.529109467053,
          5110.653684260473,
          5088.885635462005,
          5059.795161205644
         ]
        }
       ],
       "layout": {
        "template": {
         "data": {
          "bar": [
           {
            "error_x": {
             "color": "#2a3f5f"
            },
            "error_y": {
             "color": "#2a3f5f"
            },
            "marker": {
             "line": {
              "color": "#E5ECF6",
              "width": 0.5
             },
             "pattern": {
              "fillmode": "overlay",
              "size": 10,
              "solidity": 0.2
             }
            },
            "type": "bar"
           }
          ],
          "barpolar": [
           {
            "marker": {
             "line": {
              "color": "#E5ECF6",
              "width": 0.5
             },
             "pattern": {
              "fillmode": "overlay",
              "size": 10,
              "solidity": 0.2
             }
            },
            "type": "barpolar"
           }
          ],
          "carpet": [
           {
            "aaxis": {
             "endlinecolor": "#2a3f5f",
             "gridcolor": "white",
             "linecolor": "white",
             "minorgridcolor": "white",
             "startlinecolor": "#2a3f5f"
            },
            "baxis": {
             "endlinecolor": "#2a3f5f",
             "gridcolor": "white",
             "linecolor": "white",
             "minorgridcolor": "white",
             "startlinecolor": "#2a3f5f"
            },
            "type": "carpet"
           }
          ],
          "choropleth": [
           {
            "colorbar": {
             "outlinewidth": 0,
             "ticks": ""
            },
            "type": "choropleth"
           }
          ],
          "contour": [
           {
            "colorbar": {
             "outlinewidth": 0,
             "ticks": ""
            },
            "colorscale": [
             [
              0,
              "#0d0887"
             ],
             [
              0.1111111111111111,
              "#46039f"
             ],
             [
              0.2222222222222222,
              "#7201a8"
             ],
             [
              0.3333333333333333,
              "#9c179e"
             ],
             [
              0.4444444444444444,
              "#bd3786"
             ],
             [
              0.5555555555555556,
              "#d8576b"
             ],
             [
              0.6666666666666666,
              "#ed7953"
             ],
             [
              0.7777777777777778,
              "#fb9f3a"
             ],
             [
              0.8888888888888888,
              "#fdca26"
             ],
             [
              1,
              "#f0f921"
             ]
            ],
            "type": "contour"
           }
          ],
          "contourcarpet": [
           {
            "colorbar": {
             "outlinewidth": 0,
             "ticks": ""
            },
            "type": "contourcarpet"
           }
          ],
          "heatmap": [
           {
            "colorbar": {
             "outlinewidth": 0,
             "ticks": ""
            },
            "colorscale": [
             [
              0,
              "#0d0887"
             ],
             [
              0.1111111111111111,
              "#46039f"
             ],
             [
              0.2222222222222222,
              "#7201a8"
             ],
             [
              0.3333333333333333,
              "#9c179e"
             ],
             [
              0.4444444444444444,
              "#bd3786"
             ],
             [
              0.5555555555555556,
              "#d8576b"
             ],
             [
              0.6666666666666666,
              "#ed7953"
             ],
             [
              0.7777777777777778,
              "#fb9f3a"
             ],
             [
              0.8888888888888888,
              "#fdca26"
             ],
             [
              1,
              "#f0f921"
             ]
            ],
            "type": "heatmap"
           }
          ],
          "heatmapgl": [
           {
            "colorbar": {
             "outlinewidth": 0,
             "ticks": ""
            },
            "colorscale": [
             [
              0,
              "#0d0887"
             ],
             [
              0.1111111111111111,
              "#46039f"
             ],
             [
              0.2222222222222222,
              "#7201a8"
             ],
             [
              0.3333333333333333,
              "#9c179e"
             ],
             [
              0.4444444444444444,
              "#bd3786"
             ],
             [
              0.5555555555555556,
              "#d8576b"
             ],
             [
              0.6666666666666666,
              "#ed7953"
             ],
             [
              0.7777777777777778,
              "#fb9f3a"
             ],
             [
              0.8888888888888888,
              "#fdca26"
             ],
             [
              1,
              "#f0f921"
             ]
            ],
            "type": "heatmapgl"
           }
          ],
          "histogram": [
           {
            "marker": {
             "pattern": {
              "fillmode": "overlay",
              "size": 10,
              "solidity": 0.2
             }
            },
            "type": "histogram"
           }
          ],
          "histogram2d": [
           {
            "colorbar": {
             "outlinewidth": 0,
             "ticks": ""
            },
            "colorscale": [
             [
              0,
              "#0d0887"
             ],
             [
              0.1111111111111111,
              "#46039f"
             ],
             [
              0.2222222222222222,
              "#7201a8"
             ],
             [
              0.3333333333333333,
              "#9c179e"
             ],
             [
              0.4444444444444444,
              "#bd3786"
             ],
             [
              0.5555555555555556,
              "#d8576b"
             ],
             [
              0.6666666666666666,
              "#ed7953"
             ],
             [
              0.7777777777777778,
              "#fb9f3a"
             ],
             [
              0.8888888888888888,
              "#fdca26"
             ],
             [
              1,
              "#f0f921"
             ]
            ],
            "type": "histogram2d"
           }
          ],
          "histogram2dcontour": [
           {
            "colorbar": {
             "outlinewidth": 0,
             "ticks": ""
            },
            "colorscale": [
             [
              0,
              "#0d0887"
             ],
             [
              0.1111111111111111,
              "#46039f"
             ],
             [
              0.2222222222222222,
              "#7201a8"
             ],
             [
              0.3333333333333333,
              "#9c179e"
             ],
             [
              0.4444444444444444,
              "#bd3786"
             ],
             [
              0.5555555555555556,
              "#d8576b"
             ],
             [
              0.6666666666666666,
              "#ed7953"
             ],
             [
              0.7777777777777778,
              "#fb9f3a"
             ],
             [
              0.8888888888888888,
              "#fdca26"
             ],
             [
              1,
              "#f0f921"
             ]
            ],
            "type": "histogram2dcontour"
           }
          ],
          "mesh3d": [
           {
            "colorbar": {
             "outlinewidth": 0,
             "ticks": ""
            },
            "type": "mesh3d"
           }
          ],
          "parcoords": [
           {
            "line": {
             "colorbar": {
              "outlinewidth": 0,
              "ticks": ""
             }
            },
            "type": "parcoords"
           }
          ],
          "pie": [
           {
            "automargin": true,
            "type": "pie"
           }
          ],
          "scatter": [
           {
            "fillpattern": {
             "fillmode": "overlay",
             "size": 10,
             "solidity": 0.2
            },
            "type": "scatter"
           }
          ],
          "scatter3d": [
           {
            "line": {
             "colorbar": {
              "outlinewidth": 0,
              "ticks": ""
             }
            },
            "marker": {
             "colorbar": {
              "outlinewidth": 0,
              "ticks": ""
             }
            },
            "type": "scatter3d"
           }
          ],
          "scattercarpet": [
           {
            "marker": {
             "colorbar": {
              "outlinewidth": 0,
              "ticks": ""
             }
            },
            "type": "scattercarpet"
           }
          ],
          "scattergeo": [
           {
            "marker": {
             "colorbar": {
              "outlinewidth": 0,
              "ticks": ""
             }
            },
            "type": "scattergeo"
           }
          ],
          "scattergl": [
           {
            "marker": {
             "colorbar": {
              "outlinewidth": 0,
              "ticks": ""
             }
            },
            "type": "scattergl"
           }
          ],
          "scattermapbox": [
           {
            "marker": {
             "colorbar": {
              "outlinewidth": 0,
              "ticks": ""
             }
            },
            "type": "scattermapbox"
           }
          ],
          "scatterpolar": [
           {
            "marker": {
             "colorbar": {
              "outlinewidth": 0,
              "ticks": ""
             }
            },
            "type": "scatterpolar"
           }
          ],
          "scatterpolargl": [
           {
            "marker": {
             "colorbar": {
              "outlinewidth": 0,
              "ticks": ""
             }
            },
            "type": "scatterpolargl"
           }
          ],
          "scatterternary": [
           {
            "marker": {
             "colorbar": {
              "outlinewidth": 0,
              "ticks": ""
             }
            },
            "type": "scatterternary"
           }
          ],
          "surface": [
           {
            "colorbar": {
             "outlinewidth": 0,
             "ticks": ""
            },
            "colorscale": [
             [
              0,
              "#0d0887"
             ],
             [
              0.1111111111111111,
              "#46039f"
             ],
             [
              0.2222222222222222,
              "#7201a8"
             ],
             [
              0.3333333333333333,
              "#9c179e"
             ],
             [
              0.4444444444444444,
              "#bd3786"
             ],
             [
              0.5555555555555556,
              "#d8576b"
             ],
             [
              0.6666666666666666,
              "#ed7953"
             ],
             [
              0.7777777777777778,
              "#fb9f3a"
             ],
             [
              0.8888888888888888,
              "#fdca26"
             ],
             [
              1,
              "#f0f921"
             ]
            ],
            "type": "surface"
           }
          ],
          "table": [
           {
            "cells": {
             "fill": {
              "color": "#EBF0F8"
             },
             "line": {
              "color": "white"
             }
            },
            "header": {
             "fill": {
              "color": "#C8D4E3"
             },
             "line": {
              "color": "white"
             }
            },
            "type": "table"
           }
          ]
         },
         "layout": {
          "annotationdefaults": {
           "arrowcolor": "#2a3f5f",
           "arrowhead": 0,
           "arrowwidth": 1
          },
          "autotypenumbers": "strict",
          "coloraxis": {
           "colorbar": {
            "outlinewidth": 0,
            "ticks": ""
           }
          },
          "colorscale": {
           "diverging": [
            [
             0,
             "#8e0152"
            ],
            [
             0.1,
             "#c51b7d"
            ],
            [
             0.2,
             "#de77ae"
            ],
            [
             0.3,
             "#f1b6da"
            ],
            [
             0.4,
             "#fde0ef"
            ],
            [
             0.5,
             "#f7f7f7"
            ],
            [
             0.6,
             "#e6f5d0"
            ],
            [
             0.7,
             "#b8e186"
            ],
            [
             0.8,
             "#7fbc41"
            ],
            [
             0.9,
             "#4d9221"
            ],
            [
             1,
             "#276419"
            ]
           ],
           "sequential": [
            [
             0,
             "#0d0887"
            ],
            [
             0.1111111111111111,
             "#46039f"
            ],
            [
             0.2222222222222222,
             "#7201a8"
            ],
            [
             0.3333333333333333,
             "#9c179e"
            ],
            [
             0.4444444444444444,
             "#bd3786"
            ],
            [
             0.5555555555555556,
             "#d8576b"
            ],
            [
             0.6666666666666666,
             "#ed7953"
            ],
            [
             0.7777777777777778,
             "#fb9f3a"
            ],
            [
             0.8888888888888888,
             "#fdca26"
            ],
            [
             1,
             "#f0f921"
            ]
           ],
           "sequentialminus": [
            [
             0,
             "#0d0887"
            ],
            [
             0.1111111111111111,
             "#46039f"
            ],
            [
             0.2222222222222222,
             "#7201a8"
            ],
            [
             0.3333333333333333,
             "#9c179e"
            ],
            [
             0.4444444444444444,
             "#bd3786"
            ],
            [
             0.5555555555555556,
             "#d8576b"
            ],
            [
             0.6666666666666666,
             "#ed7953"
            ],
            [
             0.7777777777777778,
             "#fb9f3a"
            ],
            [
             0.8888888888888888,
             "#fdca26"
            ],
            [
             1,
             "#f0f921"
            ]
           ]
          },
          "colorway": [
           "#636efa",
           "#EF553B",
           "#00cc96",
           "#ab63fa",
           "#FFA15A",
           "#19d3f3",
           "#FF6692",
           "#B6E880",
           "#FF97FF",
           "#FECB52"
          ],
          "font": {
           "color": "#2a3f5f"
          },
          "geo": {
           "bgcolor": "white",
           "lakecolor": "white",
           "landcolor": "#E5ECF6",
           "showlakes": true,
           "showland": true,
           "subunitcolor": "white"
          },
          "hoverlabel": {
           "align": "left"
          },
          "hovermode": "closest",
          "mapbox": {
           "style": "light"
          },
          "paper_bgcolor": "white",
          "plot_bgcolor": "#E5ECF6",
          "polar": {
           "angularaxis": {
            "gridcolor": "white",
            "linecolor": "white",
            "ticks": ""
           },
           "bgcolor": "#E5ECF6",
           "radialaxis": {
            "gridcolor": "white",
            "linecolor": "white",
            "ticks": ""
           }
          },
          "scene": {
           "xaxis": {
            "backgroundcolor": "#E5ECF6",
            "gridcolor": "white",
            "gridwidth": 2,
            "linecolor": "white",
            "showbackground": true,
            "ticks": "",
            "zerolinecolor": "white"
           },
           "yaxis": {
            "backgroundcolor": "#E5ECF6",
            "gridcolor": "white",
            "gridwidth": 2,
            "linecolor": "white",
            "showbackground": true,
            "ticks": "",
            "zerolinecolor": "white"
           },
           "zaxis": {
            "backgroundcolor": "#E5ECF6",
            "gridcolor": "white",
            "gridwidth": 2,
            "linecolor": "white",
            "showbackground": true,
            "ticks": "",
            "zerolinecolor": "white"
           }
          },
          "shapedefaults": {
           "line": {
            "color": "#2a3f5f"
           }
          },
          "ternary": {
           "aaxis": {
            "gridcolor": "white",
            "linecolor": "white",
            "ticks": ""
           },
           "baxis": {
            "gridcolor": "white",
            "linecolor": "white",
            "ticks": ""
           },
           "bgcolor": "#E5ECF6",
           "caxis": {
            "gridcolor": "white",
            "linecolor": "white",
            "ticks": ""
           }
          },
          "title": {
           "x": 0.05
          },
          "xaxis": {
           "automargin": true,
           "gridcolor": "white",
           "linecolor": "white",
           "ticks": "",
           "title": {
            "standoff": 15
           },
           "zerolinecolor": "white",
           "zerolinewidth": 2
          },
          "yaxis": {
           "automargin": true,
           "gridcolor": "white",
           "linecolor": "white",
           "ticks": "",
           "title": {
            "standoff": 15
           },
           "zerolinecolor": "white",
           "zerolinewidth": 2
          }
         }
        },
        "title": {
         "text": "Stock Prices Prediction"
        },
        "xaxis": {
         "title": {
          "text": "Time"
         }
        },
        "yaxis": {
         "title": {
          "text": "Stock Prices"
         }
        }
       }
      }
     },
     "metadata": {},
     "output_type": "display_data"
    }
   ],
   "source": [
    "import plotly.graph_objects as go\n",
    "\n",
    "fig = go.Figure()\n",
    "\n",
    "fig.add_trace(go.Scatter(x=data['date'][-len(real_prices):], y=real_prices, mode='lines', name='Real Prices'))\n",
    "fig.add_trace(go.Scatter(x=data['date'][-len(predicted_prices):], y=predicted_prices.reshape(-1), mode='lines', name='Predicted Prices'))\n",
    "\n",
    "fig.update_layout(title='Stock Prices Prediction',\n",
    "                     xaxis_title='Time',\n",
    "                     yaxis_title='Stock Prices')\n",
    "\n",
    "fig.show()\n",
    "\n"
   ]
  },
  {
   "cell_type": "code",
   "execution_count": 40,
   "metadata": {},
   "outputs": [
    {
     "name": "stdout",
     "output_type": "stream",
     "text": [
      "Real Prices:  [5034.41262549 4843.53421332 4938.97366355 5034.41262549 4938.97366355\n",
      " 5105.99172488 5034.41262549 4962.83303782 4962.83303782 4962.83303782\n",
      " 4915.11380099 5010.55276293 5034.41262549 5105.99172488 5129.85158743\n",
      " 5129.85158743 5105.99172488 5344.58986215 5320.7299996  5320.7299996\n",
      " 5392.30909898 5344.58986215 5344.58986215 5344.58986215 5368.44923643\n",
      " 5344.58986215 5296.87013704 5296.87013704 5249.15041193 5273.01027449\n",
      " 5177.57131254 5225.29054937 5153.71144999 5177.57131254 5320.7299996\n",
      " 5392.30909898 5487.74806093 5463.88868665 5511.60792348 5487.74806093\n",
      " 5511.60792348 5487.74806093 5678.62647309 5607.04737371 5726.3461982\n",
      " 5726.3461982  5607.04737371 5750.20557248 5726.3461982  5678.62647309\n",
      " 5630.90674798 5630.90674798 5726.3461982  5702.48633565 5726.3461982\n",
      " 5630.90674798 5607.04737371 5630.90674798 5678.62647309 5702.48633565\n",
      " 5821.78516015 5941.08398465 5869.50488526 5800.00000456 5800.00000456\n",
      " 5850.00000304 5875.00000228 5800.00000456 5850.00000304 5925.00000076\n",
      " 5950.         5925.00000076 5900.00000152 5650.00000912 5475.00001444\n",
      " 5325.000019   5350.00001824 5300.00001976 5200.0000228  5250.00002128\n",
      " 5300.00001976 5225.00002204 5350.00001824 5250.00002128 5300.00001976\n",
      " 5300.00001976 5150.00002432 5225.00002204 5250.00002128 4830.00003405\n",
      " 4830.00003405 4810.00003465 4700.000038   4670.00003891 4780.00003557\n",
      " 4930.00003101 5025.00002812 5200.0000228  5175.00002356 4980.00002949\n",
      " 4770.00003587 4760.00003617 4670.00003891 4710.00003769 4530.00004317\n",
      " 4490.00004438 4400.00004712 4620.00004043 4640.00003982 4610.00004073\n",
      " 4770.00003587 4700.000038   4610.00004073 4480.00004469 4430.00004621\n",
      " 4480.00004469 4310.00004985 4300.00005016 4400.00004712 4540.00004286\n",
      " 4540.00004286 4480.00004469 4420.00004651 4580.00004165 4660.00003921\n",
      " 4710.00003769 4710.00003769 4650.00003952 4710.00003769 4700.000038\n",
      " 4670.00003891 4860.00003313 4820.00003435 4870.00003283 5025.00002812\n",
      " 5025.00002812 4980.00002949 5000.00002888 5075.0000266  5100.00002584\n",
      " 5100.00002584 5050.00002736 5100.00002584 5025.00002812 5000.00002888\n",
      " 5025.00002812 4950.0000304  4970.00002979 5075.0000266  5100.00002584\n",
      " 4960.00003009 5025.00002812 5000.00002888 5025.00002812 5125.00002508\n",
      " 5125.00002508 5175.00002356 5275.00002052 5250.00002128 5300.00001976\n",
      " 5350.00001824 5475.00001444 5450.0000152  5275.00002052 5450.0000152\n",
      " 5525.00001292 5400.00001672 5375.00001748 5300.00001976 5350.00001824\n",
      " 5350.00001824 5375.00001748 5350.00001824 5450.0000152  5650.00000912\n",
      " 5725.00000684 5700.0000076  5650.00000912 5600.00001064 5625.00000988\n",
      " 5650.00000912 5700.0000076  5825.0000038  5750.00000608 5800.00000456\n",
      " 5800.00000456 5600.00001064 5600.00001064 5450.0000152  5350.00001824\n",
      " 5375.00001748 5350.00001824 5375.00001748 5325.000019   5200.0000228\n",
      " 5350.00001824 5325.000019   5325.000019   5375.00001748 5425.00001596\n",
      " 5500.00001368 5475.00001444 5500.00001368 5650.00000912 5625.00000988\n",
      " 5650.00000912 5675.00000836 5625.00000988 5650.00000912 5500.00001368\n",
      " 5300.00001976 5225.00002204 5250.00002128 5200.0000228  5300.00001976\n",
      " 5400.00001672 5125.00002508 5025.00002812 4980.00002949 4990.00002918\n",
      " 4930.00003101 4960.00003009 4950.0000304  4910.00003161 4870.00003283\n",
      " 4850.00003344 4850.00003344]\n",
      "Predicted Prices:  [5154.11723703 5146.76476503 5096.99170743 5063.70825064 5090.02875781\n",
      " 5107.71507753 5147.2095081  5178.93162704 5162.78661414 5131.67381758\n",
      " 5111.97708591 5094.80128686 5105.54631213 5136.2928656  5177.11584094\n",
      " 5215.42086124 5236.40309801 5237.32912727 5284.22827296 5350.84093307\n",
      " 5386.5427311  5414.35230198 5420.77576714 5421.47387572 5417.88507247\n",
      " 5425.59052377 5427.72003917 5414.91993816 5399.24294764 5381.88957619\n",
      " 5373.40426803 5350.3593762  5336.38745973 5319.80203479 5305.96519245\n",
      " 5335.15013739 5392.84979972 5465.02242505 5507.43461926 5531.69626102\n",
      " 5537.5104038  5541.86444667 5540.30256744 5580.5265066  5617.72440627\n",
      " 5678.10903915 5708.62577712 5691.15952808 5689.39733852 5700.64557583\n",
      " 5700.1605     5686.75053522 5668.44135864 5678.14395811 5691.54363668\n",
      " 5706.77128239 5691.06478671 5665.97212775 5653.35474224 5663.29013479\n",
      " 5686.73591798 5730.28230178 5791.78758977 5823.98558109 5819.46533479\n",
      " 5797.57791186 5790.73947948 5802.48768056 5803.46459947 5807.43994752\n",
      " 5832.71559268 5860.00814635 5869.62601995 5864.78446505 5803.3958443\n",
      " 5694.68823823 5572.76502255 5488.35587203 5448.38015527 5394.01403586\n",
      " 5380.07189525 5395.73074956 5394.28039447 5411.95994694 5415.44372261\n",
      " 5415.4832433  5412.93686585 5367.14700631 5334.76548741 5345.0029696\n",
      " 5259.34512778 5140.1469447  5054.749777   4983.47394645 4925.44431345\n",
      " 4910.64462806 4969.26003344 5058.42899059 5179.77996838 5258.51194506\n",
      " 5243.13893902 5134.78106396 5011.96809143 4918.87602933 4878.74304189\n",
      " 4828.64461534 4763.66719134 4698.10724324 4702.60448092 4755.73598489\n",
      " 4793.24436557 4847.95561428 4879.34749186 4855.22308974 4779.29654048\n",
      " 4688.72189203 4647.16751329 4599.24110042 4544.56964309 4531.68400415\n",
      " 4583.20355131 4652.05752164 4680.28368388 4661.1018039  4667.15956736\n",
      " 4716.31897154 4784.34977469 4832.63024961 4841.06926983 4842.86475421\n",
      " 4845.36998683 4841.5508267  4877.43019713 4922.59828257 4964.45448026\n",
      " 5031.55952483 5093.42185245 5117.7387149  5124.75499038 5137.36615003\n",
      " 5162.62095208 5188.01759551 5189.98848678 5190.88771776 5175.4838531\n",
      " 5151.45500442 5143.66834623 5126.44544718 5114.61685128 5131.59423483\n",
      " 5167.73969318 5160.00202981 5151.64421648 5144.48718239 5144.80686686\n",
      " 5175.49603413 5213.26914929 5250.65680239 5301.63307544 5334.77469086\n",
      " 5359.41881708 5383.11282267 5432.31310099 5472.80015048 5450.25197414\n",
      " 5445.92987265 5482.31705685 5496.43974745 5480.68425694 5448.63785181\n",
      " 5427.26825816 5424.29987557 5437.06614038 5439.00644372 5462.47740105\n",
      " 5538.22989687 5625.05928345 5677.39523056 5680.8616821  5652.72971986\n",
      " 5633.45959506 5633.67479332 5660.58648666 5719.3364248  5746.47955779\n",
      " 5755.84975037 5760.88999147 5717.90772488 5668.35771555 5608.3276861\n",
      " 5533.72372643 5489.87768919 5465.6141526  5466.74590598 5465.17157504\n",
      " 5427.02761507 5409.03893503 5417.14771389 5429.62298734 5453.90411876\n",
      " 5476.8364037  5510.96062251 5531.93636273 5544.507731   5586.19204077\n",
      " 5626.38512131 5649.12900626 5663.97876924 5658.15190404 5653.11085087\n",
      " 5622.00861121 5532.76927475 5437.92314378 5380.10302456 5353.44605017\n",
      " 5367.64507525 5413.84611235 5399.81139589 5322.95556909 5238.77623409\n",
      " 5178.73483568 5138.49600859 5123.92695077 5122.52910947 5110.65368426\n",
      " 5088.88563546 5059.79516121]\n",
      "Difference:  [-1.19704612e+02 -3.03230552e+02 -1.58018044e+02 -2.92956252e+01\n",
      " -1.51055094e+02 -1.72335265e+00 -1.12796883e+02 -2.16098589e+02\n",
      " -1.99953576e+02 -1.68840780e+02 -1.96863285e+02 -8.42485239e+01\n",
      " -7.11336866e+01 -3.03011407e+01 -4.72642535e+01 -8.55692738e+01\n",
      " -1.30411373e+02  1.07260735e+02  3.65017266e+01 -3.01109335e+01\n",
      "  5.76636788e+00 -6.97624398e+01 -7.61859050e+01 -7.68840136e+01\n",
      " -4.94358360e+01 -8.10006616e+01 -1.30849902e+02 -1.18049801e+02\n",
      " -1.50092536e+02 -1.08879302e+02 -1.95832955e+02 -1.25068827e+02\n",
      " -1.82676010e+02 -1.42230722e+02  1.47648072e+01  5.71589616e+01\n",
      "  9.48982612e+01 -1.13373839e+00  4.17330423e+00 -4.39482001e+01\n",
      " -2.59024803e+01 -5.41163857e+01  1.38323906e+02  2.65208671e+01\n",
      "  1.08621792e+02  4.82371591e+01 -1.01578403e+02  5.90460444e+01\n",
      "  3.69488597e+01 -2.20191027e+01 -6.92537520e+01 -5.58437872e+01\n",
      "  5.79048396e+01  2.43423775e+01  3.48025615e+01 -7.58645344e+01\n",
      " -8.40174130e+01 -3.50653798e+01  2.52717309e+01  3.91962009e+01\n",
      "  1.35049242e+02  2.10801683e+02  7.77172955e+01 -2.39855765e+01\n",
      " -1.94653302e+01  5.24220912e+01  8.42605228e+01 -2.48767600e+00\n",
      "  4.65354036e+01  1.17560053e+02  1.17284407e+02  6.49918544e+01\n",
      "  3.03739816e+01 -2.14784456e+02 -3.28395830e+02 -3.69688219e+02\n",
      " -2.22765004e+02 -1.88355852e+02 -2.48380132e+02 -1.44014015e+02\n",
      " -8.00718755e+01 -1.70730728e+02 -4.42803762e+01 -1.61959926e+02\n",
      " -1.15443703e+02 -1.15483224e+02 -2.62936842e+02 -1.42146984e+02\n",
      " -8.47654661e+01 -5.15002936e+02 -4.29345094e+02 -3.30146910e+02\n",
      " -3.54749739e+02 -3.13473908e+02 -1.45444278e+02  1.93554029e+01\n",
      "  5.57399947e+01  1.41571032e+02 -4.77994482e+00 -2.78511916e+02\n",
      " -4.73138903e+02 -3.74781028e+02 -3.41968053e+02 -2.08875992e+02\n",
      " -3.48742999e+02 -3.38644571e+02 -3.63667144e+02 -7.81072028e+01\n",
      " -6.26044411e+01 -1.45735944e+02 -2.32443297e+01 -1.47955576e+02\n",
      " -2.69347451e+02 -3.75223045e+02 -3.49296494e+02 -2.08721847e+02\n",
      " -3.37167463e+02 -2.99241050e+02 -1.44569596e+02  8.31603871e+00\n",
      " -4.32035084e+01 -1.72057477e+02 -2.60283637e+02 -8.11017623e+01\n",
      " -7.15952815e+00 -6.31893385e+00 -7.43497370e+01 -1.82630210e+02\n",
      " -1.31069232e+02 -1.42864716e+02 -1.75369948e+02  1.84492064e+01\n",
      " -5.74301628e+01 -5.25982497e+01  6.05455479e+01 -6.55949671e+00\n",
      " -1.13421823e+02 -1.17738686e+02 -4.97549638e+01 -3.73661242e+01\n",
      " -6.26209262e+01 -1.38017568e+02 -8.99884609e+01 -1.65887690e+02\n",
      " -1.75483824e+02 -1.26454976e+02 -1.93668316e+02 -1.56445417e+02\n",
      " -3.96168247e+01 -3.15942090e+01 -2.07739663e+02 -1.35002002e+02\n",
      " -1.51644188e+02 -1.19487154e+02 -1.98068418e+01 -5.04960091e+01\n",
      " -3.82691257e+01  2.43432181e+01 -5.16330542e+01 -3.47746711e+01\n",
      " -9.41879884e+00  9.18871918e+01  1.76869142e+01 -1.97800130e+02\n",
      " -2.51958937e-01  7.90701403e+01 -8.23170401e+01 -1.21439730e+02\n",
      " -1.80684237e+02 -9.86378336e+01 -7.72682399e+01 -4.92998581e+01\n",
      " -8.70661221e+01  1.09935715e+01  1.87522608e+02  1.86770110e+02\n",
      "  7.49407241e+01 -2.73952214e+01 -8.08616715e+01 -2.77297100e+01\n",
      "  1.65404141e+01  6.63252143e+01  1.64413517e+02  3.06635813e+01\n",
      "  5.35204468e+01  4.41502542e+01 -1.60889981e+02 -1.17907714e+02\n",
      " -2.18357700e+02 -2.58327668e+02 -1.58723709e+02 -1.39877671e+02\n",
      " -9.06141351e+01 -1.41745887e+02 -2.65171552e+02 -7.70275968e+01\n",
      " -8.40389160e+01 -9.21476949e+01 -5.46229699e+01 -2.89041028e+01\n",
      "  2.31636100e+01 -3.59606081e+01 -3.19363491e+01  1.05492278e+02\n",
      "  3.88079691e+01  2.36148878e+01  2.58710021e+01 -3.89787594e+01\n",
      " -8.15189492e+00 -1.53110837e+02 -3.22008591e+02 -3.07769253e+02\n",
      " -1.87923123e+02 -1.80103002e+02 -5.34460304e+01  3.23549415e+01\n",
      " -2.88846087e+02 -3.74811368e+02 -3.42955540e+02 -2.48776205e+02\n",
      " -2.48734805e+02 -1.78495978e+02 -1.73926920e+02 -2.12529078e+02\n",
      " -2.40653651e+02 -2.38885602e+02 -2.09795128e+02]\n"
     ]
    }
   ],
   "source": [
    "print(\"Real Prices: \", real_prices)\n",
    "print(\"Predicted Prices: \", predicted_prices)\n",
    "print(\"Difference: \", real_prices - predicted_prices)"
   ]
  },
  {
   "cell_type": "code",
   "execution_count": 41,
   "metadata": {},
   "outputs": [
    {
     "data": {
      "text/plain": [
       "163.09566743045764"
      ]
     },
     "execution_count": 41,
     "metadata": {},
     "output_type": "execute_result"
    }
   ],
   "source": [
    "# calculate RMSE\n",
    "from sklearn.metrics import mean_squared_error\n",
    "\n",
    "rmse = np.sqrt(mean_squared_error(real_prices, predicted_prices))\n",
    "rmse"
   ]
  },
  {
   "cell_type": "code",
   "execution_count": 42,
   "metadata": {},
   "outputs": [
    {
     "data": {
      "text/plain": [
       "125.90318662945641"
      ]
     },
     "execution_count": 42,
     "metadata": {},
     "output_type": "execute_result"
    }
   ],
   "source": [
    "# calculate MAE\n",
    "from sklearn.metrics import mean_absolute_error\n",
    "\n",
    "mae = mean_absolute_error(real_prices, predicted_prices)\n",
    "mae"
   ]
  },
  {
   "cell_type": "markdown",
   "metadata": {},
   "source": [
    "Directional Accuracy adalah metrik yang digunakan untuk mengukur seberapa baik model memprediksi arah perubahan harga (naik atau turun) dibandingkan dengan nilai aktual. Ini adalah metrik yang sangat berguna dalam prediksi saham karena dalam banyak kasus, arah perubahan harga lebih penting daripada nilai absolut dari harga itu sendiri—terutama jika tujuannya adalah untuk membuat keputusan beli atau jual."
   ]
  },
  {
   "cell_type": "code",
   "execution_count": 43,
   "metadata": {},
   "outputs": [
    {
     "data": {
      "text/plain": [
       "0.4424778761061947"
      ]
     },
     "execution_count": 43,
     "metadata": {},
     "output_type": "execute_result"
    }
   ],
   "source": [
    "# direction accuracy\n",
    "direction_accuracy = np.mean(np.sign(real_prices[1:] - real_prices[:-1]) == np.sign(predicted_prices[1:] - predicted_prices[:-1]))\n",
    "direction_accuracy"
   ]
  },
  {
   "cell_type": "markdown",
   "metadata": {},
   "source": [
    "# Save Model"
   ]
  },
  {
   "cell_type": "code",
   "execution_count": 44,
   "metadata": {},
   "outputs": [],
   "source": [
    "# # Save the entire model\n",
    "# model.save('Model/lstm_model_bbni.h5')\n"
   ]
  },
  {
   "cell_type": "markdown",
   "metadata": {},
   "source": [
    "# Close Only"
   ]
  },
  {
   "cell_type": "code",
   "execution_count": 97,
   "metadata": {},
   "outputs": [
    {
     "data": {
      "text/plain": [
       "956"
      ]
     },
     "execution_count": 97,
     "metadata": {},
     "output_type": "execute_result"
    }
   ],
   "source": [
    "data_used = data.filter(['Close'])\n",
    "\n",
    "dataset = data_used.values\n",
    "\n",
    "training_data_len = int(np.ceil( len(dataset) * .80 ))\n",
    "\n",
    "training_data_len"
   ]
  },
  {
   "cell_type": "code",
   "execution_count": 98,
   "metadata": {},
   "outputs": [
    {
     "data": {
      "text/plain": [
       "array([[0.42342612],\n",
       "       [0.43533507],\n",
       "       [0.43533507],\n",
       "       ...,\n",
       "       [0.76218885],\n",
       "       [0.75778494],\n",
       "       [0.75778494]])"
      ]
     },
     "execution_count": 98,
     "metadata": {},
     "output_type": "execute_result"
    }
   ],
   "source": [
    "from sklearn.preprocessing import MinMaxScaler\n",
    "\n",
    "scaler = MinMaxScaler(feature_range=(0,1))\n",
    "scaled_data = scaler.fit_transform(dataset)\n",
    "\n",
    "scaled_data"
   ]
  },
  {
   "cell_type": "code",
   "execution_count": 99,
   "metadata": {},
   "outputs": [
    {
     "name": "stdout",
     "output_type": "stream",
     "text": [
      "[array([0.42342612, 0.43533507, 0.43533507, 0.43295334, 0.44486223,\n",
      "       0.44724406, 0.44486223, 0.43771685, 0.43057157, 0.43295334,\n",
      "       0.41628085, 0.40913551, 0.39722652, 0.42342612, 0.42580796,\n",
      "       0.43057157, 0.43771685, 0.4210444 , 0.42342612, 0.43057157,\n",
      "       0.40913551, 0.41151724, 0.41628085, 0.41866262, 0.42342612,\n",
      "       0.39960835, 0.40199007, 0.39008124, 0.38055412, 0.37579051,\n",
      "       0.36864518, 0.39008124, 0.39722652, 0.39008124, 0.39008124,\n",
      "       0.3876994 , 0.38531763, 0.38293585, 0.39484484, 0.40675368,\n",
      "       0.41628085, 0.42342612, 0.43057157, 0.44486223, 0.43057157,\n",
      "       0.41151724, 0.40437196, 0.38531763, 0.36388157, 0.35911802,\n",
      "       0.3523691 , 0.35727678, 0.37199978, 0.35973065, 0.31801559,\n",
      "       0.24440083, 0.2468547 , 0.23213176, 0.18305531, 0.18305531])]\n",
      "[0.16489697608024145]\n",
      "\n",
      "[array([0.42342612, 0.43533507, 0.43533507, 0.43295334, 0.44486223,\n",
      "       0.44724406, 0.44486223, 0.43771685, 0.43057157, 0.43295334,\n",
      "       0.41628085, 0.40913551, 0.39722652, 0.42342612, 0.42580796,\n",
      "       0.43057157, 0.43771685, 0.4210444 , 0.42342612, 0.43057157,\n",
      "       0.40913551, 0.41151724, 0.41628085, 0.41866262, 0.42342612,\n",
      "       0.39960835, 0.40199007, 0.39008124, 0.38055412, 0.37579051,\n",
      "       0.36864518, 0.39008124, 0.39722652, 0.39008124, 0.39008124,\n",
      "       0.3876994 , 0.38531763, 0.38293585, 0.39484484, 0.40675368,\n",
      "       0.41628085, 0.42342612, 0.43057157, 0.44486223, 0.43057157,\n",
      "       0.41151724, 0.40437196, 0.38531763, 0.36388157, 0.35911802,\n",
      "       0.3523691 , 0.35727678, 0.37199978, 0.35973065, 0.31801559,\n",
      "       0.24440083, 0.2468547 , 0.23213176, 0.18305531, 0.18305531]), array([0.43533507, 0.43533507, 0.43295334, 0.44486223, 0.44724406,\n",
      "       0.44486223, 0.43771685, 0.43057157, 0.43295334, 0.41628085,\n",
      "       0.40913551, 0.39722652, 0.42342612, 0.42580796, 0.43057157,\n",
      "       0.43771685, 0.4210444 , 0.42342612, 0.43057157, 0.40913551,\n",
      "       0.41151724, 0.41628085, 0.41866262, 0.42342612, 0.39960835,\n",
      "       0.40199007, 0.39008124, 0.38055412, 0.37579051, 0.36864518,\n",
      "       0.39008124, 0.39722652, 0.39008124, 0.39008124, 0.3876994 ,\n",
      "       0.38531763, 0.38293585, 0.39484484, 0.40675368, 0.41628085,\n",
      "       0.42342612, 0.43057157, 0.44486223, 0.43057157, 0.41151724,\n",
      "       0.40437196, 0.38531763, 0.36388157, 0.35911802, 0.3523691 ,\n",
      "       0.35727678, 0.37199978, 0.35973065, 0.31801559, 0.24440083,\n",
      "       0.2468547 , 0.23213176, 0.18305531, 0.18305531, 0.16489698])]\n",
      "[0.16489697608024145, 0.13250649095609845]\n",
      "\n"
     ]
    }
   ],
   "source": [
    "train_data = scaled_data[0:int(training_data_len), :]\n",
    "\n",
    "x_train = []\n",
    "y_train = []\n",
    "\n",
    "for i in range(60, len(train_data)):\n",
    "    x_train.append(train_data[i-60:i, 0])\n",
    "    y_train.append(train_data[i, 0])\n",
    "    if i<= 61:\n",
    "        print(x_train)\n",
    "        print(y_train)\n",
    "        print()\n",
    "\n",
    "x_train, y_train = np.array(x_train), np.array(y_train)\n",
    "\n",
    "x_train = np.reshape(x_train, (x_train.shape[0], x_train.shape[1], 1))"
   ]
  },
  {
   "cell_type": "code",
   "execution_count": 100,
   "metadata": {},
   "outputs": [
    {
     "name": "stdout",
     "output_type": "stream",
     "text": [
      "Epoch 1/30\n",
      "180/180 [==============================] - 8s 23ms/step - loss: 0.0056\n",
      "Epoch 2/30\n",
      "180/180 [==============================] - 4s 23ms/step - loss: 0.0012\n",
      "Epoch 3/30\n",
      "180/180 [==============================] - 4s 23ms/step - loss: 9.3536e-04\n",
      "Epoch 4/30\n",
      "180/180 [==============================] - 4s 22ms/step - loss: 8.8276e-04\n",
      "Epoch 5/30\n",
      "180/180 [==============================] - 4s 21ms/step - loss: 6.1371e-04\n",
      "Epoch 6/30\n",
      "180/180 [==============================] - 4s 21ms/step - loss: 5.7155e-04\n",
      "Epoch 7/30\n",
      "180/180 [==============================] - 4s 21ms/step - loss: 5.7944e-04\n",
      "Epoch 8/30\n",
      "180/180 [==============================] - 4s 24ms/step - loss: 4.6225e-04\n",
      "Epoch 9/30\n",
      "180/180 [==============================] - 4s 24ms/step - loss: 5.1187e-04\n",
      "Epoch 10/30\n",
      "180/180 [==============================] - 4s 22ms/step - loss: 4.4355e-04\n",
      "Epoch 11/30\n",
      "180/180 [==============================] - 4s 21ms/step - loss: 3.9455e-04\n",
      "Epoch 12/30\n",
      "180/180 [==============================] - 4s 21ms/step - loss: 4.0070e-04\n",
      "Epoch 13/30\n",
      "180/180 [==============================] - 4s 21ms/step - loss: 3.2166e-04\n",
      "Epoch 14/30\n",
      "180/180 [==============================] - 4s 22ms/step - loss: 3.2570e-04\n",
      "Epoch 15/30\n",
      "180/180 [==============================] - 4s 21ms/step - loss: 3.1990e-04\n",
      "Epoch 16/30\n",
      "180/180 [==============================] - 4s 21ms/step - loss: 4.3320e-04\n",
      "Epoch 17/30\n",
      "180/180 [==============================] - 4s 21ms/step - loss: 2.8378e-04\n",
      "Epoch 18/30\n",
      "180/180 [==============================] - 4s 21ms/step - loss: 2.8277e-04\n",
      "Epoch 19/30\n",
      "180/180 [==============================] - 4s 20ms/step - loss: 2.8483e-04\n",
      "Epoch 20/30\n",
      "180/180 [==============================] - 4s 20ms/step - loss: 3.5048e-04\n",
      "Epoch 21/30\n",
      "180/180 [==============================] - 4s 22ms/step - loss: 3.3269e-04\n",
      "Epoch 22/30\n",
      "180/180 [==============================] - 4s 21ms/step - loss: 2.8996e-04\n",
      "Epoch 23/30\n",
      "180/180 [==============================] - 4s 21ms/step - loss: 2.6325e-04\n",
      "Epoch 24/30\n",
      "180/180 [==============================] - 4s 21ms/step - loss: 3.5187e-04\n",
      "Epoch 25/30\n",
      "180/180 [==============================] - 4s 21ms/step - loss: 3.1143e-04\n",
      "Epoch 26/30\n",
      "180/180 [==============================] - 4s 20ms/step - loss: 2.9138e-04\n",
      "Epoch 27/30\n",
      "180/180 [==============================] - 4s 20ms/step - loss: 2.8205e-04\n",
      "Epoch 28/30\n",
      "180/180 [==============================] - 4s 20ms/step - loss: 2.3424e-04\n",
      "Epoch 29/30\n",
      "180/180 [==============================] - 4s 23ms/step - loss: 2.9453e-04\n",
      "Epoch 30/30\n",
      "180/180 [==============================] - 4s 21ms/step - loss: 2.5126e-04\n"
     ]
    },
    {
     "data": {
      "text/plain": [
       "<keras.src.callbacks.History at 0x19789979250>"
      ]
     },
     "execution_count": 100,
     "metadata": {},
     "output_type": "execute_result"
    }
   ],
   "source": [
    "from keras.models import Sequential\n",
    "from keras.layers import Dense, LSTM\n",
    "\n",
    "model = Sequential()\n",
    "model.add(LSTM(128, return_sequences=True, input_shape=(x_train.shape[1], 1)))\n",
    "model.add(LSTM(64, return_sequences=False))\n",
    "model.add(Dense(25))\n",
    "model.add(Dense(1))\n",
    "\n",
    "model.compile(optimizer='adam', loss='mean_squared_error')\n",
    "\n",
    "model.fit(x_train, y_train, batch_size=5, epochs=30)"
   ]
  },
  {
   "cell_type": "code",
   "execution_count": 101,
   "metadata": {},
   "outputs": [
    {
     "name": "stdout",
     "output_type": "stream",
     "text": [
      "298\n",
      "8/8 [==============================] - 1s 21ms/step\n"
     ]
    }
   ],
   "source": [
    "test_data = scaled_data[training_data_len - 60: , :]\n",
    "print(len(test_data))\n",
    "\n",
    "x_test = []\n",
    "y_test = dataset[training_data_len:, :]\n",
    "for i in range(60, len(test_data)):\n",
    "    x_test.append(test_data[i-60:i, 0])\n",
    "\n",
    "x_test = np.array(x_test)\n",
    "\n",
    "x_test = np.reshape(x_test, (x_test.shape[0], x_test.shape[1], 1))\n",
    "\n",
    "predictions = model.predict(x_test)\n",
    "predictions = scaler.inverse_transform(predictions)\n"
   ]
  },
  {
   "cell_type": "code",
   "execution_count": 102,
   "metadata": {},
   "outputs": [
    {
     "name": "stdout",
     "output_type": "stream",
     "text": [
      "RMSE:  29.837779838497898\n",
      "MAE:  74.8341608127626\n"
     ]
    }
   ],
   "source": [
    "from sklearn.metrics import mean_squared_error, mean_absolute_error\n",
    "\n",
    "y_test = dataset[training_data_len:, :]\n",
    "test = predictions[:-1, 0]\n",
    "\n",
    "rmse = np.sqrt(np.mean(predictions - y_test)**2)\n",
    "mae = mean_absolute_error(predictions, y_test)\n",
    "\n",
    "print(\"RMSE: \", rmse)\n",
    "print(\"MAE: \", mae)"
   ]
  },
  {
   "cell_type": "code",
   "execution_count": 103,
   "metadata": {},
   "outputs": [
    {
     "name": "stderr",
     "output_type": "stream",
     "text": [
      "C:\\Users\\thari\\AppData\\Local\\Temp\\ipykernel_20912\\1510546548.py:4: SettingWithCopyWarning:\n",
      "\n",
      "\n",
      "A value is trying to be set on a copy of a slice from a DataFrame.\n",
      "Try using .loc[row_indexer,col_indexer] = value instead\n",
      "\n",
      "See the caveats in the documentation: https://pandas.pydata.org/pandas-docs/stable/user_guide/indexing.html#returning-a-view-versus-a-copy\n",
      "\n"
     ]
    },
    {
     "data": {
      "image/png": "[encoded data removed]",
      "text/plain": [
       "<Figure size 1600x800 with 1 Axes>"
      ]
     },
     "metadata": {},
     "output_type": "display_data"
    }
   ],
   "source": [
    "train = data[:training_data_len]\n",
    "# ambil data dari training_data_len sampai akhir -1\n",
    "valid = data[training_data_len-1:-1]  # Ambil 1 baris sebelum training_data_len dan hilangkan baris terakhir\n",
    "valid['Predictions'] = predictions[:, 0]  # Predictions harus sesuai panjang dengan valid\n",
    "\n",
    "plt.figure(figsize=(16,8))\n",
    "plt.title('Model')\n",
    "plt.xlabel('Date')\n",
    "plt.ylabel('Close Price USD ($)')\n",
    "plt.plot(train['Close'])\n",
    "plt.plot(valid[['Close', 'Predictions']])\n",
    "plt.legend(['Train', 'Val', 'Predictions'], loc='lower right')\n",
    "plt.show()"
   ]
  },
  {
   "cell_type": "code",
   "execution_count": 104,
   "metadata": {},
   "outputs": [
    {
     "data": {
      "application/vnd.plotly.v1+json": {
       "config": {
        "plotlyServerURL": "https://plot.ly"
       },
       "data": [
        {
         "mode": "lines",
         "name": "Val",
         "type": "scatter",
         "x": [
          "2023-11-21T00:00:00",
          "2023-11-22T00:00:00",
          "2023-11-23T00:00:00",
          "2023-11-24T00:00:00",
          "2023-11-27T00:00:00",
          "2023-11-28T00:00:00",
          "2023-11-29T00:00:00",
          "2023-11-30T00:00:00",
          "2023-12-01T00:00:00",
          "2023-12-04T00:00:00",
          "2023-12-05T00:00:00",
          "2023-12-06T00:00:00",
          "2023-12-07T00:00:00",
          "2023-12-08T00:00:00",
          "2023-12-11T00:00:00",
          "2023-12-12T00:00:00",
          "2023-12-13T00:00:00",
          "2023-12-14T00:00:00",
          "2023-12-15T00:00:00",
          "2023-12-18T00:00:00",
          "2023-12-19T00:00:00",
          "2023-12-20T00:00:00",
          "2023-12-21T00:00:00",
          "2023-12-22T00:00:00",
          "2023-12-27T00:00:00",
          "2023-12-28T00:00:00",
          "2023-12-29T00:00:00",
          "2024-01-02T00:00:00",
          "2024-01-03T00:00:00",
          "2024-01-04T00:00:00",
          "2024-01-05T00:00:00",
          "2024-01-08T00:00:00",
          "2024-01-09T00:00:00",
          "2024-01-10T00:00:00",
          "2024-01-11T00:00:00",
          "2024-01-12T00:00:00",
          "2024-01-15T00:00:00",
          "2024-01-16T00:00:00",
          "2024-01-17T00:00:00",
          "2024-01-18T00:00:00",
          "2024-01-19T00:00:00",
          "2024-01-22T00:00:00",
          "2024-01-23T00:00:00",
          "2024-01-24T00:00:00",
          "2024-01-25T00:00:00",
          "2024-01-26T00:00:00",
          "2024-01-29T00:00:00",
          "2024-01-30T00:00:00",
          "2024-01-31T00:00:00",
          "2024-02-01T00:00:00",
          "2024-02-02T00:00:00",
          "2024-02-05T00:00:00",
          "2024-02-06T00:00:00",
          "2024-02-07T00:00:00",
          "2024-02-12T00:00:00",
          "2024-02-13T00:00:00",
          "2024-02-15T00:00:00",
          "2024-02-16T00:00:00",
          "2024-02-19T00:00:00",
          "2024-02-20T00:00:00",
          "2024-02-21T00:00:00",
          "2024-02-22T00:00:00",
          "2024-02-23T00:00:00",
          "2024-02-26T00:00:00",
          "2024-02-27T00:00:00",
          "2024-02-28T00:00:00",
          "2024-02-29T00:00:00",
          "2024-03-01T00:00:00",
          "2024-03-04T00:00:00",
          "2024-03-05T00:00:00",
          "2024-03-06T00:00:00",
          "2024-03-07T00:00:00",
          "2024-03-08T00:00:00",
          "2024-03-13T00:00:00",
          "2024-03-14T00:00:00",
          "2024-03-15T00:00:00",
          "2024-03-18T00:00:00",
          "2024-03-19T00:00:00",
          "2024-03-20T00:00:00",
          "2024-03-21T00:00:00",
          "2024-03-22T00:00:00",
          "2024-03-25T00:00:00",
          "2024-03-26T00:00:00",
          "2024-03-27T00:00:00",
          "2024-03-28T00:00:00",
          "2024-04-01T00:00:00",
          "2024-04-02T00:00:00",
          "2024-04-03T00:00:00",
          "2024-04-04T00:00:00",
          "2024-04-05T00:00:00",
          "2024-04-16T00:00:00",
          "2024-04-17T00:00:00",
          "2024-04-18T00:00:00",
          "2024-04-19T00:00:00",
          "2024-04-22T00:00:00",
          "2024-04-23T00:00:00",
          "2024-04-24T00:00:00",
          "2024-04-25T00:00:00",
          "2024-04-26T00:00:00",
          "2024-04-29T00:00:00",
          "2024-04-30T00:00:00",
          "2024-05-02T00:00:00",
          "2024-05-03T00:00:00",
          "2024-05-06T00:00:00",
          "2024-05-07T00:00:00",
          "2024-05-08T00:00:00",
          "2024-05-13T00:00:00",
          "2024-05-14T00:00:00",
          "2024-05-15T00:00:00",
          "2024-05-16T00:00:00",
          "2024-05-17T00:00:00",
          "2024-05-20T00:00:00",
          "2024-05-21T00:00:00",
          "2024-05-22T00:00:00",
          "2024-05-27T00:00:00",
          "2024-05-28T00:00:00",
          "2024-05-29T00:00:00",
          "2024-05-30T00:00:00",
          "2024-05-31T00:00:00",
          "2024-06-03T00:00:00",
          "2024-06-04T00:00:00",
          "2024-06-05T00:00:00",
          "2024-06-06T00:00:00",
          "2024-06-07T00:00:00",
          "2024-06-10T00:00:00",
          "2024-06-11T00:00:00",
          "2024-06-12T00:00:00",
          "2024-06-13T00:00:00",
          "2024-06-14T00:00:00",
          "2024-06-19T00:00:00",
          "2024-06-20T00:00:00",
          "2024-06-21T00:00:00",
          "2024-06-24T00:00:00",
          "2024-06-25T00:00:00",
          "2024-06-26T00:00:00",
          "2024-06-27T00:00:00",
          "2024-06-28T00:00:00",
          "2024-07-01T00:00:00",
          "2024-07-02T00:00:00",
          "2024-07-03T00:00:00",
          "2024-07-04T00:00:00",
          "2024-07-05T00:00:00",
          "2024-07-08T00:00:00",
          "2024-07-09T00:00:00",
          "2024-07-10T00:00:00",
          "2024-07-11T00:00:00",
          "2024-07-12T00:00:00",
          "2024-07-15T00:00:00",
          "2024-07-16T00:00:00",
          "2024-07-17T00:00:00",
          "2024-07-18T00:00:00",
          "2024-07-19T00:00:00",
          "2024-07-22T00:00:00",
          "2024-07-23T00:00:00",
          "2024-07-24T00:00:00",
          "2024-07-25T00:00:00",
          "2024-07-26T00:00:00",
          "2024-07-29T00:00:00",
          "2024-07-30T00:00:00",
          "2024-07-31T00:00:00",
          "2024-08-01T00:00:00",
          "2024-08-02T00:00:00",
          "2024-08-05T00:00:00",
          "2024-08-06T00:00:00",
          "2024-08-07T00:00:00",
          "2024-08-08T00:00:00",
          "2024-08-09T00:00:00",
          "2024-08-12T00:00:00",
          "2024-08-13T00:00:00",
          "2024-08-14T00:00:00",
          "2024-08-15T00:00:00",
          "2024-08-16T00:00:00",
          "2024-08-19T00:00:00",
          "2024-08-20T00:00:00",
          "2024-08-21T00:00:00",
          "2024-08-22T00:00:00",
          "2024-08-23T00:00:00",
          "2024-08-26T00:00:00",
          "2024-08-27T00:00:00",
          "2024-08-28T00:00:00",
          "2024-08-29T00:00:00",
          "2024-08-30T00:00:00",
          "2024-09-02T00:00:00",
          "2024-09-03T00:00:00",
          "2024-09-04T00:00:00",
          "2024-09-05T00:00:00",
          "2024-09-06T00:00:00",
          "2024-09-09T00:00:00",
          "2024-09-10T00:00:00",
          "2024-09-11T00:00:00",
          "2024-09-12T00:00:00",
          "2024-09-13T00:00:00",
          "2024-09-17T00:00:00",
          "2024-09-18T00:00:00",
          "2024-09-19T00:00:00",
          "2024-09-20T00:00:00",
          "2024-09-23T00:00:00",
          "2024-09-24T00:00:00",
          "2024-09-25T00:00:00",
          "2024-09-26T00:00:00",
          "2024-09-27T00:00:00",
          "2024-09-30T00:00:00",
          "2024-10-01T00:00:00",
          "2024-10-02T00:00:00",
          "2024-10-03T00:00:00",
          "2024-10-04T00:00:00",
          "2024-10-07T00:00:00",
          "2024-10-08T00:00:00",
          "2024-10-09T00:00:00",
          "2024-10-10T00:00:00",
          "2024-10-11T00:00:00",
          "2024-10-14T00:00:00",
          "2024-10-15T00:00:00",
          "2024-10-16T00:00:00",
          "2024-10-17T00:00:00",
          "2024-10-18T00:00:00",
          "2024-10-21T00:00:00",
          "2024-10-22T00:00:00",
          "2024-10-23T00:00:00",
          "2024-10-24T00:00:00",
          "2024-10-25T00:00:00",
          "2024-10-28T00:00:00",
          "2024-10-29T00:00:00",
          "2024-10-30T00:00:00",
          "2024-10-31T00:00:00",
          "2024-11-01T00:00:00",
          "2024-11-04T00:00:00",
          "2024-11-05T00:00:00",
          "2024-11-06T00:00:00",
          "2024-11-07T00:00:00",
          "2024-11-08T00:00:00",
          "2024-11-11T00:00:00",
          "2024-11-12T00:00:00",
          "2024-11-13T00:00:00",
          "2024-11-14T00:00:00",
          "2024-11-15T00:00:00",
          "2024-11-18T00:00:00",
          "2024-11-19T00:00:00"
         ],
         "y": [
          4843.5341796875,
          4843.5341796875,
          4915.11376953125,
          4962.8330078125,
          5034.41259765625,
          4938.9736328125,
          4986.69287109375,
          5034.41259765625,
          5010.552734375,
          5058.2724609375,
          5058.2724609375,
          4986.69287109375,
          5034.41259765625,
          4843.5341796875,
          4938.9736328125,
          5034.41259765625,
          4938.9736328125,
          5105.99169921875,
          5034.41259765625,
          4962.8330078125,
          4962.8330078125,
          4962.8330078125,
          4915.11376953125,
          5010.552734375,
          5034.41259765625,
          5105.99169921875,
          5129.8515625,
          5129.8515625,
          5105.99169921875,
          5344.58984375,
          5320.72998046875,
          5320.72998046875,
          5392.30908203125,
          5344.58984375,
          5344.58984375,
          5344.58984375,
          5368.44921875,
          5344.58984375,
          5296.8701171875,
          5296.8701171875,
          5249.150390625,
          5273.01025390625,
          5177.5712890625,
          5225.29052734375,
          5153.71142578125,
          5177.5712890625,
          5320.72998046875,
          5392.30908203125,
          5487.748046875,
          5463.888671875,
          5511.60791015625,
          5487.748046875,
          5511.60791015625,
          5487.748046875,
          5678.62646484375,
          5607.04736328125,
          5726.34619140625,
          5726.34619140625,
          5607.04736328125,
          5750.20556640625,
          5726.34619140625,
          5678.62646484375,
          5630.90673828125,
          5630.90673828125,
          5726.34619140625,
          5702.486328125,
          5726.34619140625,
          5630.90673828125,
          5607.04736328125,
          5630.90673828125,
          5678.62646484375,
          5702.486328125,
          5821.78515625,
          5941.083984375,
          5869.5048828125,
          5800,
          5800,
          5850,
          5875,
          5800,
          5850,
          5925,
          5950,
          5925,
          5900,
          5650,
          5475,
          5325,
          5350,
          5300,
          5200,
          5250,
          5300,
          5225,
          5350,
          5250,
          5300,
          5300,
          5150,
          5225,
          5250,
          4830,
          4830,
          4810,
          4700,
          4670,
          4780,
          4930,
          5025,
          5200,
          5175,
          4980,
          4770,
          4760,
          4670,
          4710,
          4530,
          4490,
          4400,
          4620,
          4640,
          4610,
          4770,
          4700,
          4610,
          4480,
          4430,
          4480,
          4310,
          4300,
          4400,
          4540,
          4540,
          4480,
          4420,
          4580,
          4660,
          4710,
          4710,
          4650,
          4710,
          4700,
          4670,
          4860,
          4820,
          4870,
          5025,
          5025,
          4980,
          5000,
          5075,
          5100,
          5100,
          5050,
          5100,
          5025,
          5000,
          5025,
          4950,
          4970,
          5075,
          5100,
          4960,
          5025,
          5000,
          5025,
          5125,
          5125,
          5175,
          5275,
          5250,
          5300,
          5350,
          5475,
          5450,
          5275,
          5450,
          5525,
          5400,
          5375,
          5300,
          5350,
          5350,
          5375,
          5350,
          5450,
          5650,
          5725,
          5700,
          5650,
          5600,
          5625,
          5650,
          5700,
          5825,
          5750,
          5800,
          5800,
          5600,
          5600,
          5450,
          5350,
          5375,
          5350,
          5375,
          5325,
          5200,
          5350,
          5325,
          5325,
          5375,
          5425,
          5500,
          5475,
          5500,
          5650,
          5625,
          5650,
          5675,
          5625,
          5650,
          5500,
          5300,
          5225,
          5250,
          5200,
          5300,
          5400,
          5125,
          5025,
          4980,
          4990,
          4930,
          4960,
          4950,
          4910,
          4870,
          4850
         ]
        },
        {
         "mode": "lines",
         "name": "Predictions",
         "type": "scatter",
         "x": [
          "2023-11-21T00:00:00",
          "2023-11-22T00:00:00",
          "2023-11-23T00:00:00",
          "2023-11-24T00:00:00",
          "2023-11-27T00:00:00",
          "2023-11-28T00:00:00",
          "2023-11-29T00:00:00",
          "2023-11-30T00:00:00",
          "2023-12-01T00:00:00",
          "2023-12-04T00:00:00",
          "2023-12-05T00:00:00",
          "2023-12-06T00:00:00",
          "2023-12-07T00:00:00",
          "2023-12-08T00:00:00",
          "2023-12-11T00:00:00",
          "2023-12-12T00:00:00",
          "2023-12-13T00:00:00",
          "2023-12-14T00:00:00",
          "2023-12-15T00:00:00",
          "2023-12-18T00:00:00",
          "2023-12-19T00:00:00",
          "2023-12-20T00:00:00",
          "2023-12-21T00:00:00",
          "2023-12-22T00:00:00",
          "2023-12-27T00:00:00",
          "2023-12-28T00:00:00",
          "2023-12-29T00:00:00",
          "2024-01-02T00:00:00",
          "2024-01-03T00:00:00",
          "2024-01-04T00:00:00",
          "2024-01-05T00:00:00",
          "2024-01-08T00:00:00",
          "2024-01-09T00:00:00",
          "2024-01-10T00:00:00",
          "2024-01-11T00:00:00",
          "2024-01-12T00:00:00",
          "2024-01-15T00:00:00",
          "2024-01-16T00:00:00",
          "2024-01-17T00:00:00",
          "2024-01-18T00:00:00",
          "2024-01-19T00:00:00",
          "2024-01-22T00:00:00",
          "2024-01-23T00:00:00",
          "2024-01-24T00:00:00",
          "2024-01-25T00:00:00",
          "2024-01-26T00:00:00",
          "2024-01-29T00:00:00",
          "2024-01-30T00:00:00",
          "2024-01-31T00:00:00",
          "2024-02-01T00:00:00",
          "2024-02-02T00:00:00",
          "2024-02-05T00:00:00",
          "2024-02-06T00:00:00",
          "2024-02-07T00:00:00",
          "2024-02-12T00:00:00",
          "2024-02-13T00:00:00",
          "2024-02-15T00:00:00",
          "2024-02-16T00:00:00",
          "2024-02-19T00:00:00",
          "2024-02-20T00:00:00",
          "2024-02-21T00:00:00",
          "2024-02-22T00:00:00",
          "2024-02-23T00:00:00",
          "2024-02-26T00:00:00",
          "2024-02-27T00:00:00",
          "2024-02-28T00:00:00",
          "2024-02-29T00:00:00",
          "2024-03-01T00:00:00",
          "2024-03-04T00:00:00",
          "2024-03-05T00:00:00",
          "2024-03-06T00:00:00",
          "2024-03-07T00:00:00",
          "2024-03-08T00:00:00",
          "2024-03-13T00:00:00",
          "2024-03-14T00:00:00",
          "2024-03-15T00:00:00",
          "2024-03-18T00:00:00",
          "2024-03-19T00:00:00",
          "2024-03-20T00:00:00",
          "2024-03-21T00:00:00",
          "2024-03-22T00:00:00",
          "2024-03-25T00:00:00",
          "2024-03-26T00:00:00",
          "2024-03-27T00:00:00",
          "2024-03-28T00:00:00",
          "2024-04-01T00:00:00",
          "2024-04-02T00:00:00",
          "2024-04-03T00:00:00",
          "2024-04-04T00:00:00",
          "2024-04-05T00:00:00",
          "2024-04-16T00:00:00",
          "2024-04-17T00:00:00",
          "2024-04-18T00:00:00",
          "2024-04-19T00:00:00",
          "2024-04-22T00:00:00",
          "2024-04-23T00:00:00",
          "2024-04-24T00:00:00",
          "2024-04-25T00:00:00",
          "2024-04-26T00:00:00",
          "2024-04-29T00:00:00",
          "2024-04-30T00:00:00",
          "2024-05-02T00:00:00",
          "2024-05-03T00:00:00",
          "2024-05-06T00:00:00",
          "2024-05-07T00:00:00",
          "2024-05-08T00:00:00",
          "2024-05-13T00:00:00",
          "2024-05-14T00:00:00",
          "2024-05-15T00:00:00",
          "2024-05-16T00:00:00",
          "2024-05-17T00:00:00",
          "2024-05-20T00:00:00",
          "2024-05-21T00:00:00",
          "2024-05-22T00:00:00",
          "2024-05-27T00:00:00",
          "2024-05-28T00:00:00",
          "2024-05-29T00:00:00",
          "2024-05-30T00:00:00",
          "2024-05-31T00:00:00",
          "2024-06-03T00:00:00",
          "2024-06-04T00:00:00",
          "2024-06-05T00:00:00",
          "2024-06-06T00:00:00",
          "2024-06-07T00:00:00",
          "2024-06-10T00:00:00",
          "2024-06-11T00:00:00",
          "2024-06-12T00:00:00",
          "2024-06-13T00:00:00",
          "2024-06-14T00:00:00",
          "2024-06-19T00:00:00",
          "2024-06-20T00:00:00",
          "2024-06-21T00:00:00",
          "2024-06-24T00:00:00",
          "2024-06-25T00:00:00",
          "2024-06-26T00:00:00",
          "2024-06-27T00:00:00",
          "2024-06-28T00:00:00",
          "2024-07-01T00:00:00",
          "2024-07-02T00:00:00",
          "2024-07-03T00:00:00",
          "2024-07-04T00:00:00",
          "2024-07-05T00:00:00",
          "2024-07-08T00:00:00",
          "2024-07-09T00:00:00",
          "2024-07-10T00:00:00",
          "2024-07-11T00:00:00",
          "2024-07-12T00:00:00",
          "2024-07-15T00:00:00",
          "2024-07-16T00:00:00",
          "2024-07-17T00:00:00",
          "2024-07-18T00:00:00",
          "2024-07-19T00:00:00",
          "2024-07-22T00:00:00",
          "2024-07-23T00:00:00",
          "2024-07-24T00:00:00",
          "2024-07-25T00:00:00",
          "2024-07-26T00:00:00",
          "2024-07-29T00:00:00",
          "2024-07-30T00:00:00",
          "2024-07-31T00:00:00",
          "2024-08-01T00:00:00",
          "2024-08-02T00:00:00",
          "2024-08-05T00:00:00",
          "2024-08-06T00:00:00",
          "2024-08-07T00:00:00",
          "2024-08-08T00:00:00",
          "2024-08-09T00:00:00",
          "2024-08-12T00:00:00",
          "2024-08-13T00:00:00",
          "2024-08-14T00:00:00",
          "2024-08-15T00:00:00",
          "2024-08-16T00:00:00",
          "2024-08-19T00:00:00",
          "2024-08-20T00:00:00",
          "2024-08-21T00:00:00",
          "2024-08-22T00:00:00",
          "2024-08-23T00:00:00",
          "2024-08-26T00:00:00",
          "2024-08-27T00:00:00",
          "2024-08-28T00:00:00",
          "2024-08-29T00:00:00",
          "2024-08-30T00:00:00",
          "2024-09-02T00:00:00",
          "2024-09-03T00:00:00",
          "2024-09-04T00:00:00",
          "2024-09-05T00:00:00",
          "2024-09-06T00:00:00",
          "2024-09-09T00:00:00",
          "2024-09-10T00:00:00",
          "2024-09-11T00:00:00",
          "2024-09-12T00:00:00",
          "2024-09-13T00:00:00",
          "2024-09-17T00:00:00",
          "2024-09-18T00:00:00",
          "2024-09-19T00:00:00",
          "2024-09-20T00:00:00",
          "2024-09-23T00:00:00",
          "2024-09-24T00:00:00",
          "2024-09-25T00:00:00",
          "2024-09-26T00:00:00",
          "2024-09-27T00:00:00",
          "2024-09-30T00:00:00",
          "2024-10-01T00:00:00",
          "2024-10-02T00:00:00",
          "2024-10-03T00:00:00",
          "2024-10-04T00:00:00",
          "2024-10-07T00:00:00",
          "2024-10-08T00:00:00",
          "2024-10-09T00:00:00",
          "2024-10-10T00:00:00",
          "2024-10-11T00:00:00",
          "2024-10-14T00:00:00",
          "2024-10-15T00:00:00",
          "2024-10-16T00:00:00",
          "2024-10-17T00:00:00",
          "2024-10-18T00:00:00",
          "2024-10-21T00:00:00",
          "2024-10-22T00:00:00",
          "2024-10-23T00:00:00",
          "2024-10-24T00:00:00",
          "2024-10-25T00:00:00",
          "2024-10-28T00:00:00",
          "2024-10-29T00:00:00",
          "2024-10-30T00:00:00",
          "2024-10-31T00:00:00",
          "2024-11-01T00:00:00",
          "2024-11-04T00:00:00",
          "2024-11-05T00:00:00",
          "2024-11-06T00:00:00",
          "2024-11-07T00:00:00",
          "2024-11-08T00:00:00",
          "2024-11-11T00:00:00",
          "2024-11-12T00:00:00",
          "2024-11-13T00:00:00",
          "2024-11-14T00:00:00",
          "2024-11-15T00:00:00",
          "2024-11-18T00:00:00",
          "2024-11-19T00:00:00"
         ],
         "y": [
          4840.078125,
          4828.92041015625,
          4907.57421875,
          4952.69677734375,
          5025.69384765625,
          4904.59423828125,
          4969.93310546875,
          5017.2744140625,
          4978.86376953125,
          5036.5322265625,
          5029.8916015625,
          4946.54345703125,
          5012.68310546875,
          4787.70068359375,
          4921.35107421875,
          5022.21923828125,
          4897.63720703125,
          5106.69580078125,
          5003.38818359375,
          4929.72607421875,
          4942.32373046875,
          4940.4501953125,
          4883.56396484375,
          4999.70703125,
          5015.06982421875,
          5093.92431640625,
          5112.57958984375,
          5108.4521484375,
          5080.19970703125,
          5361.32666015625,
          5287.24169921875,
          5289.84521484375,
          5376.26904296875,
          5301.38818359375,
          5308.14404296875,
          5306.76025390625,
          5332.458984375,
          5299.0283203125,
          5248.25390625,
          5259.04833984375,
          5203.31103515625,
          5241.21044921875,
          5126.478515625,
          5201.14990234375,
          5111.1884765625,
          5151.9921875,
          5318.99658203125,
          5377.125,
          5478.1845703125,
          5432.17041015625,
          5493.78369140625,
          5451.66455078125,
          5480.69970703125,
          5443.30224609375,
          5675.68701171875,
          5541.7548828125,
          5706.6640625,
          5678.3369140625,
          5533.22705078125,
          5738.763671875,
          5667.61474609375,
          5616.1953125,
          5573.79638671875,
          5584.048828125,
          5698.6279296875,
          5645.36865234375,
          5685.14306640625,
          5565.75830078125,
          5561.3798828125,
          5594.634765625,
          5644.12548828125,
          5662.23681640625,
          5804.7666015625,
          5921.04638671875,
          5802.12890625,
          5742.11767578125,
          5758.0576171875,
          5811.279296875,
          5824.27685546875,
          5726.61376953125,
          5812.05029296875,
          5888.8017578125,
          5898.27490234375,
          5864.92431640625,
          5843.99462890625,
          5543.078125,
          5396.23291015625,
          5252.2373046875,
          5309.4052734375,
          5245.66259765625,
          5143.60693359375,
          5231.115234375,
          5287.13037109375,
          5192.7783203125,
          5358.89599609375,
          5218.0791015625,
          5293.93359375,
          5283.90576171875,
          5102.970703125,
          5216.43798828125,
          5230.044921875,
          4735.9697265625,
          4799.931640625,
          4782.33251953125,
          4656.650390625,
          4640.3359375,
          4775.9541015625,
          4940.638671875,
          5034.53515625,
          5226.14501953125,
          5169.8984375,
          4944.53662109375,
          4729.30615234375,
          4737.51806640625,
          4630.5732421875,
          4680.99462890625,
          4480.7294921875,
          4455.81005859375,
          4369.77001953125,
          4624.0927734375,
          4638.1875,
          4603.482421875,
          4789.3330078125,
          4696.7685546875,
          4597.23095703125,
          4459.734375,
          4410.70654296875,
          4467.0771484375,
          4277.76318359375,
          4275.5458984375,
          4392.29150390625,
          4544.65283203125,
          4538.30712890625,
          4473.1689453125,
          4412.7255859375,
          4591.38623046875,
          4666.99951171875,
          4709.9931640625,
          4703.27734375,
          4633.58740234375,
          4702.82421875,
          4683.2763671875,
          4646.2578125,
          4862.2236328125,
          4796.72705078125,
          4854.8359375,
          5028.396484375,
          5005.525390625,
          4951.18359375,
          4980.0673828125,
          5060.66015625,
          5074.5263671875,
          5068.86767578125,
          5011.283203125,
          5076.54541015625,
          4981.6513671875,
          4963.24609375,
          4997.73828125,
          4908.05908203125,
          4942.9677734375,
          5064.517578125,
          5078.7080078125,
          4915.099609375,
          5012.8359375,
          4975.50244140625,
          5004.47216796875,
          5117.41845703125,
          5101.38427734375,
          5159.3984375,
          5268.83447265625,
          5219.83349609375,
          5281.69384765625,
          5330.0595703125,
          5464.9892578125,
          5407.509765625,
          5205.474609375,
          5448.30322265625,
          5496.66015625,
          5328.55517578125,
          5330.99462890625,
          5247.61572265625,
          5319.201171875,
          5309.4052734375,
          5340.37451171875,
          5309.416015625,
          5435.7939453125,
          5655.89794921875,
          5700.4970703125,
          5656.134765625,
          5604.48046875,
          5551.91064453125,
          5587.2236328125,
          5605.46923828125,
          5658.296875,
          5799.9541015625,
          5677.74609375,
          5764.65869140625,
          5751.11083984375,
          5505.75146484375,
          5558.04833984375,
          5372.00927734375,
          5284.1689453125,
          5337.5615234375,
          5303.40966796875,
          5342.93603515625,
          5284.91064453125,
          5151.6162109375,
          5355.81103515625,
          5296.78076171875,
          5300.9677734375,
          5363.33642578125,
          5411.03857421875,
          5488.478515625,
          5441.3525390625,
          5475.7509765625,
          5648.31689453125,
          5578.4775390625,
          5615.30615234375,
          5639.205078125,
          5568.92431640625,
          5610.4482421875,
          5421.05712890625,
          5216.5263671875,
          5169.55419921875,
          5211.45263671875,
          5148.4287109375,
          5281.64892578125,
          5388.9306640625,
          5050.70751953125,
          4989.23193359375,
          4955.8203125,
          4969.27490234375,
          4898.349609375,
          4943.5029296875,
          4931.94873046875,
          4889.20068359375,
          4851.228515625,
          4834.66943359375
         ]
        }
       ],
       "layout": {
        "template": {
         "data": {
          "bar": [
           {
            "error_x": {
             "color": "#2a3f5f"
            },
            "error_y": {
             "color": "#2a3f5f"
            },
            "marker": {
             "line": {
              "color": "#E5ECF6",
              "width": 0.5
             },
             "pattern": {
              "fillmode": "overlay",
              "size": 10,
              "solidity": 0.2
             }
            },
            "type": "bar"
           }
          ],
          "barpolar": [
           {
            "marker": {
             "line": {
              "color": "#E5ECF6",
              "width": 0.5
             },
             "pattern": {
              "fillmode": "overlay",
              "size": 10,
              "solidity": 0.2
             }
            },
            "type": "barpolar"
           }
          ],
          "carpet": [
           {
            "aaxis": {
             "endlinecolor": "#2a3f5f",
             "gridcolor": "white",
             "linecolor": "white",
             "minorgridcolor": "white",
             "startlinecolor": "#2a3f5f"
            },
            "baxis": {
             "endlinecolor": "#2a3f5f",
             "gridcolor": "white",
             "linecolor": "white",
             "minorgridcolor": "white",
             "startlinecolor": "#2a3f5f"
            },
            "type": "carpet"
           }
          ],
          "choropleth": [
           {
            "colorbar": {
             "outlinewidth": 0,
             "ticks": ""
            },
            "type": "choropleth"
           }
          ],
          "contour": [
           {
            "colorbar": {
             "outlinewidth": 0,
             "ticks": ""
            },
            "colorscale": [
             [
              0,
              "#0d0887"
             ],
             [
              0.1111111111111111,
              "#46039f"
             ],
             [
              0.2222222222222222,
              "#7201a8"
             ],
             [
              0.3333333333333333,
              "#9c179e"
             ],
             [
              0.4444444444444444,
              "#bd3786"
             ],
             [
              0.5555555555555556,
              "#d8576b"
             ],
             [
              0.6666666666666666,
              "#ed7953"
             ],
             [
              0.7777777777777778,
              "#fb9f3a"
             ],
             [
              0.8888888888888888,
              "#fdca26"
             ],
             [
              1,
              "#f0f921"
             ]
            ],
            "type": "contour"
           }
          ],
          "contourcarpet": [
           {
            "colorbar": {
             "outlinewidth": 0,
             "ticks": ""
            },
            "type": "contourcarpet"
           }
          ],
          "heatmap": [
           {
            "colorbar": {
             "outlinewidth": 0,
             "ticks": ""
            },
            "colorscale": [
             [
              0,
              "#0d0887"
             ],
             [
              0.1111111111111111,
              "#46039f"
             ],
             [
              0.2222222222222222,
              "#7201a8"
             ],
             [
              0.3333333333333333,
              "#9c179e"
             ],
             [
              0.4444444444444444,
              "#bd3786"
             ],
             [
              0.5555555555555556,
              "#d8576b"
             ],
             [
              0.6666666666666666,
              "#ed7953"
             ],
             [
              0.7777777777777778,
              "#fb9f3a"
             ],
             [
              0.8888888888888888,
              "#fdca26"
             ],
             [
              1,
              "#f0f921"
             ]
            ],
            "type": "heatmap"
           }
          ],
          "heatmapgl": [
           {
            "colorbar": {
             "outlinewidth": 0,
             "ticks": ""
            },
            "colorscale": [
             [
              0,
              "#0d0887"
             ],
             [
              0.1111111111111111,
              "#46039f"
             ],
             [
              0.2222222222222222,
              "#7201a8"
             ],
             [
              0.3333333333333333,
              "#9c179e"
             ],
             [
              0.4444444444444444,
              "#bd3786"
             ],
             [
              0.5555555555555556,
              "#d8576b"
             ],
             [
              0.6666666666666666,
              "#ed7953"
             ],
             [
              0.7777777777777778,
              "#fb9f3a"
             ],
             [
              0.8888888888888888,
              "#fdca26"
             ],
             [
              1,
              "#f0f921"
             ]
            ],
            "type": "heatmapgl"
           }
          ],
          "histogram": [
           {
            "marker": {
             "pattern": {
              "fillmode": "overlay",
              "size": 10,
              "solidity": 0.2
             }
            },
            "type": "histogram"
           }
          ],
          "histogram2d": [
           {
            "colorbar": {
             "outlinewidth": 0,
             "ticks": ""
            },
            "colorscale": [
             [
              0,
              "#0d0887"
             ],
             [
              0.1111111111111111,
              "#46039f"
             ],
             [
              0.2222222222222222,
              "#7201a8"
             ],
             [
              0.3333333333333333,
              "#9c179e"
             ],
             [
              0.4444444444444444,
              "#bd3786"
             ],
             [
              0.5555555555555556,
              "#d8576b"
             ],
             [
              0.6666666666666666,
              "#ed7953"
             ],
             [
              0.7777777777777778,
              "#fb9f3a"
             ],
             [
              0.8888888888888888,
              "#fdca26"
             ],
             [
              1,
              "#f0f921"
             ]
            ],
            "type": "histogram2d"
           }
          ],
          "histogram2dcontour": [
           {
            "colorbar": {
             "outlinewidth": 0,
             "ticks": ""
            },
            "colorscale": [
             [
              0,
              "#0d0887"
             ],
             [
              0.1111111111111111,
              "#46039f"
             ],
             [
              0.2222222222222222,
              "#7201a8"
             ],
             [
              0.3333333333333333,
              "#9c179e"
             ],
             [
              0.4444444444444444,
              "#bd3786"
             ],
             [
              0.5555555555555556,
              "#d8576b"
             ],
             [
              0.6666666666666666,
              "#ed7953"
             ],
             [
              0.7777777777777778,
              "#fb9f3a"
             ],
             [
              0.8888888888888888,
              "#fdca26"
             ],
             [
              1,
              "#f0f921"
             ]
            ],
            "type": "histogram2dcontour"
           }
          ],
          "mesh3d": [
           {
            "colorbar": {
             "outlinewidth": 0,
             "ticks": ""
            },
            "type": "mesh3d"
           }
          ],
          "parcoords": [
           {
            "line": {
             "colorbar": {
              "outlinewidth": 0,
              "ticks": ""
             }
            },
            "type": "parcoords"
           }
          ],
          "pie": [
           {
            "automargin": true,
            "type": "pie"
           }
          ],
          "scatter": [
           {
            "fillpattern": {
             "fillmode": "overlay",
             "size": 10,
             "solidity": 0.2
            },
            "type": "scatter"
           }
          ],
          "scatter3d": [
           {
            "line": {
             "colorbar": {
              "outlinewidth": 0,
              "ticks": ""
             }
            },
            "marker": {
             "colorbar": {
              "outlinewidth": 0,
              "ticks": ""
             }
            },
            "type": "scatter3d"
           }
          ],
          "scattercarpet": [
           {
            "marker": {
             "colorbar": {
              "outlinewidth": 0,
              "ticks": ""
             }
            },
            "type": "scattercarpet"
           }
          ],
          "scattergeo": [
           {
            "marker": {
             "colorbar": {
              "outlinewidth": 0,
              "ticks": ""
             }
            },
            "type": "scattergeo"
           }
          ],
          "scattergl": [
           {
            "marker": {
             "colorbar": {
              "outlinewidth": 0,
              "ticks": ""
             }
            },
            "type": "scattergl"
           }
          ],
          "scattermapbox": [
           {
            "marker": {
             "colorbar": {
              "outlinewidth": 0,
              "ticks": ""
             }
            },
            "type": "scattermapbox"
           }
          ],
          "scatterpolar": [
           {
            "marker": {
             "colorbar": {
              "outlinewidth": 0,
              "ticks": ""
             }
            },
            "type": "scatterpolar"
           }
          ],
          "scatterpolargl": [
           {
            "marker": {
             "colorbar": {
              "outlinewidth": 0,
              "ticks": ""
             }
            },
            "type": "scatterpolargl"
           }
          ],
          "scatterternary": [
           {
            "marker": {
             "colorbar": {
              "outlinewidth": 0,
              "ticks": ""
             }
            },
            "type": "scatterternary"
           }
          ],
          "surface": [
           {
            "colorbar": {
             "outlinewidth": 0,
             "ticks": ""
            },
            "colorscale": [
             [
              0,
              "#0d0887"
             ],
             [
              0.1111111111111111,
              "#46039f"
             ],
             [
              0.2222222222222222,
              "#7201a8"
             ],
             [
              0.3333333333333333,
              "#9c179e"
             ],
             [
              0.4444444444444444,
              "#bd3786"
             ],
             [
              0.5555555555555556,
              "#d8576b"
             ],
             [
              0.6666666666666666,
              "#ed7953"
             ],
             [
              0.7777777777777778,
              "#fb9f3a"
             ],
             [
              0.8888888888888888,
              "#fdca26"
             ],
             [
              1,
              "#f0f921"
             ]
            ],
            "type": "surface"
           }
          ],
          "table": [
           {
            "cells": {
             "fill": {
              "color": "#EBF0F8"
             },
             "line": {
              "color": "white"
             }
            },
            "header": {
             "fill": {
              "color": "#C8D4E3"
             },
             "line": {
              "color": "white"
             }
            },
            "type": "table"
           }
          ]
         },
         "layout": {
          "annotationdefaults": {
           "arrowcolor": "#2a3f5f",
           "arrowhead": 0,
           "arrowwidth": 1
          },
          "autotypenumbers": "strict",
          "coloraxis": {
           "colorbar": {
            "outlinewidth": 0,
            "ticks": ""
           }
          },
          "colorscale": {
           "diverging": [
            [
             0,
             "#8e0152"
            ],
            [
             0.1,
             "#c51b7d"
            ],
            [
             0.2,
             "#de77ae"
            ],
            [
             0.3,
             "#f1b6da"
            ],
            [
             0.4,
             "#fde0ef"
            ],
            [
             0.5,
             "#f7f7f7"
            ],
            [
             0.6,
             "#e6f5d0"
            ],
            [
             0.7,
             "#b8e186"
            ],
            [
             0.8,
             "#7fbc41"
            ],
            [
             0.9,
             "#4d9221"
            ],
            [
             1,
             "#276419"
            ]
           ],
           "sequential": [
            [
             0,
             "#0d0887"
            ],
            [
             0.1111111111111111,
             "#46039f"
            ],
            [
             0.2222222222222222,
             "#7201a8"
            ],
            [
             0.3333333333333333,
             "#9c179e"
            ],
            [
             0.4444444444444444,
             "#bd3786"
            ],
            [
             0.5555555555555556,
             "#d8576b"
            ],
            [
             0.6666666666666666,
             "#ed7953"
            ],
            [
             0.7777777777777778,
             "#fb9f3a"
            ],
            [
             0.8888888888888888,
             "#fdca26"
            ],
            [
             1,
             "#f0f921"
            ]
           ],
           "sequentialminus": [
            [
             0,
             "#0d0887"
            ],
            [
             0.1111111111111111,
             "#46039f"
            ],
            [
             0.2222222222222222,
             "#7201a8"
            ],
            [
             0.3333333333333333,
             "#9c179e"
            ],
            [
             0.4444444444444444,
             "#bd3786"
            ],
            [
             0.5555555555555556,
             "#d8576b"
            ],
            [
             0.6666666666666666,
             "#ed7953"
            ],
            [
             0.7777777777777778,
             "#fb9f3a"
            ],
            [
             0.8888888888888888,
             "#fdca26"
            ],
            [
             1,
             "#f0f921"
            ]
           ]
          },
          "colorway": [
           "#636efa",
           "#EF553B",
           "#00cc96",
           "#ab63fa",
           "#FFA15A",
           "#19d3f3",
           "#FF6692",
           "#B6E880",
           "#FF97FF",
           "#FECB52"
          ],
          "font": {
           "color": "#2a3f5f"
          },
          "geo": {
           "bgcolor": "white",
           "lakecolor": "white",
           "landcolor": "#E5ECF6",
           "showlakes": true,
           "showland": true,
           "subunitcolor": "white"
          },
          "hoverlabel": {
           "align": "left"
          },
          "hovermode": "closest",
          "mapbox": {
           "style": "light"
          },
          "paper_bgcolor": "white",
          "plot_bgcolor": "#E5ECF6",
          "polar": {
           "angularaxis": {
            "gridcolor": "white",
            "linecolor": "white",
            "ticks": ""
           },
           "bgcolor": "#E5ECF6",
           "radialaxis": {
            "gridcolor": "white",
            "linecolor": "white",
            "ticks": ""
           }
          },
          "scene": {
           "xaxis": {
            "backgroundcolor": "#E5ECF6",
            "gridcolor": "white",
            "gridwidth": 2,
            "linecolor": "white",
            "showbackground": true,
            "ticks": "",
            "zerolinecolor": "white"
           },
           "yaxis": {
            "backgroundcolor": "#E5ECF6",
            "gridcolor": "white",
            "gridwidth": 2,
            "linecolor": "white",
            "showbackground": true,
            "ticks": "",
            "zerolinecolor": "white"
           },
           "zaxis": {
            "backgroundcolor": "#E5ECF6",
            "gridcolor": "white",
            "gridwidth": 2,
            "linecolor": "white",
            "showbackground": true,
            "ticks": "",
            "zerolinecolor": "white"
           }
          },
          "shapedefaults": {
           "line": {
            "color": "#2a3f5f"
           }
          },
          "ternary": {
           "aaxis": {
            "gridcolor": "white",
            "linecolor": "white",
            "ticks": ""
           },
           "baxis": {
            "gridcolor": "white",
            "linecolor": "white",
            "ticks": ""
           },
           "bgcolor": "#E5ECF6",
           "caxis": {
            "gridcolor": "white",
            "linecolor": "white",
            "ticks": ""
           }
          },
          "title": {
           "x": 0.05
          },
          "xaxis": {
           "automargin": true,
           "gridcolor": "white",
           "linecolor": "white",
           "ticks": "",
           "title": {
            "standoff": 15
           },
           "zerolinecolor": "white",
           "zerolinewidth": 2
          },
          "yaxis": {
           "automargin": true,
           "gridcolor": "white",
           "linecolor": "white",
           "ticks": "",
           "title": {
            "standoff": 15
           },
           "zerolinecolor": "white",
           "zerolinewidth": 2
          }
         }
        },
        "title": {
         "text": "Model"
        },
        "xaxis": {
         "title": {
          "text": "Date"
         }
        },
        "yaxis": {
         "title": {
          "text": "Close Price USD ($)"
         }
        }
       }
      }
     },
     "metadata": {},
     "output_type": "display_data"
    }
   ],
   "source": [
    "from plotly import graph_objs as go\n",
    "\n",
    "fig = go.Figure()\n",
    "\n",
    "fig.add_trace(go.Scatter(x=valid['date'], y=valid['Close'], mode='lines', name='Val'))\n",
    "fig.add_trace(go.Scatter(x=valid['date'], y=valid['Predictions'], mode='lines', name='Predictions'))\n",
    "\n",
    "fig.update_layout(title='Model',\n",
    "                        xaxis_title='Date',\n",
    "                        yaxis_title='Close Price USD ($)')\n",
    "fig.show()"
   ]
  },
  {
   "cell_type": "markdown",
   "metadata": {},
   "source": [
    "# Close with news sentiment siebert"
   ]
  },
  {
   "cell_type": "code",
   "execution_count": 105,
   "metadata": {},
   "outputs": [
    {
     "name": "stderr",
     "output_type": "stream",
     "text": [
      "C:\\Users\\thari\\AppData\\Local\\Temp\\ipykernel_20912\\412406848.py:2: SettingWithCopyWarning:\n",
      "\n",
      "\n",
      "A value is trying to be set on a copy of a slice from a DataFrame.\n",
      "Try using .loc[row_indexer,col_indexer] = value instead\n",
      "\n",
      "See the caveats in the documentation: https://pandas.pydata.org/pandas-docs/stable/user_guide/indexing.html#returning-a-view-versus-a-copy\n",
      "\n"
     ]
    },
    {
     "data": {
      "text/html": [
       "<div>\n",
       "<style scoped>\n",
       "    .dataframe tbody tr th:only-of-type {\n",
       "        vertical-align: middle;\n",
       "    }\n",
       "\n",
       "    .dataframe tbody tr th {\n",
       "        vertical-align: top;\n",
       "    }\n",
       "\n",
       "    .dataframe thead th {\n",
       "        text-align: right;\n",
       "    }\n",
       "</style>\n",
       "<table border=\"1\" class=\"dataframe\">\n",
       "  <thead>\n",
       "    <tr style=\"text-align: right;\">\n",
       "      <th></th>\n",
       "      <th>Close</th>\n",
       "    </tr>\n",
       "    <tr>\n",
       "      <th>date</th>\n",
       "      <th></th>\n",
       "    </tr>\n",
       "  </thead>\n",
       "  <tbody>\n",
       "    <tr>\n",
       "      <th>2019-12-17</th>\n",
       "      <td>3331.536621</td>\n",
       "    </tr>\n",
       "    <tr>\n",
       "      <th>2019-12-18</th>\n",
       "      <td>3385.620117</td>\n",
       "    </tr>\n",
       "    <tr>\n",
       "      <th>2019-12-19</th>\n",
       "      <td>3385.620117</td>\n",
       "    </tr>\n",
       "    <tr>\n",
       "      <th>2019-12-20</th>\n",
       "      <td>3374.803711</td>\n",
       "    </tr>\n",
       "    <tr>\n",
       "      <th>2019-12-23</th>\n",
       "      <td>3428.886963</td>\n",
       "    </tr>\n",
       "    <tr>\n",
       "      <th>...</th>\n",
       "      <td>...</td>\n",
       "    </tr>\n",
       "    <tr>\n",
       "      <th>2024-11-14</th>\n",
       "      <td>4950.000000</td>\n",
       "    </tr>\n",
       "    <tr>\n",
       "      <th>2024-11-15</th>\n",
       "      <td>4910.000000</td>\n",
       "    </tr>\n",
       "    <tr>\n",
       "      <th>2024-11-18</th>\n",
       "      <td>4870.000000</td>\n",
       "    </tr>\n",
       "    <tr>\n",
       "      <th>2024-11-19</th>\n",
       "      <td>4850.000000</td>\n",
       "    </tr>\n",
       "    <tr>\n",
       "      <th>2024-11-20</th>\n",
       "      <td>4850.000000</td>\n",
       "    </tr>\n",
       "  </tbody>\n",
       "</table>\n",
       "<p>1194 rows × 1 columns</p>\n",
       "</div>"
      ],
      "text/plain": [
       "                  Close\n",
       "date                   \n",
       "2019-12-17  3331.536621\n",
       "2019-12-18  3385.620117\n",
       "2019-12-19  3385.620117\n",
       "2019-12-20  3374.803711\n",
       "2019-12-23  3428.886963\n",
       "...                 ...\n",
       "2024-11-14  4950.000000\n",
       "2024-11-15  4910.000000\n",
       "2024-11-18  4870.000000\n",
       "2024-11-19  4850.000000\n",
       "2024-11-20  4850.000000\n",
       "\n",
       "[1194 rows x 1 columns]"
      ]
     },
     "execution_count": 105,
     "metadata": {},
     "output_type": "execute_result"
    }
   ],
   "source": [
    "dataUsed = data[['Close', 'date']]\n",
    "dataUsed['date'] = pd.to_datetime(dataUsed['date'])\n",
    "\n",
    "dataUsed = dataUsed.set_index('date')\n",
    "\n",
    "dataUsed"
   ]
  },
  {
   "cell_type": "code",
   "execution_count": 106,
   "metadata": {},
   "outputs": [
    {
     "data": {
      "text/html": [
       "<div>\n",
       "<style scoped>\n",
       "    .dataframe tbody tr th:only-of-type {\n",
       "        vertical-align: middle;\n",
       "    }\n",
       "\n",
       "    .dataframe tbody tr th {\n",
       "        vertical-align: top;\n",
       "    }\n",
       "\n",
       "    .dataframe thead th {\n",
       "        text-align: right;\n",
       "    }\n",
       "</style>\n",
       "<table border=\"1\" class=\"dataframe\">\n",
       "  <thead>\n",
       "    <tr style=\"text-align: right;\">\n",
       "      <th></th>\n",
       "      <th>sentiment</th>\n",
       "      <th>title</th>\n",
       "    </tr>\n",
       "    <tr>\n",
       "      <th>date</th>\n",
       "      <th></th>\n",
       "      <th></th>\n",
       "    </tr>\n",
       "  </thead>\n",
       "  <tbody>\n",
       "    <tr>\n",
       "      <th>2024-11-11 12:45:00</th>\n",
       "      <td>NEGATIVE</td>\n",
       "      <td>Berapa Harga Saham BBCA Hari Ini?</td>\n",
       "    </tr>\n",
       "    <tr>\n",
       "      <th>2024-11-08 15:15:00</th>\n",
       "      <td>NEGATIVE</td>\n",
       "      <td>Dua Mata Pisau Penghapusan Utang UMKM</td>\n",
       "    </tr>\n",
       "    <tr>\n",
       "      <th>2024-11-06 13:44:00</th>\n",
       "      <td>NEGATIVE</td>\n",
       "      <td>Prabowo Hapus Utang UMKM, Begini Efeknya ke Sa...</td>\n",
       "    </tr>\n",
       "    <tr>\n",
       "      <th>2024-11-05 08:13:00</th>\n",
       "      <td>POSITIVE</td>\n",
       "      <td>IHSG Hari Ini Diramal Bergerak Fluktuatif</td>\n",
       "    </tr>\n",
       "    <tr>\n",
       "      <th>2024-10-29 08:30:00</th>\n",
       "      <td>POSITIVE</td>\n",
       "      <td>Masuk Daftar 45 Saham Pre-opening, Saham GOTO ...</td>\n",
       "    </tr>\n",
       "    <tr>\n",
       "      <th>...</th>\n",
       "      <td>...</td>\n",
       "      <td>...</td>\n",
       "    </tr>\n",
       "    <tr>\n",
       "      <th>2020-03-10 15:05:00</th>\n",
       "      <td>POSITIVE</td>\n",
       "      <td>Mampukah Buyback 12 BUMN Rp 8 T Selamatkan Pas...</td>\n",
       "    </tr>\n",
       "    <tr>\n",
       "      <th>2020-03-10 11:18:00</th>\n",
       "      <td>NEGATIVE</td>\n",
       "      <td>Alasan 12 BUMN Buyback Saham Rp 8 T</td>\n",
       "    </tr>\n",
       "    <tr>\n",
       "      <th>2020-03-10 10:45:00</th>\n",
       "      <td>POSITIVE</td>\n",
       "      <td>12 BUMN Siap Buyback Saham Rp 8 T</td>\n",
       "    </tr>\n",
       "    <tr>\n",
       "      <th>2020-02-21 08:52:00</th>\n",
       "      <td>NEGATIVE</td>\n",
       "      <td>IHSG Diperkirakan Melemah Jelang Akhir Pekan</td>\n",
       "    </tr>\n",
       "    <tr>\n",
       "      <th>2020-01-22 22:00:00</th>\n",
       "      <td>POSITIVE</td>\n",
       "      <td>Rencana BNI 2020: Caplok Bank Sampai Global Bond</td>\n",
       "    </tr>\n",
       "  </tbody>\n",
       "</table>\n",
       "<p>240 rows × 2 columns</p>\n",
       "</div>"
      ],
      "text/plain": [
       "                    sentiment  \\\n",
       "date                            \n",
       "2024-11-11 12:45:00  NEGATIVE   \n",
       "2024-11-08 15:15:00  NEGATIVE   \n",
       "2024-11-06 13:44:00  NEGATIVE   \n",
       "2024-11-05 08:13:00  POSITIVE   \n",
       "2024-10-29 08:30:00  POSITIVE   \n",
       "...                       ...   \n",
       "2020-03-10 15:05:00  POSITIVE   \n",
       "2020-03-10 11:18:00  NEGATIVE   \n",
       "2020-03-10 10:45:00  POSITIVE   \n",
       "2020-02-21 08:52:00  NEGATIVE   \n",
       "2020-01-22 22:00:00  POSITIVE   \n",
       "\n",
       "                                                                 title  \n",
       "date                                                                    \n",
       "2024-11-11 12:45:00                  Berapa Harga Saham BBCA Hari Ini?  \n",
       "2024-11-08 15:15:00              Dua Mata Pisau Penghapusan Utang UMKM  \n",
       "2024-11-06 13:44:00  Prabowo Hapus Utang UMKM, Begini Efeknya ke Sa...  \n",
       "2024-11-05 08:13:00          IHSG Hari Ini Diramal Bergerak Fluktuatif  \n",
       "2024-10-29 08:30:00  Masuk Daftar 45 Saham Pre-opening, Saham GOTO ...  \n",
       "...                                                                ...  \n",
       "2020-03-10 15:05:00  Mampukah Buyback 12 BUMN Rp 8 T Selamatkan Pas...  \n",
       "2020-03-10 11:18:00                Alasan 12 BUMN Buyback Saham Rp 8 T  \n",
       "2020-03-10 10:45:00                  12 BUMN Siap Buyback Saham Rp 8 T  \n",
       "2020-02-21 08:52:00       IHSG Diperkirakan Melemah Jelang Akhir Pekan  \n",
       "2020-01-22 22:00:00   Rencana BNI 2020: Caplok Bank Sampai Global Bond  \n",
       "\n",
       "[240 rows x 2 columns]"
      ]
     },
     "execution_count": 106,
     "metadata": {},
     "output_type": "execute_result"
    }
   ],
   "source": [
    "news = pd.read_csv('Data/bbni sentiment analysis.csv')\n",
    "# delete columns except date and sentiment and title\n",
    "news = news[['publish_date', 'sentiment', 'title']]\n",
    "news = news.rename(columns={'publish_date': 'date'})\n",
    "news['date'] = pd.to_datetime(news['date'])\n",
    "news = news.set_index('date')\n",
    "\n",
    "# hanya gunakan data diatas tanggal 2019-12-17\n",
    "\n",
    "news = news[news.index >= '2019-12-17']\n",
    "\n",
    "news"
   ]
  },
  {
   "cell_type": "code",
   "execution_count": 107,
   "metadata": {},
   "outputs": [],
   "source": [
    "news.index = news.index.normalize()\n",
    "news = news.groupby(news.index).first()\n"
   ]
  },
  {
   "cell_type": "code",
   "execution_count": 108,
   "metadata": {},
   "outputs": [
    {
     "data": {
      "text/html": [
       "<div>\n",
       "<style scoped>\n",
       "    .dataframe tbody tr th:only-of-type {\n",
       "        vertical-align: middle;\n",
       "    }\n",
       "\n",
       "    .dataframe tbody tr th {\n",
       "        vertical-align: top;\n",
       "    }\n",
       "\n",
       "    .dataframe thead th {\n",
       "        text-align: right;\n",
       "    }\n",
       "</style>\n",
       "<table border=\"1\" class=\"dataframe\">\n",
       "  <thead>\n",
       "    <tr style=\"text-align: right;\">\n",
       "      <th></th>\n",
       "      <th>Close</th>\n",
       "      <th>sentiment</th>\n",
       "      <th>title</th>\n",
       "    </tr>\n",
       "    <tr>\n",
       "      <th>date</th>\n",
       "      <th></th>\n",
       "      <th></th>\n",
       "      <th></th>\n",
       "    </tr>\n",
       "  </thead>\n",
       "  <tbody>\n",
       "    <tr>\n",
       "      <th>2019-12-17</th>\n",
       "      <td>3331.536621</td>\n",
       "      <td>NaN</td>\n",
       "      <td>NaN</td>\n",
       "    </tr>\n",
       "    <tr>\n",
       "      <th>2019-12-18</th>\n",
       "      <td>3385.620117</td>\n",
       "      <td>NaN</td>\n",
       "      <td>NaN</td>\n",
       "    </tr>\n",
       "    <tr>\n",
       "      <th>2019-12-19</th>\n",
       "      <td>3385.620117</td>\n",
       "      <td>NaN</td>\n",
       "      <td>NaN</td>\n",
       "    </tr>\n",
       "    <tr>\n",
       "      <th>2019-12-20</th>\n",
       "      <td>3374.803711</td>\n",
       "      <td>NaN</td>\n",
       "      <td>NaN</td>\n",
       "    </tr>\n",
       "    <tr>\n",
       "      <th>2019-12-23</th>\n",
       "      <td>3428.886963</td>\n",
       "      <td>NaN</td>\n",
       "      <td>NaN</td>\n",
       "    </tr>\n",
       "    <tr>\n",
       "      <th>...</th>\n",
       "      <td>...</td>\n",
       "      <td>...</td>\n",
       "      <td>...</td>\n",
       "    </tr>\n",
       "    <tr>\n",
       "      <th>2024-11-14</th>\n",
       "      <td>4950.000000</td>\n",
       "      <td>NaN</td>\n",
       "      <td>NaN</td>\n",
       "    </tr>\n",
       "    <tr>\n",
       "      <th>2024-11-15</th>\n",
       "      <td>4910.000000</td>\n",
       "      <td>NaN</td>\n",
       "      <td>NaN</td>\n",
       "    </tr>\n",
       "    <tr>\n",
       "      <th>2024-11-18</th>\n",
       "      <td>4870.000000</td>\n",
       "      <td>NaN</td>\n",
       "      <td>NaN</td>\n",
       "    </tr>\n",
       "    <tr>\n",
       "      <th>2024-11-19</th>\n",
       "      <td>4850.000000</td>\n",
       "      <td>NaN</td>\n",
       "      <td>NaN</td>\n",
       "    </tr>\n",
       "    <tr>\n",
       "      <th>2024-11-20</th>\n",
       "      <td>4850.000000</td>\n",
       "      <td>NaN</td>\n",
       "      <td>NaN</td>\n",
       "    </tr>\n",
       "  </tbody>\n",
       "</table>\n",
       "<p>1194 rows × 3 columns</p>\n",
       "</div>"
      ],
      "text/plain": [
       "                  Close sentiment title\n",
       "date                                   \n",
       "2019-12-17  3331.536621       NaN   NaN\n",
       "2019-12-18  3385.620117       NaN   NaN\n",
       "2019-12-19  3385.620117       NaN   NaN\n",
       "2019-12-20  3374.803711       NaN   NaN\n",
       "2019-12-23  3428.886963       NaN   NaN\n",
       "...                 ...       ...   ...\n",
       "2024-11-14  4950.000000       NaN   NaN\n",
       "2024-11-15  4910.000000       NaN   NaN\n",
       "2024-11-18  4870.000000       NaN   NaN\n",
       "2024-11-19  4850.000000       NaN   NaN\n",
       "2024-11-20  4850.000000       NaN   NaN\n",
       "\n",
       "[1194 rows x 3 columns]"
      ]
     },
     "execution_count": 108,
     "metadata": {},
     "output_type": "execute_result"
    }
   ],
   "source": [
    "# Pastikan data terurut berdasarkan index\n",
    "news.index = news.index.normalize()\n",
    "\n",
    "# Merge DataFrame berdasarkan index\n",
    "dfMerge = dataUsed.merge(news, how='left', left_index=True, right_index=True)\n",
    "\n",
    "dfMerge"
   ]
  },
  {
   "cell_type": "code",
   "execution_count": 109,
   "metadata": {},
   "outputs": [
    {
     "data": {
      "text/html": [
       "<div>\n",
       "<style scoped>\n",
       "    .dataframe tbody tr th:only-of-type {\n",
       "        vertical-align: middle;\n",
       "    }\n",
       "\n",
       "    .dataframe tbody tr th {\n",
       "        vertical-align: top;\n",
       "    }\n",
       "\n",
       "    .dataframe thead th {\n",
       "        text-align: right;\n",
       "    }\n",
       "</style>\n",
       "<table border=\"1\" class=\"dataframe\">\n",
       "  <thead>\n",
       "    <tr style=\"text-align: right;\">\n",
       "      <th></th>\n",
       "      <th>sentiment</th>\n",
       "      <th>title</th>\n",
       "    </tr>\n",
       "    <tr>\n",
       "      <th>date</th>\n",
       "      <th></th>\n",
       "      <th></th>\n",
       "    </tr>\n",
       "  </thead>\n",
       "  <tbody>\n",
       "    <tr>\n",
       "      <th>2020-09-27</th>\n",
       "      <td>POSITIVE</td>\n",
       "      <td>Mau Cuan Minggu Depan? Cek Nih 6 Rekomendasi S...</td>\n",
       "    </tr>\n",
       "    <tr>\n",
       "      <th>2021-04-04</th>\n",
       "      <td>POSITIVE</td>\n",
       "      <td>Intip Laba Bersih 10 Bank Terbesar RI, Siapa T...</td>\n",
       "    </tr>\n",
       "    <tr>\n",
       "      <th>2021-04-25</th>\n",
       "      <td>NEGATIVE</td>\n",
       "      <td>AEON Mall Sentul City Dijual Rp 1,9 T, Buat Apa?</td>\n",
       "    </tr>\n",
       "    <tr>\n",
       "      <th>2021-10-17</th>\n",
       "      <td>POSITIVE</td>\n",
       "      <td>Asal Muasal Rumor BNI Akuisisi Bank</td>\n",
       "    </tr>\n",
       "    <tr>\n",
       "      <th>2021-10-31</th>\n",
       "      <td>POSITIVE</td>\n",
       "      <td>BNI Gandeng fishOn Dorong Ekspor Perikanan Mau...</td>\n",
       "    </tr>\n",
       "    <tr>\n",
       "      <th>2022-01-30</th>\n",
       "      <td>POSITIVE</td>\n",
       "      <td>Torehkan Kinerja Excellence, BNI Terus Didoron...</td>\n",
       "    </tr>\n",
       "    <tr>\n",
       "      <th>2022-04-16</th>\n",
       "      <td>POSITIVE</td>\n",
       "      <td>BNI Ekspansi Green Banking Korporasi Rp 6,1 Tr...</td>\n",
       "    </tr>\n",
       "    <tr>\n",
       "      <th>2022-05-04</th>\n",
       "      <td>POSITIVE</td>\n",
       "      <td>BNI Fasilitasi Kegiatan Ekspor-Impor 200.000 D...</td>\n",
       "    </tr>\n",
       "    <tr>\n",
       "      <th>2022-05-05</th>\n",
       "      <td>POSITIVE</td>\n",
       "      <td>Nasabah di Amerika Ungkap Dukungan BNI untuk U...</td>\n",
       "    </tr>\n",
       "    <tr>\n",
       "      <th>2022-05-08</th>\n",
       "      <td>NEGATIVE</td>\n",
       "      <td>BNI Sasar Downstream Sector</td>\n",
       "    </tr>\n",
       "    <tr>\n",
       "      <th>2022-05-22</th>\n",
       "      <td>POSITIVE</td>\n",
       "      <td>3 Strategi BNI Dorong Pertumbuhan KUR</td>\n",
       "    </tr>\n",
       "    <tr>\n",
       "      <th>2022-05-28</th>\n",
       "      <td>POSITIVE</td>\n",
       "      <td>Transaksi di BNI Java Jazz 2022 Makin Praktis ...</td>\n",
       "    </tr>\n",
       "    <tr>\n",
       "      <th>2022-06-01</th>\n",
       "      <td>POSITIVE</td>\n",
       "      <td>Naik 21,9%, Transaksi BNI Tembus Rp 5,7 M di J...</td>\n",
       "    </tr>\n",
       "    <tr>\n",
       "      <th>2022-06-18</th>\n",
       "      <td>POSITIVE</td>\n",
       "      <td>Pengguna BNI Mobile Banking Naik Signifikan, T...</td>\n",
       "    </tr>\n",
       "    <tr>\n",
       "      <th>2022-07-03</th>\n",
       "      <td>POSITIVE</td>\n",
       "      <td>Lebih Untung Diguyur Promo BNI HUT Ke-76</td>\n",
       "    </tr>\n",
       "    <tr>\n",
       "      <th>2022-07-31</th>\n",
       "      <td>POSITIVE</td>\n",
       "      <td>Cetak Laba Terbaik, Kinerja BNI Diapresiasi Er...</td>\n",
       "    </tr>\n",
       "    <tr>\n",
       "      <th>2022-10-09</th>\n",
       "      <td>POSITIVE</td>\n",
       "      <td>BNI Pacu Transaksi BNIDirect Lewat Inovasi Fit...</td>\n",
       "    </tr>\n",
       "    <tr>\n",
       "      <th>2022-12-18</th>\n",
       "      <td>POSITIVE</td>\n",
       "      <td>Strategi BNI Hadapi Tantangan Ekonomi Dunia di...</td>\n",
       "    </tr>\n",
       "    <tr>\n",
       "      <th>2023-02-11</th>\n",
       "      <td>POSITIVE</td>\n",
       "      <td>Dukung Sustainable Finance, Ini Jurus BNI Teka...</td>\n",
       "    </tr>\n",
       "    <tr>\n",
       "      <th>2023-04-02</th>\n",
       "      <td>POSITIVE</td>\n",
       "      <td>BNI Xpora Dinilai Jadi Terobosan Bagus di Mome...</td>\n",
       "    </tr>\n",
       "    <tr>\n",
       "      <th>2023-06-29</th>\n",
       "      <td>NEGATIVE</td>\n",
       "      <td>Idul Adha, BNI Salurkan 730 Hewan Kurban ke Be...</td>\n",
       "    </tr>\n",
       "    <tr>\n",
       "      <th>2023-09-30</th>\n",
       "      <td>POSITIVE</td>\n",
       "      <td>Saham BNI Cetak Rekor Tertinggi Sepanjang Masa...</td>\n",
       "    </tr>\n",
       "    <tr>\n",
       "      <th>2023-11-04</th>\n",
       "      <td>POSITIVE</td>\n",
       "      <td>Kinerja Pendapatan Optimal, BNI Optimistis Har...</td>\n",
       "    </tr>\n",
       "    <tr>\n",
       "      <th>2023-11-05</th>\n",
       "      <td>POSITIVE</td>\n",
       "      <td>Buktikan Kinerja Positif, BNI Bisa Raih Keperc...</td>\n",
       "    </tr>\n",
       "    <tr>\n",
       "      <th>2023-12-03</th>\n",
       "      <td>NEGATIVE</td>\n",
       "      <td>Emiten Saham di Lingkaran Capres-Cawapres, Ada...</td>\n",
       "    </tr>\n",
       "    <tr>\n",
       "      <th>2024-02-17</th>\n",
       "      <td>POSITIVE</td>\n",
       "      <td>Kinerja Saham BBNI Kian Melesat Tembus ATH, An...</td>\n",
       "    </tr>\n",
       "    <tr>\n",
       "      <th>2024-04-20</th>\n",
       "      <td>NEGATIVE</td>\n",
       "      <td>Konflik Israel-Iran Memanas, Ini Titah Erick T...</td>\n",
       "    </tr>\n",
       "    <tr>\n",
       "      <th>2024-08-03</th>\n",
       "      <td>POSITIVE</td>\n",
       "      <td>BNI Ajak Masyarakat Berinvestasi, Ada Hadiah 1...</td>\n",
       "    </tr>\n",
       "  </tbody>\n",
       "</table>\n",
       "</div>"
      ],
      "text/plain": [
       "           sentiment                                              title\n",
       "date                                                                   \n",
       "2020-09-27  POSITIVE  Mau Cuan Minggu Depan? Cek Nih 6 Rekomendasi S...\n",
       "2021-04-04  POSITIVE  Intip Laba Bersih 10 Bank Terbesar RI, Siapa T...\n",
       "2021-04-25  NEGATIVE   AEON Mall Sentul City Dijual Rp 1,9 T, Buat Apa?\n",
       "2021-10-17  POSITIVE                Asal Muasal Rumor BNI Akuisisi Bank\n",
       "2021-10-31  POSITIVE  BNI Gandeng fishOn Dorong Ekspor Perikanan Mau...\n",
       "2022-01-30  POSITIVE  Torehkan Kinerja Excellence, BNI Terus Didoron...\n",
       "2022-04-16  POSITIVE  BNI Ekspansi Green Banking Korporasi Rp 6,1 Tr...\n",
       "2022-05-04  POSITIVE  BNI Fasilitasi Kegiatan Ekspor-Impor 200.000 D...\n",
       "2022-05-05  POSITIVE  Nasabah di Amerika Ungkap Dukungan BNI untuk U...\n",
       "2022-05-08  NEGATIVE                        BNI Sasar Downstream Sector\n",
       "2022-05-22  POSITIVE              3 Strategi BNI Dorong Pertumbuhan KUR\n",
       "2022-05-28  POSITIVE  Transaksi di BNI Java Jazz 2022 Makin Praktis ...\n",
       "2022-06-01  POSITIVE  Naik 21,9%, Transaksi BNI Tembus Rp 5,7 M di J...\n",
       "2022-06-18  POSITIVE  Pengguna BNI Mobile Banking Naik Signifikan, T...\n",
       "2022-07-03  POSITIVE           Lebih Untung Diguyur Promo BNI HUT Ke-76\n",
       "2022-07-31  POSITIVE  Cetak Laba Terbaik, Kinerja BNI Diapresiasi Er...\n",
       "2022-10-09  POSITIVE  BNI Pacu Transaksi BNIDirect Lewat Inovasi Fit...\n",
       "2022-12-18  POSITIVE  Strategi BNI Hadapi Tantangan Ekonomi Dunia di...\n",
       "2023-02-11  POSITIVE  Dukung Sustainable Finance, Ini Jurus BNI Teka...\n",
       "2023-04-02  POSITIVE  BNI Xpora Dinilai Jadi Terobosan Bagus di Mome...\n",
       "2023-06-29  NEGATIVE  Idul Adha, BNI Salurkan 730 Hewan Kurban ke Be...\n",
       "2023-09-30  POSITIVE  Saham BNI Cetak Rekor Tertinggi Sepanjang Masa...\n",
       "2023-11-04  POSITIVE  Kinerja Pendapatan Optimal, BNI Optimistis Har...\n",
       "2023-11-05  POSITIVE  Buktikan Kinerja Positif, BNI Bisa Raih Keperc...\n",
       "2023-12-03  NEGATIVE  Emiten Saham di Lingkaran Capres-Cawapres, Ada...\n",
       "2024-02-17  POSITIVE  Kinerja Saham BBNI Kian Melesat Tembus ATH, An...\n",
       "2024-04-20  NEGATIVE  Konflik Israel-Iran Memanas, Ini Titah Erick T...\n",
       "2024-08-03  POSITIVE  BNI Ajak Masyarakat Berinvestasi, Ada Hadiah 1..."
      ]
     },
     "execution_count": 109,
     "metadata": {},
     "output_type": "execute_result"
    }
   ],
   "source": [
    "# cari data title yang ada di news dan tidak ada di dfMerge\n",
    "\n",
    "news[~news.index.isin(dfMerge.index)]\n",
    "\n",
    "# cari tanggal terdekat yang ada di dfMerge berdasar data yang ada di news dan tidak ada di dfMerge"
   ]
  },
  {
   "cell_type": "code",
   "execution_count": 110,
   "metadata": {},
   "outputs": [
    {
     "name": "stdout",
     "output_type": "stream",
     "text": [
      "                  Close sentiment title\n",
      "2019-12-17  3331.536621       NaN   NaN\n",
      "2019-12-18  3385.620117       NaN   NaN\n",
      "2019-12-19  3385.620117       NaN   NaN\n",
      "2019-12-20  3374.803711       NaN   NaN\n",
      "2019-12-23  3428.886963       NaN   NaN\n",
      "...                 ...       ...   ...\n",
      "2024-11-14  4950.000000       NaN   NaN\n",
      "2024-11-15  4910.000000       NaN   NaN\n",
      "2024-11-18  4870.000000       NaN   NaN\n",
      "2024-11-19  4850.000000       NaN   NaN\n",
      "2024-11-20  4850.000000       NaN   NaN\n",
      "\n",
      "[1201 rows x 3 columns]\n"
     ]
    },
    {
     "data": {
      "text/plain": [
       "sentiment\n",
       "POSITIVE    149\n",
       "NEGATIVE     51\n",
       "Name: count, dtype: int64"
      ]
     },
     "execution_count": 110,
     "metadata": {},
     "output_type": "execute_result"
    }
   ],
   "source": [
    "# Pastikan data terurut berdasarkan index\n",
    "dataUsed = dataUsed.sort_index()\n",
    "news = news.sort_index()\n",
    "\n",
    "# Buat kolom tambahan untuk mencatat tanggal pertama di dataUsed setelah berita\n",
    "news['nearest_date'] = dataUsed.index.searchsorted(news.index, side='right')\n",
    "news['nearest_date'] = news['nearest_date'].map(lambda x: dataUsed.index[x] if x < len(dataUsed.index) else None)\n",
    "\n",
    "# Gabungkan dataUsed dengan berita berdasarkan nearest_date\n",
    "news_mapped = news.dropna(subset=['nearest_date']).set_index('nearest_date')\n",
    "dfMerge = dataUsed.merge(news_mapped, how='left', left_index=True, right_index=True)\n",
    "\n",
    "# Tampilkan hasil\n",
    "print(dfMerge)\n",
    "dfMerge['sentiment'].value_counts()\n"
   ]
  },
  {
   "cell_type": "code",
   "execution_count": 111,
   "metadata": {},
   "outputs": [
    {
     "name": "stdout",
     "output_type": "stream",
     "text": [
      "Empty DataFrame\n",
      "Columns: [sentiment, title, nearest_date]\n",
      "Index: []\n"
     ]
    },
    {
     "data": {
      "text/plain": [
       "sentiment\n",
       "POSITIVE    149\n",
       "NEGATIVE     51\n",
       "Name: count, dtype: int64"
      ]
     },
     "execution_count": 111,
     "metadata": {},
     "output_type": "execute_result"
    }
   ],
   "source": [
    "# Pastikan kolom 'title' di dfMerge tidak memiliki NaN untuk perbandingan\n",
    "dfMerge_titles = dfMerge['title'].dropna()\n",
    "\n",
    "# Filter berita di news yang tidak ada di dfMerge berdasarkan 'title'\n",
    "missing_news = news[~news['title'].isin(dfMerge_titles)]\n",
    "\n",
    "# Tampilkan hasil\n",
    "print(missing_news)\n",
    "\n",
    "dfMerge['sentiment'].value_counts()\n"
   ]
  },
  {
   "cell_type": "code",
   "execution_count": 112,
   "metadata": {},
   "outputs": [
    {
     "name": "stdout",
     "output_type": "stream",
     "text": [
      "[nan 'POSITIVE' 'NEGATIVE']\n",
      "[ 0.  1. -1.]\n"
     ]
    },
    {
     "data": {
      "text/plain": [
       "sentiment\n",
       " 0.0    1001\n",
       " 1.0     149\n",
       "-1.0      51\n",
       "Name: count, dtype: int64"
      ]
     },
     "execution_count": 112,
     "metadata": {},
     "output_type": "execute_result"
    }
   ],
   "source": [
    "print(dfMerge['sentiment'].unique())\n",
    "\n",
    "dfMerge['sentiment'] = dfMerge['sentiment'].map({'POSITIVE': 1, 'NEGATIVE': -1}).fillna(0)\n",
    "\n",
    "print(dfMerge['sentiment'].unique())\n",
    "\n",
    "dfMerge['sentiment'].value_counts()"
   ]
  },
  {
   "cell_type": "code",
   "execution_count": 113,
   "metadata": {},
   "outputs": [
    {
     "data": {
      "text/plain": [
       "array([[0.42342612, 0.5       ],\n",
       "       [0.43533507, 0.5       ],\n",
       "       [0.43533507, 0.5       ],\n",
       "       ...,\n",
       "       [0.76218885, 0.5       ],\n",
       "       [0.75778494, 0.5       ],\n",
       "       [0.75778494, 0.5       ]])"
      ]
     },
     "execution_count": 113,
     "metadata": {},
     "output_type": "execute_result"
    }
   ],
   "source": [
    "# Contoh data sentimen\n",
    "sentiment_data = dfMerge.filter(['sentiment']).values  # Pastikan ada kolom 'Sentiment'\n",
    "\n",
    "# Normalisasi data sentimen\n",
    "scaled_sentiment = scaler.fit_transform(sentiment_data)\n",
    "\n",
    "scaled_data = dfMerge.filter(['Close']).values\n",
    "\n",
    "# Normalisasi data harga\n",
    "scaled_data = scaler.fit_transform(scaled_data)\n",
    "\n",
    "# Gabungkan harga (Close) dan sentimen\n",
    "scaled_combined_data = np.hstack((scaled_data, scaled_sentiment))\n",
    "\n",
    "scaled_combined_data\n"
   ]
  },
  {
   "cell_type": "code",
   "execution_count": 114,
   "metadata": {},
   "outputs": [
    {
     "name": "stdout",
     "output_type": "stream",
     "text": [
      "x_train shape: (896, 60, 2)\n"
     ]
    }
   ],
   "source": [
    "train_data = scaled_combined_data[0:int(training_data_len), :]\n",
    "\n",
    "x_train = []\n",
    "y_train = []\n",
    "\n",
    "for i in range(60, len(train_data)):\n",
    "    x_train.append(train_data[i-60:i, :])  # Tambahkan semua fitur\n",
    "    y_train.append(train_data[i, 0])  # Target tetap 'Close'\n",
    "\n",
    "x_train, y_train = np.array(x_train), np.array(y_train)\n",
    "\n",
    "print(f\"x_train shape: {x_train.shape}\")  # Periksa shape-nya\n",
    "# Reshape input ke bentuk yang dimengerti oleh LSTM\n",
    "# Sekarang menjadi (samples, timesteps, features)\n"
   ]
  },
  {
   "cell_type": "code",
   "execution_count": 115,
   "metadata": {},
   "outputs": [
    {
     "name": "stdout",
     "output_type": "stream",
     "text": [
      "Epoch 1/30\n",
      "180/180 [==============================] - 8s 24ms/step - loss: 0.0064\n",
      "Epoch 2/30\n",
      "180/180 [==============================] - 5s 29ms/step - loss: 0.0011\n",
      "Epoch 3/30\n",
      "180/180 [==============================] - 6s 33ms/step - loss: 9.1981e-04\n",
      "Epoch 4/30\n",
      "180/180 [==============================] - 5s 27ms/step - loss: 9.3690e-04\n",
      "Epoch 5/30\n",
      "180/180 [==============================] - 4s 23ms/step - loss: 7.0334e-04\n",
      "Epoch 6/30\n",
      "180/180 [==============================] - 4s 21ms/step - loss: 6.7629e-04\n",
      "Epoch 7/30\n",
      "180/180 [==============================] - 4s 22ms/step - loss: 6.3886e-04\n",
      "Epoch 8/30\n",
      "180/180 [==============================] - 4s 24ms/step - loss: 4.3468e-04\n",
      "Epoch 9/30\n",
      "180/180 [==============================] - 5s 30ms/step - loss: 4.0153e-04\n",
      "Epoch 10/30\n",
      "180/180 [==============================] - 5s 26ms/step - loss: 4.3156e-04\n",
      "Epoch 11/30\n",
      "180/180 [==============================] - 4s 22ms/step - loss: 4.6595e-04\n",
      "Epoch 12/30\n",
      "180/180 [==============================] - 4s 22ms/step - loss: 4.4222e-04\n",
      "Epoch 13/30\n",
      "180/180 [==============================] - 4s 22ms/step - loss: 3.5968e-04\n",
      "Epoch 14/30\n",
      "180/180 [==============================] - 4s 20ms/step - loss: 4.9970e-04\n",
      "Epoch 15/30\n",
      "180/180 [==============================] - 3s 19ms/step - loss: 4.5209e-04\n",
      "Epoch 16/30\n",
      "180/180 [==============================] - 5s 28ms/step - loss: 4.5073e-04\n",
      "Epoch 17/30\n",
      "180/180 [==============================] - 7s 41ms/step - loss: 3.3854e-04\n",
      "Epoch 18/30\n",
      "180/180 [==============================] - 7s 41ms/step - loss: 3.5899e-04\n",
      "Epoch 19/30\n",
      "180/180 [==============================] - 7s 41ms/step - loss: 3.4662e-04\n",
      "Epoch 20/30\n",
      "180/180 [==============================] - 7s 40ms/step - loss: 3.0862e-04\n",
      "Epoch 21/30\n",
      "180/180 [==============================] - 7s 40ms/step - loss: 2.8194e-04\n",
      "Epoch 22/30\n",
      "180/180 [==============================] - 7s 41ms/step - loss: 2.8196e-04\n",
      "Epoch 23/30\n",
      "180/180 [==============================] - 7s 41ms/step - loss: 3.3891e-04\n",
      "Epoch 24/30\n",
      "180/180 [==============================] - 7s 40ms/step - loss: 2.8402e-04\n",
      "Epoch 25/30\n",
      "180/180 [==============================] - 7s 41ms/step - loss: 2.8419e-04\n",
      "Epoch 26/30\n",
      "180/180 [==============================] - 7s 39ms/step - loss: 3.0617e-04\n",
      "Epoch 27/30\n",
      "180/180 [==============================] - 7s 40ms/step - loss: 3.7409e-04\n",
      "Epoch 28/30\n",
      "180/180 [==============================] - 7s 41ms/step - loss: 2.6773e-04\n",
      "Epoch 29/30\n",
      "180/180 [==============================] - 7s 41ms/step - loss: 2.6923e-04\n",
      "Epoch 30/30\n",
      "180/180 [==============================] - 7s 40ms/step - loss: 2.8808e-04\n"
     ]
    },
    {
     "data": {
      "text/plain": [
       "<keras.src.callbacks.History at 0x1978e97c520>"
      ]
     },
     "execution_count": 115,
     "metadata": {},
     "output_type": "execute_result"
    }
   ],
   "source": [
    "model = Sequential()\n",
    "model.add(LSTM(128, return_sequences=True, input_shape=(x_train.shape[1], x_train.shape[2])))  # Sesuaikan fitur\n",
    "model.add(LSTM(64, return_sequences=False))\n",
    "model.add(Dense(25))\n",
    "model.add(Dense(1))\n",
    "\n",
    "model.compile(optimizer='adam', loss='mean_squared_error')\n",
    "model.fit(x_train, y_train, batch_size=5, epochs=30)\n"
   ]
  },
  {
   "cell_type": "code",
   "execution_count": 116,
   "metadata": {},
   "outputs": [
    {
     "name": "stdout",
     "output_type": "stream",
     "text": [
      "8/8 [==============================] - 1s 37ms/step\n"
     ]
    }
   ],
   "source": [
    "test_data = scaled_combined_data[training_data_len - 60:, :]\n",
    "\n",
    "x_test = []\n",
    "y_test = dataset[training_data_len:, :]\n",
    "for i in range(60, len(test_data)):\n",
    "    x_test.append(test_data[i-60:i, :])  # Tambahkan semua fitur\n",
    "\n",
    "x_test = np.array(x_test)\n",
    "\n",
    "# Reshape data uji\n",
    "x_test = np.reshape(x_test, (x_test.shape[0], x_test.shape[1], x_test.shape[2]))\n",
    "\n",
    "predictions = model.predict(x_test)\n",
    "predictions = scaler.inverse_transform(predictions)\n"
   ]
  },
  {
   "cell_type": "code",
   "execution_count": 117,
   "metadata": {},
   "outputs": [
    {
     "name": "stdout",
     "output_type": "stream",
     "text": [
      "RMSE:  103.88639332565872\n",
      "MAE:  92.60830201221114\n"
     ]
    }
   ],
   "source": [
    "from sklearn.metrics import mean_squared_error, mean_absolute_error\n",
    "\n",
    "# jumlah data prediction - jumlah data y_test\n",
    "start = len(predictions) - len(y_test)\n",
    "\n",
    "predictions = predictions[start:]\n",
    "\n",
    "# Hitung metrik evaluasi\n",
    "rmse = np.sqrt(mean_squared_error(y_test, predictions))\n",
    "mae = mean_absolute_error(y_test, predictions)\n",
    "\n",
    "print(\"RMSE: \", rmse)\n",
    "print(\"MAE: \", mae)\n"
   ]
  },
  {
   "cell_type": "code",
   "execution_count": 118,
   "metadata": {},
   "outputs": [
    {
     "name": "stderr",
     "output_type": "stream",
     "text": [
      "C:\\Users\\thari\\AppData\\Local\\Temp\\ipykernel_20912\\3756074682.py:3: SettingWithCopyWarning:\n",
      "\n",
      "\n",
      "A value is trying to be set on a copy of a slice from a DataFrame.\n",
      "Try using .loc[row_indexer,col_indexer] = value instead\n",
      "\n",
      "See the caveats in the documentation: https://pandas.pydata.org/pandas-docs/stable/user_guide/indexing.html#returning-a-view-versus-a-copy\n",
      "\n"
     ]
    },
    {
     "data": {
      "image/png": "[encoded data removed]",
      "text/plain": [
       "<Figure size 1600x800 with 1 Axes>"
      ]
     },
     "metadata": {},
     "output_type": "display_data"
    }
   ],
   "source": [
    "train = data[:training_data_len]\n",
    "valid = data[training_data_len:]\n",
    "valid['Predictions'] = predictions\n",
    "\n",
    "plt.figure(figsize=(16,8))\n",
    "plt.title('Model')\n",
    "plt.xlabel('Date')\n",
    "plt.ylabel('Close Price USD ($)')\n",
    "plt.plot(train['Close'])\n",
    "plt.plot(valid[['Close', 'Predictions']])\n",
    "plt.legend(['Train', 'Val', 'Predictions'], loc='lower right')\n",
    "plt.show()"
   ]
  },
  {
   "cell_type": "code",
   "execution_count": 119,
   "metadata": {},
   "outputs": [
    {
     "data": {
      "application/vnd.plotly.v1+json": {
       "config": {
        "plotlyServerURL": "https://plot.ly"
       },
       "data": [
        {
         "mode": "lines",
         "name": "Val",
         "type": "scatter",
         "x": [
          "2023-11-22T00:00:00",
          "2023-11-23T00:00:00",
          "2023-11-24T00:00:00",
          "2023-11-27T00:00:00",
          "2023-11-28T00:00:00",
          "2023-11-29T00:00:00",
          "2023-11-30T00:00:00",
          "2023-12-01T00:00:00",
          "2023-12-04T00:00:00",
          "2023-12-05T00:00:00",
          "2023-12-06T00:00:00",
          "2023-12-07T00:00:00",
          "2023-12-08T00:00:00",
          "2023-12-11T00:00:00",
          "2023-12-12T00:00:00",
          "2023-12-13T00:00:00",
          "2023-12-14T00:00:00",
          "2023-12-15T00:00:00",
          "2023-12-18T00:00:00",
          "2023-12-19T00:00:00",
          "2023-12-20T00:00:00",
          "2023-12-21T00:00:00",
          "2023-12-22T00:00:00",
          "2023-12-27T00:00:00",
          "2023-12-28T00:00:00",
          "2023-12-29T00:00:00",
          "2024-01-02T00:00:00",
          "2024-01-03T00:00:00",
          "2024-01-04T00:00:00",
          "2024-01-05T00:00:00",
          "2024-01-08T00:00:00",
          "2024-01-09T00:00:00",
          "2024-01-10T00:00:00",
          "2024-01-11T00:00:00",
          "2024-01-12T00:00:00",
          "2024-01-15T00:00:00",
          "2024-01-16T00:00:00",
          "2024-01-17T00:00:00",
          "2024-01-18T00:00:00",
          "2024-01-19T00:00:00",
          "2024-01-22T00:00:00",
          "2024-01-23T00:00:00",
          "2024-01-24T00:00:00",
          "2024-01-25T00:00:00",
          "2024-01-26T00:00:00",
          "2024-01-29T00:00:00",
          "2024-01-30T00:00:00",
          "2024-01-31T00:00:00",
          "2024-02-01T00:00:00",
          "2024-02-02T00:00:00",
          "2024-02-05T00:00:00",
          "2024-02-06T00:00:00",
          "2024-02-07T00:00:00",
          "2024-02-12T00:00:00",
          "2024-02-13T00:00:00",
          "2024-02-15T00:00:00",
          "2024-02-16T00:00:00",
          "2024-02-19T00:00:00",
          "2024-02-20T00:00:00",
          "2024-02-21T00:00:00",
          "2024-02-22T00:00:00",
          "2024-02-23T00:00:00",
          "2024-02-26T00:00:00",
          "2024-02-27T00:00:00",
          "2024-02-28T00:00:00",
          "2024-02-29T00:00:00",
          "2024-03-01T00:00:00",
          "2024-03-04T00:00:00",
          "2024-03-05T00:00:00",
          "2024-03-06T00:00:00",
          "2024-03-07T00:00:00",
          "2024-03-08T00:00:00",
          "2024-03-13T00:00:00",
          "2024-03-14T00:00:00",
          "2024-03-15T00:00:00",
          "2024-03-18T00:00:00",
          "2024-03-19T00:00:00",
          "2024-03-20T00:00:00",
          "2024-03-21T00:00:00",
          "2024-03-22T00:00:00",
          "2024-03-25T00:00:00",
          "2024-03-26T00:00:00",
          "2024-03-27T00:00:00",
          "2024-03-28T00:00:00",
          "2024-04-01T00:00:00",
          "2024-04-02T00:00:00",
          "2024-04-03T00:00:00",
          "2024-04-04T00:00:00",
          "2024-04-05T00:00:00",
          "2024-04-16T00:00:00",
          "2024-04-17T00:00:00",
          "2024-04-18T00:00:00",
          "2024-04-19T00:00:00",
          "2024-04-22T00:00:00",
          "2024-04-23T00:00:00",
          "2024-04-24T00:00:00",
          "2024-04-25T00:00:00",
          "2024-04-26T00:00:00",
          "2024-04-29T00:00:00",
          "2024-04-30T00:00:00",
          "2024-05-02T00:00:00",
          "2024-05-03T00:00:00",
          "2024-05-06T00:00:00",
          "2024-05-07T00:00:00",
          "2024-05-08T00:00:00",
          "2024-05-13T00:00:00",
          "2024-05-14T00:00:00",
          "2024-05-15T00:00:00",
          "2024-05-16T00:00:00",
          "2024-05-17T00:00:00",
          "2024-05-20T00:00:00",
          "2024-05-21T00:00:00",
          "2024-05-22T00:00:00",
          "2024-05-27T00:00:00",
          "2024-05-28T00:00:00",
          "2024-05-29T00:00:00",
          "2024-05-30T00:00:00",
          "2024-05-31T00:00:00",
          "2024-06-03T00:00:00",
          "2024-06-04T00:00:00",
          "2024-06-05T00:00:00",
          "2024-06-06T00:00:00",
          "2024-06-07T00:00:00",
          "2024-06-10T00:00:00",
          "2024-06-11T00:00:00",
          "2024-06-12T00:00:00",
          "2024-06-13T00:00:00",
          "2024-06-14T00:00:00",
          "2024-06-19T00:00:00",
          "2024-06-20T00:00:00",
          "2024-06-21T00:00:00",
          "2024-06-24T00:00:00",
          "2024-06-25T00:00:00",
          "2024-06-26T00:00:00",
          "2024-06-27T00:00:00",
          "2024-06-28T00:00:00",
          "2024-07-01T00:00:00",
          "2024-07-02T00:00:00",
          "2024-07-03T00:00:00",
          "2024-07-04T00:00:00",
          "2024-07-05T00:00:00",
          "2024-07-08T00:00:00",
          "2024-07-09T00:00:00",
          "2024-07-10T00:00:00",
          "2024-07-11T00:00:00",
          "2024-07-12T00:00:00",
          "2024-07-15T00:00:00",
          "2024-07-16T00:00:00",
          "2024-07-17T00:00:00",
          "2024-07-18T00:00:00",
          "2024-07-19T00:00:00",
          "2024-07-22T00:00:00",
          "2024-07-23T00:00:00",
          "2024-07-24T00:00:00",
          "2024-07-25T00:00:00",
          "2024-07-26T00:00:00",
          "2024-07-29T00:00:00",
          "2024-07-30T00:00:00",
          "2024-07-31T00:00:00",
          "2024-08-01T00:00:00",
          "2024-08-02T00:00:00",
          "2024-08-05T00:00:00",
          "2024-08-06T00:00:00",
          "2024-08-07T00:00:00",
          "2024-08-08T00:00:00",
          "2024-08-09T00:00:00",
          "2024-08-12T00:00:00",
          "2024-08-13T00:00:00",
          "2024-08-14T00:00:00",
          "2024-08-15T00:00:00",
          "2024-08-16T00:00:00",
          "2024-08-19T00:00:00",
          "2024-08-20T00:00:00",
          "2024-08-21T00:00:00",
          "2024-08-22T00:00:00",
          "2024-08-23T00:00:00",
          "2024-08-26T00:00:00",
          "2024-08-27T00:00:00",
          "2024-08-28T00:00:00",
          "2024-08-29T00:00:00",
          "2024-08-30T00:00:00",
          "2024-09-02T00:00:00",
          "2024-09-03T00:00:00",
          "2024-09-04T00:00:00",
          "2024-09-05T00:00:00",
          "2024-09-06T00:00:00",
          "2024-09-09T00:00:00",
          "2024-09-10T00:00:00",
          "2024-09-11T00:00:00",
          "2024-09-12T00:00:00",
          "2024-09-13T00:00:00",
          "2024-09-17T00:00:00",
          "2024-09-18T00:00:00",
          "2024-09-19T00:00:00",
          "2024-09-20T00:00:00",
          "2024-09-23T00:00:00",
          "2024-09-24T00:00:00",
          "2024-09-25T00:00:00",
          "2024-09-26T00:00:00",
          "2024-09-27T00:00:00",
          "2024-09-30T00:00:00",
          "2024-10-01T00:00:00",
          "2024-10-02T00:00:00",
          "2024-10-03T00:00:00",
          "2024-10-04T00:00:00",
          "2024-10-07T00:00:00",
          "2024-10-08T00:00:00",
          "2024-10-09T00:00:00",
          "2024-10-10T00:00:00",
          "2024-10-11T00:00:00",
          "2024-10-14T00:00:00",
          "2024-10-15T00:00:00",
          "2024-10-16T00:00:00",
          "2024-10-17T00:00:00",
          "2024-10-18T00:00:00",
          "2024-10-21T00:00:00",
          "2024-10-22T00:00:00",
          "2024-10-23T00:00:00",
          "2024-10-24T00:00:00",
          "2024-10-25T00:00:00",
          "2024-10-28T00:00:00",
          "2024-10-29T00:00:00",
          "2024-10-30T00:00:00",
          "2024-10-31T00:00:00",
          "2024-11-01T00:00:00",
          "2024-11-04T00:00:00",
          "2024-11-05T00:00:00",
          "2024-11-06T00:00:00",
          "2024-11-07T00:00:00",
          "2024-11-08T00:00:00",
          "2024-11-11T00:00:00",
          "2024-11-12T00:00:00",
          "2024-11-13T00:00:00",
          "2024-11-14T00:00:00",
          "2024-11-15T00:00:00",
          "2024-11-18T00:00:00",
          "2024-11-19T00:00:00",
          "2024-11-20T00:00:00"
         ],
         "y": [
          4843.5341796875,
          4915.11376953125,
          4962.8330078125,
          5034.41259765625,
          4938.9736328125,
          4986.69287109375,
          5034.41259765625,
          5010.552734375,
          5058.2724609375,
          5058.2724609375,
          4986.69287109375,
          5034.41259765625,
          4843.5341796875,
          4938.9736328125,
          5034.41259765625,
          4938.9736328125,
          5105.99169921875,
          5034.41259765625,
          4962.8330078125,
          4962.8330078125,
          4962.8330078125,
          4915.11376953125,
          5010.552734375,
          5034.41259765625,
          5105.99169921875,
          5129.8515625,
          5129.8515625,
          5105.99169921875,
          5344.58984375,
          5320.72998046875,
          5320.72998046875,
          5392.30908203125,
          5344.58984375,
          5344.58984375,
          5344.58984375,
          5368.44921875,
          5344.58984375,
          5296.8701171875,
          5296.8701171875,
          5249.150390625,
          5273.01025390625,
          5177.5712890625,
          5225.29052734375,
          5153.71142578125,
          5177.5712890625,
          5320.72998046875,
          5392.30908203125,
          5487.748046875,
          5463.888671875,
          5511.60791015625,
          5487.748046875,
          5511.60791015625,
          5487.748046875,
          5678.62646484375,
          5607.04736328125,
          5726.34619140625,
          5726.34619140625,
          5607.04736328125,
          5750.20556640625,
          5726.34619140625,
          5678.62646484375,
          5630.90673828125,
          5630.90673828125,
          5726.34619140625,
          5702.486328125,
          5726.34619140625,
          5630.90673828125,
          5607.04736328125,
          5630.90673828125,
          5678.62646484375,
          5702.486328125,
          5821.78515625,
          5941.083984375,
          5869.5048828125,
          5800,
          5800,
          5850,
          5875,
          5800,
          5850,
          5925,
          5950,
          5925,
          5900,
          5650,
          5475,
          5325,
          5350,
          5300,
          5200,
          5250,
          5300,
          5225,
          5350,
          5250,
          5300,
          5300,
          5150,
          5225,
          5250,
          4830,
          4830,
          4810,
          4700,
          4670,
          4780,
          4930,
          5025,
          5200,
          5175,
          4980,
          4770,
          4760,
          4670,
          4710,
          4530,
          4490,
          4400,
          4620,
          4640,
          4610,
          4770,
          4700,
          4610,
          4480,
          4430,
          4480,
          4310,
          4300,
          4400,
          4540,
          4540,
          4480,
          4420,
          4580,
          4660,
          4710,
          4710,
          4650,
          4710,
          4700,
          4670,
          4860,
          4820,
          4870,
          5025,
          5025,
          4980,
          5000,
          5075,
          5100,
          5100,
          5050,
          5100,
          5025,
          5000,
          5025,
          4950,
          4970,
          5075,
          5100,
          4960,
          5025,
          5000,
          5025,
          5125,
          5125,
          5175,
          5275,
          5250,
          5300,
          5350,
          5475,
          5450,
          5275,
          5450,
          5525,
          5400,
          5375,
          5300,
          5350,
          5350,
          5375,
          5350,
          5450,
          5650,
          5725,
          5700,
          5650,
          5600,
          5625,
          5650,
          5700,
          5825,
          5750,
          5800,
          5800,
          5600,
          5600,
          5450,
          5350,
          5375,
          5350,
          5375,
          5325,
          5200,
          5350,
          5325,
          5325,
          5375,
          5425,
          5500,
          5475,
          5500,
          5650,
          5625,
          5650,
          5675,
          5625,
          5650,
          5500,
          5300,
          5225,
          5250,
          5200,
          5300,
          5400,
          5125,
          5025,
          4980,
          4990,
          4930,
          4960,
          4950,
          4910,
          4870,
          4850,
          4850
         ]
        },
        {
         "mode": "lines",
         "name": "Predictions",
         "type": "scatter",
         "x": [
          "2023-11-22T00:00:00",
          "2023-11-23T00:00:00",
          "2023-11-24T00:00:00",
          "2023-11-27T00:00:00",
          "2023-11-28T00:00:00",
          "2023-11-29T00:00:00",
          "2023-11-30T00:00:00",
          "2023-12-01T00:00:00",
          "2023-12-04T00:00:00",
          "2023-12-05T00:00:00",
          "2023-12-06T00:00:00",
          "2023-12-07T00:00:00",
          "2023-12-08T00:00:00",
          "2023-12-11T00:00:00",
          "2023-12-12T00:00:00",
          "2023-12-13T00:00:00",
          "2023-12-14T00:00:00",
          "2023-12-15T00:00:00",
          "2023-12-18T00:00:00",
          "2023-12-19T00:00:00",
          "2023-12-20T00:00:00",
          "2023-12-21T00:00:00",
          "2023-12-22T00:00:00",
          "2023-12-27T00:00:00",
          "2023-12-28T00:00:00",
          "2023-12-29T00:00:00",
          "2024-01-02T00:00:00",
          "2024-01-03T00:00:00",
          "2024-01-04T00:00:00",
          "2024-01-05T00:00:00",
          "2024-01-08T00:00:00",
          "2024-01-09T00:00:00",
          "2024-01-10T00:00:00",
          "2024-01-11T00:00:00",
          "2024-01-12T00:00:00",
          "2024-01-15T00:00:00",
          "2024-01-16T00:00:00",
          "2024-01-17T00:00:00",
          "2024-01-18T00:00:00",
          "2024-01-19T00:00:00",
          "2024-01-22T00:00:00",
          "2024-01-23T00:00:00",
          "2024-01-24T00:00:00",
          "2024-01-25T00:00:00",
          "2024-01-26T00:00:00",
          "2024-01-29T00:00:00",
          "2024-01-30T00:00:00",
          "2024-01-31T00:00:00",
          "2024-02-01T00:00:00",
          "2024-02-02T00:00:00",
          "2024-02-05T00:00:00",
          "2024-02-06T00:00:00",
          "2024-02-07T00:00:00",
          "2024-02-12T00:00:00",
          "2024-02-13T00:00:00",
          "2024-02-15T00:00:00",
          "2024-02-16T00:00:00",
          "2024-02-19T00:00:00",
          "2024-02-20T00:00:00",
          "2024-02-21T00:00:00",
          "2024-02-22T00:00:00",
          "2024-02-23T00:00:00",
          "2024-02-26T00:00:00",
          "2024-02-27T00:00:00",
          "2024-02-28T00:00:00",
          "2024-02-29T00:00:00",
          "2024-03-01T00:00:00",
          "2024-03-04T00:00:00",
          "2024-03-05T00:00:00",
          "2024-03-06T00:00:00",
          "2024-03-07T00:00:00",
          "2024-03-08T00:00:00",
          "2024-03-13T00:00:00",
          "2024-03-14T00:00:00",
          "2024-03-15T00:00:00",
          "2024-03-18T00:00:00",
          "2024-03-19T00:00:00",
          "2024-03-20T00:00:00",
          "2024-03-21T00:00:00",
          "2024-03-22T00:00:00",
          "2024-03-25T00:00:00",
          "2024-03-26T00:00:00",
          "2024-03-27T00:00:00",
          "2024-03-28T00:00:00",
          "2024-04-01T00:00:00",
          "2024-04-02T00:00:00",
          "2024-04-03T00:00:00",
          "2024-04-04T00:00:00",
          "2024-04-05T00:00:00",
          "2024-04-16T00:00:00",
          "2024-04-17T00:00:00",
          "2024-04-18T00:00:00",
          "2024-04-19T00:00:00",
          "2024-04-22T00:00:00",
          "2024-04-23T00:00:00",
          "2024-04-24T00:00:00",
          "2024-04-25T00:00:00",
          "2024-04-26T00:00:00",
          "2024-04-29T00:00:00",
          "2024-04-30T00:00:00",
          "2024-05-02T00:00:00",
          "2024-05-03T00:00:00",
          "2024-05-06T00:00:00",
          "2024-05-07T00:00:00",
          "2024-05-08T00:00:00",
          "2024-05-13T00:00:00",
          "2024-05-14T00:00:00",
          "2024-05-15T00:00:00",
          "2024-05-16T00:00:00",
          "2024-05-17T00:00:00",
          "2024-05-20T00:00:00",
          "2024-05-21T00:00:00",
          "2024-05-22T00:00:00",
          "2024-05-27T00:00:00",
          "2024-05-28T00:00:00",
          "2024-05-29T00:00:00",
          "2024-05-30T00:00:00",
          "2024-05-31T00:00:00",
          "2024-06-03T00:00:00",
          "2024-06-04T00:00:00",
          "2024-06-05T00:00:00",
          "2024-06-06T00:00:00",
          "2024-06-07T00:00:00",
          "2024-06-10T00:00:00",
          "2024-06-11T00:00:00",
          "2024-06-12T00:00:00",
          "2024-06-13T00:00:00",
          "2024-06-14T00:00:00",
          "2024-06-19T00:00:00",
          "2024-06-20T00:00:00",
          "2024-06-21T00:00:00",
          "2024-06-24T00:00:00",
          "2024-06-25T00:00:00",
          "2024-06-26T00:00:00",
          "2024-06-27T00:00:00",
          "2024-06-28T00:00:00",
          "2024-07-01T00:00:00",
          "2024-07-02T00:00:00",
          "2024-07-03T00:00:00",
          "2024-07-04T00:00:00",
          "2024-07-05T00:00:00",
          "2024-07-08T00:00:00",
          "2024-07-09T00:00:00",
          "2024-07-10T00:00:00",
          "2024-07-11T00:00:00",
          "2024-07-12T00:00:00",
          "2024-07-15T00:00:00",
          "2024-07-16T00:00:00",
          "2024-07-17T00:00:00",
          "2024-07-18T00:00:00",
          "2024-07-19T00:00:00",
          "2024-07-22T00:00:00",
          "2024-07-23T00:00:00",
          "2024-07-24T00:00:00",
          "2024-07-25T00:00:00",
          "2024-07-26T00:00:00",
          "2024-07-29T00:00:00",
          "2024-07-30T00:00:00",
          "2024-07-31T00:00:00",
          "2024-08-01T00:00:00",
          "2024-08-02T00:00:00",
          "2024-08-05T00:00:00",
          "2024-08-06T00:00:00",
          "2024-08-07T00:00:00",
          "2024-08-08T00:00:00",
          "2024-08-09T00:00:00",
          "2024-08-12T00:00:00",
          "2024-08-13T00:00:00",
          "2024-08-14T00:00:00",
          "2024-08-15T00:00:00",
          "2024-08-16T00:00:00",
          "2024-08-19T00:00:00",
          "2024-08-20T00:00:00",
          "2024-08-21T00:00:00",
          "2024-08-22T00:00:00",
          "2024-08-23T00:00:00",
          "2024-08-26T00:00:00",
          "2024-08-27T00:00:00",
          "2024-08-28T00:00:00",
          "2024-08-29T00:00:00",
          "2024-08-30T00:00:00",
          "2024-09-02T00:00:00",
          "2024-09-03T00:00:00",
          "2024-09-04T00:00:00",
          "2024-09-05T00:00:00",
          "2024-09-06T00:00:00",
          "2024-09-09T00:00:00",
          "2024-09-10T00:00:00",
          "2024-09-11T00:00:00",
          "2024-09-12T00:00:00",
          "2024-09-13T00:00:00",
          "2024-09-17T00:00:00",
          "2024-09-18T00:00:00",
          "2024-09-19T00:00:00",
          "2024-09-20T00:00:00",
          "2024-09-23T00:00:00",
          "2024-09-24T00:00:00",
          "2024-09-25T00:00:00",
          "2024-09-26T00:00:00",
          "2024-09-27T00:00:00",
          "2024-09-30T00:00:00",
          "2024-10-01T00:00:00",
          "2024-10-02T00:00:00",
          "2024-10-03T00:00:00",
          "2024-10-04T00:00:00",
          "2024-10-07T00:00:00",
          "2024-10-08T00:00:00",
          "2024-10-09T00:00:00",
          "2024-10-10T00:00:00",
          "2024-10-11T00:00:00",
          "2024-10-14T00:00:00",
          "2024-10-15T00:00:00",
          "2024-10-16T00:00:00",
          "2024-10-17T00:00:00",
          "2024-10-18T00:00:00",
          "2024-10-21T00:00:00",
          "2024-10-22T00:00:00",
          "2024-10-23T00:00:00",
          "2024-10-24T00:00:00",
          "2024-10-25T00:00:00",
          "2024-10-28T00:00:00",
          "2024-10-29T00:00:00",
          "2024-10-30T00:00:00",
          "2024-10-31T00:00:00",
          "2024-11-01T00:00:00",
          "2024-11-04T00:00:00",
          "2024-11-05T00:00:00",
          "2024-11-06T00:00:00",
          "2024-11-07T00:00:00",
          "2024-11-08T00:00:00",
          "2024-11-11T00:00:00",
          "2024-11-12T00:00:00",
          "2024-11-13T00:00:00",
          "2024-11-14T00:00:00",
          "2024-11-15T00:00:00",
          "2024-11-18T00:00:00",
          "2024-11-19T00:00:00",
          "2024-11-20T00:00:00"
         ],
         "y": [
          4784.46923828125,
          4848.533203125,
          4894.7568359375,
          4961.26171875,
          4871.63525390625,
          4910.69970703125,
          4958.74658203125,
          4925.6669921875,
          5003.24658203125,
          4974.13037109375,
          4893.6884765625,
          4955.96875,
          4771.63134765625,
          4862.2578125,
          4963.1337890625,
          4875.94140625,
          5028.83154296875,
          4966.9736328125,
          4892.8251953125,
          4890.36865234375,
          4910.4833984375,
          4852.34033203125,
          4938.75634765625,
          4965.97314453125,
          5030.26513671875,
          5052.34765625,
          5050.38330078125,
          5026.60009765625,
          5249.57861328125,
          5233.4580078125,
          5227.9931640625,
          5293.77880859375,
          5249.5048828125,
          5247.32568359375,
          5247.85107421875,
          5270.63720703125,
          5248.5625,
          5202.9111328125,
          5203.0751953125,
          5159.32568359375,
          5182.1630859375,
          5093.42529296875,
          5137.68701171875,
          5073.0009765625,
          5094.47998046875,
          5231.77685546875,
          5301.3896484375,
          5388.14599609375,
          5363.99755859375,
          5405.34423828125,
          5382.6171875,
          5403.6953125,
          5381.40380859375,
          5559.43310546875,
          5492.98486328125,
          5584.74365234375,
          5597.017578125,
          5454.78076171875,
          5622.15771484375,
          5596.84423828125,
          5553.4365234375,
          5489.1943359375,
          5486.552734375,
          5602.75,
          5575.21044921875,
          5600.43798828125,
          5512.33203125,
          5492.037109375,
          5496.98388671875,
          5559.85009765625,
          5578.3173828125,
          5690.15673828125,
          5800.28076171875,
          5730.6025390625,
          5640.7978515625,
          5664.283203125,
          5710.8779296875,
          5735.05517578125,
          5665.43701171875,
          5714.876953125,
          5785.32080078125,
          5806.4404296875,
          5811.44482421875,
          5763.64892578125,
          5528.66357421875,
          5363.35595703125,
          5223.896484375,
          5253.1982421875,
          5192.0654296875,
          5089.51025390625,
          5141.220703125,
          5215.27490234375,
          5141.60009765625,
          5288.22119140625,
          5180.3271484375,
          5222.3916015625,
          5208.99072265625,
          5071.5185546875,
          5138.92138671875,
          5165.765625,
          4737.0390625,
          4759.84130859375,
          4747.30126953125,
          4644.68603515625,
          4616.47314453125,
          4725.68798828125,
          4875.26025390625,
          4968.1162109375,
          5129.11181640625,
          5105.68310546875,
          4913.91748046875,
          4705.2861328125,
          4692.248046875,
          4612.88330078125,
          4643.22021484375,
          4481.82470703125,
          4436.203125,
          4353.58837890625,
          4564.49755859375,
          4602.0234375,
          4570.93017578125,
          4716.80224609375,
          4658.25341796875,
          4564.052734375,
          4424.1171875,
          4367.9482421875,
          4417.396484375,
          4244.8369140625,
          4255.3310546875,
          4374.15380859375,
          4499.13134765625,
          4508.23583984375,
          4448.947265625,
          4381.12744140625,
          4527.04931640625,
          4613.65283203125,
          4661.68408203125,
          4659.89599609375,
          4599.37451171875,
          4650.68896484375,
          4644.95703125,
          4606.7861328125,
          4785.9931640625,
          4758.0888671875,
          4800.5478515625,
          4950.60400390625,
          4956.60595703125,
          4910.9921875,
          4926.70263671875,
          4997.8115234375,
          5011.7099609375,
          5018.35400390625,
          4967.79443359375,
          5014.98681640625,
          4970.41162109375,
          4941.9072265625,
          4963.40380859375,
          4893.1376953125,
          4903.169921875,
          4994.4951171875,
          5005.09765625,
          4853.42919921875,
          4854.90966796875,
          4947.51708984375,
          4926.3876953125,
          4953.89501953125,
          5053.3642578125,
          5055.71337890625,
          5099.2998046875,
          5191.58154296875,
          5166.75830078125,
          5208.92333984375,
          5255.14599609375,
          5370.771484375,
          5347.0654296875,
          5178.6435546875,
          5359.89990234375,
          5422.76220703125,
          5288.056640625,
          5300.626953125,
          5227.98583984375,
          5255.27294921875,
          5259.31982421875,
          5280.81494140625,
          5255.2333984375,
          5347.0751953125,
          5534.7451171875,
          5587.11767578125,
          5572.5810546875,
          5524.041015625,
          5479.57470703125,
          5507.22802734375,
          5533.04345703125,
          5579.94287109375,
          5695.32568359375,
          5622.56201171875,
          5647.654296875,
          5664.0751953125,
          5441.837890625,
          5479.4345703125,
          5337.29345703125,
          5248.23486328125,
          5279.7177734375,
          5260.08056640625,
          5284.43408203125,
          5237.19580078125,
          5143.72900390625,
          5253.5302734375,
          5240.35888671875,
          5217.06689453125,
          5280.228515625,
          5326.2431640625,
          5397.76513671875,
          5356.0966796875,
          5396.20849609375,
          5535.87353515625,
          5510.91845703125,
          5533.04150390625,
          5556.26611328125,
          5508.18212890625,
          5530.86474609375,
          5366.07275390625,
          5194.64599609375,
          5104.416015625,
          5159.60205078125,
          5113.07470703125,
          5212.3212890625,
          5311.30029296875,
          5025.9072265625,
          4978.48486328125,
          4908.80078125,
          4939.703125,
          4887.10107421875,
          4900.91845703125,
          4893.75390625,
          4852.0556640625,
          4808.7880859375,
          4787.30322265625
         ]
        }
       ],
       "layout": {
        "template": {
         "data": {
          "bar": [
           {
            "error_x": {
             "color": "#2a3f5f"
            },
            "error_y": {
             "color": "#2a3f5f"
            },
            "marker": {
             "line": {
              "color": "#E5ECF6",
              "width": 0.5
             },
             "pattern": {
              "fillmode": "overlay",
              "size": 10,
              "solidity": 0.2
             }
            },
            "type": "bar"
           }
          ],
          "barpolar": [
           {
            "marker": {
             "line": {
              "color": "#E5ECF6",
              "width": 0.5
             },
             "pattern": {
              "fillmode": "overlay",
              "size": 10,
              "solidity": 0.2
             }
            },
            "type": "barpolar"
           }
          ],
          "carpet": [
           {
            "aaxis": {
             "endlinecolor": "#2a3f5f",
             "gridcolor": "white",
             "linecolor": "white",
             "minorgridcolor": "white",
             "startlinecolor": "#2a3f5f"
            },
            "baxis": {
             "endlinecolor": "#2a3f5f",
             "gridcolor": "white",
             "linecolor": "white",
             "minorgridcolor": "white",
             "startlinecolor": "#2a3f5f"
            },
            "type": "carpet"
           }
          ],
          "choropleth": [
           {
            "colorbar": {
             "outlinewidth": 0,
             "ticks": ""
            },
            "type": "choropleth"
           }
          ],
          "contour": [
           {
            "colorbar": {
             "outlinewidth": 0,
             "ticks": ""
            },
            "colorscale": [
             [
              0,
              "#0d0887"
             ],
             [
              0.1111111111111111,
              "#46039f"
             ],
             [
              0.2222222222222222,
              "#7201a8"
             ],
             [
              0.3333333333333333,
              "#9c179e"
             ],
             [
              0.4444444444444444,
              "#bd3786"
             ],
             [
              0.5555555555555556,
              "#d8576b"
             ],
             [
              0.6666666666666666,
              "#ed7953"
             ],
             [
              0.7777777777777778,
              "#fb9f3a"
             ],
             [
              0.8888888888888888,
              "#fdca26"
             ],
             [
              1,
              "#f0f921"
             ]
            ],
            "type": "contour"
           }
          ],
          "contourcarpet": [
           {
            "colorbar": {
             "outlinewidth": 0,
             "ticks": ""
            },
            "type": "contourcarpet"
           }
          ],
          "heatmap": [
           {
            "colorbar": {
             "outlinewidth": 0,
             "ticks": ""
            },
            "colorscale": [
             [
              0,
              "#0d0887"
             ],
             [
              0.1111111111111111,
              "#46039f"
             ],
             [
              0.2222222222222222,
              "#7201a8"
             ],
             [
              0.3333333333333333,
              "#9c179e"
             ],
             [
              0.4444444444444444,
              "#bd3786"
             ],
             [
              0.5555555555555556,
              "#d8576b"
             ],
             [
              0.6666666666666666,
              "#ed7953"
             ],
             [
              0.7777777777777778,
              "#fb9f3a"
             ],
             [
              0.8888888888888888,
              "#fdca26"
             ],
             [
              1,
              "#f0f921"
             ]
            ],
            "type": "heatmap"
           }
          ],
          "heatmapgl": [
           {
            "colorbar": {
             "outlinewidth": 0,
             "ticks": ""
            },
            "colorscale": [
             [
              0,
              "#0d0887"
             ],
             [
              0.1111111111111111,
              "#46039f"
             ],
             [
              0.2222222222222222,
              "#7201a8"
             ],
             [
              0.3333333333333333,
              "#9c179e"
             ],
             [
              0.4444444444444444,
              "#bd3786"
             ],
             [
              0.5555555555555556,
              "#d8576b"
             ],
             [
              0.6666666666666666,
              "#ed7953"
             ],
             [
              0.7777777777777778,
              "#fb9f3a"
             ],
             [
              0.8888888888888888,
              "#fdca26"
             ],
             [
              1,
              "#f0f921"
             ]
            ],
            "type": "heatmapgl"
           }
          ],
          "histogram": [
           {
            "marker": {
             "pattern": {
              "fillmode": "overlay",
              "size": 10,
              "solidity": 0.2
             }
            },
            "type": "histogram"
           }
          ],
          "histogram2d": [
           {
            "colorbar": {
             "outlinewidth": 0,
             "ticks": ""
            },
            "colorscale": [
             [
              0,
              "#0d0887"
             ],
             [
              0.1111111111111111,
              "#46039f"
             ],
             [
              0.2222222222222222,
              "#7201a8"
             ],
             [
              0.3333333333333333,
              "#9c179e"
             ],
             [
              0.4444444444444444,
              "#bd3786"
             ],
             [
              0.5555555555555556,
              "#d8576b"
             ],
             [
              0.6666666666666666,
              "#ed7953"
             ],
             [
              0.7777777777777778,
              "#fb9f3a"
             ],
             [
              0.8888888888888888,
              "#fdca26"
             ],
             [
              1,
              "#f0f921"
             ]
            ],
            "type": "histogram2d"
           }
          ],
          "histogram2dcontour": [
           {
            "colorbar": {
             "outlinewidth": 0,
             "ticks": ""
            },
            "colorscale": [
             [
              0,
              "#0d0887"
             ],
             [
              0.1111111111111111,
              "#46039f"
             ],
             [
              0.2222222222222222,
              "#7201a8"
             ],
             [
              0.3333333333333333,
              "#9c179e"
             ],
             [
              0.4444444444444444,
              "#bd3786"
             ],
             [
              0.5555555555555556,
              "#d8576b"
             ],
             [
              0.6666666666666666,
              "#ed7953"
             ],
             [
              0.7777777777777778,
              "#fb9f3a"
             ],
             [
              0.8888888888888888,
              "#fdca26"
             ],
             [
              1,
              "#f0f921"
             ]
            ],
            "type": "histogram2dcontour"
           }
          ],
          "mesh3d": [
           {
            "colorbar": {
             "outlinewidth": 0,
             "ticks": ""
            },
            "type": "mesh3d"
           }
          ],
          "parcoords": [
           {
            "line": {
             "colorbar": {
              "outlinewidth": 0,
              "ticks": ""
             }
            },
            "type": "parcoords"
           }
          ],
          "pie": [
           {
            "automargin": true,
            "type": "pie"
           }
          ],
          "scatter": [
           {
            "fillpattern": {
             "fillmode": "overlay",
             "size": 10,
             "solidity": 0.2
            },
            "type": "scatter"
           }
          ],
          "scatter3d": [
           {
            "line": {
             "colorbar": {
              "outlinewidth": 0,
              "ticks": ""
             }
            },
            "marker": {
             "colorbar": {
              "outlinewidth": 0,
              "ticks": ""
             }
            },
            "type": "scatter3d"
           }
          ],
          "scattercarpet": [
           {
            "marker": {
             "colorbar": {
              "outlinewidth": 0,
              "ticks": ""
             }
            },
            "type": "scattercarpet"
           }
          ],
          "scattergeo": [
           {
            "marker": {
             "colorbar": {
              "outlinewidth": 0,
              "ticks": ""
             }
            },
            "type": "scattergeo"
           }
          ],
          "scattergl": [
           {
            "marker": {
             "colorbar": {
              "outlinewidth": 0,
              "ticks": ""
             }
            },
            "type": "scattergl"
           }
          ],
          "scattermapbox": [
           {
            "marker": {
             "colorbar": {
              "outlinewidth": 0,
              "ticks": ""
             }
            },
            "type": "scattermapbox"
           }
          ],
          "scatterpolar": [
           {
            "marker": {
             "colorbar": {
              "outlinewidth": 0,
              "ticks": ""
             }
            },
            "type": "scatterpolar"
           }
          ],
          "scatterpolargl": [
           {
            "marker": {
             "colorbar": {
              "outlinewidth": 0,
              "ticks": ""
             }
            },
            "type": "scatterpolargl"
           }
          ],
          "scatterternary": [
           {
            "marker": {
             "colorbar": {
              "outlinewidth": 0,
              "ticks": ""
             }
            },
            "type": "scatterternary"
           }
          ],
          "surface": [
           {
            "colorbar": {
             "outlinewidth": 0,
             "ticks": ""
            },
            "colorscale": [
             [
              0,
              "#0d0887"
             ],
             [
              0.1111111111111111,
              "#46039f"
             ],
             [
              0.2222222222222222,
              "#7201a8"
             ],
             [
              0.3333333333333333,
              "#9c179e"
             ],
             [
              0.4444444444444444,
              "#bd3786"
             ],
             [
              0.5555555555555556,
              "#d8576b"
             ],
             [
              0.6666666666666666,
              "#ed7953"
             ],
             [
              0.7777777777777778,
              "#fb9f3a"
             ],
             [
              0.8888888888888888,
              "#fdca26"
             ],
             [
              1,
              "#f0f921"
             ]
            ],
            "type": "surface"
           }
          ],
          "table": [
           {
            "cells": {
             "fill": {
              "color": "#EBF0F8"
             },
             "line": {
              "color": "white"
             }
            },
            "header": {
             "fill": {
              "color": "#C8D4E3"
             },
             "line": {
              "color": "white"
             }
            },
            "type": "table"
           }
          ]
         },
         "layout": {
          "annotationdefaults": {
           "arrowcolor": "#2a3f5f",
           "arrowhead": 0,
           "arrowwidth": 1
          },
          "autotypenumbers": "strict",
          "coloraxis": {
           "colorbar": {
            "outlinewidth": 0,
            "ticks": ""
           }
          },
          "colorscale": {
           "diverging": [
            [
             0,
             "#8e0152"
            ],
            [
             0.1,
             "#c51b7d"
            ],
            [
             0.2,
             "#de77ae"
            ],
            [
             0.3,
             "#f1b6da"
            ],
            [
             0.4,
             "#fde0ef"
            ],
            [
             0.5,
             "#f7f7f7"
            ],
            [
             0.6,
             "#e6f5d0"
            ],
            [
             0.7,
             "#b8e186"
            ],
            [
             0.8,
             "#7fbc41"
            ],
            [
             0.9,
             "#4d9221"
            ],
            [
             1,
             "#276419"
            ]
           ],
           "sequential": [
            [
             0,
             "#0d0887"
            ],
            [
             0.1111111111111111,
             "#46039f"
            ],
            [
             0.2222222222222222,
             "#7201a8"
            ],
            [
             0.3333333333333333,
             "#9c179e"
            ],
            [
             0.4444444444444444,
             "#bd3786"
            ],
            [
             0.5555555555555556,
             "#d8576b"
            ],
            [
             0.6666666666666666,
             "#ed7953"
            ],
            [
             0.7777777777777778,
             "#fb9f3a"
            ],
            [
             0.8888888888888888,
             "#fdca26"
            ],
            [
             1,
             "#f0f921"
            ]
           ],
           "sequentialminus": [
            [
             0,
             "#0d0887"
            ],
            [
             0.1111111111111111,
             "#46039f"
            ],
            [
             0.2222222222222222,
             "#7201a8"
            ],
            [
             0.3333333333333333,
             "#9c179e"
            ],
            [
             0.4444444444444444,
             "#bd3786"
            ],
            [
             0.5555555555555556,
             "#d8576b"
            ],
            [
             0.6666666666666666,
             "#ed7953"
            ],
            [
             0.7777777777777778,
             "#fb9f3a"
            ],
            [
             0.8888888888888888,
             "#fdca26"
            ],
            [
             1,
             "#f0f921"
            ]
           ]
          },
          "colorway": [
           "#636efa",
           "#EF553B",
           "#00cc96",
           "#ab63fa",
           "#FFA15A",
           "#19d3f3",
           "#FF6692",
           "#B6E880",
           "#FF97FF",
           "#FECB52"
          ],
          "font": {
           "color": "#2a3f5f"
          },
          "geo": {
           "bgcolor": "white",
           "lakecolor": "white",
           "landcolor": "#E5ECF6",
           "showlakes": true,
           "showland": true,
           "subunitcolor": "white"
          },
          "hoverlabel": {
           "align": "left"
          },
          "hovermode": "closest",
          "mapbox": {
           "style": "light"
          },
          "paper_bgcolor": "white",
          "plot_bgcolor": "#E5ECF6",
          "polar": {
           "angularaxis": {
            "gridcolor": "white",
            "linecolor": "white",
            "ticks": ""
           },
           "bgcolor": "#E5ECF6",
           "radialaxis": {
            "gridcolor": "white",
            "linecolor": "white",
            "ticks": ""
           }
          },
          "scene": {
           "xaxis": {
            "backgroundcolor": "#E5ECF6",
            "gridcolor": "white",
            "gridwidth": 2,
            "linecolor": "white",
            "showbackground": true,
            "ticks": "",
            "zerolinecolor": "white"
           },
           "yaxis": {
            "backgroundcolor": "#E5ECF6",
            "gridcolor": "white",
            "gridwidth": 2,
            "linecolor": "white",
            "showbackground": true,
            "ticks": "",
            "zerolinecolor": "white"
           },
           "zaxis": {
            "backgroundcolor": "#E5ECF6",
            "gridcolor": "white",
            "gridwidth": 2,
            "linecolor": "white",
            "showbackground": true,
            "ticks": "",
            "zerolinecolor": "white"
           }
          },
          "shapedefaults": {
           "line": {
            "color": "#2a3f5f"
           }
          },
          "ternary": {
           "aaxis": {
            "gridcolor": "white",
            "linecolor": "white",
            "ticks": ""
           },
           "baxis": {
            "gridcolor": "white",
            "linecolor": "white",
            "ticks": ""
           },
           "bgcolor": "#E5ECF6",
           "caxis": {
            "gridcolor": "white",
            "linecolor": "white",
            "ticks": ""
           }
          },
          "title": {
           "x": 0.05
          },
          "xaxis": {
           "automargin": true,
           "gridcolor": "white",
           "linecolor": "white",
           "ticks": "",
           "title": {
            "standoff": 15
           },
           "zerolinecolor": "white",
           "zerolinewidth": 2
          },
          "yaxis": {
           "automargin": true,
           "gridcolor": "white",
           "linecolor": "white",
           "ticks": "",
           "title": {
            "standoff": 15
           },
           "zerolinecolor": "white",
           "zerolinewidth": 2
          }
         }
        },
        "title": {
         "text": "Model"
        },
        "xaxis": {
         "title": {
          "text": "Date"
         }
        },
        "yaxis": {
         "title": {
          "text": "Close Price USD ($)"
         }
        }
       }
      }
     },
     "metadata": {},
     "output_type": "display_data"
    }
   ],
   "source": [
    "from plotly import graph_objs as go\n",
    "\n",
    "fig = go.Figure()\n",
    "\n",
    "fig.add_trace(go.Scatter(x=valid['date'], y=valid['Close'], mode='lines', name='Val'))\n",
    "fig.add_trace(go.Scatter(x=valid['date'], y=valid['Predictions'], mode='lines', name='Predictions'))\n",
    "\n",
    "fig.update_layout(title='Model',\n",
    "                        xaxis_title='Date',\n",
    "                        yaxis_title='Close Price USD ($)')\n",
    "fig.show()"
   ]
  },
  {
   "cell_type": "markdown",
   "metadata": {},
   "source": [
    "# Close with news manual sentiment"
   ]
  },
  {
   "cell_type": "code",
   "execution_count": 120,
   "metadata": {},
   "outputs": [],
   "source": [
    "# Define a mapping for Indonesian weekdays and months to English equivalents\n",
    "indonesian_weekdays = {\n",
    "    \"Senin\": \"Monday\", \"Selasa\": \"Tuesday\", \"Rabu\": \"Wednesday\",\n",
    "    \"Kamis\": \"Thursday\", \"Jumat\": \"Friday\", \"Sabtu\": \"Saturday\", \"Minggu\": \"Sunday\"\n",
    "}\n",
    "indonesian_months = {\n",
    "    \"Jan\": \"Jan\", \"Feb\": \"Feb\", \"Mar\": \"Mar\", \"Apr\": \"Apr\", \"Mei\": \"May\",\n",
    "    \"Jun\": \"Jun\", \"Jul\": \"Jul\", \"Agu\": \"Aug\", \"Sep\": \"Sep\", \"Okt\": \"Oct\",\n",
    "    \"Nov\": \"Nov\", \"Des\": \"Dec\"\n",
    "}\n"
   ]
  },
  {
   "cell_type": "code",
   "execution_count": 121,
   "metadata": {},
   "outputs": [
    {
     "name": "stderr",
     "output_type": "stream",
     "text": [
      "c:\\Users\\thari\\anaconda3\\envs\\ml\\lib\\site-packages\\dateutil\\parser\\_parser.py:1207: UnknownTimezoneWarning:\n",
      "\n",
      "tzname WIB identified but not understood.  Pass `tzinfos` argument in order to correctly return a timezone-aware datetime.  In a future version, this will raise an exception.\n",
      "\n"
     ]
    },
    {
     "data": {
      "text/html": [
       "<div>\n",
       "<style scoped>\n",
       "    .dataframe tbody tr th:only-of-type {\n",
       "        vertical-align: middle;\n",
       "    }\n",
       "\n",
       "    .dataframe tbody tr th {\n",
       "        vertical-align: top;\n",
       "    }\n",
       "\n",
       "    .dataframe thead th {\n",
       "        text-align: right;\n",
       "    }\n",
       "</style>\n",
       "<table border=\"1\" class=\"dataframe\">\n",
       "  <thead>\n",
       "    <tr style=\"text-align: right;\">\n",
       "      <th></th>\n",
       "      <th>title</th>\n",
       "      <th>sentiment</th>\n",
       "    </tr>\n",
       "    <tr>\n",
       "      <th>date</th>\n",
       "      <th></th>\n",
       "      <th></th>\n",
       "    </tr>\n",
       "  </thead>\n",
       "  <tbody>\n",
       "    <tr>\n",
       "      <th>2024-11-11 12:45:00</th>\n",
       "      <td>Berapa Harga Saham BBCA Hari Ini?</td>\n",
       "      <td>positif</td>\n",
       "    </tr>\n",
       "    <tr>\n",
       "      <th>2024-11-08 15:15:00</th>\n",
       "      <td>Dua Mata Pisau Penghapusan Utang UMKM</td>\n",
       "      <td>negatif</td>\n",
       "    </tr>\n",
       "    <tr>\n",
       "      <th>2024-11-06 13:44:00</th>\n",
       "      <td>Prabowo Hapus Utang UMKM, Begini Efeknya ke Sa...</td>\n",
       "      <td>negatif</td>\n",
       "    </tr>\n",
       "    <tr>\n",
       "      <th>2024-11-05 08:13:00</th>\n",
       "      <td>IHSG Hari Ini Diramal Bergerak Fluktuatif</td>\n",
       "      <td>negatif</td>\n",
       "    </tr>\n",
       "    <tr>\n",
       "      <th>2024-10-29 08:30:00</th>\n",
       "      <td>Masuk Daftar 45 Saham Pre-opening, Saham GOTO ...</td>\n",
       "      <td>negatif</td>\n",
       "    </tr>\n",
       "    <tr>\n",
       "      <th>...</th>\n",
       "      <td>...</td>\n",
       "      <td>...</td>\n",
       "    </tr>\n",
       "    <tr>\n",
       "      <th>2020-03-10 15:05:00</th>\n",
       "      <td>Mampukah Buyback 12 BUMN Rp 8 T Selamatkan Pas...</td>\n",
       "      <td>positif</td>\n",
       "    </tr>\n",
       "    <tr>\n",
       "      <th>2020-03-10 11:18:00</th>\n",
       "      <td>Alasan 12 BUMN Buyback Saham Rp 8 T</td>\n",
       "      <td>positif</td>\n",
       "    </tr>\n",
       "    <tr>\n",
       "      <th>2020-03-10 10:45:00</th>\n",
       "      <td>12 BUMN Siap Buyback Saham Rp 8 T</td>\n",
       "      <td>negatif</td>\n",
       "    </tr>\n",
       "    <tr>\n",
       "      <th>2020-02-21 08:52:00</th>\n",
       "      <td>IHSG Diperkirakan Melemah Jelang Akhir Pekan</td>\n",
       "      <td>negatif</td>\n",
       "    </tr>\n",
       "    <tr>\n",
       "      <th>2020-01-22 22:00:00</th>\n",
       "      <td>Rencana BNI 2020: Caplok Bank Sampai Global Bond</td>\n",
       "      <td>positif</td>\n",
       "    </tr>\n",
       "  </tbody>\n",
       "</table>\n",
       "<p>240 rows × 2 columns</p>\n",
       "</div>"
      ],
      "text/plain": [
       "                                                                 title  \\\n",
       "date                                                                     \n",
       "2024-11-11 12:45:00                  Berapa Harga Saham BBCA Hari Ini?   \n",
       "2024-11-08 15:15:00              Dua Mata Pisau Penghapusan Utang UMKM   \n",
       "2024-11-06 13:44:00  Prabowo Hapus Utang UMKM, Begini Efeknya ke Sa...   \n",
       "2024-11-05 08:13:00          IHSG Hari Ini Diramal Bergerak Fluktuatif   \n",
       "2024-10-29 08:30:00  Masuk Daftar 45 Saham Pre-opening, Saham GOTO ...   \n",
       "...                                                                ...   \n",
       "2020-03-10 15:05:00  Mampukah Buyback 12 BUMN Rp 8 T Selamatkan Pas...   \n",
       "2020-03-10 11:18:00                Alasan 12 BUMN Buyback Saham Rp 8 T   \n",
       "2020-03-10 10:45:00                  12 BUMN Siap Buyback Saham Rp 8 T   \n",
       "2020-02-21 08:52:00       IHSG Diperkirakan Melemah Jelang Akhir Pekan   \n",
       "2020-01-22 22:00:00   Rencana BNI 2020: Caplok Bank Sampai Global Bond   \n",
       "\n",
       "                    sentiment  \n",
       "date                           \n",
       "2024-11-11 12:45:00   positif  \n",
       "2024-11-08 15:15:00   negatif  \n",
       "2024-11-06 13:44:00   negatif  \n",
       "2024-11-05 08:13:00   negatif  \n",
       "2024-10-29 08:30:00   negatif  \n",
       "...                       ...  \n",
       "2020-03-10 15:05:00   positif  \n",
       "2020-03-10 11:18:00   positif  \n",
       "2020-03-10 10:45:00   negatif  \n",
       "2020-02-21 08:52:00   negatif  \n",
       "2020-01-22 22:00:00   positif  \n",
       "\n",
       "[240 rows x 2 columns]"
      ]
     },
     "execution_count": 121,
     "metadata": {},
     "output_type": "execute_result"
    }
   ],
   "source": [
    "import pandas as pd\n",
    "\n",
    "\n",
    "news = pd.read_csv('Data/bbni - manual.csv')\n",
    "news = news[['publish_date', 'title', 'sentiment']]\n",
    "\n",
    "# Replace Indonesian weekdays and months with English equivalents\n",
    "for indo_day, eng_day in indonesian_weekdays.items():\n",
    "    news['publish_date'] = news['publish_date'].str.replace(indo_day, eng_day, regex=False)\n",
    "for indo_month, eng_month in indonesian_months.items():\n",
    "    news['publish_date'] = news['publish_date'].str.replace(indo_month, eng_month, regex=False)\n",
    "\n",
    "news = news.rename(columns={'publish_date': 'date'})\n",
    "news['date'] = pd.to_datetime(news['date'])\n",
    "news = news.set_index('date')\n",
    "\n",
    "news = news[news.index >= '2019-12-17']\n",
    "\n",
    "news"
   ]
  },
  {
   "cell_type": "code",
   "execution_count": 122,
   "metadata": {},
   "outputs": [
    {
     "name": "stderr",
     "output_type": "stream",
     "text": [
      "C:\\Users\\thari\\AppData\\Local\\Temp\\ipykernel_20912\\2178100794.py:2: SettingWithCopyWarning:\n",
      "\n",
      "\n",
      "A value is trying to be set on a copy of a slice from a DataFrame.\n",
      "Try using .loc[row_indexer,col_indexer] = value instead\n",
      "\n",
      "See the caveats in the documentation: https://pandas.pydata.org/pandas-docs/stable/user_guide/indexing.html#returning-a-view-versus-a-copy\n",
      "\n"
     ]
    },
    {
     "data": {
      "text/html": [
       "<div>\n",
       "<style scoped>\n",
       "    .dataframe tbody tr th:only-of-type {\n",
       "        vertical-align: middle;\n",
       "    }\n",
       "\n",
       "    .dataframe tbody tr th {\n",
       "        vertical-align: top;\n",
       "    }\n",
       "\n",
       "    .dataframe thead th {\n",
       "        text-align: right;\n",
       "    }\n",
       "</style>\n",
       "<table border=\"1\" class=\"dataframe\">\n",
       "  <thead>\n",
       "    <tr style=\"text-align: right;\">\n",
       "      <th></th>\n",
       "      <th>Close</th>\n",
       "    </tr>\n",
       "    <tr>\n",
       "      <th>date</th>\n",
       "      <th></th>\n",
       "    </tr>\n",
       "  </thead>\n",
       "  <tbody>\n",
       "    <tr>\n",
       "      <th>2019-12-17</th>\n",
       "      <td>3331.536621</td>\n",
       "    </tr>\n",
       "    <tr>\n",
       "      <th>2019-12-18</th>\n",
       "      <td>3385.620117</td>\n",
       "    </tr>\n",
       "    <tr>\n",
       "      <th>2019-12-19</th>\n",
       "      <td>3385.620117</td>\n",
       "    </tr>\n",
       "    <tr>\n",
       "      <th>2019-12-20</th>\n",
       "      <td>3374.803711</td>\n",
       "    </tr>\n",
       "    <tr>\n",
       "      <th>2019-12-23</th>\n",
       "      <td>3428.886963</td>\n",
       "    </tr>\n",
       "    <tr>\n",
       "      <th>...</th>\n",
       "      <td>...</td>\n",
       "    </tr>\n",
       "    <tr>\n",
       "      <th>2024-11-14</th>\n",
       "      <td>4950.000000</td>\n",
       "    </tr>\n",
       "    <tr>\n",
       "      <th>2024-11-15</th>\n",
       "      <td>4910.000000</td>\n",
       "    </tr>\n",
       "    <tr>\n",
       "      <th>2024-11-18</th>\n",
       "      <td>4870.000000</td>\n",
       "    </tr>\n",
       "    <tr>\n",
       "      <th>2024-11-19</th>\n",
       "      <td>4850.000000</td>\n",
       "    </tr>\n",
       "    <tr>\n",
       "      <th>2024-11-20</th>\n",
       "      <td>4850.000000</td>\n",
       "    </tr>\n",
       "  </tbody>\n",
       "</table>\n",
       "<p>1194 rows × 1 columns</p>\n",
       "</div>"
      ],
      "text/plain": [
       "                  Close\n",
       "date                   \n",
       "2019-12-17  3331.536621\n",
       "2019-12-18  3385.620117\n",
       "2019-12-19  3385.620117\n",
       "2019-12-20  3374.803711\n",
       "2019-12-23  3428.886963\n",
       "...                 ...\n",
       "2024-11-14  4950.000000\n",
       "2024-11-15  4910.000000\n",
       "2024-11-18  4870.000000\n",
       "2024-11-19  4850.000000\n",
       "2024-11-20  4850.000000\n",
       "\n",
       "[1194 rows x 1 columns]"
      ]
     },
     "execution_count": 122,
     "metadata": {},
     "output_type": "execute_result"
    }
   ],
   "source": [
    "dataUsed = data[['Close', 'date']]\n",
    "dataUsed['date'] = pd.to_datetime(dataUsed['date'])\n",
    "\n",
    "dataUsed = dataUsed.set_index('date')\n",
    "\n",
    "dataUsed\n"
   ]
  },
  {
   "cell_type": "code",
   "execution_count": 123,
   "metadata": {},
   "outputs": [],
   "source": [
    "news.index = news.index.normalize()\n",
    "news = news.groupby(news.index).first()"
   ]
  },
  {
   "cell_type": "code",
   "execution_count": 124,
   "metadata": {},
   "outputs": [
    {
     "data": {
      "text/html": [
       "<div>\n",
       "<style scoped>\n",
       "    .dataframe tbody tr th:only-of-type {\n",
       "        vertical-align: middle;\n",
       "    }\n",
       "\n",
       "    .dataframe tbody tr th {\n",
       "        vertical-align: top;\n",
       "    }\n",
       "\n",
       "    .dataframe thead th {\n",
       "        text-align: right;\n",
       "    }\n",
       "</style>\n",
       "<table border=\"1\" class=\"dataframe\">\n",
       "  <thead>\n",
       "    <tr style=\"text-align: right;\">\n",
       "      <th></th>\n",
       "      <th>Close</th>\n",
       "      <th>title</th>\n",
       "      <th>sentiment</th>\n",
       "    </tr>\n",
       "    <tr>\n",
       "      <th>date</th>\n",
       "      <th></th>\n",
       "      <th></th>\n",
       "      <th></th>\n",
       "    </tr>\n",
       "  </thead>\n",
       "  <tbody>\n",
       "    <tr>\n",
       "      <th>2019-12-17</th>\n",
       "      <td>3331.536621</td>\n",
       "      <td>NaN</td>\n",
       "      <td>NaN</td>\n",
       "    </tr>\n",
       "    <tr>\n",
       "      <th>2019-12-18</th>\n",
       "      <td>3385.620117</td>\n",
       "      <td>NaN</td>\n",
       "      <td>NaN</td>\n",
       "    </tr>\n",
       "    <tr>\n",
       "      <th>2019-12-19</th>\n",
       "      <td>3385.620117</td>\n",
       "      <td>NaN</td>\n",
       "      <td>NaN</td>\n",
       "    </tr>\n",
       "    <tr>\n",
       "      <th>2019-12-20</th>\n",
       "      <td>3374.803711</td>\n",
       "      <td>NaN</td>\n",
       "      <td>NaN</td>\n",
       "    </tr>\n",
       "    <tr>\n",
       "      <th>2019-12-23</th>\n",
       "      <td>3428.886963</td>\n",
       "      <td>NaN</td>\n",
       "      <td>NaN</td>\n",
       "    </tr>\n",
       "    <tr>\n",
       "      <th>...</th>\n",
       "      <td>...</td>\n",
       "      <td>...</td>\n",
       "      <td>...</td>\n",
       "    </tr>\n",
       "    <tr>\n",
       "      <th>2024-11-14</th>\n",
       "      <td>4950.000000</td>\n",
       "      <td>NaN</td>\n",
       "      <td>NaN</td>\n",
       "    </tr>\n",
       "    <tr>\n",
       "      <th>2024-11-15</th>\n",
       "      <td>4910.000000</td>\n",
       "      <td>NaN</td>\n",
       "      <td>NaN</td>\n",
       "    </tr>\n",
       "    <tr>\n",
       "      <th>2024-11-18</th>\n",
       "      <td>4870.000000</td>\n",
       "      <td>NaN</td>\n",
       "      <td>NaN</td>\n",
       "    </tr>\n",
       "    <tr>\n",
       "      <th>2024-11-19</th>\n",
       "      <td>4850.000000</td>\n",
       "      <td>NaN</td>\n",
       "      <td>NaN</td>\n",
       "    </tr>\n",
       "    <tr>\n",
       "      <th>2024-11-20</th>\n",
       "      <td>4850.000000</td>\n",
       "      <td>NaN</td>\n",
       "      <td>NaN</td>\n",
       "    </tr>\n",
       "  </tbody>\n",
       "</table>\n",
       "<p>1194 rows × 3 columns</p>\n",
       "</div>"
      ],
      "text/plain": [
       "                  Close title sentiment\n",
       "date                                   \n",
       "2019-12-17  3331.536621   NaN       NaN\n",
       "2019-12-18  3385.620117   NaN       NaN\n",
       "2019-12-19  3385.620117   NaN       NaN\n",
       "2019-12-20  3374.803711   NaN       NaN\n",
       "2019-12-23  3428.886963   NaN       NaN\n",
       "...                 ...   ...       ...\n",
       "2024-11-14  4950.000000   NaN       NaN\n",
       "2024-11-15  4910.000000   NaN       NaN\n",
       "2024-11-18  4870.000000   NaN       NaN\n",
       "2024-11-19  4850.000000   NaN       NaN\n",
       "2024-11-20  4850.000000   NaN       NaN\n",
       "\n",
       "[1194 rows x 3 columns]"
      ]
     },
     "execution_count": 124,
     "metadata": {},
     "output_type": "execute_result"
    }
   ],
   "source": [
    "# Pastikan data terurut berdasarkan index\n",
    "news.index = news.index.normalize()\n",
    "\n",
    "# Merge DataFrame berdasarkan index\n",
    "dfMerge = dataUsed.merge(news, how='left', left_index=True, right_index=True)\n",
    "\n",
    "dfMerge"
   ]
  },
  {
   "cell_type": "code",
   "execution_count": 125,
   "metadata": {},
   "outputs": [
    {
     "data": {
      "text/plain": [
       "sentiment\n",
       "positif    143\n",
       "negatif     29\n",
       "Name: count, dtype: int64"
      ]
     },
     "execution_count": 125,
     "metadata": {},
     "output_type": "execute_result"
    }
   ],
   "source": [
    "dfMerge['sentiment'].value_counts()"
   ]
  },
  {
   "cell_type": "code",
   "execution_count": 126,
   "metadata": {},
   "outputs": [
    {
     "name": "stdout",
     "output_type": "stream",
     "text": [
      "                  Close title sentiment\n",
      "2019-12-17  3331.536621   NaN       NaN\n",
      "2019-12-18  3385.620117   NaN       NaN\n",
      "2019-12-19  3385.620117   NaN       NaN\n",
      "2019-12-20  3374.803711   NaN       NaN\n",
      "2019-12-23  3428.886963   NaN       NaN\n",
      "...                 ...   ...       ...\n",
      "2024-11-14  4950.000000   NaN       NaN\n",
      "2024-11-15  4910.000000   NaN       NaN\n",
      "2024-11-18  4870.000000   NaN       NaN\n",
      "2024-11-19  4850.000000   NaN       NaN\n",
      "2024-11-20  4850.000000   NaN       NaN\n",
      "\n",
      "[1201 rows x 3 columns]\n"
     ]
    },
    {
     "data": {
      "text/plain": [
       "sentiment\n",
       "positif    170\n",
       "negatif     30\n",
       "Name: count, dtype: int64"
      ]
     },
     "execution_count": 126,
     "metadata": {},
     "output_type": "execute_result"
    }
   ],
   "source": [
    "# Pastikan data terurut berdasarkan index\n",
    "dataUsed = dataUsed.sort_index()\n",
    "news = news.sort_index()\n",
    "\n",
    "# Buat kolom tambahan untuk mencatat tanggal pertama di dataUsed setelah berita\n",
    "news['nearest_date'] = dataUsed.index.searchsorted(news.index, side='right')\n",
    "news['nearest_date'] = news['nearest_date'].map(lambda x: dataUsed.index[x] if x < len(dataUsed.index) else None)\n",
    "\n",
    "# Gabungkan dataUsed dengan berita berdasarkan nearest_date\n",
    "news_mapped = news.dropna(subset=['nearest_date']).set_index('nearest_date')\n",
    "dfMerge = dataUsed.merge(news_mapped, how='left', left_index=True, right_index=True)\n",
    "\n",
    "# Tampilkan hasil\n",
    "print(dfMerge)\n",
    "dfMerge['sentiment'].value_counts()\n"
   ]
  },
  {
   "cell_type": "code",
   "execution_count": 127,
   "metadata": {},
   "outputs": [
    {
     "data": {
      "text/plain": [
       "sentiment\n",
       " 0.0    1001\n",
       " 1.0     170\n",
       "-1.0      30\n",
       "Name: count, dtype: int64"
      ]
     },
     "execution_count": 127,
     "metadata": {},
     "output_type": "execute_result"
    }
   ],
   "source": [
    "dfMerge['sentiment'] = dfMerge['sentiment'].map({'positif': 1, 'negatif': -1}).fillna(0)\n",
    "\n",
    "dfMerge['sentiment'].value_counts()"
   ]
  },
  {
   "cell_type": "code",
   "execution_count": 128,
   "metadata": {},
   "outputs": [
    {
     "data": {
      "text/plain": [
       "array([[0.42342612, 0.5       ],\n",
       "       [0.43533507, 0.5       ],\n",
       "       [0.43533507, 0.5       ],\n",
       "       ...,\n",
       "       [0.76218885, 0.5       ],\n",
       "       [0.75778494, 0.5       ],\n",
       "       [0.75778494, 0.5       ]])"
      ]
     },
     "execution_count": 128,
     "metadata": {},
     "output_type": "execute_result"
    }
   ],
   "source": [
    "sentiment_data = dfMerge.filter(['sentiment']).values  # Pastikan ada kolom 'Sentiment'\n",
    "\n",
    "# Normalisasi data sentimen\n",
    "scaled_sentiment = scaler.fit_transform(sentiment_data)\n",
    "\n",
    "scaled_data = dfMerge.filter(['Close']).values\n",
    "\n",
    "# Normalisasi data harga\n",
    "scaled_data = scaler.fit_transform(scaled_data)\n",
    "\n",
    "# Gabungkan harga (Close) dan sentimen\n",
    "scaled_combined_data = np.hstack((scaled_data, scaled_sentiment))\n",
    "\n",
    "scaled_combined_data"
   ]
  },
  {
   "cell_type": "code",
   "execution_count": 129,
   "metadata": {},
   "outputs": [
    {
     "name": "stdout",
     "output_type": "stream",
     "text": [
      "x_train shape: (896, 60, 2)\n"
     ]
    }
   ],
   "source": [
    "train_data = scaled_combined_data[0:int(training_data_len), :]\n",
    "\n",
    "x_train = []\n",
    "y_train = []\n",
    "\n",
    "for i in range(60, len(train_data)):\n",
    "    x_train.append(train_data[i-60:i, :])  # Tambahkan semua fitur\n",
    "    y_train.append(train_data[i, 0])  # Target tetap 'Close'\n",
    "\n",
    "x_train, y_train = np.array(x_train), np.array(y_train)\n",
    "\n",
    "print(f\"x_train shape: {x_train.shape}\")  # Periksa shape-nya\n",
    "# Reshape input ke bentuk yang dimengerti oleh LSTM\n",
    "# Sekarang menjadi (samples, timesteps, features)\n"
   ]
  },
  {
   "cell_type": "code",
   "execution_count": 130,
   "metadata": {},
   "outputs": [
    {
     "name": "stdout",
     "output_type": "stream",
     "text": [
      "Epoch 1/30\n",
      "180/180 [==============================] - 12s 39ms/step - loss: 0.0053\n",
      "Epoch 2/30\n",
      "180/180 [==============================] - 7s 39ms/step - loss: 0.0012\n",
      "Epoch 3/30\n",
      "180/180 [==============================] - 7s 40ms/step - loss: 9.9139e-04\n",
      "Epoch 4/30\n",
      "180/180 [==============================] - 7s 41ms/step - loss: 9.0414e-04\n",
      "Epoch 5/30\n",
      "180/180 [==============================] - 7s 40ms/step - loss: 7.0440e-04\n",
      "Epoch 6/30\n",
      "180/180 [==============================] - 7s 41ms/step - loss: 5.6189e-04\n",
      "Epoch 7/30\n",
      "180/180 [==============================] - 7s 40ms/step - loss: 4.9201e-04\n",
      "Epoch 8/30\n",
      "180/180 [==============================] - 7s 41ms/step - loss: 4.8954e-04\n",
      "Epoch 9/30\n",
      "180/180 [==============================] - 7s 42ms/step - loss: 4.9687e-04\n",
      "Epoch 10/30\n",
      "180/180 [==============================] - 7s 38ms/step - loss: 4.9737e-04\n",
      "Epoch 11/30\n",
      "180/180 [==============================] - 7s 41ms/step - loss: 5.0456e-04\n",
      "Epoch 12/30\n",
      "180/180 [==============================] - 7s 40ms/step - loss: 3.5356e-04\n",
      "Epoch 13/30\n",
      "180/180 [==============================] - 7s 41ms/step - loss: 3.9808e-04\n",
      "Epoch 14/30\n",
      "180/180 [==============================] - 7s 41ms/step - loss: 3.5610e-04\n",
      "Epoch 15/30\n",
      "180/180 [==============================] - 7s 40ms/step - loss: 5.1407e-04\n",
      "Epoch 16/30\n",
      "180/180 [==============================] - 7s 40ms/step - loss: 3.0561e-04\n",
      "Epoch 17/30\n",
      "180/180 [==============================] - 7s 40ms/step - loss: 3.3600e-04\n",
      "Epoch 18/30\n",
      "180/180 [==============================] - 7s 36ms/step - loss: 3.0277e-04\n",
      "Epoch 19/30\n",
      "180/180 [==============================] - 7s 40ms/step - loss: 3.0748e-04\n",
      "Epoch 20/30\n",
      "180/180 [==============================] - 7s 39ms/step - loss: 2.8873e-04\n",
      "Epoch 21/30\n",
      "180/180 [==============================] - 6s 36ms/step - loss: 2.7742e-04\n",
      "Epoch 22/30\n",
      "180/180 [==============================] - 7s 40ms/step - loss: 2.9630e-04\n",
      "Epoch 23/30\n",
      "180/180 [==============================] - 7s 40ms/step - loss: 2.8115e-04\n",
      "Epoch 24/30\n",
      "180/180 [==============================] - 7s 40ms/step - loss: 3.9817e-04\n",
      "Epoch 25/30\n",
      "180/180 [==============================] - 7s 41ms/step - loss: 3.2910e-04\n",
      "Epoch 26/30\n",
      "180/180 [==============================] - 7s 40ms/step - loss: 2.5315e-04\n",
      "Epoch 27/30\n",
      "180/180 [==============================] - 7s 41ms/step - loss: 2.9004e-04\n",
      "Epoch 28/30\n",
      "180/180 [==============================] - 7s 40ms/step - loss: 2.7602e-04\n",
      "Epoch 29/30\n",
      "180/180 [==============================] - 7s 40ms/step - loss: 3.1622e-04\n",
      "Epoch 30/30\n",
      "180/180 [==============================] - 7s 39ms/step - loss: 2.8613e-04\n"
     ]
    },
    {
     "data": {
      "text/plain": [
       "<keras.src.callbacks.History at 0x19794e5c280>"
      ]
     },
     "execution_count": 130,
     "metadata": {},
     "output_type": "execute_result"
    }
   ],
   "source": [
    "model = Sequential()\n",
    "model.add(LSTM(128, return_sequences=True, input_shape=(x_train.shape[1], x_train.shape[2])))  # Sesuaikan fitur\n",
    "model.add(LSTM(64, return_sequences=False))\n",
    "model.add(Dense(25))\n",
    "model.add(Dense(1))\n",
    "\n",
    "model.compile(optimizer='adam', loss='mean_squared_error')\n",
    "model.fit(x_train, y_train, batch_size=5, epochs=30)\n"
   ]
  },
  {
   "cell_type": "code",
   "execution_count": 131,
   "metadata": {},
   "outputs": [
    {
     "name": "stdout",
     "output_type": "stream",
     "text": [
      "8/8 [==============================] - 1s 24ms/step\n"
     ]
    }
   ],
   "source": [
    "test_data = scaled_combined_data[training_data_len - 60:, :]\n",
    "\n",
    "x_test = []\n",
    "y_test = dataset[training_data_len:, :]\n",
    "for i in range(60, len(test_data)):\n",
    "    x_test.append(test_data[i-60:i, :])  # Tambahkan semua fitur\n",
    "\n",
    "x_test = np.array(x_test)\n",
    "\n",
    "# Reshape data uji\n",
    "x_test = np.reshape(x_test, (x_test.shape[0], x_test.shape[1], x_test.shape[2]))\n",
    "\n",
    "predictions = model.predict(x_test)\n",
    "predictions = scaler.inverse_transform(predictions)\n"
   ]
  },
  {
   "cell_type": "code",
   "execution_count": 132,
   "metadata": {},
   "outputs": [
    {
     "name": "stdout",
     "output_type": "stream",
     "text": [
      "RMSE:  64.87152417679829\n",
      "MAE:  51.72189305409664\n"
     ]
    }
   ],
   "source": [
    "from sklearn.metrics import mean_squared_error, mean_absolute_error\n",
    "\n",
    "# jumlah data prediction - jumlah data y_test\n",
    "start = len(predictions) - len(y_test)\n",
    "\n",
    "predictions = predictions[start:]\n",
    "\n",
    "# Hitung metrik evaluasi\n",
    "rmse = np.sqrt(mean_squared_error(y_test, predictions))\n",
    "mae = mean_absolute_error(y_test, predictions)\n",
    "\n",
    "print(\"RMSE: \", rmse)\n",
    "print(\"MAE: \", mae)\n"
   ]
  },
  {
   "cell_type": "code",
   "execution_count": 133,
   "metadata": {},
   "outputs": [
    {
     "name": "stderr",
     "output_type": "stream",
     "text": [
      "C:\\Users\\thari\\AppData\\Local\\Temp\\ipykernel_20912\\3756074682.py:3: SettingWithCopyWarning:\n",
      "\n",
      "\n",
      "A value is trying to be set on a copy of a slice from a DataFrame.\n",
      "Try using .loc[row_indexer,col_indexer] = value instead\n",
      "\n",
      "See the caveats in the documentation: https://pandas.pydata.org/pandas-docs/stable/user_guide/indexing.html#returning-a-view-versus-a-copy\n",
      "\n"
     ]
    },
    {
     "data": {
      "image/png": "[encoded data removed]",
      "text/plain": [
       "<Figure size 1600x800 with 1 Axes>"
      ]
     },
     "metadata": {},
     "output_type": "display_data"
    }
   ],
   "source": [
    "train = data[:training_data_len]\n",
    "valid = data[training_data_len:]\n",
    "valid['Predictions'] = predictions\n",
    "\n",
    "plt.figure(figsize=(16,8))\n",
    "plt.title('Model')\n",
    "plt.xlabel('Date')\n",
    "plt.ylabel('Close Price USD ($)')\n",
    "plt.plot(train['Close'])\n",
    "plt.plot(valid[['Close', 'Predictions']])\n",
    "plt.legend(['Train', 'Val', 'Predictions'], loc='lower right')\n",
    "plt.show()"
   ]
  },
  {
   "cell_type": "code",
   "execution_count": 134,
   "metadata": {},
   "outputs": [
    {
     "data": {
      "application/vnd.plotly.v1+json": {
       "config": {
        "plotlyServerURL": "https://plot.ly"
       },
       "data": [
        {
         "mode": "lines",
         "name": "Val",
         "type": "scatter",
         "x": [
          "2023-11-22T00:00:00",
          "2023-11-23T00:00:00",
          "2023-11-24T00:00:00",
          "2023-11-27T00:00:00",
          "2023-11-28T00:00:00",
          "2023-11-29T00:00:00",
          "2023-11-30T00:00:00",
          "2023-12-01T00:00:00",
          "2023-12-04T00:00:00",
          "2023-12-05T00:00:00",
          "2023-12-06T00:00:00",
          "2023-12-07T00:00:00",
          "2023-12-08T00:00:00",
          "2023-12-11T00:00:00",
          "2023-12-12T00:00:00",
          "2023-12-13T00:00:00",
          "2023-12-14T00:00:00",
          "2023-12-15T00:00:00",
          "2023-12-18T00:00:00",
          "2023-12-19T00:00:00",
          "2023-12-20T00:00:00",
          "2023-12-21T00:00:00",
          "2023-12-22T00:00:00",
          "2023-12-27T00:00:00",
          "2023-12-28T00:00:00",
          "2023-12-29T00:00:00",
          "2024-01-02T00:00:00",
          "2024-01-03T00:00:00",
          "2024-01-04T00:00:00",
          "2024-01-05T00:00:00",
          "2024-01-08T00:00:00",
          "2024-01-09T00:00:00",
          "2024-01-10T00:00:00",
          "2024-01-11T00:00:00",
          "2024-01-12T00:00:00",
          "2024-01-15T00:00:00",
          "2024-01-16T00:00:00",
          "2024-01-17T00:00:00",
          "2024-01-18T00:00:00",
          "2024-01-19T00:00:00",
          "2024-01-22T00:00:00",
          "2024-01-23T00:00:00",
          "2024-01-24T00:00:00",
          "2024-01-25T00:00:00",
          "2024-01-26T00:00:00",
          "2024-01-29T00:00:00",
          "2024-01-30T00:00:00",
          "2024-01-31T00:00:00",
          "2024-02-01T00:00:00",
          "2024-02-02T00:00:00",
          "2024-02-05T00:00:00",
          "2024-02-06T00:00:00",
          "2024-02-07T00:00:00",
          "2024-02-12T00:00:00",
          "2024-02-13T00:00:00",
          "2024-02-15T00:00:00",
          "2024-02-16T00:00:00",
          "2024-02-19T00:00:00",
          "2024-02-20T00:00:00",
          "2024-02-21T00:00:00",
          "2024-02-22T00:00:00",
          "2024-02-23T00:00:00",
          "2024-02-26T00:00:00",
          "2024-02-27T00:00:00",
          "2024-02-28T00:00:00",
          "2024-02-29T00:00:00",
          "2024-03-01T00:00:00",
          "2024-03-04T00:00:00",
          "2024-03-05T00:00:00",
          "2024-03-06T00:00:00",
          "2024-03-07T00:00:00",
          "2024-03-08T00:00:00",
          "2024-03-13T00:00:00",
          "2024-03-14T00:00:00",
          "2024-03-15T00:00:00",
          "2024-03-18T00:00:00",
          "2024-03-19T00:00:00",
          "2024-03-20T00:00:00",
          "2024-03-21T00:00:00",
          "2024-03-22T00:00:00",
          "2024-03-25T00:00:00",
          "2024-03-26T00:00:00",
          "2024-03-27T00:00:00",
          "2024-03-28T00:00:00",
          "2024-04-01T00:00:00",
          "2024-04-02T00:00:00",
          "2024-04-03T00:00:00",
          "2024-04-04T00:00:00",
          "2024-04-05T00:00:00",
          "2024-04-16T00:00:00",
          "2024-04-17T00:00:00",
          "2024-04-18T00:00:00",
          "2024-04-19T00:00:00",
          "2024-04-22T00:00:00",
          "2024-04-23T00:00:00",
          "2024-04-24T00:00:00",
          "2024-04-25T00:00:00",
          "2024-04-26T00:00:00",
          "2024-04-29T00:00:00",
          "2024-04-30T00:00:00",
          "2024-05-02T00:00:00",
          "2024-05-03T00:00:00",
          "2024-05-06T00:00:00",
          "2024-05-07T00:00:00",
          "2024-05-08T00:00:00",
          "2024-05-13T00:00:00",
          "2024-05-14T00:00:00",
          "2024-05-15T00:00:00",
          "2024-05-16T00:00:00",
          "2024-05-17T00:00:00",
          "2024-05-20T00:00:00",
          "2024-05-21T00:00:00",
          "2024-05-22T00:00:00",
          "2024-05-27T00:00:00",
          "2024-05-28T00:00:00",
          "2024-05-29T00:00:00",
          "2024-05-30T00:00:00",
          "2024-05-31T00:00:00",
          "2024-06-03T00:00:00",
          "2024-06-04T00:00:00",
          "2024-06-05T00:00:00",
          "2024-06-06T00:00:00",
          "2024-06-07T00:00:00",
          "2024-06-10T00:00:00",
          "2024-06-11T00:00:00",
          "2024-06-12T00:00:00",
          "2024-06-13T00:00:00",
          "2024-06-14T00:00:00",
          "2024-06-19T00:00:00",
          "2024-06-20T00:00:00",
          "2024-06-21T00:00:00",
          "2024-06-24T00:00:00",
          "2024-06-25T00:00:00",
          "2024-06-26T00:00:00",
          "2024-06-27T00:00:00",
          "2024-06-28T00:00:00",
          "2024-07-01T00:00:00",
          "2024-07-02T00:00:00",
          "2024-07-03T00:00:00",
          "2024-07-04T00:00:00",
          "2024-07-05T00:00:00",
          "2024-07-08T00:00:00",
          "2024-07-09T00:00:00",
          "2024-07-10T00:00:00",
          "2024-07-11T00:00:00",
          "2024-07-12T00:00:00",
          "2024-07-15T00:00:00",
          "2024-07-16T00:00:00",
          "2024-07-17T00:00:00",
          "2024-07-18T00:00:00",
          "2024-07-19T00:00:00",
          "2024-07-22T00:00:00",
          "2024-07-23T00:00:00",
          "2024-07-24T00:00:00",
          "2024-07-25T00:00:00",
          "2024-07-26T00:00:00",
          "2024-07-29T00:00:00",
          "2024-07-30T00:00:00",
          "2024-07-31T00:00:00",
          "2024-08-01T00:00:00",
          "2024-08-02T00:00:00",
          "2024-08-05T00:00:00",
          "2024-08-06T00:00:00",
          "2024-08-07T00:00:00",
          "2024-08-08T00:00:00",
          "2024-08-09T00:00:00",
          "2024-08-12T00:00:00",
          "2024-08-13T00:00:00",
          "2024-08-14T00:00:00",
          "2024-08-15T00:00:00",
          "2024-08-16T00:00:00",
          "2024-08-19T00:00:00",
          "2024-08-20T00:00:00",
          "2024-08-21T00:00:00",
          "2024-08-22T00:00:00",
          "2024-08-23T00:00:00",
          "2024-08-26T00:00:00",
          "2024-08-27T00:00:00",
          "2024-08-28T00:00:00",
          "2024-08-29T00:00:00",
          "2024-08-30T00:00:00",
          "2024-09-02T00:00:00",
          "2024-09-03T00:00:00",
          "2024-09-04T00:00:00",
          "2024-09-05T00:00:00",
          "2024-09-06T00:00:00",
          "2024-09-09T00:00:00",
          "2024-09-10T00:00:00",
          "2024-09-11T00:00:00",
          "2024-09-12T00:00:00",
          "2024-09-13T00:00:00",
          "2024-09-17T00:00:00",
          "2024-09-18T00:00:00",
          "2024-09-19T00:00:00",
          "2024-09-20T00:00:00",
          "2024-09-23T00:00:00",
          "2024-09-24T00:00:00",
          "2024-09-25T00:00:00",
          "2024-09-26T00:00:00",
          "2024-09-27T00:00:00",
          "2024-09-30T00:00:00",
          "2024-10-01T00:00:00",
          "2024-10-02T00:00:00",
          "2024-10-03T00:00:00",
          "2024-10-04T00:00:00",
          "2024-10-07T00:00:00",
          "2024-10-08T00:00:00",
          "2024-10-09T00:00:00",
          "2024-10-10T00:00:00",
          "2024-10-11T00:00:00",
          "2024-10-14T00:00:00",
          "2024-10-15T00:00:00",
          "2024-10-16T00:00:00",
          "2024-10-17T00:00:00",
          "2024-10-18T00:00:00",
          "2024-10-21T00:00:00",
          "2024-10-22T00:00:00",
          "2024-10-23T00:00:00",
          "2024-10-24T00:00:00",
          "2024-10-25T00:00:00",
          "2024-10-28T00:00:00",
          "2024-10-29T00:00:00",
          "2024-10-30T00:00:00",
          "2024-10-31T00:00:00",
          "2024-11-01T00:00:00",
          "2024-11-04T00:00:00",
          "2024-11-05T00:00:00",
          "2024-11-06T00:00:00",
          "2024-11-07T00:00:00",
          "2024-11-08T00:00:00",
          "2024-11-11T00:00:00",
          "2024-11-12T00:00:00",
          "2024-11-13T00:00:00",
          "2024-11-14T00:00:00",
          "2024-11-15T00:00:00",
          "2024-11-18T00:00:00",
          "2024-11-19T00:00:00",
          "2024-11-20T00:00:00"
         ],
         "y": [
          4843.5341796875,
          4915.11376953125,
          4962.8330078125,
          5034.41259765625,
          4938.9736328125,
          4986.69287109375,
          5034.41259765625,
          5010.552734375,
          5058.2724609375,
          5058.2724609375,
          4986.69287109375,
          5034.41259765625,
          4843.5341796875,
          4938.9736328125,
          5034.41259765625,
          4938.9736328125,
          5105.99169921875,
          5034.41259765625,
          4962.8330078125,
          4962.8330078125,
          4962.8330078125,
          4915.11376953125,
          5010.552734375,
          5034.41259765625,
          5105.99169921875,
          5129.8515625,
          5129.8515625,
          5105.99169921875,
          5344.58984375,
          5320.72998046875,
          5320.72998046875,
          5392.30908203125,
          5344.58984375,
          5344.58984375,
          5344.58984375,
          5368.44921875,
          5344.58984375,
          5296.8701171875,
          5296.8701171875,
          5249.150390625,
          5273.01025390625,
          5177.5712890625,
          5225.29052734375,
          5153.71142578125,
          5177.5712890625,
          5320.72998046875,
          5392.30908203125,
          5487.748046875,
          5463.888671875,
          5511.60791015625,
          5487.748046875,
          5511.60791015625,
          5487.748046875,
          5678.62646484375,
          5607.04736328125,
          5726.34619140625,
          5726.34619140625,
          5607.04736328125,
          5750.20556640625,
          5726.34619140625,
          5678.62646484375,
          5630.90673828125,
          5630.90673828125,
          5726.34619140625,
          5702.486328125,
          5726.34619140625,
          5630.90673828125,
          5607.04736328125,
          5630.90673828125,
          5678.62646484375,
          5702.486328125,
          5821.78515625,
          5941.083984375,
          5869.5048828125,
          5800,
          5800,
          5850,
          5875,
          5800,
          5850,
          5925,
          5950,
          5925,
          5900,
          5650,
          5475,
          5325,
          5350,
          5300,
          5200,
          5250,
          5300,
          5225,
          5350,
          5250,
          5300,
          5300,
          5150,
          5225,
          5250,
          4830,
          4830,
          4810,
          4700,
          4670,
          4780,
          4930,
          5025,
          5200,
          5175,
          4980,
          4770,
          4760,
          4670,
          4710,
          4530,
          4490,
          4400,
          4620,
          4640,
          4610,
          4770,
          4700,
          4610,
          4480,
          4430,
          4480,
          4310,
          4300,
          4400,
          4540,
          4540,
          4480,
          4420,
          4580,
          4660,
          4710,
          4710,
          4650,
          4710,
          4700,
          4670,
          4860,
          4820,
          4870,
          5025,
          5025,
          4980,
          5000,
          5075,
          5100,
          5100,
          5050,
          5100,
          5025,
          5000,
          5025,
          4950,
          4970,
          5075,
          5100,
          4960,
          5025,
          5000,
          5025,
          5125,
          5125,
          5175,
          5275,
          5250,
          5300,
          5350,
          5475,
          5450,
          5275,
          5450,
          5525,
          5400,
          5375,
          5300,
          5350,
          5350,
          5375,
          5350,
          5450,
          5650,
          5725,
          5700,
          5650,
          5600,
          5625,
          5650,
          5700,
          5825,
          5750,
          5800,
          5800,
          5600,
          5600,
          5450,
          5350,
          5375,
          5350,
          5375,
          5325,
          5200,
          5350,
          5325,
          5325,
          5375,
          5425,
          5500,
          5475,
          5500,
          5650,
          5625,
          5650,
          5675,
          5625,
          5650,
          5500,
          5300,
          5225,
          5250,
          5200,
          5300,
          5400,
          5125,
          5025,
          4980,
          4990,
          4930,
          4960,
          4950,
          4910,
          4870,
          4850,
          4850
         ]
        },
        {
         "mode": "lines",
         "name": "Predictions",
         "type": "scatter",
         "x": [
          "2023-11-22T00:00:00",
          "2023-11-23T00:00:00",
          "2023-11-24T00:00:00",
          "2023-11-27T00:00:00",
          "2023-11-28T00:00:00",
          "2023-11-29T00:00:00",
          "2023-11-30T00:00:00",
          "2023-12-01T00:00:00",
          "2023-12-04T00:00:00",
          "2023-12-05T00:00:00",
          "2023-12-06T00:00:00",
          "2023-12-07T00:00:00",
          "2023-12-08T00:00:00",
          "2023-12-11T00:00:00",
          "2023-12-12T00:00:00",
          "2023-12-13T00:00:00",
          "2023-12-14T00:00:00",
          "2023-12-15T00:00:00",
          "2023-12-18T00:00:00",
          "2023-12-19T00:00:00",
          "2023-12-20T00:00:00",
          "2023-12-21T00:00:00",
          "2023-12-22T00:00:00",
          "2023-12-27T00:00:00",
          "2023-12-28T00:00:00",
          "2023-12-29T00:00:00",
          "2024-01-02T00:00:00",
          "2024-01-03T00:00:00",
          "2024-01-04T00:00:00",
          "2024-01-05T00:00:00",
          "2024-01-08T00:00:00",
          "2024-01-09T00:00:00",
          "2024-01-10T00:00:00",
          "2024-01-11T00:00:00",
          "2024-01-12T00:00:00",
          "2024-01-15T00:00:00",
          "2024-01-16T00:00:00",
          "2024-01-17T00:00:00",
          "2024-01-18T00:00:00",
          "2024-01-19T00:00:00",
          "2024-01-22T00:00:00",
          "2024-01-23T00:00:00",
          "2024-01-24T00:00:00",
          "2024-01-25T00:00:00",
          "2024-01-26T00:00:00",
          "2024-01-29T00:00:00",
          "2024-01-30T00:00:00",
          "2024-01-31T00:00:00",
          "2024-02-01T00:00:00",
          "2024-02-02T00:00:00",
          "2024-02-05T00:00:00",
          "2024-02-06T00:00:00",
          "2024-02-07T00:00:00",
          "2024-02-12T00:00:00",
          "2024-02-13T00:00:00",
          "2024-02-15T00:00:00",
          "2024-02-16T00:00:00",
          "2024-02-19T00:00:00",
          "2024-02-20T00:00:00",
          "2024-02-21T00:00:00",
          "2024-02-22T00:00:00",
          "2024-02-23T00:00:00",
          "2024-02-26T00:00:00",
          "2024-02-27T00:00:00",
          "2024-02-28T00:00:00",
          "2024-02-29T00:00:00",
          "2024-03-01T00:00:00",
          "2024-03-04T00:00:00",
          "2024-03-05T00:00:00",
          "2024-03-06T00:00:00",
          "2024-03-07T00:00:00",
          "2024-03-08T00:00:00",
          "2024-03-13T00:00:00",
          "2024-03-14T00:00:00",
          "2024-03-15T00:00:00",
          "2024-03-18T00:00:00",
          "2024-03-19T00:00:00",
          "2024-03-20T00:00:00",
          "2024-03-21T00:00:00",
          "2024-03-22T00:00:00",
          "2024-03-25T00:00:00",
          "2024-03-26T00:00:00",
          "2024-03-27T00:00:00",
          "2024-03-28T00:00:00",
          "2024-04-01T00:00:00",
          "2024-04-02T00:00:00",
          "2024-04-03T00:00:00",
          "2024-04-04T00:00:00",
          "2024-04-05T00:00:00",
          "2024-04-16T00:00:00",
          "2024-04-17T00:00:00",
          "2024-04-18T00:00:00",
          "2024-04-19T00:00:00",
          "2024-04-22T00:00:00",
          "2024-04-23T00:00:00",
          "2024-04-24T00:00:00",
          "2024-04-25T00:00:00",
          "2024-04-26T00:00:00",
          "2024-04-29T00:00:00",
          "2024-04-30T00:00:00",
          "2024-05-02T00:00:00",
          "2024-05-03T00:00:00",
          "2024-05-06T00:00:00",
          "2024-05-07T00:00:00",
          "2024-05-08T00:00:00",
          "2024-05-13T00:00:00",
          "2024-05-14T00:00:00",
          "2024-05-15T00:00:00",
          "2024-05-16T00:00:00",
          "2024-05-17T00:00:00",
          "2024-05-20T00:00:00",
          "2024-05-21T00:00:00",
          "2024-05-22T00:00:00",
          "2024-05-27T00:00:00",
          "2024-05-28T00:00:00",
          "2024-05-29T00:00:00",
          "2024-05-30T00:00:00",
          "2024-05-31T00:00:00",
          "2024-06-03T00:00:00",
          "2024-06-04T00:00:00",
          "2024-06-05T00:00:00",
          "2024-06-06T00:00:00",
          "2024-06-07T00:00:00",
          "2024-06-10T00:00:00",
          "2024-06-11T00:00:00",
          "2024-06-12T00:00:00",
          "2024-06-13T00:00:00",
          "2024-06-14T00:00:00",
          "2024-06-19T00:00:00",
          "2024-06-20T00:00:00",
          "2024-06-21T00:00:00",
          "2024-06-24T00:00:00",
          "2024-06-25T00:00:00",
          "2024-06-26T00:00:00",
          "2024-06-27T00:00:00",
          "2024-06-28T00:00:00",
          "2024-07-01T00:00:00",
          "2024-07-02T00:00:00",
          "2024-07-03T00:00:00",
          "2024-07-04T00:00:00",
          "2024-07-05T00:00:00",
          "2024-07-08T00:00:00",
          "2024-07-09T00:00:00",
          "2024-07-10T00:00:00",
          "2024-07-11T00:00:00",
          "2024-07-12T00:00:00",
          "2024-07-15T00:00:00",
          "2024-07-16T00:00:00",
          "2024-07-17T00:00:00",
          "2024-07-18T00:00:00",
          "2024-07-19T00:00:00",
          "2024-07-22T00:00:00",
          "2024-07-23T00:00:00",
          "2024-07-24T00:00:00",
          "2024-07-25T00:00:00",
          "2024-07-26T00:00:00",
          "2024-07-29T00:00:00",
          "2024-07-30T00:00:00",
          "2024-07-31T00:00:00",
          "2024-08-01T00:00:00",
          "2024-08-02T00:00:00",
          "2024-08-05T00:00:00",
          "2024-08-06T00:00:00",
          "2024-08-07T00:00:00",
          "2024-08-08T00:00:00",
          "2024-08-09T00:00:00",
          "2024-08-12T00:00:00",
          "2024-08-13T00:00:00",
          "2024-08-14T00:00:00",
          "2024-08-15T00:00:00",
          "2024-08-16T00:00:00",
          "2024-08-19T00:00:00",
          "2024-08-20T00:00:00",
          "2024-08-21T00:00:00",
          "2024-08-22T00:00:00",
          "2024-08-23T00:00:00",
          "2024-08-26T00:00:00",
          "2024-08-27T00:00:00",
          "2024-08-28T00:00:00",
          "2024-08-29T00:00:00",
          "2024-08-30T00:00:00",
          "2024-09-02T00:00:00",
          "2024-09-03T00:00:00",
          "2024-09-04T00:00:00",
          "2024-09-05T00:00:00",
          "2024-09-06T00:00:00",
          "2024-09-09T00:00:00",
          "2024-09-10T00:00:00",
          "2024-09-11T00:00:00",
          "2024-09-12T00:00:00",
          "2024-09-13T00:00:00",
          "2024-09-17T00:00:00",
          "2024-09-18T00:00:00",
          "2024-09-19T00:00:00",
          "2024-09-20T00:00:00",
          "2024-09-23T00:00:00",
          "2024-09-24T00:00:00",
          "2024-09-25T00:00:00",
          "2024-09-26T00:00:00",
          "2024-09-27T00:00:00",
          "2024-09-30T00:00:00",
          "2024-10-01T00:00:00",
          "2024-10-02T00:00:00",
          "2024-10-03T00:00:00",
          "2024-10-04T00:00:00",
          "2024-10-07T00:00:00",
          "2024-10-08T00:00:00",
          "2024-10-09T00:00:00",
          "2024-10-10T00:00:00",
          "2024-10-11T00:00:00",
          "2024-10-14T00:00:00",
          "2024-10-15T00:00:00",
          "2024-10-16T00:00:00",
          "2024-10-17T00:00:00",
          "2024-10-18T00:00:00",
          "2024-10-21T00:00:00",
          "2024-10-22T00:00:00",
          "2024-10-23T00:00:00",
          "2024-10-24T00:00:00",
          "2024-10-25T00:00:00",
          "2024-10-28T00:00:00",
          "2024-10-29T00:00:00",
          "2024-10-30T00:00:00",
          "2024-10-31T00:00:00",
          "2024-11-01T00:00:00",
          "2024-11-04T00:00:00",
          "2024-11-05T00:00:00",
          "2024-11-06T00:00:00",
          "2024-11-07T00:00:00",
          "2024-11-08T00:00:00",
          "2024-11-11T00:00:00",
          "2024-11-12T00:00:00",
          "2024-11-13T00:00:00",
          "2024-11-14T00:00:00",
          "2024-11-15T00:00:00",
          "2024-11-18T00:00:00",
          "2024-11-19T00:00:00",
          "2024-11-20T00:00:00"
         ],
         "y": [
          4796.4423828125,
          4868.86767578125,
          4915.0068359375,
          4986.9111328125,
          4888.3583984375,
          4943.15625,
          4989.68798828125,
          4989.63671875,
          5029.833984375,
          5021.63671875,
          4942.4560546875,
          4996.05712890625,
          4791.1103515625,
          4909.01220703125,
          4999.875,
          4895.41259765625,
          5070.7060546875,
          4984.78466796875,
          4915.6669921875,
          4917.5576171875,
          4942.583984375,
          4858.6728515625,
          4967.47509765625,
          4986.0517578125,
          5061.69091796875,
          5084.10693359375,
          5084.61767578125,
          5061.14013671875,
          5308.083984375,
          5265.65576171875,
          5271.43603515625,
          5346.16650390625,
          5291.1044921875,
          5297.0341796875,
          5296.73876953125,
          5321.69970703125,
          5295.14990234375,
          5248.66748046875,
          5252.81591796875,
          5202.8720703125,
          5231.58740234375,
          5130.5380859375,
          5187.63427734375,
          5109.0859375,
          5139.54443359375,
          5284.90185546875,
          5348.22802734375,
          5443.6826171875,
          5412.13720703125,
          5466.861328125,
          5437.3701171875,
          5465.814453125,
          5437.98193359375,
          5640.44677734375,
          5543.52001953125,
          5718.1904296875,
          5654.40576171875,
          5565.64599609375,
          5707.9072265625,
          5664.37109375,
          5621.60498046875,
          5607.19091796875,
          5595.2578125,
          5678.07177734375,
          5639.89013671875,
          5672.3330078125,
          5568.044921875,
          5556.18701171875,
          5612.8623046875,
          5615.89404296875,
          5644.38818359375,
          5767.888671875,
          5880.23583984375,
          5791.8759765625,
          5763.89697265625,
          5731.91357421875,
          5794.779296875,
          5812.13134765625,
          5732.0390625,
          5798.09375,
          5868.4296875,
          5885.37109375,
          5834.12353515625,
          5856.828125,
          5580.83984375,
          5427.1083984375,
          5280.14208984375,
          5314.46923828125,
          5281.685546875,
          5141.333984375,
          5204.9033203125,
          5284.37841796875,
          5192.7099609375,
          5296.1533203125,
          5230.32470703125,
          5270.07470703125,
          5293.91796875,
          5095.7451171875,
          5197.3203125,
          5213.732421875,
          4788.0048828125,
          4806.78076171875,
          4782.775390625,
          4668.88330078125,
          4642.67236328125,
          4753.724609375,
          4901.337890625,
          4991.6455078125,
          5165.86279296875,
          5130.453125,
          4935.01806640625,
          4732.517578125,
          4727.38134765625,
          4633.11865234375,
          4699.78564453125,
          4480.6552734375,
          4452.67919921875,
          4362.47900390625,
          4585.048828125,
          4604.7958984375,
          4576.0458984375,
          4737.1044921875,
          4663.85986328125,
          4575.5849609375,
          4463.515625,
          4389.03076171875,
          4435.4287109375,
          4322.29345703125,
          4266.0517578125,
          4351.00146484375,
          4510.93896484375,
          4532.80126953125,
          4441.0830078125,
          4385.0078125,
          4543.73291015625,
          4623.7177734375,
          4674.32861328125,
          4674.5556640625,
          4614.81005859375,
          4675.15185546875,
          4662.82373046875,
          4654.96435546875,
          4847.47900390625,
          4768.6455078125,
          4829.56201171875,
          4987.23974609375,
          4980.5908203125,
          4936.93798828125,
          4959.3857421875,
          5032.876953125,
          5081.5107421875,
          5043.2470703125,
          4998.4951171875,
          5053.6962890625,
          4960.080078125,
          4945.41845703125,
          5042.50439453125,
          4898.46142578125,
          4929.1103515625,
          5061.57275390625,
          5062.59521484375,
          4906.703125,
          4931.1748046875,
          4988.26123046875,
          4958.27197265625,
          4989.81982421875,
          5092.44775390625,
          5084.2783203125,
          5134.49267578125,
          5231.32275390625,
          5196.51953125,
          5250.0419921875,
          5296.91357421875,
          5422.8447265625,
          5387.173828125,
          5212.18994140625,
          5448.06298828125,
          5460.80615234375,
          5354.28662109375,
          5309.01513671875,
          5243.6455078125,
          5327.580078125,
          5309.814453125,
          5332.83544921875,
          5301.6025390625,
          5405.88671875,
          5604.5576171875,
          5697.7763671875,
          5625.32763671875,
          5592.2548828125,
          5546.1337890625,
          5579.85498046875,
          5602.142578125,
          5651.77880859375,
          5777.2177734375,
          5682.39599609375,
          5782.9931640625,
          5728.1923828125,
          5547.28125,
          5549.3876953125,
          5390.638671875,
          5304.0048828125,
          5338.41015625,
          5306.48876953125,
          5334.02294921875,
          5277.91796875,
          5175.3046875,
          5339.8623046875,
          5266.35498046875,
          5301.8740234375,
          5328.31640625,
          5383.263671875,
          5457.5400390625,
          5452.69091796875,
          5446.93310546875,
          5609.4775390625,
          5561.34912109375,
          5595.23291015625,
          5617.8232421875,
          5562.3623046875,
          5594.876953125,
          5457.59765625,
          5227.96728515625,
          5165.85986328125,
          5222.2490234375,
          5157.1796875,
          5263.3623046875,
          5357.1982421875,
          5060.1953125,
          4982.3798828125,
          4966.74462890625,
          4938.72705078125,
          4949.62451171875,
          4920.77197265625,
          4915.166015625,
          4874.048828125,
          4837.16650390625,
          4820.2373046875
         ]
        }
       ],
       "layout": {
        "template": {
         "data": {
          "bar": [
           {
            "error_x": {
             "color": "#2a3f5f"
            },
            "error_y": {
             "color": "#2a3f5f"
            },
            "marker": {
             "line": {
              "color": "#E5ECF6",
              "width": 0.5
             },
             "pattern": {
              "fillmode": "overlay",
              "size": 10,
              "solidity": 0.2
             }
            },
            "type": "bar"
           }
          ],
          "barpolar": [
           {
            "marker": {
             "line": {
              "color": "#E5ECF6",
              "width": 0.5
             },
             "pattern": {
              "fillmode": "overlay",
              "size": 10,
              "solidity": 0.2
             }
            },
            "type": "barpolar"
           }
          ],
          "carpet": [
           {
            "aaxis": {
             "endlinecolor": "#2a3f5f",
             "gridcolor": "white",
             "linecolor": "white",
             "minorgridcolor": "white",
             "startlinecolor": "#2a3f5f"
            },
            "baxis": {
             "endlinecolor": "#2a3f5f",
             "gridcolor": "white",
             "linecolor": "white",
             "minorgridcolor": "white",
             "startlinecolor": "#2a3f5f"
            },
            "type": "carpet"
           }
          ],
          "choropleth": [
           {
            "colorbar": {
             "outlinewidth": 0,
             "ticks": ""
            },
            "type": "choropleth"
           }
          ],
          "contour": [
           {
            "colorbar": {
             "outlinewidth": 0,
             "ticks": ""
            },
            "colorscale": [
             [
              0,
              "#0d0887"
             ],
             [
              0.1111111111111111,
              "#46039f"
             ],
             [
              0.2222222222222222,
              "#7201a8"
             ],
             [
              0.3333333333333333,
              "#9c179e"
             ],
             [
              0.4444444444444444,
              "#bd3786"
             ],
             [
              0.5555555555555556,
              "#d8576b"
             ],
             [
              0.6666666666666666,
              "#ed7953"
             ],
             [
              0.7777777777777778,
              "#fb9f3a"
             ],
             [
              0.8888888888888888,
              "#fdca26"
             ],
             [
              1,
              "#f0f921"
             ]
            ],
            "type": "contour"
           }
          ],
          "contourcarpet": [
           {
            "colorbar": {
             "outlinewidth": 0,
             "ticks": ""
            },
            "type": "contourcarpet"
           }
          ],
          "heatmap": [
           {
            "colorbar": {
             "outlinewidth": 0,
             "ticks": ""
            },
            "colorscale": [
             [
              0,
              "#0d0887"
             ],
             [
              0.1111111111111111,
              "#46039f"
             ],
             [
              0.2222222222222222,
              "#7201a8"
             ],
             [
              0.3333333333333333,
              "#9c179e"
             ],
             [
              0.4444444444444444,
              "#bd3786"
             ],
             [
              0.5555555555555556,
              "#d8576b"
             ],
             [
              0.6666666666666666,
              "#ed7953"
             ],
             [
              0.7777777777777778,
              "#fb9f3a"
             ],
             [
              0.8888888888888888,
              "#fdca26"
             ],
             [
              1,
              "#f0f921"
             ]
            ],
            "type": "heatmap"
           }
          ],
          "heatmapgl": [
           {
            "colorbar": {
             "outlinewidth": 0,
             "ticks": ""
            },
            "colorscale": [
             [
              0,
              "#0d0887"
             ],
             [
              0.1111111111111111,
              "#46039f"
             ],
             [
              0.2222222222222222,
              "#7201a8"
             ],
             [
              0.3333333333333333,
              "#9c179e"
             ],
             [
              0.4444444444444444,
              "#bd3786"
             ],
             [
              0.5555555555555556,
              "#d8576b"
             ],
             [
              0.6666666666666666,
              "#ed7953"
             ],
             [
              0.7777777777777778,
              "#fb9f3a"
             ],
             [
              0.8888888888888888,
              "#fdca26"
             ],
             [
              1,
              "#f0f921"
             ]
            ],
            "type": "heatmapgl"
           }
          ],
          "histogram": [
           {
            "marker": {
             "pattern": {
              "fillmode": "overlay",
              "size": 10,
              "solidity": 0.2
             }
            },
            "type": "histogram"
           }
          ],
          "histogram2d": [
           {
            "colorbar": {
             "outlinewidth": 0,
             "ticks": ""
            },
            "colorscale": [
             [
              0,
              "#0d0887"
             ],
             [
              0.1111111111111111,
              "#46039f"
             ],
             [
              0.2222222222222222,
              "#7201a8"
             ],
             [
              0.3333333333333333,
              "#9c179e"
             ],
             [
              0.4444444444444444,
              "#bd3786"
             ],
             [
              0.5555555555555556,
              "#d8576b"
             ],
             [
              0.6666666666666666,
              "#ed7953"
             ],
             [
              0.7777777777777778,
              "#fb9f3a"
             ],
             [
              0.8888888888888888,
              "#fdca26"
             ],
             [
              1,
              "#f0f921"
             ]
            ],
            "type": "histogram2d"
           }
          ],
          "histogram2dcontour": [
           {
            "colorbar": {
             "outlinewidth": 0,
             "ticks": ""
            },
            "colorscale": [
             [
              0,
              "#0d0887"
             ],
             [
              0.1111111111111111,
              "#46039f"
             ],
             [
              0.2222222222222222,
              "#7201a8"
             ],
             [
              0.3333333333333333,
              "#9c179e"
             ],
             [
              0.4444444444444444,
              "#bd3786"
             ],
             [
              0.5555555555555556,
              "#d8576b"
             ],
             [
              0.6666666666666666,
              "#ed7953"
             ],
             [
              0.7777777777777778,
              "#fb9f3a"
             ],
             [
              0.8888888888888888,
              "#fdca26"
             ],
             [
              1,
              "#f0f921"
             ]
            ],
            "type": "histogram2dcontour"
           }
          ],
          "mesh3d": [
           {
            "colorbar": {
             "outlinewidth": 0,
             "ticks": ""
            },
            "type": "mesh3d"
           }
          ],
          "parcoords": [
           {
            "line": {
             "colorbar": {
              "outlinewidth": 0,
              "ticks": ""
             }
            },
            "type": "parcoords"
           }
          ],
          "pie": [
           {
            "automargin": true,
            "type": "pie"
           }
          ],
          "scatter": [
           {
            "fillpattern": {
             "fillmode": "overlay",
             "size": 10,
             "solidity": 0.2
            },
            "type": "scatter"
           }
          ],
          "scatter3d": [
           {
            "line": {
             "colorbar": {
              "outlinewidth": 0,
              "ticks": ""
             }
            },
            "marker": {
             "colorbar": {
              "outlinewidth": 0,
              "ticks": ""
             }
            },
            "type": "scatter3d"
           }
          ],
          "scattercarpet": [
           {
            "marker": {
             "colorbar": {
              "outlinewidth": 0,
              "ticks": ""
             }
            },
            "type": "scattercarpet"
           }
          ],
          "scattergeo": [
           {
            "marker": {
             "colorbar": {
              "outlinewidth": 0,
              "ticks": ""
             }
            },
            "type": "scattergeo"
           }
          ],
          "scattergl": [
           {
            "marker": {
             "colorbar": {
              "outlinewidth": 0,
              "ticks": ""
             }
            },
            "type": "scattergl"
           }
          ],
          "scattermapbox": [
           {
            "marker": {
             "colorbar": {
              "outlinewidth": 0,
              "ticks": ""
             }
            },
            "type": "scattermapbox"
           }
          ],
          "scatterpolar": [
           {
            "marker": {
             "colorbar": {
              "outlinewidth": 0,
              "ticks": ""
             }
            },
            "type": "scatterpolar"
           }
          ],
          "scatterpolargl": [
           {
            "marker": {
             "colorbar": {
              "outlinewidth": 0,
              "ticks": ""
             }
            },
            "type": "scatterpolargl"
           }
          ],
          "scatterternary": [
           {
            "marker": {
             "colorbar": {
              "outlinewidth": 0,
              "ticks": ""
             }
            },
            "type": "scatterternary"
           }
          ],
          "surface": [
           {
            "colorbar": {
             "outlinewidth": 0,
             "ticks": ""
            },
            "colorscale": [
             [
              0,
              "#0d0887"
             ],
             [
              0.1111111111111111,
              "#46039f"
             ],
             [
              0.2222222222222222,
              "#7201a8"
             ],
             [
              0.3333333333333333,
              "#9c179e"
             ],
             [
              0.4444444444444444,
              "#bd3786"
             ],
             [
              0.5555555555555556,
              "#d8576b"
             ],
             [
              0.6666666666666666,
              "#ed7953"
             ],
             [
              0.7777777777777778,
              "#fb9f3a"
             ],
             [
              0.8888888888888888,
              "#fdca26"
             ],
             [
              1,
              "#f0f921"
             ]
            ],
            "type": "surface"
           }
          ],
          "table": [
           {
            "cells": {
             "fill": {
              "color": "#EBF0F8"
             },
             "line": {
              "color": "white"
             }
            },
            "header": {
             "fill": {
              "color": "#C8D4E3"
             },
             "line": {
              "color": "white"
             }
            },
            "type": "table"
           }
          ]
         },
         "layout": {
          "annotationdefaults": {
           "arrowcolor": "#2a3f5f",
           "arrowhead": 0,
           "arrowwidth": 1
          },
          "autotypenumbers": "strict",
          "coloraxis": {
           "colorbar": {
            "outlinewidth": 0,
            "ticks": ""
           }
          },
          "colorscale": {
           "diverging": [
            [
             0,
             "#8e0152"
            ],
            [
             0.1,
             "#c51b7d"
            ],
            [
             0.2,
             "#de77ae"
            ],
            [
             0.3,
             "#f1b6da"
            ],
            [
             0.4,
             "#fde0ef"
            ],
            [
             0.5,
             "#f7f7f7"
            ],
            [
             0.6,
             "#e6f5d0"
            ],
            [
             0.7,
             "#b8e186"
            ],
            [
             0.8,
             "#7fbc41"
            ],
            [
             0.9,
             "#4d9221"
            ],
            [
             1,
             "#276419"
            ]
           ],
           "sequential": [
            [
             0,
             "#0d0887"
            ],
            [
             0.1111111111111111,
             "#46039f"
            ],
            [
             0.2222222222222222,
             "#7201a8"
            ],
            [
             0.3333333333333333,
             "#9c179e"
            ],
            [
             0.4444444444444444,
             "#bd3786"
            ],
            [
             0.5555555555555556,
             "#d8576b"
            ],
            [
             0.6666666666666666,
             "#ed7953"
            ],
            [
             0.7777777777777778,
             "#fb9f3a"
            ],
            [
             0.8888888888888888,
             "#fdca26"
            ],
            [
             1,
             "#f0f921"
            ]
           ],
           "sequentialminus": [
            [
             0,
             "#0d0887"
            ],
            [
             0.1111111111111111,
             "#46039f"
            ],
            [
             0.2222222222222222,
             "#7201a8"
            ],
            [
             0.3333333333333333,
             "#9c179e"
            ],
            [
             0.4444444444444444,
             "#bd3786"
            ],
            [
             0.5555555555555556,
             "#d8576b"
            ],
            [
             0.6666666666666666,
             "#ed7953"
            ],
            [
             0.7777777777777778,
             "#fb9f3a"
            ],
            [
             0.8888888888888888,
             "#fdca26"
            ],
            [
             1,
             "#f0f921"
            ]
           ]
          },
          "colorway": [
           "#636efa",
           "#EF553B",
           "#00cc96",
           "#ab63fa",
           "#FFA15A",
           "#19d3f3",
           "#FF6692",
           "#B6E880",
           "#FF97FF",
           "#FECB52"
          ],
          "font": {
           "color": "#2a3f5f"
          },
          "geo": {
           "bgcolor": "white",
           "lakecolor": "white",
           "landcolor": "#E5ECF6",
           "showlakes": true,
           "showland": true,
           "subunitcolor": "white"
          },
          "hoverlabel": {
           "align": "left"
          },
          "hovermode": "closest",
          "mapbox": {
           "style": "light"
          },
          "paper_bgcolor": "white",
          "plot_bgcolor": "#E5ECF6",
          "polar": {
           "angularaxis": {
            "gridcolor": "white",
            "linecolor": "white",
            "ticks": ""
           },
           "bgcolor": "#E5ECF6",
           "radialaxis": {
            "gridcolor": "white",
            "linecolor": "white",
            "ticks": ""
           }
          },
          "scene": {
           "xaxis": {
            "backgroundcolor": "#E5ECF6",
            "gridcolor": "white",
            "gridwidth": 2,
            "linecolor": "white",
            "showbackground": true,
            "ticks": "",
            "zerolinecolor": "white"
           },
           "yaxis": {
            "backgroundcolor": "#E5ECF6",
            "gridcolor": "white",
            "gridwidth": 2,
            "linecolor": "white",
            "showbackground": true,
            "ticks": "",
            "zerolinecolor": "white"
           },
           "zaxis": {
            "backgroundcolor": "#E5ECF6",
            "gridcolor": "white",
            "gridwidth": 2,
            "linecolor": "white",
            "showbackground": true,
            "ticks": "",
            "zerolinecolor": "white"
           }
          },
          "shapedefaults": {
           "line": {
            "color": "#2a3f5f"
           }
          },
          "ternary": {
           "aaxis": {
            "gridcolor": "white",
            "linecolor": "white",
            "ticks": ""
           },
           "baxis": {
            "gridcolor": "white",
            "linecolor": "white",
            "ticks": ""
           },
           "bgcolor": "#E5ECF6",
           "caxis": {
            "gridcolor": "white",
            "linecolor": "white",
            "ticks": ""
           }
          },
          "title": {
           "x": 0.05
          },
          "xaxis": {
           "automargin": true,
           "gridcolor": "white",
           "linecolor": "white",
           "ticks": "",
           "title": {
            "standoff": 15
           },
           "zerolinecolor": "white",
           "zerolinewidth": 2
          },
          "yaxis": {
           "automargin": true,
           "gridcolor": "white",
           "linecolor": "white",
           "ticks": "",
           "title": {
            "standoff": 15
           },
           "zerolinecolor": "white",
           "zerolinewidth": 2
          }
         }
        },
        "title": {
         "text": "Model"
        },
        "xaxis": {
         "title": {
          "text": "Date"
         }
        },
        "yaxis": {
         "title": {
          "text": "Close Price USD ($)"
         }
        }
       }
      }
     },
     "metadata": {},
     "output_type": "display_data"
    }
   ],
   "source": [
    "from plotly import graph_objs as go\n",
    "\n",
    "fig = go.Figure()\n",
    "\n",
    "fig.add_trace(go.Scatter(x=valid['date'], y=valid['Close'], mode='lines', name='Val'))\n",
    "fig.add_trace(go.Scatter(x=valid['date'], y=valid['Predictions'], mode='lines', name='Predictions'))\n",
    "\n",
    "fig.update_layout(title='Model',\n",
    "                        xaxis_title='Date',\n",
    "                        yaxis_title='Close Price USD ($)')\n",
    "fig.show()"
   ]
  },
  {
   "cell_type": "markdown",
   "metadata": {},
   "source": [
    "# Close with news body sentiment"
   ]
  },
  {
   "cell_type": "code",
   "execution_count": 135,
   "metadata": {},
   "outputs": [
    {
     "name": "stderr",
     "output_type": "stream",
     "text": [
      "c:\\Users\\thari\\anaconda3\\envs\\ml\\lib\\site-packages\\dateutil\\parser\\_parser.py:1207: UnknownTimezoneWarning:\n",
      "\n",
      "tzname WIB identified but not understood.  Pass `tzinfos` argument in order to correctly return a timezone-aware datetime.  In a future version, this will raise an exception.\n",
      "\n"
     ]
    },
    {
     "data": {
      "text/html": [
       "<div>\n",
       "<style scoped>\n",
       "    .dataframe tbody tr th:only-of-type {\n",
       "        vertical-align: middle;\n",
       "    }\n",
       "\n",
       "    .dataframe tbody tr th {\n",
       "        vertical-align: top;\n",
       "    }\n",
       "\n",
       "    .dataframe thead th {\n",
       "        text-align: right;\n",
       "    }\n",
       "</style>\n",
       "<table border=\"1\" class=\"dataframe\">\n",
       "  <thead>\n",
       "    <tr style=\"text-align: right;\">\n",
       "      <th></th>\n",
       "      <th>title</th>\n",
       "      <th>sentiment</th>\n",
       "    </tr>\n",
       "    <tr>\n",
       "      <th>date</th>\n",
       "      <th></th>\n",
       "      <th></th>\n",
       "    </tr>\n",
       "  </thead>\n",
       "  <tbody>\n",
       "    <tr>\n",
       "      <th>2024-11-11 12:45:00</th>\n",
       "      <td>Berapa Harga Saham BBCA Hari Ini?</td>\n",
       "      <td>negatif</td>\n",
       "    </tr>\n",
       "    <tr>\n",
       "      <th>2024-11-08 15:15:00</th>\n",
       "      <td>Dua Mata Pisau Penghapusan Utang UMKM</td>\n",
       "      <td>negatif</td>\n",
       "    </tr>\n",
       "    <tr>\n",
       "      <th>2024-11-06 13:44:00</th>\n",
       "      <td>Prabowo Hapus Utang UMKM, Begini Efeknya ke Sa...</td>\n",
       "      <td>negatif</td>\n",
       "    </tr>\n",
       "    <tr>\n",
       "      <th>2024-11-05 08:13:00</th>\n",
       "      <td>IHSG Hari Ini Diramal Bergerak Fluktuatif</td>\n",
       "      <td>positif</td>\n",
       "    </tr>\n",
       "    <tr>\n",
       "      <th>2024-10-29 08:30:00</th>\n",
       "      <td>Masuk Daftar 45 Saham Pre-opening, Saham GOTO ...</td>\n",
       "      <td>positif</td>\n",
       "    </tr>\n",
       "    <tr>\n",
       "      <th>...</th>\n",
       "      <td>...</td>\n",
       "      <td>...</td>\n",
       "    </tr>\n",
       "    <tr>\n",
       "      <th>2020-03-10 15:05:00</th>\n",
       "      <td>Mampukah Buyback 12 BUMN Rp 8 T Selamatkan Pas...</td>\n",
       "      <td>positif</td>\n",
       "    </tr>\n",
       "    <tr>\n",
       "      <th>2020-03-10 11:18:00</th>\n",
       "      <td>Alasan 12 BUMN Buyback Saham Rp 8 T</td>\n",
       "      <td>positif</td>\n",
       "    </tr>\n",
       "    <tr>\n",
       "      <th>2020-03-10 10:45:00</th>\n",
       "      <td>12 BUMN Siap Buyback Saham Rp 8 T</td>\n",
       "      <td>positif</td>\n",
       "    </tr>\n",
       "    <tr>\n",
       "      <th>2020-02-21 08:52:00</th>\n",
       "      <td>IHSG Diperkirakan Melemah Jelang Akhir Pekan</td>\n",
       "      <td>negatif</td>\n",
       "    </tr>\n",
       "    <tr>\n",
       "      <th>2020-01-22 22:00:00</th>\n",
       "      <td>Rencana BNI 2020: Caplok Bank Sampai Global Bond</td>\n",
       "      <td>positif</td>\n",
       "    </tr>\n",
       "  </tbody>\n",
       "</table>\n",
       "<p>240 rows × 2 columns</p>\n",
       "</div>"
      ],
      "text/plain": [
       "                                                                 title  \\\n",
       "date                                                                     \n",
       "2024-11-11 12:45:00                  Berapa Harga Saham BBCA Hari Ini?   \n",
       "2024-11-08 15:15:00              Dua Mata Pisau Penghapusan Utang UMKM   \n",
       "2024-11-06 13:44:00  Prabowo Hapus Utang UMKM, Begini Efeknya ke Sa...   \n",
       "2024-11-05 08:13:00          IHSG Hari Ini Diramal Bergerak Fluktuatif   \n",
       "2024-10-29 08:30:00  Masuk Daftar 45 Saham Pre-opening, Saham GOTO ...   \n",
       "...                                                                ...   \n",
       "2020-03-10 15:05:00  Mampukah Buyback 12 BUMN Rp 8 T Selamatkan Pas...   \n",
       "2020-03-10 11:18:00                Alasan 12 BUMN Buyback Saham Rp 8 T   \n",
       "2020-03-10 10:45:00                  12 BUMN Siap Buyback Saham Rp 8 T   \n",
       "2020-02-21 08:52:00       IHSG Diperkirakan Melemah Jelang Akhir Pekan   \n",
       "2020-01-22 22:00:00   Rencana BNI 2020: Caplok Bank Sampai Global Bond   \n",
       "\n",
       "                    sentiment  \n",
       "date                           \n",
       "2024-11-11 12:45:00   negatif  \n",
       "2024-11-08 15:15:00   negatif  \n",
       "2024-11-06 13:44:00   negatif  \n",
       "2024-11-05 08:13:00   positif  \n",
       "2024-10-29 08:30:00   positif  \n",
       "...                       ...  \n",
       "2020-03-10 15:05:00   positif  \n",
       "2020-03-10 11:18:00   positif  \n",
       "2020-03-10 10:45:00   positif  \n",
       "2020-02-21 08:52:00   negatif  \n",
       "2020-01-22 22:00:00   positif  \n",
       "\n",
       "[240 rows x 2 columns]"
      ]
     },
     "execution_count": 135,
     "metadata": {},
     "output_type": "execute_result"
    }
   ],
   "source": [
    "import pandas as pd\n",
    "\n",
    "\n",
    "news = pd.read_csv('Data/BBNI DAVIN  - BBNI ISI.csv')\n",
    "news = news[['publish_date', 'title', 'sentiment']]\n",
    "\n",
    "# Replace Indonesian weekdays and months with English equivalents\n",
    "for indo_day, eng_day in indonesian_weekdays.items():\n",
    "    news['publish_date'] = news['publish_date'].str.replace(indo_day, eng_day, regex=False)\n",
    "for indo_month, eng_month in indonesian_months.items():\n",
    "    news['publish_date'] = news['publish_date'].str.replace(indo_month, eng_month, regex=False)\n",
    "\n",
    "news = news.rename(columns={'publish_date': 'date'})\n",
    "news['date'] = pd.to_datetime(news['date'])\n",
    "news = news.set_index('date')\n",
    "\n",
    "news = news[news.index >= '2019-12-17']\n",
    "\n",
    "news"
   ]
  },
  {
   "cell_type": "code",
   "execution_count": 136,
   "metadata": {},
   "outputs": [
    {
     "name": "stderr",
     "output_type": "stream",
     "text": [
      "C:\\Users\\thari\\AppData\\Local\\Temp\\ipykernel_20912\\2178100794.py:2: SettingWithCopyWarning:\n",
      "\n",
      "\n",
      "A value is trying to be set on a copy of a slice from a DataFrame.\n",
      "Try using .loc[row_indexer,col_indexer] = value instead\n",
      "\n",
      "See the caveats in the documentation: https://pandas.pydata.org/pandas-docs/stable/user_guide/indexing.html#returning-a-view-versus-a-copy\n",
      "\n"
     ]
    },
    {
     "data": {
      "text/html": [
       "<div>\n",
       "<style scoped>\n",
       "    .dataframe tbody tr th:only-of-type {\n",
       "        vertical-align: middle;\n",
       "    }\n",
       "\n",
       "    .dataframe tbody tr th {\n",
       "        vertical-align: top;\n",
       "    }\n",
       "\n",
       "    .dataframe thead th {\n",
       "        text-align: right;\n",
       "    }\n",
       "</style>\n",
       "<table border=\"1\" class=\"dataframe\">\n",
       "  <thead>\n",
       "    <tr style=\"text-align: right;\">\n",
       "      <th></th>\n",
       "      <th>Close</th>\n",
       "    </tr>\n",
       "    <tr>\n",
       "      <th>date</th>\n",
       "      <th></th>\n",
       "    </tr>\n",
       "  </thead>\n",
       "  <tbody>\n",
       "    <tr>\n",
       "      <th>2019-12-17</th>\n",
       "      <td>3331.536621</td>\n",
       "    </tr>\n",
       "    <tr>\n",
       "      <th>2019-12-18</th>\n",
       "      <td>3385.620117</td>\n",
       "    </tr>\n",
       "    <tr>\n",
       "      <th>2019-12-19</th>\n",
       "      <td>3385.620117</td>\n",
       "    </tr>\n",
       "    <tr>\n",
       "      <th>2019-12-20</th>\n",
       "      <td>3374.803711</td>\n",
       "    </tr>\n",
       "    <tr>\n",
       "      <th>2019-12-23</th>\n",
       "      <td>3428.886963</td>\n",
       "    </tr>\n",
       "    <tr>\n",
       "      <th>...</th>\n",
       "      <td>...</td>\n",
       "    </tr>\n",
       "    <tr>\n",
       "      <th>2024-11-14</th>\n",
       "      <td>4950.000000</td>\n",
       "    </tr>\n",
       "    <tr>\n",
       "      <th>2024-11-15</th>\n",
       "      <td>4910.000000</td>\n",
       "    </tr>\n",
       "    <tr>\n",
       "      <th>2024-11-18</th>\n",
       "      <td>4870.000000</td>\n",
       "    </tr>\n",
       "    <tr>\n",
       "      <th>2024-11-19</th>\n",
       "      <td>4850.000000</td>\n",
       "    </tr>\n",
       "    <tr>\n",
       "      <th>2024-11-20</th>\n",
       "      <td>4850.000000</td>\n",
       "    </tr>\n",
       "  </tbody>\n",
       "</table>\n",
       "<p>1194 rows × 1 columns</p>\n",
       "</div>"
      ],
      "text/plain": [
       "                  Close\n",
       "date                   \n",
       "2019-12-17  3331.536621\n",
       "2019-12-18  3385.620117\n",
       "2019-12-19  3385.620117\n",
       "2019-12-20  3374.803711\n",
       "2019-12-23  3428.886963\n",
       "...                 ...\n",
       "2024-11-14  4950.000000\n",
       "2024-11-15  4910.000000\n",
       "2024-11-18  4870.000000\n",
       "2024-11-19  4850.000000\n",
       "2024-11-20  4850.000000\n",
       "\n",
       "[1194 rows x 1 columns]"
      ]
     },
     "execution_count": 136,
     "metadata": {},
     "output_type": "execute_result"
    }
   ],
   "source": [
    "dataUsed = data[['Close', 'date']]\n",
    "dataUsed['date'] = pd.to_datetime(dataUsed['date'])\n",
    "\n",
    "dataUsed = dataUsed.set_index('date')\n",
    "\n",
    "dataUsed\n"
   ]
  },
  {
   "cell_type": "code",
   "execution_count": 137,
   "metadata": {},
   "outputs": [],
   "source": [
    "news.index = news.index.normalize()\n",
    "news = news.groupby(news.index).first()"
   ]
  },
  {
   "cell_type": "code",
   "execution_count": 138,
   "metadata": {},
   "outputs": [
    {
     "data": {
      "text/html": [
       "<div>\n",
       "<style scoped>\n",
       "    .dataframe tbody tr th:only-of-type {\n",
       "        vertical-align: middle;\n",
       "    }\n",
       "\n",
       "    .dataframe tbody tr th {\n",
       "        vertical-align: top;\n",
       "    }\n",
       "\n",
       "    .dataframe thead th {\n",
       "        text-align: right;\n",
       "    }\n",
       "</style>\n",
       "<table border=\"1\" class=\"dataframe\">\n",
       "  <thead>\n",
       "    <tr style=\"text-align: right;\">\n",
       "      <th></th>\n",
       "      <th>Close</th>\n",
       "      <th>title</th>\n",
       "      <th>sentiment</th>\n",
       "    </tr>\n",
       "    <tr>\n",
       "      <th>date</th>\n",
       "      <th></th>\n",
       "      <th></th>\n",
       "      <th></th>\n",
       "    </tr>\n",
       "  </thead>\n",
       "  <tbody>\n",
       "    <tr>\n",
       "      <th>2019-12-17</th>\n",
       "      <td>3331.536621</td>\n",
       "      <td>NaN</td>\n",
       "      <td>NaN</td>\n",
       "    </tr>\n",
       "    <tr>\n",
       "      <th>2019-12-18</th>\n",
       "      <td>3385.620117</td>\n",
       "      <td>NaN</td>\n",
       "      <td>NaN</td>\n",
       "    </tr>\n",
       "    <tr>\n",
       "      <th>2019-12-19</th>\n",
       "      <td>3385.620117</td>\n",
       "      <td>NaN</td>\n",
       "      <td>NaN</td>\n",
       "    </tr>\n",
       "    <tr>\n",
       "      <th>2019-12-20</th>\n",
       "      <td>3374.803711</td>\n",
       "      <td>NaN</td>\n",
       "      <td>NaN</td>\n",
       "    </tr>\n",
       "    <tr>\n",
       "      <th>2019-12-23</th>\n",
       "      <td>3428.886963</td>\n",
       "      <td>NaN</td>\n",
       "      <td>NaN</td>\n",
       "    </tr>\n",
       "    <tr>\n",
       "      <th>...</th>\n",
       "      <td>...</td>\n",
       "      <td>...</td>\n",
       "      <td>...</td>\n",
       "    </tr>\n",
       "    <tr>\n",
       "      <th>2024-11-14</th>\n",
       "      <td>4950.000000</td>\n",
       "      <td>NaN</td>\n",
       "      <td>NaN</td>\n",
       "    </tr>\n",
       "    <tr>\n",
       "      <th>2024-11-15</th>\n",
       "      <td>4910.000000</td>\n",
       "      <td>NaN</td>\n",
       "      <td>NaN</td>\n",
       "    </tr>\n",
       "    <tr>\n",
       "      <th>2024-11-18</th>\n",
       "      <td>4870.000000</td>\n",
       "      <td>NaN</td>\n",
       "      <td>NaN</td>\n",
       "    </tr>\n",
       "    <tr>\n",
       "      <th>2024-11-19</th>\n",
       "      <td>4850.000000</td>\n",
       "      <td>NaN</td>\n",
       "      <td>NaN</td>\n",
       "    </tr>\n",
       "    <tr>\n",
       "      <th>2024-11-20</th>\n",
       "      <td>4850.000000</td>\n",
       "      <td>NaN</td>\n",
       "      <td>NaN</td>\n",
       "    </tr>\n",
       "  </tbody>\n",
       "</table>\n",
       "<p>1194 rows × 3 columns</p>\n",
       "</div>"
      ],
      "text/plain": [
       "                  Close title sentiment\n",
       "date                                   \n",
       "2019-12-17  3331.536621   NaN       NaN\n",
       "2019-12-18  3385.620117   NaN       NaN\n",
       "2019-12-19  3385.620117   NaN       NaN\n",
       "2019-12-20  3374.803711   NaN       NaN\n",
       "2019-12-23  3428.886963   NaN       NaN\n",
       "...                 ...   ...       ...\n",
       "2024-11-14  4950.000000   NaN       NaN\n",
       "2024-11-15  4910.000000   NaN       NaN\n",
       "2024-11-18  4870.000000   NaN       NaN\n",
       "2024-11-19  4850.000000   NaN       NaN\n",
       "2024-11-20  4850.000000   NaN       NaN\n",
       "\n",
       "[1194 rows x 3 columns]"
      ]
     },
     "execution_count": 138,
     "metadata": {},
     "output_type": "execute_result"
    }
   ],
   "source": [
    "# Pastikan data terurut berdasarkan index\n",
    "news.index = news.index.normalize()\n",
    "\n",
    "# Merge DataFrame berdasarkan index\n",
    "dfMerge = dataUsed.merge(news, how='left', left_index=True, right_index=True)\n",
    "\n",
    "dfMerge"
   ]
  },
  {
   "cell_type": "code",
   "execution_count": 139,
   "metadata": {},
   "outputs": [
    {
     "data": {
      "text/plain": [
       "sentiment\n",
       "positif    132\n",
       "negatif     40\n",
       "Name: count, dtype: int64"
      ]
     },
     "execution_count": 139,
     "metadata": {},
     "output_type": "execute_result"
    }
   ],
   "source": [
    "dfMerge['sentiment'].value_counts()"
   ]
  },
  {
   "cell_type": "code",
   "execution_count": 140,
   "metadata": {},
   "outputs": [
    {
     "name": "stdout",
     "output_type": "stream",
     "text": [
      "                  Close title sentiment\n",
      "2019-12-17  3331.536621   NaN       NaN\n",
      "2019-12-18  3385.620117   NaN       NaN\n",
      "2019-12-19  3385.620117   NaN       NaN\n",
      "2019-12-20  3374.803711   NaN       NaN\n",
      "2019-12-23  3428.886963   NaN       NaN\n",
      "...                 ...   ...       ...\n",
      "2024-11-14  4950.000000   NaN       NaN\n",
      "2024-11-15  4910.000000   NaN       NaN\n",
      "2024-11-18  4870.000000   NaN       NaN\n",
      "2024-11-19  4850.000000   NaN       NaN\n",
      "2024-11-20  4850.000000   NaN       NaN\n",
      "\n",
      "[1201 rows x 3 columns]\n"
     ]
    },
    {
     "data": {
      "text/plain": [
       "sentiment\n",
       "positif    160\n",
       "negatif     40\n",
       "Name: count, dtype: int64"
      ]
     },
     "execution_count": 140,
     "metadata": {},
     "output_type": "execute_result"
    }
   ],
   "source": [
    "# Pastikan data terurut berdasarkan index\n",
    "dataUsed = dataUsed.sort_index()\n",
    "news = news.sort_index()\n",
    "\n",
    "# Buat kolom tambahan untuk mencatat tanggal pertama di dataUsed setelah berita\n",
    "news['nearest_date'] = dataUsed.index.searchsorted(news.index, side='right')\n",
    "news['nearest_date'] = news['nearest_date'].map(lambda x: dataUsed.index[x] if x < len(dataUsed.index) else None)\n",
    "\n",
    "# Gabungkan dataUsed dengan berita berdasarkan nearest_date\n",
    "news_mapped = news.dropna(subset=['nearest_date']).set_index('nearest_date')\n",
    "dfMerge = dataUsed.merge(news_mapped, how='left', left_index=True, right_index=True)\n",
    "\n",
    "# Tampilkan hasil\n",
    "print(dfMerge)\n",
    "dfMerge['sentiment'].value_counts()\n"
   ]
  },
  {
   "cell_type": "code",
   "execution_count": 141,
   "metadata": {},
   "outputs": [
    {
     "data": {
      "text/plain": [
       "sentiment\n",
       " 0.0    1001\n",
       " 1.0     160\n",
       "-1.0      40\n",
       "Name: count, dtype: int64"
      ]
     },
     "execution_count": 141,
     "metadata": {},
     "output_type": "execute_result"
    }
   ],
   "source": [
    "dfMerge['sentiment'] = dfMerge['sentiment'].map({'positif': 1, 'negatif': -1}).fillna(0)\n",
    "\n",
    "dfMerge['sentiment'].value_counts()"
   ]
  },
  {
   "cell_type": "code",
   "execution_count": 142,
   "metadata": {},
   "outputs": [
    {
     "data": {
      "text/plain": [
       "array([[0.42342612, 0.5       ],\n",
       "       [0.43533507, 0.5       ],\n",
       "       [0.43533507, 0.5       ],\n",
       "       ...,\n",
       "       [0.76218885, 0.5       ],\n",
       "       [0.75778494, 0.5       ],\n",
       "       [0.75778494, 0.5       ]])"
      ]
     },
     "execution_count": 142,
     "metadata": {},
     "output_type": "execute_result"
    }
   ],
   "source": [
    "sentiment_data = dfMerge.filter(['sentiment']).values  # Pastikan ada kolom 'Sentiment'\n",
    "\n",
    "# Normalisasi data sentimen\n",
    "scaled_sentiment = scaler.fit_transform(sentiment_data)\n",
    "\n",
    "scaled_data = dfMerge.filter(['Close']).values\n",
    "\n",
    "# Normalisasi data harga\n",
    "scaled_data = scaler.fit_transform(scaled_data)\n",
    "\n",
    "# Gabungkan harga (Close) dan sentimen\n",
    "scaled_combined_data = np.hstack((scaled_data, scaled_sentiment))\n",
    "\n",
    "scaled_combined_data"
   ]
  },
  {
   "cell_type": "code",
   "execution_count": 143,
   "metadata": {},
   "outputs": [
    {
     "name": "stdout",
     "output_type": "stream",
     "text": [
      "x_train shape: (896, 60, 2)\n"
     ]
    }
   ],
   "source": [
    "train_data = scaled_combined_data[0:int(training_data_len), :]\n",
    "\n",
    "x_train = []\n",
    "y_train = []\n",
    "\n",
    "for i in range(60, len(train_data)):\n",
    "    x_train.append(train_data[i-60:i, :])  # Tambahkan semua fitur\n",
    "    y_train.append(train_data[i, 0])  # Target tetap 'Close'\n",
    "\n",
    "x_train, y_train = np.array(x_train), np.array(y_train)\n",
    "\n",
    "print(f\"x_train shape: {x_train.shape}\")  # Periksa shape-nya\n",
    "# Reshape input ke bentuk yang dimengerti oleh LSTM\n",
    "# Sekarang menjadi (samples, timesteps, features)\n"
   ]
  },
  {
   "cell_type": "code",
   "execution_count": 144,
   "metadata": {},
   "outputs": [
    {
     "name": "stdout",
     "output_type": "stream",
     "text": [
      "Epoch 1/30\n",
      "180/180 [==============================] - 12s 41ms/step - loss: 0.0028\n",
      "Epoch 2/30\n",
      "180/180 [==============================] - 7s 41ms/step - loss: 8.6941e-04\n",
      "Epoch 3/30\n",
      "180/180 [==============================] - 7s 40ms/step - loss: 7.2134e-04\n",
      "Epoch 4/30\n",
      "180/180 [==============================] - 7s 39ms/step - loss: 6.5947e-04\n",
      "Epoch 5/30\n",
      "180/180 [==============================] - 7s 39ms/step - loss: 4.9220e-04\n",
      "Epoch 6/30\n",
      "180/180 [==============================] - 7s 40ms/step - loss: 4.4314e-04\n",
      "Epoch 7/30\n",
      "180/180 [==============================] - 7s 40ms/step - loss: 5.1993e-04\n",
      "Epoch 8/30\n",
      "180/180 [==============================] - 7s 41ms/step - loss: 4.6428e-04\n",
      "Epoch 9/30\n",
      "180/180 [==============================] - 7s 39ms/step - loss: 4.3777e-04\n",
      "Epoch 10/30\n",
      "180/180 [==============================] - 7s 40ms/step - loss: 4.5297e-04\n",
      "Epoch 11/30\n",
      "180/180 [==============================] - 7s 41ms/step - loss: 3.5206e-04\n",
      "Epoch 12/30\n",
      "180/180 [==============================] - 7s 41ms/step - loss: 4.4253e-04\n",
      "Epoch 13/30\n",
      "180/180 [==============================] - 7s 41ms/step - loss: 3.5611e-04\n",
      "Epoch 14/30\n",
      "180/180 [==============================] - 7s 40ms/step - loss: 3.8221e-04\n",
      "Epoch 15/30\n",
      "180/180 [==============================] - 7s 40ms/step - loss: 3.5606e-04\n",
      "Epoch 16/30\n",
      "180/180 [==============================] - 7s 41ms/step - loss: 2.8429e-04\n",
      "Epoch 17/30\n",
      "180/180 [==============================] - 7s 41ms/step - loss: 3.3882e-04\n",
      "Epoch 18/30\n",
      "180/180 [==============================] - 7s 40ms/step - loss: 3.1908e-04\n",
      "Epoch 19/30\n",
      "180/180 [==============================] - 7s 39ms/step - loss: 3.1756e-04\n",
      "Epoch 20/30\n",
      "180/180 [==============================] - 7s 41ms/step - loss: 2.5637e-04\n",
      "Epoch 21/30\n",
      "180/180 [==============================] - 7s 37ms/step - loss: 3.0336e-04\n",
      "Epoch 22/30\n",
      "180/180 [==============================] - 7s 40ms/step - loss: 3.1338e-04\n",
      "Epoch 23/30\n",
      "180/180 [==============================] - 7s 40ms/step - loss: 3.1079e-04\n",
      "Epoch 24/30\n",
      "180/180 [==============================] - 7s 40ms/step - loss: 2.6468e-04\n",
      "Epoch 25/30\n",
      "180/180 [==============================] - 7s 41ms/step - loss: 3.1889e-04\n",
      "Epoch 26/30\n",
      "180/180 [==============================] - 7s 41ms/step - loss: 3.6383e-04\n",
      "Epoch 27/30\n",
      "180/180 [==============================] - 7s 40ms/step - loss: 2.8425e-04\n",
      "Epoch 28/30\n",
      "180/180 [==============================] - 7s 41ms/step - loss: 2.6161e-04\n",
      "Epoch 29/30\n",
      "180/180 [==============================] - 7s 40ms/step - loss: 3.3991e-04\n",
      "Epoch 30/30\n",
      "180/180 [==============================] - 7s 40ms/step - loss: 2.9730e-04\n"
     ]
    },
    {
     "data": {
      "text/plain": [
       "<keras.src.callbacks.History at 0x1978e9387f0>"
      ]
     },
     "execution_count": 144,
     "metadata": {},
     "output_type": "execute_result"
    }
   ],
   "source": [
    "model = Sequential()\n",
    "model.add(LSTM(128, return_sequences=True, input_shape=(x_train.shape[1], x_train.shape[2])))  # Sesuaikan fitur\n",
    "model.add(LSTM(64, return_sequences=False))\n",
    "model.add(Dense(25))\n",
    "model.add(Dense(1))\n",
    "\n",
    "model.compile(optimizer='adam', loss='mean_squared_error')\n",
    "model.fit(x_train, y_train, batch_size=5, epochs=30)\n"
   ]
  },
  {
   "cell_type": "code",
   "execution_count": 145,
   "metadata": {},
   "outputs": [
    {
     "name": "stdout",
     "output_type": "stream",
     "text": [
      "8/8 [==============================] - 1s 42ms/step\n"
     ]
    }
   ],
   "source": [
    "test_data = scaled_combined_data[training_data_len - 60:, :]\n",
    "\n",
    "x_test = []\n",
    "y_test = dataset[training_data_len:, :]\n",
    "for i in range(60, len(test_data)):\n",
    "    x_test.append(test_data[i-60:i, :])  # Tambahkan semua fitur\n",
    "\n",
    "x_test = np.array(x_test)\n",
    "\n",
    "# Reshape data uji\n",
    "x_test = np.reshape(x_test, (x_test.shape[0], x_test.shape[1], x_test.shape[2]))\n",
    "\n",
    "predictions = model.predict(x_test)\n",
    "predictions = scaler.inverse_transform(predictions)\n"
   ]
  },
  {
   "cell_type": "code",
   "execution_count": 146,
   "metadata": {},
   "outputs": [
    {
     "name": "stdout",
     "output_type": "stream",
     "text": [
      "RMSE:  82.21733917846504\n",
      "MAE:  70.68314034598214\n"
     ]
    }
   ],
   "source": [
    "from sklearn.metrics import mean_squared_error, mean_absolute_error\n",
    "\n",
    "# jumlah data prediction - jumlah data y_test\n",
    "start = len(predictions) - len(y_test)\n",
    "\n",
    "predictions = predictions[start:]\n",
    "\n",
    "# Hitung metrik evaluasi\n",
    "rmse = np.sqrt(mean_squared_error(y_test, predictions))\n",
    "mae = mean_absolute_error(y_test, predictions)\n",
    "\n",
    "print(\"RMSE: \", rmse)\n",
    "print(\"MAE: \", mae)\n"
   ]
  },
  {
   "cell_type": "code",
   "execution_count": 147,
   "metadata": {},
   "outputs": [
    {
     "name": "stderr",
     "output_type": "stream",
     "text": [
      "C:\\Users\\thari\\AppData\\Local\\Temp\\ipykernel_20912\\3756074682.py:3: SettingWithCopyWarning:\n",
      "\n",
      "\n",
      "A value is trying to be set on a copy of a slice from a DataFrame.\n",
      "Try using .loc[row_indexer,col_indexer] = value instead\n",
      "\n",
      "See the caveats in the documentation: https://pandas.pydata.org/pandas-docs/stable/user_guide/indexing.html#returning-a-view-versus-a-copy\n",
      "\n"
     ]
    },
    {
     "data": {
      "image/png": "[encoded data removed]",
      "text/plain": [
       "<Figure size 1600x800 with 1 Axes>"
      ]
     },
     "metadata": {},
     "output_type": "display_data"
    }
   ],
   "source": [
    "train = data[:training_data_len]\n",
    "valid = data[training_data_len:]\n",
    "valid['Predictions'] = predictions\n",
    "\n",
    "plt.figure(figsize=(16,8))\n",
    "plt.title('Model')\n",
    "plt.xlabel('Date')\n",
    "plt.ylabel('Close Price USD ($)')\n",
    "plt.plot(train['Close'])\n",
    "plt.plot(valid[['Close', 'Predictions']])\n",
    "plt.legend(['Train', 'Val', 'Predictions'], loc='lower right')\n",
    "plt.show()"
   ]
  },
  {
   "cell_type": "code",
   "execution_count": 148,
   "metadata": {},
   "outputs": [
    {
     "data": {
      "application/vnd.plotly.v1+json": {
       "config": {
        "plotlyServerURL": "https://plot.ly"
       },
       "data": [
        {
         "mode": "lines",
         "name": "Val",
         "type": "scatter",
         "x": [
          "2023-11-22T00:00:00",
          "2023-11-23T00:00:00",
          "2023-11-24T00:00:00",
          "2023-11-27T00:00:00",
          "2023-11-28T00:00:00",
          "2023-11-29T00:00:00",
          "2023-11-30T00:00:00",
          "2023-12-01T00:00:00",
          "2023-12-04T00:00:00",
          "2023-12-05T00:00:00",
          "2023-12-06T00:00:00",
          "2023-12-07T00:00:00",
          "2023-12-08T00:00:00",
          "2023-12-11T00:00:00",
          "2023-12-12T00:00:00",
          "2023-12-13T00:00:00",
          "2023-12-14T00:00:00",
          "2023-12-15T00:00:00",
          "2023-12-18T00:00:00",
          "2023-12-19T00:00:00",
          "2023-12-20T00:00:00",
          "2023-12-21T00:00:00",
          "2023-12-22T00:00:00",
          "2023-12-27T00:00:00",
          "2023-12-28T00:00:00",
          "2023-12-29T00:00:00",
          "2024-01-02T00:00:00",
          "2024-01-03T00:00:00",
          "2024-01-04T00:00:00",
          "2024-01-05T00:00:00",
          "2024-01-08T00:00:00",
          "2024-01-09T00:00:00",
          "2024-01-10T00:00:00",
          "2024-01-11T00:00:00",
          "2024-01-12T00:00:00",
          "2024-01-15T00:00:00",
          "2024-01-16T00:00:00",
          "2024-01-17T00:00:00",
          "2024-01-18T00:00:00",
          "2024-01-19T00:00:00",
          "2024-01-22T00:00:00",
          "2024-01-23T00:00:00",
          "2024-01-24T00:00:00",
          "2024-01-25T00:00:00",
          "2024-01-26T00:00:00",
          "2024-01-29T00:00:00",
          "2024-01-30T00:00:00",
          "2024-01-31T00:00:00",
          "2024-02-01T00:00:00",
          "2024-02-02T00:00:00",
          "2024-02-05T00:00:00",
          "2024-02-06T00:00:00",
          "2024-02-07T00:00:00",
          "2024-02-12T00:00:00",
          "2024-02-13T00:00:00",
          "2024-02-15T00:00:00",
          "2024-02-16T00:00:00",
          "2024-02-19T00:00:00",
          "2024-02-20T00:00:00",
          "2024-02-21T00:00:00",
          "2024-02-22T00:00:00",
          "2024-02-23T00:00:00",
          "2024-02-26T00:00:00",
          "2024-02-27T00:00:00",
          "2024-02-28T00:00:00",
          "2024-02-29T00:00:00",
          "2024-03-01T00:00:00",
          "2024-03-04T00:00:00",
          "2024-03-05T00:00:00",
          "2024-03-06T00:00:00",
          "2024-03-07T00:00:00",
          "2024-03-08T00:00:00",
          "2024-03-13T00:00:00",
          "2024-03-14T00:00:00",
          "2024-03-15T00:00:00",
          "2024-03-18T00:00:00",
          "2024-03-19T00:00:00",
          "2024-03-20T00:00:00",
          "2024-03-21T00:00:00",
          "2024-03-22T00:00:00",
          "2024-03-25T00:00:00",
          "2024-03-26T00:00:00",
          "2024-03-27T00:00:00",
          "2024-03-28T00:00:00",
          "2024-04-01T00:00:00",
          "2024-04-02T00:00:00",
          "2024-04-03T00:00:00",
          "2024-04-04T00:00:00",
          "2024-04-05T00:00:00",
          "2024-04-16T00:00:00",
          "2024-04-17T00:00:00",
          "2024-04-18T00:00:00",
          "2024-04-19T00:00:00",
          "2024-04-22T00:00:00",
          "2024-04-23T00:00:00",
          "2024-04-24T00:00:00",
          "2024-04-25T00:00:00",
          "2024-04-26T00:00:00",
          "2024-04-29T00:00:00",
          "2024-04-30T00:00:00",
          "2024-05-02T00:00:00",
          "2024-05-03T00:00:00",
          "2024-05-06T00:00:00",
          "2024-05-07T00:00:00",
          "2024-05-08T00:00:00",
          "2024-05-13T00:00:00",
          "2024-05-14T00:00:00",
          "2024-05-15T00:00:00",
          "2024-05-16T00:00:00",
          "2024-05-17T00:00:00",
          "2024-05-20T00:00:00",
          "2024-05-21T00:00:00",
          "2024-05-22T00:00:00",
          "2024-05-27T00:00:00",
          "2024-05-28T00:00:00",
          "2024-05-29T00:00:00",
          "2024-05-30T00:00:00",
          "2024-05-31T00:00:00",
          "2024-06-03T00:00:00",
          "2024-06-04T00:00:00",
          "2024-06-05T00:00:00",
          "2024-06-06T00:00:00",
          "2024-06-07T00:00:00",
          "2024-06-10T00:00:00",
          "2024-06-11T00:00:00",
          "2024-06-12T00:00:00",
          "2024-06-13T00:00:00",
          "2024-06-14T00:00:00",
          "2024-06-19T00:00:00",
          "2024-06-20T00:00:00",
          "2024-06-21T00:00:00",
          "2024-06-24T00:00:00",
          "2024-06-25T00:00:00",
          "2024-06-26T00:00:00",
          "2024-06-27T00:00:00",
          "2024-06-28T00:00:00",
          "2024-07-01T00:00:00",
          "2024-07-02T00:00:00",
          "2024-07-03T00:00:00",
          "2024-07-04T00:00:00",
          "2024-07-05T00:00:00",
          "2024-07-08T00:00:00",
          "2024-07-09T00:00:00",
          "2024-07-10T00:00:00",
          "2024-07-11T00:00:00",
          "2024-07-12T00:00:00",
          "2024-07-15T00:00:00",
          "2024-07-16T00:00:00",
          "2024-07-17T00:00:00",
          "2024-07-18T00:00:00",
          "2024-07-19T00:00:00",
          "2024-07-22T00:00:00",
          "2024-07-23T00:00:00",
          "2024-07-24T00:00:00",
          "2024-07-25T00:00:00",
          "2024-07-26T00:00:00",
          "2024-07-29T00:00:00",
          "2024-07-30T00:00:00",
          "2024-07-31T00:00:00",
          "2024-08-01T00:00:00",
          "2024-08-02T00:00:00",
          "2024-08-05T00:00:00",
          "2024-08-06T00:00:00",
          "2024-08-07T00:00:00",
          "2024-08-08T00:00:00",
          "2024-08-09T00:00:00",
          "2024-08-12T00:00:00",
          "2024-08-13T00:00:00",
          "2024-08-14T00:00:00",
          "2024-08-15T00:00:00",
          "2024-08-16T00:00:00",
          "2024-08-19T00:00:00",
          "2024-08-20T00:00:00",
          "2024-08-21T00:00:00",
          "2024-08-22T00:00:00",
          "2024-08-23T00:00:00",
          "2024-08-26T00:00:00",
          "2024-08-27T00:00:00",
          "2024-08-28T00:00:00",
          "2024-08-29T00:00:00",
          "2024-08-30T00:00:00",
          "2024-09-02T00:00:00",
          "2024-09-03T00:00:00",
          "2024-09-04T00:00:00",
          "2024-09-05T00:00:00",
          "2024-09-06T00:00:00",
          "2024-09-09T00:00:00",
          "2024-09-10T00:00:00",
          "2024-09-11T00:00:00",
          "2024-09-12T00:00:00",
          "2024-09-13T00:00:00",
          "2024-09-17T00:00:00",
          "2024-09-18T00:00:00",
          "2024-09-19T00:00:00",
          "2024-09-20T00:00:00",
          "2024-09-23T00:00:00",
          "2024-09-24T00:00:00",
          "2024-09-25T00:00:00",
          "2024-09-26T00:00:00",
          "2024-09-27T00:00:00",
          "2024-09-30T00:00:00",
          "2024-10-01T00:00:00",
          "2024-10-02T00:00:00",
          "2024-10-03T00:00:00",
          "2024-10-04T00:00:00",
          "2024-10-07T00:00:00",
          "2024-10-08T00:00:00",
          "2024-10-09T00:00:00",
          "2024-10-10T00:00:00",
          "2024-10-11T00:00:00",
          "2024-10-14T00:00:00",
          "2024-10-15T00:00:00",
          "2024-10-16T00:00:00",
          "2024-10-17T00:00:00",
          "2024-10-18T00:00:00",
          "2024-10-21T00:00:00",
          "2024-10-22T00:00:00",
          "2024-10-23T00:00:00",
          "2024-10-24T00:00:00",
          "2024-10-25T00:00:00",
          "2024-10-28T00:00:00",
          "2024-10-29T00:00:00",
          "2024-10-30T00:00:00",
          "2024-10-31T00:00:00",
          "2024-11-01T00:00:00",
          "2024-11-04T00:00:00",
          "2024-11-05T00:00:00",
          "2024-11-06T00:00:00",
          "2024-11-07T00:00:00",
          "2024-11-08T00:00:00",
          "2024-11-11T00:00:00",
          "2024-11-12T00:00:00",
          "2024-11-13T00:00:00",
          "2024-11-14T00:00:00",
          "2024-11-15T00:00:00",
          "2024-11-18T00:00:00",
          "2024-11-19T00:00:00",
          "2024-11-20T00:00:00"
         ],
         "y": [
          4843.5341796875,
          4915.11376953125,
          4962.8330078125,
          5034.41259765625,
          4938.9736328125,
          4986.69287109375,
          5034.41259765625,
          5010.552734375,
          5058.2724609375,
          5058.2724609375,
          4986.69287109375,
          5034.41259765625,
          4843.5341796875,
          4938.9736328125,
          5034.41259765625,
          4938.9736328125,
          5105.99169921875,
          5034.41259765625,
          4962.8330078125,
          4962.8330078125,
          4962.8330078125,
          4915.11376953125,
          5010.552734375,
          5034.41259765625,
          5105.99169921875,
          5129.8515625,
          5129.8515625,
          5105.99169921875,
          5344.58984375,
          5320.72998046875,
          5320.72998046875,
          5392.30908203125,
          5344.58984375,
          5344.58984375,
          5344.58984375,
          5368.44921875,
          5344.58984375,
          5296.8701171875,
          5296.8701171875,
          5249.150390625,
          5273.01025390625,
          5177.5712890625,
          5225.29052734375,
          5153.71142578125,
          5177.5712890625,
          5320.72998046875,
          5392.30908203125,
          5487.748046875,
          5463.888671875,
          5511.60791015625,
          5487.748046875,
          5511.60791015625,
          5487.748046875,
          5678.62646484375,
          5607.04736328125,
          5726.34619140625,
          5726.34619140625,
          5607.04736328125,
          5750.20556640625,
          5726.34619140625,
          5678.62646484375,
          5630.90673828125,
          5630.90673828125,
          5726.34619140625,
          5702.486328125,
          5726.34619140625,
          5630.90673828125,
          5607.04736328125,
          5630.90673828125,
          5678.62646484375,
          5702.486328125,
          5821.78515625,
          5941.083984375,
          5869.5048828125,
          5800,
          5800,
          5850,
          5875,
          5800,
          5850,
          5925,
          5950,
          5925,
          5900,
          5650,
          5475,
          5325,
          5350,
          5300,
          5200,
          5250,
          5300,
          5225,
          5350,
          5250,
          5300,
          5300,
          5150,
          5225,
          5250,
          4830,
          4830,
          4810,
          4700,
          4670,
          4780,
          4930,
          5025,
          5200,
          5175,
          4980,
          4770,
          4760,
          4670,
          4710,
          4530,
          4490,
          4400,
          4620,
          4640,
          4610,
          4770,
          4700,
          4610,
          4480,
          4430,
          4480,
          4310,
          4300,
          4400,
          4540,
          4540,
          4480,
          4420,
          4580,
          4660,
          4710,
          4710,
          4650,
          4710,
          4700,
          4670,
          4860,
          4820,
          4870,
          5025,
          5025,
          4980,
          5000,
          5075,
          5100,
          5100,
          5050,
          5100,
          5025,
          5000,
          5025,
          4950,
          4970,
          5075,
          5100,
          4960,
          5025,
          5000,
          5025,
          5125,
          5125,
          5175,
          5275,
          5250,
          5300,
          5350,
          5475,
          5450,
          5275,
          5450,
          5525,
          5400,
          5375,
          5300,
          5350,
          5350,
          5375,
          5350,
          5450,
          5650,
          5725,
          5700,
          5650,
          5600,
          5625,
          5650,
          5700,
          5825,
          5750,
          5800,
          5800,
          5600,
          5600,
          5450,
          5350,
          5375,
          5350,
          5375,
          5325,
          5200,
          5350,
          5325,
          5325,
          5375,
          5425,
          5500,
          5475,
          5500,
          5650,
          5625,
          5650,
          5675,
          5625,
          5650,
          5500,
          5300,
          5225,
          5250,
          5200,
          5300,
          5400,
          5125,
          5025,
          4980,
          4990,
          4930,
          4960,
          4950,
          4910,
          4870,
          4850,
          4850
         ]
        },
        {
         "mode": "lines",
         "name": "Predictions",
         "type": "scatter",
         "x": [
          "2023-11-22T00:00:00",
          "2023-11-23T00:00:00",
          "2023-11-24T00:00:00",
          "2023-11-27T00:00:00",
          "2023-11-28T00:00:00",
          "2023-11-29T00:00:00",
          "2023-11-30T00:00:00",
          "2023-12-01T00:00:00",
          "2023-12-04T00:00:00",
          "2023-12-05T00:00:00",
          "2023-12-06T00:00:00",
          "2023-12-07T00:00:00",
          "2023-12-08T00:00:00",
          "2023-12-11T00:00:00",
          "2023-12-12T00:00:00",
          "2023-12-13T00:00:00",
          "2023-12-14T00:00:00",
          "2023-12-15T00:00:00",
          "2023-12-18T00:00:00",
          "2023-12-19T00:00:00",
          "2023-12-20T00:00:00",
          "2023-12-21T00:00:00",
          "2023-12-22T00:00:00",
          "2023-12-27T00:00:00",
          "2023-12-28T00:00:00",
          "2023-12-29T00:00:00",
          "2024-01-02T00:00:00",
          "2024-01-03T00:00:00",
          "2024-01-04T00:00:00",
          "2024-01-05T00:00:00",
          "2024-01-08T00:00:00",
          "2024-01-09T00:00:00",
          "2024-01-10T00:00:00",
          "2024-01-11T00:00:00",
          "2024-01-12T00:00:00",
          "2024-01-15T00:00:00",
          "2024-01-16T00:00:00",
          "2024-01-17T00:00:00",
          "2024-01-18T00:00:00",
          "2024-01-19T00:00:00",
          "2024-01-22T00:00:00",
          "2024-01-23T00:00:00",
          "2024-01-24T00:00:00",
          "2024-01-25T00:00:00",
          "2024-01-26T00:00:00",
          "2024-01-29T00:00:00",
          "2024-01-30T00:00:00",
          "2024-01-31T00:00:00",
          "2024-02-01T00:00:00",
          "2024-02-02T00:00:00",
          "2024-02-05T00:00:00",
          "2024-02-06T00:00:00",
          "2024-02-07T00:00:00",
          "2024-02-12T00:00:00",
          "2024-02-13T00:00:00",
          "2024-02-15T00:00:00",
          "2024-02-16T00:00:00",
          "2024-02-19T00:00:00",
          "2024-02-20T00:00:00",
          "2024-02-21T00:00:00",
          "2024-02-22T00:00:00",
          "2024-02-23T00:00:00",
          "2024-02-26T00:00:00",
          "2024-02-27T00:00:00",
          "2024-02-28T00:00:00",
          "2024-02-29T00:00:00",
          "2024-03-01T00:00:00",
          "2024-03-04T00:00:00",
          "2024-03-05T00:00:00",
          "2024-03-06T00:00:00",
          "2024-03-07T00:00:00",
          "2024-03-08T00:00:00",
          "2024-03-13T00:00:00",
          "2024-03-14T00:00:00",
          "2024-03-15T00:00:00",
          "2024-03-18T00:00:00",
          "2024-03-19T00:00:00",
          "2024-03-20T00:00:00",
          "2024-03-21T00:00:00",
          "2024-03-22T00:00:00",
          "2024-03-25T00:00:00",
          "2024-03-26T00:00:00",
          "2024-03-27T00:00:00",
          "2024-03-28T00:00:00",
          "2024-04-01T00:00:00",
          "2024-04-02T00:00:00",
          "2024-04-03T00:00:00",
          "2024-04-04T00:00:00",
          "2024-04-05T00:00:00",
          "2024-04-16T00:00:00",
          "2024-04-17T00:00:00",
          "2024-04-18T00:00:00",
          "2024-04-19T00:00:00",
          "2024-04-22T00:00:00",
          "2024-04-23T00:00:00",
          "2024-04-24T00:00:00",
          "2024-04-25T00:00:00",
          "2024-04-26T00:00:00",
          "2024-04-29T00:00:00",
          "2024-04-30T00:00:00",
          "2024-05-02T00:00:00",
          "2024-05-03T00:00:00",
          "2024-05-06T00:00:00",
          "2024-05-07T00:00:00",
          "2024-05-08T00:00:00",
          "2024-05-13T00:00:00",
          "2024-05-14T00:00:00",
          "2024-05-15T00:00:00",
          "2024-05-16T00:00:00",
          "2024-05-17T00:00:00",
          "2024-05-20T00:00:00",
          "2024-05-21T00:00:00",
          "2024-05-22T00:00:00",
          "2024-05-27T00:00:00",
          "2024-05-28T00:00:00",
          "2024-05-29T00:00:00",
          "2024-05-30T00:00:00",
          "2024-05-31T00:00:00",
          "2024-06-03T00:00:00",
          "2024-06-04T00:00:00",
          "2024-06-05T00:00:00",
          "2024-06-06T00:00:00",
          "2024-06-07T00:00:00",
          "2024-06-10T00:00:00",
          "2024-06-11T00:00:00",
          "2024-06-12T00:00:00",
          "2024-06-13T00:00:00",
          "2024-06-14T00:00:00",
          "2024-06-19T00:00:00",
          "2024-06-20T00:00:00",
          "2024-06-21T00:00:00",
          "2024-06-24T00:00:00",
          "2024-06-25T00:00:00",
          "2024-06-26T00:00:00",
          "2024-06-27T00:00:00",
          "2024-06-28T00:00:00",
          "2024-07-01T00:00:00",
          "2024-07-02T00:00:00",
          "2024-07-03T00:00:00",
          "2024-07-04T00:00:00",
          "2024-07-05T00:00:00",
          "2024-07-08T00:00:00",
          "2024-07-09T00:00:00",
          "2024-07-10T00:00:00",
          "2024-07-11T00:00:00",
          "2024-07-12T00:00:00",
          "2024-07-15T00:00:00",
          "2024-07-16T00:00:00",
          "2024-07-17T00:00:00",
          "2024-07-18T00:00:00",
          "2024-07-19T00:00:00",
          "2024-07-22T00:00:00",
          "2024-07-23T00:00:00",
          "2024-07-24T00:00:00",
          "2024-07-25T00:00:00",
          "2024-07-26T00:00:00",
          "2024-07-29T00:00:00",
          "2024-07-30T00:00:00",
          "2024-07-31T00:00:00",
          "2024-08-01T00:00:00",
          "2024-08-02T00:00:00",
          "2024-08-05T00:00:00",
          "2024-08-06T00:00:00",
          "2024-08-07T00:00:00",
          "2024-08-08T00:00:00",
          "2024-08-09T00:00:00",
          "2024-08-12T00:00:00",
          "2024-08-13T00:00:00",
          "2024-08-14T00:00:00",
          "2024-08-15T00:00:00",
          "2024-08-16T00:00:00",
          "2024-08-19T00:00:00",
          "2024-08-20T00:00:00",
          "2024-08-21T00:00:00",
          "2024-08-22T00:00:00",
          "2024-08-23T00:00:00",
          "2024-08-26T00:00:00",
          "2024-08-27T00:00:00",
          "2024-08-28T00:00:00",
          "2024-08-29T00:00:00",
          "2024-08-30T00:00:00",
          "2024-09-02T00:00:00",
          "2024-09-03T00:00:00",
          "2024-09-04T00:00:00",
          "2024-09-05T00:00:00",
          "2024-09-06T00:00:00",
          "2024-09-09T00:00:00",
          "2024-09-10T00:00:00",
          "2024-09-11T00:00:00",
          "2024-09-12T00:00:00",
          "2024-09-13T00:00:00",
          "2024-09-17T00:00:00",
          "2024-09-18T00:00:00",
          "2024-09-19T00:00:00",
          "2024-09-20T00:00:00",
          "2024-09-23T00:00:00",
          "2024-09-24T00:00:00",
          "2024-09-25T00:00:00",
          "2024-09-26T00:00:00",
          "2024-09-27T00:00:00",
          "2024-09-30T00:00:00",
          "2024-10-01T00:00:00",
          "2024-10-02T00:00:00",
          "2024-10-03T00:00:00",
          "2024-10-04T00:00:00",
          "2024-10-07T00:00:00",
          "2024-10-08T00:00:00",
          "2024-10-09T00:00:00",
          "2024-10-10T00:00:00",
          "2024-10-11T00:00:00",
          "2024-10-14T00:00:00",
          "2024-10-15T00:00:00",
          "2024-10-16T00:00:00",
          "2024-10-17T00:00:00",
          "2024-10-18T00:00:00",
          "2024-10-21T00:00:00",
          "2024-10-22T00:00:00",
          "2024-10-23T00:00:00",
          "2024-10-24T00:00:00",
          "2024-10-25T00:00:00",
          "2024-10-28T00:00:00",
          "2024-10-29T00:00:00",
          "2024-10-30T00:00:00",
          "2024-10-31T00:00:00",
          "2024-11-01T00:00:00",
          "2024-11-04T00:00:00",
          "2024-11-05T00:00:00",
          "2024-11-06T00:00:00",
          "2024-11-07T00:00:00",
          "2024-11-08T00:00:00",
          "2024-11-11T00:00:00",
          "2024-11-12T00:00:00",
          "2024-11-13T00:00:00",
          "2024-11-14T00:00:00",
          "2024-11-15T00:00:00",
          "2024-11-18T00:00:00",
          "2024-11-19T00:00:00",
          "2024-11-20T00:00:00"
         ],
         "y": [
          4897.02197265625,
          4969.68212890625,
          5013.4638671875,
          5084.8662109375,
          4985.47509765625,
          5043.830078125,
          5089.17724609375,
          5090.94970703125,
          5153.68017578125,
          5153.72314453125,
          5081.18408203125,
          5117.74560546875,
          4903.80859375,
          5021.21337890625,
          5107.2373046875,
          5001.1220703125,
          5177.34326171875,
          5083.953125,
          5016.76416015625,
          5018.15966796875,
          5043.56103515625,
          4973.12158203125,
          5074.158203125,
          5088.54052734375,
          5165.03369140625,
          5186.2548828125,
          5186.98095703125,
          5163.40234375,
          5409.70458984375,
          5361.2470703125,
          5368.40576171875,
          5440.7724609375,
          5384.47705078125,
          5391.6650390625,
          5391.18505859375,
          5416.97705078125,
          5391.12451171875,
          5346.5712890625,
          5352.41455078125,
          5303.8134765625,
          5334.6337890625,
          5234.46533203125,
          5294.4765625,
          5215.390625,
          5248.6181640625,
          5392.59130859375,
          5453.00537109375,
          5546.66357421875,
          5511.8798828125,
          5565.4052734375,
          5533.2919921875,
          5561.3037109375,
          5532.34375,
          5733.6884765625,
          5634.2861328125,
          5802.416015625,
          5760.24609375,
          5663.19873046875,
          5813.82666015625,
          5760.154296875,
          5714.97900390625,
          5695.80712890625,
          5708.82421875,
          5788.05615234375,
          5738.57763671875,
          5765.4609375,
          5659.10546875,
          5647.646484375,
          5698.3984375,
          5722.087890625,
          5739.42578125,
          5857.986328125,
          5966.578125,
          5877.02099609375,
          5843.43115234375,
          5833.8828125,
          5885.63916015625,
          5900.0751953125,
          5820.31591796875,
          5886.32470703125,
          5955.66064453125,
          5972.6279296875,
          5928.59130859375,
          5919.90625,
          5663.48291015625,
          5520.28955078125,
          5380.15576171875,
          5420.53564453125,
          5349.451171875,
          5256.6103515625,
          5310.7294921875,
          5378.365234375,
          5302.9619140625,
          5466.90283203125,
          5323.77880859375,
          5390.8173828125,
          5362.10107421875,
          5226.86376953125,
          5316.98681640625,
          5335.97998046875,
          4899.2177734375,
          4930.4658203125,
          4903.818359375,
          4796.2041015625,
          4769.41259765625,
          4879.24169921875,
          5025.33837890625,
          5114.4365234375,
          5288.00390625,
          5247.638671875,
          5052.3974609375,
          4852.34765625,
          4849.88427734375,
          4754.283203125,
          4778.00537109375,
          4613.63427734375,
          4582.5048828125,
          4495.0673828125,
          4714.61083984375,
          4726.39794921875,
          4698.6474609375,
          4861.13671875,
          4783.07763671875,
          4698.4912109375,
          4555.77392578125,
          4503.5859375,
          4548.529296875,
          4431.85693359375,
          4403.94287109375,
          4474.0048828125,
          4620.82568359375,
          4606.38037109375,
          4569.29736328125,
          4514.9150390625,
          4674.044921875,
          4747.66259765625,
          4795.4052734375,
          4793.90478515625,
          4734.5546875,
          4797.11376953125,
          4782.8798828125,
          4780.40576171875,
          4988.39013671875,
          4899.71875,
          4950.142578125,
          5100.07275390625,
          5087.46826171875,
          5042.33642578125,
          5062.78857421875,
          5132.93017578125,
          5177.43505859375,
          5152.65771484375,
          5097.88623046875,
          5150.46142578125,
          5053.40576171875,
          5032.02783203125,
          5102.77587890625,
          5007.63427734375,
          5035.2353515625,
          5165.15576171875,
          5189.11279296875,
          5046.5537109375,
          5072.80126953125,
          5113.58642578125,
          5074.23974609375,
          5102.35302734375,
          5201.86279296875,
          5189.318359375,
          5237.1474609375,
          5328.87158203125,
          5289.44287109375,
          5341.65673828125,
          5385.42138671875,
          5509.71630859375,
          5472.29345703125,
          5300.5068359375,
          5532.103515625,
          5564.78125,
          5455.013671875,
          5455.814453125,
          5340.95166015625,
          5408.564453125,
          5401.7490234375,
          5432.92919921875,
          5402.4833984375,
          5506.58935546875,
          5699.4951171875,
          5781.1474609375,
          5727.29345703125,
          5680.8779296875,
          5630.8095703125,
          5663.845703125,
          5686.37060546875,
          5736.79296875,
          5861.5390625,
          5767.06689453125,
          5861.54541015625,
          5830.65478515625,
          5644.53662109375,
          5657.79296875,
          5492.25537109375,
          5406.734375,
          5442.14013671875,
          5411.61767578125,
          5440.86865234375,
          5384.453125,
          5245.8134765625,
          5397.109375,
          5377.52587890625,
          5409.80322265625,
          5441.205078125,
          5486.6240234375,
          5556.2392578125,
          5550.27490234375,
          5565.193359375,
          5719.18994140625,
          5668.55517578125,
          5702.2353515625,
          5722.01318359375,
          5665.09326171875,
          5695.88720703125,
          5555.21826171875,
          5347.64501953125,
          5315.2626953125,
          5322.64599609375,
          5265.29052734375,
          5374.24609375,
          5467.36767578125,
          5194.4267578125,
          5090.771484375,
          5055.0546875,
          5045.9365234375,
          4985.78662109375,
          5033.3798828125,
          5023.7734375,
          4985.431640625,
          4945.63232421875,
          4927.423828125
         ]
        }
       ],
       "layout": {
        "template": {
         "data": {
          "bar": [
           {
            "error_x": {
             "color": "#2a3f5f"
            },
            "error_y": {
             "color": "#2a3f5f"
            },
            "marker": {
             "line": {
              "color": "#E5ECF6",
              "width": 0.5
             },
             "pattern": {
              "fillmode": "overlay",
              "size": 10,
              "solidity": 0.2
             }
            },
            "type": "bar"
           }
          ],
          "barpolar": [
           {
            "marker": {
             "line": {
              "color": "#E5ECF6",
              "width": 0.5
             },
             "pattern": {
              "fillmode": "overlay",
              "size": 10,
              "solidity": 0.2
             }
            },
            "type": "barpolar"
           }
          ],
          "carpet": [
           {
            "aaxis": {
             "endlinecolor": "#2a3f5f",
             "gridcolor": "white",
             "linecolor": "white",
             "minorgridcolor": "white",
             "startlinecolor": "#2a3f5f"
            },
            "baxis": {
             "endlinecolor": "#2a3f5f",
             "gridcolor": "white",
             "linecolor": "white",
             "minorgridcolor": "white",
             "startlinecolor": "#2a3f5f"
            },
            "type": "carpet"
           }
          ],
          "choropleth": [
           {
            "colorbar": {
             "outlinewidth": 0,
             "ticks": ""
            },
            "type": "choropleth"
           }
          ],
          "contour": [
           {
            "colorbar": {
             "outlinewidth": 0,
             "ticks": ""
            },
            "colorscale": [
             [
              0,
              "#0d0887"
             ],
             [
              0.1111111111111111,
              "#46039f"
             ],
             [
              0.2222222222222222,
              "#7201a8"
             ],
             [
              0.3333333333333333,
              "#9c179e"
             ],
             [
              0.4444444444444444,
              "#bd3786"
             ],
             [
              0.5555555555555556,
              "#d8576b"
             ],
             [
              0.6666666666666666,
              "#ed7953"
             ],
             [
              0.7777777777777778,
              "#fb9f3a"
             ],
             [
              0.8888888888888888,
              "#fdca26"
             ],
             [
              1,
              "#f0f921"
             ]
            ],
            "type": "contour"
           }
          ],
          "contourcarpet": [
           {
            "colorbar": {
             "outlinewidth": 0,
             "ticks": ""
            },
            "type": "contourcarpet"
           }
          ],
          "heatmap": [
           {
            "colorbar": {
             "outlinewidth": 0,
             "ticks": ""
            },
            "colorscale": [
             [
              0,
              "#0d0887"
             ],
             [
              0.1111111111111111,
              "#46039f"
             ],
             [
              0.2222222222222222,
              "#7201a8"
             ],
             [
              0.3333333333333333,
              "#9c179e"
             ],
             [
              0.4444444444444444,
              "#bd3786"
             ],
             [
              0.5555555555555556,
              "#d8576b"
             ],
             [
              0.6666666666666666,
              "#ed7953"
             ],
             [
              0.7777777777777778,
              "#fb9f3a"
             ],
             [
              0.8888888888888888,
              "#fdca26"
             ],
             [
              1,
              "#f0f921"
             ]
            ],
            "type": "heatmap"
           }
          ],
          "heatmapgl": [
           {
            "colorbar": {
             "outlinewidth": 0,
             "ticks": ""
            },
            "colorscale": [
             [
              0,
              "#0d0887"
             ],
             [
              0.1111111111111111,
              "#46039f"
             ],
             [
              0.2222222222222222,
              "#7201a8"
             ],
             [
              0.3333333333333333,
              "#9c179e"
             ],
             [
              0.4444444444444444,
              "#bd3786"
             ],
             [
              0.5555555555555556,
              "#d8576b"
             ],
             [
              0.6666666666666666,
              "#ed7953"
             ],
             [
              0.7777777777777778,
              "#fb9f3a"
             ],
             [
              0.8888888888888888,
              "#fdca26"
             ],
             [
              1,
              "#f0f921"
             ]
            ],
            "type": "heatmapgl"
           }
          ],
          "histogram": [
           {
            "marker": {
             "pattern": {
              "fillmode": "overlay",
              "size": 10,
              "solidity": 0.2
             }
            },
            "type": "histogram"
           }
          ],
          "histogram2d": [
           {
            "colorbar": {
             "outlinewidth": 0,
             "ticks": ""
            },
            "colorscale": [
             [
              0,
              "#0d0887"
             ],
             [
              0.1111111111111111,
              "#46039f"
             ],
             [
              0.2222222222222222,
              "#7201a8"
             ],
             [
              0.3333333333333333,
              "#9c179e"
             ],
             [
              0.4444444444444444,
              "#bd3786"
             ],
             [
              0.5555555555555556,
              "#d8576b"
             ],
             [
              0.6666666666666666,
              "#ed7953"
             ],
             [
              0.7777777777777778,
              "#fb9f3a"
             ],
             [
              0.8888888888888888,
              "#fdca26"
             ],
             [
              1,
              "#f0f921"
             ]
            ],
            "type": "histogram2d"
           }
          ],
          "histogram2dcontour": [
           {
            "colorbar": {
             "outlinewidth": 0,
             "ticks": ""
            },
            "colorscale": [
             [
              0,
              "#0d0887"
             ],
             [
              0.1111111111111111,
              "#46039f"
             ],
             [
              0.2222222222222222,
              "#7201a8"
             ],
             [
              0.3333333333333333,
              "#9c179e"
             ],
             [
              0.4444444444444444,
              "#bd3786"
             ],
             [
              0.5555555555555556,
              "#d8576b"
             ],
             [
              0.6666666666666666,
              "#ed7953"
             ],
             [
              0.7777777777777778,
              "#fb9f3a"
             ],
             [
              0.8888888888888888,
              "#fdca26"
             ],
             [
              1,
              "#f0f921"
             ]
            ],
            "type": "histogram2dcontour"
           }
          ],
          "mesh3d": [
           {
            "colorbar": {
             "outlinewidth": 0,
             "ticks": ""
            },
            "type": "mesh3d"
           }
          ],
          "parcoords": [
           {
            "line": {
             "colorbar": {
              "outlinewidth": 0,
              "ticks": ""
             }
            },
            "type": "parcoords"
           }
          ],
          "pie": [
           {
            "automargin": true,
            "type": "pie"
           }
          ],
          "scatter": [
           {
            "fillpattern": {
             "fillmode": "overlay",
             "size": 10,
             "solidity": 0.2
            },
            "type": "scatter"
           }
          ],
          "scatter3d": [
           {
            "line": {
             "colorbar": {
              "outlinewidth": 0,
              "ticks": ""
             }
            },
            "marker": {
             "colorbar": {
              "outlinewidth": 0,
              "ticks": ""
             }
            },
            "type": "scatter3d"
           }
          ],
          "scattercarpet": [
           {
            "marker": {
             "colorbar": {
              "outlinewidth": 0,
              "ticks": ""
             }
            },
            "type": "scattercarpet"
           }
          ],
          "scattergeo": [
           {
            "marker": {
             "colorbar": {
              "outlinewidth": 0,
              "ticks": ""
             }
            },
            "type": "scattergeo"
           }
          ],
          "scattergl": [
           {
            "marker": {
             "colorbar": {
              "outlinewidth": 0,
              "ticks": ""
             }
            },
            "type": "scattergl"
           }
          ],
          "scattermapbox": [
           {
            "marker": {
             "colorbar": {
              "outlinewidth": 0,
              "ticks": ""
             }
            },
            "type": "scattermapbox"
           }
          ],
          "scatterpolar": [
           {
            "marker": {
             "colorbar": {
              "outlinewidth": 0,
              "ticks": ""
             }
            },
            "type": "scatterpolar"
           }
          ],
          "scatterpolargl": [
           {
            "marker": {
             "colorbar": {
              "outlinewidth": 0,
              "ticks": ""
             }
            },
            "type": "scatterpolargl"
           }
          ],
          "scatterternary": [
           {
            "marker": {
             "colorbar": {
              "outlinewidth": 0,
              "ticks": ""
             }
            },
            "type": "scatterternary"
           }
          ],
          "surface": [
           {
            "colorbar": {
             "outlinewidth": 0,
             "ticks": ""
            },
            "colorscale": [
             [
              0,
              "#0d0887"
             ],
             [
              0.1111111111111111,
              "#46039f"
             ],
             [
              0.2222222222222222,
              "#7201a8"
             ],
             [
              0.3333333333333333,
              "#9c179e"
             ],
             [
              0.4444444444444444,
              "#bd3786"
             ],
             [
              0.5555555555555556,
              "#d8576b"
             ],
             [
              0.6666666666666666,
              "#ed7953"
             ],
             [
              0.7777777777777778,
              "#fb9f3a"
             ],
             [
              0.8888888888888888,
              "#fdca26"
             ],
             [
              1,
              "#f0f921"
             ]
            ],
            "type": "surface"
           }
          ],
          "table": [
           {
            "cells": {
             "fill": {
              "color": "#EBF0F8"
             },
             "line": {
              "color": "white"
             }
            },
            "header": {
             "fill": {
              "color": "#C8D4E3"
             },
             "line": {
              "color": "white"
             }
            },
            "type": "table"
           }
          ]
         },
         "layout": {
          "annotationdefaults": {
           "arrowcolor": "#2a3f5f",
           "arrowhead": 0,
           "arrowwidth": 1
          },
          "autotypenumbers": "strict",
          "coloraxis": {
           "colorbar": {
            "outlinewidth": 0,
            "ticks": ""
           }
          },
          "colorscale": {
           "diverging": [
            [
             0,
             "#8e0152"
            ],
            [
             0.1,
             "#c51b7d"
            ],
            [
             0.2,
             "#de77ae"
            ],
            [
             0.3,
             "#f1b6da"
            ],
            [
             0.4,
             "#fde0ef"
            ],
            [
             0.5,
             "#f7f7f7"
            ],
            [
             0.6,
             "#e6f5d0"
            ],
            [
             0.7,
             "#b8e186"
            ],
            [
             0.8,
             "#7fbc41"
            ],
            [
             0.9,
             "#4d9221"
            ],
            [
             1,
             "#276419"
            ]
           ],
           "sequential": [
            [
             0,
             "#0d0887"
            ],
            [
             0.1111111111111111,
             "#46039f"
            ],
            [
             0.2222222222222222,
             "#7201a8"
            ],
            [
             0.3333333333333333,
             "#9c179e"
            ],
            [
             0.4444444444444444,
             "#bd3786"
            ],
            [
             0.5555555555555556,
             "#d8576b"
            ],
            [
             0.6666666666666666,
             "#ed7953"
            ],
            [
             0.7777777777777778,
             "#fb9f3a"
            ],
            [
             0.8888888888888888,
             "#fdca26"
            ],
            [
             1,
             "#f0f921"
            ]
           ],
           "sequentialminus": [
            [
             0,
             "#0d0887"
            ],
            [
             0.1111111111111111,
             "#46039f"
            ],
            [
             0.2222222222222222,
             "#7201a8"
            ],
            [
             0.3333333333333333,
             "#9c179e"
            ],
            [
             0.4444444444444444,
             "#bd3786"
            ],
            [
             0.5555555555555556,
             "#d8576b"
            ],
            [
             0.6666666666666666,
             "#ed7953"
            ],
            [
             0.7777777777777778,
             "#fb9f3a"
            ],
            [
             0.8888888888888888,
             "#fdca26"
            ],
            [
             1,
             "#f0f921"
            ]
           ]
          },
          "colorway": [
           "#636efa",
           "#EF553B",
           "#00cc96",
           "#ab63fa",
           "#FFA15A",
           "#19d3f3",
           "#FF6692",
           "#B6E880",
           "#FF97FF",
           "#FECB52"
          ],
          "font": {
           "color": "#2a3f5f"
          },
          "geo": {
           "bgcolor": "white",
           "lakecolor": "white",
           "landcolor": "#E5ECF6",
           "showlakes": true,
           "showland": true,
           "subunitcolor": "white"
          },
          "hoverlabel": {
           "align": "left"
          },
          "hovermode": "closest",
          "mapbox": {
           "style": "light"
          },
          "paper_bgcolor": "white",
          "plot_bgcolor": "#E5ECF6",
          "polar": {
           "angularaxis": {
            "gridcolor": "white",
            "linecolor": "white",
            "ticks": ""
           },
           "bgcolor": "#E5ECF6",
           "radialaxis": {
            "gridcolor": "white",
            "linecolor": "white",
            "ticks": ""
           }
          },
          "scene": {
           "xaxis": {
            "backgroundcolor": "#E5ECF6",
            "gridcolor": "white",
            "gridwidth": 2,
            "linecolor": "white",
            "showbackground": true,
            "ticks": "",
            "zerolinecolor": "white"
           },
           "yaxis": {
            "backgroundcolor": "#E5ECF6",
            "gridcolor": "white",
            "gridwidth": 2,
            "linecolor": "white",
            "showbackground": true,
            "ticks": "",
            "zerolinecolor": "white"
           },
           "zaxis": {
            "backgroundcolor": "#E5ECF6",
            "gridcolor": "white",
            "gridwidth": 2,
            "linecolor": "white",
            "showbackground": true,
            "ticks": "",
            "zerolinecolor": "white"
           }
          },
          "shapedefaults": {
           "line": {
            "color": "#2a3f5f"
           }
          },
          "ternary": {
           "aaxis": {
            "gridcolor": "white",
            "linecolor": "white",
            "ticks": ""
           },
           "baxis": {
            "gridcolor": "white",
            "linecolor": "white",
            "ticks": ""
           },
           "bgcolor": "#E5ECF6",
           "caxis": {
            "gridcolor": "white",
            "linecolor": "white",
            "ticks": ""
           }
          },
          "title": {
           "x": 0.05
          },
          "xaxis": {
           "automargin": true,
           "gridcolor": "white",
           "linecolor": "white",
           "ticks": "",
           "title": {
            "standoff": 15
           },
           "zerolinecolor": "white",
           "zerolinewidth": 2
          },
          "yaxis": {
           "automargin": true,
           "gridcolor": "white",
           "linecolor": "white",
           "ticks": "",
           "title": {
            "standoff": 15
           },
           "zerolinecolor": "white",
           "zerolinewidth": 2
          }
         }
        },
        "title": {
         "text": "Model"
        },
        "xaxis": {
         "title": {
          "text": "Date"
         }
        },
        "yaxis": {
         "title": {
          "text": "Close Price USD ($)"
         }
        }
       }
      }
     },
     "metadata": {},
     "output_type": "display_data"
    }
   ],
   "source": [
    "from plotly import graph_objs as go\n",
    "\n",
    "fig = go.Figure()\n",
    "\n",
    "fig.add_trace(go.Scatter(x=valid['date'], y=valid['Close'], mode='lines', name='Val'))\n",
    "fig.add_trace(go.Scatter(x=valid['date'], y=valid['Predictions'], mode='lines', name='Predictions'))\n",
    "\n",
    "fig.update_layout(title='Model',\n",
    "                        xaxis_title='Date',\n",
    "                        yaxis_title='Close Price USD ($)')\n",
    "fig.show()"
   ]
  },
  {
   "cell_type": "markdown",
   "metadata": {},
   "source": [
    "# END"
   ]
  }
 ],
 "metadata": {
  "kernelspec": {
   "display_name": "ML",
   "language": "python",
   "name": "ml"
  },
  "language_info": {
   "codemirror_mode": {
    "name": "ipython",
    "version": 3
   },
   "file_extension": ".py",
   "mimetype": "text/x-python",
   "name": "python",
   "nbconvert_exporter": "python",
   "pygments_lexer": "ipython3",
   "version": "3.8.19"
  }
 },
 "nbformat": 4,
 "nbformat_minor": 2
}
