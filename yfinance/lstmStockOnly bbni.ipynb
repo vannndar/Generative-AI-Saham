{
 "cells": [
  {
   "cell_type": "markdown",
   "metadata": {},
   "source": [
    "# Import Data"
   ]
  },
  {
   "cell_type": "code",
   "execution_count": 1,
   "metadata": {},
   "outputs": [],
   "source": [
    "import pandas as pd\n",
    "import numpy as np "
   ]
  },
  {
   "cell_type": "code",
   "execution_count": 2,
   "metadata": {},
   "outputs": [],
   "source": [
    "data = pd.read_csv('Data/bbni_data_5y.csv')"
   ]
  },
  {
   "cell_type": "code",
   "execution_count": 3,
   "metadata": {},
   "outputs": [],
   "source": [
    "data['date_str'] = pd.to_datetime(data['date_str'])"
   ]
  },
  {
   "cell_type": "code",
   "execution_count": 4,
   "metadata": {},
   "outputs": [],
   "source": [
    "# rename columns\n",
    "data = data.rename(columns={'date_str': 'date'})"
   ]
  },
  {
   "cell_type": "code",
   "execution_count": 5,
   "metadata": {},
   "outputs": [
    {
     "data": {
      "text/html": [
       "<div>\n",
       "<style scoped>\n",
       "    .dataframe tbody tr th:only-of-type {\n",
       "        vertical-align: middle;\n",
       "    }\n",
       "\n",
       "    .dataframe tbody tr th {\n",
       "        vertical-align: top;\n",
       "    }\n",
       "\n",
       "    .dataframe thead th {\n",
       "        text-align: right;\n",
       "    }\n",
       "</style>\n",
       "<table border=\"1\" class=\"dataframe\">\n",
       "  <thead>\n",
       "    <tr style=\"text-align: right;\">\n",
       "      <th></th>\n",
       "      <th>Open</th>\n",
       "      <th>High</th>\n",
       "      <th>Low</th>\n",
       "      <th>Close</th>\n",
       "      <th>Volume</th>\n",
       "      <th>Dividends</th>\n",
       "      <th>Stock Splits</th>\n",
       "      <th>date</th>\n",
       "    </tr>\n",
       "  </thead>\n",
       "  <tbody>\n",
       "    <tr>\n",
       "      <th>0</th>\n",
       "      <td>3245.003550</td>\n",
       "      <td>3288.270264</td>\n",
       "      <td>3147.653443</td>\n",
       "      <td>3288.270264</td>\n",
       "      <td>47956400</td>\n",
       "      <td>0.0</td>\n",
       "      <td>0.0</td>\n",
       "      <td>2019-11-07</td>\n",
       "    </tr>\n",
       "    <tr>\n",
       "      <th>1</th>\n",
       "      <td>3309.903293</td>\n",
       "      <td>3331.536648</td>\n",
       "      <td>3245.003229</td>\n",
       "      <td>3320.719971</td>\n",
       "      <td>34375400</td>\n",
       "      <td>0.0</td>\n",
       "      <td>0.0</td>\n",
       "      <td>2019-11-08</td>\n",
       "    </tr>\n",
       "    <tr>\n",
       "      <th>2</th>\n",
       "      <td>3288.270320</td>\n",
       "      <td>3309.903678</td>\n",
       "      <td>3245.003606</td>\n",
       "      <td>3266.636963</td>\n",
       "      <td>29695800</td>\n",
       "      <td>0.0</td>\n",
       "      <td>0.0</td>\n",
       "      <td>2019-11-11</td>\n",
       "    </tr>\n",
       "    <tr>\n",
       "      <th>3</th>\n",
       "      <td>3245.003550</td>\n",
       "      <td>3288.270264</td>\n",
       "      <td>3223.370193</td>\n",
       "      <td>3288.270264</td>\n",
       "      <td>43277200</td>\n",
       "      <td>0.0</td>\n",
       "      <td>0.0</td>\n",
       "      <td>2019-11-12</td>\n",
       "    </tr>\n",
       "    <tr>\n",
       "      <th>4</th>\n",
       "      <td>3288.270302</td>\n",
       "      <td>3288.270302</td>\n",
       "      <td>3180.103516</td>\n",
       "      <td>3180.103516</td>\n",
       "      <td>47613000</td>\n",
       "      <td>0.0</td>\n",
       "      <td>0.0</td>\n",
       "      <td>2019-11-13</td>\n",
       "    </tr>\n",
       "  </tbody>\n",
       "</table>\n",
       "</div>"
      ],
      "text/plain": [
       "          Open         High          Low        Close    Volume  Dividends  \\\n",
       "0  3245.003550  3288.270264  3147.653443  3288.270264  47956400        0.0   \n",
       "1  3309.903293  3331.536648  3245.003229  3320.719971  34375400        0.0   \n",
       "2  3288.270320  3309.903678  3245.003606  3266.636963  29695800        0.0   \n",
       "3  3245.003550  3288.270264  3223.370193  3288.270264  43277200        0.0   \n",
       "4  3288.270302  3288.270302  3180.103516  3180.103516  47613000        0.0   \n",
       "\n",
       "   Stock Splits       date  \n",
       "0           0.0 2019-11-07  \n",
       "1           0.0 2019-11-08  \n",
       "2           0.0 2019-11-11  \n",
       "3           0.0 2019-11-12  \n",
       "4           0.0 2019-11-13  "
      ]
     },
     "execution_count": 5,
     "metadata": {},
     "output_type": "execute_result"
    }
   ],
   "source": [
    "data.head()"
   ]
  },
  {
   "cell_type": "code",
   "execution_count": 6,
   "metadata": {},
   "outputs": [
    {
     "name": "stdout",
     "output_type": "stream",
     "text": [
      "<class 'pandas.core.frame.DataFrame'>\n",
      "RangeIndex: 1213 entries, 0 to 1212\n",
      "Data columns (total 8 columns):\n",
      " #   Column        Non-Null Count  Dtype         \n",
      "---  ------        --------------  -----         \n",
      " 0   Open          1213 non-null   float64       \n",
      " 1   High          1213 non-null   float64       \n",
      " 2   Low           1213 non-null   float64       \n",
      " 3   Close         1213 non-null   float64       \n",
      " 4   Volume        1213 non-null   int64         \n",
      " 5   Dividends     1213 non-null   float64       \n",
      " 6   Stock Splits  1213 non-null   float64       \n",
      " 7   date          1213 non-null   datetime64[ns]\n",
      "dtypes: datetime64[ns](1), float64(6), int64(1)\n",
      "memory usage: 75.9 KB\n"
     ]
    }
   ],
   "source": [
    "data.info()"
   ]
  },
  {
   "cell_type": "code",
   "execution_count": 7,
   "metadata": {},
   "outputs": [
    {
     "data": {
      "text/plain": [
       "Open            0\n",
       "High            0\n",
       "Low             0\n",
       "Close           0\n",
       "Volume          0\n",
       "Dividends       0\n",
       "Stock Splits    0\n",
       "date            0\n",
       "dtype: int64"
      ]
     },
     "execution_count": 7,
     "metadata": {},
     "output_type": "execute_result"
    }
   ],
   "source": [
    "data.isnull().sum()"
   ]
  },
  {
   "cell_type": "markdown",
   "metadata": {},
   "source": [
    "# Feature Engineering"
   ]
  },
  {
   "cell_type": "code",
   "execution_count": 8,
   "metadata": {},
   "outputs": [
    {
     "data": {
      "text/plain": [
       "Dividends\n",
       "0.00000      1208\n",
       "103.12054       1\n",
       "22.01131        1\n",
       "73.14845        1\n",
       "196.39006       1\n",
       "280.49518       1\n",
       "Name: count, dtype: int64"
      ]
     },
     "execution_count": 8,
     "metadata": {},
     "output_type": "execute_result"
    }
   ],
   "source": [
    "data['Dividends'].value_counts()"
   ]
  },
  {
   "cell_type": "code",
   "execution_count": 9,
   "metadata": {},
   "outputs": [
    {
     "data": {
      "text/plain": [
       "Stock Splits\n",
       "0.0    1211\n",
       "2.0       2\n",
       "Name: count, dtype: int64"
      ]
     },
     "execution_count": 9,
     "metadata": {},
     "output_type": "execute_result"
    }
   ],
   "source": [
    "data['Stock Splits'].value_counts()"
   ]
  },
  {
   "cell_type": "code",
   "execution_count": 10,
   "metadata": {},
   "outputs": [],
   "source": [
    "data.drop(['Dividends', 'Stock Splits'], axis=1, inplace=True)"
   ]
  },
  {
   "cell_type": "code",
   "execution_count": 11,
   "metadata": {},
   "outputs": [],
   "source": [
    "# 1. Menghitung Return Harian\n",
    "data['return'] = data['Close'].pct_change()\n",
    "data['log_return'] = np.log(data['Close'] / data['Close'].shift(1))"
   ]
  },
  {
   "cell_type": "code",
   "execution_count": 12,
   "metadata": {},
   "outputs": [],
   "source": [
    "# 2. Moving Averages\n",
    "data['ma_5'] = data['Close'].rolling(window=5).mean()\n",
    "data['ma_10'] = data['Close'].rolling(window=10).mean()\n",
    "data['ma_20'] = data['Close'].rolling(window=20).mean()"
   ]
  },
  {
   "cell_type": "code",
   "execution_count": 13,
   "metadata": {},
   "outputs": [],
   "source": [
    "# 3. Exponential Moving Average (EMA)\n",
    "data['ema_10'] = data['Close'].ewm(span=10, adjust=False).mean()\n",
    "data['ema_20'] = data['Close'].ewm(span=20, adjust=False).mean()"
   ]
  },
  {
   "cell_type": "code",
   "execution_count": 14,
   "metadata": {},
   "outputs": [],
   "source": [
    "# 4. Bollinger Bands\n",
    "data['bollinger_mid'] = data['Close'].rolling(window=20).mean()\n",
    "data['bollinger_std'] = data['Close'].rolling(window=20).std()\n",
    "data['bollinger_upper'] = data['bollinger_mid'] + (2 * data['bollinger_std'])\n",
    "data['bollinger_lower'] = data['bollinger_mid'] - (2 * data['bollinger_std'])"
   ]
  },
  {
   "cell_type": "code",
   "execution_count": 15,
   "metadata": {},
   "outputs": [],
   "source": [
    "# 10. Penambahan Fitur Waktu\n",
    "data['day_of_week'] = data['date'].dt.dayofweek  # 0 = Monday, 6 = Sunday\n",
    "data['month'] = data['date'].dt.month"
   ]
  },
  {
   "cell_type": "code",
   "execution_count": 16,
   "metadata": {},
   "outputs": [],
   "source": [
    "# Hapus data yang mengandung nilai NaN akibat perhitungan rolling\n",
    "data = data.dropna().reset_index(drop=True)"
   ]
  },
  {
   "cell_type": "code",
   "execution_count": 17,
   "metadata": {},
   "outputs": [
    {
     "data": {
      "text/html": [
       "<div>\n",
       "<style scoped>\n",
       "    .dataframe tbody tr th:only-of-type {\n",
       "        vertical-align: middle;\n",
       "    }\n",
       "\n",
       "    .dataframe tbody tr th {\n",
       "        vertical-align: top;\n",
       "    }\n",
       "\n",
       "    .dataframe thead th {\n",
       "        text-align: right;\n",
       "    }\n",
       "</style>\n",
       "<table border=\"1\" class=\"dataframe\">\n",
       "  <thead>\n",
       "    <tr style=\"text-align: right;\">\n",
       "      <th></th>\n",
       "      <th>Open</th>\n",
       "      <th>High</th>\n",
       "      <th>Low</th>\n",
       "      <th>Close</th>\n",
       "      <th>Volume</th>\n",
       "      <th>date</th>\n",
       "      <th>return</th>\n",
       "      <th>log_return</th>\n",
       "      <th>ma_5</th>\n",
       "      <th>ma_10</th>\n",
       "      <th>ma_20</th>\n",
       "      <th>ema_10</th>\n",
       "      <th>ema_20</th>\n",
       "      <th>bollinger_mid</th>\n",
       "      <th>bollinger_std</th>\n",
       "      <th>bollinger_upper</th>\n",
       "      <th>bollinger_lower</th>\n",
       "      <th>day_of_week</th>\n",
       "      <th>month</th>\n",
       "    </tr>\n",
       "  </thead>\n",
       "  <tbody>\n",
       "    <tr>\n",
       "      <th>0</th>\n",
       "      <td>3245.003502</td>\n",
       "      <td>3266.636858</td>\n",
       "      <td>3212.553467</td>\n",
       "      <td>3212.553467</td>\n",
       "      <td>42196800</td>\n",
       "      <td>2019-12-04</td>\n",
       "      <td>-0.016556</td>\n",
       "      <td>-0.016695</td>\n",
       "      <td>3238.513525</td>\n",
       "      <td>3255.820166</td>\n",
       "      <td>3254.738501</td>\n",
       "      <td>3247.538989</td>\n",
       "      <td>3255.803649</td>\n",
       "      <td>3254.738501</td>\n",
       "      <td>47.590787</td>\n",
       "      <td>3349.920075</td>\n",
       "      <td>3159.556926</td>\n",
       "      <td>2</td>\n",
       "      <td>12</td>\n",
       "    </tr>\n",
       "    <tr>\n",
       "      <th>1</th>\n",
       "      <td>3223.370117</td>\n",
       "      <td>3255.820152</td>\n",
       "      <td>3212.553439</td>\n",
       "      <td>3223.370117</td>\n",
       "      <td>53985800</td>\n",
       "      <td>2019-12-05</td>\n",
       "      <td>0.003367</td>\n",
       "      <td>0.003361</td>\n",
       "      <td>3242.840186</td>\n",
       "      <td>3245.003491</td>\n",
       "      <td>3251.493494</td>\n",
       "      <td>3243.144648</td>\n",
       "      <td>3252.714741</td>\n",
       "      <td>3251.493494</td>\n",
       "      <td>47.396298</td>\n",
       "      <td>3346.286090</td>\n",
       "      <td>3156.700897</td>\n",
       "      <td>3</td>\n",
       "      <td>12</td>\n",
       "    </tr>\n",
       "    <tr>\n",
       "      <th>2</th>\n",
       "      <td>3245.003336</td>\n",
       "      <td>3299.086725</td>\n",
       "      <td>3234.186658</td>\n",
       "      <td>3277.453369</td>\n",
       "      <td>29544800</td>\n",
       "      <td>2019-12-06</td>\n",
       "      <td>0.016778</td>\n",
       "      <td>0.016639</td>\n",
       "      <td>3249.330176</td>\n",
       "      <td>3241.758472</td>\n",
       "      <td>3249.330164</td>\n",
       "      <td>3249.382598</td>\n",
       "      <td>3255.070801</td>\n",
       "      <td>3249.330164</td>\n",
       "      <td>44.996949</td>\n",
       "      <td>3339.324061</td>\n",
       "      <td>3159.336266</td>\n",
       "      <td>4</td>\n",
       "      <td>12</td>\n",
       "    </tr>\n",
       "    <tr>\n",
       "      <th>3</th>\n",
       "      <td>3299.086725</td>\n",
       "      <td>3309.903402</td>\n",
       "      <td>3255.820014</td>\n",
       "      <td>3277.453369</td>\n",
       "      <td>36970600</td>\n",
       "      <td>2019-12-09</td>\n",
       "      <td>0.000000</td>\n",
       "      <td>0.000000</td>\n",
       "      <td>3251.493457</td>\n",
       "      <td>3245.003467</td>\n",
       "      <td>3249.870984</td>\n",
       "      <td>3254.486374</td>\n",
       "      <td>3257.202474</td>\n",
       "      <td>3249.870984</td>\n",
       "      <td>45.280019</td>\n",
       "      <td>3340.431022</td>\n",
       "      <td>3159.310946</td>\n",
       "      <td>0</td>\n",
       "      <td>12</td>\n",
       "    </tr>\n",
       "    <tr>\n",
       "      <th>4</th>\n",
       "      <td>3277.453585</td>\n",
       "      <td>3309.903621</td>\n",
       "      <td>3255.820228</td>\n",
       "      <td>3288.270264</td>\n",
       "      <td>38381200</td>\n",
       "      <td>2019-12-10</td>\n",
       "      <td>0.003300</td>\n",
       "      <td>0.003295</td>\n",
       "      <td>3255.820117</td>\n",
       "      <td>3249.330151</td>\n",
       "      <td>3249.870984</td>\n",
       "      <td>3260.628900</td>\n",
       "      <td>3260.161311</td>\n",
       "      <td>3249.870984</td>\n",
       "      <td>45.280019</td>\n",
       "      <td>3340.431022</td>\n",
       "      <td>3159.310946</td>\n",
       "      <td>1</td>\n",
       "      <td>12</td>\n",
       "    </tr>\n",
       "  </tbody>\n",
       "</table>\n",
       "</div>"
      ],
      "text/plain": [
       "          Open         High          Low        Close    Volume       date  \\\n",
       "0  3245.003502  3266.636858  3212.553467  3212.553467  42196800 2019-12-04   \n",
       "1  3223.370117  3255.820152  3212.553439  3223.370117  53985800 2019-12-05   \n",
       "2  3245.003336  3299.086725  3234.186658  3277.453369  29544800 2019-12-06   \n",
       "3  3299.086725  3309.903402  3255.820014  3277.453369  36970600 2019-12-09   \n",
       "4  3277.453585  3309.903621  3255.820228  3288.270264  38381200 2019-12-10   \n",
       "\n",
       "     return  log_return         ma_5        ma_10        ma_20       ema_10  \\\n",
       "0 -0.016556   -0.016695  3238.513525  3255.820166  3254.738501  3247.538989   \n",
       "1  0.003367    0.003361  3242.840186  3245.003491  3251.493494  3243.144648   \n",
       "2  0.016778    0.016639  3249.330176  3241.758472  3249.330164  3249.382598   \n",
       "3  0.000000    0.000000  3251.493457  3245.003467  3249.870984  3254.486374   \n",
       "4  0.003300    0.003295  3255.820117  3249.330151  3249.870984  3260.628900   \n",
       "\n",
       "        ema_20  bollinger_mid  bollinger_std  bollinger_upper  \\\n",
       "0  3255.803649    3254.738501      47.590787      3349.920075   \n",
       "1  3252.714741    3251.493494      47.396298      3346.286090   \n",
       "2  3255.070801    3249.330164      44.996949      3339.324061   \n",
       "3  3257.202474    3249.870984      45.280019      3340.431022   \n",
       "4  3260.161311    3249.870984      45.280019      3340.431022   \n",
       "\n",
       "   bollinger_lower  day_of_week  month  \n",
       "0      3159.556926            2     12  \n",
       "1      3156.700897            3     12  \n",
       "2      3159.336266            4     12  \n",
       "3      3159.310946            0     12  \n",
       "4      3159.310946            1     12  "
      ]
     },
     "execution_count": 17,
     "metadata": {},
     "output_type": "execute_result"
    }
   ],
   "source": [
    "data.head()"
   ]
  },
  {
   "cell_type": "code",
   "execution_count": 18,
   "metadata": {},
   "outputs": [
    {
     "data": {
      "text/plain": [
       "Open               0\n",
       "High               0\n",
       "Low                0\n",
       "Close              0\n",
       "Volume             0\n",
       "date               0\n",
       "return             0\n",
       "log_return         0\n",
       "ma_5               0\n",
       "ma_10              0\n",
       "ma_20              0\n",
       "ema_10             0\n",
       "ema_20             0\n",
       "bollinger_mid      0\n",
       "bollinger_std      0\n",
       "bollinger_upper    0\n",
       "bollinger_lower    0\n",
       "day_of_week        0\n",
       "month              0\n",
       "dtype: int64"
      ]
     },
     "execution_count": 18,
     "metadata": {},
     "output_type": "execute_result"
    }
   ],
   "source": [
    "data.isnull().sum()"
   ]
  },
  {
   "cell_type": "markdown",
   "metadata": {},
   "source": [
    "# Modelling"
   ]
  },
  {
   "cell_type": "markdown",
   "metadata": {},
   "source": [
    "## Preprocessing"
   ]
  },
  {
   "cell_type": "code",
   "execution_count": 19,
   "metadata": {},
   "outputs": [],
   "source": [
    "dataUsed = data[['Close', 'Volume', 'ma_5', 'ma_10', 'ema_10', 'bollinger_mid', 'bollinger_std', 'bollinger_upper', 'bollinger_lower', 'day_of_week', 'month']]"
   ]
  },
  {
   "cell_type": "code",
   "execution_count": 20,
   "metadata": {},
   "outputs": [
    {
     "data": {
      "text/plain": [
       "array([[0.39722655, 0.09501956, 0.38797812, ..., 0.46656508, 0.5       ,\n",
       "        1.        ],\n",
       "       [0.39960833, 0.12156626, 0.38896933, ..., 0.46593506, 0.75      ,\n",
       "        1.        ],\n",
       "       [0.41151722, 0.06652955, 0.39045615, ..., 0.4665164 , 1.        ,\n",
       "        1.        ],\n",
       "       ...,\n",
       "       [0.87889247, 0.07306342, 0.85452522, ..., 0.901559  , 0.25      ,\n",
       "        0.90909091],\n",
       "       [0.8183387 , 0.151354  , 0.84994334, ..., 0.8932178 , 0.5       ,\n",
       "        0.90909091],\n",
       "       [0.80732892, 0.02430388, 0.84192505, ..., 0.88300305, 0.75      ,\n",
       "        0.90909091]])"
      ]
     },
     "execution_count": 20,
     "metadata": {},
     "output_type": "execute_result"
    }
   ],
   "source": [
    "from sklearn.preprocessing import MinMaxScaler\n",
    "\n",
    "# preprocessing\n",
    "scaler = MinMaxScaler(feature_range=(0, 1))\n",
    "data_scaled = scaler.fit_transform(dataUsed)\n",
    "\n",
    "data_scaled"
   ]
  },
  {
   "cell_type": "markdown",
   "metadata": {},
   "source": [
    "## Train Test Sequence"
   ]
  },
  {
   "cell_type": "code",
   "execution_count": null,
   "metadata": {},
   "outputs": [],
   "source": [
    "import numpy as np\n",
    "\n",
    "sequence_length = 60\n",
    "x = []\n",
    "y = []\n",
    "\n",
    "# Target tetap kolom 0 (harga close), tetapi kita hanya menggunakan kolom lain sebagai input\n",
    "for i in range(sequence_length, len(data_scaled)):\n",
    "    x.append(data_scaled[i-sequence_length:i, 1:])  \n",
    "    y.append(data_scaled[i, 0]) \n",
    "\n",
    "# Konversi ke array numpy\n",
    "x, y = np.array(x), np.array(y)\n"
   ]
  },
  {
   "cell_type": "code",
   "execution_count": 40,
   "metadata": {},
   "outputs": [
    {
     "name": "stdout",
     "output_type": "stream",
     "text": [
      "(1134, 50) (1134,)\n"
     ]
    }
   ],
   "source": [
    "print(x.shape, y.shape)"
   ]
  },
  {
   "cell_type": "markdown",
   "metadata": {},
   "source": [
    "## LSTM"
   ]
  },
  {
   "cell_type": "code",
   "execution_count": 23,
   "metadata": {},
   "outputs": [],
   "source": [
    "from sklearn.model_selection import train_test_split\n",
    "\n",
    "# train and test split\n",
    "x_train, x_test, y_train, y_test = train_test_split(x, y, test_size=0.2, random_state=42)"
   ]
  },
  {
   "cell_type": "code",
   "execution_count": 24,
   "metadata": {},
   "outputs": [],
   "source": [
    "from tensorflow.keras.models import Sequential\n",
    "from tensorflow.keras.layers import LSTM, Dense, Dropout"
   ]
  },
  {
   "cell_type": "code",
   "execution_count": 25,
   "metadata": {},
   "outputs": [],
   "source": [
    "# LSTM model\n",
    "model = Sequential()\n",
    "model.add(LSTM(units=50, return_sequences=True, input_shape=(x_train.shape[1], x_train.shape[2])))\n",
    "model.add(Dropout(0.2))\n",
    "model.add(LSTM(units=50, return_sequences=True))\n",
    "model.add(Dropout(0.2))\n",
    "model.add(LSTM(units=50))\n",
    "model.add(Dropout(0.2))\n",
    "model.add(Dense(units=1))\n",
    "\n",
    "model.compile(optimizer='adam', loss='mean_squared_error')"
   ]
  },
  {
   "cell_type": "code",
   "execution_count": 26,
   "metadata": {},
   "outputs": [
    {
     "name": "stdout",
     "output_type": "stream",
     "text": [
      "Epoch 1/100\n",
      "29/29 [==============================] - 7s 72ms/step - loss: 0.0493 - val_loss: 0.0039\n",
      "Epoch 2/100\n",
      "29/29 [==============================] - 1s 38ms/step - loss: 0.0086 - val_loss: 0.0030\n",
      "Epoch 3/100\n",
      "29/29 [==============================] - 1s 38ms/step - loss: 0.0073 - val_loss: 0.0029\n",
      "Epoch 4/100\n",
      "29/29 [==============================] - 1s 41ms/step - loss: 0.0067 - val_loss: 0.0026\n",
      "Epoch 5/100\n",
      "29/29 [==============================] - 1s 37ms/step - loss: 0.0066 - val_loss: 0.0025\n",
      "Epoch 6/100\n",
      "29/29 [==============================] - 1s 37ms/step - loss: 0.0065 - val_loss: 0.0030\n",
      "Epoch 7/100\n",
      "29/29 [==============================] - 1s 37ms/step - loss: 0.0060 - val_loss: 0.0034\n",
      "Epoch 8/100\n",
      "29/29 [==============================] - 1s 37ms/step - loss: 0.0061 - val_loss: 0.0022\n",
      "Epoch 9/100\n",
      "29/29 [==============================] - 2s 81ms/step - loss: 0.0052 - val_loss: 0.0022\n",
      "Epoch 10/100\n",
      "29/29 [==============================] - 2s 74ms/step - loss: 0.0051 - val_loss: 0.0025\n",
      "Epoch 11/100\n",
      "29/29 [==============================] - 2s 72ms/step - loss: 0.0050 - val_loss: 0.0023\n",
      "Epoch 12/100\n",
      "29/29 [==============================] - 2s 75ms/step - loss: 0.0047 - val_loss: 0.0026\n",
      "Epoch 13/100\n",
      "29/29 [==============================] - 2s 75ms/step - loss: 0.0047 - val_loss: 0.0021\n",
      "Epoch 14/100\n",
      "29/29 [==============================] - 2s 73ms/step - loss: 0.0045 - val_loss: 0.0021\n",
      "Epoch 15/100\n",
      "29/29 [==============================] - 2s 72ms/step - loss: 0.0047 - val_loss: 0.0021\n",
      "Epoch 16/100\n",
      "29/29 [==============================] - 2s 75ms/step - loss: 0.0046 - val_loss: 0.0020\n",
      "Epoch 17/100\n",
      "29/29 [==============================] - 2s 73ms/step - loss: 0.0049 - val_loss: 0.0019\n",
      "Epoch 18/100\n",
      "29/29 [==============================] - 2s 77ms/step - loss: 0.0043 - val_loss: 0.0025\n",
      "Epoch 19/100\n",
      "29/29 [==============================] - 2s 74ms/step - loss: 0.0042 - val_loss: 0.0019\n",
      "Epoch 20/100\n",
      "29/29 [==============================] - 2s 71ms/step - loss: 0.0049 - val_loss: 0.0021\n",
      "Epoch 21/100\n",
      "29/29 [==============================] - 2s 77ms/step - loss: 0.0046 - val_loss: 0.0034\n",
      "Epoch 22/100\n",
      "29/29 [==============================] - 2s 76ms/step - loss: 0.0042 - val_loss: 0.0018\n",
      "Epoch 23/100\n",
      "29/29 [==============================] - 1s 43ms/step - loss: 0.0040 - val_loss: 0.0018\n",
      "Epoch 24/100\n",
      "29/29 [==============================] - 1s 39ms/step - loss: 0.0047 - val_loss: 0.0028\n",
      "Epoch 25/100\n",
      "29/29 [==============================] - 1s 40ms/step - loss: 0.0048 - val_loss: 0.0034\n",
      "Epoch 26/100\n",
      "29/29 [==============================] - 1s 41ms/step - loss: 0.0041 - val_loss: 0.0021\n",
      "Epoch 27/100\n",
      "29/29 [==============================] - 1s 45ms/step - loss: 0.0036 - val_loss: 0.0017\n",
      "Epoch 28/100\n",
      "29/29 [==============================] - 1s 49ms/step - loss: 0.0038 - val_loss: 0.0019\n",
      "Epoch 29/100\n",
      "29/29 [==============================] - 1s 47ms/step - loss: 0.0035 - val_loss: 0.0035\n",
      "Epoch 30/100\n",
      "29/29 [==============================] - 1s 47ms/step - loss: 0.0039 - val_loss: 0.0016\n",
      "Epoch 31/100\n",
      "29/29 [==============================] - 1s 44ms/step - loss: 0.0033 - val_loss: 0.0016\n",
      "Epoch 32/100\n",
      "29/29 [==============================] - 1s 45ms/step - loss: 0.0036 - val_loss: 0.0017\n",
      "Epoch 33/100\n",
      "29/29 [==============================] - 1s 39ms/step - loss: 0.0038 - val_loss: 0.0018\n",
      "Epoch 34/100\n",
      "29/29 [==============================] - 1s 38ms/step - loss: 0.0034 - val_loss: 0.0023\n",
      "Epoch 35/100\n",
      "29/29 [==============================] - 1s 41ms/step - loss: 0.0035 - val_loss: 0.0017\n",
      "Epoch 36/100\n",
      "29/29 [==============================] - 1s 44ms/step - loss: 0.0033 - val_loss: 0.0015\n",
      "Epoch 37/100\n",
      "29/29 [==============================] - 2s 56ms/step - loss: 0.0033 - val_loss: 0.0015\n",
      "Epoch 38/100\n",
      "29/29 [==============================] - 2s 53ms/step - loss: 0.0034 - val_loss: 0.0015\n",
      "Epoch 39/100\n",
      "29/29 [==============================] - 2s 55ms/step - loss: 0.0033 - val_loss: 0.0016\n",
      "Epoch 40/100\n",
      "29/29 [==============================] - 2s 54ms/step - loss: 0.0034 - val_loss: 0.0023\n",
      "Epoch 41/100\n",
      "29/29 [==============================] - 2s 70ms/step - loss: 0.0032 - val_loss: 0.0016\n",
      "Epoch 42/100\n",
      "29/29 [==============================] - 2s 71ms/step - loss: 0.0029 - val_loss: 0.0016\n",
      "Epoch 43/100\n",
      "29/29 [==============================] - 2s 70ms/step - loss: 0.0029 - val_loss: 0.0014\n",
      "Epoch 44/100\n",
      "29/29 [==============================] - 2s 80ms/step - loss: 0.0035 - val_loss: 0.0015\n",
      "Epoch 45/100\n",
      "29/29 [==============================] - 3s 90ms/step - loss: 0.0031 - val_loss: 0.0014\n",
      "Epoch 46/100\n",
      "29/29 [==============================] - 2s 75ms/step - loss: 0.0034 - val_loss: 0.0014\n",
      "Epoch 47/100\n",
      "29/29 [==============================] - 2s 70ms/step - loss: 0.0029 - val_loss: 0.0015\n",
      "Epoch 48/100\n",
      "29/29 [==============================] - 2s 68ms/step - loss: 0.0032 - val_loss: 0.0015\n",
      "Epoch 49/100\n",
      "29/29 [==============================] - 2s 63ms/step - loss: 0.0032 - val_loss: 0.0015\n",
      "Epoch 50/100\n",
      "29/29 [==============================] - 2s 63ms/step - loss: 0.0029 - val_loss: 0.0016\n",
      "Epoch 51/100\n",
      "29/29 [==============================] - 2s 64ms/step - loss: 0.0029 - val_loss: 0.0015\n",
      "Epoch 52/100\n",
      "29/29 [==============================] - 2s 62ms/step - loss: 0.0028 - val_loss: 0.0014\n",
      "Epoch 53/100\n",
      "29/29 [==============================] - 2s 63ms/step - loss: 0.0030 - val_loss: 0.0017\n",
      "Epoch 54/100\n",
      "29/29 [==============================] - 2s 62ms/step - loss: 0.0027 - val_loss: 0.0014\n",
      "Epoch 55/100\n",
      "29/29 [==============================] - 2s 62ms/step - loss: 0.0029 - val_loss: 0.0014\n",
      "Epoch 56/100\n",
      "29/29 [==============================] - 2s 64ms/step - loss: 0.0029 - val_loss: 0.0013\n",
      "Epoch 57/100\n",
      "29/29 [==============================] - 2s 66ms/step - loss: 0.0028 - val_loss: 0.0013\n",
      "Epoch 58/100\n",
      "29/29 [==============================] - 2s 74ms/step - loss: 0.0027 - val_loss: 0.0017\n",
      "Epoch 59/100\n",
      "29/29 [==============================] - 2s 68ms/step - loss: 0.0027 - val_loss: 0.0013\n",
      "Epoch 60/100\n",
      "29/29 [==============================] - 2s 72ms/step - loss: 0.0025 - val_loss: 0.0013\n",
      "Epoch 61/100\n",
      "29/29 [==============================] - 2s 75ms/step - loss: 0.0024 - val_loss: 0.0013\n",
      "Epoch 62/100\n",
      "29/29 [==============================] - 2s 73ms/step - loss: 0.0024 - val_loss: 0.0012\n",
      "Epoch 63/100\n",
      "29/29 [==============================] - 2s 70ms/step - loss: 0.0025 - val_loss: 0.0019\n",
      "Epoch 64/100\n",
      "29/29 [==============================] - 2s 75ms/step - loss: 0.0025 - val_loss: 0.0012\n",
      "Epoch 65/100\n",
      "29/29 [==============================] - 2s 70ms/step - loss: 0.0023 - val_loss: 0.0013\n",
      "Epoch 66/100\n",
      "29/29 [==============================] - 2s 74ms/step - loss: 0.0023 - val_loss: 0.0015\n",
      "Epoch 67/100\n",
      "29/29 [==============================] - 2s 74ms/step - loss: 0.0023 - val_loss: 0.0012\n",
      "Epoch 68/100\n",
      "29/29 [==============================] - 2s 71ms/step - loss: 0.0021 - val_loss: 0.0013\n",
      "Epoch 69/100\n",
      "29/29 [==============================] - 2s 76ms/step - loss: 0.0025 - val_loss: 0.0012\n",
      "Epoch 70/100\n",
      "29/29 [==============================] - 2s 76ms/step - loss: 0.0023 - val_loss: 0.0012\n",
      "Epoch 71/100\n",
      "29/29 [==============================] - 2s 77ms/step - loss: 0.0023 - val_loss: 0.0011\n",
      "Epoch 72/100\n",
      "29/29 [==============================] - 2s 70ms/step - loss: 0.0024 - val_loss: 0.0012\n",
      "Epoch 73/100\n",
      "29/29 [==============================] - 2s 66ms/step - loss: 0.0024 - val_loss: 0.0011\n",
      "Epoch 74/100\n",
      "29/29 [==============================] - 2s 68ms/step - loss: 0.0021 - val_loss: 0.0014\n",
      "Epoch 75/100\n",
      "29/29 [==============================] - 2s 65ms/step - loss: 0.0023 - val_loss: 0.0012\n",
      "Epoch 76/100\n",
      "29/29 [==============================] - 2s 66ms/step - loss: 0.0023 - val_loss: 0.0011\n",
      "Epoch 77/100\n",
      "29/29 [==============================] - 2s 67ms/step - loss: 0.0021 - val_loss: 0.0012\n",
      "Epoch 78/100\n",
      "29/29 [==============================] - 2s 79ms/step - loss: 0.0020 - val_loss: 0.0014\n",
      "Epoch 79/100\n",
      "29/29 [==============================] - 2s 81ms/step - loss: 0.0022 - val_loss: 0.0011\n",
      "Epoch 80/100\n",
      "29/29 [==============================] - 3s 90ms/step - loss: 0.0021 - val_loss: 0.0012\n",
      "Epoch 81/100\n",
      "29/29 [==============================] - 2s 85ms/step - loss: 0.0025 - val_loss: 0.0011\n",
      "Epoch 82/100\n",
      "29/29 [==============================] - 2s 81ms/step - loss: 0.0019 - val_loss: 0.0012\n",
      "Epoch 83/100\n",
      "29/29 [==============================] - 2s 86ms/step - loss: 0.0021 - val_loss: 0.0012\n",
      "Epoch 84/100\n",
      "29/29 [==============================] - 3s 99ms/step - loss: 0.0020 - val_loss: 0.0012\n",
      "Epoch 85/100\n",
      "29/29 [==============================] - 3s 94ms/step - loss: 0.0025 - val_loss: 0.0011\n",
      "Epoch 86/100\n",
      "29/29 [==============================] - 2s 84ms/step - loss: 0.0023 - val_loss: 0.0012\n",
      "Epoch 87/100\n",
      "29/29 [==============================] - 2s 79ms/step - loss: 0.0023 - val_loss: 0.0011\n",
      "Epoch 88/100\n",
      "29/29 [==============================] - 2s 79ms/step - loss: 0.0026 - val_loss: 0.0014\n",
      "Epoch 89/100\n",
      "29/29 [==============================] - 2s 83ms/step - loss: 0.0022 - val_loss: 0.0010\n",
      "Epoch 90/100\n",
      "29/29 [==============================] - 2s 80ms/step - loss: 0.0021 - val_loss: 0.0014\n",
      "Epoch 91/100\n",
      "29/29 [==============================] - 2s 81ms/step - loss: 0.0019 - val_loss: 0.0013\n",
      "Epoch 92/100\n",
      "29/29 [==============================] - 2s 79ms/step - loss: 0.0021 - val_loss: 0.0016\n",
      "Epoch 93/100\n",
      "29/29 [==============================] - 2s 75ms/step - loss: 0.0019 - val_loss: 0.0014\n",
      "Epoch 94/100\n",
      "29/29 [==============================] - 2s 79ms/step - loss: 0.0019 - val_loss: 9.7509e-04\n",
      "Epoch 95/100\n",
      "29/29 [==============================] - 2s 78ms/step - loss: 0.0021 - val_loss: 0.0015\n",
      "Epoch 96/100\n",
      "29/29 [==============================] - 2s 79ms/step - loss: 0.0024 - val_loss: 0.0011\n",
      "Epoch 97/100\n",
      "29/29 [==============================] - 2s 81ms/step - loss: 0.0019 - val_loss: 9.8079e-04\n",
      "Epoch 98/100\n",
      "29/29 [==============================] - 2s 82ms/step - loss: 0.0019 - val_loss: 0.0010\n",
      "Epoch 99/100\n",
      "29/29 [==============================] - 2s 80ms/step - loss: 0.0021 - val_loss: 0.0022\n",
      "Epoch 100/100\n",
      "29/29 [==============================] - 2s 78ms/step - loss: 0.0022 - val_loss: 0.0015\n"
     ]
    },
    {
     "data": {
      "text/plain": [
       "<keras.src.callbacks.History at 0x219461d83d0>"
      ]
     },
     "execution_count": 26,
     "metadata": {},
     "output_type": "execute_result"
    }
   ],
   "source": [
    "# train model with early stopping\n",
    "model.fit(x_train, y_train, epochs=100, batch_size=32, validation_data=(x_test, y_test), verbose=1)"
   ]
  },
  {
   "cell_type": "code",
   "execution_count": 27,
   "metadata": {},
   "outputs": [
    {
     "name": "stdout",
     "output_type": "stream",
     "text": [
      "8/8 [==============================] - 4s 21ms/step\n"
     ]
    }
   ],
   "source": [
    "# prediction\n",
    "predicted_prices =  model.predict(x_test)\n"
   ]
  },
  {
   "cell_type": "code",
   "execution_count": 28,
   "metadata": {},
   "outputs": [],
   "source": [
    "# Dapatkan jumlah kolom yang diharapkan oleh scaler\n",
    "expected_columns = scaler.min_.shape[0] \n",
    "\n",
    "# Tambahkan kolom nol untuk menyesuaikan jumlah kolom\n",
    "predicted_prices_padded = np.hstack([np.zeros((predicted_prices.shape[0], expected_columns - 1)), predicted_prices])\n",
    "\n",
    "# Inverse transform dan ambil hanya kolom harga 'Close'\n",
    "predicted_prices = scaler.inverse_transform(predicted_prices_padded)[:, -1]  # Ambil hanya kolom harga\n"
   ]
  },
  {
   "cell_type": "code",
   "execution_count": 29,
   "metadata": {},
   "outputs": [],
   "source": [
    "# Tambahkan kolom nol untuk menyesuaikan jumlah kolom\n",
    "real_prices_padded = np.hstack([np.zeros((y_test.shape[0], expected_columns - 1)), y_test.reshape(-1,1)])\n",
    "\n",
    "# Inverse transform dan ambil hanya kolom harga 'Close'\n",
    "real_prices = scaler.inverse_transform(real_prices_padded)[:, -1]  # Ambil hanya kolom harga\n"
   ]
  },
  {
   "cell_type": "markdown",
   "metadata": {},
   "source": [
    "# Evaluation"
   ]
  },
  {
   "cell_type": "code",
   "execution_count": 31,
   "metadata": {},
   "outputs": [
    {
     "data": {
      "image/png": "[encoded data removed]",
      "text/plain": [
       "<Figure size 640x480 with 1 Axes>"
      ]
     },
     "metadata": {},
     "output_type": "display_data"
    }
   ],
   "source": [
    "# conpare real and predicted prices\n",
    "import matplotlib.pyplot as plt\n",
    "\n",
    "plt.plot(real_prices, color='red', label='Real Prices')\n",
    "plt.plot(predicted_prices, color='blue', label='Predicted Prices')\n",
    "plt.title('Stock Prices Prediction')\n",
    "plt.xlabel('Time')\n",
    "plt.ylabel('Stock Prices')\n",
    "plt.legend()\n",
    "plt.show()"
   ]
  },
  {
   "cell_type": "code",
   "execution_count": 38,
   "metadata": {},
   "outputs": [
    {
     "name": "stdout",
     "output_type": "stream",
     "text": [
      "Real Prices:  [ 7.99075759  9.10036397  5.0680384   5.61202706  7.56066146  2.98661621\n",
      "  8.11468703  1.72338748 10.18338701 11.51606778  8.45309388  2.71669484\n",
      "  7.53296048  8.62646925  8.3953017   9.84010155  7.89307562  8.01965428\n",
      "  7.33905123  5.04083947  2.51155565  3.30007716 11.16931705  2.82466387\n",
      "  2.70589806  1.69099683  4.11605986  3.51767275  3.76246785  2.60872701\n",
      "  3.28352836  5.14963696  9.49334964  6.67422114  9.55114182  2.22004101\n",
      " 11.22710805  9.88061817  5.28563398  7.50525949  3.87126535  5.44883052\n",
      "  8.7998458   4.44418677  9.29107758 11.21280104  2.67350771  6.64651897\n",
      "  8.87542565  8.14238801  3.30007716  6.04721705  4.76809147  3.46327429\n",
      "  8.10634196  2.42518079 10.48615584  9.69895687  4.47117932  7.3944532\n",
      "  9.11770103  8.24566648  1.38868599  5.04083947 10.9100322  10.30449454\n",
      "  2.73432995  6.50801347  5.23123494  7.00663589  8.22549214  2.571134\n",
      "  2.70169123  5.50322897  7.3944532   3.08248217  4.03930678  8.0315829\n",
      "  9.26296976  2.92183492  3.62647083  2.07968282  3.95832972 10.12283324\n",
      "  7.80997267  9.31997309  7.31135025  4.30922638  3.95832972  3.84406642\n",
      "  3.19128026  8.65536593  2.83224846  2.52235244  6.72962311  3.27287823\n",
      "  3.7154009   2.91928622 11.87889247  3.30007716  7.7545707   2.45757174\n",
      "  3.51767275  3.3544768   7.80997267  4.25524305  6.26481263  7.83767365\n",
      "  8.07744646  3.51767275  9.65051386  5.59387098  8.33629607 10.30449454\n",
      "  8.11468703  7.58836244  8.01965428  8.3953017   1.194343    3.12157601\n",
      "  2.05808896  4.39020344  8.42419838  7.99075759  7.67146657  3.38167573\n",
      "  5.01363995  9.65051386  9.60893282  6.59111701  4.55125044  7.28364867\n",
      "  4.41719481  8.56867825  5.09523851  2.77067876  6.21041359  4.93204197\n",
      "  9.49334964  5.28563398  3.2456793   6.70192212  7.53296048  5.01363995\n",
      "  2.54394601 10.42560207  2.45757174  4.09329011  7.08973943  4.41719481\n",
      "  2.62553245  2.45757174  5.25843446  3.38167573  7.96186209  2.38199366\n",
      "  9.52940633  6.02001752  6.59111701 10.01347692  8.04854978  5.0680384\n",
      "  7.44985575  3.30007716  6.40080906 10.48615584  7.53296048  6.78502566\n",
      "  8.19302965  9.75951064  9.14659772  3.51767275  7.31135025  2.4899612\n",
      "  4.06629815 10.54670961 10.53360539  9.95568474  5.14963696  7.44985575\n",
      "  1.64780969  1.88533983  8.42419838  2.55474309  1.50745062  8.65536593\n",
      "  3.30007716  6.72962311  6.72962311  3.01720415  9.00789648  4.49817128\n",
      "  7.61606461  7.31135025 11.69723117  7.99075759  8.16413414  7.93296659\n",
      "  3.62647083  9.49334964  7.80997267  2.04729188  8.14238801  6.92353235\n",
      "  2.46836881  3.87126535 11.2733548   7.31135025  2.38199366  3.68840894\n",
      "  6.28640324  3.40887584  4.06166141  9.88061817  5.3128335   3.58044051\n",
      "  3.32727728  7.84627773  4.93204197  3.49047382 10.24394077 11.2733548\n",
      "  2.12286996  8.89231329  2.56553987  6.75732468  4.93204197]\n",
      "Predicted Prices:  [ 7.62318867  8.81239879  4.9542855   5.32013685  7.40320528  2.82479353\n",
      "  6.78614253  1.75394811  8.52611005 10.81870228  7.93382698  2.33637789\n",
      "  7.28030807  8.1387468   7.88298124  9.50672215  7.56652075  8.10422283\n",
      "  7.23378503  5.15740719  2.60537875  3.56816877 10.84350491  2.84638494\n",
      "  2.84991153  1.72473639  3.63591523  3.54315683  4.01243615  2.54537225\n",
      "  3.28367127  4.83317035  8.52135527  7.42994535  9.45699364  2.1443385\n",
      " 10.9337343   9.10457462  5.19892991  7.24071985  3.99550495  4.80215675\n",
      "  8.81481618  3.85639709  8.30459964 10.10627902  2.41725704  6.88930464\n",
      "  8.3054297   8.01193732  3.3169277   5.93152821  4.36935031  3.35212485\n",
      "  8.16146117  2.53056175 11.02881879  9.36811423  4.42579794  6.92649055\n",
      "  8.24272192  8.50610024  1.83929831  4.88390791 10.42331254  9.78035879\n",
      "  2.60027811  6.364591    4.76865888  6.61325061  6.84183419  2.85042638\n",
      "  2.7406458   4.96867311  7.38783747  2.81036052  3.83740616  8.03448975\n",
      "  8.9489001   3.09153846  3.35805194  2.05101608  4.02865401  9.68275464\n",
      "  7.91184562  9.509013    7.61897087  4.46530551  3.89729923  3.37260002\n",
      "  2.73900339  7.91511273  2.82187785  2.53078844  6.98862529  3.22024244\n",
      "  3.93587151  2.7811293  11.27901393  3.33992073  7.81843239  2.83227222\n",
      "  3.3647368   3.15779921  7.7517212   4.45378539  5.64678615  7.7735216\n",
      "  7.92467737  3.28975555  8.39239919  6.01075119  7.66362071  9.31305397\n",
      "  8.20178372  7.36934221  8.29811788  8.01989168  1.89984851  2.66636413\n",
      "  1.85317385  4.46705478  8.04721069  7.9793731   7.50611234  3.43074676\n",
      "  4.99745619  8.99519038  8.98900235  6.75859272  3.9218632   7.16763115\n",
      "  4.49645516  8.04319942  4.93268377  2.35785317  5.80445385  4.86277562\n",
      "  9.38198781  4.87806147  3.40695056  6.23805428  7.12105894  5.21732485\n",
      "  2.23710789 10.1352011   2.4449665   4.36763579  6.49905062  3.89137477\n",
      "  2.81399643  2.58269224  5.03384942  3.52845074  8.31275201  2.48008317\n",
      "  8.67543459  5.73452407  6.02684185  9.51806295  7.68792045  4.87124041\n",
      "  7.04013979  3.56551978  5.94674587 10.37008613  6.79400641  6.62998152\n",
      "  7.89670336  9.46289253  8.89924371  3.31998648  6.95347452  2.27020024\n",
      "  3.78883848 10.38498253 10.1446051   9.68914002  4.91426128  7.20919287\n",
      "  1.70835298  2.08701001  8.12686771  2.50467664  1.76241027  7.97417313\n",
      "  3.4950527   6.3785603   6.19354802  2.91500637  8.6588158   4.78794616\n",
      "  7.96646136  7.39221591 10.76509953  7.85062945  8.50305933  8.01369971\n",
      "  3.54450911  8.9256494   7.11758399  1.78900413  8.28949082  7.23860013\n",
      "  2.11901267  3.97334591 10.1514914   7.33894426  2.59588361  3.46642172\n",
      "  6.28688848  3.24753129  3.79154599  9.4262259   5.18858832  4.34385598\n",
      "  3.45619127  7.93843752  4.88445145  3.18456092 10.52316886 10.09570074\n",
      "  2.37235805  8.75462806  2.43770221  7.13642347  4.88539985]\n",
      "Difference:  [ 3.67568920e-01  2.87965179e-01  1.13752896e-01  2.91890217e-01\n",
      "  1.57456183e-01  1.61822682e-01  1.32854450e+00 -3.05606316e-02\n",
      "  1.65727695e+00  6.97365501e-01  5.19266897e-01  3.80316955e-01\n",
      "  2.52652408e-01  4.87722450e-01  5.12320456e-01  3.33379402e-01\n",
      "  3.26554867e-01 -8.45685567e-02  1.05266198e-01 -1.16567727e-01\n",
      " -9.38230923e-02 -2.68091612e-01  3.25812140e-01 -2.17210774e-02\n",
      " -1.44013466e-01 -3.37395640e-02  4.80144628e-01 -2.54840862e-02\n",
      " -2.49968300e-01  6.33547575e-02 -1.42912607e-04  3.16466609e-01\n",
      "  9.71994364e-01 -7.55724210e-01  9.41481799e-02  7.57025085e-02\n",
      "  2.93373748e-01  7.76043553e-01  8.67040759e-02  2.64539638e-01\n",
      " -1.24239597e-01  6.46673775e-01 -1.49703783e-02  5.87789675e-01\n",
      "  9.86477942e-01  1.10652202e+00  2.56250668e-01 -2.42785664e-01\n",
      "  5.69995954e-01  1.30450690e-01 -1.68505387e-02  1.15688836e-01\n",
      "  3.98741152e-01  1.11149439e-01 -5.51192131e-02 -1.05380953e-01\n",
      " -5.42662947e-01  3.30842642e-01  4.53813789e-02  4.67962651e-01\n",
      "  8.74979119e-01 -2.60433757e-01 -4.50612315e-01  1.56931553e-01\n",
      "  4.86719659e-01  5.24135748e-01  1.34051836e-01  1.43422467e-01\n",
      "  4.62576062e-01  3.93385276e-01  1.38365795e+00 -2.79292379e-01\n",
      " -3.89545671e-02  5.34555864e-01  6.61572693e-03  2.72121649e-01\n",
      "  2.01900622e-01 -2.90685449e-03  3.14069653e-01 -1.69703539e-01\n",
      "  2.68418893e-01  2.86667443e-02 -7.03242899e-02  4.40078604e-01\n",
      " -1.01872956e-01 -1.89039912e-01 -3.07620623e-01 -1.56079130e-01\n",
      "  6.10304891e-02  4.71466399e-01  4.52276868e-01  7.40253197e-01\n",
      "  1.03706089e-02 -8.43599797e-03 -2.59002183e-01  5.26357913e-02\n",
      " -2.20470612e-01  1.38156921e-01  5.99878535e-01 -3.98435669e-02\n",
      " -6.38616874e-02 -3.74700481e-01  1.52935951e-01  1.96677584e-01\n",
      "  5.82514655e-02 -1.98542340e-01  6.18026477e-01  6.41520494e-02\n",
      "  1.52769089e-01  2.27917193e-01  1.25811467e+00 -4.16880203e-01\n",
      "  6.72675362e-01  9.91440574e-01 -8.70966893e-02  2.19020233e-01\n",
      " -2.78463599e-01  3.75410017e-01 -7.05505509e-01  4.55211879e-01\n",
      "  2.04915106e-01 -7.68513451e-02  3.76987686e-01  1.13844969e-02\n",
      "  1.65354235e-01 -4.90710358e-02  1.61837526e-02  6.55323480e-01\n",
      "  6.19930473e-01 -1.67475716e-01  6.29387240e-01  1.16017525e-01\n",
      " -7.92603552e-02  5.25478827e-01  1.62554745e-01  4.12825596e-01\n",
      "  4.05959737e-01  6.92663474e-02  1.11361826e-01  4.07572508e-01\n",
      " -1.61271262e-01  4.63867847e-01  4.11901535e-01 -2.03684907e-01\n",
      "  3.06838118e-01  2.90400976e-01  1.26052403e-02 -2.74345678e-01\n",
      "  5.90688812e-01  5.25820041e-01 -1.88463985e-01 -1.25120500e-01\n",
      "  2.24585042e-01 -1.46775014e-01 -3.50889915e-01 -9.80895106e-02\n",
      "  8.53971739e-01  2.85493454e-01  5.64275160e-01  4.95413973e-01\n",
      "  3.60629327e-01  1.96797991e-01  4.09715959e-01 -2.65442617e-01\n",
      "  4.54063185e-01  1.16069705e-01  7.38954068e-01  1.55044144e-01\n",
      "  2.96326283e-01  2.96618109e-01  2.47354005e-01  1.97686269e-01\n",
      "  3.57875727e-01  2.19760962e-01  2.77459673e-01  1.61727079e-01\n",
      "  3.89000291e-01  2.66544717e-01  2.35375682e-01  2.40662881e-01\n",
      " -6.05432900e-02 -2.01670186e-01  2.97330668e-01  5.00664458e-02\n",
      " -2.54959652e-01  6.81192802e-01 -1.94975533e-01  3.51062801e-01\n",
      "  5.36075082e-01  1.02197776e-01  3.49080676e-01 -2.89774887e-01\n",
      " -3.50396754e-01 -8.08656594e-02  9.32131642e-01  1.40128145e-01\n",
      " -3.38925183e-01 -8.07331169e-02  8.19617210e-02  5.67700231e-01\n",
      "  6.92388679e-01  2.58287747e-01 -1.47102809e-01 -3.15067785e-01\n",
      "  3.49356146e-01 -1.02080557e-01  1.12186340e+00 -2.75940081e-02\n",
      " -2.13889951e-01  2.21987216e-01 -4.85238711e-04  1.61344547e-01\n",
      "  2.70115423e-01  4.54392274e-01  1.24245182e-01 -7.63415467e-01\n",
      " -1.28913996e-01 -9.21597947e-02  4.75905223e-02  3.05912891e-01\n",
      " -2.79228089e-01  1.17765406e+00 -2.49488097e-01  1.37685230e-01\n",
      "  1.27837661e-01 -3.79098789e-01  4.66421230e-02]\n"
     ]
    }
   ],
   "source": [
    "print(\"Real Prices: \", real_prices)\n",
    "print(\"Predicted Prices: \", predicted_prices)\n",
    "print(\"Difference: \", real_prices - predicted_prices)"
   ]
  },
  {
   "cell_type": "code",
   "execution_count": 32,
   "metadata": {},
   "outputs": [
    {
     "data": {
      "text/plain": [
       "0.420281253448847"
      ]
     },
     "execution_count": 32,
     "metadata": {},
     "output_type": "execute_result"
    }
   ],
   "source": [
    "# calculate RMSE\n",
    "from sklearn.metrics import mean_squared_error\n",
    "\n",
    "rmse = np.sqrt(mean_squared_error(real_prices, predicted_prices))\n",
    "rmse"
   ]
  },
  {
   "cell_type": "code",
   "execution_count": 33,
   "metadata": {},
   "outputs": [
    {
     "data": {
      "text/plain": [
       "0.3151661829935076"
      ]
     },
     "execution_count": 33,
     "metadata": {},
     "output_type": "execute_result"
    }
   ],
   "source": [
    "# calculate MAE\n",
    "from sklearn.metrics import mean_absolute_error\n",
    "\n",
    "mae = mean_absolute_error(real_prices, predicted_prices)\n",
    "mae"
   ]
  },
  {
   "cell_type": "markdown",
   "metadata": {},
   "source": [
    "Directional Accuracy adalah metrik yang digunakan untuk mengukur seberapa baik model memprediksi arah perubahan harga (naik atau turun) dibandingkan dengan nilai aktual. Ini adalah metrik yang sangat berguna dalam prediksi saham karena dalam banyak kasus, arah perubahan harga lebih penting daripada nilai absolut dari harga itu sendiri—terutama jika tujuannya adalah untuk membuat keputusan beli atau jual."
   ]
  },
  {
   "cell_type": "code",
   "execution_count": 34,
   "metadata": {},
   "outputs": [
    {
     "data": {
      "text/plain": [
       "0.9734513274336283"
      ]
     },
     "execution_count": 34,
     "metadata": {},
     "output_type": "execute_result"
    }
   ],
   "source": [
    "# direction accuracy\n",
    "direction_accuracy = np.mean(np.sign(real_prices[1:] - real_prices[:-1]) == np.sign(predicted_prices[1:] - predicted_prices[:-1]))\n",
    "direction_accuracy"
   ]
  },
  {
   "cell_type": "markdown",
   "metadata": {},
   "source": [
    "# Save Model"
   ]
  },
  {
   "cell_type": "code",
   "execution_count": null,
   "metadata": {},
   "outputs": [],
   "source": [
    "# Save the entire model\n",
    "model.save('Model/lstm_model_bbni.h5')\n"
   ]
  }
 ],
 "metadata": {
  "kernelspec": {
   "display_name": "ML",
   "language": "python",
   "name": "ml"
  },
  "language_info": {
   "codemirror_mode": {
    "name": "ipython",
    "version": 3
   },
   "file_extension": ".py",
   "mimetype": "text/x-python",
   "name": "python",
   "nbconvert_exporter": "python",
   "pygments_lexer": "ipython3",
   "version": "3.8.19"
  }
 },
 "nbformat": 4,
 "nbformat_minor": 2
}
