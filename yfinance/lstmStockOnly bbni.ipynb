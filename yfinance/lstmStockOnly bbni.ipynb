{
 "cells": [
  {
   "cell_type": "markdown",
   "metadata": {},
   "source": [
    "# Import Data"
   ]
  },
  {
   "cell_type": "code",
   "execution_count": 2,
   "metadata": {},
   "outputs": [],
   "source": [
    "import pandas as pd\n",
    "import numpy as np "
   ]
  },
  {
   "cell_type": "code",
   "execution_count": 3,
   "metadata": {},
   "outputs": [],
   "source": [
    "data = pd.read_csv('Data/bbni_data_5y.csv')"
   ]
  },
  {
   "cell_type": "code",
   "execution_count": 4,
   "metadata": {},
   "outputs": [],
   "source": [
    "data['date_str'] = pd.to_datetime(data['date_str'])"
   ]
  },
  {
   "cell_type": "code",
   "execution_count": 5,
   "metadata": {},
   "outputs": [],
   "source": [
    "# rename columns\n",
    "data = data.rename(columns={'date_str': 'date'})"
   ]
  },
  {
   "cell_type": "code",
   "execution_count": 6,
   "metadata": {},
   "outputs": [
    {
     "data": {
      "text/html": [
       "<div>\n",
       "<style scoped>\n",
       "    .dataframe tbody tr th:only-of-type {\n",
       "        vertical-align: middle;\n",
       "    }\n",
       "\n",
       "    .dataframe tbody tr th {\n",
       "        vertical-align: top;\n",
       "    }\n",
       "\n",
       "    .dataframe thead th {\n",
       "        text-align: right;\n",
       "    }\n",
       "</style>\n",
       "<table border=\"1\" class=\"dataframe\">\n",
       "  <thead>\n",
       "    <tr style=\"text-align: right;\">\n",
       "      <th></th>\n",
       "      <th>Open</th>\n",
       "      <th>High</th>\n",
       "      <th>Low</th>\n",
       "      <th>Close</th>\n",
       "      <th>Volume</th>\n",
       "      <th>Dividends</th>\n",
       "      <th>Stock Splits</th>\n",
       "      <th>date</th>\n",
       "    </tr>\n",
       "  </thead>\n",
       "  <tbody>\n",
       "    <tr>\n",
       "      <th>0</th>\n",
       "      <td>3288.270208</td>\n",
       "      <td>3320.720243</td>\n",
       "      <td>3245.003495</td>\n",
       "      <td>3309.903564</td>\n",
       "      <td>48311000</td>\n",
       "      <td>0.0</td>\n",
       "      <td>0.0</td>\n",
       "      <td>2019-11-20</td>\n",
       "    </tr>\n",
       "    <tr>\n",
       "      <th>1</th>\n",
       "      <td>3299.086589</td>\n",
       "      <td>3342.353298</td>\n",
       "      <td>3255.819880</td>\n",
       "      <td>3331.536621</td>\n",
       "      <td>42079800</td>\n",
       "      <td>0.0</td>\n",
       "      <td>0.0</td>\n",
       "      <td>2019-11-21</td>\n",
       "    </tr>\n",
       "    <tr>\n",
       "      <th>2</th>\n",
       "      <td>3331.536921</td>\n",
       "      <td>3331.536921</td>\n",
       "      <td>3299.086886</td>\n",
       "      <td>3309.903564</td>\n",
       "      <td>21247000</td>\n",
       "      <td>0.0</td>\n",
       "      <td>0.0</td>\n",
       "      <td>2019-11-22</td>\n",
       "    </tr>\n",
       "    <tr>\n",
       "      <th>3</th>\n",
       "      <td>3299.087056</td>\n",
       "      <td>3309.903735</td>\n",
       "      <td>3234.186983</td>\n",
       "      <td>3245.003662</td>\n",
       "      <td>25178600</td>\n",
       "      <td>0.0</td>\n",
       "      <td>0.0</td>\n",
       "      <td>2019-11-25</td>\n",
       "    </tr>\n",
       "    <tr>\n",
       "      <th>4</th>\n",
       "      <td>3255.820341</td>\n",
       "      <td>3277.453699</td>\n",
       "      <td>3212.553625</td>\n",
       "      <td>3245.003662</td>\n",
       "      <td>73842800</td>\n",
       "      <td>0.0</td>\n",
       "      <td>0.0</td>\n",
       "      <td>2019-11-26</td>\n",
       "    </tr>\n",
       "  </tbody>\n",
       "</table>\n",
       "</div>"
      ],
      "text/plain": [
       "          Open         High          Low        Close    Volume  Dividends  \\\n",
       "0  3288.270208  3320.720243  3245.003495  3309.903564  48311000        0.0   \n",
       "1  3299.086589  3342.353298  3255.819880  3331.536621  42079800        0.0   \n",
       "2  3331.536921  3331.536921  3299.086886  3309.903564  21247000        0.0   \n",
       "3  3299.087056  3309.903735  3234.186983  3245.003662  25178600        0.0   \n",
       "4  3255.820341  3277.453699  3212.553625  3245.003662  73842800        0.0   \n",
       "\n",
       "   Stock Splits       date  \n",
       "0           0.0 2019-11-20  \n",
       "1           0.0 2019-11-21  \n",
       "2           0.0 2019-11-22  \n",
       "3           0.0 2019-11-25  \n",
       "4           0.0 2019-11-26  "
      ]
     },
     "execution_count": 6,
     "metadata": {},
     "output_type": "execute_result"
    }
   ],
   "source": [
    "data.head()"
   ]
  },
  {
   "cell_type": "code",
   "execution_count": 7,
   "metadata": {},
   "outputs": [
    {
     "name": "stdout",
     "output_type": "stream",
     "text": [
      "<class 'pandas.core.frame.DataFrame'>\n",
      "RangeIndex: 1213 entries, 0 to 1212\n",
      "Data columns (total 8 columns):\n",
      " #   Column        Non-Null Count  Dtype         \n",
      "---  ------        --------------  -----         \n",
      " 0   Open          1213 non-null   float64       \n",
      " 1   High          1213 non-null   float64       \n",
      " 2   Low           1213 non-null   float64       \n",
      " 3   Close         1213 non-null   float64       \n",
      " 4   Volume        1213 non-null   int64         \n",
      " 5   Dividends     1213 non-null   float64       \n",
      " 6   Stock Splits  1213 non-null   float64       \n",
      " 7   date          1213 non-null   datetime64[ns]\n",
      "dtypes: datetime64[ns](1), float64(6), int64(1)\n",
      "memory usage: 75.9 KB\n"
     ]
    }
   ],
   "source": [
    "data.info()"
   ]
  },
  {
   "cell_type": "code",
   "execution_count": 8,
   "metadata": {},
   "outputs": [
    {
     "data": {
      "text/plain": [
       "Open            0\n",
       "High            0\n",
       "Low             0\n",
       "Close           0\n",
       "Volume          0\n",
       "Dividends       0\n",
       "Stock Splits    0\n",
       "date            0\n",
       "dtype: int64"
      ]
     },
     "execution_count": 8,
     "metadata": {},
     "output_type": "execute_result"
    }
   ],
   "source": [
    "data.isnull().sum()"
   ]
  },
  {
   "cell_type": "markdown",
   "metadata": {},
   "source": [
    "# Feature Engineering"
   ]
  },
  {
   "cell_type": "code",
   "execution_count": 9,
   "metadata": {},
   "outputs": [
    {
     "data": {
      "text/plain": [
       "Dividends\n",
       "0.00000      1208\n",
       "103.12054       1\n",
       "22.01131        1\n",
       "73.14845        1\n",
       "196.39006       1\n",
       "280.49518       1\n",
       "Name: count, dtype: int64"
      ]
     },
     "execution_count": 9,
     "metadata": {},
     "output_type": "execute_result"
    }
   ],
   "source": [
    "data['Dividends'].value_counts()"
   ]
  },
  {
   "cell_type": "code",
   "execution_count": 10,
   "metadata": {},
   "outputs": [
    {
     "data": {
      "text/plain": [
       "Stock Splits\n",
       "0.0    1211\n",
       "2.0       2\n",
       "Name: count, dtype: int64"
      ]
     },
     "execution_count": 10,
     "metadata": {},
     "output_type": "execute_result"
    }
   ],
   "source": [
    "data['Stock Splits'].value_counts()"
   ]
  },
  {
   "cell_type": "code",
   "execution_count": 11,
   "metadata": {},
   "outputs": [],
   "source": [
    "data.drop(['Dividends', 'Stock Splits'], axis=1, inplace=True)"
   ]
  },
  {
   "cell_type": "code",
   "execution_count": 12,
   "metadata": {},
   "outputs": [],
   "source": [
    "# 1. Menghitung Return Harian\n",
    "data['return'] = data['Close'].pct_change()\n",
    "data['log_return'] = np.log(data['Close'] / data['Close'].shift(1))"
   ]
  },
  {
   "cell_type": "code",
   "execution_count": 13,
   "metadata": {},
   "outputs": [],
   "source": [
    "# 2. Moving Averages\n",
    "data['ma_5'] = data['Close'].rolling(window=5).mean()\n",
    "data['ma_10'] = data['Close'].rolling(window=10).mean()\n",
    "data['ma_20'] = data['Close'].rolling(window=20).mean()"
   ]
  },
  {
   "cell_type": "code",
   "execution_count": 14,
   "metadata": {},
   "outputs": [],
   "source": [
    "# 3. Exponential Moving Average (EMA)\n",
    "data['ema_10'] = data['Close'].ewm(span=10, adjust=False).mean()\n",
    "data['ema_20'] = data['Close'].ewm(span=20, adjust=False).mean()"
   ]
  },
  {
   "cell_type": "code",
   "execution_count": 15,
   "metadata": {},
   "outputs": [],
   "source": [
    "# 4. Bollinger Bands\n",
    "data['bollinger_mid'] = data['Close'].rolling(window=20).mean()\n",
    "data['bollinger_std'] = data['Close'].rolling(window=20).std()\n",
    "data['bollinger_upper'] = data['bollinger_mid'] + (2 * data['bollinger_std'])\n",
    "data['bollinger_lower'] = data['bollinger_mid'] - (2 * data['bollinger_std'])"
   ]
  },
  {
   "cell_type": "code",
   "execution_count": 16,
   "metadata": {},
   "outputs": [],
   "source": [
    "# 10. Penambahan Fitur Waktu\n",
    "data['day_of_week'] = data['date'].dt.dayofweek  # 0 = Monday, 6 = Sunday\n",
    "data['month'] = data['date'].dt.month"
   ]
  },
  {
   "cell_type": "code",
   "execution_count": 17,
   "metadata": {},
   "outputs": [],
   "source": [
    "# Hapus data yang mengandung nilai NaN akibat perhitungan rolling\n",
    "data = data.dropna().reset_index(drop=True)"
   ]
  },
  {
   "cell_type": "code",
   "execution_count": 18,
   "metadata": {},
   "outputs": [
    {
     "data": {
      "text/html": [
       "<div>\n",
       "<style scoped>\n",
       "    .dataframe tbody tr th:only-of-type {\n",
       "        vertical-align: middle;\n",
       "    }\n",
       "\n",
       "    .dataframe tbody tr th {\n",
       "        vertical-align: top;\n",
       "    }\n",
       "\n",
       "    .dataframe thead th {\n",
       "        text-align: right;\n",
       "    }\n",
       "</style>\n",
       "<table border=\"1\" class=\"dataframe\">\n",
       "  <thead>\n",
       "    <tr style=\"text-align: right;\">\n",
       "      <th></th>\n",
       "      <th>Open</th>\n",
       "      <th>High</th>\n",
       "      <th>Low</th>\n",
       "      <th>Close</th>\n",
       "      <th>Volume</th>\n",
       "      <th>date</th>\n",
       "      <th>return</th>\n",
       "      <th>log_return</th>\n",
       "      <th>ma_5</th>\n",
       "      <th>ma_10</th>\n",
       "      <th>ma_20</th>\n",
       "      <th>ema_10</th>\n",
       "      <th>ema_20</th>\n",
       "      <th>bollinger_mid</th>\n",
       "      <th>bollinger_std</th>\n",
       "      <th>bollinger_upper</th>\n",
       "      <th>bollinger_lower</th>\n",
       "      <th>day_of_week</th>\n",
       "      <th>month</th>\n",
       "    </tr>\n",
       "  </thead>\n",
       "  <tbody>\n",
       "    <tr>\n",
       "      <th>0</th>\n",
       "      <td>3331.536621</td>\n",
       "      <td>3342.353298</td>\n",
       "      <td>3309.903266</td>\n",
       "      <td>3331.536621</td>\n",
       "      <td>45188200</td>\n",
       "      <td>2019-12-17</td>\n",
       "      <td>0.000000</td>\n",
       "      <td>0.000000</td>\n",
       "      <td>3296.923389</td>\n",
       "      <td>3276.371729</td>\n",
       "      <td>3270.963477</td>\n",
       "      <td>3290.321411</td>\n",
       "      <td>3283.007058</td>\n",
       "      <td>3270.963477</td>\n",
       "      <td>39.920722</td>\n",
       "      <td>3350.804920</td>\n",
       "      <td>3191.122033</td>\n",
       "      <td>1</td>\n",
       "      <td>12</td>\n",
       "    </tr>\n",
       "    <tr>\n",
       "      <th>1</th>\n",
       "      <td>3331.536729</td>\n",
       "      <td>3396.436795</td>\n",
       "      <td>3309.903373</td>\n",
       "      <td>3385.620117</td>\n",
       "      <td>84394000</td>\n",
       "      <td>2019-12-18</td>\n",
       "      <td>0.016234</td>\n",
       "      <td>0.016103</td>\n",
       "      <td>3322.883398</td>\n",
       "      <td>3293.678418</td>\n",
       "      <td>3274.749304</td>\n",
       "      <td>3307.648449</td>\n",
       "      <td>3292.779730</td>\n",
       "      <td>3274.749304</td>\n",
       "      <td>46.804623</td>\n",
       "      <td>3368.358550</td>\n",
       "      <td>3181.140059</td>\n",
       "      <td>2</td>\n",
       "      <td>12</td>\n",
       "    </tr>\n",
       "    <tr>\n",
       "      <th>2</th>\n",
       "      <td>3385.620117</td>\n",
       "      <td>3396.436795</td>\n",
       "      <td>3353.170084</td>\n",
       "      <td>3385.620117</td>\n",
       "      <td>38600800</td>\n",
       "      <td>2019-12-19</td>\n",
       "      <td>0.000000</td>\n",
       "      <td>0.000000</td>\n",
       "      <td>3348.843408</td>\n",
       "      <td>3309.903418</td>\n",
       "      <td>3277.453479</td>\n",
       "      <td>3321.825116</td>\n",
       "      <td>3301.621672</td>\n",
       "      <td>3277.453479</td>\n",
       "      <td>51.577264</td>\n",
       "      <td>3380.608006</td>\n",
       "      <td>3174.298952</td>\n",
       "      <td>3</td>\n",
       "      <td>12</td>\n",
       "    </tr>\n",
       "    <tr>\n",
       "      <th>3</th>\n",
       "      <td>3385.620389</td>\n",
       "      <td>3385.620389</td>\n",
       "      <td>3353.170354</td>\n",
       "      <td>3374.803711</td>\n",
       "      <td>37723600</td>\n",
       "      <td>2019-12-20</td>\n",
       "      <td>-0.003195</td>\n",
       "      <td>-0.003200</td>\n",
       "      <td>3361.823438</td>\n",
       "      <td>3319.638452</td>\n",
       "      <td>3280.698486</td>\n",
       "      <td>3331.457587</td>\n",
       "      <td>3308.591390</td>\n",
       "      <td>3280.698486</td>\n",
       "      <td>55.610263</td>\n",
       "      <td>3391.919013</td>\n",
       "      <td>3169.477960</td>\n",
       "      <td>4</td>\n",
       "      <td>12</td>\n",
       "    </tr>\n",
       "    <tr>\n",
       "      <th>4</th>\n",
       "      <td>3396.436929</td>\n",
       "      <td>3428.886963</td>\n",
       "      <td>3374.803572</td>\n",
       "      <td>3428.886963</td>\n",
       "      <td>45834400</td>\n",
       "      <td>2019-12-23</td>\n",
       "      <td>0.016026</td>\n",
       "      <td>0.015899</td>\n",
       "      <td>3381.293506</td>\n",
       "      <td>3334.781812</td>\n",
       "      <td>3289.892651</td>\n",
       "      <td>3349.172019</td>\n",
       "      <td>3320.048111</td>\n",
       "      <td>3289.892651</td>\n",
       "      <td>63.970625</td>\n",
       "      <td>3417.833902</td>\n",
       "      <td>3161.951401</td>\n",
       "      <td>0</td>\n",
       "      <td>12</td>\n",
       "    </tr>\n",
       "  </tbody>\n",
       "</table>\n",
       "</div>"
      ],
      "text/plain": [
       "          Open         High          Low        Close    Volume       date  \\\n",
       "0  3331.536621  3342.353298  3309.903266  3331.536621  45188200 2019-12-17   \n",
       "1  3331.536729  3396.436795  3309.903373  3385.620117  84394000 2019-12-18   \n",
       "2  3385.620117  3396.436795  3353.170084  3385.620117  38600800 2019-12-19   \n",
       "3  3385.620389  3385.620389  3353.170354  3374.803711  37723600 2019-12-20   \n",
       "4  3396.436929  3428.886963  3374.803572  3428.886963  45834400 2019-12-23   \n",
       "\n",
       "     return  log_return         ma_5        ma_10        ma_20       ema_10  \\\n",
       "0  0.000000    0.000000  3296.923389  3276.371729  3270.963477  3290.321411   \n",
       "1  0.016234    0.016103  3322.883398  3293.678418  3274.749304  3307.648449   \n",
       "2  0.000000    0.000000  3348.843408  3309.903418  3277.453479  3321.825116   \n",
       "3 -0.003195   -0.003200  3361.823438  3319.638452  3280.698486  3331.457587   \n",
       "4  0.016026    0.015899  3381.293506  3334.781812  3289.892651  3349.172019   \n",
       "\n",
       "        ema_20  bollinger_mid  bollinger_std  bollinger_upper  \\\n",
       "0  3283.007058    3270.963477      39.920722      3350.804920   \n",
       "1  3292.779730    3274.749304      46.804623      3368.358550   \n",
       "2  3301.621672    3277.453479      51.577264      3380.608006   \n",
       "3  3308.591390    3280.698486      55.610263      3391.919013   \n",
       "4  3320.048111    3289.892651      63.970625      3417.833902   \n",
       "\n",
       "   bollinger_lower  day_of_week  month  \n",
       "0      3191.122033            1     12  \n",
       "1      3181.140059            2     12  \n",
       "2      3174.298952            3     12  \n",
       "3      3169.477960            4     12  \n",
       "4      3161.951401            0     12  "
      ]
     },
     "execution_count": 18,
     "metadata": {},
     "output_type": "execute_result"
    }
   ],
   "source": [
    "data.head()"
   ]
  },
  {
   "cell_type": "code",
   "execution_count": 19,
   "metadata": {},
   "outputs": [
    {
     "data": {
      "text/plain": [
       "Open               0\n",
       "High               0\n",
       "Low                0\n",
       "Close              0\n",
       "Volume             0\n",
       "date               0\n",
       "return             0\n",
       "log_return         0\n",
       "ma_5               0\n",
       "ma_10              0\n",
       "ma_20              0\n",
       "ema_10             0\n",
       "ema_20             0\n",
       "bollinger_mid      0\n",
       "bollinger_std      0\n",
       "bollinger_upper    0\n",
       "bollinger_lower    0\n",
       "day_of_week        0\n",
       "month              0\n",
       "dtype: int64"
      ]
     },
     "execution_count": 19,
     "metadata": {},
     "output_type": "execute_result"
    }
   ],
   "source": [
    "data.isnull().sum()"
   ]
  },
  {
   "cell_type": "markdown",
   "metadata": {},
   "source": [
    "# Modelling"
   ]
  },
  {
   "cell_type": "markdown",
   "metadata": {},
   "source": [
    "## Preprocessing"
   ]
  },
  {
   "cell_type": "code",
   "execution_count": 90,
   "metadata": {},
   "outputs": [],
   "source": [
    "dataUsed = data[['Close', 'Open']]"
   ]
  },
  {
   "cell_type": "code",
   "execution_count": 91,
   "metadata": {},
   "outputs": [
    {
     "name": "stderr",
     "output_type": "stream",
     "text": [
      "C:\\Users\\thari\\AppData\\Local\\Temp\\ipykernel_18516\\1216798107.py:6: SettingWithCopyWarning:\n",
      "\n",
      "\n",
      "A value is trying to be set on a copy of a slice from a DataFrame.\n",
      "Try using .loc[row_indexer,col_indexer] = value instead\n",
      "\n",
      "See the caveats in the documentation: https://pandas.pydata.org/pandas-docs/stable/user_guide/indexing.html#returning-a-view-versus-a-copy\n",
      "\n",
      "C:\\Users\\thari\\AppData\\Local\\Temp\\ipykernel_18516\\1216798107.py:7: SettingWithCopyWarning:\n",
      "\n",
      "\n",
      "A value is trying to be set on a copy of a slice from a DataFrame.\n",
      "Try using .loc[row_indexer,col_indexer] = value instead\n",
      "\n",
      "See the caveats in the documentation: https://pandas.pydata.org/pandas-docs/stable/user_guide/indexing.html#returning-a-view-versus-a-copy\n",
      "\n"
     ]
    },
    {
     "data": {
      "text/plain": [
       "array([[0.42342612, 0.42342611],\n",
       "       [0.43533507, 0.42342613],\n",
       "       [0.43533507, 0.43533505],\n",
       "       ...,\n",
       "       [0.76218885, 0.77540057],\n",
       "       [0.75778494, 0.75998689],\n",
       "       [0.75778494, 0.76218884]])"
      ]
     },
     "execution_count": 91,
     "metadata": {},
     "output_type": "execute_result"
    }
   ],
   "source": [
    "from sklearn.preprocessing import MinMaxScaler\n",
    "import numpy as np\n",
    "\n",
    "# preprocessing\n",
    "scaler = MinMaxScaler(feature_range=(0, 1))\n",
    "dataUsed['Close'] = scaler.fit_transform(dataUsed.Close.values.reshape(-1,1))\n",
    "dataUsed['Open'] = scaler.fit_transform(dataUsed.Open.values.reshape(-1,1))\n",
    "\n",
    "data_scaled = np.array(dataUsed)\n",
    "\n",
    "data_scaled"
   ]
  },
  {
   "cell_type": "markdown",
   "metadata": {},
   "source": [
    "## Train Test Sequence"
   ]
  },
  {
   "cell_type": "code",
   "execution_count": 92,
   "metadata": {},
   "outputs": [],
   "source": [
    "import numpy as np\n",
    "\n",
    "sequence_length = 60\n",
    "x = []\n",
    "y = []\n",
    "\n",
    "# Target tetap kolom 0 (harga close), tetapi kita hanya menggunakan kolom lain sebagai input\n",
    "for i in range(sequence_length, len(data_scaled)):\n",
    "    x.append(data_scaled[i-sequence_length:i, 0:])  \n",
    "    y.append(data_scaled[i, 0]) \n",
    "\n",
    "# Konversi ke array numpy\n",
    "x, y = np.array(x), np.array(y)\n"
   ]
  },
  {
   "cell_type": "code",
   "execution_count": 93,
   "metadata": {},
   "outputs": [
    {
     "name": "stdout",
     "output_type": "stream",
     "text": [
      "(1134, 60, 2) (1134,)\n"
     ]
    }
   ],
   "source": [
    "print(x.shape, y.shape)"
   ]
  },
  {
   "cell_type": "markdown",
   "metadata": {},
   "source": [
    "## LSTM"
   ]
  },
  {
   "cell_type": "code",
   "execution_count": 94,
   "metadata": {},
   "outputs": [],
   "source": [
    "from sklearn.model_selection import train_test_split\n",
    "\n",
    "# train and test split\n",
    "x_train, x_test, y_train, y_test = train_test_split(x, y, test_size=0.2, shuffle=False)"
   ]
  },
  {
   "cell_type": "code",
   "execution_count": 95,
   "metadata": {},
   "outputs": [],
   "source": [
    "from tensorflow.keras.models import Sequential\n",
    "from tensorflow.keras.layers import LSTM, Dense, Dropout"
   ]
  },
  {
   "cell_type": "code",
   "execution_count": 96,
   "metadata": {},
   "outputs": [],
   "source": [
    "# LSTM model\n",
    "model = Sequential()\n",
    "model.add(LSTM(units=100, return_sequences=True, input_shape=(x_train.shape[1], x_train.shape[2])))\n",
    "model.add(Dropout(0.2))\n",
    "model.add(LSTM(units=50, return_sequences=True))\n",
    "model.add(Dropout(0.3))\n",
    "model.add(LSTM(units=50))\n",
    "model.add(Dense(units=1))\n",
    "\n",
    "model.compile(optimizer='adam', loss='mean_squared_error')"
   ]
  },
  {
   "cell_type": "code",
   "execution_count": 97,
   "metadata": {},
   "outputs": [
    {
     "name": "stdout",
     "output_type": "stream",
     "text": [
      "Epoch 1/30\n",
      "182/182 [==============================] - 10s 30ms/step - loss: 0.0071 - val_loss: 0.0043\n",
      "Epoch 2/30\n",
      "182/182 [==============================] - 5s 25ms/step - loss: 0.0023 - val_loss: 0.0044\n",
      "Epoch 3/30\n",
      "182/182 [==============================] - 5s 25ms/step - loss: 0.0021 - val_loss: 0.0060\n",
      "Epoch 4/30\n",
      "182/182 [==============================] - 4s 25ms/step - loss: 0.0019 - val_loss: 0.0019\n",
      "Epoch 5/30\n",
      "182/182 [==============================] - 4s 25ms/step - loss: 0.0016 - val_loss: 0.0036\n",
      "Epoch 6/30\n",
      "182/182 [==============================] - 4s 24ms/step - loss: 0.0014 - val_loss: 0.0040\n",
      "Epoch 7/30\n",
      "182/182 [==============================] - 5s 25ms/step - loss: 0.0015 - val_loss: 0.0018\n",
      "Epoch 8/30\n",
      "182/182 [==============================] - 4s 25ms/step - loss: 0.0013 - val_loss: 0.0021\n",
      "Epoch 9/30\n",
      "182/182 [==============================] - 4s 25ms/step - loss: 0.0010 - val_loss: 0.0016\n",
      "Epoch 10/30\n",
      "182/182 [==============================] - 5s 26ms/step - loss: 9.4734e-04 - val_loss: 0.0023\n",
      "Epoch 11/30\n",
      "182/182 [==============================] - 5s 25ms/step - loss: 8.8885e-04 - val_loss: 0.0018\n",
      "Epoch 12/30\n",
      "182/182 [==============================] - 5s 25ms/step - loss: 9.3088e-04 - val_loss: 0.0050\n",
      "Epoch 13/30\n",
      "182/182 [==============================] - 4s 24ms/step - loss: 9.8092e-04 - val_loss: 0.0034\n",
      "Epoch 14/30\n",
      "182/182 [==============================] - 5s 25ms/step - loss: 9.0904e-04 - val_loss: 0.0018\n",
      "Epoch 15/30\n",
      "182/182 [==============================] - 5s 25ms/step - loss: 0.0010 - val_loss: 0.0025\n",
      "Epoch 16/30\n",
      "182/182 [==============================] - 5s 25ms/step - loss: 7.2568e-04 - val_loss: 0.0013\n",
      "Epoch 17/30\n",
      "182/182 [==============================] - 4s 25ms/step - loss: 8.6916e-04 - val_loss: 0.0018\n",
      "Epoch 18/30\n",
      "182/182 [==============================] - 4s 24ms/step - loss: 8.3138e-04 - val_loss: 0.0013\n",
      "Epoch 19/30\n",
      "182/182 [==============================] - 4s 24ms/step - loss: 8.0575e-04 - val_loss: 0.0012\n",
      "Epoch 20/30\n",
      "182/182 [==============================] - 4s 24ms/step - loss: 8.3461e-04 - val_loss: 0.0012\n",
      "Epoch 21/30\n",
      "182/182 [==============================] - 4s 24ms/step - loss: 9.7957e-04 - val_loss: 0.0013\n",
      "Epoch 22/30\n",
      "182/182 [==============================] - 4s 24ms/step - loss: 6.8892e-04 - val_loss: 0.0016\n",
      "Epoch 23/30\n",
      "182/182 [==============================] - 4s 24ms/step - loss: 7.5648e-04 - val_loss: 0.0011\n",
      "Epoch 24/30\n",
      "182/182 [==============================] - 4s 24ms/step - loss: 6.8576e-04 - val_loss: 0.0015\n",
      "Epoch 25/30\n",
      "182/182 [==============================] - 4s 24ms/step - loss: 6.3120e-04 - val_loss: 0.0014\n",
      "Epoch 26/30\n",
      "182/182 [==============================] - 4s 24ms/step - loss: 6.2938e-04 - val_loss: 9.7635e-04\n",
      "Epoch 27/30\n",
      "182/182 [==============================] - 4s 25ms/step - loss: 7.0451e-04 - val_loss: 0.0015\n",
      "Epoch 28/30\n",
      "182/182 [==============================] - 5s 25ms/step - loss: 6.6804e-04 - val_loss: 0.0019\n",
      "Epoch 29/30\n",
      "182/182 [==============================] - 4s 24ms/step - loss: 7.1415e-04 - val_loss: 0.0044\n",
      "Epoch 30/30\n",
      "182/182 [==============================] - 4s 24ms/step - loss: 6.9249e-04 - val_loss: 0.0031\n"
     ]
    },
    {
     "data": {
      "text/plain": [
       "<keras.src.callbacks.History at 0x1ec8e476190>"
      ]
     },
     "execution_count": 97,
     "metadata": {},
     "output_type": "execute_result"
    }
   ],
   "source": [
    "# train model with early stopping\n",
    "model.fit(x_train, y_train, epochs=30, batch_size=5, validation_data=(x_test, y_test), verbose=1)"
   ]
  },
  {
   "cell_type": "code",
   "execution_count": 98,
   "metadata": {},
   "outputs": [
    {
     "name": "stdout",
     "output_type": "stream",
     "text": [
      "8/8 [==============================] - 1s 12ms/step\n"
     ]
    }
   ],
   "source": [
    "# prediction\n",
    "predicted_prices =  model.predict(x_test)\n"
   ]
  },
  {
   "cell_type": "code",
   "execution_count": 99,
   "metadata": {},
   "outputs": [],
   "source": [
    "# Dapatkan jumlah kolom yang diharapkan oleh scaler\n",
    "expected_columns = scaler.min_.shape[0] \n",
    "\n",
    "# Tambahkan kolom nol untuk menyesuaikan jumlah kolom\n",
    "predicted_prices_padded = np.hstack([np.zeros((predicted_prices.shape[0], expected_columns - 1)), predicted_prices])\n",
    "\n",
    "# Inverse transform dan ambil hanya kolom harga 'Close'\n",
    "predicted_prices = scaler.inverse_transform(predicted_prices_padded)[:, -1]  # Ambil hanya kolom harga\n"
   ]
  },
  {
   "cell_type": "code",
   "execution_count": 100,
   "metadata": {},
   "outputs": [],
   "source": [
    "# Tambahkan kolom nol untuk menyesuaikan jumlah kolom\n",
    "real_prices_padded = np.hstack([np.zeros((y_test.shape[0], expected_columns - 1)), y_test.reshape(-1,1)])\n",
    "\n",
    "# Inverse transform dan ambil hanya kolom harga 'Close'\n",
    "real_prices = scaler.inverse_transform(real_prices_padded)[:, -1]  # Ambil hanya kolom harga\n"
   ]
  },
  {
   "cell_type": "code",
   "execution_count": 101,
   "metadata": {},
   "outputs": [],
   "source": [
    "real_prices_padded_train = np.hstack([np.zeros((y_train.shape[0], expected_columns - 1)), y_train.reshape(-1,1)])\n",
    "\n",
    "# Inverse transform dan ambil hanya kolom harga 'Close'\n",
    "real_prices_train = scaler.inverse_transform(real_prices_padded_train)[:, -1]  # Ambil hanya kolom harga"
   ]
  },
  {
   "cell_type": "markdown",
   "metadata": {},
   "source": [
    "# Evaluation"
   ]
  },
  {
   "cell_type": "code",
   "execution_count": 102,
   "metadata": {},
   "outputs": [
    {
     "data": {
      "image/png": "[encoded data removed]",
      "text/plain": [
       "<Figure size 640x480 with 1 Axes>"
      ]
     },
     "metadata": {},
     "output_type": "display_data"
    }
   ],
   "source": [
    "# conpare real and predicted prices\n",
    "import matplotlib.pyplot as plt\n",
    "\n",
    "plt.plot(real_prices, color='red', label='Real Prices')\n",
    "plt.plot(predicted_prices, color='blue', label='Predicted Prices')\n",
    "plt.title('Stock Prices Prediction')\n",
    "plt.xlabel('Time')\n",
    "plt.ylabel('Stock Prices')\n",
    "plt.legend()\n",
    "plt.show()"
   ]
  },
  {
   "cell_type": "code",
   "execution_count": 103,
   "metadata": {},
   "outputs": [
    {
     "data": {
      "application/vnd.plotly.v1+json": {
       "config": {
        "plotlyServerURL": "https://plot.ly"
       },
       "data": [
        {
         "mode": "lines",
         "name": "Real Prices",
         "type": "scatter",
         "x": [
          "2023-12-07T00:00:00",
          "2023-12-08T00:00:00",
          "2023-12-11T00:00:00",
          "2023-12-12T00:00:00",
          "2023-12-13T00:00:00",
          "2023-12-14T00:00:00",
          "2023-12-15T00:00:00",
          "2023-12-18T00:00:00",
          "2023-12-19T00:00:00",
          "2023-12-20T00:00:00",
          "2023-12-21T00:00:00",
          "2023-12-22T00:00:00",
          "2023-12-27T00:00:00",
          "2023-12-28T00:00:00",
          "2023-12-29T00:00:00",
          "2024-01-02T00:00:00",
          "2024-01-03T00:00:00",
          "2024-01-04T00:00:00",
          "2024-01-05T00:00:00",
          "2024-01-08T00:00:00",
          "2024-01-09T00:00:00",
          "2024-01-10T00:00:00",
          "2024-01-11T00:00:00",
          "2024-01-12T00:00:00",
          "2024-01-15T00:00:00",
          "2024-01-16T00:00:00",
          "2024-01-17T00:00:00",
          "2024-01-18T00:00:00",
          "2024-01-19T00:00:00",
          "2024-01-22T00:00:00",
          "2024-01-23T00:00:00",
          "2024-01-24T00:00:00",
          "2024-01-25T00:00:00",
          "2024-01-26T00:00:00",
          "2024-01-29T00:00:00",
          "2024-01-30T00:00:00",
          "2024-01-31T00:00:00",
          "2024-02-01T00:00:00",
          "2024-02-02T00:00:00",
          "2024-02-05T00:00:00",
          "2024-02-06T00:00:00",
          "2024-02-07T00:00:00",
          "2024-02-12T00:00:00",
          "2024-02-13T00:00:00",
          "2024-02-15T00:00:00",
          "2024-02-16T00:00:00",
          "2024-02-19T00:00:00",
          "2024-02-20T00:00:00",
          "2024-02-21T00:00:00",
          "2024-02-22T00:00:00",
          "2024-02-23T00:00:00",
          "2024-02-26T00:00:00",
          "2024-02-27T00:00:00",
          "2024-02-28T00:00:00",
          "2024-02-29T00:00:00",
          "2024-03-01T00:00:00",
          "2024-03-04T00:00:00",
          "2024-03-05T00:00:00",
          "2024-03-06T00:00:00",
          "2024-03-07T00:00:00",
          "2024-03-08T00:00:00",
          "2024-03-13T00:00:00",
          "2024-03-14T00:00:00",
          "2024-03-15T00:00:00",
          "2024-03-18T00:00:00",
          "2024-03-19T00:00:00",
          "2024-03-20T00:00:00",
          "2024-03-21T00:00:00",
          "2024-03-22T00:00:00",
          "2024-03-25T00:00:00",
          "2024-03-26T00:00:00",
          "2024-03-27T00:00:00",
          "2024-03-28T00:00:00",
          "2024-04-01T00:00:00",
          "2024-04-02T00:00:00",
          "2024-04-03T00:00:00",
          "2024-04-04T00:00:00",
          "2024-04-05T00:00:00",
          "2024-04-16T00:00:00",
          "2024-04-17T00:00:00",
          "2024-04-18T00:00:00",
          "2024-04-19T00:00:00",
          "2024-04-22T00:00:00",
          "2024-04-23T00:00:00",
          "2024-04-24T00:00:00",
          "2024-04-25T00:00:00",
          "2024-04-26T00:00:00",
          "2024-04-29T00:00:00",
          "2024-04-30T00:00:00",
          "2024-05-02T00:00:00",
          "2024-05-03T00:00:00",
          "2024-05-06T00:00:00",
          "2024-05-07T00:00:00",
          "2024-05-08T00:00:00",
          "2024-05-13T00:00:00",
          "2024-05-14T00:00:00",
          "2024-05-15T00:00:00",
          "2024-05-16T00:00:00",
          "2024-05-17T00:00:00",
          "2024-05-20T00:00:00",
          "2024-05-21T00:00:00",
          "2024-05-22T00:00:00",
          "2024-05-27T00:00:00",
          "2024-05-28T00:00:00",
          "2024-05-29T00:00:00",
          "2024-05-30T00:00:00",
          "2024-05-31T00:00:00",
          "2024-06-03T00:00:00",
          "2024-06-04T00:00:00",
          "2024-06-05T00:00:00",
          "2024-06-06T00:00:00",
          "2024-06-07T00:00:00",
          "2024-06-10T00:00:00",
          "2024-06-11T00:00:00",
          "2024-06-12T00:00:00",
          "2024-06-13T00:00:00",
          "2024-06-14T00:00:00",
          "2024-06-19T00:00:00",
          "2024-06-20T00:00:00",
          "2024-06-21T00:00:00",
          "2024-06-24T00:00:00",
          "2024-06-25T00:00:00",
          "2024-06-26T00:00:00",
          "2024-06-27T00:00:00",
          "2024-06-28T00:00:00",
          "2024-07-01T00:00:00",
          "2024-07-02T00:00:00",
          "2024-07-03T00:00:00",
          "2024-07-04T00:00:00",
          "2024-07-05T00:00:00",
          "2024-07-08T00:00:00",
          "2024-07-09T00:00:00",
          "2024-07-10T00:00:00",
          "2024-07-11T00:00:00",
          "2024-07-12T00:00:00",
          "2024-07-15T00:00:00",
          "2024-07-16T00:00:00",
          "2024-07-17T00:00:00",
          "2024-07-18T00:00:00",
          "2024-07-19T00:00:00",
          "2024-07-22T00:00:00",
          "2024-07-23T00:00:00",
          "2024-07-24T00:00:00",
          "2024-07-25T00:00:00",
          "2024-07-26T00:00:00",
          "2024-07-29T00:00:00",
          "2024-07-30T00:00:00",
          "2024-07-31T00:00:00",
          "2024-08-01T00:00:00",
          "2024-08-02T00:00:00",
          "2024-08-05T00:00:00",
          "2024-08-06T00:00:00",
          "2024-08-07T00:00:00",
          "2024-08-08T00:00:00",
          "2024-08-09T00:00:00",
          "2024-08-12T00:00:00",
          "2024-08-13T00:00:00",
          "2024-08-14T00:00:00",
          "2024-08-15T00:00:00",
          "2024-08-16T00:00:00",
          "2024-08-19T00:00:00",
          "2024-08-20T00:00:00",
          "2024-08-21T00:00:00",
          "2024-08-22T00:00:00",
          "2024-08-23T00:00:00",
          "2024-08-26T00:00:00",
          "2024-08-27T00:00:00",
          "2024-08-28T00:00:00",
          "2024-08-29T00:00:00",
          "2024-08-30T00:00:00",
          "2024-09-02T00:00:00",
          "2024-09-03T00:00:00",
          "2024-09-04T00:00:00",
          "2024-09-05T00:00:00",
          "2024-09-06T00:00:00",
          "2024-09-09T00:00:00",
          "2024-09-10T00:00:00",
          "2024-09-11T00:00:00",
          "2024-09-12T00:00:00",
          "2024-09-13T00:00:00",
          "2024-09-17T00:00:00",
          "2024-09-18T00:00:00",
          "2024-09-19T00:00:00",
          "2024-09-20T00:00:00",
          "2024-09-23T00:00:00",
          "2024-09-24T00:00:00",
          "2024-09-25T00:00:00",
          "2024-09-26T00:00:00",
          "2024-09-27T00:00:00",
          "2024-09-30T00:00:00",
          "2024-10-01T00:00:00",
          "2024-10-02T00:00:00",
          "2024-10-03T00:00:00",
          "2024-10-04T00:00:00",
          "2024-10-07T00:00:00",
          "2024-10-08T00:00:00",
          "2024-10-09T00:00:00",
          "2024-10-10T00:00:00",
          "2024-10-11T00:00:00",
          "2024-10-14T00:00:00",
          "2024-10-15T00:00:00",
          "2024-10-16T00:00:00",
          "2024-10-17T00:00:00",
          "2024-10-18T00:00:00",
          "2024-10-21T00:00:00",
          "2024-10-22T00:00:00",
          "2024-10-23T00:00:00",
          "2024-10-24T00:00:00",
          "2024-10-25T00:00:00",
          "2024-10-28T00:00:00",
          "2024-10-29T00:00:00",
          "2024-10-30T00:00:00",
          "2024-10-31T00:00:00",
          "2024-11-01T00:00:00",
          "2024-11-04T00:00:00",
          "2024-11-05T00:00:00",
          "2024-11-06T00:00:00",
          "2024-11-07T00:00:00",
          "2024-11-08T00:00:00",
          "2024-11-11T00:00:00",
          "2024-11-12T00:00:00",
          "2024-11-13T00:00:00",
          "2024-11-14T00:00:00",
          "2024-11-15T00:00:00",
          "2024-11-18T00:00:00",
          "2024-11-19T00:00:00",
          "2024-11-20T00:00:00"
         ],
         "y": [
          5034.4126254886005,
          4843.534213322242,
          4938.9736635460395,
          5034.4126254886005,
          4938.9736635460395,
          5105.991724875215,
          5034.4126254886005,
          4962.833037820753,
          4962.833037820753,
          4962.833037820753,
          4915.11380099009,
          5010.552762932652,
          5034.4126254886005,
          5105.991724875215,
          5129.851587431164,
          5129.851587431164,
          5105.991724875215,
          5344.5898621534725,
          5320.729999597524,
          5320.729999597524,
          5392.309098984136,
          5344.5898621534725,
          5344.5898621534725,
          5344.5898621534725,
          5368.449236428187,
          5344.5898621534725,
          5296.870137041574,
          5296.870137041574,
          5249.150411929676,
          5273.010274485625,
          5177.571312543063,
          5225.290549373726,
          5153.711449987114,
          5177.571312543063,
          5320.729999597524,
          5392.309098984136,
          5487.7480609266995,
          5463.888686651986,
          5511.607923482649,
          5487.7480609266995,
          5511.607923482649,
          5487.7480609266995,
          5678.626473093059,
          5607.047373706446,
          5726.346198204957,
          5726.346198204957,
          5607.047373706446,
          5750.205572479673,
          5726.346198204957,
          5678.626473093059,
          5630.90674798116,
          5630.90674798116,
          5726.346198204957,
          5702.486335649008,
          5726.346198204957,
          5630.90674798116,
          5607.047373706446,
          5630.90674798116,
          5678.626473093059,
          5702.486335649008,
          5821.78516014752,
          5941.083984646032,
          5869.504885259419,
          5800.0000045597535,
          5800.0000045597535,
          5850.000003039835,
          5875.000002279876,
          5800.0000045597535,
          5850.000003039835,
          5925.000000759959,
          5949.999999999999,
          5925.000000759959,
          5900.0000015199175,
          5650.000009119507,
          5475.000014439219,
          5325.000018998971,
          5350.000018239013,
          5300.00001975893,
          5200.000022798766,
          5250.000021278849,
          5300.00001975893,
          5225.000022038807,
          5350.000018239013,
          5250.000021278849,
          5300.00001975893,
          5300.00001975893,
          5150.000024318685,
          5225.000022038807,
          5250.000021278849,
          4830.000034046158,
          4830.000034046158,
          4810.000034654126,
          4700.000037997945,
          4670.000038909896,
          4780.000035566076,
          4930.000031006322,
          5025.000028118479,
          5200.000022798766,
          5175.000023558725,
          4980.000029486406,
          4770.00003587006,
          4760.000036174043,
          4670.000038909896,
          4710.0000376939615,
          4530.000043165665,
          4490.0000443816,
          4400.000047117453,
          4620.000040429813,
          4640.000039821846,
          4610.000040733796,
          4770.00003587006,
          4700.000037997945,
          4610.000040733796,
          4480.000044685583,
          4430.000046205501,
          4480.000044685583,
          4310.000049853304,
          4300.000050157288,
          4400.000047117453,
          4540.000042861681,
          4540.000042861681,
          4480.000044685583,
          4420.000046509485,
          4580.000041645748,
          4660.000039213879,
          4710.0000376939615,
          4710.0000376939615,
          4650.000039517861,
          4710.0000376939615,
          4700.000037997945,
          4670.000038909896,
          4860.000033134207,
          4820.0000343501415,
          4870.000032830224,
          5025.000028118479,
          5025.000028118479,
          4980.000029486406,
          5000.000028878439,
          5075.000026598561,
          5100.000025838603,
          5100.000025838603,
          5050.000027358519,
          5100.000025838603,
          5025.000028118479,
          5000.000028878439,
          5025.000028118479,
          4950.000030398355,
          4970.000029790388,
          5075.000026598561,
          5100.000025838603,
          4960.000030094373,
          5025.000028118479,
          5000.000028878439,
          5025.000028118479,
          5125.000025078643,
          5125.000025078643,
          5175.000023558725,
          5275.000020518891,
          5250.000021278849,
          5300.00001975893,
          5350.000018239013,
          5475.000014439219,
          5450.000015199177,
          5275.000020518891,
          5450.000015199177,
          5525.000012919301,
          5400.000016719096,
          5375.000017479055,
          5300.00001975893,
          5350.000018239013,
          5350.000018239013,
          5375.000017479055,
          5350.000018239013,
          5450.000015199177,
          5650.000009119507,
          5725.000006839629,
          5700.000007599588,
          5650.000009119507,
          5600.000010639424,
          5625.000009879465,
          5650.000009119507,
          5700.000007599588,
          5825.000003799793,
          5750.000006079671,
          5800.0000045597535,
          5800.0000045597535,
          5600.000010639424,
          5600.000010639424,
          5450.000015199177,
          5350.000018239013,
          5375.000017479055,
          5350.000018239013,
          5375.000017479055,
          5325.000018998971,
          5200.000022798766,
          5350.000018239013,
          5325.000018998971,
          5325.000018998971,
          5375.000017479055,
          5425.000015959137,
          5500.00001367926,
          5475.000014439219,
          5500.00001367926,
          5650.000009119507,
          5625.000009879465,
          5650.000009119507,
          5675.000008359549,
          5625.000009879465,
          5650.000009119507,
          5500.00001367926,
          5300.00001975893,
          5225.000022038807,
          5250.000021278849,
          5200.000022798766,
          5300.00001975893,
          5400.000016719096,
          5125.000025078643,
          5025.000028118479,
          4980.000029486406,
          4990.000029182421,
          4930.000031006322,
          4960.000030094373,
          4950.000030398355,
          4910.00003161429,
          4870.000032830224,
          4850.000033438191,
          4850.000033438191
         ]
        },
        {
         "mode": "lines",
         "name": "Predicted Prices",
         "type": "scatter",
         "x": [
          "2023-12-07T00:00:00",
          "2023-12-08T00:00:00",
          "2023-12-11T00:00:00",
          "2023-12-12T00:00:00",
          "2023-12-13T00:00:00",
          "2023-12-14T00:00:00",
          "2023-12-15T00:00:00",
          "2023-12-18T00:00:00",
          "2023-12-19T00:00:00",
          "2023-12-20T00:00:00",
          "2023-12-21T00:00:00",
          "2023-12-22T00:00:00",
          "2023-12-27T00:00:00",
          "2023-12-28T00:00:00",
          "2023-12-29T00:00:00",
          "2024-01-02T00:00:00",
          "2024-01-03T00:00:00",
          "2024-01-04T00:00:00",
          "2024-01-05T00:00:00",
          "2024-01-08T00:00:00",
          "2024-01-09T00:00:00",
          "2024-01-10T00:00:00",
          "2024-01-11T00:00:00",
          "2024-01-12T00:00:00",
          "2024-01-15T00:00:00",
          "2024-01-16T00:00:00",
          "2024-01-17T00:00:00",
          "2024-01-18T00:00:00",
          "2024-01-19T00:00:00",
          "2024-01-22T00:00:00",
          "2024-01-23T00:00:00",
          "2024-01-24T00:00:00",
          "2024-01-25T00:00:00",
          "2024-01-26T00:00:00",
          "2024-01-29T00:00:00",
          "2024-01-30T00:00:00",
          "2024-01-31T00:00:00",
          "2024-02-01T00:00:00",
          "2024-02-02T00:00:00",
          "2024-02-05T00:00:00",
          "2024-02-06T00:00:00",
          "2024-02-07T00:00:00",
          "2024-02-12T00:00:00",
          "2024-02-13T00:00:00",
          "2024-02-15T00:00:00",
          "2024-02-16T00:00:00",
          "2024-02-19T00:00:00",
          "2024-02-20T00:00:00",
          "2024-02-21T00:00:00",
          "2024-02-22T00:00:00",
          "2024-02-23T00:00:00",
          "2024-02-26T00:00:00",
          "2024-02-27T00:00:00",
          "2024-02-28T00:00:00",
          "2024-02-29T00:00:00",
          "2024-03-01T00:00:00",
          "2024-03-04T00:00:00",
          "2024-03-05T00:00:00",
          "2024-03-06T00:00:00",
          "2024-03-07T00:00:00",
          "2024-03-08T00:00:00",
          "2024-03-13T00:00:00",
          "2024-03-14T00:00:00",
          "2024-03-15T00:00:00",
          "2024-03-18T00:00:00",
          "2024-03-19T00:00:00",
          "2024-03-20T00:00:00",
          "2024-03-21T00:00:00",
          "2024-03-22T00:00:00",
          "2024-03-25T00:00:00",
          "2024-03-26T00:00:00",
          "2024-03-27T00:00:00",
          "2024-03-28T00:00:00",
          "2024-04-01T00:00:00",
          "2024-04-02T00:00:00",
          "2024-04-03T00:00:00",
          "2024-04-04T00:00:00",
          "2024-04-05T00:00:00",
          "2024-04-16T00:00:00",
          "2024-04-17T00:00:00",
          "2024-04-18T00:00:00",
          "2024-04-19T00:00:00",
          "2024-04-22T00:00:00",
          "2024-04-23T00:00:00",
          "2024-04-24T00:00:00",
          "2024-04-25T00:00:00",
          "2024-04-26T00:00:00",
          "2024-04-29T00:00:00",
          "2024-04-30T00:00:00",
          "2024-05-02T00:00:00",
          "2024-05-03T00:00:00",
          "2024-05-06T00:00:00",
          "2024-05-07T00:00:00",
          "2024-05-08T00:00:00",
          "2024-05-13T00:00:00",
          "2024-05-14T00:00:00",
          "2024-05-15T00:00:00",
          "2024-05-16T00:00:00",
          "2024-05-17T00:00:00",
          "2024-05-20T00:00:00",
          "2024-05-21T00:00:00",
          "2024-05-22T00:00:00",
          "2024-05-27T00:00:00",
          "2024-05-28T00:00:00",
          "2024-05-29T00:00:00",
          "2024-05-30T00:00:00",
          "2024-05-31T00:00:00",
          "2024-06-03T00:00:00",
          "2024-06-04T00:00:00",
          "2024-06-05T00:00:00",
          "2024-06-06T00:00:00",
          "2024-06-07T00:00:00",
          "2024-06-10T00:00:00",
          "2024-06-11T00:00:00",
          "2024-06-12T00:00:00",
          "2024-06-13T00:00:00",
          "2024-06-14T00:00:00",
          "2024-06-19T00:00:00",
          "2024-06-20T00:00:00",
          "2024-06-21T00:00:00",
          "2024-06-24T00:00:00",
          "2024-06-25T00:00:00",
          "2024-06-26T00:00:00",
          "2024-06-27T00:00:00",
          "2024-06-28T00:00:00",
          "2024-07-01T00:00:00",
          "2024-07-02T00:00:00",
          "2024-07-03T00:00:00",
          "2024-07-04T00:00:00",
          "2024-07-05T00:00:00",
          "2024-07-08T00:00:00",
          "2024-07-09T00:00:00",
          "2024-07-10T00:00:00",
          "2024-07-11T00:00:00",
          "2024-07-12T00:00:00",
          "2024-07-15T00:00:00",
          "2024-07-16T00:00:00",
          "2024-07-17T00:00:00",
          "2024-07-18T00:00:00",
          "2024-07-19T00:00:00",
          "2024-07-22T00:00:00",
          "2024-07-23T00:00:00",
          "2024-07-24T00:00:00",
          "2024-07-25T00:00:00",
          "2024-07-26T00:00:00",
          "2024-07-29T00:00:00",
          "2024-07-30T00:00:00",
          "2024-07-31T00:00:00",
          "2024-08-01T00:00:00",
          "2024-08-02T00:00:00",
          "2024-08-05T00:00:00",
          "2024-08-06T00:00:00",
          "2024-08-07T00:00:00",
          "2024-08-08T00:00:00",
          "2024-08-09T00:00:00",
          "2024-08-12T00:00:00",
          "2024-08-13T00:00:00",
          "2024-08-14T00:00:00",
          "2024-08-15T00:00:00",
          "2024-08-16T00:00:00",
          "2024-08-19T00:00:00",
          "2024-08-20T00:00:00",
          "2024-08-21T00:00:00",
          "2024-08-22T00:00:00",
          "2024-08-23T00:00:00",
          "2024-08-26T00:00:00",
          "2024-08-27T00:00:00",
          "2024-08-28T00:00:00",
          "2024-08-29T00:00:00",
          "2024-08-30T00:00:00",
          "2024-09-02T00:00:00",
          "2024-09-03T00:00:00",
          "2024-09-04T00:00:00",
          "2024-09-05T00:00:00",
          "2024-09-06T00:00:00",
          "2024-09-09T00:00:00",
          "2024-09-10T00:00:00",
          "2024-09-11T00:00:00",
          "2024-09-12T00:00:00",
          "2024-09-13T00:00:00",
          "2024-09-17T00:00:00",
          "2024-09-18T00:00:00",
          "2024-09-19T00:00:00",
          "2024-09-20T00:00:00",
          "2024-09-23T00:00:00",
          "2024-09-24T00:00:00",
          "2024-09-25T00:00:00",
          "2024-09-26T00:00:00",
          "2024-09-27T00:00:00",
          "2024-09-30T00:00:00",
          "2024-10-01T00:00:00",
          "2024-10-02T00:00:00",
          "2024-10-03T00:00:00",
          "2024-10-04T00:00:00",
          "2024-10-07T00:00:00",
          "2024-10-08T00:00:00",
          "2024-10-09T00:00:00",
          "2024-10-10T00:00:00",
          "2024-10-11T00:00:00",
          "2024-10-14T00:00:00",
          "2024-10-15T00:00:00",
          "2024-10-16T00:00:00",
          "2024-10-17T00:00:00",
          "2024-10-18T00:00:00",
          "2024-10-21T00:00:00",
          "2024-10-22T00:00:00",
          "2024-10-23T00:00:00",
          "2024-10-24T00:00:00",
          "2024-10-25T00:00:00",
          "2024-10-28T00:00:00",
          "2024-10-29T00:00:00",
          "2024-10-30T00:00:00",
          "2024-10-31T00:00:00",
          "2024-11-01T00:00:00",
          "2024-11-04T00:00:00",
          "2024-11-05T00:00:00",
          "2024-11-06T00:00:00",
          "2024-11-07T00:00:00",
          "2024-11-08T00:00:00",
          "2024-11-11T00:00:00",
          "2024-11-12T00:00:00",
          "2024-11-13T00:00:00",
          "2024-11-14T00:00:00",
          "2024-11-15T00:00:00",
          "2024-11-18T00:00:00",
          "2024-11-19T00:00:00",
          "2024-11-20T00:00:00"
         ],
         "y": [
          4866.4797184278095,
          4857.988996482679,
          4811.511585254992,
          4783.82544885215,
          4817.229903904875,
          4836.194690789109,
          4870.549807858325,
          4897.803111526437,
          4874.934438650789,
          4843.010655930129,
          4828.205556747327,
          4817.11919184202,
          4830.97389969797,
          4861.937004885451,
          4897.809066698522,
          4929.527125292607,
          4943.552096932262,
          4940.22234366778,
          4984.005851595886,
          5049.948554852595,
          5076.691337859232,
          5096.713979857489,
          5098.6448090612585,
          5099.118515931663,
          5096.263822985785,
          5106.510508627095,
          5109.279934336299,
          5096.899943640328,
          5082.659503047048,
          5068.92471070172,
          5063.395333420718,
          5043.294191426793,
          5031.715983445187,
          5018.708804852799,
          5006.507469319381,
          5036.89617109029,
          5092.547795604692,
          5157.75232821249,
          5188.80909201549,
          5203.420648105527,
          5204.347489433679,
          5208.047546125998,
          5207.554620291137,
          5248.958766281613,
          5285.58713494949,
          5343.429992101564,
          5362.445668638161,
          5337.856492409204,
          5335.824425279989,
          5351.827055431174,
          5352.801808825646,
          5340.286743999199,
          5322.556301874419,
          5335.2789856549225,
          5350.1888417284945,
          5364.8022926460135,
          5345.995588511674,
          5321.661131234175,
          5312.602773113479,
          5326.283156841121,
          5350.994143408182,
          5391.693684265136,
          5447.796819099443,
          5471.7926436370135,
          5460.115633936723,
          5434.931481878537,
          5431.396275177119,
          5448.1186690816785,
          5450.745170660841,
          5453.889230832126,
          5479.504862176839,
          5504.188238400597,
          5509.383043286272,
          5502.102033343335,
          5440.149024693993,
          5336.530383861712,
          5230.114165597642,
          5164.755610584551,
          5143.371941075211,
          5096.322291948075,
          5090.219052629784,
          5106.480462077029,
          5100.935384796894,
          5114.086028898603,
          5114.97253747036,
          5111.504461799719,
          5107.024548253894,
          5060.767749082995,
          5032.356705823614,
          5050.333746210645,
          4968.227081777173,
          4855.573632822897,
          4785.653415992631,
          4730.603534548463,
          4685.1674663667445,
          4676.272875478389,
          4735.109704989391,
          4814.693812665549,
          4920.527236134201,
          4978.578794998893,
          4947.567777745092,
          4836.469982153224,
          4725.372998630277,
          4655.903480050996,
          4636.0543501121265,
          4599.891567625446,
          4542.103931159981,
          4484.910187765182,
          4491.877197725451,
          4544.21016725062,
          4574.521181094782,
          4617.902173527866,
          4639.532441299457,
          4608.65541541757,
          4535.102272925762,
          4455.164373889822,
          4428.503339154536,
          4394.467635860792,
          4348.321819442388,
          4339.718761296562,
          4389.468810274643,
          4451.6765378754435,
          4469.399671379938,
          4442.50259527837,
          4443.902060718365,
          4491.1915408667455,
          4554.945177002906,
          4594.624488605829,
          4595.276850638786,
          4592.035071507378,
          4594.02788863876,
          4591.993385302782,
          4626.381255818466,
          4670.0077637552395,
          4706.031682456481,
          4764.558301639778,
          4817.431296997206,
          4832.791851321763,
          4834.59247880858,
          4844.533014466789,
          4870.399304418356,
          4895.692273711915,
          4895.678739229903,
          4894.911063410207,
          4880.472478000278,
          4859.6147584619075,
          4856.720815518196,
          4843.295962810933,
          4834.335594340001,
          4851.785601997502,
          4887.203717283906,
          4876.306835126761,
          4866.360614986108,
          4860.07466016066,
          4861.614613523935,
          4892.668399740893,
          4928.463585696139,
          4960.290190835955,
          5004.556067702954,
          5030.360640416549,
          5048.830606638441,
          5068.1700279847555,
          5114.928144369363,
          5151.660457859089,
          5123.78998181125,
          5118.263582116291,
          5158.227659220736,
          5172.660560148221,
          5153.75830257088,
          5123.455950795204,
          5105.353581104747,
          5107.967630960459,
          5124.003555937392,
          5124.690836933939,
          5147.075246043213,
          5220.417791994922,
          5299.395825566602,
          5339.357737153926,
          5331.013999683441,
          5298.759163532778,
          5283.9770729693955,
          5290.79736914466,
          5322.859203581837,
          5381.304345183425,
          5400.197940692278,
          5401.689440609952,
          5404.8275456091515,
          5361.56592730741,
          5316.669614268312,
          5266.406067042712,
          5201.260003397202,
          5169.563329284696,
          5153.87496980582,
          5160.255124626068,
          5159.08628675955,
          5119.1278941375485,
          5100.230238284092,
          5112.966997925888,
          5126.170967886723,
          5148.575678719015,
          5165.389295032332,
          5194.678996863903,
          5210.783135630174,
          5219.16260413317,
          5258.391758864388,
          5295.558799916325,
          5311.434747315882,
          5321.647867441803,
          5313.020717917996,
          5308.676690571567,
          5280.476243852286,
          5194.275398610318,
          5111.71614109838,
          5068.988322767174,
          5055.812775218564,
          5075.332746554912,
          5118.967375180891,
          5100.229426215171,
          5018.999525526408,
          4941.191412579807,
          4892.540363541063,
          4865.190965050669,
          4858.711196442816,
          4860.1017291246835,
          4846.82954537451,
          4824.394246612872,
          4795.680030956432
         ]
        }
       ],
       "layout": {
        "template": {
         "data": {
          "bar": [
           {
            "error_x": {
             "color": "#2a3f5f"
            },
            "error_y": {
             "color": "#2a3f5f"
            },
            "marker": {
             "line": {
              "color": "#E5ECF6",
              "width": 0.5
             },
             "pattern": {
              "fillmode": "overlay",
              "size": 10,
              "solidity": 0.2
             }
            },
            "type": "bar"
           }
          ],
          "barpolar": [
           {
            "marker": {
             "line": {
              "color": "#E5ECF6",
              "width": 0.5
             },
             "pattern": {
              "fillmode": "overlay",
              "size": 10,
              "solidity": 0.2
             }
            },
            "type": "barpolar"
           }
          ],
          "carpet": [
           {
            "aaxis": {
             "endlinecolor": "#2a3f5f",
             "gridcolor": "white",
             "linecolor": "white",
             "minorgridcolor": "white",
             "startlinecolor": "#2a3f5f"
            },
            "baxis": {
             "endlinecolor": "#2a3f5f",
             "gridcolor": "white",
             "linecolor": "white",
             "minorgridcolor": "white",
             "startlinecolor": "#2a3f5f"
            },
            "type": "carpet"
           }
          ],
          "choropleth": [
           {
            "colorbar": {
             "outlinewidth": 0,
             "ticks": ""
            },
            "type": "choropleth"
           }
          ],
          "contour": [
           {
            "colorbar": {
             "outlinewidth": 0,
             "ticks": ""
            },
            "colorscale": [
             [
              0,
              "#0d0887"
             ],
             [
              0.1111111111111111,
              "#46039f"
             ],
             [
              0.2222222222222222,
              "#7201a8"
             ],
             [
              0.3333333333333333,
              "#9c179e"
             ],
             [
              0.4444444444444444,
              "#bd3786"
             ],
             [
              0.5555555555555556,
              "#d8576b"
             ],
             [
              0.6666666666666666,
              "#ed7953"
             ],
             [
              0.7777777777777778,
              "#fb9f3a"
             ],
             [
              0.8888888888888888,
              "#fdca26"
             ],
             [
              1,
              "#f0f921"
             ]
            ],
            "type": "contour"
           }
          ],
          "contourcarpet": [
           {
            "colorbar": {
             "outlinewidth": 0,
             "ticks": ""
            },
            "type": "contourcarpet"
           }
          ],
          "heatmap": [
           {
            "colorbar": {
             "outlinewidth": 0,
             "ticks": ""
            },
            "colorscale": [
             [
              0,
              "#0d0887"
             ],
             [
              0.1111111111111111,
              "#46039f"
             ],
             [
              0.2222222222222222,
              "#7201a8"
             ],
             [
              0.3333333333333333,
              "#9c179e"
             ],
             [
              0.4444444444444444,
              "#bd3786"
             ],
             [
              0.5555555555555556,
              "#d8576b"
             ],
             [
              0.6666666666666666,
              "#ed7953"
             ],
             [
              0.7777777777777778,
              "#fb9f3a"
             ],
             [
              0.8888888888888888,
              "#fdca26"
             ],
             [
              1,
              "#f0f921"
             ]
            ],
            "type": "heatmap"
           }
          ],
          "heatmapgl": [
           {
            "colorbar": {
             "outlinewidth": 0,
             "ticks": ""
            },
            "colorscale": [
             [
              0,
              "#0d0887"
             ],
             [
              0.1111111111111111,
              "#46039f"
             ],
             [
              0.2222222222222222,
              "#7201a8"
             ],
             [
              0.3333333333333333,
              "#9c179e"
             ],
             [
              0.4444444444444444,
              "#bd3786"
             ],
             [
              0.5555555555555556,
              "#d8576b"
             ],
             [
              0.6666666666666666,
              "#ed7953"
             ],
             [
              0.7777777777777778,
              "#fb9f3a"
             ],
             [
              0.8888888888888888,
              "#fdca26"
             ],
             [
              1,
              "#f0f921"
             ]
            ],
            "type": "heatmapgl"
           }
          ],
          "histogram": [
           {
            "marker": {
             "pattern": {
              "fillmode": "overlay",
              "size": 10,
              "solidity": 0.2
             }
            },
            "type": "histogram"
           }
          ],
          "histogram2d": [
           {
            "colorbar": {
             "outlinewidth": 0,
             "ticks": ""
            },
            "colorscale": [
             [
              0,
              "#0d0887"
             ],
             [
              0.1111111111111111,
              "#46039f"
             ],
             [
              0.2222222222222222,
              "#7201a8"
             ],
             [
              0.3333333333333333,
              "#9c179e"
             ],
             [
              0.4444444444444444,
              "#bd3786"
             ],
             [
              0.5555555555555556,
              "#d8576b"
             ],
             [
              0.6666666666666666,
              "#ed7953"
             ],
             [
              0.7777777777777778,
              "#fb9f3a"
             ],
             [
              0.8888888888888888,
              "#fdca26"
             ],
             [
              1,
              "#f0f921"
             ]
            ],
            "type": "histogram2d"
           }
          ],
          "histogram2dcontour": [
           {
            "colorbar": {
             "outlinewidth": 0,
             "ticks": ""
            },
            "colorscale": [
             [
              0,
              "#0d0887"
             ],
             [
              0.1111111111111111,
              "#46039f"
             ],
             [
              0.2222222222222222,
              "#7201a8"
             ],
             [
              0.3333333333333333,
              "#9c179e"
             ],
             [
              0.4444444444444444,
              "#bd3786"
             ],
             [
              0.5555555555555556,
              "#d8576b"
             ],
             [
              0.6666666666666666,
              "#ed7953"
             ],
             [
              0.7777777777777778,
              "#fb9f3a"
             ],
             [
              0.8888888888888888,
              "#fdca26"
             ],
             [
              1,
              "#f0f921"
             ]
            ],
            "type": "histogram2dcontour"
           }
          ],
          "mesh3d": [
           {
            "colorbar": {
             "outlinewidth": 0,
             "ticks": ""
            },
            "type": "mesh3d"
           }
          ],
          "parcoords": [
           {
            "line": {
             "colorbar": {
              "outlinewidth": 0,
              "ticks": ""
             }
            },
            "type": "parcoords"
           }
          ],
          "pie": [
           {
            "automargin": true,
            "type": "pie"
           }
          ],
          "scatter": [
           {
            "fillpattern": {
             "fillmode": "overlay",
             "size": 10,
             "solidity": 0.2
            },
            "type": "scatter"
           }
          ],
          "scatter3d": [
           {
            "line": {
             "colorbar": {
              "outlinewidth": 0,
              "ticks": ""
             }
            },
            "marker": {
             "colorbar": {
              "outlinewidth": 0,
              "ticks": ""
             }
            },
            "type": "scatter3d"
           }
          ],
          "scattercarpet": [
           {
            "marker": {
             "colorbar": {
              "outlinewidth": 0,
              "ticks": ""
             }
            },
            "type": "scattercarpet"
           }
          ],
          "scattergeo": [
           {
            "marker": {
             "colorbar": {
              "outlinewidth": 0,
              "ticks": ""
             }
            },
            "type": "scattergeo"
           }
          ],
          "scattergl": [
           {
            "marker": {
             "colorbar": {
              "outlinewidth": 0,
              "ticks": ""
             }
            },
            "type": "scattergl"
           }
          ],
          "scattermapbox": [
           {
            "marker": {
             "colorbar": {
              "outlinewidth": 0,
              "ticks": ""
             }
            },
            "type": "scattermapbox"
           }
          ],
          "scatterpolar": [
           {
            "marker": {
             "colorbar": {
              "outlinewidth": 0,
              "ticks": ""
             }
            },
            "type": "scatterpolar"
           }
          ],
          "scatterpolargl": [
           {
            "marker": {
             "colorbar": {
              "outlinewidth": 0,
              "ticks": ""
             }
            },
            "type": "scatterpolargl"
           }
          ],
          "scatterternary": [
           {
            "marker": {
             "colorbar": {
              "outlinewidth": 0,
              "ticks": ""
             }
            },
            "type": "scatterternary"
           }
          ],
          "surface": [
           {
            "colorbar": {
             "outlinewidth": 0,
             "ticks": ""
            },
            "colorscale": [
             [
              0,
              "#0d0887"
             ],
             [
              0.1111111111111111,
              "#46039f"
             ],
             [
              0.2222222222222222,
              "#7201a8"
             ],
             [
              0.3333333333333333,
              "#9c179e"
             ],
             [
              0.4444444444444444,
              "#bd3786"
             ],
             [
              0.5555555555555556,
              "#d8576b"
             ],
             [
              0.6666666666666666,
              "#ed7953"
             ],
             [
              0.7777777777777778,
              "#fb9f3a"
             ],
             [
              0.8888888888888888,
              "#fdca26"
             ],
             [
              1,
              "#f0f921"
             ]
            ],
            "type": "surface"
           }
          ],
          "table": [
           {
            "cells": {
             "fill": {
              "color": "#EBF0F8"
             },
             "line": {
              "color": "white"
             }
            },
            "header": {
             "fill": {
              "color": "#C8D4E3"
             },
             "line": {
              "color": "white"
             }
            },
            "type": "table"
           }
          ]
         },
         "layout": {
          "annotationdefaults": {
           "arrowcolor": "#2a3f5f",
           "arrowhead": 0,
           "arrowwidth": 1
          },
          "autotypenumbers": "strict",
          "coloraxis": {
           "colorbar": {
            "outlinewidth": 0,
            "ticks": ""
           }
          },
          "colorscale": {
           "diverging": [
            [
             0,
             "#8e0152"
            ],
            [
             0.1,
             "#c51b7d"
            ],
            [
             0.2,
             "#de77ae"
            ],
            [
             0.3,
             "#f1b6da"
            ],
            [
             0.4,
             "#fde0ef"
            ],
            [
             0.5,
             "#f7f7f7"
            ],
            [
             0.6,
             "#e6f5d0"
            ],
            [
             0.7,
             "#b8e186"
            ],
            [
             0.8,
             "#7fbc41"
            ],
            [
             0.9,
             "#4d9221"
            ],
            [
             1,
             "#276419"
            ]
           ],
           "sequential": [
            [
             0,
             "#0d0887"
            ],
            [
             0.1111111111111111,
             "#46039f"
            ],
            [
             0.2222222222222222,
             "#7201a8"
            ],
            [
             0.3333333333333333,
             "#9c179e"
            ],
            [
             0.4444444444444444,
             "#bd3786"
            ],
            [
             0.5555555555555556,
             "#d8576b"
            ],
            [
             0.6666666666666666,
             "#ed7953"
            ],
            [
             0.7777777777777778,
             "#fb9f3a"
            ],
            [
             0.8888888888888888,
             "#fdca26"
            ],
            [
             1,
             "#f0f921"
            ]
           ],
           "sequentialminus": [
            [
             0,
             "#0d0887"
            ],
            [
             0.1111111111111111,
             "#46039f"
            ],
            [
             0.2222222222222222,
             "#7201a8"
            ],
            [
             0.3333333333333333,
             "#9c179e"
            ],
            [
             0.4444444444444444,
             "#bd3786"
            ],
            [
             0.5555555555555556,
             "#d8576b"
            ],
            [
             0.6666666666666666,
             "#ed7953"
            ],
            [
             0.7777777777777778,
             "#fb9f3a"
            ],
            [
             0.8888888888888888,
             "#fdca26"
            ],
            [
             1,
             "#f0f921"
            ]
           ]
          },
          "colorway": [
           "#636efa",
           "#EF553B",
           "#00cc96",
           "#ab63fa",
           "#FFA15A",
           "#19d3f3",
           "#FF6692",
           "#B6E880",
           "#FF97FF",
           "#FECB52"
          ],
          "font": {
           "color": "#2a3f5f"
          },
          "geo": {
           "bgcolor": "white",
           "lakecolor": "white",
           "landcolor": "#E5ECF6",
           "showlakes": true,
           "showland": true,
           "subunitcolor": "white"
          },
          "hoverlabel": {
           "align": "left"
          },
          "hovermode": "closest",
          "mapbox": {
           "style": "light"
          },
          "paper_bgcolor": "white",
          "plot_bgcolor": "#E5ECF6",
          "polar": {
           "angularaxis": {
            "gridcolor": "white",
            "linecolor": "white",
            "ticks": ""
           },
           "bgcolor": "#E5ECF6",
           "radialaxis": {
            "gridcolor": "white",
            "linecolor": "white",
            "ticks": ""
           }
          },
          "scene": {
           "xaxis": {
            "backgroundcolor": "#E5ECF6",
            "gridcolor": "white",
            "gridwidth": 2,
            "linecolor": "white",
            "showbackground": true,
            "ticks": "",
            "zerolinecolor": "white"
           },
           "yaxis": {
            "backgroundcolor": "#E5ECF6",
            "gridcolor": "white",
            "gridwidth": 2,
            "linecolor": "white",
            "showbackground": true,
            "ticks": "",
            "zerolinecolor": "white"
           },
           "zaxis": {
            "backgroundcolor": "#E5ECF6",
            "gridcolor": "white",
            "gridwidth": 2,
            "linecolor": "white",
            "showbackground": true,
            "ticks": "",
            "zerolinecolor": "white"
           }
          },
          "shapedefaults": {
           "line": {
            "color": "#2a3f5f"
           }
          },
          "ternary": {
           "aaxis": {
            "gridcolor": "white",
            "linecolor": "white",
            "ticks": ""
           },
           "baxis": {
            "gridcolor": "white",
            "linecolor": "white",
            "ticks": ""
           },
           "bgcolor": "#E5ECF6",
           "caxis": {
            "gridcolor": "white",
            "linecolor": "white",
            "ticks": ""
           }
          },
          "title": {
           "x": 0.05
          },
          "xaxis": {
           "automargin": true,
           "gridcolor": "white",
           "linecolor": "white",
           "ticks": "",
           "title": {
            "standoff": 15
           },
           "zerolinecolor": "white",
           "zerolinewidth": 2
          },
          "yaxis": {
           "automargin": true,
           "gridcolor": "white",
           "linecolor": "white",
           "ticks": "",
           "title": {
            "standoff": 15
           },
           "zerolinecolor": "white",
           "zerolinewidth": 2
          }
         }
        },
        "title": {
         "text": "Stock Prices Prediction"
        },
        "xaxis": {
         "title": {
          "text": "Time"
         }
        },
        "yaxis": {
         "title": {
          "text": "Stock Prices"
         }
        }
       }
      }
     },
     "metadata": {},
     "output_type": "display_data"
    }
   ],
   "source": [
    "import plotly.graph_objects as go\n",
    "\n",
    "fig = go.Figure()\n",
    "\n",
    "fig.add_trace(go.Scatter(x=data['date'][-len(real_prices):], y=real_prices, mode='lines', name='Real Prices'))\n",
    "fig.add_trace(go.Scatter(x=data['date'][-len(predicted_prices):], y=predicted_prices.reshape(-1), mode='lines', name='Predicted Prices'))\n",
    "\n",
    "fig.update_layout(title='Stock Prices Prediction',\n",
    "                     xaxis_title='Time',\n",
    "                     yaxis_title='Stock Prices')\n",
    "\n",
    "fig.show()\n",
    "\n"
   ]
  },
  {
   "cell_type": "code",
   "execution_count": 104,
   "metadata": {},
   "outputs": [
    {
     "name": "stdout",
     "output_type": "stream",
     "text": [
      "Real Prices:  [5034.41262549 4843.53421332 4938.97366355 5034.41262549 4938.97366355\n",
      " 5105.99172488 5034.41262549 4962.83303782 4962.83303782 4962.83303782\n",
      " 4915.11380099 5010.55276293 5034.41262549 5105.99172488 5129.85158743\n",
      " 5129.85158743 5105.99172488 5344.58986215 5320.7299996  5320.7299996\n",
      " 5392.30909898 5344.58986215 5344.58986215 5344.58986215 5368.44923643\n",
      " 5344.58986215 5296.87013704 5296.87013704 5249.15041193 5273.01027449\n",
      " 5177.57131254 5225.29054937 5153.71144999 5177.57131254 5320.7299996\n",
      " 5392.30909898 5487.74806093 5463.88868665 5511.60792348 5487.74806093\n",
      " 5511.60792348 5487.74806093 5678.62647309 5607.04737371 5726.3461982\n",
      " 5726.3461982  5607.04737371 5750.20557248 5726.3461982  5678.62647309\n",
      " 5630.90674798 5630.90674798 5726.3461982  5702.48633565 5726.3461982\n",
      " 5630.90674798 5607.04737371 5630.90674798 5678.62647309 5702.48633565\n",
      " 5821.78516015 5941.08398465 5869.50488526 5800.00000456 5800.00000456\n",
      " 5850.00000304 5875.00000228 5800.00000456 5850.00000304 5925.00000076\n",
      " 5950.         5925.00000076 5900.00000152 5650.00000912 5475.00001444\n",
      " 5325.000019   5350.00001824 5300.00001976 5200.0000228  5250.00002128\n",
      " 5300.00001976 5225.00002204 5350.00001824 5250.00002128 5300.00001976\n",
      " 5300.00001976 5150.00002432 5225.00002204 5250.00002128 4830.00003405\n",
      " 4830.00003405 4810.00003465 4700.000038   4670.00003891 4780.00003557\n",
      " 4930.00003101 5025.00002812 5200.0000228  5175.00002356 4980.00002949\n",
      " 4770.00003587 4760.00003617 4670.00003891 4710.00003769 4530.00004317\n",
      " 4490.00004438 4400.00004712 4620.00004043 4640.00003982 4610.00004073\n",
      " 4770.00003587 4700.000038   4610.00004073 4480.00004469 4430.00004621\n",
      " 4480.00004469 4310.00004985 4300.00005016 4400.00004712 4540.00004286\n",
      " 4540.00004286 4480.00004469 4420.00004651 4580.00004165 4660.00003921\n",
      " 4710.00003769 4710.00003769 4650.00003952 4710.00003769 4700.000038\n",
      " 4670.00003891 4860.00003313 4820.00003435 4870.00003283 5025.00002812\n",
      " 5025.00002812 4980.00002949 5000.00002888 5075.0000266  5100.00002584\n",
      " 5100.00002584 5050.00002736 5100.00002584 5025.00002812 5000.00002888\n",
      " 5025.00002812 4950.0000304  4970.00002979 5075.0000266  5100.00002584\n",
      " 4960.00003009 5025.00002812 5000.00002888 5025.00002812 5125.00002508\n",
      " 5125.00002508 5175.00002356 5275.00002052 5250.00002128 5300.00001976\n",
      " 5350.00001824 5475.00001444 5450.0000152  5275.00002052 5450.0000152\n",
      " 5525.00001292 5400.00001672 5375.00001748 5300.00001976 5350.00001824\n",
      " 5350.00001824 5375.00001748 5350.00001824 5450.0000152  5650.00000912\n",
      " 5725.00000684 5700.0000076  5650.00000912 5600.00001064 5625.00000988\n",
      " 5650.00000912 5700.0000076  5825.0000038  5750.00000608 5800.00000456\n",
      " 5800.00000456 5600.00001064 5600.00001064 5450.0000152  5350.00001824\n",
      " 5375.00001748 5350.00001824 5375.00001748 5325.000019   5200.0000228\n",
      " 5350.00001824 5325.000019   5325.000019   5375.00001748 5425.00001596\n",
      " 5500.00001368 5475.00001444 5500.00001368 5650.00000912 5625.00000988\n",
      " 5650.00000912 5675.00000836 5625.00000988 5650.00000912 5500.00001368\n",
      " 5300.00001976 5225.00002204 5250.00002128 5200.0000228  5300.00001976\n",
      " 5400.00001672 5125.00002508 5025.00002812 4980.00002949 4990.00002918\n",
      " 4930.00003101 4960.00003009 4950.0000304  4910.00003161 4870.00003283\n",
      " 4850.00003344 4850.00003344]\n",
      "Predicted Prices:  [4866.47971843 4857.98899648 4811.51158525 4783.82544885 4817.2299039\n",
      " 4836.19469079 4870.54980786 4897.80311153 4874.93443865 4843.01065593\n",
      " 4828.20555675 4817.11919184 4830.9738997  4861.93700489 4897.8090667\n",
      " 4929.52712529 4943.55209693 4940.22234367 4984.0058516  5049.94855485\n",
      " 5076.69133786 5096.71397986 5098.64480906 5099.11851593 5096.26382299\n",
      " 5106.51050863 5109.27993434 5096.89994364 5082.65950305 5068.9247107\n",
      " 5063.39533342 5043.29419143 5031.71598345 5018.70880485 5006.50746932\n",
      " 5036.89617109 5092.5477956  5157.75232821 5188.80909202 5203.42064811\n",
      " 5204.34748943 5208.04754613 5207.55462029 5248.95876628 5285.58713495\n",
      " 5343.4299921  5362.44566864 5337.85649241 5335.82442528 5351.82705543\n",
      " 5352.80180883 5340.286744   5322.55630187 5335.27898565 5350.18884173\n",
      " 5364.80229265 5345.99558851 5321.66113123 5312.60277311 5326.28315684\n",
      " 5350.99414341 5391.69368427 5447.7968191  5471.79264364 5460.11563394\n",
      " 5434.93148188 5431.39627518 5448.11866908 5450.74517066 5453.88923083\n",
      " 5479.50486218 5504.1882384  5509.38304329 5502.10203334 5440.14902469\n",
      " 5336.53038386 5230.1141656  5164.75561058 5143.37194108 5096.32229195\n",
      " 5090.21905263 5106.48046208 5100.9353848  5114.0860289  5114.97253747\n",
      " 5111.5044618  5107.02454825 5060.76774908 5032.35670582 5050.33374621\n",
      " 4968.22708178 4855.57363282 4785.65341599 4730.60353455 4685.16746637\n",
      " 4676.27287548 4735.10970499 4814.69381267 4920.52723613 4978.578795\n",
      " 4947.56777775 4836.46998215 4725.37299863 4655.90348005 4636.05435011\n",
      " 4599.89156763 4542.10393116 4484.91018777 4491.87719773 4544.21016725\n",
      " 4574.52118109 4617.90217353 4639.5324413  4608.65541542 4535.10227293\n",
      " 4455.16437389 4428.50333915 4394.46763586 4348.32181944 4339.7187613\n",
      " 4389.46881027 4451.67653788 4469.39967138 4442.50259528 4443.90206072\n",
      " 4491.19154087 4554.945177   4594.62448861 4595.27685064 4592.03507151\n",
      " 4594.02788864 4591.9933853  4626.38125582 4670.00776376 4706.03168246\n",
      " 4764.55830164 4817.431297   4832.79185132 4834.59247881 4844.53301447\n",
      " 4870.39930442 4895.69227371 4895.67873923 4894.91106341 4880.472478\n",
      " 4859.61475846 4856.72081552 4843.29596281 4834.33559434 4851.785602\n",
      " 4887.20371728 4876.30683513 4866.36061499 4860.07466016 4861.61461352\n",
      " 4892.66839974 4928.4635857  4960.29019084 5004.5560677  5030.36064042\n",
      " 5048.83060664 5068.17002798 5114.92814437 5151.66045786 5123.78998181\n",
      " 5118.26358212 5158.22765922 5172.66056015 5153.75830257 5123.4559508\n",
      " 5105.3535811  5107.96763096 5124.00355594 5124.69083693 5147.07524604\n",
      " 5220.41779199 5299.39582557 5339.35773715 5331.01399968 5298.75916353\n",
      " 5283.97707297 5290.79736914 5322.85920358 5381.30434518 5400.19794069\n",
      " 5401.68944061 5404.82754561 5361.56592731 5316.66961427 5266.40606704\n",
      " 5201.2600034  5169.56332928 5153.87496981 5160.25512463 5159.08628676\n",
      " 5119.12789414 5100.23023828 5112.96699793 5126.17096789 5148.57567872\n",
      " 5165.38929503 5194.67899686 5210.78313563 5219.16260413 5258.39175886\n",
      " 5295.55879992 5311.43474732 5321.64786744 5313.02071792 5308.67669057\n",
      " 5280.47624385 5194.27539861 5111.7161411  5068.98832277 5055.81277522\n",
      " 5075.33274655 5118.96737518 5100.22942622 5018.99952553 4941.19141258\n",
      " 4892.54036354 4865.19096505 4858.71119644 4860.10172912 4846.82954537\n",
      " 4824.39424661 4795.68003096]\n",
      "Difference:  [ 167.93290706  -14.45478316  127.46207829  250.58717664  121.74375964\n",
      "  269.79703409  163.86281763   65.02992629   87.89859917  119.82238189\n",
      "   86.90824424  193.43357109  203.43872579  244.05471999  232.04252073\n",
      "  200.32446214  162.43962794  404.36751849  336.724148    270.78144474\n",
      "  315.61776112  247.8758823   245.94505309  245.47134622  272.18541344\n",
      "  238.07935353  187.59020271  199.9701934   166.49090888  204.08556378\n",
      "  114.17597912  181.99635795  121.99546654  158.86250769  314.22253028\n",
      "  355.41292789  395.20026532  306.13635844  322.79883147  284.32741282\n",
      "  307.26043405  279.7005148   471.0718528   358.08860742  440.75906326\n",
      "  382.9162061   244.60170507  412.34908007  390.52177292  326.79941766\n",
      "  278.10493916  290.62000398  403.78989633  367.20734999  376.15735648\n",
      "  266.10445534  261.05178519  309.24561675  366.02369998  376.20317881\n",
      "  470.79101674  549.39030038  421.70806616  328.20736092  339.88437062\n",
      "  415.06852116  443.6037271   351.88133548  399.25483238  471.11076993\n",
      "  470.49513782  420.81176236  390.61695823  147.89797578   34.85098975\n",
      "  -11.53036486  119.88585264  135.24440917   56.62808172  153.67772933\n",
      "  209.78096713  118.51955996  249.06463344  135.91399238  185.02748229\n",
      "  188.49555796   42.97547606  164.23227296  217.64331546 -220.33371216\n",
      " -138.22704773  -45.57359817  -85.65337799  -60.60349564   94.8325692\n",
      "  253.72715553  289.89032313  385.30621013  254.47278742    1.42123449\n",
      " -177.56774188  -76.46994598  -55.37295972   54.09655764 -106.05430695\n",
      " -109.89152324 -142.10388404  135.08985266  148.1228421    65.78987348\n",
      "  195.47885478   82.09786447  -29.53240057 -128.65537073 -105.10222672\n",
      "   24.8356708  -118.5032893   -94.4675857    51.67822768  200.28128157\n",
      "  150.53123259   28.32350681  -49.39962487  137.49744637  216.0979785\n",
      "  218.80849683  155.05486069   55.37555091  114.72318706  107.96496649\n",
      "   75.97215027  268.00664783  193.61877853  199.99226907  318.96834566\n",
      "  260.44172648  162.56873249  167.20817756  240.40754779  255.46701137\n",
      "  229.60072142  154.30775365  204.32128661  130.08896471  119.52755088\n",
      "  165.38526966   93.27921488  126.70406698  240.66443226  248.21442384\n",
      "   72.79631281  148.69319299  133.63941389  164.92536796  263.38541155\n",
      "  232.33162534  246.53643786  314.70982968  245.44395358  269.63937934\n",
      "  301.1694116   406.82998645  335.07187083  123.33956266  326.21003339\n",
      "  406.7364308   241.7723575   202.33945733  146.24171719  226.54406744\n",
      "  244.64643713  267.03238652  225.9964623   325.30917827  502.92476308\n",
      "  504.58221484  400.60418203  310.64227197  268.98601096  326.24084635\n",
      "  366.02293615  409.20263845  502.14080022  368.6956609   399.80206387\n",
      "  398.31056395  195.17246503  238.43408333  133.33040093   83.5939512\n",
      "  173.74001408  180.43668895  221.12504767  164.74489437   40.91373604\n",
      "  230.8721241   224.76978071  212.03302107  248.82904959  276.42433724\n",
      "  334.61071865  280.32101758  289.21687805  430.83740499  366.60825102\n",
      "  354.4412092   363.56526104  303.35214244  336.9792912   191.32332311\n",
      "   19.52377591   30.72462343  138.28388018  131.01170003  244.18724454\n",
      "  324.66727016    6.0326499   -75.2293981   -38.99949604   48.8086166\n",
      "   37.45966747   94.80906504   91.28883396   49.89830249   23.17048746\n",
      "   25.60578683   54.32000248]\n"
     ]
    }
   ],
   "source": [
    "print(\"Real Prices: \", real_prices)\n",
    "print(\"Predicted Prices: \", predicted_prices)\n",
    "print(\"Difference: \", real_prices - predicted_prices)"
   ]
  },
  {
   "cell_type": "code",
   "execution_count": 105,
   "metadata": {},
   "outputs": [
    {
     "data": {
      "text/plain": [
       "252.9216980762454"
      ]
     },
     "execution_count": 105,
     "metadata": {},
     "output_type": "execute_result"
    }
   ],
   "source": [
    "# calculate RMSE\n",
    "from sklearn.metrics import mean_squared_error\n",
    "\n",
    "rmse = np.sqrt(mean_squared_error(real_prices, predicted_prices))\n",
    "rmse"
   ]
  },
  {
   "cell_type": "code",
   "execution_count": 106,
   "metadata": {},
   "outputs": [
    {
     "data": {
      "text/plain": [
       "220.76327464051045"
      ]
     },
     "execution_count": 106,
     "metadata": {},
     "output_type": "execute_result"
    }
   ],
   "source": [
    "# calculate MAE\n",
    "from sklearn.metrics import mean_absolute_error\n",
    "\n",
    "mae = mean_absolute_error(real_prices, predicted_prices)\n",
    "mae"
   ]
  },
  {
   "cell_type": "markdown",
   "metadata": {},
   "source": [
    "Directional Accuracy adalah metrik yang digunakan untuk mengukur seberapa baik model memprediksi arah perubahan harga (naik atau turun) dibandingkan dengan nilai aktual. Ini adalah metrik yang sangat berguna dalam prediksi saham karena dalam banyak kasus, arah perubahan harga lebih penting daripada nilai absolut dari harga itu sendiri—terutama jika tujuannya adalah untuk membuat keputusan beli atau jual."
   ]
  },
  {
   "cell_type": "code",
   "execution_count": 107,
   "metadata": {},
   "outputs": [
    {
     "data": {
      "text/plain": [
       "0.4424778761061947"
      ]
     },
     "execution_count": 107,
     "metadata": {},
     "output_type": "execute_result"
    }
   ],
   "source": [
    "# direction accuracy\n",
    "direction_accuracy = np.mean(np.sign(real_prices[1:] - real_prices[:-1]) == np.sign(predicted_prices[1:] - predicted_prices[:-1]))\n",
    "direction_accuracy"
   ]
  },
  {
   "cell_type": "markdown",
   "metadata": {},
   "source": [
    "# Save Model"
   ]
  },
  {
   "cell_type": "code",
   "execution_count": 38,
   "metadata": {},
   "outputs": [],
   "source": [
    "# # Save the entire model\n",
    "# model.save('Model/lstm_model_bbni.h5')\n"
   ]
  },
  {
   "cell_type": "markdown",
   "metadata": {},
   "source": [
    "# Close Only"
   ]
  },
  {
   "cell_type": "code",
   "execution_count": 108,
   "metadata": {},
   "outputs": [
    {
     "data": {
      "text/plain": [
       "956"
      ]
     },
     "execution_count": 108,
     "metadata": {},
     "output_type": "execute_result"
    }
   ],
   "source": [
    "data_used = data.filter(['Close'])\n",
    "\n",
    "dataset = data_used.values\n",
    "\n",
    "training_data_len = int(np.ceil( len(dataset) * .80 ))\n",
    "\n",
    "training_data_len"
   ]
  },
  {
   "cell_type": "code",
   "execution_count": null,
   "metadata": {},
   "outputs": [
    {
     "data": {
      "text/plain": [
       "array([[0.42342612],\n",
       "       [0.43533507],\n",
       "       [0.43533507],\n",
       "       ...,\n",
       "       [0.76218885],\n",
       "       [0.75778494],\n",
       "       [0.75778494]])"
      ]
     },
     "execution_count": 109,
     "metadata": {},
     "output_type": "execute_result"
    }
   ],
   "source": [
    "from sklearn.preprocessing import MinMaxScaler\n",
    "\n",
    "scaler = MinMaxScaler(feature_range=(0,1))\n",
    "scaled_data = scaler.fit_transform(dataset)\n",
    "\n",
    "scaled_data"
   ]
  },
  {
   "cell_type": "code",
   "execution_count": 110,
   "metadata": {},
   "outputs": [
    {
     "name": "stdout",
     "output_type": "stream",
     "text": [
      "[array([0.42342612, 0.43533507, 0.43533507, 0.43295334, 0.44486223,\n",
      "       0.44724406, 0.44486223, 0.43771685, 0.43057157, 0.43295334,\n",
      "       0.41628085, 0.40913551, 0.39722652, 0.42342612, 0.42580796,\n",
      "       0.43057157, 0.43771685, 0.4210444 , 0.42342612, 0.43057157,\n",
      "       0.40913551, 0.41151724, 0.41628085, 0.41866262, 0.42342612,\n",
      "       0.39960835, 0.40199007, 0.39008124, 0.38055412, 0.37579051,\n",
      "       0.36864518, 0.39008124, 0.39722652, 0.39008124, 0.39008124,\n",
      "       0.3876994 , 0.38531763, 0.38293585, 0.39484484, 0.40675368,\n",
      "       0.41628085, 0.42342612, 0.43057157, 0.44486223, 0.43057157,\n",
      "       0.41151724, 0.40437196, 0.38531763, 0.36388157, 0.35911802,\n",
      "       0.3523691 , 0.35727678, 0.37199978, 0.35973065, 0.31801559,\n",
      "       0.24440083, 0.2468547 , 0.23213176, 0.18305531, 0.18305531])]\n",
      "[0.16489697608024145]\n",
      "\n",
      "[array([0.42342612, 0.43533507, 0.43533507, 0.43295334, 0.44486223,\n",
      "       0.44724406, 0.44486223, 0.43771685, 0.43057157, 0.43295334,\n",
      "       0.41628085, 0.40913551, 0.39722652, 0.42342612, 0.42580796,\n",
      "       0.43057157, 0.43771685, 0.4210444 , 0.42342612, 0.43057157,\n",
      "       0.40913551, 0.41151724, 0.41628085, 0.41866262, 0.42342612,\n",
      "       0.39960835, 0.40199007, 0.39008124, 0.38055412, 0.37579051,\n",
      "       0.36864518, 0.39008124, 0.39722652, 0.39008124, 0.39008124,\n",
      "       0.3876994 , 0.38531763, 0.38293585, 0.39484484, 0.40675368,\n",
      "       0.41628085, 0.42342612, 0.43057157, 0.44486223, 0.43057157,\n",
      "       0.41151724, 0.40437196, 0.38531763, 0.36388157, 0.35911802,\n",
      "       0.3523691 , 0.35727678, 0.37199978, 0.35973065, 0.31801559,\n",
      "       0.24440083, 0.2468547 , 0.23213176, 0.18305531, 0.18305531]), array([0.43533507, 0.43533507, 0.43295334, 0.44486223, 0.44724406,\n",
      "       0.44486223, 0.43771685, 0.43057157, 0.43295334, 0.41628085,\n",
      "       0.40913551, 0.39722652, 0.42342612, 0.42580796, 0.43057157,\n",
      "       0.43771685, 0.4210444 , 0.42342612, 0.43057157, 0.40913551,\n",
      "       0.41151724, 0.41628085, 0.41866262, 0.42342612, 0.39960835,\n",
      "       0.40199007, 0.39008124, 0.38055412, 0.37579051, 0.36864518,\n",
      "       0.39008124, 0.39722652, 0.39008124, 0.39008124, 0.3876994 ,\n",
      "       0.38531763, 0.38293585, 0.39484484, 0.40675368, 0.41628085,\n",
      "       0.42342612, 0.43057157, 0.44486223, 0.43057157, 0.41151724,\n",
      "       0.40437196, 0.38531763, 0.36388157, 0.35911802, 0.3523691 ,\n",
      "       0.35727678, 0.37199978, 0.35973065, 0.31801559, 0.24440083,\n",
      "       0.2468547 , 0.23213176, 0.18305531, 0.18305531, 0.16489698])]\n",
      "[0.16489697608024145, 0.13250649095609845]\n",
      "\n"
     ]
    }
   ],
   "source": [
    "train_data = scaled_data[0:int(training_data_len), :]\n",
    "\n",
    "x_train = []\n",
    "y_train = []\n",
    "\n",
    "for i in range(60, len(train_data)):\n",
    "    x_train.append(train_data[i-60:i, 0])\n",
    "    y_train.append(train_data[i, 0])\n",
    "    if i<= 61:\n",
    "        print(x_train)\n",
    "        print(y_train)\n",
    "        print()\n",
    "\n",
    "x_train, y_train = np.array(x_train), np.array(y_train)\n",
    "\n",
    "x_train = np.reshape(x_train, (x_train.shape[0], x_train.shape[1], 1))"
   ]
  },
  {
   "cell_type": "code",
   "execution_count": 111,
   "metadata": {},
   "outputs": [
    {
     "name": "stdout",
     "output_type": "stream",
     "text": [
      "Epoch 1/30\n",
      "180/180 [==============================] - 6s 19ms/step - loss: 0.0073\n",
      "Epoch 2/30\n",
      "180/180 [==============================] - 3s 19ms/step - loss: 0.0011\n",
      "Epoch 3/30\n",
      "180/180 [==============================] - 3s 19ms/step - loss: 9.6636e-04\n",
      "Epoch 4/30\n",
      "180/180 [==============================] - 3s 19ms/step - loss: 0.0011\n",
      "Epoch 5/30\n",
      "180/180 [==============================] - 3s 19ms/step - loss: 7.9467e-04\n",
      "Epoch 6/30\n",
      "180/180 [==============================] - 3s 19ms/step - loss: 7.1508e-04\n",
      "Epoch 7/30\n",
      "180/180 [==============================] - 3s 19ms/step - loss: 5.5359e-04\n",
      "Epoch 8/30\n",
      "180/180 [==============================] - 3s 19ms/step - loss: 5.5049e-04\n",
      "Epoch 9/30\n",
      "180/180 [==============================] - 3s 19ms/step - loss: 5.2712e-04\n",
      "Epoch 10/30\n",
      "180/180 [==============================] - 3s 19ms/step - loss: 4.4958e-04\n",
      "Epoch 11/30\n",
      "180/180 [==============================] - 3s 19ms/step - loss: 5.1841e-04\n",
      "Epoch 12/30\n",
      "180/180 [==============================] - 3s 19ms/step - loss: 3.8195e-04\n",
      "Epoch 13/30\n",
      "180/180 [==============================] - 3s 19ms/step - loss: 3.7756e-04\n",
      "Epoch 14/30\n",
      "180/180 [==============================] - 3s 19ms/step - loss: 3.5142e-04\n",
      "Epoch 15/30\n",
      "180/180 [==============================] - 3s 19ms/step - loss: 3.6338e-04\n",
      "Epoch 16/30\n",
      "180/180 [==============================] - 3s 19ms/step - loss: 3.2122e-04\n",
      "Epoch 17/30\n",
      "180/180 [==============================] - 3s 19ms/step - loss: 3.3535e-04\n",
      "Epoch 18/30\n",
      "180/180 [==============================] - 3s 19ms/step - loss: 3.0091e-04\n",
      "Epoch 19/30\n",
      "180/180 [==============================] - 3s 19ms/step - loss: 3.1803e-04\n",
      "Epoch 20/30\n",
      "180/180 [==============================] - 3s 19ms/step - loss: 2.8128e-04\n",
      "Epoch 21/30\n",
      "180/180 [==============================] - 3s 19ms/step - loss: 3.0471e-04\n",
      "Epoch 22/30\n",
      "180/180 [==============================] - 3s 19ms/step - loss: 2.6594e-04\n",
      "Epoch 23/30\n",
      "180/180 [==============================] - 3s 19ms/step - loss: 2.3810e-04\n",
      "Epoch 24/30\n",
      "180/180 [==============================] - 3s 19ms/step - loss: 2.6973e-04\n",
      "Epoch 25/30\n",
      "180/180 [==============================] - 3s 19ms/step - loss: 2.7834e-04\n",
      "Epoch 26/30\n",
      "180/180 [==============================] - 4s 20ms/step - loss: 2.6133e-04\n",
      "Epoch 27/30\n",
      "180/180 [==============================] - 3s 19ms/step - loss: 2.5657e-04\n",
      "Epoch 28/30\n",
      "180/180 [==============================] - 3s 19ms/step - loss: 2.6532e-04\n",
      "Epoch 29/30\n",
      "180/180 [==============================] - 3s 19ms/step - loss: 2.6827e-04\n",
      "Epoch 30/30\n",
      "180/180 [==============================] - 3s 19ms/step - loss: 2.7200e-04\n"
     ]
    },
    {
     "data": {
      "text/plain": [
       "<keras.src.callbacks.History at 0x1ec98502eb0>"
      ]
     },
     "execution_count": 111,
     "metadata": {},
     "output_type": "execute_result"
    }
   ],
   "source": [
    "from keras.models import Sequential\n",
    "from keras.layers import Dense, LSTM\n",
    "\n",
    "model = Sequential()\n",
    "model.add(LSTM(128, return_sequences=True, input_shape=(x_train.shape[1], 1)))\n",
    "model.add(LSTM(64, return_sequences=False))\n",
    "model.add(Dense(25))\n",
    "model.add(Dense(1))\n",
    "\n",
    "model.compile(optimizer='adam', loss='mean_squared_error')\n",
    "\n",
    "model.fit(x_train, y_train, batch_size=5, epochs=30)"
   ]
  },
  {
   "cell_type": "code",
   "execution_count": 112,
   "metadata": {},
   "outputs": [
    {
     "name": "stdout",
     "output_type": "stream",
     "text": [
      "298\n",
      "8/8 [==============================] - 1s 11ms/step\n"
     ]
    },
    {
     "data": {
      "text/plain": [
       "array([[4820.924 ],\n",
       "       [4810.7305],\n",
       "       [4888.7905],\n",
       "       [4931.8633],\n",
       "       [5004.5464],\n",
       "       [4887.816 ],\n",
       "       [4951.364 ],\n",
       "       [4996.1504],\n",
       "       [4963.16  ],\n",
       "       [5019.1323],\n",
       "       [5011.7627],\n",
       "       [4931.935 ],\n",
       "       [4994.5596],\n",
       "       [4775.2026],\n",
       "       [4906.5884],\n",
       "       [5001.0835],\n",
       "       [4885.259 ],\n",
       "       [5085.558 ],\n",
       "       [4982.134 ],\n",
       "       [4913.8364],\n",
       "       [4921.512 ],\n",
       "       [4921.1406],\n",
       "       [4868.52  ],\n",
       "       [4981.4116],\n",
       "       [4995.982 ],\n",
       "       [5074.2817],\n",
       "       [5090.631 ],\n",
       "       [5087.0034],\n",
       "       [5058.8853],\n",
       "       [5331.3687],\n",
       "       [5264.3135],\n",
       "       [5270.58  ],\n",
       "       [5348.706 ],\n",
       "       [5279.6553],\n",
       "       [5288.0615],\n",
       "       [5285.6196],\n",
       "       [5312.749 ],\n",
       "       [5280.8765],\n",
       "       [5231.189 ],\n",
       "       [5239.611 ],\n",
       "       [5185.083 ],\n",
       "       [5221.9595],\n",
       "       [5109.37  ],\n",
       "       [5181.6216],\n",
       "       [5092.03  ],\n",
       "       [5133.245 ],\n",
       "       [5292.4736],\n",
       "       [5351.8228],\n",
       "       [5450.961 ],\n",
       "       [5404.916 ],\n",
       "       [5464.529 ],\n",
       "       [5424.1626],\n",
       "       [5455.95  ],\n",
       "       [5420.8555],\n",
       "       [5647.5864],\n",
       "       [5521.614 ],\n",
       "       [5681.855 ],\n",
       "       [5650.37  ],\n",
       "       [5514.215 ],\n",
       "       [5707.7515],\n",
       "       [5642.3267],\n",
       "       [5597.498 ],\n",
       "       [5550.3403],\n",
       "       [5560.391 ],\n",
       "       [5672.1753],\n",
       "       [5623.155 ],\n",
       "       [5660.7603],\n",
       "       [5541.6196],\n",
       "       [5537.113 ],\n",
       "       [5567.651 ],\n",
       "       [5619.0474],\n",
       "       [5637.6885],\n",
       "       [5774.7017],\n",
       "       [5887.6836],\n",
       "       [5776.058 ],\n",
       "       [5714.3716],\n",
       "       [5726.604 ],\n",
       "       [5783.05  ],\n",
       "       [5800.1064],\n",
       "       [5706.292 ],\n",
       "       [5785.47  ],\n",
       "       [5859.0635],\n",
       "       [5872.411 ],\n",
       "       [5838.5444],\n",
       "       [5815.5776],\n",
       "       [5523.389 ],\n",
       "       [5378.54  ],\n",
       "       [5235.332 ],\n",
       "       [5294.9883],\n",
       "       [5233.2427],\n",
       "       [5133.118 ],\n",
       "       [5211.18  ],\n",
       "       [5261.824 ],\n",
       "       [5170.9443],\n",
       "       [5329.26  ],\n",
       "       [5191.2705],\n",
       "       [5268.297 ],\n",
       "       [5255.986 ],\n",
       "       [5085.0513],\n",
       "       [5194.3047],\n",
       "       [5207.374 ],\n",
       "       [4731.088 ],\n",
       "       [4791.1147],\n",
       "       [4766.604 ],\n",
       "       [4651.849 ],\n",
       "       [4633.8374],\n",
       "       [4761.0586],\n",
       "       [4919.3276],\n",
       "       [5010.5127],\n",
       "       [5194.7026],\n",
       "       [5140.0005],\n",
       "       [4922.7734],\n",
       "       [4711.1826],\n",
       "       [4721.221 ],\n",
       "       [4622.1216],\n",
       "       [4676.932 ],\n",
       "       [4478.911 ],\n",
       "       [4453.8774],\n",
       "       [4363.04  ],\n",
       "       [4610.6084],\n",
       "       [4620.772 ],\n",
       "       [4589.013 ],\n",
       "       [4764.7354],\n",
       "       [4673.6797],\n",
       "       [4580.6997],\n",
       "       [4445.0254],\n",
       "       [4399.5596],\n",
       "       [4456.741 ],\n",
       "       [4274.0054],\n",
       "       [4273.811 ],\n",
       "       [4382.836 ],\n",
       "       [4530.6763],\n",
       "       [4524.2363],\n",
       "       [4459.3496],\n",
       "       [4397.269 ],\n",
       "       [4570.8984],\n",
       "       [4646.3164],\n",
       "       [4693.219 ],\n",
       "       [4686.338 ],\n",
       "       [4618.319 ],\n",
       "       [4685.832 ],\n",
       "       [4667.872 ],\n",
       "       [4635.122 ],\n",
       "       [4844.1777],\n",
       "       [4781.423 ],\n",
       "       [4840.2666],\n",
       "       [5004.165 ],\n",
       "       [4984.905 ],\n",
       "       [4933.949 ],\n",
       "       [4959.2695],\n",
       "       [5038.5015],\n",
       "       [5055.6978],\n",
       "       [5051.9214],\n",
       "       [4994.949 ],\n",
       "       [5057.4673],\n",
       "       [4965.618 ],\n",
       "       [4949.0747],\n",
       "       [4980.1367],\n",
       "       [4894.057 ],\n",
       "       [4927.779 ],\n",
       "       [5043.3477],\n",
       "       [5058.906 ],\n",
       "       [4900.199 ],\n",
       "       [4991.708 ],\n",
       "       [4953.7905],\n",
       "       [4986.577 ],\n",
       "       [5095.117 ],\n",
       "       [5081.3174],\n",
       "       [5138.1685],\n",
       "       [5242.4634],\n",
       "       [5197.597 ],\n",
       "       [5258.2124],\n",
       "       [5304.2695],\n",
       "       [5438.2627],\n",
       "       [5385.4   ],\n",
       "       [5190.0977],\n",
       "       [5420.6943],\n",
       "       [5470.531 ],\n",
       "       [5316.174 ],\n",
       "       [5311.8315],\n",
       "       [5227.162 ],\n",
       "       [5299.2876],\n",
       "       [5289.8345],\n",
       "       [5321.3047],\n",
       "       [5288.7207],\n",
       "       [5409.966 ],\n",
       "       [5622.543 ],\n",
       "       [5671.0435],\n",
       "       [5628.8516],\n",
       "       [5574.727 ],\n",
       "       [5524.035 ],\n",
       "       [5561.4   ],\n",
       "       [5582.996 ],\n",
       "       [5636.9185],\n",
       "       [5773.3447],\n",
       "       [5656.5933],\n",
       "       [5737.714 ],\n",
       "       [5721.341 ],\n",
       "       [5487.848 ],\n",
       "       [5534.329 ],\n",
       "       [5352.7744],\n",
       "       [5271.649 ],\n",
       "       [5318.978 ],\n",
       "       [5286.792 ],\n",
       "       [5324.6045],\n",
       "       [5264.0474],\n",
       "       [5132.469 ],\n",
       "       [5327.2847],\n",
       "       [5270.9966],\n",
       "       [5279.6523],\n",
       "       [5335.623 ],\n",
       "       [5383.658 ],\n",
       "       [5460.81  ],\n",
       "       [5416.5127],\n",
       "       [5450.107 ],\n",
       "       [5616.5786],\n",
       "       [5554.6597],\n",
       "       [5591.497 ],\n",
       "       [5611.5   ],\n",
       "       [5546.802 ],\n",
       "       [5586.66  ],\n",
       "       [5403.2544],\n",
       "       [5204.495 ],\n",
       "       [5154.2666],\n",
       "       [5195.5693],\n",
       "       [5136.6875],\n",
       "       [5264.127 ],\n",
       "       [5363.619 ],\n",
       "       [5035.3457],\n",
       "       [4970.5483],\n",
       "       [4931.528 ],\n",
       "       [4950.9487],\n",
       "       [4884.141 ],\n",
       "       [4927.9473],\n",
       "       [4913.9995],\n",
       "       [4872.428 ],\n",
       "       [4833.5005],\n",
       "       [4816.389 ]], dtype=float32)"
      ]
     },
     "execution_count": 112,
     "metadata": {},
     "output_type": "execute_result"
    }
   ],
   "source": [
    "test_data = scaled_data[training_data_len - 60: , :]\n",
    "print(len(test_data))\n",
    "\n",
    "x_test = []\n",
    "y_test = dataset[training_data_len:, :]\n",
    "for i in range(60, len(test_data)):\n",
    "    x_test.append(test_data[i-60:i, 0])\n",
    "\n",
    "x_test = np.array(x_test)\n",
    "\n",
    "x_test = np.reshape(x_test, (x_test.shape[0], x_test.shape[1], 1))\n",
    "\n",
    "predictions = model.predict(x_test)\n",
    "predictions = scaler.inverse_transform(predictions)\n",
    "\n",
    "predictions"
   ]
  },
  {
   "cell_type": "code",
   "execution_count": 113,
   "metadata": {},
   "outputs": [
    {
     "name": "stdout",
     "output_type": "stream",
     "text": [
      "RMSE:  50.06756335346638\n",
      "MAE:  82.1838604582458\n"
     ]
    }
   ],
   "source": [
    "from sklearn.metrics import mean_squared_error, mean_absolute_error\n",
    "\n",
    "rmse = np.sqrt(np.mean(predictions - y_test)**2)\n",
    "mae = mean_absolute_error(predictions, y_test)\n",
    "\n",
    "print(\"RMSE: \", rmse)\n",
    "print(\"MAE: \", mae)"
   ]
  },
  {
   "cell_type": "code",
   "execution_count": 115,
   "metadata": {},
   "outputs": [
    {
     "name": "stderr",
     "output_type": "stream",
     "text": [
      "C:\\Users\\thari\\AppData\\Local\\Temp\\ipykernel_18516\\3756074682.py:3: SettingWithCopyWarning:\n",
      "\n",
      "\n",
      "A value is trying to be set on a copy of a slice from a DataFrame.\n",
      "Try using .loc[row_indexer,col_indexer] = value instead\n",
      "\n",
      "See the caveats in the documentation: https://pandas.pydata.org/pandas-docs/stable/user_guide/indexing.html#returning-a-view-versus-a-copy\n",
      "\n"
     ]
    },
    {
     "data": {
      "image/png": "[encoded data removed]",
      "text/plain": [
       "<Figure size 1600x800 with 1 Axes>"
      ]
     },
     "metadata": {},
     "output_type": "display_data"
    }
   ],
   "source": [
    "train = data[:training_data_len]\n",
    "valid = data[training_data_len:]\n",
    "valid['Predictions'] = predictions\n",
    "\n",
    "plt.figure(figsize=(16,8))\n",
    "plt.title('Model')\n",
    "plt.xlabel('Date')\n",
    "plt.ylabel('Close Price USD ($)')\n",
    "plt.plot(train['Close'])\n",
    "plt.plot(valid[['Close', 'Predictions']])\n",
    "plt.legend(['Train', 'Val', 'Predictions'], loc='lower right')\n",
    "plt.show()"
   ]
  },
  {
   "cell_type": "code",
   "execution_count": 116,
   "metadata": {},
   "outputs": [
    {
     "data": {
      "application/vnd.plotly.v1+json": {
       "config": {
        "plotlyServerURL": "https://plot.ly"
       },
       "data": [
        {
         "mode": "lines",
         "name": "Val",
         "type": "scatter",
         "x": [
          "2023-11-22T00:00:00",
          "2023-11-23T00:00:00",
          "2023-11-24T00:00:00",
          "2023-11-27T00:00:00",
          "2023-11-28T00:00:00",
          "2023-11-29T00:00:00",
          "2023-11-30T00:00:00",
          "2023-12-01T00:00:00",
          "2023-12-04T00:00:00",
          "2023-12-05T00:00:00",
          "2023-12-06T00:00:00",
          "2023-12-07T00:00:00",
          "2023-12-08T00:00:00",
          "2023-12-11T00:00:00",
          "2023-12-12T00:00:00",
          "2023-12-13T00:00:00",
          "2023-12-14T00:00:00",
          "2023-12-15T00:00:00",
          "2023-12-18T00:00:00",
          "2023-12-19T00:00:00",
          "2023-12-20T00:00:00",
          "2023-12-21T00:00:00",
          "2023-12-22T00:00:00",
          "2023-12-27T00:00:00",
          "2023-12-28T00:00:00",
          "2023-12-29T00:00:00",
          "2024-01-02T00:00:00",
          "2024-01-03T00:00:00",
          "2024-01-04T00:00:00",
          "2024-01-05T00:00:00",
          "2024-01-08T00:00:00",
          "2024-01-09T00:00:00",
          "2024-01-10T00:00:00",
          "2024-01-11T00:00:00",
          "2024-01-12T00:00:00",
          "2024-01-15T00:00:00",
          "2024-01-16T00:00:00",
          "2024-01-17T00:00:00",
          "2024-01-18T00:00:00",
          "2024-01-19T00:00:00",
          "2024-01-22T00:00:00",
          "2024-01-23T00:00:00",
          "2024-01-24T00:00:00",
          "2024-01-25T00:00:00",
          "2024-01-26T00:00:00",
          "2024-01-29T00:00:00",
          "2024-01-30T00:00:00",
          "2024-01-31T00:00:00",
          "2024-02-01T00:00:00",
          "2024-02-02T00:00:00",
          "2024-02-05T00:00:00",
          "2024-02-06T00:00:00",
          "2024-02-07T00:00:00",
          "2024-02-12T00:00:00",
          "2024-02-13T00:00:00",
          "2024-02-15T00:00:00",
          "2024-02-16T00:00:00",
          "2024-02-19T00:00:00",
          "2024-02-20T00:00:00",
          "2024-02-21T00:00:00",
          "2024-02-22T00:00:00",
          "2024-02-23T00:00:00",
          "2024-02-26T00:00:00",
          "2024-02-27T00:00:00",
          "2024-02-28T00:00:00",
          "2024-02-29T00:00:00",
          "2024-03-01T00:00:00",
          "2024-03-04T00:00:00",
          "2024-03-05T00:00:00",
          "2024-03-06T00:00:00",
          "2024-03-07T00:00:00",
          "2024-03-08T00:00:00",
          "2024-03-13T00:00:00",
          "2024-03-14T00:00:00",
          "2024-03-15T00:00:00",
          "2024-03-18T00:00:00",
          "2024-03-19T00:00:00",
          "2024-03-20T00:00:00",
          "2024-03-21T00:00:00",
          "2024-03-22T00:00:00",
          "2024-03-25T00:00:00",
          "2024-03-26T00:00:00",
          "2024-03-27T00:00:00",
          "2024-03-28T00:00:00",
          "2024-04-01T00:00:00",
          "2024-04-02T00:00:00",
          "2024-04-03T00:00:00",
          "2024-04-04T00:00:00",
          "2024-04-05T00:00:00",
          "2024-04-16T00:00:00",
          "2024-04-17T00:00:00",
          "2024-04-18T00:00:00",
          "2024-04-19T00:00:00",
          "2024-04-22T00:00:00",
          "2024-04-23T00:00:00",
          "2024-04-24T00:00:00",
          "2024-04-25T00:00:00",
          "2024-04-26T00:00:00",
          "2024-04-29T00:00:00",
          "2024-04-30T00:00:00",
          "2024-05-02T00:00:00",
          "2024-05-03T00:00:00",
          "2024-05-06T00:00:00",
          "2024-05-07T00:00:00",
          "2024-05-08T00:00:00",
          "2024-05-13T00:00:00",
          "2024-05-14T00:00:00",
          "2024-05-15T00:00:00",
          "2024-05-16T00:00:00",
          "2024-05-17T00:00:00",
          "2024-05-20T00:00:00",
          "2024-05-21T00:00:00",
          "2024-05-22T00:00:00",
          "2024-05-27T00:00:00",
          "2024-05-28T00:00:00",
          "2024-05-29T00:00:00",
          "2024-05-30T00:00:00",
          "2024-05-31T00:00:00",
          "2024-06-03T00:00:00",
          "2024-06-04T00:00:00",
          "2024-06-05T00:00:00",
          "2024-06-06T00:00:00",
          "2024-06-07T00:00:00",
          "2024-06-10T00:00:00",
          "2024-06-11T00:00:00",
          "2024-06-12T00:00:00",
          "2024-06-13T00:00:00",
          "2024-06-14T00:00:00",
          "2024-06-19T00:00:00",
          "2024-06-20T00:00:00",
          "2024-06-21T00:00:00",
          "2024-06-24T00:00:00",
          "2024-06-25T00:00:00",
          "2024-06-26T00:00:00",
          "2024-06-27T00:00:00",
          "2024-06-28T00:00:00",
          "2024-07-01T00:00:00",
          "2024-07-02T00:00:00",
          "2024-07-03T00:00:00",
          "2024-07-04T00:00:00",
          "2024-07-05T00:00:00",
          "2024-07-08T00:00:00",
          "2024-07-09T00:00:00",
          "2024-07-10T00:00:00",
          "2024-07-11T00:00:00",
          "2024-07-12T00:00:00",
          "2024-07-15T00:00:00",
          "2024-07-16T00:00:00",
          "2024-07-17T00:00:00",
          "2024-07-18T00:00:00",
          "2024-07-19T00:00:00",
          "2024-07-22T00:00:00",
          "2024-07-23T00:00:00",
          "2024-07-24T00:00:00",
          "2024-07-25T00:00:00",
          "2024-07-26T00:00:00",
          "2024-07-29T00:00:00",
          "2024-07-30T00:00:00",
          "2024-07-31T00:00:00",
          "2024-08-01T00:00:00",
          "2024-08-02T00:00:00",
          "2024-08-05T00:00:00",
          "2024-08-06T00:00:00",
          "2024-08-07T00:00:00",
          "2024-08-08T00:00:00",
          "2024-08-09T00:00:00",
          "2024-08-12T00:00:00",
          "2024-08-13T00:00:00",
          "2024-08-14T00:00:00",
          "2024-08-15T00:00:00",
          "2024-08-16T00:00:00",
          "2024-08-19T00:00:00",
          "2024-08-20T00:00:00",
          "2024-08-21T00:00:00",
          "2024-08-22T00:00:00",
          "2024-08-23T00:00:00",
          "2024-08-26T00:00:00",
          "2024-08-27T00:00:00",
          "2024-08-28T00:00:00",
          "2024-08-29T00:00:00",
          "2024-08-30T00:00:00",
          "2024-09-02T00:00:00",
          "2024-09-03T00:00:00",
          "2024-09-04T00:00:00",
          "2024-09-05T00:00:00",
          "2024-09-06T00:00:00",
          "2024-09-09T00:00:00",
          "2024-09-10T00:00:00",
          "2024-09-11T00:00:00",
          "2024-09-12T00:00:00",
          "2024-09-13T00:00:00",
          "2024-09-17T00:00:00",
          "2024-09-18T00:00:00",
          "2024-09-19T00:00:00",
          "2024-09-20T00:00:00",
          "2024-09-23T00:00:00",
          "2024-09-24T00:00:00",
          "2024-09-25T00:00:00",
          "2024-09-26T00:00:00",
          "2024-09-27T00:00:00",
          "2024-09-30T00:00:00",
          "2024-10-01T00:00:00",
          "2024-10-02T00:00:00",
          "2024-10-03T00:00:00",
          "2024-10-04T00:00:00",
          "2024-10-07T00:00:00",
          "2024-10-08T00:00:00",
          "2024-10-09T00:00:00",
          "2024-10-10T00:00:00",
          "2024-10-11T00:00:00",
          "2024-10-14T00:00:00",
          "2024-10-15T00:00:00",
          "2024-10-16T00:00:00",
          "2024-10-17T00:00:00",
          "2024-10-18T00:00:00",
          "2024-10-21T00:00:00",
          "2024-10-22T00:00:00",
          "2024-10-23T00:00:00",
          "2024-10-24T00:00:00",
          "2024-10-25T00:00:00",
          "2024-10-28T00:00:00",
          "2024-10-29T00:00:00",
          "2024-10-30T00:00:00",
          "2024-10-31T00:00:00",
          "2024-11-01T00:00:00",
          "2024-11-04T00:00:00",
          "2024-11-05T00:00:00",
          "2024-11-06T00:00:00",
          "2024-11-07T00:00:00",
          "2024-11-08T00:00:00",
          "2024-11-11T00:00:00",
          "2024-11-12T00:00:00",
          "2024-11-13T00:00:00",
          "2024-11-14T00:00:00",
          "2024-11-15T00:00:00",
          "2024-11-18T00:00:00",
          "2024-11-19T00:00:00",
          "2024-11-20T00:00:00"
         ],
         "y": [
          4843.5341796875,
          4915.11376953125,
          4962.8330078125,
          5034.41259765625,
          4938.9736328125,
          4986.69287109375,
          5034.41259765625,
          5010.552734375,
          5058.2724609375,
          5058.2724609375,
          4986.69287109375,
          5034.41259765625,
          4843.5341796875,
          4938.9736328125,
          5034.41259765625,
          4938.9736328125,
          5105.99169921875,
          5034.41259765625,
          4962.8330078125,
          4962.8330078125,
          4962.8330078125,
          4915.11376953125,
          5010.552734375,
          5034.41259765625,
          5105.99169921875,
          5129.8515625,
          5129.8515625,
          5105.99169921875,
          5344.58984375,
          5320.72998046875,
          5320.72998046875,
          5392.30908203125,
          5344.58984375,
          5344.58984375,
          5344.58984375,
          5368.44921875,
          5344.58984375,
          5296.8701171875,
          5296.8701171875,
          5249.150390625,
          5273.01025390625,
          5177.5712890625,
          5225.29052734375,
          5153.71142578125,
          5177.5712890625,
          5320.72998046875,
          5392.30908203125,
          5487.748046875,
          5463.888671875,
          5511.60791015625,
          5487.748046875,
          5511.60791015625,
          5487.748046875,
          5678.62646484375,
          5607.04736328125,
          5726.34619140625,
          5726.34619140625,
          5607.04736328125,
          5750.20556640625,
          5726.34619140625,
          5678.62646484375,
          5630.90673828125,
          5630.90673828125,
          5726.34619140625,
          5702.486328125,
          5726.34619140625,
          5630.90673828125,
          5607.04736328125,
          5630.90673828125,
          5678.62646484375,
          5702.486328125,
          5821.78515625,
          5941.083984375,
          5869.5048828125,
          5800,
          5800,
          5850,
          5875,
          5800,
          5850,
          5925,
          5950,
          5925,
          5900,
          5650,
          5475,
          5325,
          5350,
          5300,
          5200,
          5250,
          5300,
          5225,
          5350,
          5250,
          5300,
          5300,
          5150,
          5225,
          5250,
          4830,
          4830,
          4810,
          4700,
          4670,
          4780,
          4930,
          5025,
          5200,
          5175,
          4980,
          4770,
          4760,
          4670,
          4710,
          4530,
          4490,
          4400,
          4620,
          4640,
          4610,
          4770,
          4700,
          4610,
          4480,
          4430,
          4480,
          4310,
          4300,
          4400,
          4540,
          4540,
          4480,
          4420,
          4580,
          4660,
          4710,
          4710,
          4650,
          4710,
          4700,
          4670,
          4860,
          4820,
          4870,
          5025,
          5025,
          4980,
          5000,
          5075,
          5100,
          5100,
          5050,
          5100,
          5025,
          5000,
          5025,
          4950,
          4970,
          5075,
          5100,
          4960,
          5025,
          5000,
          5025,
          5125,
          5125,
          5175,
          5275,
          5250,
          5300,
          5350,
          5475,
          5450,
          5275,
          5450,
          5525,
          5400,
          5375,
          5300,
          5350,
          5350,
          5375,
          5350,
          5450,
          5650,
          5725,
          5700,
          5650,
          5600,
          5625,
          5650,
          5700,
          5825,
          5750,
          5800,
          5800,
          5600,
          5600,
          5450,
          5350,
          5375,
          5350,
          5375,
          5325,
          5200,
          5350,
          5325,
          5325,
          5375,
          5425,
          5500,
          5475,
          5500,
          5650,
          5625,
          5650,
          5675,
          5625,
          5650,
          5500,
          5300,
          5225,
          5250,
          5200,
          5300,
          5400,
          5125,
          5025,
          4980,
          4990,
          4930,
          4960,
          4950,
          4910,
          4870,
          4850,
          4850
         ]
        },
        {
         "mode": "lines",
         "name": "Predictions",
         "type": "scatter",
         "x": [
          "2023-11-22T00:00:00",
          "2023-11-23T00:00:00",
          "2023-11-24T00:00:00",
          "2023-11-27T00:00:00",
          "2023-11-28T00:00:00",
          "2023-11-29T00:00:00",
          "2023-11-30T00:00:00",
          "2023-12-01T00:00:00",
          "2023-12-04T00:00:00",
          "2023-12-05T00:00:00",
          "2023-12-06T00:00:00",
          "2023-12-07T00:00:00",
          "2023-12-08T00:00:00",
          "2023-12-11T00:00:00",
          "2023-12-12T00:00:00",
          "2023-12-13T00:00:00",
          "2023-12-14T00:00:00",
          "2023-12-15T00:00:00",
          "2023-12-18T00:00:00",
          "2023-12-19T00:00:00",
          "2023-12-20T00:00:00",
          "2023-12-21T00:00:00",
          "2023-12-22T00:00:00",
          "2023-12-27T00:00:00",
          "2023-12-28T00:00:00",
          "2023-12-29T00:00:00",
          "2024-01-02T00:00:00",
          "2024-01-03T00:00:00",
          "2024-01-04T00:00:00",
          "2024-01-05T00:00:00",
          "2024-01-08T00:00:00",
          "2024-01-09T00:00:00",
          "2024-01-10T00:00:00",
          "2024-01-11T00:00:00",
          "2024-01-12T00:00:00",
          "2024-01-15T00:00:00",
          "2024-01-16T00:00:00",
          "2024-01-17T00:00:00",
          "2024-01-18T00:00:00",
          "2024-01-19T00:00:00",
          "2024-01-22T00:00:00",
          "2024-01-23T00:00:00",
          "2024-01-24T00:00:00",
          "2024-01-25T00:00:00",
          "2024-01-26T00:00:00",
          "2024-01-29T00:00:00",
          "2024-01-30T00:00:00",
          "2024-01-31T00:00:00",
          "2024-02-01T00:00:00",
          "2024-02-02T00:00:00",
          "2024-02-05T00:00:00",
          "2024-02-06T00:00:00",
          "2024-02-07T00:00:00",
          "2024-02-12T00:00:00",
          "2024-02-13T00:00:00",
          "2024-02-15T00:00:00",
          "2024-02-16T00:00:00",
          "2024-02-19T00:00:00",
          "2024-02-20T00:00:00",
          "2024-02-21T00:00:00",
          "2024-02-22T00:00:00",
          "2024-02-23T00:00:00",
          "2024-02-26T00:00:00",
          "2024-02-27T00:00:00",
          "2024-02-28T00:00:00",
          "2024-02-29T00:00:00",
          "2024-03-01T00:00:00",
          "2024-03-04T00:00:00",
          "2024-03-05T00:00:00",
          "2024-03-06T00:00:00",
          "2024-03-07T00:00:00",
          "2024-03-08T00:00:00",
          "2024-03-13T00:00:00",
          "2024-03-14T00:00:00",
          "2024-03-15T00:00:00",
          "2024-03-18T00:00:00",
          "2024-03-19T00:00:00",
          "2024-03-20T00:00:00",
          "2024-03-21T00:00:00",
          "2024-03-22T00:00:00",
          "2024-03-25T00:00:00",
          "2024-03-26T00:00:00",
          "2024-03-27T00:00:00",
          "2024-03-28T00:00:00",
          "2024-04-01T00:00:00",
          "2024-04-02T00:00:00",
          "2024-04-03T00:00:00",
          "2024-04-04T00:00:00",
          "2024-04-05T00:00:00",
          "2024-04-16T00:00:00",
          "2024-04-17T00:00:00",
          "2024-04-18T00:00:00",
          "2024-04-19T00:00:00",
          "2024-04-22T00:00:00",
          "2024-04-23T00:00:00",
          "2024-04-24T00:00:00",
          "2024-04-25T00:00:00",
          "2024-04-26T00:00:00",
          "2024-04-29T00:00:00",
          "2024-04-30T00:00:00",
          "2024-05-02T00:00:00",
          "2024-05-03T00:00:00",
          "2024-05-06T00:00:00",
          "2024-05-07T00:00:00",
          "2024-05-08T00:00:00",
          "2024-05-13T00:00:00",
          "2024-05-14T00:00:00",
          "2024-05-15T00:00:00",
          "2024-05-16T00:00:00",
          "2024-05-17T00:00:00",
          "2024-05-20T00:00:00",
          "2024-05-21T00:00:00",
          "2024-05-22T00:00:00",
          "2024-05-27T00:00:00",
          "2024-05-28T00:00:00",
          "2024-05-29T00:00:00",
          "2024-05-30T00:00:00",
          "2024-05-31T00:00:00",
          "2024-06-03T00:00:00",
          "2024-06-04T00:00:00",
          "2024-06-05T00:00:00",
          "2024-06-06T00:00:00",
          "2024-06-07T00:00:00",
          "2024-06-10T00:00:00",
          "2024-06-11T00:00:00",
          "2024-06-12T00:00:00",
          "2024-06-13T00:00:00",
          "2024-06-14T00:00:00",
          "2024-06-19T00:00:00",
          "2024-06-20T00:00:00",
          "2024-06-21T00:00:00",
          "2024-06-24T00:00:00",
          "2024-06-25T00:00:00",
          "2024-06-26T00:00:00",
          "2024-06-27T00:00:00",
          "2024-06-28T00:00:00",
          "2024-07-01T00:00:00",
          "2024-07-02T00:00:00",
          "2024-07-03T00:00:00",
          "2024-07-04T00:00:00",
          "2024-07-05T00:00:00",
          "2024-07-08T00:00:00",
          "2024-07-09T00:00:00",
          "2024-07-10T00:00:00",
          "2024-07-11T00:00:00",
          "2024-07-12T00:00:00",
          "2024-07-15T00:00:00",
          "2024-07-16T00:00:00",
          "2024-07-17T00:00:00",
          "2024-07-18T00:00:00",
          "2024-07-19T00:00:00",
          "2024-07-22T00:00:00",
          "2024-07-23T00:00:00",
          "2024-07-24T00:00:00",
          "2024-07-25T00:00:00",
          "2024-07-26T00:00:00",
          "2024-07-29T00:00:00",
          "2024-07-30T00:00:00",
          "2024-07-31T00:00:00",
          "2024-08-01T00:00:00",
          "2024-08-02T00:00:00",
          "2024-08-05T00:00:00",
          "2024-08-06T00:00:00",
          "2024-08-07T00:00:00",
          "2024-08-08T00:00:00",
          "2024-08-09T00:00:00",
          "2024-08-12T00:00:00",
          "2024-08-13T00:00:00",
          "2024-08-14T00:00:00",
          "2024-08-15T00:00:00",
          "2024-08-16T00:00:00",
          "2024-08-19T00:00:00",
          "2024-08-20T00:00:00",
          "2024-08-21T00:00:00",
          "2024-08-22T00:00:00",
          "2024-08-23T00:00:00",
          "2024-08-26T00:00:00",
          "2024-08-27T00:00:00",
          "2024-08-28T00:00:00",
          "2024-08-29T00:00:00",
          "2024-08-30T00:00:00",
          "2024-09-02T00:00:00",
          "2024-09-03T00:00:00",
          "2024-09-04T00:00:00",
          "2024-09-05T00:00:00",
          "2024-09-06T00:00:00",
          "2024-09-09T00:00:00",
          "2024-09-10T00:00:00",
          "2024-09-11T00:00:00",
          "2024-09-12T00:00:00",
          "2024-09-13T00:00:00",
          "2024-09-17T00:00:00",
          "2024-09-18T00:00:00",
          "2024-09-19T00:00:00",
          "2024-09-20T00:00:00",
          "2024-09-23T00:00:00",
          "2024-09-24T00:00:00",
          "2024-09-25T00:00:00",
          "2024-09-26T00:00:00",
          "2024-09-27T00:00:00",
          "2024-09-30T00:00:00",
          "2024-10-01T00:00:00",
          "2024-10-02T00:00:00",
          "2024-10-03T00:00:00",
          "2024-10-04T00:00:00",
          "2024-10-07T00:00:00",
          "2024-10-08T00:00:00",
          "2024-10-09T00:00:00",
          "2024-10-10T00:00:00",
          "2024-10-11T00:00:00",
          "2024-10-14T00:00:00",
          "2024-10-15T00:00:00",
          "2024-10-16T00:00:00",
          "2024-10-17T00:00:00",
          "2024-10-18T00:00:00",
          "2024-10-21T00:00:00",
          "2024-10-22T00:00:00",
          "2024-10-23T00:00:00",
          "2024-10-24T00:00:00",
          "2024-10-25T00:00:00",
          "2024-10-28T00:00:00",
          "2024-10-29T00:00:00",
          "2024-10-30T00:00:00",
          "2024-10-31T00:00:00",
          "2024-11-01T00:00:00",
          "2024-11-04T00:00:00",
          "2024-11-05T00:00:00",
          "2024-11-06T00:00:00",
          "2024-11-07T00:00:00",
          "2024-11-08T00:00:00",
          "2024-11-11T00:00:00",
          "2024-11-12T00:00:00",
          "2024-11-13T00:00:00",
          "2024-11-14T00:00:00",
          "2024-11-15T00:00:00",
          "2024-11-18T00:00:00",
          "2024-11-19T00:00:00",
          "2024-11-20T00:00:00"
         ],
         "y": [
          4820.923828125,
          4810.73046875,
          4888.79052734375,
          4931.86328125,
          5004.54638671875,
          4887.81591796875,
          4951.36376953125,
          4996.150390625,
          4963.16015625,
          5019.13232421875,
          5011.7626953125,
          4931.93505859375,
          4994.5595703125,
          4775.20263671875,
          4906.58837890625,
          5001.08349609375,
          4885.2587890625,
          5085.55810546875,
          4982.1337890625,
          4913.83642578125,
          4921.51220703125,
          4921.140625,
          4868.52001953125,
          4981.41162109375,
          4995.98193359375,
          5074.28173828125,
          5090.630859375,
          5087.00341796875,
          5058.88525390625,
          5331.36865234375,
          5264.3134765625,
          5270.580078125,
          5348.7060546875,
          5279.6552734375,
          5288.0615234375,
          5285.61962890625,
          5312.7490234375,
          5280.87646484375,
          5231.18896484375,
          5239.61083984375,
          5185.0830078125,
          5221.95947265625,
          5109.3701171875,
          5181.62158203125,
          5092.02978515625,
          5133.2451171875,
          5292.4736328125,
          5351.82275390625,
          5450.9609375,
          5404.916015625,
          5464.52880859375,
          5424.16259765625,
          5455.9501953125,
          5420.85546875,
          5647.58642578125,
          5521.61376953125,
          5681.85498046875,
          5650.3701171875,
          5514.21484375,
          5707.75146484375,
          5642.32666015625,
          5597.498046875,
          5550.34033203125,
          5560.39111328125,
          5672.17529296875,
          5623.15478515625,
          5660.76025390625,
          5541.61962890625,
          5537.11279296875,
          5567.65087890625,
          5619.04736328125,
          5637.6884765625,
          5774.70166015625,
          5887.68359375,
          5776.05810546875,
          5714.37158203125,
          5726.60400390625,
          5783.0498046875,
          5800.1064453125,
          5706.2919921875,
          5785.47021484375,
          5859.0634765625,
          5872.4111328125,
          5838.54443359375,
          5815.57763671875,
          5523.38916015625,
          5378.5400390625,
          5235.33203125,
          5294.98828125,
          5233.24267578125,
          5133.1181640625,
          5211.18017578125,
          5261.82421875,
          5170.9443359375,
          5329.259765625,
          5191.2705078125,
          5268.296875,
          5255.98583984375,
          5085.05126953125,
          5194.3046875,
          5207.3740234375,
          4731.087890625,
          4791.11474609375,
          4766.60400390625,
          4651.84912109375,
          4633.83740234375,
          4761.05859375,
          4919.32763671875,
          5010.5126953125,
          5194.70263671875,
          5140.00048828125,
          4922.7734375,
          4711.1826171875,
          4721.22119140625,
          4622.12158203125,
          4676.93212890625,
          4478.9111328125,
          4453.87744140625,
          4363.0400390625,
          4610.6083984375,
          4620.77197265625,
          4589.01318359375,
          4764.7353515625,
          4673.6796875,
          4580.69970703125,
          4445.025390625,
          4399.5595703125,
          4456.7412109375,
          4274.00537109375,
          4273.81103515625,
          4382.8359375,
          4530.67626953125,
          4524.236328125,
          4459.349609375,
          4397.26904296875,
          4570.8984375,
          4646.31640625,
          4693.21923828125,
          4686.337890625,
          4618.31884765625,
          4685.83203125,
          4667.8720703125,
          4635.1220703125,
          4844.177734375,
          4781.4228515625,
          4840.2666015625,
          5004.1650390625,
          4984.90478515625,
          4933.94921875,
          4959.26953125,
          5038.50146484375,
          5055.69775390625,
          5051.92138671875,
          4994.94921875,
          5057.46728515625,
          4965.6181640625,
          4949.07470703125,
          4980.13671875,
          4894.05712890625,
          4927.77880859375,
          5043.34765625,
          5058.90576171875,
          4900.19921875,
          4991.7080078125,
          4953.79052734375,
          4986.5771484375,
          5095.1171875,
          5081.3173828125,
          5138.16845703125,
          5242.46337890625,
          5197.59716796875,
          5258.21240234375,
          5304.26953125,
          5438.2626953125,
          5385.39990234375,
          5190.09765625,
          5420.6943359375,
          5470.53076171875,
          5316.173828125,
          5311.83154296875,
          5227.162109375,
          5299.28759765625,
          5289.83447265625,
          5321.3046875,
          5288.720703125,
          5409.9658203125,
          5622.54296875,
          5671.04345703125,
          5628.8515625,
          5574.72705078125,
          5524.03515625,
          5561.39990234375,
          5582.99609375,
          5636.91845703125,
          5773.3447265625,
          5656.59326171875,
          5737.7138671875,
          5721.3408203125,
          5487.84814453125,
          5534.3291015625,
          5352.7744140625,
          5271.64892578125,
          5318.97802734375,
          5286.7919921875,
          5324.6044921875,
          5264.04736328125,
          5132.46923828125,
          5327.28466796875,
          5270.99658203125,
          5279.65234375,
          5335.623046875,
          5383.658203125,
          5460.81005859375,
          5416.5126953125,
          5450.10693359375,
          5616.57861328125,
          5554.65966796875,
          5591.4970703125,
          5611.5,
          5546.8017578125,
          5586.66015625,
          5403.25439453125,
          5204.4951171875,
          5154.2666015625,
          5195.5693359375,
          5136.6875,
          5264.126953125,
          5363.619140625,
          5035.345703125,
          4970.54833984375,
          4931.52783203125,
          4950.94873046875,
          4884.14111328125,
          4927.947265625,
          4913.99951171875,
          4872.42822265625,
          4833.50048828125,
          4816.38916015625
         ]
        }
       ],
       "layout": {
        "template": {
         "data": {
          "bar": [
           {
            "error_x": {
             "color": "#2a3f5f"
            },
            "error_y": {
             "color": "#2a3f5f"
            },
            "marker": {
             "line": {
              "color": "#E5ECF6",
              "width": 0.5
             },
             "pattern": {
              "fillmode": "overlay",
              "size": 10,
              "solidity": 0.2
             }
            },
            "type": "bar"
           }
          ],
          "barpolar": [
           {
            "marker": {
             "line": {
              "color": "#E5ECF6",
              "width": 0.5
             },
             "pattern": {
              "fillmode": "overlay",
              "size": 10,
              "solidity": 0.2
             }
            },
            "type": "barpolar"
           }
          ],
          "carpet": [
           {
            "aaxis": {
             "endlinecolor": "#2a3f5f",
             "gridcolor": "white",
             "linecolor": "white",
             "minorgridcolor": "white",
             "startlinecolor": "#2a3f5f"
            },
            "baxis": {
             "endlinecolor": "#2a3f5f",
             "gridcolor": "white",
             "linecolor": "white",
             "minorgridcolor": "white",
             "startlinecolor": "#2a3f5f"
            },
            "type": "carpet"
           }
          ],
          "choropleth": [
           {
            "colorbar": {
             "outlinewidth": 0,
             "ticks": ""
            },
            "type": "choropleth"
           }
          ],
          "contour": [
           {
            "colorbar": {
             "outlinewidth": 0,
             "ticks": ""
            },
            "colorscale": [
             [
              0,
              "#0d0887"
             ],
             [
              0.1111111111111111,
              "#46039f"
             ],
             [
              0.2222222222222222,
              "#7201a8"
             ],
             [
              0.3333333333333333,
              "#9c179e"
             ],
             [
              0.4444444444444444,
              "#bd3786"
             ],
             [
              0.5555555555555556,
              "#d8576b"
             ],
             [
              0.6666666666666666,
              "#ed7953"
             ],
             [
              0.7777777777777778,
              "#fb9f3a"
             ],
             [
              0.8888888888888888,
              "#fdca26"
             ],
             [
              1,
              "#f0f921"
             ]
            ],
            "type": "contour"
           }
          ],
          "contourcarpet": [
           {
            "colorbar": {
             "outlinewidth": 0,
             "ticks": ""
            },
            "type": "contourcarpet"
           }
          ],
          "heatmap": [
           {
            "colorbar": {
             "outlinewidth": 0,
             "ticks": ""
            },
            "colorscale": [
             [
              0,
              "#0d0887"
             ],
             [
              0.1111111111111111,
              "#46039f"
             ],
             [
              0.2222222222222222,
              "#7201a8"
             ],
             [
              0.3333333333333333,
              "#9c179e"
             ],
             [
              0.4444444444444444,
              "#bd3786"
             ],
             [
              0.5555555555555556,
              "#d8576b"
             ],
             [
              0.6666666666666666,
              "#ed7953"
             ],
             [
              0.7777777777777778,
              "#fb9f3a"
             ],
             [
              0.8888888888888888,
              "#fdca26"
             ],
             [
              1,
              "#f0f921"
             ]
            ],
            "type": "heatmap"
           }
          ],
          "heatmapgl": [
           {
            "colorbar": {
             "outlinewidth": 0,
             "ticks": ""
            },
            "colorscale": [
             [
              0,
              "#0d0887"
             ],
             [
              0.1111111111111111,
              "#46039f"
             ],
             [
              0.2222222222222222,
              "#7201a8"
             ],
             [
              0.3333333333333333,
              "#9c179e"
             ],
             [
              0.4444444444444444,
              "#bd3786"
             ],
             [
              0.5555555555555556,
              "#d8576b"
             ],
             [
              0.6666666666666666,
              "#ed7953"
             ],
             [
              0.7777777777777778,
              "#fb9f3a"
             ],
             [
              0.8888888888888888,
              "#fdca26"
             ],
             [
              1,
              "#f0f921"
             ]
            ],
            "type": "heatmapgl"
           }
          ],
          "histogram": [
           {
            "marker": {
             "pattern": {
              "fillmode": "overlay",
              "size": 10,
              "solidity": 0.2
             }
            },
            "type": "histogram"
           }
          ],
          "histogram2d": [
           {
            "colorbar": {
             "outlinewidth": 0,
             "ticks": ""
            },
            "colorscale": [
             [
              0,
              "#0d0887"
             ],
             [
              0.1111111111111111,
              "#46039f"
             ],
             [
              0.2222222222222222,
              "#7201a8"
             ],
             [
              0.3333333333333333,
              "#9c179e"
             ],
             [
              0.4444444444444444,
              "#bd3786"
             ],
             [
              0.5555555555555556,
              "#d8576b"
             ],
             [
              0.6666666666666666,
              "#ed7953"
             ],
             [
              0.7777777777777778,
              "#fb9f3a"
             ],
             [
              0.8888888888888888,
              "#fdca26"
             ],
             [
              1,
              "#f0f921"
             ]
            ],
            "type": "histogram2d"
           }
          ],
          "histogram2dcontour": [
           {
            "colorbar": {
             "outlinewidth": 0,
             "ticks": ""
            },
            "colorscale": [
             [
              0,
              "#0d0887"
             ],
             [
              0.1111111111111111,
              "#46039f"
             ],
             [
              0.2222222222222222,
              "#7201a8"
             ],
             [
              0.3333333333333333,
              "#9c179e"
             ],
             [
              0.4444444444444444,
              "#bd3786"
             ],
             [
              0.5555555555555556,
              "#d8576b"
             ],
             [
              0.6666666666666666,
              "#ed7953"
             ],
             [
              0.7777777777777778,
              "#fb9f3a"
             ],
             [
              0.8888888888888888,
              "#fdca26"
             ],
             [
              1,
              "#f0f921"
             ]
            ],
            "type": "histogram2dcontour"
           }
          ],
          "mesh3d": [
           {
            "colorbar": {
             "outlinewidth": 0,
             "ticks": ""
            },
            "type": "mesh3d"
           }
          ],
          "parcoords": [
           {
            "line": {
             "colorbar": {
              "outlinewidth": 0,
              "ticks": ""
             }
            },
            "type": "parcoords"
           }
          ],
          "pie": [
           {
            "automargin": true,
            "type": "pie"
           }
          ],
          "scatter": [
           {
            "fillpattern": {
             "fillmode": "overlay",
             "size": 10,
             "solidity": 0.2
            },
            "type": "scatter"
           }
          ],
          "scatter3d": [
           {
            "line": {
             "colorbar": {
              "outlinewidth": 0,
              "ticks": ""
             }
            },
            "marker": {
             "colorbar": {
              "outlinewidth": 0,
              "ticks": ""
             }
            },
            "type": "scatter3d"
           }
          ],
          "scattercarpet": [
           {
            "marker": {
             "colorbar": {
              "outlinewidth": 0,
              "ticks": ""
             }
            },
            "type": "scattercarpet"
           }
          ],
          "scattergeo": [
           {
            "marker": {
             "colorbar": {
              "outlinewidth": 0,
              "ticks": ""
             }
            },
            "type": "scattergeo"
           }
          ],
          "scattergl": [
           {
            "marker": {
             "colorbar": {
              "outlinewidth": 0,
              "ticks": ""
             }
            },
            "type": "scattergl"
           }
          ],
          "scattermapbox": [
           {
            "marker": {
             "colorbar": {
              "outlinewidth": 0,
              "ticks": ""
             }
            },
            "type": "scattermapbox"
           }
          ],
          "scatterpolar": [
           {
            "marker": {
             "colorbar": {
              "outlinewidth": 0,
              "ticks": ""
             }
            },
            "type": "scatterpolar"
           }
          ],
          "scatterpolargl": [
           {
            "marker": {
             "colorbar": {
              "outlinewidth": 0,
              "ticks": ""
             }
            },
            "type": "scatterpolargl"
           }
          ],
          "scatterternary": [
           {
            "marker": {
             "colorbar": {
              "outlinewidth": 0,
              "ticks": ""
             }
            },
            "type": "scatterternary"
           }
          ],
          "surface": [
           {
            "colorbar": {
             "outlinewidth": 0,
             "ticks": ""
            },
            "colorscale": [
             [
              0,
              "#0d0887"
             ],
             [
              0.1111111111111111,
              "#46039f"
             ],
             [
              0.2222222222222222,
              "#7201a8"
             ],
             [
              0.3333333333333333,
              "#9c179e"
             ],
             [
              0.4444444444444444,
              "#bd3786"
             ],
             [
              0.5555555555555556,
              "#d8576b"
             ],
             [
              0.6666666666666666,
              "#ed7953"
             ],
             [
              0.7777777777777778,
              "#fb9f3a"
             ],
             [
              0.8888888888888888,
              "#fdca26"
             ],
             [
              1,
              "#f0f921"
             ]
            ],
            "type": "surface"
           }
          ],
          "table": [
           {
            "cells": {
             "fill": {
              "color": "#EBF0F8"
             },
             "line": {
              "color": "white"
             }
            },
            "header": {
             "fill": {
              "color": "#C8D4E3"
             },
             "line": {
              "color": "white"
             }
            },
            "type": "table"
           }
          ]
         },
         "layout": {
          "annotationdefaults": {
           "arrowcolor": "#2a3f5f",
           "arrowhead": 0,
           "arrowwidth": 1
          },
          "autotypenumbers": "strict",
          "coloraxis": {
           "colorbar": {
            "outlinewidth": 0,
            "ticks": ""
           }
          },
          "colorscale": {
           "diverging": [
            [
             0,
             "#8e0152"
            ],
            [
             0.1,
             "#c51b7d"
            ],
            [
             0.2,
             "#de77ae"
            ],
            [
             0.3,
             "#f1b6da"
            ],
            [
             0.4,
             "#fde0ef"
            ],
            [
             0.5,
             "#f7f7f7"
            ],
            [
             0.6,
             "#e6f5d0"
            ],
            [
             0.7,
             "#b8e186"
            ],
            [
             0.8,
             "#7fbc41"
            ],
            [
             0.9,
             "#4d9221"
            ],
            [
             1,
             "#276419"
            ]
           ],
           "sequential": [
            [
             0,
             "#0d0887"
            ],
            [
             0.1111111111111111,
             "#46039f"
            ],
            [
             0.2222222222222222,
             "#7201a8"
            ],
            [
             0.3333333333333333,
             "#9c179e"
            ],
            [
             0.4444444444444444,
             "#bd3786"
            ],
            [
             0.5555555555555556,
             "#d8576b"
            ],
            [
             0.6666666666666666,
             "#ed7953"
            ],
            [
             0.7777777777777778,
             "#fb9f3a"
            ],
            [
             0.8888888888888888,
             "#fdca26"
            ],
            [
             1,
             "#f0f921"
            ]
           ],
           "sequentialminus": [
            [
             0,
             "#0d0887"
            ],
            [
             0.1111111111111111,
             "#46039f"
            ],
            [
             0.2222222222222222,
             "#7201a8"
            ],
            [
             0.3333333333333333,
             "#9c179e"
            ],
            [
             0.4444444444444444,
             "#bd3786"
            ],
            [
             0.5555555555555556,
             "#d8576b"
            ],
            [
             0.6666666666666666,
             "#ed7953"
            ],
            [
             0.7777777777777778,
             "#fb9f3a"
            ],
            [
             0.8888888888888888,
             "#fdca26"
            ],
            [
             1,
             "#f0f921"
            ]
           ]
          },
          "colorway": [
           "#636efa",
           "#EF553B",
           "#00cc96",
           "#ab63fa",
           "#FFA15A",
           "#19d3f3",
           "#FF6692",
           "#B6E880",
           "#FF97FF",
           "#FECB52"
          ],
          "font": {
           "color": "#2a3f5f"
          },
          "geo": {
           "bgcolor": "white",
           "lakecolor": "white",
           "landcolor": "#E5ECF6",
           "showlakes": true,
           "showland": true,
           "subunitcolor": "white"
          },
          "hoverlabel": {
           "align": "left"
          },
          "hovermode": "closest",
          "mapbox": {
           "style": "light"
          },
          "paper_bgcolor": "white",
          "plot_bgcolor": "#E5ECF6",
          "polar": {
           "angularaxis": {
            "gridcolor": "white",
            "linecolor": "white",
            "ticks": ""
           },
           "bgcolor": "#E5ECF6",
           "radialaxis": {
            "gridcolor": "white",
            "linecolor": "white",
            "ticks": ""
           }
          },
          "scene": {
           "xaxis": {
            "backgroundcolor": "#E5ECF6",
            "gridcolor": "white",
            "gridwidth": 2,
            "linecolor": "white",
            "showbackground": true,
            "ticks": "",
            "zerolinecolor": "white"
           },
           "yaxis": {
            "backgroundcolor": "#E5ECF6",
            "gridcolor": "white",
            "gridwidth": 2,
            "linecolor": "white",
            "showbackground": true,
            "ticks": "",
            "zerolinecolor": "white"
           },
           "zaxis": {
            "backgroundcolor": "#E5ECF6",
            "gridcolor": "white",
            "gridwidth": 2,
            "linecolor": "white",
            "showbackground": true,
            "ticks": "",
            "zerolinecolor": "white"
           }
          },
          "shapedefaults": {
           "line": {
            "color": "#2a3f5f"
           }
          },
          "ternary": {
           "aaxis": {
            "gridcolor": "white",
            "linecolor": "white",
            "ticks": ""
           },
           "baxis": {
            "gridcolor": "white",
            "linecolor": "white",
            "ticks": ""
           },
           "bgcolor": "#E5ECF6",
           "caxis": {
            "gridcolor": "white",
            "linecolor": "white",
            "ticks": ""
           }
          },
          "title": {
           "x": 0.05
          },
          "xaxis": {
           "automargin": true,
           "gridcolor": "white",
           "linecolor": "white",
           "ticks": "",
           "title": {
            "standoff": 15
           },
           "zerolinecolor": "white",
           "zerolinewidth": 2
          },
          "yaxis": {
           "automargin": true,
           "gridcolor": "white",
           "linecolor": "white",
           "ticks": "",
           "title": {
            "standoff": 15
           },
           "zerolinecolor": "white",
           "zerolinewidth": 2
          }
         }
        },
        "title": {
         "text": "Model"
        },
        "xaxis": {
         "title": {
          "text": "Date"
         }
        },
        "yaxis": {
         "title": {
          "text": "Close Price USD ($)"
         }
        }
       }
      }
     },
     "metadata": {},
     "output_type": "display_data"
    }
   ],
   "source": [
    "from plotly import graph_objs as go\n",
    "\n",
    "fig = go.Figure()\n",
    "\n",
    "fig.add_trace(go.Scatter(x=valid['date'], y=valid['Close'], mode='lines', name='Val'))\n",
    "fig.add_trace(go.Scatter(x=valid['date'], y=valid['Predictions'], mode='lines', name='Predictions'))\n",
    "\n",
    "fig.update_layout(title='Model',\n",
    "                        xaxis_title='Date',\n",
    "                        yaxis_title='Close Price USD ($)')\n",
    "fig.show()"
   ]
  },
  {
   "cell_type": "markdown",
   "metadata": {},
   "source": [
    "# Close with news"
   ]
  },
  {
   "cell_type": "code",
   "execution_count": 248,
   "metadata": {},
   "outputs": [
    {
     "name": "stderr",
     "output_type": "stream",
     "text": [
      "C:\\Users\\thari\\AppData\\Local\\Temp\\ipykernel_18516\\412406848.py:2: SettingWithCopyWarning:\n",
      "\n",
      "\n",
      "A value is trying to be set on a copy of a slice from a DataFrame.\n",
      "Try using .loc[row_indexer,col_indexer] = value instead\n",
      "\n",
      "See the caveats in the documentation: https://pandas.pydata.org/pandas-docs/stable/user_guide/indexing.html#returning-a-view-versus-a-copy\n",
      "\n"
     ]
    },
    {
     "data": {
      "text/html": [
       "<div>\n",
       "<style scoped>\n",
       "    .dataframe tbody tr th:only-of-type {\n",
       "        vertical-align: middle;\n",
       "    }\n",
       "\n",
       "    .dataframe tbody tr th {\n",
       "        vertical-align: top;\n",
       "    }\n",
       "\n",
       "    .dataframe thead th {\n",
       "        text-align: right;\n",
       "    }\n",
       "</style>\n",
       "<table border=\"1\" class=\"dataframe\">\n",
       "  <thead>\n",
       "    <tr style=\"text-align: right;\">\n",
       "      <th></th>\n",
       "      <th>Close</th>\n",
       "    </tr>\n",
       "    <tr>\n",
       "      <th>date</th>\n",
       "      <th></th>\n",
       "    </tr>\n",
       "  </thead>\n",
       "  <tbody>\n",
       "    <tr>\n",
       "      <th>2019-12-17</th>\n",
       "      <td>3331.536621</td>\n",
       "    </tr>\n",
       "    <tr>\n",
       "      <th>2019-12-18</th>\n",
       "      <td>3385.620117</td>\n",
       "    </tr>\n",
       "    <tr>\n",
       "      <th>2019-12-19</th>\n",
       "      <td>3385.620117</td>\n",
       "    </tr>\n",
       "    <tr>\n",
       "      <th>2019-12-20</th>\n",
       "      <td>3374.803711</td>\n",
       "    </tr>\n",
       "    <tr>\n",
       "      <th>2019-12-23</th>\n",
       "      <td>3428.886963</td>\n",
       "    </tr>\n",
       "    <tr>\n",
       "      <th>...</th>\n",
       "      <td>...</td>\n",
       "    </tr>\n",
       "    <tr>\n",
       "      <th>2024-11-14</th>\n",
       "      <td>4950.000000</td>\n",
       "    </tr>\n",
       "    <tr>\n",
       "      <th>2024-11-15</th>\n",
       "      <td>4910.000000</td>\n",
       "    </tr>\n",
       "    <tr>\n",
       "      <th>2024-11-18</th>\n",
       "      <td>4870.000000</td>\n",
       "    </tr>\n",
       "    <tr>\n",
       "      <th>2024-11-19</th>\n",
       "      <td>4850.000000</td>\n",
       "    </tr>\n",
       "    <tr>\n",
       "      <th>2024-11-20</th>\n",
       "      <td>4850.000000</td>\n",
       "    </tr>\n",
       "  </tbody>\n",
       "</table>\n",
       "<p>1194 rows × 1 columns</p>\n",
       "</div>"
      ],
      "text/plain": [
       "                  Close\n",
       "date                   \n",
       "2019-12-17  3331.536621\n",
       "2019-12-18  3385.620117\n",
       "2019-12-19  3385.620117\n",
       "2019-12-20  3374.803711\n",
       "2019-12-23  3428.886963\n",
       "...                 ...\n",
       "2024-11-14  4950.000000\n",
       "2024-11-15  4910.000000\n",
       "2024-11-18  4870.000000\n",
       "2024-11-19  4850.000000\n",
       "2024-11-20  4850.000000\n",
       "\n",
       "[1194 rows x 1 columns]"
      ]
     },
     "execution_count": 248,
     "metadata": {},
     "output_type": "execute_result"
    }
   ],
   "source": [
    "dataUsed = data[['Close', 'date']]\n",
    "dataUsed['date'] = pd.to_datetime(dataUsed['date'])\n",
    "\n",
    "dataUsed = dataUsed.set_index('date')\n",
    "\n",
    "dataUsed"
   ]
  },
  {
   "cell_type": "code",
   "execution_count": 247,
   "metadata": {},
   "outputs": [
    {
     "data": {
      "text/html": [
       "<div>\n",
       "<style scoped>\n",
       "    .dataframe tbody tr th:only-of-type {\n",
       "        vertical-align: middle;\n",
       "    }\n",
       "\n",
       "    .dataframe tbody tr th {\n",
       "        vertical-align: top;\n",
       "    }\n",
       "\n",
       "    .dataframe thead th {\n",
       "        text-align: right;\n",
       "    }\n",
       "</style>\n",
       "<table border=\"1\" class=\"dataframe\">\n",
       "  <thead>\n",
       "    <tr style=\"text-align: right;\">\n",
       "      <th></th>\n",
       "      <th>sentiment</th>\n",
       "      <th>title</th>\n",
       "    </tr>\n",
       "    <tr>\n",
       "      <th>date</th>\n",
       "      <th></th>\n",
       "      <th></th>\n",
       "    </tr>\n",
       "  </thead>\n",
       "  <tbody>\n",
       "    <tr>\n",
       "      <th>2024-11-11 12:45:00</th>\n",
       "      <td>NEGATIVE</td>\n",
       "      <td>Berapa Harga Saham BBCA Ha...</td>\n",
       "    </tr>\n",
       "    <tr>\n",
       "      <th>2024-11-08 15:15:00</th>\n",
       "      <td>NEGATIVE</td>\n",
       "      <td>Dua Mata Pisau Penghapusan...</td>\n",
       "    </tr>\n",
       "    <tr>\n",
       "      <th>2024-11-06 13:44:00</th>\n",
       "      <td>NEGATIVE</td>\n",
       "      <td>Prabowo Hapus Utang UMKM, ...</td>\n",
       "    </tr>\n",
       "    <tr>\n",
       "      <th>2024-11-05 08:13:00</th>\n",
       "      <td>POSITIVE</td>\n",
       "      <td>IHSG Hari Ini Diramal Berg...</td>\n",
       "    </tr>\n",
       "    <tr>\n",
       "      <th>2024-10-29 08:30:00</th>\n",
       "      <td>POSITIVE</td>\n",
       "      <td>Masuk Daftar 45 Saham Pre-...</td>\n",
       "    </tr>\n",
       "    <tr>\n",
       "      <th>...</th>\n",
       "      <td>...</td>\n",
       "      <td>...</td>\n",
       "    </tr>\n",
       "    <tr>\n",
       "      <th>2020-03-10 15:05:00</th>\n",
       "      <td>POSITIVE</td>\n",
       "      <td>Mampukah Buyback 12 BUMN R...</td>\n",
       "    </tr>\n",
       "    <tr>\n",
       "      <th>2020-03-10 11:18:00</th>\n",
       "      <td>NEGATIVE</td>\n",
       "      <td>Alasan 12 BUMN Buyback Sah...</td>\n",
       "    </tr>\n",
       "    <tr>\n",
       "      <th>2020-03-10 10:45:00</th>\n",
       "      <td>POSITIVE</td>\n",
       "      <td>12 BUMN Siap Buyback Saham...</td>\n",
       "    </tr>\n",
       "    <tr>\n",
       "      <th>2020-02-21 08:52:00</th>\n",
       "      <td>NEGATIVE</td>\n",
       "      <td>IHSG Diperkirakan Melemah ...</td>\n",
       "    </tr>\n",
       "    <tr>\n",
       "      <th>2020-01-22 22:00:00</th>\n",
       "      <td>POSITIVE</td>\n",
       "      <td>Rencana BNI 2020: Caplok B...</td>\n",
       "    </tr>\n",
       "  </tbody>\n",
       "</table>\n",
       "<p>240 rows × 2 columns</p>\n",
       "</div>"
      ],
      "text/plain": [
       "                    sentiment                          title\n",
       "date                                                        \n",
       "2024-11-11 12:45:00  NEGATIVE  Berapa Harga Saham BBCA Ha...\n",
       "2024-11-08 15:15:00  NEGATIVE  Dua Mata Pisau Penghapusan...\n",
       "2024-11-06 13:44:00  NEGATIVE  Prabowo Hapus Utang UMKM, ...\n",
       "2024-11-05 08:13:00  POSITIVE  IHSG Hari Ini Diramal Berg...\n",
       "2024-10-29 08:30:00  POSITIVE  Masuk Daftar 45 Saham Pre-...\n",
       "...                       ...                            ...\n",
       "2020-03-10 15:05:00  POSITIVE  Mampukah Buyback 12 BUMN R...\n",
       "2020-03-10 11:18:00  NEGATIVE  Alasan 12 BUMN Buyback Sah...\n",
       "2020-03-10 10:45:00  POSITIVE  12 BUMN Siap Buyback Saham...\n",
       "2020-02-21 08:52:00  NEGATIVE  IHSG Diperkirakan Melemah ...\n",
       "2020-01-22 22:00:00  POSITIVE  Rencana BNI 2020: Caplok B...\n",
       "\n",
       "[240 rows x 2 columns]"
      ]
     },
     "execution_count": 247,
     "metadata": {},
     "output_type": "execute_result"
    }
   ],
   "source": [
    "news = pd.read_csv('Data/bbni sentiment analysis.csv')\n",
    "# delete columns except date and sentiment and title\n",
    "news = news[['publish_date', 'sentiment', 'title']]\n",
    "news = news.rename(columns={'publish_date': 'date'})\n",
    "news['date'] = pd.to_datetime(news['date'])\n",
    "news = news.set_index('date')\n",
    "\n",
    "# hanya gunakan data diatas tanggal 2019-12-17\n",
    "\n",
    "news = news[news.index >= '2019-12-17']\n",
    "\n",
    "news"
   ]
  },
  {
   "cell_type": "code",
   "execution_count": 252,
   "metadata": {},
   "outputs": [],
   "source": [
    "news.index = news.index.normalize()\n",
    "news = news.groupby(news.index).first()\n"
   ]
  },
  {
   "cell_type": "code",
   "execution_count": 253,
   "metadata": {},
   "outputs": [
    {
     "data": {
      "text/html": [
       "<div>\n",
       "<style scoped>\n",
       "    .dataframe tbody tr th:only-of-type {\n",
       "        vertical-align: middle;\n",
       "    }\n",
       "\n",
       "    .dataframe tbody tr th {\n",
       "        vertical-align: top;\n",
       "    }\n",
       "\n",
       "    .dataframe thead th {\n",
       "        text-align: right;\n",
       "    }\n",
       "</style>\n",
       "<table border=\"1\" class=\"dataframe\">\n",
       "  <thead>\n",
       "    <tr style=\"text-align: right;\">\n",
       "      <th></th>\n",
       "      <th>Close</th>\n",
       "      <th>sentiment</th>\n",
       "      <th>title</th>\n",
       "    </tr>\n",
       "    <tr>\n",
       "      <th>date</th>\n",
       "      <th></th>\n",
       "      <th></th>\n",
       "      <th></th>\n",
       "    </tr>\n",
       "  </thead>\n",
       "  <tbody>\n",
       "    <tr>\n",
       "      <th>2019-12-17</th>\n",
       "      <td>3331.536621</td>\n",
       "      <td>NaN</td>\n",
       "      <td>NaN</td>\n",
       "    </tr>\n",
       "    <tr>\n",
       "      <th>2019-12-18</th>\n",
       "      <td>3385.620117</td>\n",
       "      <td>NaN</td>\n",
       "      <td>NaN</td>\n",
       "    </tr>\n",
       "    <tr>\n",
       "      <th>2019-12-19</th>\n",
       "      <td>3385.620117</td>\n",
       "      <td>NaN</td>\n",
       "      <td>NaN</td>\n",
       "    </tr>\n",
       "    <tr>\n",
       "      <th>2019-12-20</th>\n",
       "      <td>3374.803711</td>\n",
       "      <td>NaN</td>\n",
       "      <td>NaN</td>\n",
       "    </tr>\n",
       "    <tr>\n",
       "      <th>2019-12-23</th>\n",
       "      <td>3428.886963</td>\n",
       "      <td>NaN</td>\n",
       "      <td>NaN</td>\n",
       "    </tr>\n",
       "    <tr>\n",
       "      <th>...</th>\n",
       "      <td>...</td>\n",
       "      <td>...</td>\n",
       "      <td>...</td>\n",
       "    </tr>\n",
       "    <tr>\n",
       "      <th>2024-11-14</th>\n",
       "      <td>4950.000000</td>\n",
       "      <td>NaN</td>\n",
       "      <td>NaN</td>\n",
       "    </tr>\n",
       "    <tr>\n",
       "      <th>2024-11-15</th>\n",
       "      <td>4910.000000</td>\n",
       "      <td>NaN</td>\n",
       "      <td>NaN</td>\n",
       "    </tr>\n",
       "    <tr>\n",
       "      <th>2024-11-18</th>\n",
       "      <td>4870.000000</td>\n",
       "      <td>NaN</td>\n",
       "      <td>NaN</td>\n",
       "    </tr>\n",
       "    <tr>\n",
       "      <th>2024-11-19</th>\n",
       "      <td>4850.000000</td>\n",
       "      <td>NaN</td>\n",
       "      <td>NaN</td>\n",
       "    </tr>\n",
       "    <tr>\n",
       "      <th>2024-11-20</th>\n",
       "      <td>4850.000000</td>\n",
       "      <td>NaN</td>\n",
       "      <td>NaN</td>\n",
       "    </tr>\n",
       "  </tbody>\n",
       "</table>\n",
       "<p>1194 rows × 3 columns</p>\n",
       "</div>"
      ],
      "text/plain": [
       "                  Close sentiment title\n",
       "date                                   \n",
       "2019-12-17  3331.536621       NaN   NaN\n",
       "2019-12-18  3385.620117       NaN   NaN\n",
       "2019-12-19  3385.620117       NaN   NaN\n",
       "2019-12-20  3374.803711       NaN   NaN\n",
       "2019-12-23  3428.886963       NaN   NaN\n",
       "...                 ...       ...   ...\n",
       "2024-11-14  4950.000000       NaN   NaN\n",
       "2024-11-15  4910.000000       NaN   NaN\n",
       "2024-11-18  4870.000000       NaN   NaN\n",
       "2024-11-19  4850.000000       NaN   NaN\n",
       "2024-11-20  4850.000000       NaN   NaN\n",
       "\n",
       "[1194 rows x 3 columns]"
      ]
     },
     "execution_count": 253,
     "metadata": {},
     "output_type": "execute_result"
    }
   ],
   "source": [
    "# Pastikan data terurut berdasarkan index\n",
    "news.index = news.index.normalize()\n",
    "\n",
    "# Merge DataFrame berdasarkan index\n",
    "dfMerge = dataUsed.merge(news, how='left', left_index=True, right_index=True)\n",
    "\n",
    "dfMerge"
   ]
  },
  {
   "cell_type": "code",
   "execution_count": 254,
   "metadata": {},
   "outputs": [
    {
     "data": {
      "text/html": [
       "<div>\n",
       "<style scoped>\n",
       "    .dataframe tbody tr th:only-of-type {\n",
       "        vertical-align: middle;\n",
       "    }\n",
       "\n",
       "    .dataframe tbody tr th {\n",
       "        vertical-align: top;\n",
       "    }\n",
       "\n",
       "    .dataframe thead th {\n",
       "        text-align: right;\n",
       "    }\n",
       "</style>\n",
       "<table border=\"1\" class=\"dataframe\">\n",
       "  <thead>\n",
       "    <tr style=\"text-align: right;\">\n",
       "      <th></th>\n",
       "      <th>sentiment</th>\n",
       "      <th>title</th>\n",
       "    </tr>\n",
       "    <tr>\n",
       "      <th>date</th>\n",
       "      <th></th>\n",
       "      <th></th>\n",
       "    </tr>\n",
       "  </thead>\n",
       "  <tbody>\n",
       "    <tr>\n",
       "      <th>2020-09-27</th>\n",
       "      <td>POSITIVE</td>\n",
       "      <td>Mau Cuan Minggu Depan? Cek...</td>\n",
       "    </tr>\n",
       "    <tr>\n",
       "      <th>2021-04-04</th>\n",
       "      <td>POSITIVE</td>\n",
       "      <td>Intip Laba Bersih 10 Bank ...</td>\n",
       "    </tr>\n",
       "    <tr>\n",
       "      <th>2021-04-25</th>\n",
       "      <td>NEGATIVE</td>\n",
       "      <td>AEON Mall Sentul City Diju...</td>\n",
       "    </tr>\n",
       "    <tr>\n",
       "      <th>2021-10-17</th>\n",
       "      <td>POSITIVE</td>\n",
       "      <td>Asal Muasal Rumor BNI Akui...</td>\n",
       "    </tr>\n",
       "    <tr>\n",
       "      <th>2021-10-31</th>\n",
       "      <td>POSITIVE</td>\n",
       "      <td>BNI Gandeng fishOn Dorong ...</td>\n",
       "    </tr>\n",
       "    <tr>\n",
       "      <th>...</th>\n",
       "      <td>...</td>\n",
       "      <td>...</td>\n",
       "    </tr>\n",
       "    <tr>\n",
       "      <th>2023-11-05</th>\n",
       "      <td>POSITIVE</td>\n",
       "      <td>Buktikan Kinerja Positif, ...</td>\n",
       "    </tr>\n",
       "    <tr>\n",
       "      <th>2023-12-03</th>\n",
       "      <td>NEGATIVE</td>\n",
       "      <td>Emiten Saham di Lingkaran ...</td>\n",
       "    </tr>\n",
       "    <tr>\n",
       "      <th>2024-02-17</th>\n",
       "      <td>POSITIVE</td>\n",
       "      <td>Kinerja Saham BBNI Kian Me...</td>\n",
       "    </tr>\n",
       "    <tr>\n",
       "      <th>2024-04-20</th>\n",
       "      <td>NEGATIVE</td>\n",
       "      <td>Konflik Israel-Iran Memana...</td>\n",
       "    </tr>\n",
       "    <tr>\n",
       "      <th>2024-08-03</th>\n",
       "      <td>POSITIVE</td>\n",
       "      <td>BNI Ajak Masyarakat Berinv...</td>\n",
       "    </tr>\n",
       "  </tbody>\n",
       "</table>\n",
       "<p>28 rows × 2 columns</p>\n",
       "</div>"
      ],
      "text/plain": [
       "           sentiment                          title\n",
       "date                                               \n",
       "2020-09-27  POSITIVE  Mau Cuan Minggu Depan? Cek...\n",
       "2021-04-04  POSITIVE  Intip Laba Bersih 10 Bank ...\n",
       "2021-04-25  NEGATIVE  AEON Mall Sentul City Diju...\n",
       "2021-10-17  POSITIVE  Asal Muasal Rumor BNI Akui...\n",
       "2021-10-31  POSITIVE  BNI Gandeng fishOn Dorong ...\n",
       "...              ...                            ...\n",
       "2023-11-05  POSITIVE  Buktikan Kinerja Positif, ...\n",
       "2023-12-03  NEGATIVE  Emiten Saham di Lingkaran ...\n",
       "2024-02-17  POSITIVE  Kinerja Saham BBNI Kian Me...\n",
       "2024-04-20  NEGATIVE  Konflik Israel-Iran Memana...\n",
       "2024-08-03  POSITIVE  BNI Ajak Masyarakat Berinv...\n",
       "\n",
       "[28 rows x 2 columns]"
      ]
     },
     "execution_count": 254,
     "metadata": {},
     "output_type": "execute_result"
    }
   ],
   "source": [
    "# cari data title yang ada di news dan tidak ada di dfMerge\n",
    "\n",
    "news[~news.index.isin(dfMerge.index)]\n",
    "\n",
    "# cari tanggal terdekat yang ada di dfMerge berdasar data yang ada di news dan tidak ada di dfMerge"
   ]
  },
  {
   "cell_type": "code",
   "execution_count": 255,
   "metadata": {},
   "outputs": [
    {
     "name": "stdout",
     "output_type": "stream",
     "text": [
      "                  Close sentiment title\n",
      "2019-12-17  3331.536621       NaN   NaN\n",
      "2019-12-18  3385.620117       NaN   NaN\n",
      "2019-12-19  3385.620117       NaN   NaN\n",
      "2019-12-20  3374.803711       NaN   NaN\n",
      "2019-12-23  3428.886963       NaN   NaN\n",
      "...                 ...       ...   ...\n",
      "2024-11-14  4950.000000       NaN   NaN\n",
      "2024-11-15  4910.000000       NaN   NaN\n",
      "2024-11-18  4870.000000       NaN   NaN\n",
      "2024-11-19  4850.000000       NaN   NaN\n",
      "2024-11-20  4850.000000       NaN   NaN\n",
      "\n",
      "[1201 rows x 3 columns]\n"
     ]
    },
    {
     "data": {
      "text/plain": [
       "sentiment\n",
       "POSITIVE    149\n",
       "NEGATIVE     51\n",
       "Name: count, dtype: int64"
      ]
     },
     "execution_count": 255,
     "metadata": {},
     "output_type": "execute_result"
    }
   ],
   "source": [
    "# Pastikan data terurut berdasarkan index\n",
    "dataUsed = dataUsed.sort_index()\n",
    "news = news.sort_index()\n",
    "\n",
    "# Buat kolom tambahan untuk mencatat tanggal pertama di dataUsed setelah berita\n",
    "news['nearest_date'] = dataUsed.index.searchsorted(news.index, side='right')\n",
    "news['nearest_date'] = news['nearest_date'].map(lambda x: dataUsed.index[x] if x < len(dataUsed.index) else None)\n",
    "\n",
    "# Gabungkan dataUsed dengan berita berdasarkan nearest_date\n",
    "news_mapped = news.dropna(subset=['nearest_date']).set_index('nearest_date')\n",
    "dfMerge = dataUsed.merge(news_mapped, how='left', left_index=True, right_index=True)\n",
    "\n",
    "# Tampilkan hasil\n",
    "print(dfMerge)\n",
    "dfMerge['sentiment'].value_counts()\n"
   ]
  },
  {
   "cell_type": "code",
   "execution_count": 256,
   "metadata": {},
   "outputs": [
    {
     "name": "stdout",
     "output_type": "stream",
     "text": [
      "Empty DataFrame\n",
      "Columns: [sentiment, title, nearest_date]\n",
      "Index: []\n"
     ]
    },
    {
     "data": {
      "text/plain": [
       "sentiment\n",
       "POSITIVE    149\n",
       "NEGATIVE     51\n",
       "Name: count, dtype: int64"
      ]
     },
     "execution_count": 256,
     "metadata": {},
     "output_type": "execute_result"
    }
   ],
   "source": [
    "# Pastikan kolom 'title' di dfMerge tidak memiliki NaN untuk perbandingan\n",
    "dfMerge_titles = dfMerge['title'].dropna()\n",
    "\n",
    "# Filter berita di news yang tidak ada di dfMerge berdasarkan 'title'\n",
    "missing_news = news[~news['title'].isin(dfMerge_titles)]\n",
    "\n",
    "# Tampilkan hasil\n",
    "print(missing_news)\n",
    "\n",
    "dfMerge['sentiment'].value_counts()\n"
   ]
  },
  {
   "cell_type": "code",
   "execution_count": 257,
   "metadata": {},
   "outputs": [
    {
     "name": "stdout",
     "output_type": "stream",
     "text": [
      "[nan 'POSITIVE' 'NEGATIVE']\n",
      "[ 0.  1. -1.]\n"
     ]
    },
    {
     "data": {
      "text/plain": [
       "sentiment\n",
       " 0.0    1001\n",
       " 1.0     149\n",
       "-1.0      51\n",
       "Name: count, dtype: int64"
      ]
     },
     "execution_count": 257,
     "metadata": {},
     "output_type": "execute_result"
    }
   ],
   "source": [
    "print(dfMerge['sentiment'].unique())\n",
    "\n",
    "dfMerge['sentiment'] = dfMerge['sentiment'].map({'POSITIVE': 1, 'NEGATIVE': -1}).fillna(0)\n",
    "\n",
    "print(dfMerge['sentiment'].unique())\n",
    "\n",
    "dfMerge['sentiment'].value_counts()"
   ]
  },
  {
   "cell_type": "code",
   "execution_count": 260,
   "metadata": {},
   "outputs": [
    {
     "data": {
      "text/plain": [
       "array([[0.42342612, 0.5       ],\n",
       "       [0.43533507, 0.5       ],\n",
       "       [0.43533507, 0.5       ],\n",
       "       ...,\n",
       "       [0.76218885, 0.5       ],\n",
       "       [0.75778494, 0.5       ],\n",
       "       [0.75778494, 0.5       ]])"
      ]
     },
     "execution_count": 260,
     "metadata": {},
     "output_type": "execute_result"
    }
   ],
   "source": [
    "# Contoh data sentimen\n",
    "sentiment_data = dfMerge.filter(['sentiment']).values  # Pastikan ada kolom 'Sentiment'\n",
    "\n",
    "# Normalisasi data sentimen\n",
    "scaled_sentiment = scaler.fit_transform(sentiment_data)\n",
    "\n",
    "scaled_data = dfMerge.filter(['Close']).values\n",
    "\n",
    "# Normalisasi data harga\n",
    "scaled_data = scaler.fit_transform(scaled_data)\n",
    "\n",
    "# Gabungkan harga (Close) dan sentimen\n",
    "scaled_combined_data = np.hstack((scaled_data, scaled_sentiment))\n",
    "\n",
    "scaled_combined_data\n"
   ]
  },
  {
   "cell_type": "code",
   "execution_count": 261,
   "metadata": {},
   "outputs": [
    {
     "name": "stdout",
     "output_type": "stream",
     "text": [
      "x_train shape: (896, 60, 2)\n"
     ]
    }
   ],
   "source": [
    "train_data = scaled_combined_data[0:int(training_data_len), :]\n",
    "\n",
    "x_train = []\n",
    "y_train = []\n",
    "\n",
    "for i in range(60, len(train_data)):\n",
    "    x_train.append(train_data[i-60:i, :])  # Tambahkan semua fitur\n",
    "    y_train.append(train_data[i, 0])  # Target tetap 'Close'\n",
    "\n",
    "x_train, y_train = np.array(x_train), np.array(y_train)\n",
    "\n",
    "print(f\"x_train shape: {x_train.shape}\")  # Periksa shape-nya\n",
    "# Reshape input ke bentuk yang dimengerti oleh LSTM\n",
    "# Sekarang menjadi (samples, timesteps, features)\n"
   ]
  },
  {
   "cell_type": "code",
   "execution_count": 300,
   "metadata": {},
   "outputs": [
    {
     "name": "stdout",
     "output_type": "stream",
     "text": [
      "Epoch 1/20\n",
      "180/180 [==============================] - 6s 18ms/step - loss: 0.0043\n",
      "Epoch 2/20\n",
      "180/180 [==============================] - 4s 20ms/step - loss: 0.0013\n",
      "Epoch 3/20\n",
      "180/180 [==============================] - 4s 22ms/step - loss: 8.5590e-04\n",
      "Epoch 4/20\n",
      "180/180 [==============================] - 4s 22ms/step - loss: 8.4813e-04\n",
      "Epoch 5/20\n",
      "180/180 [==============================] - 4s 20ms/step - loss: 7.2384e-04\n",
      "Epoch 6/20\n",
      "180/180 [==============================] - 3s 19ms/step - loss: 6.4999e-04\n",
      "Epoch 7/20\n",
      "180/180 [==============================] - 3s 18ms/step - loss: 5.4350e-04\n",
      "Epoch 8/20\n",
      "180/180 [==============================] - 3s 18ms/step - loss: 5.1207e-04\n",
      "Epoch 9/20\n",
      "180/180 [==============================] - 3s 18ms/step - loss: 4.4848e-04\n",
      "Epoch 10/20\n",
      "180/180 [==============================] - 3s 18ms/step - loss: 5.0999e-04\n",
      "Epoch 11/20\n",
      "180/180 [==============================] - 3s 18ms/step - loss: 5.1660e-04\n",
      "Epoch 12/20\n",
      "180/180 [==============================] - 3s 18ms/step - loss: 4.2448e-04\n",
      "Epoch 13/20\n",
      "180/180 [==============================] - 3s 18ms/step - loss: 3.5249e-04\n",
      "Epoch 14/20\n",
      "180/180 [==============================] - 3s 18ms/step - loss: 4.1563e-04\n",
      "Epoch 15/20\n",
      "180/180 [==============================] - 3s 18ms/step - loss: 3.4572e-04\n",
      "Epoch 16/20\n",
      "180/180 [==============================] - 3s 18ms/step - loss: 4.1320e-04\n",
      "Epoch 17/20\n",
      "180/180 [==============================] - 3s 18ms/step - loss: 3.4901e-04\n",
      "Epoch 18/20\n",
      "180/180 [==============================] - 3s 18ms/step - loss: 3.5274e-04\n",
      "Epoch 19/20\n",
      "180/180 [==============================] - 3s 19ms/step - loss: 3.8408e-04\n",
      "Epoch 20/20\n",
      "180/180 [==============================] - 3s 19ms/step - loss: 3.0235e-04\n"
     ]
    },
    {
     "data": {
      "text/plain": [
       "<keras.src.callbacks.History at 0x1ecadcd79d0>"
      ]
     },
     "execution_count": 300,
     "metadata": {},
     "output_type": "execute_result"
    }
   ],
   "source": [
    "model = Sequential()\n",
    "model.add(LSTM(128, return_sequences=True, input_shape=(x_train.shape[1], x_train.shape[2])))  # Sesuaikan fitur\n",
    "model.add(LSTM(64, return_sequences=False))\n",
    "model.add(Dense(25))\n",
    "model.add(Dense(1))\n",
    "\n",
    "model.compile(optimizer='adam', loss='mean_squared_error')\n",
    "model.fit(x_train, y_train, batch_size=5, epochs=20)\n"
   ]
  },
  {
   "cell_type": "code",
   "execution_count": 301,
   "metadata": {},
   "outputs": [
    {
     "name": "stdout",
     "output_type": "stream",
     "text": [
      "8/8 [==============================] - 1s 13ms/step\n"
     ]
    }
   ],
   "source": [
    "test_data = scaled_combined_data[training_data_len - 60:, :]\n",
    "\n",
    "x_test = []\n",
    "y_test = dataset[training_data_len:, :]\n",
    "for i in range(60, len(test_data)):\n",
    "    x_test.append(test_data[i-60:i, :])  # Tambahkan semua fitur\n",
    "\n",
    "x_test = np.array(x_test)\n",
    "\n",
    "# Reshape data uji\n",
    "x_test = np.reshape(x_test, (x_test.shape[0], x_test.shape[1], x_test.shape[2]))\n",
    "\n",
    "predictions = model.predict(x_test)\n",
    "predictions = scaler.inverse_transform(predictions)\n"
   ]
  },
  {
   "cell_type": "code",
   "execution_count": 302,
   "metadata": {},
   "outputs": [
    {
     "name": "stdout",
     "output_type": "stream",
     "text": [
      "RMSE:  109.3746269372025\n",
      "MAE:  99.20891462053571\n"
     ]
    }
   ],
   "source": [
    "from sklearn.metrics import mean_squared_error, mean_absolute_error\n",
    "\n",
    "# jumlah data prediction - jumlah data y_test\n",
    "start = len(predictions) - len(y_test)\n",
    "\n",
    "predictions = predictions[start:]\n",
    "\n",
    "# Hitung metrik evaluasi\n",
    "rmse = np.sqrt(mean_squared_error(y_test, predictions))\n",
    "mae = mean_absolute_error(y_test, predictions)\n",
    "\n",
    "print(\"RMSE: \", rmse)\n",
    "print(\"MAE: \", mae)\n"
   ]
  },
  {
   "cell_type": "code",
   "execution_count": 303,
   "metadata": {},
   "outputs": [
    {
     "name": "stderr",
     "output_type": "stream",
     "text": [
      "C:\\Users\\thari\\AppData\\Local\\Temp\\ipykernel_18516\\3756074682.py:3: SettingWithCopyWarning:\n",
      "\n",
      "\n",
      "A value is trying to be set on a copy of a slice from a DataFrame.\n",
      "Try using .loc[row_indexer,col_indexer] = value instead\n",
      "\n",
      "See the caveats in the documentation: https://pandas.pydata.org/pandas-docs/stable/user_guide/indexing.html#returning-a-view-versus-a-copy\n",
      "\n"
     ]
    },
    {
     "data": {
      "image/png": "[encoded data removed]",
      "text/plain": [
       "<Figure size 1600x800 with 1 Axes>"
      ]
     },
     "metadata": {},
     "output_type": "display_data"
    }
   ],
   "source": [
    "train = data[:training_data_len]\n",
    "valid = data[training_data_len:]\n",
    "valid['Predictions'] = predictions\n",
    "\n",
    "plt.figure(figsize=(16,8))\n",
    "plt.title('Model')\n",
    "plt.xlabel('Date')\n",
    "plt.ylabel('Close Price USD ($)')\n",
    "plt.plot(train['Close'])\n",
    "plt.plot(valid[['Close', 'Predictions']])\n",
    "plt.legend(['Train', 'Val', 'Predictions'], loc='lower right')\n",
    "plt.show()"
   ]
  },
  {
   "cell_type": "code",
   "execution_count": 304,
   "metadata": {},
   "outputs": [
    {
     "data": {
      "application/vnd.plotly.v1+json": {
       "config": {
        "plotlyServerURL": "https://plot.ly"
       },
       "data": [
        {
         "mode": "lines",
         "name": "Val",
         "type": "scatter",
         "x": [
          "2023-11-22T00:00:00",
          "2023-11-23T00:00:00",
          "2023-11-24T00:00:00",
          "2023-11-27T00:00:00",
          "2023-11-28T00:00:00",
          "2023-11-29T00:00:00",
          "2023-11-30T00:00:00",
          "2023-12-01T00:00:00",
          "2023-12-04T00:00:00",
          "2023-12-05T00:00:00",
          "2023-12-06T00:00:00",
          "2023-12-07T00:00:00",
          "2023-12-08T00:00:00",
          "2023-12-11T00:00:00",
          "2023-12-12T00:00:00",
          "2023-12-13T00:00:00",
          "2023-12-14T00:00:00",
          "2023-12-15T00:00:00",
          "2023-12-18T00:00:00",
          "2023-12-19T00:00:00",
          "2023-12-20T00:00:00",
          "2023-12-21T00:00:00",
          "2023-12-22T00:00:00",
          "2023-12-27T00:00:00",
          "2023-12-28T00:00:00",
          "2023-12-29T00:00:00",
          "2024-01-02T00:00:00",
          "2024-01-03T00:00:00",
          "2024-01-04T00:00:00",
          "2024-01-05T00:00:00",
          "2024-01-08T00:00:00",
          "2024-01-09T00:00:00",
          "2024-01-10T00:00:00",
          "2024-01-11T00:00:00",
          "2024-01-12T00:00:00",
          "2024-01-15T00:00:00",
          "2024-01-16T00:00:00",
          "2024-01-17T00:00:00",
          "2024-01-18T00:00:00",
          "2024-01-19T00:00:00",
          "2024-01-22T00:00:00",
          "2024-01-23T00:00:00",
          "2024-01-24T00:00:00",
          "2024-01-25T00:00:00",
          "2024-01-26T00:00:00",
          "2024-01-29T00:00:00",
          "2024-01-30T00:00:00",
          "2024-01-31T00:00:00",
          "2024-02-01T00:00:00",
          "2024-02-02T00:00:00",
          "2024-02-05T00:00:00",
          "2024-02-06T00:00:00",
          "2024-02-07T00:00:00",
          "2024-02-12T00:00:00",
          "2024-02-13T00:00:00",
          "2024-02-15T00:00:00",
          "2024-02-16T00:00:00",
          "2024-02-19T00:00:00",
          "2024-02-20T00:00:00",
          "2024-02-21T00:00:00",
          "2024-02-22T00:00:00",
          "2024-02-23T00:00:00",
          "2024-02-26T00:00:00",
          "2024-02-27T00:00:00",
          "2024-02-28T00:00:00",
          "2024-02-29T00:00:00",
          "2024-03-01T00:00:00",
          "2024-03-04T00:00:00",
          "2024-03-05T00:00:00",
          "2024-03-06T00:00:00",
          "2024-03-07T00:00:00",
          "2024-03-08T00:00:00",
          "2024-03-13T00:00:00",
          "2024-03-14T00:00:00",
          "2024-03-15T00:00:00",
          "2024-03-18T00:00:00",
          "2024-03-19T00:00:00",
          "2024-03-20T00:00:00",
          "2024-03-21T00:00:00",
          "2024-03-22T00:00:00",
          "2024-03-25T00:00:00",
          "2024-03-26T00:00:00",
          "2024-03-27T00:00:00",
          "2024-03-28T00:00:00",
          "2024-04-01T00:00:00",
          "2024-04-02T00:00:00",
          "2024-04-03T00:00:00",
          "2024-04-04T00:00:00",
          "2024-04-05T00:00:00",
          "2024-04-16T00:00:00",
          "2024-04-17T00:00:00",
          "2024-04-18T00:00:00",
          "2024-04-19T00:00:00",
          "2024-04-22T00:00:00",
          "2024-04-23T00:00:00",
          "2024-04-24T00:00:00",
          "2024-04-25T00:00:00",
          "2024-04-26T00:00:00",
          "2024-04-29T00:00:00",
          "2024-04-30T00:00:00",
          "2024-05-02T00:00:00",
          "2024-05-03T00:00:00",
          "2024-05-06T00:00:00",
          "2024-05-07T00:00:00",
          "2024-05-08T00:00:00",
          "2024-05-13T00:00:00",
          "2024-05-14T00:00:00",
          "2024-05-15T00:00:00",
          "2024-05-16T00:00:00",
          "2024-05-17T00:00:00",
          "2024-05-20T00:00:00",
          "2024-05-21T00:00:00",
          "2024-05-22T00:00:00",
          "2024-05-27T00:00:00",
          "2024-05-28T00:00:00",
          "2024-05-29T00:00:00",
          "2024-05-30T00:00:00",
          "2024-05-31T00:00:00",
          "2024-06-03T00:00:00",
          "2024-06-04T00:00:00",
          "2024-06-05T00:00:00",
          "2024-06-06T00:00:00",
          "2024-06-07T00:00:00",
          "2024-06-10T00:00:00",
          "2024-06-11T00:00:00",
          "2024-06-12T00:00:00",
          "2024-06-13T00:00:00",
          "2024-06-14T00:00:00",
          "2024-06-19T00:00:00",
          "2024-06-20T00:00:00",
          "2024-06-21T00:00:00",
          "2024-06-24T00:00:00",
          "2024-06-25T00:00:00",
          "2024-06-26T00:00:00",
          "2024-06-27T00:00:00",
          "2024-06-28T00:00:00",
          "2024-07-01T00:00:00",
          "2024-07-02T00:00:00",
          "2024-07-03T00:00:00",
          "2024-07-04T00:00:00",
          "2024-07-05T00:00:00",
          "2024-07-08T00:00:00",
          "2024-07-09T00:00:00",
          "2024-07-10T00:00:00",
          "2024-07-11T00:00:00",
          "2024-07-12T00:00:00",
          "2024-07-15T00:00:00",
          "2024-07-16T00:00:00",
          "2024-07-17T00:00:00",
          "2024-07-18T00:00:00",
          "2024-07-19T00:00:00",
          "2024-07-22T00:00:00",
          "2024-07-23T00:00:00",
          "2024-07-24T00:00:00",
          "2024-07-25T00:00:00",
          "2024-07-26T00:00:00",
          "2024-07-29T00:00:00",
          "2024-07-30T00:00:00",
          "2024-07-31T00:00:00",
          "2024-08-01T00:00:00",
          "2024-08-02T00:00:00",
          "2024-08-05T00:00:00",
          "2024-08-06T00:00:00",
          "2024-08-07T00:00:00",
          "2024-08-08T00:00:00",
          "2024-08-09T00:00:00",
          "2024-08-12T00:00:00",
          "2024-08-13T00:00:00",
          "2024-08-14T00:00:00",
          "2024-08-15T00:00:00",
          "2024-08-16T00:00:00",
          "2024-08-19T00:00:00",
          "2024-08-20T00:00:00",
          "2024-08-21T00:00:00",
          "2024-08-22T00:00:00",
          "2024-08-23T00:00:00",
          "2024-08-26T00:00:00",
          "2024-08-27T00:00:00",
          "2024-08-28T00:00:00",
          "2024-08-29T00:00:00",
          "2024-08-30T00:00:00",
          "2024-09-02T00:00:00",
          "2024-09-03T00:00:00",
          "2024-09-04T00:00:00",
          "2024-09-05T00:00:00",
          "2024-09-06T00:00:00",
          "2024-09-09T00:00:00",
          "2024-09-10T00:00:00",
          "2024-09-11T00:00:00",
          "2024-09-12T00:00:00",
          "2024-09-13T00:00:00",
          "2024-09-17T00:00:00",
          "2024-09-18T00:00:00",
          "2024-09-19T00:00:00",
          "2024-09-20T00:00:00",
          "2024-09-23T00:00:00",
          "2024-09-24T00:00:00",
          "2024-09-25T00:00:00",
          "2024-09-26T00:00:00",
          "2024-09-27T00:00:00",
          "2024-09-30T00:00:00",
          "2024-10-01T00:00:00",
          "2024-10-02T00:00:00",
          "2024-10-03T00:00:00",
          "2024-10-04T00:00:00",
          "2024-10-07T00:00:00",
          "2024-10-08T00:00:00",
          "2024-10-09T00:00:00",
          "2024-10-10T00:00:00",
          "2024-10-11T00:00:00",
          "2024-10-14T00:00:00",
          "2024-10-15T00:00:00",
          "2024-10-16T00:00:00",
          "2024-10-17T00:00:00",
          "2024-10-18T00:00:00",
          "2024-10-21T00:00:00",
          "2024-10-22T00:00:00",
          "2024-10-23T00:00:00",
          "2024-10-24T00:00:00",
          "2024-10-25T00:00:00",
          "2024-10-28T00:00:00",
          "2024-10-29T00:00:00",
          "2024-10-30T00:00:00",
          "2024-10-31T00:00:00",
          "2024-11-01T00:00:00",
          "2024-11-04T00:00:00",
          "2024-11-05T00:00:00",
          "2024-11-06T00:00:00",
          "2024-11-07T00:00:00",
          "2024-11-08T00:00:00",
          "2024-11-11T00:00:00",
          "2024-11-12T00:00:00",
          "2024-11-13T00:00:00",
          "2024-11-14T00:00:00",
          "2024-11-15T00:00:00",
          "2024-11-18T00:00:00",
          "2024-11-19T00:00:00",
          "2024-11-20T00:00:00"
         ],
         "y": [
          4843.5341796875,
          4915.11376953125,
          4962.8330078125,
          5034.41259765625,
          4938.9736328125,
          4986.69287109375,
          5034.41259765625,
          5010.552734375,
          5058.2724609375,
          5058.2724609375,
          4986.69287109375,
          5034.41259765625,
          4843.5341796875,
          4938.9736328125,
          5034.41259765625,
          4938.9736328125,
          5105.99169921875,
          5034.41259765625,
          4962.8330078125,
          4962.8330078125,
          4962.8330078125,
          4915.11376953125,
          5010.552734375,
          5034.41259765625,
          5105.99169921875,
          5129.8515625,
          5129.8515625,
          5105.99169921875,
          5344.58984375,
          5320.72998046875,
          5320.72998046875,
          5392.30908203125,
          5344.58984375,
          5344.58984375,
          5344.58984375,
          5368.44921875,
          5344.58984375,
          5296.8701171875,
          5296.8701171875,
          5249.150390625,
          5273.01025390625,
          5177.5712890625,
          5225.29052734375,
          5153.71142578125,
          5177.5712890625,
          5320.72998046875,
          5392.30908203125,
          5487.748046875,
          5463.888671875,
          5511.60791015625,
          5487.748046875,
          5511.60791015625,
          5487.748046875,
          5678.62646484375,
          5607.04736328125,
          5726.34619140625,
          5726.34619140625,
          5607.04736328125,
          5750.20556640625,
          5726.34619140625,
          5678.62646484375,
          5630.90673828125,
          5630.90673828125,
          5726.34619140625,
          5702.486328125,
          5726.34619140625,
          5630.90673828125,
          5607.04736328125,
          5630.90673828125,
          5678.62646484375,
          5702.486328125,
          5821.78515625,
          5941.083984375,
          5869.5048828125,
          5800,
          5800,
          5850,
          5875,
          5800,
          5850,
          5925,
          5950,
          5925,
          5900,
          5650,
          5475,
          5325,
          5350,
          5300,
          5200,
          5250,
          5300,
          5225,
          5350,
          5250,
          5300,
          5300,
          5150,
          5225,
          5250,
          4830,
          4830,
          4810,
          4700,
          4670,
          4780,
          4930,
          5025,
          5200,
          5175,
          4980,
          4770,
          4760,
          4670,
          4710,
          4530,
          4490,
          4400,
          4620,
          4640,
          4610,
          4770,
          4700,
          4610,
          4480,
          4430,
          4480,
          4310,
          4300,
          4400,
          4540,
          4540,
          4480,
          4420,
          4580,
          4660,
          4710,
          4710,
          4650,
          4710,
          4700,
          4670,
          4860,
          4820,
          4870,
          5025,
          5025,
          4980,
          5000,
          5075,
          5100,
          5100,
          5050,
          5100,
          5025,
          5000,
          5025,
          4950,
          4970,
          5075,
          5100,
          4960,
          5025,
          5000,
          5025,
          5125,
          5125,
          5175,
          5275,
          5250,
          5300,
          5350,
          5475,
          5450,
          5275,
          5450,
          5525,
          5400,
          5375,
          5300,
          5350,
          5350,
          5375,
          5350,
          5450,
          5650,
          5725,
          5700,
          5650,
          5600,
          5625,
          5650,
          5700,
          5825,
          5750,
          5800,
          5800,
          5600,
          5600,
          5450,
          5350,
          5375,
          5350,
          5375,
          5325,
          5200,
          5350,
          5325,
          5325,
          5375,
          5425,
          5500,
          5475,
          5500,
          5650,
          5625,
          5650,
          5675,
          5625,
          5650,
          5500,
          5300,
          5225,
          5250,
          5200,
          5300,
          5400,
          5125,
          5025,
          4980,
          4990,
          4930,
          4960,
          4950,
          4910,
          4870,
          4850,
          4850
         ]
        },
        {
         "mode": "lines",
         "name": "Predictions",
         "type": "scatter",
         "x": [
          "2023-11-22T00:00:00",
          "2023-11-23T00:00:00",
          "2023-11-24T00:00:00",
          "2023-11-27T00:00:00",
          "2023-11-28T00:00:00",
          "2023-11-29T00:00:00",
          "2023-11-30T00:00:00",
          "2023-12-01T00:00:00",
          "2023-12-04T00:00:00",
          "2023-12-05T00:00:00",
          "2023-12-06T00:00:00",
          "2023-12-07T00:00:00",
          "2023-12-08T00:00:00",
          "2023-12-11T00:00:00",
          "2023-12-12T00:00:00",
          "2023-12-13T00:00:00",
          "2023-12-14T00:00:00",
          "2023-12-15T00:00:00",
          "2023-12-18T00:00:00",
          "2023-12-19T00:00:00",
          "2023-12-20T00:00:00",
          "2023-12-21T00:00:00",
          "2023-12-22T00:00:00",
          "2023-12-27T00:00:00",
          "2023-12-28T00:00:00",
          "2023-12-29T00:00:00",
          "2024-01-02T00:00:00",
          "2024-01-03T00:00:00",
          "2024-01-04T00:00:00",
          "2024-01-05T00:00:00",
          "2024-01-08T00:00:00",
          "2024-01-09T00:00:00",
          "2024-01-10T00:00:00",
          "2024-01-11T00:00:00",
          "2024-01-12T00:00:00",
          "2024-01-15T00:00:00",
          "2024-01-16T00:00:00",
          "2024-01-17T00:00:00",
          "2024-01-18T00:00:00",
          "2024-01-19T00:00:00",
          "2024-01-22T00:00:00",
          "2024-01-23T00:00:00",
          "2024-01-24T00:00:00",
          "2024-01-25T00:00:00",
          "2024-01-26T00:00:00",
          "2024-01-29T00:00:00",
          "2024-01-30T00:00:00",
          "2024-01-31T00:00:00",
          "2024-02-01T00:00:00",
          "2024-02-02T00:00:00",
          "2024-02-05T00:00:00",
          "2024-02-06T00:00:00",
          "2024-02-07T00:00:00",
          "2024-02-12T00:00:00",
          "2024-02-13T00:00:00",
          "2024-02-15T00:00:00",
          "2024-02-16T00:00:00",
          "2024-02-19T00:00:00",
          "2024-02-20T00:00:00",
          "2024-02-21T00:00:00",
          "2024-02-22T00:00:00",
          "2024-02-23T00:00:00",
          "2024-02-26T00:00:00",
          "2024-02-27T00:00:00",
          "2024-02-28T00:00:00",
          "2024-02-29T00:00:00",
          "2024-03-01T00:00:00",
          "2024-03-04T00:00:00",
          "2024-03-05T00:00:00",
          "2024-03-06T00:00:00",
          "2024-03-07T00:00:00",
          "2024-03-08T00:00:00",
          "2024-03-13T00:00:00",
          "2024-03-14T00:00:00",
          "2024-03-15T00:00:00",
          "2024-03-18T00:00:00",
          "2024-03-19T00:00:00",
          "2024-03-20T00:00:00",
          "2024-03-21T00:00:00",
          "2024-03-22T00:00:00",
          "2024-03-25T00:00:00",
          "2024-03-26T00:00:00",
          "2024-03-27T00:00:00",
          "2024-03-28T00:00:00",
          "2024-04-01T00:00:00",
          "2024-04-02T00:00:00",
          "2024-04-03T00:00:00",
          "2024-04-04T00:00:00",
          "2024-04-05T00:00:00",
          "2024-04-16T00:00:00",
          "2024-04-17T00:00:00",
          "2024-04-18T00:00:00",
          "2024-04-19T00:00:00",
          "2024-04-22T00:00:00",
          "2024-04-23T00:00:00",
          "2024-04-24T00:00:00",
          "2024-04-25T00:00:00",
          "2024-04-26T00:00:00",
          "2024-04-29T00:00:00",
          "2024-04-30T00:00:00",
          "2024-05-02T00:00:00",
          "2024-05-03T00:00:00",
          "2024-05-06T00:00:00",
          "2024-05-07T00:00:00",
          "2024-05-08T00:00:00",
          "2024-05-13T00:00:00",
          "2024-05-14T00:00:00",
          "2024-05-15T00:00:00",
          "2024-05-16T00:00:00",
          "2024-05-17T00:00:00",
          "2024-05-20T00:00:00",
          "2024-05-21T00:00:00",
          "2024-05-22T00:00:00",
          "2024-05-27T00:00:00",
          "2024-05-28T00:00:00",
          "2024-05-29T00:00:00",
          "2024-05-30T00:00:00",
          "2024-05-31T00:00:00",
          "2024-06-03T00:00:00",
          "2024-06-04T00:00:00",
          "2024-06-05T00:00:00",
          "2024-06-06T00:00:00",
          "2024-06-07T00:00:00",
          "2024-06-10T00:00:00",
          "2024-06-11T00:00:00",
          "2024-06-12T00:00:00",
          "2024-06-13T00:00:00",
          "2024-06-14T00:00:00",
          "2024-06-19T00:00:00",
          "2024-06-20T00:00:00",
          "2024-06-21T00:00:00",
          "2024-06-24T00:00:00",
          "2024-06-25T00:00:00",
          "2024-06-26T00:00:00",
          "2024-06-27T00:00:00",
          "2024-06-28T00:00:00",
          "2024-07-01T00:00:00",
          "2024-07-02T00:00:00",
          "2024-07-03T00:00:00",
          "2024-07-04T00:00:00",
          "2024-07-05T00:00:00",
          "2024-07-08T00:00:00",
          "2024-07-09T00:00:00",
          "2024-07-10T00:00:00",
          "2024-07-11T00:00:00",
          "2024-07-12T00:00:00",
          "2024-07-15T00:00:00",
          "2024-07-16T00:00:00",
          "2024-07-17T00:00:00",
          "2024-07-18T00:00:00",
          "2024-07-19T00:00:00",
          "2024-07-22T00:00:00",
          "2024-07-23T00:00:00",
          "2024-07-24T00:00:00",
          "2024-07-25T00:00:00",
          "2024-07-26T00:00:00",
          "2024-07-29T00:00:00",
          "2024-07-30T00:00:00",
          "2024-07-31T00:00:00",
          "2024-08-01T00:00:00",
          "2024-08-02T00:00:00",
          "2024-08-05T00:00:00",
          "2024-08-06T00:00:00",
          "2024-08-07T00:00:00",
          "2024-08-08T00:00:00",
          "2024-08-09T00:00:00",
          "2024-08-12T00:00:00",
          "2024-08-13T00:00:00",
          "2024-08-14T00:00:00",
          "2024-08-15T00:00:00",
          "2024-08-16T00:00:00",
          "2024-08-19T00:00:00",
          "2024-08-20T00:00:00",
          "2024-08-21T00:00:00",
          "2024-08-22T00:00:00",
          "2024-08-23T00:00:00",
          "2024-08-26T00:00:00",
          "2024-08-27T00:00:00",
          "2024-08-28T00:00:00",
          "2024-08-29T00:00:00",
          "2024-08-30T00:00:00",
          "2024-09-02T00:00:00",
          "2024-09-03T00:00:00",
          "2024-09-04T00:00:00",
          "2024-09-05T00:00:00",
          "2024-09-06T00:00:00",
          "2024-09-09T00:00:00",
          "2024-09-10T00:00:00",
          "2024-09-11T00:00:00",
          "2024-09-12T00:00:00",
          "2024-09-13T00:00:00",
          "2024-09-17T00:00:00",
          "2024-09-18T00:00:00",
          "2024-09-19T00:00:00",
          "2024-09-20T00:00:00",
          "2024-09-23T00:00:00",
          "2024-09-24T00:00:00",
          "2024-09-25T00:00:00",
          "2024-09-26T00:00:00",
          "2024-09-27T00:00:00",
          "2024-09-30T00:00:00",
          "2024-10-01T00:00:00",
          "2024-10-02T00:00:00",
          "2024-10-03T00:00:00",
          "2024-10-04T00:00:00",
          "2024-10-07T00:00:00",
          "2024-10-08T00:00:00",
          "2024-10-09T00:00:00",
          "2024-10-10T00:00:00",
          "2024-10-11T00:00:00",
          "2024-10-14T00:00:00",
          "2024-10-15T00:00:00",
          "2024-10-16T00:00:00",
          "2024-10-17T00:00:00",
          "2024-10-18T00:00:00",
          "2024-10-21T00:00:00",
          "2024-10-22T00:00:00",
          "2024-10-23T00:00:00",
          "2024-10-24T00:00:00",
          "2024-10-25T00:00:00",
          "2024-10-28T00:00:00",
          "2024-10-29T00:00:00",
          "2024-10-30T00:00:00",
          "2024-10-31T00:00:00",
          "2024-11-01T00:00:00",
          "2024-11-04T00:00:00",
          "2024-11-05T00:00:00",
          "2024-11-06T00:00:00",
          "2024-11-07T00:00:00",
          "2024-11-08T00:00:00",
          "2024-11-11T00:00:00",
          "2024-11-12T00:00:00",
          "2024-11-13T00:00:00",
          "2024-11-14T00:00:00",
          "2024-11-15T00:00:00",
          "2024-11-18T00:00:00",
          "2024-11-19T00:00:00",
          "2024-11-20T00:00:00"
         ],
         "y": [
          4751.12646484375,
          4812.88330078125,
          4864.25439453125,
          4932.5615234375,
          4861.73974609375,
          4886.091796875,
          4932.0595703125,
          4956.244140625,
          4945.55419921875,
          5002.21142578125,
          4941.58251953125,
          4949.58056640625,
          4779.0732421875,
          4828.279296875,
          4922.1982421875,
          4860.517578125,
          4989.05224609375,
          4950.53955078125,
          4879.1875,
          4865.24365234375,
          4839.8876953125,
          4825.14453125,
          4903.03564453125,
          4945.650390625,
          5014.0078125,
          5043.9150390625,
          5044.85302734375,
          5020.9873046875,
          5220.26904296875,
          5232.001953125,
          5227.90185546875,
          5284.0078125,
          5247.896484375,
          5240.7578125,
          5239.43603515625,
          5261.1630859375,
          5244.626953125,
          5201.0546875,
          5195.22119140625,
          5154.7197265625,
          5171.1884765625,
          5093.232421875,
          5123.54443359375,
          5068.896484375,
          5081.96484375,
          5209.185546875,
          5292.1640625,
          5383.697265625,
          5369.01513671875,
          5402.234375,
          5381.69384765625,
          5398.453125,
          5379.61767578125,
          5546.46728515625,
          5504.6005859375,
          5640.47216796875,
          5615.0791015625,
          5532.361328125,
          5622.404296875,
          5606.3427734375,
          5558.99853515625,
          5541.86962890625,
          5542.0224609375,
          5604.68896484375,
          5582.625,
          5597.1689453125,
          5511.11328125,
          5481.50634765625,
          5535.8388671875,
          5556.9833984375,
          5582.22412109375,
          5688.080078125,
          5804.76953125,
          5748.5498046875,
          5707.87255859375,
          5671.21728515625,
          5716.41650390625,
          5742.419921875,
          5678.751953125,
          5718.685546875,
          5791.091796875,
          5821.8427734375,
          5776.1630859375,
          5779.1640625,
          5551.99658203125,
          5377.70751953125,
          5231.11767578125,
          5244.28271484375,
          5247.44921875,
          5166.09423828125,
          5209.318359375,
          5225.876953125,
          5150.03662109375,
          5212.77685546875,
          5161.8798828125,
          5190.83984375,
          5233.80712890625,
          5074.30517578125,
          5117.82763671875,
          5144.19384765625,
          4811.8046875,
          4744.23095703125,
          4720.908203125,
          4630.08740234375,
          4592.6630859375,
          4681.92333984375,
          4830.41259765625,
          4938.08544921875,
          5098.50439453125,
          5094.88916015625,
          4915.97998046875,
          4702.80810546875,
          4659.23388671875,
          4587.984375,
          4652.20361328125,
          4493.90087890625,
          4429.49853515625,
          4341.67626953125,
          4505.84228515625,
          4566.88232421875,
          4550.3994140625,
          4671.9453125,
          4636.46484375,
          4547.52197265625,
          4449.443359375,
          4396.25390625,
          4443.21875,
          4308.17724609375,
          4249.44775390625,
          4285.765625,
          4423.08056640625,
          4496.3623046875,
          4426.95361328125,
          4354.208984375,
          4463.3291015625,
          4557.14794921875,
          4617.6572265625,
          4626.0947265625,
          4573.5849609375,
          4610.01708984375,
          4611.84423828125,
          4622.61572265625,
          4797.41064453125,
          4759.708984375,
          4783.44677734375,
          4909.955078125,
          4928.87255859375,
          4888.306640625,
          4894.27392578125,
          4959.2529296875,
          5030.103515625,
          5008.62841796875,
          4959.25,
          4989.59619140625,
          4907.798828125,
          4871.86962890625,
          4885.720703125,
          4866.49609375,
          4880.99951171875,
          5017.99169921875,
          5065.97509765625,
          4942.49755859375,
          4922.99755859375,
          4946.416015625,
          4918.40234375,
          4928.5546875,
          5013.52197265625,
          5025.8544921875,
          5066.75537109375,
          5156.34716796875,
          5146.50732421875,
          5185.00439453125,
          5233.12841796875,
          5349.16259765625,
          5343.181640625,
          5186.80078125,
          5287.0205078125,
          5402.24853515625,
          5344.83544921875,
          5260.34423828125,
          5184.4677734375,
          5238.16015625,
          5252.19580078125,
          5282.0400390625,
          5265.25634765625,
          5348.11376953125,
          5534.31689453125,
          5660.92724609375,
          5605.125,
          5546.88525390625,
          5486.603515625,
          5501.64404296875,
          5528.34228515625,
          5578.45654296875,
          5696.15673828125,
          5639.84765625,
          5710.2587890625,
          5679.6083984375,
          5522.82080078125,
          5481.9033203125,
          5344.6005859375,
          5243.90576171875,
          5258.88720703125,
          5246.18701171875,
          5270.65576171875,
          5231.79931640625,
          5095.513671875,
          5265.64013671875,
          5236.69873046875,
          5270.3857421875,
          5282.3955078125,
          5324.30712890625,
          5389.28369140625,
          5406.19970703125,
          5395.1123046875,
          5524.62353515625,
          5510.41357421875,
          5527.525390625,
          5548.8349609375,
          5506.0654296875,
          5523.7412109375,
          5424.08154296875,
          5208.1806640625,
          5151.505859375,
          5147.5439453125,
          5108.63037109375,
          5190.8974609375,
          5291.25927734375,
          5092.0244140625,
          4928.7685546875,
          4883.14892578125,
          4860.88134765625,
          4816.7646484375,
          4863.81787109375,
          4871.99853515625,
          4844.7509765625,
          4805.69091796875,
          4781.39111328125
         ]
        }
       ],
       "layout": {
        "template": {
         "data": {
          "bar": [
           {
            "error_x": {
             "color": "#2a3f5f"
            },
            "error_y": {
             "color": "#2a3f5f"
            },
            "marker": {
             "line": {
              "color": "#E5ECF6",
              "width": 0.5
             },
             "pattern": {
              "fillmode": "overlay",
              "size": 10,
              "solidity": 0.2
             }
            },
            "type": "bar"
           }
          ],
          "barpolar": [
           {
            "marker": {
             "line": {
              "color": "#E5ECF6",
              "width": 0.5
             },
             "pattern": {
              "fillmode": "overlay",
              "size": 10,
              "solidity": 0.2
             }
            },
            "type": "barpolar"
           }
          ],
          "carpet": [
           {
            "aaxis": {
             "endlinecolor": "#2a3f5f",
             "gridcolor": "white",
             "linecolor": "white",
             "minorgridcolor": "white",
             "startlinecolor": "#2a3f5f"
            },
            "baxis": {
             "endlinecolor": "#2a3f5f",
             "gridcolor": "white",
             "linecolor": "white",
             "minorgridcolor": "white",
             "startlinecolor": "#2a3f5f"
            },
            "type": "carpet"
           }
          ],
          "choropleth": [
           {
            "colorbar": {
             "outlinewidth": 0,
             "ticks": ""
            },
            "type": "choropleth"
           }
          ],
          "contour": [
           {
            "colorbar": {
             "outlinewidth": 0,
             "ticks": ""
            },
            "colorscale": [
             [
              0,
              "#0d0887"
             ],
             [
              0.1111111111111111,
              "#46039f"
             ],
             [
              0.2222222222222222,
              "#7201a8"
             ],
             [
              0.3333333333333333,
              "#9c179e"
             ],
             [
              0.4444444444444444,
              "#bd3786"
             ],
             [
              0.5555555555555556,
              "#d8576b"
             ],
             [
              0.6666666666666666,
              "#ed7953"
             ],
             [
              0.7777777777777778,
              "#fb9f3a"
             ],
             [
              0.8888888888888888,
              "#fdca26"
             ],
             [
              1,
              "#f0f921"
             ]
            ],
            "type": "contour"
           }
          ],
          "contourcarpet": [
           {
            "colorbar": {
             "outlinewidth": 0,
             "ticks": ""
            },
            "type": "contourcarpet"
           }
          ],
          "heatmap": [
           {
            "colorbar": {
             "outlinewidth": 0,
             "ticks": ""
            },
            "colorscale": [
             [
              0,
              "#0d0887"
             ],
             [
              0.1111111111111111,
              "#46039f"
             ],
             [
              0.2222222222222222,
              "#7201a8"
             ],
             [
              0.3333333333333333,
              "#9c179e"
             ],
             [
              0.4444444444444444,
              "#bd3786"
             ],
             [
              0.5555555555555556,
              "#d8576b"
             ],
             [
              0.6666666666666666,
              "#ed7953"
             ],
             [
              0.7777777777777778,
              "#fb9f3a"
             ],
             [
              0.8888888888888888,
              "#fdca26"
             ],
             [
              1,
              "#f0f921"
             ]
            ],
            "type": "heatmap"
           }
          ],
          "heatmapgl": [
           {
            "colorbar": {
             "outlinewidth": 0,
             "ticks": ""
            },
            "colorscale": [
             [
              0,
              "#0d0887"
             ],
             [
              0.1111111111111111,
              "#46039f"
             ],
             [
              0.2222222222222222,
              "#7201a8"
             ],
             [
              0.3333333333333333,
              "#9c179e"
             ],
             [
              0.4444444444444444,
              "#bd3786"
             ],
             [
              0.5555555555555556,
              "#d8576b"
             ],
             [
              0.6666666666666666,
              "#ed7953"
             ],
             [
              0.7777777777777778,
              "#fb9f3a"
             ],
             [
              0.8888888888888888,
              "#fdca26"
             ],
             [
              1,
              "#f0f921"
             ]
            ],
            "type": "heatmapgl"
           }
          ],
          "histogram": [
           {
            "marker": {
             "pattern": {
              "fillmode": "overlay",
              "size": 10,
              "solidity": 0.2
             }
            },
            "type": "histogram"
           }
          ],
          "histogram2d": [
           {
            "colorbar": {
             "outlinewidth": 0,
             "ticks": ""
            },
            "colorscale": [
             [
              0,
              "#0d0887"
             ],
             [
              0.1111111111111111,
              "#46039f"
             ],
             [
              0.2222222222222222,
              "#7201a8"
             ],
             [
              0.3333333333333333,
              "#9c179e"
             ],
             [
              0.4444444444444444,
              "#bd3786"
             ],
             [
              0.5555555555555556,
              "#d8576b"
             ],
             [
              0.6666666666666666,
              "#ed7953"
             ],
             [
              0.7777777777777778,
              "#fb9f3a"
             ],
             [
              0.8888888888888888,
              "#fdca26"
             ],
             [
              1,
              "#f0f921"
             ]
            ],
            "type": "histogram2d"
           }
          ],
          "histogram2dcontour": [
           {
            "colorbar": {
             "outlinewidth": 0,
             "ticks": ""
            },
            "colorscale": [
             [
              0,
              "#0d0887"
             ],
             [
              0.1111111111111111,
              "#46039f"
             ],
             [
              0.2222222222222222,
              "#7201a8"
             ],
             [
              0.3333333333333333,
              "#9c179e"
             ],
             [
              0.4444444444444444,
              "#bd3786"
             ],
             [
              0.5555555555555556,
              "#d8576b"
             ],
             [
              0.6666666666666666,
              "#ed7953"
             ],
             [
              0.7777777777777778,
              "#fb9f3a"
             ],
             [
              0.8888888888888888,
              "#fdca26"
             ],
             [
              1,
              "#f0f921"
             ]
            ],
            "type": "histogram2dcontour"
           }
          ],
          "mesh3d": [
           {
            "colorbar": {
             "outlinewidth": 0,
             "ticks": ""
            },
            "type": "mesh3d"
           }
          ],
          "parcoords": [
           {
            "line": {
             "colorbar": {
              "outlinewidth": 0,
              "ticks": ""
             }
            },
            "type": "parcoords"
           }
          ],
          "pie": [
           {
            "automargin": true,
            "type": "pie"
           }
          ],
          "scatter": [
           {
            "fillpattern": {
             "fillmode": "overlay",
             "size": 10,
             "solidity": 0.2
            },
            "type": "scatter"
           }
          ],
          "scatter3d": [
           {
            "line": {
             "colorbar": {
              "outlinewidth": 0,
              "ticks": ""
             }
            },
            "marker": {
             "colorbar": {
              "outlinewidth": 0,
              "ticks": ""
             }
            },
            "type": "scatter3d"
           }
          ],
          "scattercarpet": [
           {
            "marker": {
             "colorbar": {
              "outlinewidth": 0,
              "ticks": ""
             }
            },
            "type": "scattercarpet"
           }
          ],
          "scattergeo": [
           {
            "marker": {
             "colorbar": {
              "outlinewidth": 0,
              "ticks": ""
             }
            },
            "type": "scattergeo"
           }
          ],
          "scattergl": [
           {
            "marker": {
             "colorbar": {
              "outlinewidth": 0,
              "ticks": ""
             }
            },
            "type": "scattergl"
           }
          ],
          "scattermapbox": [
           {
            "marker": {
             "colorbar": {
              "outlinewidth": 0,
              "ticks": ""
             }
            },
            "type": "scattermapbox"
           }
          ],
          "scatterpolar": [
           {
            "marker": {
             "colorbar": {
              "outlinewidth": 0,
              "ticks": ""
             }
            },
            "type": "scatterpolar"
           }
          ],
          "scatterpolargl": [
           {
            "marker": {
             "colorbar": {
              "outlinewidth": 0,
              "ticks": ""
             }
            },
            "type": "scatterpolargl"
           }
          ],
          "scatterternary": [
           {
            "marker": {
             "colorbar": {
              "outlinewidth": 0,
              "ticks": ""
             }
            },
            "type": "scatterternary"
           }
          ],
          "surface": [
           {
            "colorbar": {
             "outlinewidth": 0,
             "ticks": ""
            },
            "colorscale": [
             [
              0,
              "#0d0887"
             ],
             [
              0.1111111111111111,
              "#46039f"
             ],
             [
              0.2222222222222222,
              "#7201a8"
             ],
             [
              0.3333333333333333,
              "#9c179e"
             ],
             [
              0.4444444444444444,
              "#bd3786"
             ],
             [
              0.5555555555555556,
              "#d8576b"
             ],
             [
              0.6666666666666666,
              "#ed7953"
             ],
             [
              0.7777777777777778,
              "#fb9f3a"
             ],
             [
              0.8888888888888888,
              "#fdca26"
             ],
             [
              1,
              "#f0f921"
             ]
            ],
            "type": "surface"
           }
          ],
          "table": [
           {
            "cells": {
             "fill": {
              "color": "#EBF0F8"
             },
             "line": {
              "color": "white"
             }
            },
            "header": {
             "fill": {
              "color": "#C8D4E3"
             },
             "line": {
              "color": "white"
             }
            },
            "type": "table"
           }
          ]
         },
         "layout": {
          "annotationdefaults": {
           "arrowcolor": "#2a3f5f",
           "arrowhead": 0,
           "arrowwidth": 1
          },
          "autotypenumbers": "strict",
          "coloraxis": {
           "colorbar": {
            "outlinewidth": 0,
            "ticks": ""
           }
          },
          "colorscale": {
           "diverging": [
            [
             0,
             "#8e0152"
            ],
            [
             0.1,
             "#c51b7d"
            ],
            [
             0.2,
             "#de77ae"
            ],
            [
             0.3,
             "#f1b6da"
            ],
            [
             0.4,
             "#fde0ef"
            ],
            [
             0.5,
             "#f7f7f7"
            ],
            [
             0.6,
             "#e6f5d0"
            ],
            [
             0.7,
             "#b8e186"
            ],
            [
             0.8,
             "#7fbc41"
            ],
            [
             0.9,
             "#4d9221"
            ],
            [
             1,
             "#276419"
            ]
           ],
           "sequential": [
            [
             0,
             "#0d0887"
            ],
            [
             0.1111111111111111,
             "#46039f"
            ],
            [
             0.2222222222222222,
             "#7201a8"
            ],
            [
             0.3333333333333333,
             "#9c179e"
            ],
            [
             0.4444444444444444,
             "#bd3786"
            ],
            [
             0.5555555555555556,
             "#d8576b"
            ],
            [
             0.6666666666666666,
             "#ed7953"
            ],
            [
             0.7777777777777778,
             "#fb9f3a"
            ],
            [
             0.8888888888888888,
             "#fdca26"
            ],
            [
             1,
             "#f0f921"
            ]
           ],
           "sequentialminus": [
            [
             0,
             "#0d0887"
            ],
            [
             0.1111111111111111,
             "#46039f"
            ],
            [
             0.2222222222222222,
             "#7201a8"
            ],
            [
             0.3333333333333333,
             "#9c179e"
            ],
            [
             0.4444444444444444,
             "#bd3786"
            ],
            [
             0.5555555555555556,
             "#d8576b"
            ],
            [
             0.6666666666666666,
             "#ed7953"
            ],
            [
             0.7777777777777778,
             "#fb9f3a"
            ],
            [
             0.8888888888888888,
             "#fdca26"
            ],
            [
             1,
             "#f0f921"
            ]
           ]
          },
          "colorway": [
           "#636efa",
           "#EF553B",
           "#00cc96",
           "#ab63fa",
           "#FFA15A",
           "#19d3f3",
           "#FF6692",
           "#B6E880",
           "#FF97FF",
           "#FECB52"
          ],
          "font": {
           "color": "#2a3f5f"
          },
          "geo": {
           "bgcolor": "white",
           "lakecolor": "white",
           "landcolor": "#E5ECF6",
           "showlakes": true,
           "showland": true,
           "subunitcolor": "white"
          },
          "hoverlabel": {
           "align": "left"
          },
          "hovermode": "closest",
          "mapbox": {
           "style": "light"
          },
          "paper_bgcolor": "white",
          "plot_bgcolor": "#E5ECF6",
          "polar": {
           "angularaxis": {
            "gridcolor": "white",
            "linecolor": "white",
            "ticks": ""
           },
           "bgcolor": "#E5ECF6",
           "radialaxis": {
            "gridcolor": "white",
            "linecolor": "white",
            "ticks": ""
           }
          },
          "scene": {
           "xaxis": {
            "backgroundcolor": "#E5ECF6",
            "gridcolor": "white",
            "gridwidth": 2,
            "linecolor": "white",
            "showbackground": true,
            "ticks": "",
            "zerolinecolor": "white"
           },
           "yaxis": {
            "backgroundcolor": "#E5ECF6",
            "gridcolor": "white",
            "gridwidth": 2,
            "linecolor": "white",
            "showbackground": true,
            "ticks": "",
            "zerolinecolor": "white"
           },
           "zaxis": {
            "backgroundcolor": "#E5ECF6",
            "gridcolor": "white",
            "gridwidth": 2,
            "linecolor": "white",
            "showbackground": true,
            "ticks": "",
            "zerolinecolor": "white"
           }
          },
          "shapedefaults": {
           "line": {
            "color": "#2a3f5f"
           }
          },
          "ternary": {
           "aaxis": {
            "gridcolor": "white",
            "linecolor": "white",
            "ticks": ""
           },
           "baxis": {
            "gridcolor": "white",
            "linecolor": "white",
            "ticks": ""
           },
           "bgcolor": "#E5ECF6",
           "caxis": {
            "gridcolor": "white",
            "linecolor": "white",
            "ticks": ""
           }
          },
          "title": {
           "x": 0.05
          },
          "xaxis": {
           "automargin": true,
           "gridcolor": "white",
           "linecolor": "white",
           "ticks": "",
           "title": {
            "standoff": 15
           },
           "zerolinecolor": "white",
           "zerolinewidth": 2
          },
          "yaxis": {
           "automargin": true,
           "gridcolor": "white",
           "linecolor": "white",
           "ticks": "",
           "title": {
            "standoff": 15
           },
           "zerolinecolor": "white",
           "zerolinewidth": 2
          }
         }
        },
        "title": {
         "text": "Model"
        },
        "xaxis": {
         "title": {
          "text": "Date"
         }
        },
        "yaxis": {
         "title": {
          "text": "Close Price USD ($)"
         }
        }
       }
      }
     },
     "metadata": {},
     "output_type": "display_data"
    }
   ],
   "source": [
    "from plotly import graph_objs as go\n",
    "\n",
    "fig = go.Figure()\n",
    "\n",
    "fig.add_trace(go.Scatter(x=valid['date'], y=valid['Close'], mode='lines', name='Val'))\n",
    "fig.add_trace(go.Scatter(x=valid['date'], y=valid['Predictions'], mode='lines', name='Predictions'))\n",
    "\n",
    "fig.update_layout(title='Model',\n",
    "                        xaxis_title='Date',\n",
    "                        yaxis_title='Close Price USD ($)')\n",
    "fig.show()"
   ]
  },
  {
   "cell_type": "markdown",
   "metadata": {},
   "source": [
    "# END"
   ]
  }
 ],
 "metadata": {
  "kernelspec": {
   "display_name": "ML",
   "language": "python",
   "name": "ml"
  },
  "language_info": {
   "codemirror_mode": {
    "name": "ipython",
    "version": 3
   },
   "file_extension": ".py",
   "mimetype": "text/x-python",
   "name": "python",
   "nbconvert_exporter": "python",
   "pygments_lexer": "ipython3",
   "version": "3.8.19"
  }
 },
 "nbformat": 4,
 "nbformat_minor": 2
}
