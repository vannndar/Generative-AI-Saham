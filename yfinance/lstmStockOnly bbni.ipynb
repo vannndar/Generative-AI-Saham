{
 "cells": [
  {
   "cell_type": "markdown",
   "metadata": {},
   "source": [
    "# Import Data"
   ]
  },
  {
   "cell_type": "code",
   "execution_count": 1,
   "metadata": {},
   "outputs": [],
   "source": [
    "import pandas as pd\n",
    "import numpy as np "
   ]
  },
  {
   "cell_type": "code",
   "execution_count": 2,
   "metadata": {},
   "outputs": [],
   "source": [
    "data = pd.read_csv('Data/bbni_data_5y.csv')"
   ]
  },
  {
   "cell_type": "code",
   "execution_count": 3,
   "metadata": {},
   "outputs": [],
   "source": [
    "data['date_str'] = pd.to_datetime(data['date_str'])"
   ]
  },
  {
   "cell_type": "code",
   "execution_count": 4,
   "metadata": {},
   "outputs": [],
   "source": [
    "# rename columns\n",
    "data = data.rename(columns={'date_str': 'date'})"
   ]
  },
  {
   "cell_type": "code",
   "execution_count": 5,
   "metadata": {},
   "outputs": [
    {
     "data": {
      "text/html": [
       "<div>\n",
       "<style scoped>\n",
       "    .dataframe tbody tr th:only-of-type {\n",
       "        vertical-align: middle;\n",
       "    }\n",
       "\n",
       "    .dataframe tbody tr th {\n",
       "        vertical-align: top;\n",
       "    }\n",
       "\n",
       "    .dataframe thead th {\n",
       "        text-align: right;\n",
       "    }\n",
       "</style>\n",
       "<table border=\"1\" class=\"dataframe\">\n",
       "  <thead>\n",
       "    <tr style=\"text-align: right;\">\n",
       "      <th></th>\n",
       "      <th>Open</th>\n",
       "      <th>High</th>\n",
       "      <th>Low</th>\n",
       "      <th>Close</th>\n",
       "      <th>Volume</th>\n",
       "      <th>Dividends</th>\n",
       "      <th>Stock Splits</th>\n",
       "      <th>date</th>\n",
       "    </tr>\n",
       "  </thead>\n",
       "  <tbody>\n",
       "    <tr>\n",
       "      <th>0</th>\n",
       "      <td>3245.003550</td>\n",
       "      <td>3288.270264</td>\n",
       "      <td>3147.653443</td>\n",
       "      <td>3288.270264</td>\n",
       "      <td>47956400</td>\n",
       "      <td>0.0</td>\n",
       "      <td>0.0</td>\n",
       "      <td>2019-11-07</td>\n",
       "    </tr>\n",
       "    <tr>\n",
       "      <th>1</th>\n",
       "      <td>3309.903293</td>\n",
       "      <td>3331.536648</td>\n",
       "      <td>3245.003229</td>\n",
       "      <td>3320.719971</td>\n",
       "      <td>34375400</td>\n",
       "      <td>0.0</td>\n",
       "      <td>0.0</td>\n",
       "      <td>2019-11-08</td>\n",
       "    </tr>\n",
       "    <tr>\n",
       "      <th>2</th>\n",
       "      <td>3288.270320</td>\n",
       "      <td>3309.903678</td>\n",
       "      <td>3245.003606</td>\n",
       "      <td>3266.636963</td>\n",
       "      <td>29695800</td>\n",
       "      <td>0.0</td>\n",
       "      <td>0.0</td>\n",
       "      <td>2019-11-11</td>\n",
       "    </tr>\n",
       "    <tr>\n",
       "      <th>3</th>\n",
       "      <td>3245.003550</td>\n",
       "      <td>3288.270264</td>\n",
       "      <td>3223.370193</td>\n",
       "      <td>3288.270264</td>\n",
       "      <td>43277200</td>\n",
       "      <td>0.0</td>\n",
       "      <td>0.0</td>\n",
       "      <td>2019-11-12</td>\n",
       "    </tr>\n",
       "    <tr>\n",
       "      <th>4</th>\n",
       "      <td>3288.270302</td>\n",
       "      <td>3288.270302</td>\n",
       "      <td>3180.103516</td>\n",
       "      <td>3180.103516</td>\n",
       "      <td>47613000</td>\n",
       "      <td>0.0</td>\n",
       "      <td>0.0</td>\n",
       "      <td>2019-11-13</td>\n",
       "    </tr>\n",
       "  </tbody>\n",
       "</table>\n",
       "</div>"
      ],
      "text/plain": [
       "          Open         High          Low        Close    Volume  Dividends  \\\n",
       "0  3245.003550  3288.270264  3147.653443  3288.270264  47956400        0.0   \n",
       "1  3309.903293  3331.536648  3245.003229  3320.719971  34375400        0.0   \n",
       "2  3288.270320  3309.903678  3245.003606  3266.636963  29695800        0.0   \n",
       "3  3245.003550  3288.270264  3223.370193  3288.270264  43277200        0.0   \n",
       "4  3288.270302  3288.270302  3180.103516  3180.103516  47613000        0.0   \n",
       "\n",
       "   Stock Splits       date  \n",
       "0           0.0 2019-11-07  \n",
       "1           0.0 2019-11-08  \n",
       "2           0.0 2019-11-11  \n",
       "3           0.0 2019-11-12  \n",
       "4           0.0 2019-11-13  "
      ]
     },
     "execution_count": 5,
     "metadata": {},
     "output_type": "execute_result"
    }
   ],
   "source": [
    "data.head()"
   ]
  },
  {
   "cell_type": "code",
   "execution_count": 6,
   "metadata": {},
   "outputs": [
    {
     "name": "stdout",
     "output_type": "stream",
     "text": [
      "<class 'pandas.core.frame.DataFrame'>\n",
      "RangeIndex: 1213 entries, 0 to 1212\n",
      "Data columns (total 8 columns):\n",
      " #   Column        Non-Null Count  Dtype         \n",
      "---  ------        --------------  -----         \n",
      " 0   Open          1213 non-null   float64       \n",
      " 1   High          1213 non-null   float64       \n",
      " 2   Low           1213 non-null   float64       \n",
      " 3   Close         1213 non-null   float64       \n",
      " 4   Volume        1213 non-null   int64         \n",
      " 5   Dividends     1213 non-null   float64       \n",
      " 6   Stock Splits  1213 non-null   float64       \n",
      " 7   date          1213 non-null   datetime64[ns]\n",
      "dtypes: datetime64[ns](1), float64(6), int64(1)\n",
      "memory usage: 75.9 KB\n"
     ]
    }
   ],
   "source": [
    "data.info()"
   ]
  },
  {
   "cell_type": "code",
   "execution_count": 7,
   "metadata": {},
   "outputs": [
    {
     "data": {
      "text/plain": [
       "Open            0\n",
       "High            0\n",
       "Low             0\n",
       "Close           0\n",
       "Volume          0\n",
       "Dividends       0\n",
       "Stock Splits    0\n",
       "date            0\n",
       "dtype: int64"
      ]
     },
     "execution_count": 7,
     "metadata": {},
     "output_type": "execute_result"
    }
   ],
   "source": [
    "data.isnull().sum()"
   ]
  },
  {
   "cell_type": "markdown",
   "metadata": {},
   "source": [
    "# Feature Engineering"
   ]
  },
  {
   "cell_type": "code",
   "execution_count": 8,
   "metadata": {},
   "outputs": [
    {
     "data": {
      "text/plain": [
       "Dividends\n",
       "0.00000      1208\n",
       "103.12054       1\n",
       "22.01131        1\n",
       "73.14845        1\n",
       "196.39006       1\n",
       "280.49518       1\n",
       "Name: count, dtype: int64"
      ]
     },
     "execution_count": 8,
     "metadata": {},
     "output_type": "execute_result"
    }
   ],
   "source": [
    "data['Dividends'].value_counts()"
   ]
  },
  {
   "cell_type": "code",
   "execution_count": 9,
   "metadata": {},
   "outputs": [
    {
     "data": {
      "text/plain": [
       "Stock Splits\n",
       "0.0    1211\n",
       "2.0       2\n",
       "Name: count, dtype: int64"
      ]
     },
     "execution_count": 9,
     "metadata": {},
     "output_type": "execute_result"
    }
   ],
   "source": [
    "data['Stock Splits'].value_counts()"
   ]
  },
  {
   "cell_type": "code",
   "execution_count": 10,
   "metadata": {},
   "outputs": [],
   "source": [
    "data.drop(['Dividends', 'Stock Splits'], axis=1, inplace=True)"
   ]
  },
  {
   "cell_type": "code",
   "execution_count": 11,
   "metadata": {},
   "outputs": [],
   "source": [
    "# 1. Menghitung Return Harian\n",
    "data['return'] = data['Close'].pct_change()\n",
    "data['log_return'] = np.log(data['Close'] / data['Close'].shift(1))"
   ]
  },
  {
   "cell_type": "code",
   "execution_count": 12,
   "metadata": {},
   "outputs": [],
   "source": [
    "# 2. Moving Averages\n",
    "data['ma_5'] = data['Close'].rolling(window=5).mean()\n",
    "data['ma_10'] = data['Close'].rolling(window=10).mean()\n",
    "data['ma_20'] = data['Close'].rolling(window=20).mean()"
   ]
  },
  {
   "cell_type": "code",
   "execution_count": 13,
   "metadata": {},
   "outputs": [],
   "source": [
    "# 3. Exponential Moving Average (EMA)\n",
    "data['ema_10'] = data['Close'].ewm(span=10, adjust=False).mean()\n",
    "data['ema_20'] = data['Close'].ewm(span=20, adjust=False).mean()"
   ]
  },
  {
   "cell_type": "code",
   "execution_count": 14,
   "metadata": {},
   "outputs": [],
   "source": [
    "# 4. Bollinger Bands\n",
    "data['bollinger_mid'] = data['Close'].rolling(window=20).mean()\n",
    "data['bollinger_std'] = data['Close'].rolling(window=20).std()\n",
    "data['bollinger_upper'] = data['bollinger_mid'] + (2 * data['bollinger_std'])\n",
    "data['bollinger_lower'] = data['bollinger_mid'] - (2 * data['bollinger_std'])"
   ]
  },
  {
   "cell_type": "code",
   "execution_count": 15,
   "metadata": {},
   "outputs": [],
   "source": [
    "# 10. Penambahan Fitur Waktu\n",
    "data['day_of_week'] = data['date'].dt.dayofweek  # 0 = Monday, 6 = Sunday\n",
    "data['month'] = data['date'].dt.month"
   ]
  },
  {
   "cell_type": "code",
   "execution_count": 16,
   "metadata": {},
   "outputs": [],
   "source": [
    "# Hapus data yang mengandung nilai NaN akibat perhitungan rolling\n",
    "data = data.dropna().reset_index(drop=True)"
   ]
  },
  {
   "cell_type": "code",
   "execution_count": 17,
   "metadata": {},
   "outputs": [
    {
     "data": {
      "text/html": [
       "<div>\n",
       "<style scoped>\n",
       "    .dataframe tbody tr th:only-of-type {\n",
       "        vertical-align: middle;\n",
       "    }\n",
       "\n",
       "    .dataframe tbody tr th {\n",
       "        vertical-align: top;\n",
       "    }\n",
       "\n",
       "    .dataframe thead th {\n",
       "        text-align: right;\n",
       "    }\n",
       "</style>\n",
       "<table border=\"1\" class=\"dataframe\">\n",
       "  <thead>\n",
       "    <tr style=\"text-align: right;\">\n",
       "      <th></th>\n",
       "      <th>Open</th>\n",
       "      <th>High</th>\n",
       "      <th>Low</th>\n",
       "      <th>Close</th>\n",
       "      <th>Volume</th>\n",
       "      <th>date</th>\n",
       "      <th>return</th>\n",
       "      <th>log_return</th>\n",
       "      <th>ma_5</th>\n",
       "      <th>ma_10</th>\n",
       "      <th>ma_20</th>\n",
       "      <th>ema_10</th>\n",
       "      <th>ema_20</th>\n",
       "      <th>bollinger_mid</th>\n",
       "      <th>bollinger_std</th>\n",
       "      <th>bollinger_upper</th>\n",
       "      <th>bollinger_lower</th>\n",
       "      <th>day_of_week</th>\n",
       "      <th>month</th>\n",
       "    </tr>\n",
       "  </thead>\n",
       "  <tbody>\n",
       "    <tr>\n",
       "      <th>0</th>\n",
       "      <td>3245.003502</td>\n",
       "      <td>3266.636858</td>\n",
       "      <td>3212.553467</td>\n",
       "      <td>3212.553467</td>\n",
       "      <td>42196800</td>\n",
       "      <td>2019-12-04</td>\n",
       "      <td>-0.016556</td>\n",
       "      <td>-0.016695</td>\n",
       "      <td>3238.513525</td>\n",
       "      <td>3255.820166</td>\n",
       "      <td>3254.738501</td>\n",
       "      <td>3247.538989</td>\n",
       "      <td>3255.803649</td>\n",
       "      <td>3254.738501</td>\n",
       "      <td>47.590787</td>\n",
       "      <td>3349.920075</td>\n",
       "      <td>3159.556926</td>\n",
       "      <td>2</td>\n",
       "      <td>12</td>\n",
       "    </tr>\n",
       "    <tr>\n",
       "      <th>1</th>\n",
       "      <td>3223.370117</td>\n",
       "      <td>3255.820152</td>\n",
       "      <td>3212.553439</td>\n",
       "      <td>3223.370117</td>\n",
       "      <td>53985800</td>\n",
       "      <td>2019-12-05</td>\n",
       "      <td>0.003367</td>\n",
       "      <td>0.003361</td>\n",
       "      <td>3242.840186</td>\n",
       "      <td>3245.003491</td>\n",
       "      <td>3251.493494</td>\n",
       "      <td>3243.144648</td>\n",
       "      <td>3252.714741</td>\n",
       "      <td>3251.493494</td>\n",
       "      <td>47.396298</td>\n",
       "      <td>3346.286090</td>\n",
       "      <td>3156.700897</td>\n",
       "      <td>3</td>\n",
       "      <td>12</td>\n",
       "    </tr>\n",
       "    <tr>\n",
       "      <th>2</th>\n",
       "      <td>3245.003336</td>\n",
       "      <td>3299.086725</td>\n",
       "      <td>3234.186658</td>\n",
       "      <td>3277.453369</td>\n",
       "      <td>29544800</td>\n",
       "      <td>2019-12-06</td>\n",
       "      <td>0.016778</td>\n",
       "      <td>0.016639</td>\n",
       "      <td>3249.330176</td>\n",
       "      <td>3241.758472</td>\n",
       "      <td>3249.330164</td>\n",
       "      <td>3249.382598</td>\n",
       "      <td>3255.070801</td>\n",
       "      <td>3249.330164</td>\n",
       "      <td>44.996949</td>\n",
       "      <td>3339.324061</td>\n",
       "      <td>3159.336266</td>\n",
       "      <td>4</td>\n",
       "      <td>12</td>\n",
       "    </tr>\n",
       "    <tr>\n",
       "      <th>3</th>\n",
       "      <td>3299.086725</td>\n",
       "      <td>3309.903402</td>\n",
       "      <td>3255.820014</td>\n",
       "      <td>3277.453369</td>\n",
       "      <td>36970600</td>\n",
       "      <td>2019-12-09</td>\n",
       "      <td>0.000000</td>\n",
       "      <td>0.000000</td>\n",
       "      <td>3251.493457</td>\n",
       "      <td>3245.003467</td>\n",
       "      <td>3249.870984</td>\n",
       "      <td>3254.486374</td>\n",
       "      <td>3257.202474</td>\n",
       "      <td>3249.870984</td>\n",
       "      <td>45.280019</td>\n",
       "      <td>3340.431022</td>\n",
       "      <td>3159.310946</td>\n",
       "      <td>0</td>\n",
       "      <td>12</td>\n",
       "    </tr>\n",
       "    <tr>\n",
       "      <th>4</th>\n",
       "      <td>3277.453585</td>\n",
       "      <td>3309.903621</td>\n",
       "      <td>3255.820228</td>\n",
       "      <td>3288.270264</td>\n",
       "      <td>38381200</td>\n",
       "      <td>2019-12-10</td>\n",
       "      <td>0.003300</td>\n",
       "      <td>0.003295</td>\n",
       "      <td>3255.820117</td>\n",
       "      <td>3249.330151</td>\n",
       "      <td>3249.870984</td>\n",
       "      <td>3260.628900</td>\n",
       "      <td>3260.161311</td>\n",
       "      <td>3249.870984</td>\n",
       "      <td>45.280019</td>\n",
       "      <td>3340.431022</td>\n",
       "      <td>3159.310946</td>\n",
       "      <td>1</td>\n",
       "      <td>12</td>\n",
       "    </tr>\n",
       "  </tbody>\n",
       "</table>\n",
       "</div>"
      ],
      "text/plain": [
       "          Open         High          Low        Close    Volume       date  \\\n",
       "0  3245.003502  3266.636858  3212.553467  3212.553467  42196800 2019-12-04   \n",
       "1  3223.370117  3255.820152  3212.553439  3223.370117  53985800 2019-12-05   \n",
       "2  3245.003336  3299.086725  3234.186658  3277.453369  29544800 2019-12-06   \n",
       "3  3299.086725  3309.903402  3255.820014  3277.453369  36970600 2019-12-09   \n",
       "4  3277.453585  3309.903621  3255.820228  3288.270264  38381200 2019-12-10   \n",
       "\n",
       "     return  log_return         ma_5        ma_10        ma_20       ema_10  \\\n",
       "0 -0.016556   -0.016695  3238.513525  3255.820166  3254.738501  3247.538989   \n",
       "1  0.003367    0.003361  3242.840186  3245.003491  3251.493494  3243.144648   \n",
       "2  0.016778    0.016639  3249.330176  3241.758472  3249.330164  3249.382598   \n",
       "3  0.000000    0.000000  3251.493457  3245.003467  3249.870984  3254.486374   \n",
       "4  0.003300    0.003295  3255.820117  3249.330151  3249.870984  3260.628900   \n",
       "\n",
       "        ema_20  bollinger_mid  bollinger_std  bollinger_upper  \\\n",
       "0  3255.803649    3254.738501      47.590787      3349.920075   \n",
       "1  3252.714741    3251.493494      47.396298      3346.286090   \n",
       "2  3255.070801    3249.330164      44.996949      3339.324061   \n",
       "3  3257.202474    3249.870984      45.280019      3340.431022   \n",
       "4  3260.161311    3249.870984      45.280019      3340.431022   \n",
       "\n",
       "   bollinger_lower  day_of_week  month  \n",
       "0      3159.556926            2     12  \n",
       "1      3156.700897            3     12  \n",
       "2      3159.336266            4     12  \n",
       "3      3159.310946            0     12  \n",
       "4      3159.310946            1     12  "
      ]
     },
     "execution_count": 17,
     "metadata": {},
     "output_type": "execute_result"
    }
   ],
   "source": [
    "data.head()"
   ]
  },
  {
   "cell_type": "code",
   "execution_count": 18,
   "metadata": {},
   "outputs": [
    {
     "data": {
      "text/plain": [
       "Open               0\n",
       "High               0\n",
       "Low                0\n",
       "Close              0\n",
       "Volume             0\n",
       "date               0\n",
       "return             0\n",
       "log_return         0\n",
       "ma_5               0\n",
       "ma_10              0\n",
       "ma_20              0\n",
       "ema_10             0\n",
       "ema_20             0\n",
       "bollinger_mid      0\n",
       "bollinger_std      0\n",
       "bollinger_upper    0\n",
       "bollinger_lower    0\n",
       "day_of_week        0\n",
       "month              0\n",
       "dtype: int64"
      ]
     },
     "execution_count": 18,
     "metadata": {},
     "output_type": "execute_result"
    }
   ],
   "source": [
    "data.isnull().sum()"
   ]
  },
  {
   "cell_type": "markdown",
   "metadata": {},
   "source": [
    "# Modelling"
   ]
  },
  {
   "cell_type": "markdown",
   "metadata": {},
   "source": [
    "## Preprocessing"
   ]
  },
  {
   "cell_type": "code",
   "execution_count": 19,
   "metadata": {},
   "outputs": [],
   "source": [
    "dataUsed = data[['Close', 'Volume', 'ma_5', 'ma_10', 'ema_10', 'bollinger_mid', 'bollinger_std', 'bollinger_upper', 'bollinger_lower', 'day_of_week', 'month']]"
   ]
  },
  {
   "cell_type": "code",
   "execution_count": 20,
   "metadata": {},
   "outputs": [
    {
     "data": {
      "text/plain": [
       "array([[0.39722655, 0.09501956, 0.38797812, ..., 0.46656508, 0.5       ,\n",
       "        1.        ],\n",
       "       [0.39960833, 0.12156626, 0.38896933, ..., 0.46593506, 0.75      ,\n",
       "        1.        ],\n",
       "       [0.41151722, 0.06652955, 0.39045615, ..., 0.4665164 , 1.        ,\n",
       "        1.        ],\n",
       "       ...,\n",
       "       [0.87889247, 0.07306342, 0.85452522, ..., 0.901559  , 0.25      ,\n",
       "        0.90909091],\n",
       "       [0.8183387 , 0.151354  , 0.84994334, ..., 0.8932178 , 0.5       ,\n",
       "        0.90909091],\n",
       "       [0.80732892, 0.02430388, 0.84192505, ..., 0.88300305, 0.75      ,\n",
       "        0.90909091]])"
      ]
     },
     "execution_count": 20,
     "metadata": {},
     "output_type": "execute_result"
    }
   ],
   "source": [
    "from sklearn.preprocessing import MinMaxScaler\n",
    "\n",
    "# preprocessing\n",
    "scaler = MinMaxScaler(feature_range=(0, 1))\n",
    "data_scaled = scaler.fit_transform(dataUsed)\n",
    "\n",
    "data_scaled"
   ]
  },
  {
   "cell_type": "markdown",
   "metadata": {},
   "source": [
    "## Train Test Sequence"
   ]
  },
  {
   "cell_type": "code",
   "execution_count": 21,
   "metadata": {},
   "outputs": [],
   "source": [
    "import numpy as np\n",
    "\n",
    "# sequence generator 60 days\n",
    "sequence_length = 60\n",
    "x = []\n",
    "y = []\n",
    "\n",
    "for i in range(sequence_length, len(data_scaled)):\n",
    "    x.append(data_scaled[i-sequence_length:i])\n",
    "    y.append(data_scaled[i,3])\n",
    "\n",
    "x, y = np.array(x), np.array(y)"
   ]
  },
  {
   "cell_type": "code",
   "execution_count": 22,
   "metadata": {},
   "outputs": [
    {
     "name": "stdout",
     "output_type": "stream",
     "text": [
      "(1134, 60, 11) (1134,)\n"
     ]
    }
   ],
   "source": [
    "print(x.shape, y.shape)"
   ]
  },
  {
   "cell_type": "markdown",
   "metadata": {},
   "source": [
    "## LSTM"
   ]
  },
  {
   "cell_type": "code",
   "execution_count": 23,
   "metadata": {},
   "outputs": [],
   "source": [
    "from sklearn.model_selection import train_test_split\n",
    "\n",
    "# train and test split\n",
    "x_train, x_test, y_train, y_test = train_test_split(x, y, test_size=0.2, random_state=42)"
   ]
  },
  {
   "cell_type": "code",
   "execution_count": 24,
   "metadata": {},
   "outputs": [],
   "source": [
    "from tensorflow.keras.models import Sequential\n",
    "from tensorflow.keras.layers import LSTM, Dense, Dropout"
   ]
  },
  {
   "cell_type": "code",
   "execution_count": 25,
   "metadata": {},
   "outputs": [],
   "source": [
    "# LSTM model\n",
    "model = Sequential()\n",
    "model.add(LSTM(units=50, return_sequences=True, input_shape=(x_train.shape[1], x_train.shape[2])))\n",
    "model.add(Dropout(0.2))\n",
    "model.add(LSTM(units=50, return_sequences=True))\n",
    "model.add(Dropout(0.2))\n",
    "model.add(LSTM(units=50))\n",
    "model.add(Dropout(0.2))\n",
    "model.add(Dense(units=1))\n",
    "\n",
    "model.compile(optimizer='adam', loss='mean_squared_error')"
   ]
  },
  {
   "cell_type": "code",
   "execution_count": 26,
   "metadata": {},
   "outputs": [
    {
     "name": "stdout",
     "output_type": "stream",
     "text": [
      "Epoch 1/100\n",
      "29/29 [==============================] - 6s 62ms/step - loss: 0.0372 - val_loss: 0.0035\n",
      "Epoch 2/100\n",
      "29/29 [==============================] - 1s 31ms/step - loss: 0.0063 - val_loss: 0.0024\n",
      "Epoch 3/100\n",
      "29/29 [==============================] - 1s 32ms/step - loss: 0.0051 - val_loss: 0.0018\n",
      "Epoch 4/100\n",
      "29/29 [==============================] - 1s 31ms/step - loss: 0.0056 - val_loss: 0.0016\n",
      "Epoch 5/100\n",
      "29/29 [==============================] - 1s 31ms/step - loss: 0.0048 - val_loss: 0.0014\n",
      "Epoch 6/100\n",
      "29/29 [==============================] - 1s 32ms/step - loss: 0.0045 - val_loss: 0.0021\n",
      "Epoch 7/100\n",
      "29/29 [==============================] - 1s 32ms/step - loss: 0.0044 - val_loss: 0.0010\n",
      "Epoch 8/100\n",
      "29/29 [==============================] - 1s 32ms/step - loss: 0.0037 - val_loss: 0.0011\n",
      "Epoch 9/100\n",
      "29/29 [==============================] - 1s 32ms/step - loss: 0.0038 - val_loss: 9.7040e-04\n",
      "Epoch 10/100\n",
      "29/29 [==============================] - 1s 32ms/step - loss: 0.0041 - val_loss: 8.1034e-04\n",
      "Epoch 11/100\n",
      "29/29 [==============================] - 1s 33ms/step - loss: 0.0035 - val_loss: 8.0141e-04\n",
      "Epoch 12/100\n",
      "29/29 [==============================] - 1s 31ms/step - loss: 0.0033 - val_loss: 0.0010\n",
      "Epoch 13/100\n",
      "29/29 [==============================] - 1s 31ms/step - loss: 0.0033 - val_loss: 6.3488e-04\n",
      "Epoch 14/100\n",
      "29/29 [==============================] - 1s 31ms/step - loss: 0.0035 - val_loss: 6.9498e-04\n",
      "Epoch 15/100\n",
      "29/29 [==============================] - 1s 31ms/step - loss: 0.0032 - val_loss: 6.4204e-04\n",
      "Epoch 16/100\n",
      "29/29 [==============================] - 1s 31ms/step - loss: 0.0031 - val_loss: 5.3538e-04\n",
      "Epoch 17/100\n",
      "29/29 [==============================] - 1s 31ms/step - loss: 0.0033 - val_loss: 5.0953e-04\n",
      "Epoch 18/100\n",
      "29/29 [==============================] - 1s 33ms/step - loss: 0.0030 - val_loss: 6.2723e-04\n",
      "Epoch 19/100\n",
      "29/29 [==============================] - 1s 31ms/step - loss: 0.0027 - val_loss: 4.7693e-04\n",
      "Epoch 20/100\n",
      "29/29 [==============================] - 1s 31ms/step - loss: 0.0027 - val_loss: 4.2516e-04\n",
      "Epoch 21/100\n",
      "29/29 [==============================] - 1s 31ms/step - loss: 0.0025 - val_loss: 4.9905e-04\n",
      "Epoch 22/100\n",
      "29/29 [==============================] - 1s 31ms/step - loss: 0.0028 - val_loss: 7.1374e-04\n",
      "Epoch 23/100\n",
      "29/29 [==============================] - 1s 31ms/step - loss: 0.0029 - val_loss: 0.0011\n",
      "Epoch 24/100\n",
      "29/29 [==============================] - 1s 31ms/step - loss: 0.0024 - val_loss: 4.1471e-04\n",
      "Epoch 25/100\n",
      "29/29 [==============================] - 1s 30ms/step - loss: 0.0023 - val_loss: 3.5256e-04\n",
      "Epoch 26/100\n",
      "29/29 [==============================] - 1s 31ms/step - loss: 0.0023 - val_loss: 4.6384e-04\n",
      "Epoch 27/100\n",
      "29/29 [==============================] - 1s 31ms/step - loss: 0.0023 - val_loss: 0.0011\n",
      "Epoch 28/100\n",
      "29/29 [==============================] - 1s 31ms/step - loss: 0.0026 - val_loss: 3.1840e-04\n",
      "Epoch 29/100\n",
      "29/29 [==============================] - 1s 31ms/step - loss: 0.0021 - val_loss: 4.4878e-04\n",
      "Epoch 30/100\n",
      "29/29 [==============================] - 1s 31ms/step - loss: 0.0021 - val_loss: 3.0612e-04\n",
      "Epoch 31/100\n",
      "29/29 [==============================] - 1s 30ms/step - loss: 0.0022 - val_loss: 3.1516e-04\n",
      "Epoch 32/100\n",
      "29/29 [==============================] - 1s 31ms/step - loss: 0.0021 - val_loss: 8.5553e-04\n",
      "Epoch 33/100\n",
      "29/29 [==============================] - 1s 31ms/step - loss: 0.0020 - val_loss: 9.1306e-04\n",
      "Epoch 34/100\n",
      "29/29 [==============================] - 1s 31ms/step - loss: 0.0020 - val_loss: 2.7465e-04\n",
      "Epoch 35/100\n",
      "29/29 [==============================] - 1s 31ms/step - loss: 0.0019 - val_loss: 3.7936e-04\n",
      "Epoch 36/100\n",
      "29/29 [==============================] - 1s 31ms/step - loss: 0.0019 - val_loss: 2.1329e-04\n",
      "Epoch 37/100\n",
      "29/29 [==============================] - 1s 31ms/step - loss: 0.0017 - val_loss: 2.0970e-04\n",
      "Epoch 38/100\n",
      "29/29 [==============================] - 1s 31ms/step - loss: 0.0018 - val_loss: 4.5464e-04\n",
      "Epoch 39/100\n",
      "29/29 [==============================] - 1s 31ms/step - loss: 0.0018 - val_loss: 7.3132e-04\n",
      "Epoch 40/100\n",
      "29/29 [==============================] - 1s 31ms/step - loss: 0.0022 - val_loss: 5.2404e-04\n",
      "Epoch 41/100\n",
      "29/29 [==============================] - 1s 31ms/step - loss: 0.0019 - val_loss: 1.8379e-04\n",
      "Epoch 42/100\n",
      "29/29 [==============================] - 1s 31ms/step - loss: 0.0019 - val_loss: 2.8701e-04\n",
      "Epoch 43/100\n",
      "29/29 [==============================] - 1s 31ms/step - loss: 0.0020 - val_loss: 3.6475e-04\n",
      "Epoch 44/100\n",
      "29/29 [==============================] - 1s 30ms/step - loss: 0.0017 - val_loss: 6.8449e-04\n",
      "Epoch 45/100\n",
      "29/29 [==============================] - 1s 31ms/step - loss: 0.0019 - val_loss: 3.5243e-04\n",
      "Epoch 46/100\n",
      "29/29 [==============================] - 1s 31ms/step - loss: 0.0017 - val_loss: 0.0014\n",
      "Epoch 47/100\n",
      "29/29 [==============================] - 1s 31ms/step - loss: 0.0024 - val_loss: 4.0888e-04\n",
      "Epoch 48/100\n",
      "29/29 [==============================] - 1s 31ms/step - loss: 0.0016 - val_loss: 2.1669e-04\n",
      "Epoch 49/100\n",
      "29/29 [==============================] - 1s 31ms/step - loss: 0.0020 - val_loss: 2.5713e-04\n",
      "Epoch 50/100\n",
      "29/29 [==============================] - 1s 31ms/step - loss: 0.0015 - val_loss: 2.0221e-04\n",
      "Epoch 51/100\n",
      "29/29 [==============================] - 1s 30ms/step - loss: 0.0016 - val_loss: 4.1694e-04\n",
      "Epoch 52/100\n",
      "29/29 [==============================] - 1s 31ms/step - loss: 0.0016 - val_loss: 1.9616e-04\n",
      "Epoch 53/100\n",
      "29/29 [==============================] - 1s 31ms/step - loss: 0.0018 - val_loss: 1.3542e-04\n",
      "Epoch 54/100\n",
      "29/29 [==============================] - 1s 31ms/step - loss: 0.0016 - val_loss: 1.4148e-04\n",
      "Epoch 55/100\n",
      "29/29 [==============================] - 1s 31ms/step - loss: 0.0016 - val_loss: 1.8261e-04\n",
      "Epoch 56/100\n",
      "29/29 [==============================] - 1s 30ms/step - loss: 0.0014 - val_loss: 1.4381e-04\n",
      "Epoch 57/100\n",
      "29/29 [==============================] - 1s 31ms/step - loss: 0.0014 - val_loss: 1.1999e-04\n",
      "Epoch 58/100\n",
      "29/29 [==============================] - 1s 30ms/step - loss: 0.0016 - val_loss: 1.2239e-04\n",
      "Epoch 59/100\n",
      "29/29 [==============================] - 1s 30ms/step - loss: 0.0014 - val_loss: 2.2274e-04\n",
      "Epoch 60/100\n",
      "29/29 [==============================] - 1s 30ms/step - loss: 0.0015 - val_loss: 3.1159e-04\n",
      "Epoch 61/100\n",
      "29/29 [==============================] - 1s 31ms/step - loss: 0.0013 - val_loss: 4.2997e-04\n",
      "Epoch 62/100\n",
      "29/29 [==============================] - 1s 31ms/step - loss: 0.0015 - val_loss: 3.0081e-04\n",
      "Epoch 63/100\n",
      "29/29 [==============================] - 1s 31ms/step - loss: 0.0014 - val_loss: 4.3146e-04\n",
      "Epoch 64/100\n",
      "29/29 [==============================] - 1s 33ms/step - loss: 0.0013 - val_loss: 4.9426e-04\n",
      "Epoch 65/100\n",
      "29/29 [==============================] - 1s 33ms/step - loss: 0.0017 - val_loss: 1.5234e-04\n",
      "Epoch 66/100\n",
      "29/29 [==============================] - 1s 33ms/step - loss: 0.0015 - val_loss: 1.5513e-04\n",
      "Epoch 67/100\n",
      "29/29 [==============================] - 1s 34ms/step - loss: 0.0014 - val_loss: 1.5996e-04\n",
      "Epoch 68/100\n",
      "29/29 [==============================] - 1s 35ms/step - loss: 0.0014 - val_loss: 3.6068e-04\n",
      "Epoch 69/100\n",
      "29/29 [==============================] - 1s 33ms/step - loss: 0.0013 - val_loss: 1.3634e-04\n",
      "Epoch 70/100\n",
      "29/29 [==============================] - 1s 32ms/step - loss: 0.0012 - val_loss: 8.5732e-05\n",
      "Epoch 71/100\n",
      "29/29 [==============================] - 1s 31ms/step - loss: 0.0013 - val_loss: 1.3918e-04\n",
      "Epoch 72/100\n",
      "29/29 [==============================] - 1s 31ms/step - loss: 0.0012 - val_loss: 2.2816e-04\n",
      "Epoch 73/100\n",
      "29/29 [==============================] - 1s 32ms/step - loss: 0.0012 - val_loss: 4.3720e-04\n",
      "Epoch 74/100\n",
      "29/29 [==============================] - 1s 32ms/step - loss: 0.0013 - val_loss: 1.4670e-04\n",
      "Epoch 75/100\n",
      "29/29 [==============================] - 1s 32ms/step - loss: 0.0011 - val_loss: 1.3312e-04\n",
      "Epoch 76/100\n",
      "29/29 [==============================] - 1s 31ms/step - loss: 0.0013 - val_loss: 1.0811e-04\n",
      "Epoch 77/100\n",
      "29/29 [==============================] - 1s 32ms/step - loss: 0.0012 - val_loss: 6.2759e-04\n",
      "Epoch 78/100\n",
      "29/29 [==============================] - 1s 31ms/step - loss: 0.0013 - val_loss: 1.9366e-04\n",
      "Epoch 79/100\n",
      "29/29 [==============================] - 1s 31ms/step - loss: 0.0011 - val_loss: 2.1671e-04\n",
      "Epoch 80/100\n",
      "29/29 [==============================] - 1s 31ms/step - loss: 0.0011 - val_loss: 6.8025e-05\n",
      "Epoch 81/100\n",
      "29/29 [==============================] - 1s 31ms/step - loss: 0.0011 - val_loss: 1.6268e-04\n",
      "Epoch 82/100\n",
      "29/29 [==============================] - 1s 31ms/step - loss: 0.0011 - val_loss: 1.3182e-04\n",
      "Epoch 83/100\n",
      "29/29 [==============================] - 1s 32ms/step - loss: 0.0011 - val_loss: 1.0625e-04\n",
      "Epoch 84/100\n",
      "29/29 [==============================] - 1s 35ms/step - loss: 0.0010 - val_loss: 6.4322e-05\n",
      "Epoch 85/100\n",
      "29/29 [==============================] - 1s 33ms/step - loss: 0.0011 - val_loss: 1.0928e-04\n",
      "Epoch 86/100\n",
      "29/29 [==============================] - 1s 32ms/step - loss: 0.0012 - val_loss: 1.3046e-04\n",
      "Epoch 87/100\n",
      "29/29 [==============================] - 1s 32ms/step - loss: 0.0011 - val_loss: 4.4594e-04\n",
      "Epoch 88/100\n",
      "29/29 [==============================] - 1s 32ms/step - loss: 0.0011 - val_loss: 1.2192e-04\n",
      "Epoch 89/100\n",
      "29/29 [==============================] - 1s 34ms/step - loss: 0.0012 - val_loss: 6.4116e-05\n",
      "Epoch 90/100\n",
      "29/29 [==============================] - 1s 34ms/step - loss: 0.0011 - val_loss: 5.3500e-04\n",
      "Epoch 91/100\n",
      "29/29 [==============================] - 1s 32ms/step - loss: 0.0010 - val_loss: 7.3187e-05\n",
      "Epoch 92/100\n",
      "29/29 [==============================] - 1s 33ms/step - loss: 0.0010 - val_loss: 6.4692e-05\n",
      "Epoch 93/100\n",
      "29/29 [==============================] - 1s 33ms/step - loss: 9.8334e-04 - val_loss: 3.3608e-04\n",
      "Epoch 94/100\n",
      "29/29 [==============================] - 1s 32ms/step - loss: 0.0012 - val_loss: 1.0108e-04\n",
      "Epoch 95/100\n",
      "29/29 [==============================] - 1s 32ms/step - loss: 0.0013 - val_loss: 9.2657e-05\n",
      "Epoch 96/100\n",
      "29/29 [==============================] - 1s 33ms/step - loss: 0.0012 - val_loss: 5.1856e-05\n",
      "Epoch 97/100\n",
      "29/29 [==============================] - 1s 32ms/step - loss: 9.5769e-04 - val_loss: 9.5581e-05\n",
      "Epoch 98/100\n",
      "29/29 [==============================] - 1s 33ms/step - loss: 0.0011 - val_loss: 7.5536e-05\n",
      "Epoch 99/100\n",
      "29/29 [==============================] - 1s 34ms/step - loss: 9.6797e-04 - val_loss: 7.5555e-05\n",
      "Epoch 100/100\n",
      "29/29 [==============================] - 1s 33ms/step - loss: 0.0012 - val_loss: 6.8297e-05\n"
     ]
    },
    {
     "data": {
      "text/plain": [
       "<keras.src.callbacks.History at 0x1f8c72db250>"
      ]
     },
     "execution_count": 26,
     "metadata": {},
     "output_type": "execute_result"
    }
   ],
   "source": [
    "# train model with early stopping\n",
    "model.fit(x_train, y_train, epochs=100, batch_size=32, validation_data=(x_test, y_test), verbose=1)"
   ]
  },
  {
   "cell_type": "code",
   "execution_count": 27,
   "metadata": {},
   "outputs": [
    {
     "name": "stdout",
     "output_type": "stream",
     "text": [
      "8/8 [==============================] - 1s 10ms/step\n"
     ]
    }
   ],
   "source": [
    "# prediction\n",
    "predicted_prices =  model.predict(x_test)\n"
   ]
  },
  {
   "cell_type": "code",
   "execution_count": 28,
   "metadata": {},
   "outputs": [],
   "source": [
    "# Dapatkan jumlah kolom yang diharapkan oleh scaler\n",
    "expected_columns = scaler.min_.shape[0]  # Ini adalah 13 dalam kasus Anda\n",
    "\n",
    "# Tambahkan kolom nol untuk menyesuaikan jumlah kolom\n",
    "predicted_prices_padded = np.hstack([np.zeros((predicted_prices.shape[0], expected_columns - 1)), predicted_prices])\n",
    "\n",
    "# Inverse transform dan ambil hanya kolom harga 'Close'\n",
    "predicted_prices = scaler.inverse_transform(predicted_prices_padded)[:, -1]  # Ambil hanya kolom harga\n"
   ]
  },
  {
   "cell_type": "code",
   "execution_count": 29,
   "metadata": {},
   "outputs": [],
   "source": [
    "expected_columns = scaler.min_.shape[0]  # Ini adalah 13 dalam kasus Anda\n",
    "\n",
    "# Tambahkan kolom nol untuk menyesuaikan jumlah kolom\n",
    "real_prices_padded = np.hstack([np.zeros((y_test.shape[0], expected_columns - 1)), y_test.reshape(-1,1)])\n",
    "\n",
    "# Inverse transform dan ambil hanya kolom harga 'Close'\n",
    "real_prices = scaler.inverse_transform(real_prices_padded)[:, -1]  # Ambil hanya kolom harga\n"
   ]
  },
  {
   "cell_type": "code",
   "execution_count": 30,
   "metadata": {},
   "outputs": [
    {
     "data": {
      "text/plain": [
       "array([ 7.83456529,  8.94345117,  4.9709335 ,  5.21340445,  7.4419898 ,\n",
       "        2.35894396,  7.23032324,  1.01947895,  9.51944241, 11.33663234,\n",
       "        8.3957548 ,  2.23748689,  7.37143433,  8.50615261,  7.84054315,\n",
       "        9.72972951,  7.61837878,  7.9296302 ,  7.37731378,  4.87567725,\n",
       "        2.20998741,  3.32270934, 11.26303384,  2.4471725 ,  2.46550557,\n",
       "        1.35062128,  3.62514999,  3.37466748,  3.69796189,  2.26384071,\n",
       "        2.61159749,  4.72557629,  8.9998766 ,  7.64189778,  9.74199599,\n",
       "        1.21426847, 11.52062891,  9.51944241,  5.05753023,  7.33027673,\n",
       "        3.67198289,  4.48310546,  9.12867414,  3.69210704,  8.7913472 ,\n",
       "       10.93965803,  2.27300738,  6.91282224,  8.41026044,  7.88296247,\n",
       "        2.96650837,  5.94658995,  4.46840088,  3.08312521,  8.10136029,\n",
       "        2.09998848, 11.7429474 ,  9.80348554,  4.30225697,  7.43904983,\n",
       "        8.6962823 ,  9.17499193,  1.08593662,  4.79196709, 11.27382641,\n",
       "       10.54765281,  2.35109419,  6.56592379,  4.69671071,  6.8834243 ,\n",
       "        7.37143451,  2.34878499,  2.43422711,  5.04598401,  7.44786938,\n",
       "        2.66630633,  3.84679297,  8.14754616,  9.01690458,  2.74565876,\n",
       "        3.06003259,  1.62561846,  3.8467929 ,  9.91915921,  7.9829164 ,\n",
       "        9.76652883,  7.58016148,  4.26788228,  3.3684123 ,  3.09467137,\n",
       "        2.43076324,  8.45095383,  2.36033121,  2.10571744,  7.00395674,\n",
       "        2.87240653,  3.73507531,  2.38226904, 12.        ,  3.06580573,\n",
       "        7.8212263 ,  3.38273536,  3.13508304,  2.85162343,  7.86238383,\n",
       "        4.31657975,  5.83978729,  7.82122655,  7.85296476,  3.08023839,\n",
       "        9.53872136,  5.86918693,  7.93587929, 10.43840546,  8.15930569,\n",
       "        7.41847125,  8.11669332,  8.36815528,  1.21999768,  2.25753875,\n",
       "        1.20739363,  4.29939243,  8.28342745,  7.89896412,  7.82122617,\n",
       "        3.16394855,  4.81505946,  9.3356498 ,  9.22312566,  6.82168793,\n",
       "        3.49012985,  7.31557772,  4.30798606,  8.33135597,  4.96804699,\n",
       "        2.18821661,  5.96968226,  4.70248379,  9.69293007,  4.98247978,\n",
       "        3.06869224,  6.3335923 ,  7.18034597,  4.94784119,  2.12519645,\n",
       "       10.9717896 ,  2.17217501,  4.0501763 ,  6.76289179,  3.89549031,\n",
       "        2.49773128,  2.07936362,  4.84969818,  3.25054534,  8.11056008,\n",
       "        2.12290472,  9.5580003 ,  5.92927052,  6.12495106,  9.82786072,\n",
       "        7.8161657 ,  4.80062674,  7.48902679,  3.28518406,  5.98411517,\n",
       "       11.06175801,  6.83638737,  6.88930393,  8.11976001,  9.88702763,\n",
       "        9.45373472,  3.06869224,  7.12742922,  2.12061306,  3.84392836,\n",
       "       10.78542647, 10.42278311,  9.85239356,  4.76310151,  7.34791571,\n",
       "        1.44228702,  1.59009794,  8.36508872,  2.27988221,  1.01604147,\n",
       "        8.28535685,  3.30827668,  6.54377434,  6.29840038,  2.66572909,\n",
       "        8.89683855,  4.83840519,  7.94175911,  7.73303215, 11.46018954,\n",
       "        7.8498982 ,  8.46628662,  7.97869599,  3.3717811 ,  9.13971397,\n",
       "        7.58310152,  1.11572792,  8.20634268,  7.21268376,  1.70926344,\n",
       "        3.71239462, 11.01677381,  7.4096517 ,  2.20769568,  2.72274205,\n",
       "        6.46596999,  2.88972589,  3.67114471,  9.87160447,  5.1152615 ,\n",
       "        3.9355941 ,  3.1408563 ,  7.87136448,  4.81794603,  2.89492185,\n",
       "       11.15815274, 10.83041067,  1.91092795,  8.8821189 ,  1.98426055,\n",
       "        7.18034584,  4.8208326 ])"
      ]
     },
     "execution_count": 30,
     "metadata": {},
     "output_type": "execute_result"
    }
   ],
   "source": [
    "real_prices"
   ]
  },
  {
   "cell_type": "markdown",
   "metadata": {},
   "source": [
    "# Evaluation"
   ]
  },
  {
   "cell_type": "code",
   "execution_count": 31,
   "metadata": {},
   "outputs": [
    {
     "data": {
      "image/png": "[encoded data removed]",
      "text/plain": [
       "<Figure size 640x480 with 1 Axes>"
      ]
     },
     "metadata": {},
     "output_type": "display_data"
    }
   ],
   "source": [
    "# conpare real and predicted prices\n",
    "import matplotlib.pyplot as plt\n",
    "\n",
    "plt.plot(real_prices, color='red', label='Real Prices')\n",
    "plt.plot(predicted_prices, color='blue', label='Predicted Prices')\n",
    "plt.title('Stock Prices Prediction')\n",
    "plt.xlabel('Time')\n",
    "plt.ylabel('Stock Prices')\n",
    "plt.legend()\n",
    "plt.show()"
   ]
  },
  {
   "cell_type": "code",
   "execution_count": 32,
   "metadata": {},
   "outputs": [
    {
     "data": {
      "text/plain": [
       "0.09090600682760042"
      ]
     },
     "execution_count": 32,
     "metadata": {},
     "output_type": "execute_result"
    }
   ],
   "source": [
    "# calculate RMSE\n",
    "from sklearn.metrics import mean_squared_error\n",
    "\n",
    "rmse = np.sqrt(mean_squared_error(real_prices, predicted_prices))\n",
    "rmse"
   ]
  },
  {
   "cell_type": "code",
   "execution_count": 33,
   "metadata": {},
   "outputs": [
    {
     "data": {
      "text/plain": [
       "0.07269572479706989"
      ]
     },
     "execution_count": 33,
     "metadata": {},
     "output_type": "execute_result"
    }
   ],
   "source": [
    "# calculate MAE\n",
    "from sklearn.metrics import mean_absolute_error\n",
    "\n",
    "mae = mean_absolute_error(real_prices, predicted_prices)\n",
    "mae"
   ]
  },
  {
   "cell_type": "markdown",
   "metadata": {},
   "source": [
    "Directional Accuracy adalah metrik yang digunakan untuk mengukur seberapa baik model memprediksi arah perubahan harga (naik atau turun) dibandingkan dengan nilai aktual. Ini adalah metrik yang sangat berguna dalam prediksi saham karena dalam banyak kasus, arah perubahan harga lebih penting daripada nilai absolut dari harga itu sendiri—terutama jika tujuannya adalah untuk membuat keputusan beli atau jual."
   ]
  },
  {
   "cell_type": "code",
   "execution_count": 34,
   "metadata": {},
   "outputs": [
    {
     "data": {
      "text/plain": [
       "1.0"
      ]
     },
     "execution_count": 34,
     "metadata": {},
     "output_type": "execute_result"
    }
   ],
   "source": [
    "# direction accuracy\n",
    "direction_accuracy = np.mean(np.sign(real_prices[1:] - real_prices[:-1]) == np.sign(predicted_prices[1:] - predicted_prices[:-1]))\n",
    "direction_accuracy"
   ]
  },
  {
   "cell_type": "markdown",
   "metadata": {},
   "source": [
    "# Save Model"
   ]
  },
  {
   "cell_type": "code",
   "execution_count": 36,
   "metadata": {},
   "outputs": [],
   "source": [
    "# Save the entire model\n",
    "model.save('lstm_model_bbni.h5')  # .h5 is the standard format for Keras models\n"
   ]
  }
 ],
 "metadata": {
  "kernelspec": {
   "display_name": "ML",
   "language": "python",
   "name": "ml"
  },
  "language_info": {
   "codemirror_mode": {
    "name": "ipython",
    "version": 3
   },
   "file_extension": ".py",
   "mimetype": "text/x-python",
   "name": "python",
   "nbconvert_exporter": "python",
   "pygments_lexer": "ipython3",
   "version": "3.8.19"
  }
 },
 "nbformat": 4,
 "nbformat_minor": 2
}
