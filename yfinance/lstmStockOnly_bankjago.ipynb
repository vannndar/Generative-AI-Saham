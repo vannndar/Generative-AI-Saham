{
 "cells": [
  {
   "cell_type": "markdown",
   "metadata": {},
   "source": [
    "# Import Data"
   ]
  },
  {
   "cell_type": "code",
   "execution_count": 3,
   "metadata": {},
   "outputs": [],
   "source": [
    "import pandas as pd\n",
    "import numpy as np "
   ]
  },
  {
   "cell_type": "code",
   "execution_count": 4,
   "metadata": {},
   "outputs": [],
   "source": [
    "data = pd.read_csv('Data/ARTO_BARU.csv')"
   ]
  },
  {
   "cell_type": "code",
   "execution_count": 5,
   "metadata": {},
   "outputs": [],
   "source": [
    "data['date_str'] = pd.to_datetime(data['date_str'])"
   ]
  },
  {
   "cell_type": "code",
   "execution_count": 6,
   "metadata": {},
   "outputs": [],
   "source": [
    "# rename columns\n",
    "data = data.rename(columns={'date_str': 'date'})"
   ]
  },
  {
   "cell_type": "code",
   "execution_count": 7,
   "metadata": {},
   "outputs": [
    {
     "data": {
      "text/html": [
       "<div>\n",
       "<style scoped>\n",
       "    .dataframe tbody tr th:only-of-type {\n",
       "        vertical-align: middle;\n",
       "    }\n",
       "\n",
       "    .dataframe tbody tr th {\n",
       "        vertical-align: top;\n",
       "    }\n",
       "\n",
       "    .dataframe thead th {\n",
       "        text-align: right;\n",
       "    }\n",
       "</style>\n",
       "<table border=\"1\" class=\"dataframe\">\n",
       "  <thead>\n",
       "    <tr style=\"text-align: right;\">\n",
       "      <th></th>\n",
       "      <th>Open</th>\n",
       "      <th>High</th>\n",
       "      <th>Low</th>\n",
       "      <th>Close</th>\n",
       "      <th>Volume</th>\n",
       "      <th>Dividends</th>\n",
       "      <th>Stock Splits</th>\n",
       "      <th>date</th>\n",
       "    </tr>\n",
       "  </thead>\n",
       "  <tbody>\n",
       "    <tr>\n",
       "      <th>0</th>\n",
       "      <td>434.237030</td>\n",
       "      <td>511.601105</td>\n",
       "      <td>434.237030</td>\n",
       "      <td>511.601105</td>\n",
       "      <td>571402</td>\n",
       "      <td>0.0</td>\n",
       "      <td>0.0</td>\n",
       "      <td>2019-11-07</td>\n",
       "    </tr>\n",
       "    <tr>\n",
       "      <th>1</th>\n",
       "      <td>586.469543</td>\n",
       "      <td>639.501404</td>\n",
       "      <td>384.324738</td>\n",
       "      <td>384.324738</td>\n",
       "      <td>4277101</td>\n",
       "      <td>0.0</td>\n",
       "      <td>0.0</td>\n",
       "      <td>2019-11-08</td>\n",
       "    </tr>\n",
       "    <tr>\n",
       "      <th>2</th>\n",
       "      <td>360.616394</td>\n",
       "      <td>370.598846</td>\n",
       "      <td>288.243561</td>\n",
       "      <td>288.243561</td>\n",
       "      <td>465616</td>\n",
       "      <td>0.0</td>\n",
       "      <td>0.0</td>\n",
       "      <td>2019-11-11</td>\n",
       "    </tr>\n",
       "    <tr>\n",
       "      <th>3</th>\n",
       "      <td>288.243561</td>\n",
       "      <td>288.243561</td>\n",
       "      <td>216.494614</td>\n",
       "      <td>216.494614</td>\n",
       "      <td>1443331</td>\n",
       "      <td>0.0</td>\n",
       "      <td>0.0</td>\n",
       "      <td>2019-11-12</td>\n",
       "    </tr>\n",
       "    <tr>\n",
       "      <th>4</th>\n",
       "      <td>205.888260</td>\n",
       "      <td>269.526428</td>\n",
       "      <td>163.462799</td>\n",
       "      <td>269.526428</td>\n",
       "      <td>6254169</td>\n",
       "      <td>0.0</td>\n",
       "      <td>0.0</td>\n",
       "      <td>2019-11-13</td>\n",
       "    </tr>\n",
       "  </tbody>\n",
       "</table>\n",
       "</div>"
      ],
      "text/plain": [
       "         Open        High         Low       Close   Volume  Dividends  \\\n",
       "0  434.237030  511.601105  434.237030  511.601105   571402        0.0   \n",
       "1  586.469543  639.501404  384.324738  384.324738  4277101        0.0   \n",
       "2  360.616394  370.598846  288.243561  288.243561   465616        0.0   \n",
       "3  288.243561  288.243561  216.494614  216.494614  1443331        0.0   \n",
       "4  205.888260  269.526428  163.462799  269.526428  6254169        0.0   \n",
       "\n",
       "   Stock Splits       date  \n",
       "0           0.0 2019-11-07  \n",
       "1           0.0 2019-11-08  \n",
       "2           0.0 2019-11-11  \n",
       "3           0.0 2019-11-12  \n",
       "4           0.0 2019-11-13  "
      ]
     },
     "execution_count": 7,
     "metadata": {},
     "output_type": "execute_result"
    }
   ],
   "source": [
    "data.head()"
   ]
  },
  {
   "cell_type": "code",
   "execution_count": 8,
   "metadata": {},
   "outputs": [
    {
     "name": "stdout",
     "output_type": "stream",
     "text": [
      "<class 'pandas.core.frame.DataFrame'>\n",
      "RangeIndex: 1213 entries, 0 to 1212\n",
      "Data columns (total 8 columns):\n",
      " #   Column        Non-Null Count  Dtype         \n",
      "---  ------        --------------  -----         \n",
      " 0   Open          1213 non-null   float64       \n",
      " 1   High          1213 non-null   float64       \n",
      " 2   Low           1213 non-null   float64       \n",
      " 3   Close         1213 non-null   float64       \n",
      " 4   Volume        1213 non-null   int64         \n",
      " 5   Dividends     1213 non-null   float64       \n",
      " 6   Stock Splits  1213 non-null   float64       \n",
      " 7   date          1213 non-null   datetime64[ns]\n",
      "dtypes: datetime64[ns](1), float64(6), int64(1)\n",
      "memory usage: 75.9 KB\n"
     ]
    }
   ],
   "source": [
    "data.info()"
   ]
  },
  {
   "cell_type": "code",
   "execution_count": 9,
   "metadata": {},
   "outputs": [
    {
     "data": {
      "text/plain": [
       "Open            0\n",
       "High            0\n",
       "Low             0\n",
       "Close           0\n",
       "Volume          0\n",
       "Dividends       0\n",
       "Stock Splits    0\n",
       "date            0\n",
       "dtype: int64"
      ]
     },
     "execution_count": 9,
     "metadata": {},
     "output_type": "execute_result"
    }
   ],
   "source": [
    "data.isnull().sum()"
   ]
  },
  {
   "cell_type": "markdown",
   "metadata": {},
   "source": [
    "# Feature Engineering"
   ]
  },
  {
   "cell_type": "code",
   "execution_count": 10,
   "metadata": {},
   "outputs": [
    {
     "data": {
      "text/plain": [
       "Dividends\n",
       "0.0    1213\n",
       "Name: count, dtype: int64"
      ]
     },
     "execution_count": 10,
     "metadata": {},
     "output_type": "execute_result"
    }
   ],
   "source": [
    "data['Dividends'].value_counts()"
   ]
  },
  {
   "cell_type": "code",
   "execution_count": 11,
   "metadata": {},
   "outputs": [
    {
     "data": {
      "text/plain": [
       "Stock Splits\n",
       "0.0    1213\n",
       "Name: count, dtype: int64"
      ]
     },
     "execution_count": 11,
     "metadata": {},
     "output_type": "execute_result"
    }
   ],
   "source": [
    "data['Stock Splits'].value_counts()"
   ]
  },
  {
   "cell_type": "code",
   "execution_count": 12,
   "metadata": {},
   "outputs": [],
   "source": [
    "data.drop(['Dividends', 'Stock Splits'], axis=1, inplace=True)"
   ]
  },
  {
   "cell_type": "code",
   "execution_count": 13,
   "metadata": {},
   "outputs": [],
   "source": [
    "# 1. Menghitung Return Harian\n",
    "data['return'] = data['Close'].pct_change()\n",
    "data['log_return'] = np.log(data['Close'] / data['Close'].shift(1))"
   ]
  },
  {
   "cell_type": "code",
   "execution_count": 14,
   "metadata": {},
   "outputs": [],
   "source": [
    "# 2. Moving Averages\n",
    "data['ma_5'] = data['Close'].rolling(window=5).mean()\n",
    "data['ma_10'] = data['Close'].rolling(window=10).mean()\n",
    "data['ma_20'] = data['Close'].rolling(window=20).mean()"
   ]
  },
  {
   "cell_type": "code",
   "execution_count": 15,
   "metadata": {},
   "outputs": [],
   "source": [
    "# 3. Exponential Moving Average (EMA)\n",
    "data['ema_10'] = data['Close'].ewm(span=10, adjust=False).mean()\n",
    "data['ema_20'] = data['Close'].ewm(span=20, adjust=False).mean()"
   ]
  },
  {
   "cell_type": "code",
   "execution_count": 16,
   "metadata": {},
   "outputs": [],
   "source": [
    "# 4. Bollinger Bands\n",
    "data['bollinger_mid'] = data['Close'].rolling(window=20).mean()\n",
    "data['bollinger_std'] = data['Close'].rolling(window=20).std()\n",
    "data['bollinger_upper'] = data['bollinger_mid'] + (2 * data['bollinger_std'])\n",
    "data['bollinger_lower'] = data['bollinger_mid'] - (2 * data['bollinger_std'])"
   ]
  },
  {
   "cell_type": "code",
   "execution_count": 17,
   "metadata": {},
   "outputs": [],
   "source": [
    "# 10. Penambahan Fitur Waktu\n",
    "data['day_of_week'] = data['date'].dt.dayofweek  # 0 = Monday, 6 = Sunday\n",
    "data['month'] = data['date'].dt.month"
   ]
  },
  {
   "cell_type": "code",
   "execution_count": 18,
   "metadata": {},
   "outputs": [],
   "source": [
    "# Hapus data yang mengandung nilai NaN akibat perhitungan rolling\n",
    "data = data.dropna().reset_index(drop=True)"
   ]
  },
  {
   "cell_type": "code",
   "execution_count": 19,
   "metadata": {},
   "outputs": [
    {
     "data": {
      "text/html": [
       "<div>\n",
       "<style scoped>\n",
       "    .dataframe tbody tr th:only-of-type {\n",
       "        vertical-align: middle;\n",
       "    }\n",
       "\n",
       "    .dataframe tbody tr th {\n",
       "        vertical-align: top;\n",
       "    }\n",
       "\n",
       "    .dataframe thead th {\n",
       "        text-align: right;\n",
       "    }\n",
       "</style>\n",
       "<table border=\"1\" class=\"dataframe\">\n",
       "  <thead>\n",
       "    <tr style=\"text-align: right;\">\n",
       "      <th></th>\n",
       "      <th>Open</th>\n",
       "      <th>High</th>\n",
       "      <th>Low</th>\n",
       "      <th>Close</th>\n",
       "      <th>Volume</th>\n",
       "      <th>date</th>\n",
       "      <th>return</th>\n",
       "      <th>log_return</th>\n",
       "      <th>ma_5</th>\n",
       "      <th>ma_10</th>\n",
       "      <th>ma_20</th>\n",
       "      <th>ema_10</th>\n",
       "      <th>ema_20</th>\n",
       "      <th>bollinger_mid</th>\n",
       "      <th>bollinger_std</th>\n",
       "      <th>bollinger_upper</th>\n",
       "      <th>bollinger_lower</th>\n",
       "      <th>day_of_week</th>\n",
       "      <th>month</th>\n",
       "    </tr>\n",
       "  </thead>\n",
       "  <tbody>\n",
       "    <tr>\n",
       "      <th>0</th>\n",
       "      <td>215.870712</td>\n",
       "      <td>238.331253</td>\n",
       "      <td>215.246811</td>\n",
       "      <td>238.331253</td>\n",
       "      <td>212372</td>\n",
       "      <td>2019-12-04</td>\n",
       "      <td>0.097701</td>\n",
       "      <td>0.093218</td>\n",
       "      <td>230.969189</td>\n",
       "      <td>241.201208</td>\n",
       "      <td>290.084071</td>\n",
       "      <td>251.598603</td>\n",
       "      <td>297.287427</td>\n",
       "      <td>290.084071</td>\n",
       "      <td>76.217525</td>\n",
       "      <td>442.519121</td>\n",
       "      <td>137.649020</td>\n",
       "      <td>2</td>\n",
       "      <td>12</td>\n",
       "    </tr>\n",
       "    <tr>\n",
       "      <th>1</th>\n",
       "      <td>243.946381</td>\n",
       "      <td>293.234772</td>\n",
       "      <td>243.946381</td>\n",
       "      <td>268.278625</td>\n",
       "      <td>1047437</td>\n",
       "      <td>2019-12-05</td>\n",
       "      <td>0.125654</td>\n",
       "      <td>0.118365</td>\n",
       "      <td>237.208224</td>\n",
       "      <td>241.201208</td>\n",
       "      <td>277.917947</td>\n",
       "      <td>254.631334</td>\n",
       "      <td>294.524684</td>\n",
       "      <td>277.917947</td>\n",
       "      <td>55.639110</td>\n",
       "      <td>389.196167</td>\n",
       "      <td>166.639726</td>\n",
       "      <td>3</td>\n",
       "      <td>12</td>\n",
       "    </tr>\n",
       "    <tr>\n",
       "      <th>2</th>\n",
       "      <td>273.269867</td>\n",
       "      <td>298.226013</td>\n",
       "      <td>268.278625</td>\n",
       "      <td>275.765472</td>\n",
       "      <td>757328</td>\n",
       "      <td>2019-12-06</td>\n",
       "      <td>0.027907</td>\n",
       "      <td>0.027525</td>\n",
       "      <td>244.944629</td>\n",
       "      <td>243.946385</td>\n",
       "      <td>272.489983</td>\n",
       "      <td>258.473905</td>\n",
       "      <td>292.738092</td>\n",
       "      <td>272.489983</td>\n",
       "      <td>49.689284</td>\n",
       "      <td>371.868551</td>\n",
       "      <td>173.111416</td>\n",
       "      <td>4</td>\n",
       "      <td>12</td>\n",
       "    </tr>\n",
       "    <tr>\n",
       "      <th>3</th>\n",
       "      <td>282.004517</td>\n",
       "      <td>282.004517</td>\n",
       "      <td>269.526428</td>\n",
       "      <td>274.517670</td>\n",
       "      <td>506488</td>\n",
       "      <td>2019-12-09</td>\n",
       "      <td>-0.004525</td>\n",
       "      <td>-0.004535</td>\n",
       "      <td>254.802307</td>\n",
       "      <td>246.317220</td>\n",
       "      <td>271.803689</td>\n",
       "      <td>261.390953</td>\n",
       "      <td>291.002814</td>\n",
       "      <td>271.803689</td>\n",
       "      <td>49.554855</td>\n",
       "      <td>370.913399</td>\n",
       "      <td>172.693978</td>\n",
       "      <td>0</td>\n",
       "      <td>12</td>\n",
       "    </tr>\n",
       "    <tr>\n",
       "      <th>4</th>\n",
       "      <td>272.022064</td>\n",
       "      <td>272.022064</td>\n",
       "      <td>267.030823</td>\n",
       "      <td>269.526428</td>\n",
       "      <td>338994</td>\n",
       "      <td>2019-12-10</td>\n",
       "      <td>-0.018182</td>\n",
       "      <td>-0.018349</td>\n",
       "      <td>265.283890</td>\n",
       "      <td>248.750443</td>\n",
       "      <td>274.455280</td>\n",
       "      <td>262.870130</td>\n",
       "      <td>288.957444</td>\n",
       "      <td>274.455280</td>\n",
       "      <td>47.828346</td>\n",
       "      <td>370.111972</td>\n",
       "      <td>178.798587</td>\n",
       "      <td>1</td>\n",
       "      <td>12</td>\n",
       "    </tr>\n",
       "  </tbody>\n",
       "</table>\n",
       "</div>"
      ],
      "text/plain": [
       "         Open        High         Low       Close   Volume       date  \\\n",
       "0  215.870712  238.331253  215.246811  238.331253   212372 2019-12-04   \n",
       "1  243.946381  293.234772  243.946381  268.278625  1047437 2019-12-05   \n",
       "2  273.269867  298.226013  268.278625  275.765472   757328 2019-12-06   \n",
       "3  282.004517  282.004517  269.526428  274.517670   506488 2019-12-09   \n",
       "4  272.022064  272.022064  267.030823  269.526428   338994 2019-12-10   \n",
       "\n",
       "     return  log_return        ma_5       ma_10       ma_20      ema_10  \\\n",
       "0  0.097701    0.093218  230.969189  241.201208  290.084071  251.598603   \n",
       "1  0.125654    0.118365  237.208224  241.201208  277.917947  254.631334   \n",
       "2  0.027907    0.027525  244.944629  243.946385  272.489983  258.473905   \n",
       "3 -0.004525   -0.004535  254.802307  246.317220  271.803689  261.390953   \n",
       "4 -0.018182   -0.018349  265.283890  248.750443  274.455280  262.870130   \n",
       "\n",
       "       ema_20  bollinger_mid  bollinger_std  bollinger_upper  bollinger_lower  \\\n",
       "0  297.287427     290.084071      76.217525       442.519121       137.649020   \n",
       "1  294.524684     277.917947      55.639110       389.196167       166.639726   \n",
       "2  292.738092     272.489983      49.689284       371.868551       173.111416   \n",
       "3  291.002814     271.803689      49.554855       370.913399       172.693978   \n",
       "4  288.957444     274.455280      47.828346       370.111972       178.798587   \n",
       "\n",
       "   day_of_week  month  \n",
       "0            2     12  \n",
       "1            3     12  \n",
       "2            4     12  \n",
       "3            0     12  \n",
       "4            1     12  "
      ]
     },
     "execution_count": 19,
     "metadata": {},
     "output_type": "execute_result"
    }
   ],
   "source": [
    "data.head()"
   ]
  },
  {
   "cell_type": "code",
   "execution_count": 20,
   "metadata": {},
   "outputs": [
    {
     "data": {
      "text/plain": [
       "Open               0\n",
       "High               0\n",
       "Low                0\n",
       "Close              0\n",
       "Volume             0\n",
       "date               0\n",
       "return             0\n",
       "log_return         0\n",
       "ma_5               0\n",
       "ma_10              0\n",
       "ma_20              0\n",
       "ema_10             0\n",
       "ema_20             0\n",
       "bollinger_mid      0\n",
       "bollinger_std      0\n",
       "bollinger_upper    0\n",
       "bollinger_lower    0\n",
       "day_of_week        0\n",
       "month              0\n",
       "dtype: int64"
      ]
     },
     "execution_count": 20,
     "metadata": {},
     "output_type": "execute_result"
    }
   ],
   "source": [
    "data.isnull().sum()"
   ]
  },
  {
   "cell_type": "markdown",
   "metadata": {},
   "source": [
    "# Modelling"
   ]
  },
  {
   "cell_type": "markdown",
   "metadata": {},
   "source": [
    "## Preprocessing"
   ]
  },
  {
   "cell_type": "code",
   "execution_count": 21,
   "metadata": {},
   "outputs": [],
   "source": [
    "dataUsed = data[['Close', 'Volume', 'ma_5', 'ma_10', 'ema_10', 'bollinger_mid', 'bollinger_std', 'bollinger_upper', 'bollinger_lower', 'day_of_week', 'month']]"
   ]
  },
  {
   "cell_type": "code",
   "execution_count": 22,
   "metadata": {},
   "outputs": [
    {
     "data": {
      "text/plain": [
       "array([[0.00000000e+00, 5.58485830e-04, 0.00000000e+00, ...,\n",
       "        6.80208766e-03, 5.00000000e-01, 1.00000000e+00],\n",
       "       [1.59619983e-03, 2.75450023e-03, 3.35449470e-04, ...,\n",
       "        8.57863460e-03, 7.50000000e-01, 1.00000000e+00],\n",
       "       [1.99524999e-03, 1.99158532e-03, 7.51406866e-04, ...,\n",
       "        8.97521896e-03, 1.00000000e+00, 1.00000000e+00],\n",
       "       ...,\n",
       "       [1.33339352e-01, 1.03330871e-02, 1.37589471e-01, ...,\n",
       "        1.65717114e-01, 2.50000000e-01, 9.09090909e-01],\n",
       "       [1.23745322e-01, 1.85807803e-02, 1.34471029e-01, ...,\n",
       "        1.61392703e-01, 5.00000000e-01, 9.09090909e-01],\n",
       "       [1.24811326e-01, 5.12196924e-03, 1.31675184e-01, ...,\n",
       "        1.58607762e-01, 7.50000000e-01, 9.09090909e-01]])"
      ]
     },
     "execution_count": 22,
     "metadata": {},
     "output_type": "execute_result"
    }
   ],
   "source": [
    "from sklearn.preprocessing import MinMaxScaler\n",
    "\n",
    "# preprocessing\n",
    "scaler = MinMaxScaler(feature_range=(0, 1))\n",
    "data_scaled = scaler.fit_transform(dataUsed)\n",
    "\n",
    "data_scaled"
   ]
  },
  {
   "cell_type": "markdown",
   "metadata": {},
   "source": [
    "## Train Test Sequence"
   ]
  },
  {
   "cell_type": "code",
   "execution_count": 23,
   "metadata": {},
   "outputs": [],
   "source": [
    "import numpy as np\n",
    "\n",
    "sequence_length = 60\n",
    "x = []\n",
    "y = []\n",
    "\n",
    "# Target tetap kolom 0 (harga close), tetapi kita hanya menggunakan kolom lain sebagai input\n",
    "for i in range(sequence_length, len(data_scaled)):\n",
    "    x.append(data_scaled[i-sequence_length:i, 1:])  \n",
    "    y.append(data_scaled[i, 0]) \n",
    "\n",
    "# Konversi ke array numpy\n",
    "x, y = np.array(x), np.array(y)\n"
   ]
  },
  {
   "cell_type": "code",
   "execution_count": 24,
   "metadata": {},
   "outputs": [
    {
     "name": "stdout",
     "output_type": "stream",
     "text": [
      "(1134, 60, 10) (1134,)\n"
     ]
    }
   ],
   "source": [
    "print(x.shape, y.shape)"
   ]
  },
  {
   "cell_type": "markdown",
   "metadata": {},
   "source": [
    "## LSTM"
   ]
  },
  {
   "cell_type": "code",
   "execution_count": 25,
   "metadata": {},
   "outputs": [],
   "source": [
    "from sklearn.model_selection import train_test_split\n",
    "\n",
    "# train and test split\n",
    "x_train, x_test, y_train, y_test = train_test_split(x, y, test_size=0.2, random_state=42)"
   ]
  },
  {
   "cell_type": "code",
   "execution_count": 26,
   "metadata": {},
   "outputs": [],
   "source": [
    "from tensorflow.keras.models import Sequential\n",
    "from tensorflow.keras.layers import LSTM, Dense, Dropout"
   ]
  },
  {
   "cell_type": "code",
   "execution_count": 27,
   "metadata": {},
   "outputs": [
    {
     "name": "stderr",
     "output_type": "stream",
     "text": [
      "C:\\Users\\Acer\\AppData\\Roaming\\Python\\Python310\\site-packages\\keras\\src\\layers\\rnn\\rnn.py:204: UserWarning: Do not pass an `input_shape`/`input_dim` argument to a layer. When using Sequential models, prefer using an `Input(shape)` object as the first layer in the model instead.\n",
      "  super().__init__(**kwargs)\n"
     ]
    }
   ],
   "source": [
    "# LSTM model\n",
    "model = Sequential()\n",
    "model.add(LSTM(units=50, return_sequences=True, input_shape=(x_train.shape[1], x_train.shape[2])))\n",
    "model.add(Dropout(0.2))\n",
    "model.add(LSTM(units=50, return_sequences=True))\n",
    "model.add(Dropout(0.2))\n",
    "model.add(LSTM(units=50))\n",
    "model.add(Dropout(0.2))\n",
    "model.add(Dense(units=1))\n",
    "\n",
    "model.compile(optimizer='adam', loss='mean_squared_error')"
   ]
  },
  {
   "cell_type": "code",
   "execution_count": 28,
   "metadata": {},
   "outputs": [
    {
     "name": "stdout",
     "output_type": "stream",
     "text": [
      "Epoch 1/100\n",
      "\u001b[1m29/29\u001b[0m \u001b[32m━━━━━━━━━━━━━━━━━━━━\u001b[0m\u001b[37m\u001b[0m \u001b[1m4s\u001b[0m 46ms/step - loss: 0.0623 - val_loss: 0.0049\n",
      "Epoch 2/100\n",
      "\u001b[1m29/29\u001b[0m \u001b[32m━━━━━━━━━━━━━━━━━━━━\u001b[0m\u001b[37m\u001b[0m \u001b[1m1s\u001b[0m 33ms/step - loss: 0.0064 - val_loss: 0.0053\n",
      "Epoch 3/100\n",
      "\u001b[1m29/29\u001b[0m \u001b[32m━━━━━━━━━━━━━━━━━━━━\u001b[0m\u001b[37m\u001b[0m \u001b[1m1s\u001b[0m 32ms/step - loss: 0.0061 - val_loss: 0.0094\n",
      "Epoch 4/100\n",
      "\u001b[1m29/29\u001b[0m \u001b[32m━━━━━━━━━━━━━━━━━━━━\u001b[0m\u001b[37m\u001b[0m \u001b[1m1s\u001b[0m 34ms/step - loss: 0.0063 - val_loss: 0.0069\n",
      "Epoch 5/100\n",
      "\u001b[1m29/29\u001b[0m \u001b[32m━━━━━━━━━━━━━━━━━━━━\u001b[0m\u001b[37m\u001b[0m \u001b[1m1s\u001b[0m 33ms/step - loss: 0.0053 - val_loss: 0.0032\n",
      "Epoch 6/100\n",
      "\u001b[1m29/29\u001b[0m \u001b[32m━━━━━━━━━━━━━━━━━━━━\u001b[0m\u001b[37m\u001b[0m \u001b[1m1s\u001b[0m 33ms/step - loss: 0.0046 - val_loss: 0.0031\n",
      "Epoch 7/100\n",
      "\u001b[1m29/29\u001b[0m \u001b[32m━━━━━━━━━━━━━━━━━━━━\u001b[0m\u001b[37m\u001b[0m \u001b[1m1s\u001b[0m 33ms/step - loss: 0.0035 - val_loss: 0.0028\n",
      "Epoch 8/100\n",
      "\u001b[1m29/29\u001b[0m \u001b[32m━━━━━━━━━━━━━━━━━━━━\u001b[0m\u001b[37m\u001b[0m \u001b[1m1s\u001b[0m 33ms/step - loss: 0.0043 - val_loss: 0.0054\n",
      "Epoch 9/100\n",
      "\u001b[1m29/29\u001b[0m \u001b[32m━━━━━━━━━━━━━━━━━━━━\u001b[0m\u001b[37m\u001b[0m \u001b[1m1s\u001b[0m 33ms/step - loss: 0.0047 - val_loss: 0.0025\n",
      "Epoch 10/100\n",
      "\u001b[1m29/29\u001b[0m \u001b[32m━━━━━━━━━━━━━━━━━━━━\u001b[0m\u001b[37m\u001b[0m \u001b[1m1s\u001b[0m 32ms/step - loss: 0.0043 - val_loss: 0.0038\n",
      "Epoch 11/100\n",
      "\u001b[1m29/29\u001b[0m \u001b[32m━━━━━━━━━━━━━━━━━━━━\u001b[0m\u001b[37m\u001b[0m \u001b[1m1s\u001b[0m 33ms/step - loss: 0.0048 - val_loss: 0.0026\n",
      "Epoch 12/100\n",
      "\u001b[1m29/29\u001b[0m \u001b[32m━━━━━━━━━━━━━━━━━━━━\u001b[0m\u001b[37m\u001b[0m \u001b[1m1s\u001b[0m 34ms/step - loss: 0.0038 - val_loss: 0.0024\n",
      "Epoch 13/100\n",
      "\u001b[1m29/29\u001b[0m \u001b[32m━━━━━━━━━━━━━━━━━━━━\u001b[0m\u001b[37m\u001b[0m \u001b[1m1s\u001b[0m 33ms/step - loss: 0.0031 - val_loss: 0.0024\n",
      "Epoch 14/100\n",
      "\u001b[1m29/29\u001b[0m \u001b[32m━━━━━━━━━━━━━━━━━━━━\u001b[0m\u001b[37m\u001b[0m \u001b[1m1s\u001b[0m 34ms/step - loss: 0.0041 - val_loss: 0.0022\n",
      "Epoch 15/100\n",
      "\u001b[1m29/29\u001b[0m \u001b[32m━━━━━━━━━━━━━━━━━━━━\u001b[0m\u001b[37m\u001b[0m \u001b[1m1s\u001b[0m 33ms/step - loss: 0.0036 - val_loss: 0.0022\n",
      "Epoch 16/100\n",
      "\u001b[1m29/29\u001b[0m \u001b[32m━━━━━━━━━━━━━━━━━━━━\u001b[0m\u001b[37m\u001b[0m \u001b[1m1s\u001b[0m 37ms/step - loss: 0.0040 - val_loss: 0.0021\n",
      "Epoch 17/100\n",
      "\u001b[1m29/29\u001b[0m \u001b[32m━━━━━━━━━━━━━━━━━━━━\u001b[0m\u001b[37m\u001b[0m \u001b[1m1s\u001b[0m 34ms/step - loss: 0.0032 - val_loss: 0.0021\n",
      "Epoch 18/100\n",
      "\u001b[1m29/29\u001b[0m \u001b[32m━━━━━━━━━━━━━━━━━━━━\u001b[0m\u001b[37m\u001b[0m \u001b[1m1s\u001b[0m 34ms/step - loss: 0.0029 - val_loss: 0.0022\n",
      "Epoch 19/100\n",
      "\u001b[1m29/29\u001b[0m \u001b[32m━━━━━━━━━━━━━━━━━━━━\u001b[0m\u001b[37m\u001b[0m \u001b[1m1s\u001b[0m 33ms/step - loss: 0.0036 - val_loss: 0.0060\n",
      "Epoch 20/100\n",
      "\u001b[1m29/29\u001b[0m \u001b[32m━━━━━━━━━━━━━━━━━━━━\u001b[0m\u001b[37m\u001b[0m \u001b[1m1s\u001b[0m 33ms/step - loss: 0.0040 - val_loss: 0.0019\n",
      "Epoch 21/100\n",
      "\u001b[1m29/29\u001b[0m \u001b[32m━━━━━━━━━━━━━━━━━━━━\u001b[0m\u001b[37m\u001b[0m \u001b[1m1s\u001b[0m 34ms/step - loss: 0.0032 - val_loss: 0.0019\n",
      "Epoch 22/100\n",
      "\u001b[1m29/29\u001b[0m \u001b[32m━━━━━━━━━━━━━━━━━━━━\u001b[0m\u001b[37m\u001b[0m \u001b[1m1s\u001b[0m 33ms/step - loss: 0.0031 - val_loss: 0.0022\n",
      "Epoch 23/100\n",
      "\u001b[1m29/29\u001b[0m \u001b[32m━━━━━━━━━━━━━━━━━━━━\u001b[0m\u001b[37m\u001b[0m \u001b[1m1s\u001b[0m 33ms/step - loss: 0.0035 - val_loss: 0.0018\n",
      "Epoch 24/100\n",
      "\u001b[1m29/29\u001b[0m \u001b[32m━━━━━━━━━━━━━━━━━━━━\u001b[0m\u001b[37m\u001b[0m \u001b[1m1s\u001b[0m 33ms/step - loss: 0.0028 - val_loss: 0.0019\n",
      "Epoch 25/100\n",
      "\u001b[1m29/29\u001b[0m \u001b[32m━━━━━━━━━━━━━━━━━━━━\u001b[0m\u001b[37m\u001b[0m \u001b[1m1s\u001b[0m 34ms/step - loss: 0.0033 - val_loss: 0.0017\n",
      "Epoch 26/100\n",
      "\u001b[1m29/29\u001b[0m \u001b[32m━━━━━━━━━━━━━━━━━━━━\u001b[0m\u001b[37m\u001b[0m \u001b[1m1s\u001b[0m 34ms/step - loss: 0.0030 - val_loss: 0.0032\n",
      "Epoch 27/100\n",
      "\u001b[1m29/29\u001b[0m \u001b[32m━━━━━━━━━━━━━━━━━━━━\u001b[0m\u001b[37m\u001b[0m \u001b[1m1s\u001b[0m 34ms/step - loss: 0.0040 - val_loss: 0.0022\n",
      "Epoch 28/100\n",
      "\u001b[1m29/29\u001b[0m \u001b[32m━━━━━━━━━━━━━━━━━━━━\u001b[0m\u001b[37m\u001b[0m \u001b[1m1s\u001b[0m 34ms/step - loss: 0.0023 - val_loss: 0.0018\n",
      "Epoch 29/100\n",
      "\u001b[1m29/29\u001b[0m \u001b[32m━━━━━━━━━━━━━━━━━━━━\u001b[0m\u001b[37m\u001b[0m \u001b[1m1s\u001b[0m 34ms/step - loss: 0.0022 - val_loss: 0.0026\n",
      "Epoch 30/100\n",
      "\u001b[1m29/29\u001b[0m \u001b[32m━━━━━━━━━━━━━━━━━━━━\u001b[0m\u001b[37m\u001b[0m \u001b[1m1s\u001b[0m 33ms/step - loss: 0.0024 - val_loss: 0.0016\n",
      "Epoch 31/100\n",
      "\u001b[1m29/29\u001b[0m \u001b[32m━━━━━━━━━━━━━━━━━━━━\u001b[0m\u001b[37m\u001b[0m \u001b[1m1s\u001b[0m 34ms/step - loss: 0.0026 - val_loss: 0.0022\n",
      "Epoch 32/100\n",
      "\u001b[1m29/29\u001b[0m \u001b[32m━━━━━━━━━━━━━━━━━━━━\u001b[0m\u001b[37m\u001b[0m \u001b[1m1s\u001b[0m 34ms/step - loss: 0.0027 - val_loss: 0.0021\n",
      "Epoch 33/100\n",
      "\u001b[1m29/29\u001b[0m \u001b[32m━━━━━━━━━━━━━━━━━━━━\u001b[0m\u001b[37m\u001b[0m \u001b[1m1s\u001b[0m 34ms/step - loss: 0.0027 - val_loss: 0.0016\n",
      "Epoch 34/100\n",
      "\u001b[1m29/29\u001b[0m \u001b[32m━━━━━━━━━━━━━━━━━━━━\u001b[0m\u001b[37m\u001b[0m \u001b[1m1s\u001b[0m 33ms/step - loss: 0.0027 - val_loss: 0.0022\n",
      "Epoch 35/100\n",
      "\u001b[1m29/29\u001b[0m \u001b[32m━━━━━━━━━━━━━━━━━━━━\u001b[0m\u001b[37m\u001b[0m \u001b[1m1s\u001b[0m 34ms/step - loss: 0.0029 - val_loss: 0.0015\n",
      "Epoch 36/100\n",
      "\u001b[1m29/29\u001b[0m \u001b[32m━━━━━━━━━━━━━━━━━━━━\u001b[0m\u001b[37m\u001b[0m \u001b[1m1s\u001b[0m 34ms/step - loss: 0.0023 - val_loss: 0.0018\n",
      "Epoch 37/100\n",
      "\u001b[1m29/29\u001b[0m \u001b[32m━━━━━━━━━━━━━━━━━━━━\u001b[0m\u001b[37m\u001b[0m \u001b[1m1s\u001b[0m 34ms/step - loss: 0.0030 - val_loss: 0.0019\n",
      "Epoch 38/100\n",
      "\u001b[1m29/29\u001b[0m \u001b[32m━━━━━━━━━━━━━━━━━━━━\u001b[0m\u001b[37m\u001b[0m \u001b[1m1s\u001b[0m 33ms/step - loss: 0.0027 - val_loss: 0.0015\n",
      "Epoch 39/100\n",
      "\u001b[1m29/29\u001b[0m \u001b[32m━━━━━━━━━━━━━━━━━━━━\u001b[0m\u001b[37m\u001b[0m \u001b[1m1s\u001b[0m 34ms/step - loss: 0.0023 - val_loss: 0.0027\n",
      "Epoch 40/100\n",
      "\u001b[1m29/29\u001b[0m \u001b[32m━━━━━━━━━━━━━━━━━━━━\u001b[0m\u001b[37m\u001b[0m \u001b[1m1s\u001b[0m 34ms/step - loss: 0.0025 - val_loss: 0.0014\n",
      "Epoch 41/100\n",
      "\u001b[1m29/29\u001b[0m \u001b[32m━━━━━━━━━━━━━━━━━━━━\u001b[0m\u001b[37m\u001b[0m \u001b[1m1s\u001b[0m 34ms/step - loss: 0.0024 - val_loss: 0.0014\n",
      "Epoch 42/100\n",
      "\u001b[1m29/29\u001b[0m \u001b[32m━━━━━━━━━━━━━━━━━━━━\u001b[0m\u001b[37m\u001b[0m \u001b[1m1s\u001b[0m 34ms/step - loss: 0.0026 - val_loss: 0.0015\n",
      "Epoch 43/100\n",
      "\u001b[1m29/29\u001b[0m \u001b[32m━━━━━━━━━━━━━━━━━━━━\u001b[0m\u001b[37m\u001b[0m \u001b[1m1s\u001b[0m 34ms/step - loss: 0.0022 - val_loss: 0.0013\n",
      "Epoch 44/100\n",
      "\u001b[1m29/29\u001b[0m \u001b[32m━━━━━━━━━━━━━━━━━━━━\u001b[0m\u001b[37m\u001b[0m \u001b[1m1s\u001b[0m 35ms/step - loss: 0.0020 - val_loss: 0.0013\n",
      "Epoch 45/100\n",
      "\u001b[1m29/29\u001b[0m \u001b[32m━━━━━━━━━━━━━━━━━━━━\u001b[0m\u001b[37m\u001b[0m \u001b[1m1s\u001b[0m 35ms/step - loss: 0.0020 - val_loss: 0.0017\n",
      "Epoch 46/100\n",
      "\u001b[1m29/29\u001b[0m \u001b[32m━━━━━━━━━━━━━━━━━━━━\u001b[0m\u001b[37m\u001b[0m \u001b[1m1s\u001b[0m 34ms/step - loss: 0.0021 - val_loss: 0.0015\n",
      "Epoch 47/100\n",
      "\u001b[1m29/29\u001b[0m \u001b[32m━━━━━━━━━━━━━━━━━━━━\u001b[0m\u001b[37m\u001b[0m \u001b[1m1s\u001b[0m 34ms/step - loss: 0.0028 - val_loss: 0.0013\n",
      "Epoch 48/100\n",
      "\u001b[1m29/29\u001b[0m \u001b[32m━━━━━━━━━━━━━━━━━━━━\u001b[0m\u001b[37m\u001b[0m \u001b[1m1s\u001b[0m 35ms/step - loss: 0.0024 - val_loss: 0.0024\n",
      "Epoch 49/100\n",
      "\u001b[1m29/29\u001b[0m \u001b[32m━━━━━━━━━━━━━━━━━━━━\u001b[0m\u001b[37m\u001b[0m \u001b[1m1s\u001b[0m 34ms/step - loss: 0.0029 - val_loss: 0.0015\n",
      "Epoch 50/100\n",
      "\u001b[1m29/29\u001b[0m \u001b[32m━━━━━━━━━━━━━━━━━━━━\u001b[0m\u001b[37m\u001b[0m \u001b[1m1s\u001b[0m 34ms/step - loss: 0.0026 - val_loss: 0.0016\n",
      "Epoch 51/100\n",
      "\u001b[1m29/29\u001b[0m \u001b[32m━━━━━━━━━━━━━━━━━━━━\u001b[0m\u001b[37m\u001b[0m \u001b[1m1s\u001b[0m 35ms/step - loss: 0.0021 - val_loss: 0.0013\n",
      "Epoch 52/100\n",
      "\u001b[1m29/29\u001b[0m \u001b[32m━━━━━━━━━━━━━━━━━━━━\u001b[0m\u001b[37m\u001b[0m \u001b[1m1s\u001b[0m 35ms/step - loss: 0.0019 - val_loss: 0.0011\n",
      "Epoch 53/100\n",
      "\u001b[1m29/29\u001b[0m \u001b[32m━━━━━━━━━━━━━━━━━━━━\u001b[0m\u001b[37m\u001b[0m \u001b[1m1s\u001b[0m 35ms/step - loss: 0.0018 - val_loss: 0.0013\n",
      "Epoch 54/100\n",
      "\u001b[1m29/29\u001b[0m \u001b[32m━━━━━━━━━━━━━━━━━━━━\u001b[0m\u001b[37m\u001b[0m \u001b[1m1s\u001b[0m 34ms/step - loss: 0.0021 - val_loss: 0.0012\n",
      "Epoch 55/100\n",
      "\u001b[1m29/29\u001b[0m \u001b[32m━━━━━━━━━━━━━━━━━━━━\u001b[0m\u001b[37m\u001b[0m \u001b[1m1s\u001b[0m 35ms/step - loss: 0.0022 - val_loss: 0.0012\n",
      "Epoch 56/100\n",
      "\u001b[1m29/29\u001b[0m \u001b[32m━━━━━━━━━━━━━━━━━━━━\u001b[0m\u001b[37m\u001b[0m \u001b[1m1s\u001b[0m 36ms/step - loss: 0.0021 - val_loss: 0.0020\n",
      "Epoch 57/100\n",
      "\u001b[1m29/29\u001b[0m \u001b[32m━━━━━━━━━━━━━━━━━━━━\u001b[0m\u001b[37m\u001b[0m \u001b[1m1s\u001b[0m 36ms/step - loss: 0.0021 - val_loss: 0.0012\n",
      "Epoch 58/100\n",
      "\u001b[1m29/29\u001b[0m \u001b[32m━━━━━━━━━━━━━━━━━━━━\u001b[0m\u001b[37m\u001b[0m \u001b[1m1s\u001b[0m 36ms/step - loss: 0.0021 - val_loss: 0.0011\n",
      "Epoch 59/100\n",
      "\u001b[1m29/29\u001b[0m \u001b[32m━━━━━━━━━━━━━━━━━━━━\u001b[0m\u001b[37m\u001b[0m \u001b[1m1s\u001b[0m 36ms/step - loss: 0.0018 - val_loss: 0.0012\n",
      "Epoch 60/100\n",
      "\u001b[1m29/29\u001b[0m \u001b[32m━━━━━━━━━━━━━━━━━━━━\u001b[0m\u001b[37m\u001b[0m \u001b[1m1s\u001b[0m 39ms/step - loss: 0.0017 - val_loss: 0.0012\n",
      "Epoch 61/100\n",
      "\u001b[1m29/29\u001b[0m \u001b[32m━━━━━━━━━━━━━━━━━━━━\u001b[0m\u001b[37m\u001b[0m \u001b[1m1s\u001b[0m 35ms/step - loss: 0.0019 - val_loss: 0.0014\n",
      "Epoch 62/100\n",
      "\u001b[1m29/29\u001b[0m \u001b[32m━━━━━━━━━━━━━━━━━━━━\u001b[0m\u001b[37m\u001b[0m \u001b[1m1s\u001b[0m 35ms/step - loss: 0.0026 - val_loss: 0.0024\n",
      "Epoch 63/100\n",
      "\u001b[1m29/29\u001b[0m \u001b[32m━━━━━━━━━━━━━━━━━━━━\u001b[0m\u001b[37m\u001b[0m \u001b[1m1s\u001b[0m 35ms/step - loss: 0.0024 - val_loss: 0.0012\n",
      "Epoch 64/100\n",
      "\u001b[1m29/29\u001b[0m \u001b[32m━━━━━━━━━━━━━━━━━━━━\u001b[0m\u001b[37m\u001b[0m \u001b[1m1s\u001b[0m 36ms/step - loss: 0.0017 - val_loss: 0.0014\n",
      "Epoch 65/100\n",
      "\u001b[1m29/29\u001b[0m \u001b[32m━━━━━━━━━━━━━━━━━━━━\u001b[0m\u001b[37m\u001b[0m \u001b[1m1s\u001b[0m 36ms/step - loss: 0.0021 - val_loss: 0.0013\n",
      "Epoch 66/100\n",
      "\u001b[1m29/29\u001b[0m \u001b[32m━━━━━━━━━━━━━━━━━━━━\u001b[0m\u001b[37m\u001b[0m \u001b[1m1s\u001b[0m 35ms/step - loss: 0.0019 - val_loss: 0.0011\n",
      "Epoch 67/100\n",
      "\u001b[1m29/29\u001b[0m \u001b[32m━━━━━━━━━━━━━━━━━━━━\u001b[0m\u001b[37m\u001b[0m \u001b[1m1s\u001b[0m 37ms/step - loss: 0.0017 - val_loss: 0.0011\n",
      "Epoch 68/100\n",
      "\u001b[1m29/29\u001b[0m \u001b[32m━━━━━━━━━━━━━━━━━━━━\u001b[0m\u001b[37m\u001b[0m \u001b[1m1s\u001b[0m 36ms/step - loss: 0.0016 - val_loss: 0.0012\n",
      "Epoch 69/100\n",
      "\u001b[1m29/29\u001b[0m \u001b[32m━━━━━━━━━━━━━━━━━━━━\u001b[0m\u001b[37m\u001b[0m \u001b[1m1s\u001b[0m 35ms/step - loss: 0.0018 - val_loss: 0.0011\n",
      "Epoch 70/100\n",
      "\u001b[1m29/29\u001b[0m \u001b[32m━━━━━━━━━━━━━━━━━━━━\u001b[0m\u001b[37m\u001b[0m \u001b[1m1s\u001b[0m 36ms/step - loss: 0.0018 - val_loss: 0.0011\n",
      "Epoch 71/100\n",
      "\u001b[1m29/29\u001b[0m \u001b[32m━━━━━━━━━━━━━━━━━━━━\u001b[0m\u001b[37m\u001b[0m \u001b[1m1s\u001b[0m 37ms/step - loss: 0.0021 - val_loss: 0.0012\n",
      "Epoch 72/100\n",
      "\u001b[1m29/29\u001b[0m \u001b[32m━━━━━━━━━━━━━━━━━━━━\u001b[0m\u001b[37m\u001b[0m \u001b[1m1s\u001b[0m 37ms/step - loss: 0.0019 - val_loss: 0.0012\n",
      "Epoch 73/100\n",
      "\u001b[1m29/29\u001b[0m \u001b[32m━━━━━━━━━━━━━━━━━━━━\u001b[0m\u001b[37m\u001b[0m \u001b[1m1s\u001b[0m 37ms/step - loss: 0.0017 - val_loss: 9.6736e-04\n",
      "Epoch 74/100\n",
      "\u001b[1m29/29\u001b[0m \u001b[32m━━━━━━━━━━━━━━━━━━━━\u001b[0m\u001b[37m\u001b[0m \u001b[1m1s\u001b[0m 37ms/step - loss: 0.0017 - val_loss: 0.0012\n",
      "Epoch 75/100\n",
      "\u001b[1m29/29\u001b[0m \u001b[32m━━━━━━━━━━━━━━━━━━━━\u001b[0m\u001b[37m\u001b[0m \u001b[1m1s\u001b[0m 37ms/step - loss: 0.0018 - val_loss: 0.0010\n",
      "Epoch 76/100\n",
      "\u001b[1m29/29\u001b[0m \u001b[32m━━━━━━━━━━━━━━━━━━━━\u001b[0m\u001b[37m\u001b[0m \u001b[1m1s\u001b[0m 36ms/step - loss: 0.0020 - val_loss: 0.0011\n",
      "Epoch 77/100\n",
      "\u001b[1m29/29\u001b[0m \u001b[32m━━━━━━━━━━━━━━━━━━━━\u001b[0m\u001b[37m\u001b[0m \u001b[1m1s\u001b[0m 37ms/step - loss: 0.0017 - val_loss: 9.5017e-04\n",
      "Epoch 78/100\n",
      "\u001b[1m29/29\u001b[0m \u001b[32m━━━━━━━━━━━━━━━━━━━━\u001b[0m\u001b[37m\u001b[0m \u001b[1m1s\u001b[0m 37ms/step - loss: 0.0016 - val_loss: 0.0011\n",
      "Epoch 79/100\n",
      "\u001b[1m29/29\u001b[0m \u001b[32m━━━━━━━━━━━━━━━━━━━━\u001b[0m\u001b[37m\u001b[0m \u001b[1m1s\u001b[0m 38ms/step - loss: 0.0017 - val_loss: 8.9088e-04\n",
      "Epoch 80/100\n",
      "\u001b[1m29/29\u001b[0m \u001b[32m━━━━━━━━━━━━━━━━━━━━\u001b[0m\u001b[37m\u001b[0m \u001b[1m1s\u001b[0m 37ms/step - loss: 0.0014 - val_loss: 0.0010\n",
      "Epoch 81/100\n",
      "\u001b[1m29/29\u001b[0m \u001b[32m━━━━━━━━━━━━━━━━━━━━\u001b[0m\u001b[37m\u001b[0m \u001b[1m1s\u001b[0m 37ms/step - loss: 0.0017 - val_loss: 0.0011\n",
      "Epoch 82/100\n",
      "\u001b[1m29/29\u001b[0m \u001b[32m━━━━━━━━━━━━━━━━━━━━\u001b[0m\u001b[37m\u001b[0m \u001b[1m1s\u001b[0m 39ms/step - loss: 0.0019 - val_loss: 9.8113e-04\n",
      "Epoch 83/100\n",
      "\u001b[1m29/29\u001b[0m \u001b[32m━━━━━━━━━━━━━━━━━━━━\u001b[0m\u001b[37m\u001b[0m \u001b[1m1s\u001b[0m 37ms/step - loss: 0.0017 - val_loss: 0.0017\n",
      "Epoch 84/100\n",
      "\u001b[1m29/29\u001b[0m \u001b[32m━━━━━━━━━━━━━━━━━━━━\u001b[0m\u001b[37m\u001b[0m \u001b[1m1s\u001b[0m 38ms/step - loss: 0.0016 - val_loss: 9.1785e-04\n",
      "Epoch 85/100\n",
      "\u001b[1m29/29\u001b[0m \u001b[32m━━━━━━━━━━━━━━━━━━━━\u001b[0m\u001b[37m\u001b[0m \u001b[1m1s\u001b[0m 39ms/step - loss: 0.0018 - val_loss: 0.0013\n",
      "Epoch 86/100\n",
      "\u001b[1m29/29\u001b[0m \u001b[32m━━━━━━━━━━━━━━━━━━━━\u001b[0m\u001b[37m\u001b[0m \u001b[1m1s\u001b[0m 38ms/step - loss: 0.0016 - val_loss: 8.7184e-04\n",
      "Epoch 87/100\n",
      "\u001b[1m29/29\u001b[0m \u001b[32m━━━━━━━━━━━━━━━━━━━━\u001b[0m\u001b[37m\u001b[0m \u001b[1m1s\u001b[0m 39ms/step - loss: 0.0017 - val_loss: 0.0013\n",
      "Epoch 88/100\n",
      "\u001b[1m29/29\u001b[0m \u001b[32m━━━━━━━━━━━━━━━━━━━━\u001b[0m\u001b[37m\u001b[0m \u001b[1m1s\u001b[0m 41ms/step - loss: 0.0015 - val_loss: 8.4314e-04\n",
      "Epoch 89/100\n",
      "\u001b[1m29/29\u001b[0m \u001b[32m━━━━━━━━━━━━━━━━━━━━\u001b[0m\u001b[37m\u001b[0m \u001b[1m1s\u001b[0m 39ms/step - loss: 0.0017 - val_loss: 0.0011\n",
      "Epoch 90/100\n",
      "\u001b[1m29/29\u001b[0m \u001b[32m━━━━━━━━━━━━━━━━━━━━\u001b[0m\u001b[37m\u001b[0m \u001b[1m1s\u001b[0m 38ms/step - loss: 0.0015 - val_loss: 9.7338e-04\n",
      "Epoch 91/100\n",
      "\u001b[1m29/29\u001b[0m \u001b[32m━━━━━━━━━━━━━━━━━━━━\u001b[0m\u001b[37m\u001b[0m \u001b[1m1s\u001b[0m 39ms/step - loss: 0.0016 - val_loss: 0.0010\n",
      "Epoch 92/100\n",
      "\u001b[1m29/29\u001b[0m \u001b[32m━━━━━━━━━━━━━━━━━━━━\u001b[0m\u001b[37m\u001b[0m \u001b[1m1s\u001b[0m 40ms/step - loss: 0.0016 - val_loss: 0.0012\n",
      "Epoch 93/100\n",
      "\u001b[1m29/29\u001b[0m \u001b[32m━━━━━━━━━━━━━━━━━━━━\u001b[0m\u001b[37m\u001b[0m \u001b[1m1s\u001b[0m 39ms/step - loss: 0.0015 - val_loss: 9.7697e-04\n",
      "Epoch 94/100\n",
      "\u001b[1m29/29\u001b[0m \u001b[32m━━━━━━━━━━━━━━━━━━━━\u001b[0m\u001b[37m\u001b[0m \u001b[1m1s\u001b[0m 39ms/step - loss: 0.0015 - val_loss: 8.6908e-04\n",
      "Epoch 95/100\n",
      "\u001b[1m29/29\u001b[0m \u001b[32m━━━━━━━━━━━━━━━━━━━━\u001b[0m\u001b[37m\u001b[0m \u001b[1m1s\u001b[0m 40ms/step - loss: 0.0016 - val_loss: 8.6470e-04\n",
      "Epoch 96/100\n",
      "\u001b[1m29/29\u001b[0m \u001b[32m━━━━━━━━━━━━━━━━━━━━\u001b[0m\u001b[37m\u001b[0m \u001b[1m1s\u001b[0m 39ms/step - loss: 0.0017 - val_loss: 9.4992e-04\n",
      "Epoch 97/100\n",
      "\u001b[1m29/29\u001b[0m \u001b[32m━━━━━━━━━━━━━━━━━━━━\u001b[0m\u001b[37m\u001b[0m \u001b[1m1s\u001b[0m 39ms/step - loss: 0.0013 - val_loss: 0.0012\n",
      "Epoch 98/100\n",
      "\u001b[1m29/29\u001b[0m \u001b[32m━━━━━━━━━━━━━━━━━━━━\u001b[0m\u001b[37m\u001b[0m \u001b[1m1s\u001b[0m 41ms/step - loss: 0.0015 - val_loss: 8.5910e-04\n",
      "Epoch 99/100\n",
      "\u001b[1m29/29\u001b[0m \u001b[32m━━━━━━━━━━━━━━━━━━━━\u001b[0m\u001b[37m\u001b[0m \u001b[1m1s\u001b[0m 41ms/step - loss: 0.0013 - val_loss: 8.4781e-04\n",
      "Epoch 100/100\n",
      "\u001b[1m29/29\u001b[0m \u001b[32m━━━━━━━━━━━━━━━━━━━━\u001b[0m\u001b[37m\u001b[0m \u001b[1m1s\u001b[0m 40ms/step - loss: 0.0012 - val_loss: 0.0011\n"
     ]
    },
    {
     "data": {
      "text/plain": [
       "<keras.src.callbacks.history.History at 0x1bb670bb730>"
      ]
     },
     "execution_count": 28,
     "metadata": {},
     "output_type": "execute_result"
    }
   ],
   "source": [
    "# train model with early stopping\n",
    "model.fit(x_train, y_train, epochs=100, batch_size=32, validation_data=(x_test, y_test), verbose=1)"
   ]
  },
  {
   "cell_type": "code",
   "execution_count": 29,
   "metadata": {},
   "outputs": [
    {
     "name": "stdout",
     "output_type": "stream",
     "text": [
      "\u001b[1m8/8\u001b[0m \u001b[32m━━━━━━━━━━━━━━━━━━━━\u001b[0m\u001b[37m\u001b[0m \u001b[1m1s\u001b[0m 47ms/step\n"
     ]
    }
   ],
   "source": [
    "# prediction\n",
    "predicted_prices =  model.predict(x_test)\n"
   ]
  },
  {
   "cell_type": "code",
   "execution_count": 30,
   "metadata": {},
   "outputs": [],
   "source": [
    "# Dapatkan jumlah kolom yang diharapkan oleh scaler\n",
    "expected_columns = scaler.min_.shape[0] \n",
    "\n",
    "# Tambahkan kolom nol untuk menyesuaikan jumlah kolom\n",
    "predicted_prices_padded = np.hstack([np.zeros((predicted_prices.shape[0], expected_columns - 1)), predicted_prices])\n",
    "\n",
    "# Inverse transform dan ambil hanya kolom harga 'Close'\n",
    "predicted_prices = scaler.inverse_transform(predicted_prices_padded)[:, -1]  # Ambil hanya kolom harga\n"
   ]
  },
  {
   "cell_type": "code",
   "execution_count": 31,
   "metadata": {},
   "outputs": [],
   "source": [
    "# Tambahkan kolom nol untuk menyesuaikan jumlah kolom\n",
    "real_prices_padded = np.hstack([np.zeros((y_test.shape[0], expected_columns - 1)), y_test.reshape(-1,1)])\n",
    "\n",
    "# Inverse transform dan ambil hanya kolom harga 'Close'\n",
    "real_prices = scaler.inverse_transform(real_prices_padded)[:, -1]  # Ambil hanya kolom harga\n"
   ]
  },
  {
   "cell_type": "markdown",
   "metadata": {},
   "source": [
    "# Evaluation"
   ]
  },
  {
   "cell_type": "code",
   "execution_count": 32,
   "metadata": {},
   "outputs": [
    {
     "data": {
      "image/png": "[encoded data removed]",
      "text/plain": [
       "<Figure size 640x480 with 1 Axes>"
      ]
     },
     "metadata": {},
     "output_type": "display_data"
    }
   ],
   "source": [
    "# conpare real and predicted prices\n",
    "import matplotlib.pyplot as plt\n",
    "\n",
    "plt.plot(real_prices, color='red', label='Real Prices')\n",
    "plt.plot(predicted_prices, color='blue', label='Predicted Prices')\n",
    "plt.title('Stock Prices Prediction')\n",
    "plt.xlabel('Time')\n",
    "plt.ylabel('Stock Prices')\n",
    "plt.legend()\n",
    "plt.show()"
   ]
  },
  {
   "cell_type": "code",
   "execution_count": 33,
   "metadata": {},
   "outputs": [
    {
     "name": "stdout",
     "output_type": "stream",
     "text": [
      "Real Prices:  [ 2.33188346  2.20876008 10.13849181 11.00328695  2.11495179  2.13420614\n",
      "  8.05712045  1.28572306  2.19703404  2.43741778  2.1501299   2.28007719\n",
      "  5.18424167  2.10908878  2.32015742  2.72470566  2.74815773  2.59571926\n",
      "  2.18530801  9.88931355  2.19741694  6.84054423  2.46673287  2.17310503\n",
      "  2.24604063  1.2832919   6.73794142  7.06040741  7.07506495  2.22172871\n",
      "  2.14393093 11.28178031  2.05632161  5.99040664  2.68366453  1.40485108\n",
      "  2.43741778  2.26739026 11.92671228  5.11095395  6.9284895   8.96588823\n",
      "  1.77782826  2.29466431  2.0504586   2.59571926  2.25090295  6.43013298\n",
      "  2.27325328  2.66021246 10.53424552  9.62547774  2.75658911  9.75739565\n",
      "  2.74815773  1.51668549  2.40223967  2.43155476  2.92190961  6.10766699\n",
      "  2.10322576  2.27325328  1.29544782 10.10917672  2.56054116  2.14426688\n",
      "  9.02451841  6.25424244 11.06191713  6.45944807  8.13040818  9.39095703\n",
      "  8.78999769  9.75739565  4.86177569 10.82739642  6.85520178  3.11166484\n",
      "  2.19703404  2.24604063  7.99849027  1.32462202  4.31254661  2.48432192\n",
      "  2.92404827  2.72470566  2.33188346  3.58319147  2.28493952  7.80794219\n",
      " 10.1678069   2.03286954  9.83068337  2.24604063  6.62068106  9.62547774\n",
      "  6.70862633  9.69876547  2.42569174  9.09780613  2.91818525  1.0446271\n",
      "  9.55219002 10.24109463  2.98854146  2.95108385  9.91862864  3.68624059\n",
      "  2.38465062  9.3176693   2.26739026  6.25424244  3.50448704  2.12081481\n",
      "  3.08234975  2.17358197  2.57226719  2.20289706  1.29058546  2.18282982\n",
      "  1.28815426  3.6318153   2.22634913  2.32602044  4.21684372  7.70533938\n",
      " 10.07986163  2.17944499  2.6719385   6.48876316  8.10109309  5.00835114\n",
      "  3.61965927  2.20289706  9.94794373  2.18769215 10.21177954 10.7247936\n",
      "  2.60158228 10.49027289  7.98383273  9.55219002  5.57999538  9.91862864\n",
      "  1.55315329  2.12667783  2.24604063  5.04190174  6.56205088  7.2216404\n",
      "  8.84862787  2.23631583 11.97068491  6.76725651  2.67780151  2.24117816\n",
      "  2.2146231  10.34369744  7.30958567  2.56054116  2.20876008  9.85999846\n",
      "  5.84383119  6.84054423  9.88931355  2.51950003  8.13040818  6.18095472\n",
      "  2.20876008  2.32015742  1.86870504  9.44958721  5.77054346  1.93484907\n",
      "  6.54739334  2.5429521   2.84782903  2.71297962 11.73616419  2.38465062\n",
      "  1.27356718  1.31732846  2.20876008  2.25576528  1.29787898  2.13254085\n",
      "  9.11246368  9.44958721  7.19232531 10.24109463  2.00941747  1.08852262\n",
      "  2.59571926  6.3715028   2.70125359  2.38465062  2.17358197  2.73643169\n",
      "  8.45287416  2.53708908  7.69068183  1.28815426  3.24065123  3.80643246\n",
      "  1.35379623  7.17766776  2.57813021  4.8324606   2.19255448  2.2703524\n",
      "  6.22492735  9.69876547  7.42684603  2.44914381 11.61890384  4.11805186\n",
      "  9.53753248  2.41396571 10.34369744 10.24109463  2.53122607  2.53708908\n",
      "  1.47292421  2.00355445  1.47292421  6.19561226 10.18246445]\n",
      "Predicted Prices:  [ 2.15063972  2.05998506 10.46424747 11.01095229  2.09965203  2.06813046\n",
      "  7.59667742  1.31746577  2.19422691  2.41808873  2.15100434  2.08510903\n",
      "  5.32925564  2.09614823  2.2422      2.71523538  2.68270198  2.62474635\n",
      "  2.02936623 10.26587367  2.26520319  7.42469817  2.42688544  2.14224312\n",
      "  2.10091572  1.41957982  6.78145659  7.14325929  7.51199025  2.19533627\n",
      "  2.0546497  11.60679424  2.10684485  7.04071152  2.58549875  1.10046345\n",
      "  2.31909255  2.11383573 11.76955831  5.47344905  7.53450859  9.18944997\n",
      "  1.81471369  2.28144941  2.12123008  2.44955097  2.20825522  5.84549695\n",
      "  2.06266388  2.71844774 10.44989526 10.2130354   2.49308784 10.53609371\n",
      "  2.53016262  1.41777825  2.21987295  2.30658969  2.72166552  6.10224009\n",
      "  2.11427879  2.22805187  1.22931577 10.47582692  2.46353814  2.02570745\n",
      "  8.97511697  6.42523086 11.42335224  6.9704985   7.48980892  9.3612535\n",
      "  9.3459447   9.807845    4.62463725 11.29737151  6.06575507  2.86322649\n",
      "  2.11295626  2.14799991  8.01207304  1.40911759  4.22004479  2.28927665\n",
      "  2.87854643  2.66981269  2.30988041  3.21918586  2.26426979  8.23891652\n",
      "  9.98952395  2.10770695  9.70782214  2.20471258  5.79145098 10.77491134\n",
      "  6.47935027  9.84483224  2.28824359 10.52325147  2.79440919  0.9670396\n",
      "  9.91542292 10.48242998  2.79472898  2.71286094 10.01208425  3.644054\n",
      "  2.39843231 10.29386407  2.12861656  5.52696788  3.55166538  2.00367143\n",
      "  3.17941488  2.09878542  2.51337582  2.17722834  1.28263807  2.09084623\n",
      "  1.27512038  3.09629947  2.19944499  2.20617353  3.48382041  7.5793997\n",
      " 10.45638949  2.06485261  2.19309387  5.8943882   9.42661077  5.83629948\n",
      "  3.01115941  2.23751374 10.29220724  1.83637599  9.90825665 10.92196602\n",
      "  2.71883655 10.00763434  7.71129507  9.37828404  5.52702689 10.17276597\n",
      "  1.48307225  2.0526307   2.16248783  4.62564039  7.07236373  6.39295316\n",
      "  9.42264211  2.20173322 11.94367236  7.71029258  2.42104851  2.18546586\n",
      "  2.12310418  9.87598747  7.04935563  2.37290683  2.13041805 10.48608065\n",
      "  6.05918151  7.62708783  9.74862593  2.41081724  7.85594153  6.81272721\n",
      "  2.2764876   2.21945973  1.93855979 10.42760313  5.35433266  1.53294763\n",
      "  6.08185458  2.48091945  2.70796995  2.34680922 11.76871842  2.54024932\n",
      "  1.38220836  1.42174658  2.21635719  2.18911472  1.30229646  2.23994112\n",
      "  8.8255105   9.03569061  7.15538621 11.00176728  1.92250682  1.00000459\n",
      "  2.44133812  7.21255177  2.38202481  2.4553661   1.99348138  2.61337064\n",
      "  8.61305398  2.14297065  7.37404519  1.27258956  2.8899087   4.45757571\n",
      "  1.33909684  7.41922021  2.45078605  4.5043692   2.24873316  2.19768596\n",
      "  6.32442582 10.56115466  7.12204635  2.27815345 11.55870748  4.19872925\n",
      " 10.10371739  2.51152606 10.55610025 10.45514768  2.48494613  2.48283346\n",
      "  1.36668517  2.02701425  1.36832987  5.7501266  10.5895378 ]\n",
      "Difference:  [ 1.81243736e-01  1.48775024e-01 -3.25755654e-01 -7.66533962e-03\n",
      "  1.52997638e-02  6.60756830e-02  4.60443029e-01 -3.17427057e-02\n",
      "  2.80713106e-03  1.93290446e-02 -8.74443336e-04  1.94968162e-01\n",
      " -1.45013968e-01  1.29405453e-02  7.79574184e-02  9.47027435e-03\n",
      "  6.54557532e-02 -2.90270899e-02  1.55941776e-01 -3.76560120e-01\n",
      " -6.77862489e-02 -5.84153940e-01  3.98474274e-02  3.08619052e-02\n",
      "  1.45124914e-01 -1.36287920e-01 -4.35151694e-02 -8.28518812e-02\n",
      " -4.36925299e-01  2.63924402e-02  8.92812374e-02 -3.25013933e-01\n",
      " -5.05232357e-02 -1.05030489e+00  9.81657810e-02  3.04387626e-01\n",
      "  1.18325229e-01  1.53554530e-01  1.57153966e-01 -3.62495103e-01\n",
      " -6.06019083e-01 -2.23561738e-01 -3.68854235e-02  1.32149070e-02\n",
      " -7.07714844e-02  1.46168291e-01  4.26477308e-02  5.84636027e-01\n",
      "  2.10589394e-01 -5.82352853e-02  8.43502582e-02 -5.87557661e-01\n",
      "  2.63501266e-01 -7.78698065e-01  2.17995111e-01  9.89072410e-02\n",
      "  1.82366720e-01  1.24965068e-01  2.00244093e-01  5.42690868e-03\n",
      " -1.10530283e-02  4.52014061e-02  6.61320474e-02 -3.66650197e-01\n",
      "  9.70030150e-02  1.18559429e-01  4.94014394e-02 -1.70988419e-01\n",
      " -3.61435108e-01 -5.11050433e-01  6.40599258e-01  2.97035273e-02\n",
      " -5.55947012e-01 -5.04493494e-02  2.37138441e-01 -4.69975090e-01\n",
      "  7.89446709e-01  2.48438351e-01  8.40777885e-02  9.80407241e-02\n",
      " -1.35827678e-02 -8.44955704e-02  9.25018135e-02  1.95045270e-01\n",
      "  4.55018342e-02  5.48929625e-02  2.20030506e-02  3.64005612e-01\n",
      "  2.06697285e-02 -4.30974326e-01  1.78282954e-01 -7.48374065e-02\n",
      "  1.22861227e-01  4.13280520e-02  8.29230085e-01 -1.14943360e+00\n",
      "  2.29276062e-01 -1.46066774e-01  1.37448151e-01 -1.42544534e+00\n",
      "  1.23776062e-01  7.75874977e-02 -3.63232896e-01 -2.41335356e-01\n",
      "  1.93812483e-01  2.38222908e-01 -9.34556059e-02  4.21865993e-02\n",
      " -1.37816969e-02 -9.76194768e-01  1.38773695e-01  7.27274559e-01\n",
      " -4.71783411e-02  1.17143381e-01 -9.70651337e-02  7.47965498e-02\n",
      "  5.88913721e-02  2.56687231e-02  7.94738570e-03  9.19835985e-02\n",
      "  1.30338826e-02  5.35515829e-01  2.69041395e-02  1.19846907e-01\n",
      "  7.33023308e-01  1.25939671e-01 -3.76527854e-01  1.14592380e-01\n",
      "  4.78844629e-01  5.94374960e-01 -1.32551768e+00 -8.27948344e-01\n",
      "  6.08499865e-01 -3.46166738e-02 -3.44263512e-01  3.51316161e-01\n",
      "  3.03522886e-01 -1.97172413e-01 -1.17254266e-01  4.82638545e-01\n",
      "  2.72537659e-01  1.73905983e-01  5.29684901e-02 -2.54137330e-01\n",
      "  7.00810432e-02  7.40471291e-02  8.35528019e-02  4.16261347e-01\n",
      " -5.10312851e-01  8.28687241e-01 -5.74014242e-01  3.45826182e-02\n",
      "  2.70125514e-02 -9.43036068e-01  2.56753006e-01  5.57123030e-02\n",
      "  9.15189206e-02  4.67709969e-01  2.60230041e-01  1.87634321e-01\n",
      "  7.83420327e-02 -6.26082186e-01 -2.15350323e-01 -7.86543598e-01\n",
      "  1.40687616e-01  1.08682794e-01  2.74466641e-01 -6.31772495e-01\n",
      " -6.77275237e-02  1.00697693e-01 -6.98547446e-02 -9.78015919e-01\n",
      "  4.16210808e-01  4.01901443e-01  4.65538756e-01  6.20326507e-02\n",
      "  1.39859084e-01  3.66170405e-01 -3.25542277e-02 -1.55598700e-01\n",
      " -1.08641186e-01 -1.04418118e-01 -7.59710639e-03  6.66505607e-02\n",
      " -4.41747685e-03 -1.07400273e-01  2.86953174e-01  4.13896601e-01\n",
      "  3.69390993e-02 -7.60672653e-01  8.69106468e-02  8.85180258e-02\n",
      "  1.54381141e-01 -8.41048972e-01  3.19228775e-01 -7.07154873e-02\n",
      "  1.80100590e-01  1.23061050e-01 -1.60179817e-01  3.94118432e-01\n",
      "  3.16636638e-01  1.55646958e-02  3.50742532e-01 -6.51143246e-01\n",
      "  1.46993837e-02 -2.41552445e-01  1.27344155e-01  3.28091398e-01\n",
      " -5.61786802e-02  7.26664357e-02 -9.94984639e-02 -8.62389196e-01\n",
      "  3.04799674e-01  1.70990365e-01  6.01963598e-02 -8.06773824e-02\n",
      " -5.66184912e-01 -9.75603560e-02 -2.12402811e-01 -2.14053058e-01\n",
      "  4.62799337e-02  5.42556234e-02  1.06239040e-01 -2.34597951e-02\n",
      "  1.04594339e-01  4.45485663e-01 -4.07073353e-01]\n"
     ]
    }
   ],
   "source": [
    "print(\"Real Prices: \", real_prices)\n",
    "print(\"Predicted Prices: \", predicted_prices)\n",
    "print(\"Difference: \", real_prices - predicted_prices)"
   ]
  },
  {
   "cell_type": "code",
   "execution_count": 34,
   "metadata": {},
   "outputs": [
    {
     "data": {
      "text/plain": [
       "np.float64(0.3584978671861007)"
      ]
     },
     "execution_count": 34,
     "metadata": {},
     "output_type": "execute_result"
    }
   ],
   "source": [
    "# calculate RMSE\n",
    "from sklearn.metrics import mean_squared_error\n",
    "\n",
    "rmse = np.sqrt(mean_squared_error(real_prices, predicted_prices))\n",
    "rmse"
   ]
  },
  {
   "cell_type": "code",
   "execution_count": 35,
   "metadata": {},
   "outputs": [
    {
     "data": {
      "text/plain": [
       "np.float64(0.2439967913966659)"
      ]
     },
     "execution_count": 35,
     "metadata": {},
     "output_type": "execute_result"
    }
   ],
   "source": [
    "# calculate MAE\n",
    "from sklearn.metrics import mean_absolute_error\n",
    "\n",
    "mae = mean_absolute_error(real_prices, predicted_prices)\n",
    "mae"
   ]
  },
  {
   "cell_type": "markdown",
   "metadata": {},
   "source": [
    "Directional Accuracy adalah metrik yang digunakan untuk mengukur seberapa baik model memprediksi arah perubahan harga (naik atau turun) dibandingkan dengan nilai aktual. Ini adalah metrik yang sangat berguna dalam prediksi saham karena dalam banyak kasus, arah perubahan harga lebih penting daripada nilai absolut dari harga itu sendiri—terutama jika tujuannya adalah untuk membuat keputusan beli atau jual."
   ]
  },
  {
   "cell_type": "code",
   "execution_count": 36,
   "metadata": {},
   "outputs": [
    {
     "data": {
      "text/plain": [
       "np.float64(0.9557522123893806)"
      ]
     },
     "execution_count": 36,
     "metadata": {},
     "output_type": "execute_result"
    }
   ],
   "source": [
    "# direction accuracy\n",
    "direction_accuracy = np.mean(np.sign(real_prices[1:] - real_prices[:-1]) == np.sign(predicted_prices[1:] - predicted_prices[:-1]))\n",
    "direction_accuracy"
   ]
  },
  {
   "cell_type": "markdown",
   "metadata": {},
   "source": [
    "# Save Model"
   ]
  },
  {
   "cell_type": "code",
   "execution_count": 38,
   "metadata": {},
   "outputs": [
    {
     "name": "stderr",
     "output_type": "stream",
     "text": [
      "WARNING:absl:You are saving your model as an HDF5 file via `model.save()` or `keras.saving.save_model(model)`. This file format is considered legacy. We recommend using instead the native Keras format, e.g. `model.save('my_model.keras')` or `keras.saving.save_model(model, 'my_model.keras')`. \n"
     ]
    }
   ],
   "source": [
    "# Save the entire model\n",
    "model.save('Model/lstm_model_bankjago.h5')\n"
   ]
  }
 ],
 "metadata": {
  "kernelspec": {
   "display_name": "Python 3",
   "language": "python",
   "name": "python3"
  },
  "language_info": {
   "codemirror_mode": {
    "name": "ipython",
    "version": 3
   },
   "file_extension": ".py",
   "mimetype": "text/x-python",
   "name": "python",
   "nbconvert_exporter": "python",
   "pygments_lexer": "ipython3",
   "version": "3.10.11"
  }
 },
 "nbformat": 4,
 "nbformat_minor": 2
}
