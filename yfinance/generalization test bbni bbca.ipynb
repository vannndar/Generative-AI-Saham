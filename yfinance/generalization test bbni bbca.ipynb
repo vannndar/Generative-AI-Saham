{
 "cells": [
  {
   "cell_type": "markdown",
   "metadata": {},
   "source": [
    "# Import Data"
   ]
  },
  {
   "cell_type": "code",
   "execution_count": 1,
   "metadata": {},
   "outputs": [],
   "source": [
    "import pandas as pd\n",
    "import numpy as np "
   ]
  },
  {
   "cell_type": "code",
   "execution_count": 3,
   "metadata": {},
   "outputs": [],
   "source": [
    "data = pd.read_csv('Data/bbca_data_5y.csv')"
   ]
  },
  {
   "cell_type": "code",
   "execution_count": 4,
   "metadata": {},
   "outputs": [],
   "source": [
    "data['date_str'] = pd.to_datetime(data['date_str'])"
   ]
  },
  {
   "cell_type": "code",
   "execution_count": 5,
   "metadata": {},
   "outputs": [],
   "source": [
    "# rename columns\n",
    "data = data.rename(columns={'date_str': 'date'})"
   ]
  },
  {
   "cell_type": "code",
   "execution_count": 6,
   "metadata": {},
   "outputs": [
    {
     "data": {
      "text/html": [
       "<div>\n",
       "<style scoped>\n",
       "    .dataframe tbody tr th:only-of-type {\n",
       "        vertical-align: middle;\n",
       "    }\n",
       "\n",
       "    .dataframe tbody tr th {\n",
       "        vertical-align: top;\n",
       "    }\n",
       "\n",
       "    .dataframe thead th {\n",
       "        text-align: right;\n",
       "    }\n",
       "</style>\n",
       "<table border=\"1\" class=\"dataframe\">\n",
       "  <thead>\n",
       "    <tr style=\"text-align: right;\">\n",
       "      <th></th>\n",
       "      <th>Open</th>\n",
       "      <th>High</th>\n",
       "      <th>Low</th>\n",
       "      <th>Close</th>\n",
       "      <th>Volume</th>\n",
       "      <th>Dividends</th>\n",
       "      <th>Stock Splits</th>\n",
       "      <th>date</th>\n",
       "    </tr>\n",
       "  </thead>\n",
       "  <tbody>\n",
       "    <tr>\n",
       "      <th>0</th>\n",
       "      <td>5633.568658</td>\n",
       "      <td>5660.523532</td>\n",
       "      <td>5615.598742</td>\n",
       "      <td>5651.538574</td>\n",
       "      <td>58420500</td>\n",
       "      <td>0.0</td>\n",
       "      <td>0.0</td>\n",
       "      <td>2019-10-31</td>\n",
       "    </tr>\n",
       "    <tr>\n",
       "      <th>1</th>\n",
       "      <td>5660.522959</td>\n",
       "      <td>5682.985352</td>\n",
       "      <td>5638.060566</td>\n",
       "      <td>5682.985352</td>\n",
       "      <td>42080500</td>\n",
       "      <td>0.0</td>\n",
       "      <td>0.0</td>\n",
       "      <td>2019-11-01</td>\n",
       "    </tr>\n",
       "    <tr>\n",
       "      <th>2</th>\n",
       "      <td>5705.447725</td>\n",
       "      <td>5732.402596</td>\n",
       "      <td>5624.583111</td>\n",
       "      <td>5638.060547</td>\n",
       "      <td>43794500</td>\n",
       "      <td>0.0</td>\n",
       "      <td>0.0</td>\n",
       "      <td>2019-11-04</td>\n",
       "    </tr>\n",
       "    <tr>\n",
       "      <th>3</th>\n",
       "      <td>5705.447660</td>\n",
       "      <td>5714.432617</td>\n",
       "      <td>5633.568005</td>\n",
       "      <td>5714.432617</td>\n",
       "      <td>66161500</td>\n",
       "      <td>0.0</td>\n",
       "      <td>0.0</td>\n",
       "      <td>2019-11-05</td>\n",
       "    </tr>\n",
       "    <tr>\n",
       "      <th>4</th>\n",
       "      <td>5732.401911</td>\n",
       "      <td>5732.401911</td>\n",
       "      <td>5656.029785</td>\n",
       "      <td>5656.029785</td>\n",
       "      <td>63393000</td>\n",
       "      <td>0.0</td>\n",
       "      <td>0.0</td>\n",
       "      <td>2019-11-06</td>\n",
       "    </tr>\n",
       "  </tbody>\n",
       "</table>\n",
       "</div>"
      ],
      "text/plain": [
       "          Open         High          Low        Close    Volume  Dividends  \\\n",
       "0  5633.568658  5660.523532  5615.598742  5651.538574  58420500        0.0   \n",
       "1  5660.522959  5682.985352  5638.060566  5682.985352  42080500        0.0   \n",
       "2  5705.447725  5732.402596  5624.583111  5638.060547  43794500        0.0   \n",
       "3  5705.447660  5714.432617  5633.568005  5714.432617  66161500        0.0   \n",
       "4  5732.401911  5732.401911  5656.029785  5656.029785  63393000        0.0   \n",
       "\n",
       "   Stock Splits       date  \n",
       "0           0.0 2019-10-31  \n",
       "1           0.0 2019-11-01  \n",
       "2           0.0 2019-11-04  \n",
       "3           0.0 2019-11-05  \n",
       "4           0.0 2019-11-06  "
      ]
     },
     "execution_count": 6,
     "metadata": {},
     "output_type": "execute_result"
    }
   ],
   "source": [
    "data.head()"
   ]
  },
  {
   "cell_type": "code",
   "execution_count": 7,
   "metadata": {},
   "outputs": [
    {
     "name": "stdout",
     "output_type": "stream",
     "text": [
      "<class 'pandas.core.frame.DataFrame'>\n",
      "RangeIndex: 1213 entries, 0 to 1212\n",
      "Data columns (total 8 columns):\n",
      " #   Column        Non-Null Count  Dtype         \n",
      "---  ------        --------------  -----         \n",
      " 0   Open          1213 non-null   float64       \n",
      " 1   High          1213 non-null   float64       \n",
      " 2   Low           1213 non-null   float64       \n",
      " 3   Close         1213 non-null   float64       \n",
      " 4   Volume        1213 non-null   int64         \n",
      " 5   Dividends     1213 non-null   float64       \n",
      " 6   Stock Splits  1213 non-null   float64       \n",
      " 7   date          1213 non-null   datetime64[ns]\n",
      "dtypes: datetime64[ns](1), float64(6), int64(1)\n",
      "memory usage: 75.9 KB\n"
     ]
    }
   ],
   "source": [
    "data.info()"
   ]
  },
  {
   "cell_type": "code",
   "execution_count": 8,
   "metadata": {},
   "outputs": [
    {
     "data": {
      "text/plain": [
       "Open            0\n",
       "High            0\n",
       "Low             0\n",
       "Close           0\n",
       "Volume          0\n",
       "Dividends       0\n",
       "Stock Splits    0\n",
       "date            0\n",
       "dtype: int64"
      ]
     },
     "execution_count": 8,
     "metadata": {},
     "output_type": "execute_result"
    }
   ],
   "source": [
    "data.isnull().sum()"
   ]
  },
  {
   "cell_type": "markdown",
   "metadata": {},
   "source": [
    "# Feature Engineering"
   ]
  },
  {
   "cell_type": "code",
   "execution_count": 9,
   "metadata": {},
   "outputs": [
    {
     "data": {
      "text/plain": [
       "Dividends\n",
       "0.0      1203\n",
       "20.0        1\n",
       "91.0        1\n",
       "19.6        1\n",
       "86.4        1\n",
       "25.0        1\n",
       "120.0       1\n",
       "35.0        1\n",
       "170.0       1\n",
       "42.5        1\n",
       "227.5       1\n",
       "Name: count, dtype: int64"
      ]
     },
     "execution_count": 9,
     "metadata": {},
     "output_type": "execute_result"
    }
   ],
   "source": [
    "data['Dividends'].value_counts()"
   ]
  },
  {
   "cell_type": "code",
   "execution_count": 10,
   "metadata": {},
   "outputs": [
    {
     "data": {
      "text/plain": [
       "Stock Splits\n",
       "0.0    1212\n",
       "5.0       1\n",
       "Name: count, dtype: int64"
      ]
     },
     "execution_count": 10,
     "metadata": {},
     "output_type": "execute_result"
    }
   ],
   "source": [
    "data['Stock Splits'].value_counts()"
   ]
  },
  {
   "cell_type": "code",
   "execution_count": 11,
   "metadata": {},
   "outputs": [],
   "source": [
    "data.drop(['Dividends', 'Stock Splits'], axis=1, inplace=True)"
   ]
  },
  {
   "cell_type": "code",
   "execution_count": 12,
   "metadata": {},
   "outputs": [],
   "source": [
    "# 1. Menghitung Return Harian\n",
    "data['return'] = data['Close'].pct_change()\n",
    "data['log_return'] = np.log(data['Close'] / data['Close'].shift(1))"
   ]
  },
  {
   "cell_type": "code",
   "execution_count": 13,
   "metadata": {},
   "outputs": [],
   "source": [
    "# 2. Moving Averages\n",
    "data['ma_5'] = data['Close'].rolling(window=5).mean()\n",
    "data['ma_10'] = data['Close'].rolling(window=10).mean()\n",
    "data['ma_20'] = data['Close'].rolling(window=20).mean()"
   ]
  },
  {
   "cell_type": "code",
   "execution_count": 14,
   "metadata": {},
   "outputs": [],
   "source": [
    "# 3. Exponential Moving Average (EMA)\n",
    "data['ema_10'] = data['Close'].ewm(span=10, adjust=False).mean()\n",
    "data['ema_20'] = data['Close'].ewm(span=20, adjust=False).mean()"
   ]
  },
  {
   "cell_type": "code",
   "execution_count": 15,
   "metadata": {},
   "outputs": [],
   "source": [
    "# 4. Bollinger Bands\n",
    "data['bollinger_mid'] = data['Close'].rolling(window=20).mean()\n",
    "data['bollinger_std'] = data['Close'].rolling(window=20).std()\n",
    "data['bollinger_upper'] = data['bollinger_mid'] + (2 * data['bollinger_std'])\n",
    "data['bollinger_lower'] = data['bollinger_mid'] - (2 * data['bollinger_std'])"
   ]
  },
  {
   "cell_type": "code",
   "execution_count": 16,
   "metadata": {},
   "outputs": [],
   "source": [
    "# 10. Penambahan Fitur Waktu\n",
    "data['day_of_week'] = data['date'].dt.dayofweek  # 0 = Monday, 6 = Sunday\n",
    "data['month'] = data['date'].dt.month"
   ]
  },
  {
   "cell_type": "code",
   "execution_count": 17,
   "metadata": {},
   "outputs": [],
   "source": [
    "# Hapus data yang mengandung nilai NaN akibat perhitungan rolling\n",
    "data = data.dropna().reset_index(drop=True)"
   ]
  },
  {
   "cell_type": "code",
   "execution_count": 18,
   "metadata": {},
   "outputs": [
    {
     "data": {
      "text/html": [
       "<div>\n",
       "<style scoped>\n",
       "    .dataframe tbody tr th:only-of-type {\n",
       "        vertical-align: middle;\n",
       "    }\n",
       "\n",
       "    .dataframe tbody tr th {\n",
       "        vertical-align: top;\n",
       "    }\n",
       "\n",
       "    .dataframe thead th {\n",
       "        text-align: right;\n",
       "    }\n",
       "</style>\n",
       "<table border=\"1\" class=\"dataframe\">\n",
       "  <thead>\n",
       "    <tr style=\"text-align: right;\">\n",
       "      <th></th>\n",
       "      <th>Open</th>\n",
       "      <th>High</th>\n",
       "      <th>Low</th>\n",
       "      <th>Close</th>\n",
       "      <th>Volume</th>\n",
       "      <th>date</th>\n",
       "      <th>return</th>\n",
       "      <th>log_return</th>\n",
       "      <th>ma_5</th>\n",
       "      <th>ma_10</th>\n",
       "      <th>ma_20</th>\n",
       "      <th>ema_10</th>\n",
       "      <th>ema_20</th>\n",
       "      <th>bollinger_mid</th>\n",
       "      <th>bollinger_std</th>\n",
       "      <th>bollinger_upper</th>\n",
       "      <th>bollinger_lower</th>\n",
       "      <th>day_of_week</th>\n",
       "      <th>month</th>\n",
       "    </tr>\n",
       "  </thead>\n",
       "  <tbody>\n",
       "    <tr>\n",
       "      <th>0</th>\n",
       "      <td>5633.567592</td>\n",
       "      <td>5660.522461</td>\n",
       "      <td>5606.612723</td>\n",
       "      <td>5660.522461</td>\n",
       "      <td>58833500</td>\n",
       "      <td>2019-11-27</td>\n",
       "      <td>0.002387</td>\n",
       "      <td>0.002384</td>\n",
       "      <td>5654.232910</td>\n",
       "      <td>5656.479346</td>\n",
       "      <td>5656.254785</td>\n",
       "      <td>5656.135917</td>\n",
       "      <td>5655.397281</td>\n",
       "      <td>5656.254785</td>\n",
       "      <td>22.882915</td>\n",
       "      <td>5702.020616</td>\n",
       "      <td>5610.488955</td>\n",
       "      <td>2</td>\n",
       "      <td>11</td>\n",
       "    </tr>\n",
       "    <tr>\n",
       "      <th>1</th>\n",
       "      <td>5656.029959</td>\n",
       "      <td>5656.029959</td>\n",
       "      <td>5611.105178</td>\n",
       "      <td>5615.597656</td>\n",
       "      <td>44248000</td>\n",
       "      <td>2019-11-28</td>\n",
       "      <td>-0.007937</td>\n",
       "      <td>-0.007968</td>\n",
       "      <td>5645.247949</td>\n",
       "      <td>5654.682373</td>\n",
       "      <td>5654.457739</td>\n",
       "      <td>5648.765324</td>\n",
       "      <td>5651.606841</td>\n",
       "      <td>5654.457739</td>\n",
       "      <td>24.618244</td>\n",
       "      <td>5703.694226</td>\n",
       "      <td>5605.221252</td>\n",
       "      <td>3</td>\n",
       "      <td>11</td>\n",
       "    </tr>\n",
       "    <tr>\n",
       "      <th>2</th>\n",
       "      <td>5597.627951</td>\n",
       "      <td>5656.030169</td>\n",
       "      <td>5593.135473</td>\n",
       "      <td>5642.552734</td>\n",
       "      <td>52954500</td>\n",
       "      <td>2019-11-29</td>\n",
       "      <td>0.004800</td>\n",
       "      <td>0.004789</td>\n",
       "      <td>5640.755566</td>\n",
       "      <td>5655.131592</td>\n",
       "      <td>5652.436108</td>\n",
       "      <td>5647.635762</td>\n",
       "      <td>5650.744545</td>\n",
       "      <td>5652.436108</td>\n",
       "      <td>23.798789</td>\n",
       "      <td>5700.033687</td>\n",
       "      <td>5604.838530</td>\n",
       "      <td>4</td>\n",
       "      <td>11</td>\n",
       "    </tr>\n",
       "    <tr>\n",
       "      <th>3</th>\n",
       "      <td>5642.552605</td>\n",
       "      <td>5772.834473</td>\n",
       "      <td>5633.567649</td>\n",
       "      <td>5772.834473</td>\n",
       "      <td>49909000</td>\n",
       "      <td>2019-12-02</td>\n",
       "      <td>0.023089</td>\n",
       "      <td>0.022827</td>\n",
       "      <td>5667.710352</td>\n",
       "      <td>5668.159766</td>\n",
       "      <td>5659.174805</td>\n",
       "      <td>5670.399164</td>\n",
       "      <td>5662.372157</td>\n",
       "      <td>5659.174805</td>\n",
       "      <td>35.646048</td>\n",
       "      <td>5730.466900</td>\n",
       "      <td>5587.882709</td>\n",
       "      <td>0</td>\n",
       "      <td>12</td>\n",
       "    </tr>\n",
       "    <tr>\n",
       "      <th>4</th>\n",
       "      <td>5768.341972</td>\n",
       "      <td>5768.341972</td>\n",
       "      <td>5700.954799</td>\n",
       "      <td>5727.909668</td>\n",
       "      <td>42823000</td>\n",
       "      <td>2019-12-03</td>\n",
       "      <td>-0.007782</td>\n",
       "      <td>-0.007813</td>\n",
       "      <td>5683.883398</td>\n",
       "      <td>5673.550635</td>\n",
       "      <td>5659.848657</td>\n",
       "      <td>5680.855619</td>\n",
       "      <td>5668.613825</td>\n",
       "      <td>5659.848657</td>\n",
       "      <td>36.852585</td>\n",
       "      <td>5733.553828</td>\n",
       "      <td>5586.143486</td>\n",
       "      <td>1</td>\n",
       "      <td>12</td>\n",
       "    </tr>\n",
       "  </tbody>\n",
       "</table>\n",
       "</div>"
      ],
      "text/plain": [
       "          Open         High          Low        Close    Volume       date  \\\n",
       "0  5633.567592  5660.522461  5606.612723  5660.522461  58833500 2019-11-27   \n",
       "1  5656.029959  5656.029959  5611.105178  5615.597656  44248000 2019-11-28   \n",
       "2  5597.627951  5656.030169  5593.135473  5642.552734  52954500 2019-11-29   \n",
       "3  5642.552605  5772.834473  5633.567649  5772.834473  49909000 2019-12-02   \n",
       "4  5768.341972  5768.341972  5700.954799  5727.909668  42823000 2019-12-03   \n",
       "\n",
       "     return  log_return         ma_5        ma_10        ma_20       ema_10  \\\n",
       "0  0.002387    0.002384  5654.232910  5656.479346  5656.254785  5656.135917   \n",
       "1 -0.007937   -0.007968  5645.247949  5654.682373  5654.457739  5648.765324   \n",
       "2  0.004800    0.004789  5640.755566  5655.131592  5652.436108  5647.635762   \n",
       "3  0.023089    0.022827  5667.710352  5668.159766  5659.174805  5670.399164   \n",
       "4 -0.007782   -0.007813  5683.883398  5673.550635  5659.848657  5680.855619   \n",
       "\n",
       "        ema_20  bollinger_mid  bollinger_std  bollinger_upper  \\\n",
       "0  5655.397281    5656.254785      22.882915      5702.020616   \n",
       "1  5651.606841    5654.457739      24.618244      5703.694226   \n",
       "2  5650.744545    5652.436108      23.798789      5700.033687   \n",
       "3  5662.372157    5659.174805      35.646048      5730.466900   \n",
       "4  5668.613825    5659.848657      36.852585      5733.553828   \n",
       "\n",
       "   bollinger_lower  day_of_week  month  \n",
       "0      5610.488955            2     11  \n",
       "1      5605.221252            3     11  \n",
       "2      5604.838530            4     11  \n",
       "3      5587.882709            0     12  \n",
       "4      5586.143486            1     12  "
      ]
     },
     "execution_count": 18,
     "metadata": {},
     "output_type": "execute_result"
    }
   ],
   "source": [
    "data.head()"
   ]
  },
  {
   "cell_type": "code",
   "execution_count": 19,
   "metadata": {},
   "outputs": [
    {
     "data": {
      "text/plain": [
       "Open               0\n",
       "High               0\n",
       "Low                0\n",
       "Close              0\n",
       "Volume             0\n",
       "date               0\n",
       "return             0\n",
       "log_return         0\n",
       "ma_5               0\n",
       "ma_10              0\n",
       "ma_20              0\n",
       "ema_10             0\n",
       "ema_20             0\n",
       "bollinger_mid      0\n",
       "bollinger_std      0\n",
       "bollinger_upper    0\n",
       "bollinger_lower    0\n",
       "day_of_week        0\n",
       "month              0\n",
       "dtype: int64"
      ]
     },
     "execution_count": 19,
     "metadata": {},
     "output_type": "execute_result"
    }
   ],
   "source": [
    "data.isnull().sum()"
   ]
  },
  {
   "cell_type": "markdown",
   "metadata": {},
   "source": [
    "# Modelling"
   ]
  },
  {
   "cell_type": "markdown",
   "metadata": {},
   "source": [
    "## Preprocessing"
   ]
  },
  {
   "cell_type": "code",
   "execution_count": 20,
   "metadata": {},
   "outputs": [],
   "source": [
    "dataUsed = data[['Close', 'Volume', 'ma_5', 'ma_10', 'ema_10', 'bollinger_mid', 'bollinger_std', 'bollinger_upper', 'bollinger_lower', 'day_of_week', 'month']]\n"
   ]
  },
  {
   "cell_type": "code",
   "execution_count": 21,
   "metadata": {},
   "outputs": [
    {
     "data": {
      "text/plain": [
       "array([[0.23969743, 0.07777769, 0.21817154, ..., 0.27528493, 0.5       ,\n",
       "        0.90909091],\n",
       "       [0.23323999, 0.05849571, 0.21682084, ..., 0.27446791, 0.75      ,\n",
       "        0.90909091],\n",
       "       [0.23711448, 0.07000567, 0.2161455 , ..., 0.27440854, 1.        ,\n",
       "        0.90909091],\n",
       "       ...,\n",
       "       [0.93531759, 0.06567692, 0.96767917, ..., 0.99948838, 0.25      ,\n",
       "        0.81818182],\n",
       "       [0.91375679, 0.15134759, 0.9586594 , ..., 0.99624454, 0.5       ,\n",
       "        0.81818182],\n",
       "       [0.89938292, 0.12896526, 0.94512975, ..., 0.99061983, 0.75      ,\n",
       "        0.81818182]])"
      ]
     },
     "execution_count": 21,
     "metadata": {},
     "output_type": "execute_result"
    }
   ],
   "source": [
    "from sklearn.preprocessing import MinMaxScaler\n",
    "\n",
    "# preprocessing\n",
    "scaler = MinMaxScaler(feature_range=(0, 1))\n",
    "data_scaled = scaler.fit_transform(dataUsed)\n",
    "\n",
    "data_scaled"
   ]
  },
  {
   "cell_type": "markdown",
   "metadata": {},
   "source": [
    "## Train Test Sequence"
   ]
  },
  {
   "cell_type": "code",
   "execution_count": 22,
   "metadata": {},
   "outputs": [],
   "source": [
    "import numpy as np\n",
    "\n",
    "sequence_length = 60\n",
    "x = []\n",
    "y = []\n",
    "\n",
    "# Target tetap kolom 0 (harga close), tetapi kita hanya menggunakan kolom lain sebagai input\n",
    "for i in range(sequence_length, len(data_scaled)):\n",
    "    x.append(data_scaled[i-sequence_length:i, 1:])  \n",
    "    y.append(data_scaled[i, 0]) \n",
    "\n",
    "# Konversi ke array numpy\n",
    "x, y = np.array(x), np.array(y)\n"
   ]
  },
  {
   "cell_type": "code",
   "execution_count": 23,
   "metadata": {},
   "outputs": [
    {
     "name": "stdout",
     "output_type": "stream",
     "text": [
      "(1134, 60, 10) (1134,)\n"
     ]
    }
   ],
   "source": [
    "print(x.shape, y.shape)"
   ]
  },
  {
   "cell_type": "markdown",
   "metadata": {},
   "source": [
    "## LSTM"
   ]
  },
  {
   "cell_type": "code",
   "execution_count": 24,
   "metadata": {},
   "outputs": [],
   "source": [
    "from sklearn.model_selection import train_test_split\n",
    "\n",
    "# train and test split\n",
    "x_train, x_test, y_train, y_test = train_test_split(x, y, test_size=0.2, random_state=42)"
   ]
  },
  {
   "cell_type": "code",
   "execution_count": 25,
   "metadata": {},
   "outputs": [],
   "source": [
    "from tensorflow.keras.models import Sequential\n",
    "from tensorflow.keras.layers import LSTM, Dense, Dropout"
   ]
  },
  {
   "cell_type": "code",
   "execution_count": 26,
   "metadata": {},
   "outputs": [],
   "source": [
    "from keras.models import load_model\n",
    "\n",
    "model = load_model('Model/lstm_model_bbni.h5')"
   ]
  },
  {
   "cell_type": "code",
   "execution_count": 27,
   "metadata": {},
   "outputs": [
    {
     "data": {
      "text/plain": [
       "(907, 60, 10)"
      ]
     },
     "execution_count": 27,
     "metadata": {},
     "output_type": "execute_result"
    }
   ],
   "source": [
    "x_train.shape"
   ]
  },
  {
   "cell_type": "code",
   "execution_count": 28,
   "metadata": {},
   "outputs": [
    {
     "name": "stdout",
     "output_type": "stream",
     "text": [
      "8/8 [==============================] - 1s 10ms/step\n"
     ]
    }
   ],
   "source": [
    "# prediction\n",
    "predicted_prices =  model.predict(x_test)\n"
   ]
  },
  {
   "cell_type": "code",
   "execution_count": 29,
   "metadata": {},
   "outputs": [],
   "source": [
    "# Dapatkan jumlah kolom yang diharapkan oleh scaler\n",
    "expected_columns = scaler.min_.shape[0]  # Ini adalah 13 dalam kasus Anda\n",
    "\n",
    "# Tambahkan kolom nol untuk menyesuaikan jumlah kolom\n",
    "predicted_prices_padded = np.hstack([np.zeros((predicted_prices.shape[0], expected_columns - 1)), predicted_prices])\n",
    "\n",
    "# Inverse transform dan ambil hanya kolom harga 'Close'\n",
    "predicted_prices = scaler.inverse_transform(predicted_prices_padded)[:, -1]  # Ambil hanya kolom harga\n"
   ]
  },
  {
   "cell_type": "code",
   "execution_count": 30,
   "metadata": {},
   "outputs": [],
   "source": [
    "expected_columns = scaler.min_.shape[0]  # Ini adalah 13 dalam kasus Anda\n",
    "\n",
    "# Tambahkan kolom nol untuk menyesuaikan jumlah kolom\n",
    "real_prices_padded = np.hstack([np.zeros((y_test.shape[0], expected_columns - 1)), y_test.reshape(-1,1)])\n",
    "\n",
    "# Inverse transform dan ambil hanya kolom harga 'Close'\n",
    "real_prices = scaler.inverse_transform(real_prices_padded)[:, -1]  # Ambil hanya kolom harga\n"
   ]
  },
  {
   "cell_type": "code",
   "execution_count": 31,
   "metadata": {},
   "outputs": [
    {
     "data": {
      "text/plain": [
       "array([ 8.18413403,  8.53022297,  6.00378732,  6.18971395,  7.58032471,\n",
       "        3.64623333,  6.25334344,  1.47158345, 10.02359301,  9.8326829 ,\n",
       "        8.14568057,  3.29103979,  7.49263015,  8.56867798,  7.50492324,\n",
       "        8.33795254,  7.20331813,  8.83785844,  7.61802622,  5.63490485,\n",
       "        3.53025143,  4.12374561,  9.67813251,  3.03733012,  3.10257086,\n",
       "        1.71804372,  3.73880946,  4.16060946,  3.94680005,  3.58824354,\n",
       "        3.82020423,  5.56092933,  8.64558647,  7.00442442,  8.48036193,\n",
       "        2.51776592,  9.87132166, 10.61651511,  6.07875182,  7.26730431,\n",
       "        3.9394279 ,  5.48032589,  8.29949753,  4.25513498,  8.76094996,\n",
       "       11.28849348,  3.67522861,  5.72758598,  9.86548045,  7.80653067,\n",
       "        4.41865487,  6.59657431,  4.48043148,  4.41865487,  8.64558647,\n",
       "        2.90685175, 10.57698697, 10.93274022,  4.45134819,  5.72758598,\n",
       "        8.64558647,  9.58878347,  2.25445601,  5.56092933, 11.56519046,\n",
       "        9.66783975,  3.57079325,  6.14067975,  5.56092933,  6.62888316,\n",
       "        6.14067975,  3.62977433,  3.84358374,  5.78260576,  7.19219544,\n",
       "        3.50443848,  4.88759603,  7.80653067, 10.49793069,  3.87094771,\n",
       "        4.0131556 ,  2.66027876,  4.6040349 , 10.49793069,  7.76882916,\n",
       "        8.45331449,  7.80653067,  5.09844855,  4.08116253,  4.0573916 ,\n",
       "        3.51918433,  8.37640601,  3.78460189,  2.58065427,  5.95291028,\n",
       "        4.35230009,  3.94966352,  3.60028341, 10.33497439,  4.35967224,\n",
       "        7.73112766,  3.13057021,  4.41865487,  3.97629252,  7.61802622,\n",
       "        4.61857616,  6.26368793,  7.53018265,  8.83785844,  4.36704594,\n",
       "        9.74689603,  5.65247634,  8.20615708, 10.06312115,  8.20615708,\n",
       "        7.429521  ,  8.68404148,  8.18413403,  2.29070224,  3.68247723,\n",
       "        1.88476523,  5.36746765,  8.26104406,  8.607133  ,  7.98083278,\n",
       "        4.1090013 ,  5.78285358, 10.61651511,  8.64558647,  5.72758598,\n",
       "        4.94948922,  5.99046433,  4.9384916 ,  8.79940343,  5.67201575,\n",
       "        3.09532223,  6.48561141,  5.59791747,  8.67354954,  5.52456035,\n",
       "        4.09425468,  6.52259956,  7.1170858 ,  5.67189145,  2.71838281,\n",
       "        9.74689603,  2.58790367,  4.74944981,  6.55377583,  4.5749516 ,\n",
       "        3.87307389,  2.81986668,  5.52394349,  4.24170931,  8.68404148,\n",
       "        2.66764011, 10.26076185,  6.33766268,  5.69003194,  9.05992784,\n",
       "        8.53022297,  5.56092933,  6.06557243,  4.15323653,  6.07875182,\n",
       "       11.52566232,  6.40355964,  6.59132988,  8.95322193, 10.65604325,\n",
       "        8.45331449,  4.28594531,  5.61492307,  2.95759368,  4.93122058,\n",
       "       11.0117965 ,  9.33039296,  9.09856505,  5.48695612,  7.88193214,\n",
       "        2.14572506,  2.71728189,  8.87631191,  2.84886042,  1.6238077 ,\n",
       "        8.83785844,  4.44814657,  6.41163743,  5.95291028,  3.74773726,\n",
       "        8.14568057,  3.65074355,  8.18353648,  6.89176305, 11.16990906,\n",
       "        8.72249495,  8.607133  ,  8.607133  ,  4.31543701,  8.64558647,\n",
       "        6.59132988,  1.89201462,  7.429521  ,  7.00442442,  3.06632618,\n",
       "        3.98366467, 11.48613418,  7.53018265,  3.53025143,  3.82020423,\n",
       "        5.99046433,  4.39653609,  3.82883789, 10.97226836,  6.15272657,\n",
       "        4.98211538,  4.37441886,  9.06858388,  5.56092933,  3.97629252,\n",
       "       11.52566232, 11.09085278,  3.24029863,  8.607133  ,  3.10257086,\n",
       "        5.76513926,  5.59791747])"
      ]
     },
     "execution_count": 31,
     "metadata": {},
     "output_type": "execute_result"
    }
   ],
   "source": [
    "real_prices"
   ]
  },
  {
   "cell_type": "markdown",
   "metadata": {},
   "source": [
    "# Evaluation"
   ]
  },
  {
   "cell_type": "code",
   "execution_count": 32,
   "metadata": {},
   "outputs": [
    {
     "data": {
      "image/png": "[encoded data removed]",
      "text/plain": [
       "<Figure size 640x480 with 1 Axes>"
      ]
     },
     "metadata": {},
     "output_type": "display_data"
    }
   ],
   "source": [
    "# conpare real and predicted prices\n",
    "import matplotlib.pyplot as plt\n",
    "\n",
    "plt.plot(real_prices, color='red', label='Real Prices')\n",
    "plt.plot(predicted_prices, color='blue', label='Predicted Prices')\n",
    "plt.title('Stock Prices Prediction')\n",
    "plt.xlabel('Time')\n",
    "plt.ylabel('Stock Prices')\n",
    "plt.legend()\n",
    "plt.show()"
   ]
  },
  {
   "cell_type": "code",
   "execution_count": 33,
   "metadata": {},
   "outputs": [
    {
     "name": "stdout",
     "output_type": "stream",
     "text": [
      "Real Prices:  [ 8.18413403  8.53022297  6.00378732  6.18971395  7.58032471  3.64623333\n",
      "  6.25334344  1.47158345 10.02359301  9.8326829   8.14568057  3.29103979\n",
      "  7.49263015  8.56867798  7.50492324  8.33795254  7.20331813  8.83785844\n",
      "  7.61802622  5.63490485  3.53025143  4.12374561  9.67813251  3.03733012\n",
      "  3.10257086  1.71804372  3.73880946  4.16060946  3.94680005  3.58824354\n",
      "  3.82020423  5.56092933  8.64558647  7.00442442  8.48036193  2.51776592\n",
      "  9.87132166 10.61651511  6.07875182  7.26730431  3.9394279   5.48032589\n",
      "  8.29949753  4.25513498  8.76094996 11.28849348  3.67522861  5.72758598\n",
      "  9.86548045  7.80653067  4.41865487  6.59657431  4.48043148  4.41865487\n",
      "  8.64558647  2.90685175 10.57698697 10.93274022  4.45134819  5.72758598\n",
      "  8.64558647  9.58878347  2.25445601  5.56092933 11.56519046  9.66783975\n",
      "  3.57079325  6.14067975  5.56092933  6.62888316  6.14067975  3.62977433\n",
      "  3.84358374  5.78260576  7.19219544  3.50443848  4.88759603  7.80653067\n",
      " 10.49793069  3.87094771  4.0131556   2.66027876  4.6040349  10.49793069\n",
      "  7.76882916  8.45331449  7.80653067  5.09844855  4.08116253  4.0573916\n",
      "  3.51918433  8.37640601  3.78460189  2.58065427  5.95291028  4.35230009\n",
      "  3.94966352  3.60028341 10.33497439  4.35967224  7.73112766  3.13057021\n",
      "  4.41865487  3.97629252  7.61802622  4.61857616  6.26368793  7.53018265\n",
      "  8.83785844  4.36704594  9.74689603  5.65247634  8.20615708 10.06312115\n",
      "  8.20615708  7.429521    8.68404148  8.18413403  2.29070224  3.68247723\n",
      "  1.88476523  5.36746765  8.26104406  8.607133    7.98083278  4.1090013\n",
      "  5.78285358 10.61651511  8.64558647  5.72758598  4.94948922  5.99046433\n",
      "  4.9384916   8.79940343  5.67201575  3.09532223  6.48561141  5.59791747\n",
      "  8.67354954  5.52456035  4.09425468  6.52259956  7.1170858   5.67189145\n",
      "  2.71838281  9.74689603  2.58790367  4.74944981  6.55377583  4.5749516\n",
      "  3.87307389  2.81986668  5.52394349  4.24170931  8.68404148  2.66764011\n",
      " 10.26076185  6.33766268  5.69003194  9.05992784  8.53022297  5.56092933\n",
      "  6.06557243  4.15323653  6.07875182 11.52566232  6.40355964  6.59132988\n",
      "  8.95322193 10.65604325  8.45331449  4.28594531  5.61492307  2.95759368\n",
      "  4.93122058 11.0117965   9.33039296  9.09856505  5.48695612  7.88193214\n",
      "  2.14572506  2.71728189  8.87631191  2.84886042  1.6238077   8.83785844\n",
      "  4.44814657  6.41163743  5.95291028  3.74773726  8.14568057  3.65074355\n",
      "  8.18353648  6.89176305 11.16990906  8.72249495  8.607133    8.607133\n",
      "  4.31543701  8.64558647  6.59132988  1.89201462  7.429521    7.00442442\n",
      "  3.06632618  3.98366467 11.48613418  7.53018265  3.53025143  3.82020423\n",
      "  5.99046433  4.39653609  3.82883789 10.97226836  6.15272657  4.98211538\n",
      "  4.37441886  9.06858388  5.56092933  3.97629252 11.52566232 11.09085278\n",
      "  3.24029863  8.607133    3.10257086  5.76513926  5.59791747]\n",
      "Predicted Prices:  [ 8.68909311  8.55788422  5.55678362  6.14729381  7.87920928  3.52501661\n",
      "  6.58643055  2.25424792 10.33893812 10.32523894  8.35152328  2.76410761\n",
      "  7.27678001  8.17214566  7.64836305  8.73878819  7.15779901  9.2403003\n",
      "  8.08782566  5.67804891  3.56464481  3.8787466  10.27724856  3.03166293\n",
      "  2.98267874  1.95711455  3.88557127  3.85926491  3.61596148  3.47081754\n",
      "  3.55975185  5.56276381  9.1181125   6.46411097  8.69260806  0.9400648\n",
      " 10.56372416 10.43458647  5.59469959  7.21369064  3.64796971  5.08228236\n",
      "  8.82612944  4.24406555  9.14718997 11.44499856  2.74329872  6.26463503\n",
      "  9.80690742  7.81587404  3.81607127  6.50600773  3.88563552  4.12011898\n",
      "  9.46800727  2.88636458 10.6931228  11.14625704  4.57740349  5.8836329\n",
      "  9.15663463 10.26648343  1.77095406  5.63148916 11.52708805 10.57404411\n",
      "  3.65724471  5.9113417   5.5614053   6.25726223  6.54022419  3.42335626\n",
      "  3.87646067  5.57318604  7.80375236  3.44209281  4.52165446  8.52973318\n",
      " 10.15886027  4.06334615  4.10128835  2.69098121  4.82799792 11.2980783\n",
      "  7.91110015  8.69186848  8.12176871  4.54531854  3.94494408  4.12526748\n",
      "  3.61658664  8.32645577  3.52253497  3.03064962  6.17749539  4.07566026\n",
      "  4.15923053  3.57072663 10.81807876  4.27984509  7.90731508  3.20838712\n",
      "  4.30763945  3.49988697  7.92616898  4.41726267  6.39885074  7.49603564\n",
      "  9.28216952  4.33841178 10.3847478   5.66358951  8.11664677 10.41359973\n",
      "  8.2989794   7.94802117  9.306683    8.17429751  1.54957215  3.48397645\n",
      "  1.82101253  4.48286581  7.84782654  8.66514874  8.06900781  3.98904416\n",
      "  5.62670028 10.42098957  8.79203492  6.29686487  4.28116295  6.73063314\n",
      "  4.47156861  9.35898757  5.60352531  2.81649299  6.36321151  5.54237011\n",
      "  8.77245259  5.67380422  4.06262755  6.43823177  7.09345472  5.74904215\n",
      "  2.57317317 10.60731381  3.16511267  4.58845842  5.9788754   4.52489337\n",
      "  3.91660488  2.94935626  5.48280454  3.91597775  9.11465919  3.10050809\n",
      " 10.25240397  6.3489852   5.68390453  8.75062597  8.57457644  5.65524995\n",
      "  5.68742996  3.89021328  6.61771101 11.75806016  6.68927401  6.38318592\n",
      "  9.34941244 10.60640836  9.04096794  4.32210836  6.75148416  2.59065348\n",
      "  4.58511263 11.40463537  9.41320992  9.03331518  5.54930264  8.1246044\n",
      "  2.01457433  2.64310426  9.33119255  3.34648396  2.22900945  9.36285394\n",
      "  4.16086835  6.695683    5.77148083  3.27932201  8.59261602  3.88505495\n",
      "  7.96156693  6.37957624 11.49126983  9.22580451  8.5504452   9.13702673\n",
      "  4.08682895  8.8195985   6.42252237  2.00367692  8.71923733  7.53796387\n",
      "  1.55718885  3.58700711 11.4639672   7.59539628  3.58899012  3.1042653\n",
      "  5.88295364  4.09042913  3.60018733 10.84035778  5.88778186  4.89535427\n",
      "  4.27129278  9.26186532  5.69136912  3.59373343 11.62337434 11.4369911\n",
      "  2.21736705  8.49524397  2.46417822  5.87598211  5.6942566 ]\n",
      "Difference:  [-5.04959078e-01 -2.76612441e-02  4.47003701e-01  4.24201395e-02\n",
      " -2.98884566e-01  1.21216719e-01 -3.33087107e-01 -7.82664472e-01\n",
      " -3.15345109e-01 -4.92556043e-01 -2.05842714e-01  5.26932176e-01\n",
      "  2.15850137e-01  3.96532320e-01 -1.43439811e-01 -4.00835646e-01\n",
      "  4.55191264e-02 -4.02441857e-01 -4.69799435e-01 -4.31440593e-02\n",
      " -3.43933814e-02  2.44999008e-01 -5.99116055e-01  5.66719793e-03\n",
      "  1.19892114e-01 -2.39070832e-01 -1.46761807e-01  3.01344547e-01\n",
      "  3.30838574e-01  1.17426001e-01  2.60452381e-01 -1.83448478e-03\n",
      " -4.72526039e-01  5.40313451e-01 -2.12246129e-01  1.57770112e+00\n",
      " -6.92402503e-01  1.81928640e-01  4.84052226e-01  5.36136697e-02\n",
      "  2.91458190e-01  3.98043525e-01 -5.26631908e-01  1.10694293e-02\n",
      " -3.86240015e-01 -1.56505080e-01  9.31929881e-01 -5.37049042e-01\n",
      "  5.85730328e-02 -9.34336959e-03  6.02583596e-01  9.05665788e-02\n",
      "  5.94795958e-01  2.98535892e-01 -8.22420801e-01  2.04871697e-02\n",
      " -1.16135839e-01 -2.13516819e-01 -1.26055295e-01 -1.56046913e-01\n",
      " -5.11048163e-01 -6.77699957e-01  4.83501956e-01 -7.05598323e-02\n",
      "  3.81024156e-02 -9.06204359e-01 -8.64514595e-02  2.29338054e-01\n",
      " -4.75975717e-04  3.71620930e-01 -3.99544443e-01  2.06418068e-01\n",
      " -3.28769318e-02  2.09419719e-01 -6.11556924e-01  6.23456699e-02\n",
      "  3.65941571e-01 -7.23202510e-01  3.39070420e-01 -1.92398435e-01\n",
      " -8.81327490e-02 -3.07024454e-02 -2.23963028e-01 -8.00147613e-01\n",
      " -1.42270986e-01 -2.38553993e-01 -3.15238042e-01  5.53130001e-01\n",
      "  1.36218445e-01 -6.78758734e-02 -9.74023154e-02  4.99502379e-02\n",
      "  2.62066921e-01 -4.49995350e-01 -2.24585112e-01  2.76639832e-01\n",
      " -2.09567005e-01  2.95567736e-02 -4.83104371e-01  7.98271548e-02\n",
      " -1.76187420e-01 -7.78169095e-02  1.11015418e-01  4.76405546e-01\n",
      " -3.08142757e-01  2.01313482e-01 -1.35162813e-01  3.41470155e-02\n",
      " -4.44311080e-01  2.86341618e-02 -6.37851775e-01 -1.11131645e-02\n",
      "  8.95103096e-02 -3.50478582e-01 -9.28223253e-02 -5.18500173e-01\n",
      " -6.22641525e-01  9.83652335e-03  7.41130082e-01  1.98500779e-01\n",
      "  6.37526986e-02  8.84601836e-01  4.13217520e-01 -5.80157376e-02\n",
      " -8.81750314e-02  1.19957142e-01  1.56153299e-01  1.95525532e-01\n",
      " -1.46448458e-01 -5.69278882e-01  6.68326273e-01 -7.40168812e-01\n",
      "  4.66922982e-01 -5.59584142e-01  6.84904401e-02  2.78829239e-01\n",
      "  1.22399897e-01  5.55473627e-02 -9.89030561e-02 -1.49243875e-01\n",
      "  3.16271271e-02  8.43677915e-02  2.36310777e-02 -7.71506999e-02\n",
      "  1.45209648e-01 -8.60417783e-01 -5.77209008e-01  1.60991393e-01\n",
      "  5.74900435e-01  5.00582299e-02 -4.35309829e-02 -1.29489578e-01\n",
      "  4.11389566e-02  3.25731565e-01 -4.30617712e-01 -4.32867986e-01\n",
      "  8.35787211e-03 -1.13225175e-02  6.12740727e-03  3.09301871e-01\n",
      " -4.43534653e-02 -9.43206279e-02  3.78142461e-01  2.63023252e-01\n",
      " -5.38959190e-01 -2.32397835e-01 -2.85714375e-01  2.08143960e-01\n",
      " -3.96190507e-01  4.96348875e-02 -5.87653450e-01 -3.61630438e-02\n",
      " -1.13656109e+00  3.66940203e-01  3.46107949e-01 -3.92838866e-01\n",
      " -8.28169551e-02  6.52498703e-02 -6.23465202e-02 -2.42672263e-01\n",
      "  1.31150730e-01  7.41776377e-02 -4.54880644e-01 -4.97623544e-01\n",
      " -6.05201746e-01 -5.24995503e-01  2.87278219e-01 -2.84045573e-01\n",
      "  1.81429450e-01  4.68415252e-01 -4.46935455e-01 -2.34311398e-01\n",
      "  2.21969556e-01  5.12186811e-01 -3.21360764e-01 -5.03309561e-01\n",
      "  5.66877984e-02 -5.29893730e-01  2.28608065e-01 -1.74012030e-01\n",
      "  1.68807517e-01 -1.11662297e-01 -1.28971633e+00 -5.33539446e-01\n",
      "  1.50913732e+00  3.96657568e-01  2.21669779e-02 -6.52136293e-02\n",
      " -5.87386899e-02  7.15938932e-01  1.07510684e-01  3.06106967e-01\n",
      "  2.28650559e-01  1.31910583e-01  2.64944711e-01  8.67611057e-02\n",
      "  1.03126089e-01 -1.93281433e-01 -1.30439791e-01  3.82559091e-01\n",
      " -9.77120211e-02 -3.46138312e-01  1.02293158e+00  1.11889031e-01\n",
      "  6.38392636e-01 -1.10842844e-01 -9.63391303e-02]\n"
     ]
    }
   ],
   "source": [
    "# print real and predicted prices and difference\n",
    "print('Real Prices: ', real_prices)\n",
    "print('Predicted Prices: ', predicted_prices)\n",
    "print('Difference: ', real_prices - predicted_prices)"
   ]
  },
  {
   "cell_type": "code",
   "execution_count": 34,
   "metadata": {},
   "outputs": [
    {
     "data": {
      "text/plain": [
       "0.40059691878805964"
      ]
     },
     "execution_count": 34,
     "metadata": {},
     "output_type": "execute_result"
    }
   ],
   "source": [
    "# calculate RMSE\n",
    "from sklearn.metrics import mean_squared_error\n",
    "\n",
    "rmse = np.sqrt(mean_squared_error(real_prices, predicted_prices))\n",
    "rmse"
   ]
  },
  {
   "cell_type": "code",
   "execution_count": 35,
   "metadata": {},
   "outputs": [
    {
     "data": {
      "text/plain": [
       "0.298371555986577"
      ]
     },
     "execution_count": 35,
     "metadata": {},
     "output_type": "execute_result"
    }
   ],
   "source": [
    "# calculate MAE\n",
    "from sklearn.metrics import mean_absolute_error\n",
    "\n",
    "mae = mean_absolute_error(real_prices, predicted_prices)\n",
    "mae"
   ]
  },
  {
   "cell_type": "markdown",
   "metadata": {},
   "source": [
    "Directional Accuracy adalah metrik yang digunakan untuk mengukur seberapa baik model memprediksi arah perubahan harga (naik atau turun) dibandingkan dengan nilai aktual. Ini adalah metrik yang sangat berguna dalam prediksi saham karena dalam banyak kasus, arah perubahan harga lebih penting daripada nilai absolut dari harga itu sendiri—terutama jika tujuannya adalah untuk membuat keputusan beli atau jual."
   ]
  },
  {
   "cell_type": "code",
   "execution_count": 36,
   "metadata": {},
   "outputs": [
    {
     "data": {
      "text/plain": [
       "0.9513274336283186"
      ]
     },
     "execution_count": 36,
     "metadata": {},
     "output_type": "execute_result"
    }
   ],
   "source": [
    "# direction accuracy\n",
    "direction_accuracy = np.mean(np.sign(real_prices[1:] - real_prices[:-1]) == np.sign(predicted_prices[1:] - predicted_prices[:-1]))\n",
    "direction_accuracy"
   ]
  }
 ],
 "metadata": {
  "kernelspec": {
   "display_name": "ML",
   "language": "python",
   "name": "ml"
  },
  "language_info": {
   "codemirror_mode": {
    "name": "ipython",
    "version": 3
   },
   "file_extension": ".py",
   "mimetype": "text/x-python",
   "name": "python",
   "nbconvert_exporter": "python",
   "pygments_lexer": "ipython3",
   "version": "3.8.19"
  }
 },
 "nbformat": 4,
 "nbformat_minor": 2
}
