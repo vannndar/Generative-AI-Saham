{
 "cells": [
  {
   "cell_type": "markdown",
   "metadata": {},
   "source": [
    "# Import Data"
   ]
  },
  {
   "cell_type": "code",
   "execution_count": 1,
   "metadata": {},
   "outputs": [],
   "source": [
    "import pandas as pd\n",
    "import numpy as np "
   ]
  },
  {
   "cell_type": "code",
   "execution_count": 2,
   "metadata": {},
   "outputs": [],
   "source": [
    "data = pd.read_csv('Data/arto_data_5y.csv')"
   ]
  },
  {
   "cell_type": "code",
   "execution_count": 3,
   "metadata": {},
   "outputs": [],
   "source": [
    "data['date_str'] = pd.to_datetime(data['date_str'])"
   ]
  },
  {
   "cell_type": "code",
   "execution_count": 4,
   "metadata": {},
   "outputs": [],
   "source": [
    "# rename columns\n",
    "data = data.rename(columns={'date_str': 'date'})"
   ]
  },
  {
   "cell_type": "code",
   "execution_count": 5,
   "metadata": {},
   "outputs": [
    {
     "data": {
      "text/html": [
       "<div>\n",
       "<style scoped>\n",
       "    .dataframe tbody tr th:only-of-type {\n",
       "        vertical-align: middle;\n",
       "    }\n",
       "\n",
       "    .dataframe tbody tr th {\n",
       "        vertical-align: top;\n",
       "    }\n",
       "\n",
       "    .dataframe thead th {\n",
       "        text-align: right;\n",
       "    }\n",
       "</style>\n",
       "<table border=\"1\" class=\"dataframe\">\n",
       "  <thead>\n",
       "    <tr style=\"text-align: right;\">\n",
       "      <th></th>\n",
       "      <th>Open</th>\n",
       "      <th>High</th>\n",
       "      <th>Low</th>\n",
       "      <th>Close</th>\n",
       "      <th>Volume</th>\n",
       "      <th>Dividends</th>\n",
       "      <th>Stock Splits</th>\n",
       "      <th>date</th>\n",
       "    </tr>\n",
       "  </thead>\n",
       "  <tbody>\n",
       "    <tr>\n",
       "      <th>0</th>\n",
       "      <td>205.888260</td>\n",
       "      <td>269.526428</td>\n",
       "      <td>163.462799</td>\n",
       "      <td>269.526428</td>\n",
       "      <td>6254169</td>\n",
       "      <td>0.0</td>\n",
       "      <td>0.0</td>\n",
       "      <td>2019-11-13</td>\n",
       "    </tr>\n",
       "    <tr>\n",
       "      <th>1</th>\n",
       "      <td>296.978210</td>\n",
       "      <td>336.908051</td>\n",
       "      <td>282.004517</td>\n",
       "      <td>336.908051</td>\n",
       "      <td>4187344</td>\n",
       "      <td>0.0</td>\n",
       "      <td>0.0</td>\n",
       "      <td>2019-11-14</td>\n",
       "    </tr>\n",
       "    <tr>\n",
       "      <th>2</th>\n",
       "      <td>368.103241</td>\n",
       "      <td>420.511169</td>\n",
       "      <td>368.103241</td>\n",
       "      <td>368.103241</td>\n",
       "      <td>6198872</td>\n",
       "      <td>0.0</td>\n",
       "      <td>0.0</td>\n",
       "      <td>2019-11-15</td>\n",
       "    </tr>\n",
       "    <tr>\n",
       "      <th>3</th>\n",
       "      <td>374.342285</td>\n",
       "      <td>436.732666</td>\n",
       "      <td>358.120789</td>\n",
       "      <td>380.581329</td>\n",
       "      <td>3166353</td>\n",
       "      <td>0.0</td>\n",
       "      <td>0.0</td>\n",
       "      <td>2019-11-18</td>\n",
       "    </tr>\n",
       "    <tr>\n",
       "      <th>4</th>\n",
       "      <td>386.820343</td>\n",
       "      <td>418.015533</td>\n",
       "      <td>355.625153</td>\n",
       "      <td>355.625153</td>\n",
       "      <td>1647689</td>\n",
       "      <td>0.0</td>\n",
       "      <td>0.0</td>\n",
       "      <td>2019-11-19</td>\n",
       "    </tr>\n",
       "  </tbody>\n",
       "</table>\n",
       "</div>"
      ],
      "text/plain": [
       "         Open        High         Low       Close   Volume  Dividends  \\\n",
       "0  205.888260  269.526428  163.462799  269.526428  6254169        0.0   \n",
       "1  296.978210  336.908051  282.004517  336.908051  4187344        0.0   \n",
       "2  368.103241  420.511169  368.103241  368.103241  6198872        0.0   \n",
       "3  374.342285  436.732666  358.120789  380.581329  3166353        0.0   \n",
       "4  386.820343  418.015533  355.625153  355.625153  1647689        0.0   \n",
       "\n",
       "   Stock Splits       date  \n",
       "0           0.0 2019-11-13  \n",
       "1           0.0 2019-11-14  \n",
       "2           0.0 2019-11-15  \n",
       "3           0.0 2019-11-18  \n",
       "4           0.0 2019-11-19  "
      ]
     },
     "execution_count": 5,
     "metadata": {},
     "output_type": "execute_result"
    }
   ],
   "source": [
    "data.head()"
   ]
  },
  {
   "cell_type": "code",
   "execution_count": 6,
   "metadata": {},
   "outputs": [
    {
     "name": "stdout",
     "output_type": "stream",
     "text": [
      "<class 'pandas.core.frame.DataFrame'>\n",
      "RangeIndex: 1213 entries, 0 to 1212\n",
      "Data columns (total 8 columns):\n",
      " #   Column        Non-Null Count  Dtype         \n",
      "---  ------        --------------  -----         \n",
      " 0   Open          1213 non-null   float64       \n",
      " 1   High          1213 non-null   float64       \n",
      " 2   Low           1213 non-null   float64       \n",
      " 3   Close         1213 non-null   float64       \n",
      " 4   Volume        1213 non-null   int64         \n",
      " 5   Dividends     1213 non-null   float64       \n",
      " 6   Stock Splits  1213 non-null   float64       \n",
      " 7   date          1213 non-null   datetime64[ns]\n",
      "dtypes: datetime64[ns](1), float64(6), int64(1)\n",
      "memory usage: 75.9 KB\n"
     ]
    }
   ],
   "source": [
    "data.info()"
   ]
  },
  {
   "cell_type": "code",
   "execution_count": 7,
   "metadata": {},
   "outputs": [
    {
     "data": {
      "text/plain": [
       "Open            0\n",
       "High            0\n",
       "Low             0\n",
       "Close           0\n",
       "Volume          0\n",
       "Dividends       0\n",
       "Stock Splits    0\n",
       "date            0\n",
       "dtype: int64"
      ]
     },
     "execution_count": 7,
     "metadata": {},
     "output_type": "execute_result"
    }
   ],
   "source": [
    "data.isnull().sum()"
   ]
  },
  {
   "cell_type": "markdown",
   "metadata": {},
   "source": [
    "# Feature Engineering"
   ]
  },
  {
   "cell_type": "code",
   "execution_count": 8,
   "metadata": {},
   "outputs": [
    {
     "data": {
      "text/plain": [
       "Dividends\n",
       "0.0    1213\n",
       "Name: count, dtype: int64"
      ]
     },
     "execution_count": 8,
     "metadata": {},
     "output_type": "execute_result"
    }
   ],
   "source": [
    "data['Dividends'].value_counts()"
   ]
  },
  {
   "cell_type": "code",
   "execution_count": 9,
   "metadata": {},
   "outputs": [
    {
     "data": {
      "text/plain": [
       "Stock Splits\n",
       "0.0    1213\n",
       "Name: count, dtype: int64"
      ]
     },
     "execution_count": 9,
     "metadata": {},
     "output_type": "execute_result"
    }
   ],
   "source": [
    "data['Stock Splits'].value_counts()"
   ]
  },
  {
   "cell_type": "code",
   "execution_count": 10,
   "metadata": {},
   "outputs": [],
   "source": [
    "data.drop(['Dividends', 'Stock Splits'], axis=1, inplace=True)"
   ]
  },
  {
   "cell_type": "code",
   "execution_count": 11,
   "metadata": {},
   "outputs": [],
   "source": [
    "# 1. Menghitung Return Harian\n",
    "data['return'] = data['Close'].pct_change()\n",
    "data['log_return'] = np.log(data['Close'] / data['Close'].shift(1))"
   ]
  },
  {
   "cell_type": "code",
   "execution_count": 12,
   "metadata": {},
   "outputs": [],
   "source": [
    "# 2. Moving Averages\n",
    "data['ma_5'] = data['Close'].rolling(window=5).mean()\n",
    "data['ma_10'] = data['Close'].rolling(window=10).mean()\n",
    "data['ma_20'] = data['Close'].rolling(window=20).mean()"
   ]
  },
  {
   "cell_type": "code",
   "execution_count": 13,
   "metadata": {},
   "outputs": [],
   "source": [
    "# 3. Exponential Moving Average (EMA)\n",
    "data['ema_10'] = data['Close'].ewm(span=10, adjust=False).mean()\n",
    "data['ema_20'] = data['Close'].ewm(span=20, adjust=False).mean()"
   ]
  },
  {
   "cell_type": "code",
   "execution_count": 14,
   "metadata": {},
   "outputs": [],
   "source": [
    "# 4. Bollinger Bands\n",
    "data['bollinger_mid'] = data['Close'].rolling(window=20).mean()\n",
    "data['bollinger_std'] = data['Close'].rolling(window=20).std()\n",
    "data['bollinger_upper'] = data['bollinger_mid'] + (2 * data['bollinger_std'])\n",
    "data['bollinger_lower'] = data['bollinger_mid'] - (2 * data['bollinger_std'])"
   ]
  },
  {
   "cell_type": "code",
   "execution_count": 15,
   "metadata": {},
   "outputs": [],
   "source": [
    "# 10. Penambahan Fitur Waktu\n",
    "data['day_of_week'] = data['date'].dt.dayofweek  # 0 = Monday, 6 = Sunday\n",
    "data['month'] = data['date'].dt.month"
   ]
  },
  {
   "cell_type": "code",
   "execution_count": 16,
   "metadata": {},
   "outputs": [],
   "source": [
    "# Hapus data yang mengandung nilai NaN akibat perhitungan rolling\n",
    "data = data.dropna().reset_index(drop=True)"
   ]
  },
  {
   "cell_type": "code",
   "execution_count": 17,
   "metadata": {},
   "outputs": [
    {
     "data": {
      "text/html": [
       "<div>\n",
       "<style scoped>\n",
       "    .dataframe tbody tr th:only-of-type {\n",
       "        vertical-align: middle;\n",
       "    }\n",
       "\n",
       "    .dataframe tbody tr th {\n",
       "        vertical-align: top;\n",
       "    }\n",
       "\n",
       "    .dataframe thead th {\n",
       "        text-align: right;\n",
       "    }\n",
       "</style>\n",
       "<table border=\"1\" class=\"dataframe\">\n",
       "  <thead>\n",
       "    <tr style=\"text-align: right;\">\n",
       "      <th></th>\n",
       "      <th>Open</th>\n",
       "      <th>High</th>\n",
       "      <th>Low</th>\n",
       "      <th>Close</th>\n",
       "      <th>Volume</th>\n",
       "      <th>date</th>\n",
       "      <th>return</th>\n",
       "      <th>log_return</th>\n",
       "      <th>ma_5</th>\n",
       "      <th>ma_10</th>\n",
       "      <th>ma_20</th>\n",
       "      <th>ema_10</th>\n",
       "      <th>ema_20</th>\n",
       "      <th>bollinger_mid</th>\n",
       "      <th>bollinger_std</th>\n",
       "      <th>bollinger_upper</th>\n",
       "      <th>bollinger_lower</th>\n",
       "      <th>day_of_week</th>\n",
       "      <th>month</th>\n",
       "    </tr>\n",
       "  </thead>\n",
       "  <tbody>\n",
       "    <tr>\n",
       "      <th>0</th>\n",
       "      <td>272.022064</td>\n",
       "      <td>272.022064</td>\n",
       "      <td>267.030823</td>\n",
       "      <td>269.526428</td>\n",
       "      <td>338994</td>\n",
       "      <td>2019-12-10</td>\n",
       "      <td>-0.018182</td>\n",
       "      <td>-0.018349</td>\n",
       "      <td>265.283890</td>\n",
       "      <td>248.750443</td>\n",
       "      <td>274.455280</td>\n",
       "      <td>260.345510</td>\n",
       "      <td>263.989136</td>\n",
       "      <td>274.455280</td>\n",
       "      <td>47.828346</td>\n",
       "      <td>370.111972</td>\n",
       "      <td>178.798587</td>\n",
       "      <td>1</td>\n",
       "      <td>12</td>\n",
       "    </tr>\n",
       "    <tr>\n",
       "      <th>1</th>\n",
       "      <td>267.030823</td>\n",
       "      <td>280.756714</td>\n",
       "      <td>267.030823</td>\n",
       "      <td>272.022064</td>\n",
       "      <td>460808</td>\n",
       "      <td>2019-12-11</td>\n",
       "      <td>0.009259</td>\n",
       "      <td>0.009217</td>\n",
       "      <td>272.022052</td>\n",
       "      <td>251.495621</td>\n",
       "      <td>274.580061</td>\n",
       "      <td>262.468520</td>\n",
       "      <td>264.754177</td>\n",
       "      <td>274.580061</td>\n",
       "      <td>47.818065</td>\n",
       "      <td>370.216191</td>\n",
       "      <td>178.943932</td>\n",
       "      <td>2</td>\n",
       "      <td>12</td>\n",
       "    </tr>\n",
       "    <tr>\n",
       "      <th>2</th>\n",
       "      <td>272.022064</td>\n",
       "      <td>284.500122</td>\n",
       "      <td>272.022064</td>\n",
       "      <td>274.517670</td>\n",
       "      <td>147458</td>\n",
       "      <td>2019-12-12</td>\n",
       "      <td>0.009174</td>\n",
       "      <td>0.009132</td>\n",
       "      <td>273.269861</td>\n",
       "      <td>255.239043</td>\n",
       "      <td>271.460542</td>\n",
       "      <td>264.659274</td>\n",
       "      <td>265.684033</td>\n",
       "      <td>271.460542</td>\n",
       "      <td>45.517710</td>\n",
       "      <td>362.495962</td>\n",
       "      <td>180.425122</td>\n",
       "      <td>3</td>\n",
       "      <td>12</td>\n",
       "    </tr>\n",
       "    <tr>\n",
       "      <th>3</th>\n",
       "      <td>274.517670</td>\n",
       "      <td>274.517670</td>\n",
       "      <td>274.517670</td>\n",
       "      <td>274.517670</td>\n",
       "      <td>70523</td>\n",
       "      <td>2019-12-13</td>\n",
       "      <td>0.000000</td>\n",
       "      <td>0.000000</td>\n",
       "      <td>273.020300</td>\n",
       "      <td>258.982465</td>\n",
       "      <td>266.781264</td>\n",
       "      <td>266.451710</td>\n",
       "      <td>266.525332</td>\n",
       "      <td>266.781264</td>\n",
       "      <td>39.468174</td>\n",
       "      <td>345.717612</td>\n",
       "      <td>187.844916</td>\n",
       "      <td>4</td>\n",
       "      <td>12</td>\n",
       "    </tr>\n",
       "    <tr>\n",
       "      <th>4</th>\n",
       "      <td>274.517670</td>\n",
       "      <td>278.261108</td>\n",
       "      <td>274.517670</td>\n",
       "      <td>274.517670</td>\n",
       "      <td>141848</td>\n",
       "      <td>2019-12-16</td>\n",
       "      <td>0.000000</td>\n",
       "      <td>0.000000</td>\n",
       "      <td>273.020300</td>\n",
       "      <td>263.911304</td>\n",
       "      <td>261.478081</td>\n",
       "      <td>267.918248</td>\n",
       "      <td>267.286507</td>\n",
       "      <td>261.478081</td>\n",
       "      <td>29.149271</td>\n",
       "      <td>319.776624</td>\n",
       "      <td>203.179538</td>\n",
       "      <td>0</td>\n",
       "      <td>12</td>\n",
       "    </tr>\n",
       "  </tbody>\n",
       "</table>\n",
       "</div>"
      ],
      "text/plain": [
       "         Open        High         Low       Close  Volume       date  \\\n",
       "0  272.022064  272.022064  267.030823  269.526428  338994 2019-12-10   \n",
       "1  267.030823  280.756714  267.030823  272.022064  460808 2019-12-11   \n",
       "2  272.022064  284.500122  272.022064  274.517670  147458 2019-12-12   \n",
       "3  274.517670  274.517670  274.517670  274.517670   70523 2019-12-13   \n",
       "4  274.517670  278.261108  274.517670  274.517670  141848 2019-12-16   \n",
       "\n",
       "     return  log_return        ma_5       ma_10       ma_20      ema_10  \\\n",
       "0 -0.018182   -0.018349  265.283890  248.750443  274.455280  260.345510   \n",
       "1  0.009259    0.009217  272.022052  251.495621  274.580061  262.468520   \n",
       "2  0.009174    0.009132  273.269861  255.239043  271.460542  264.659274   \n",
       "3  0.000000    0.000000  273.020300  258.982465  266.781264  266.451710   \n",
       "4  0.000000    0.000000  273.020300  263.911304  261.478081  267.918248   \n",
       "\n",
       "       ema_20  bollinger_mid  bollinger_std  bollinger_upper  bollinger_lower  \\\n",
       "0  263.989136     274.455280      47.828346       370.111972       178.798587   \n",
       "1  264.754177     274.580061      47.818065       370.216191       178.943932   \n",
       "2  265.684033     271.460542      45.517710       362.495962       180.425122   \n",
       "3  266.525332     266.781264      39.468174       345.717612       187.844916   \n",
       "4  267.286507     261.478081      29.149271       319.776624       203.179538   \n",
       "\n",
       "   day_of_week  month  \n",
       "0            1     12  \n",
       "1            2     12  \n",
       "2            3     12  \n",
       "3            4     12  \n",
       "4            0     12  "
      ]
     },
     "execution_count": 17,
     "metadata": {},
     "output_type": "execute_result"
    }
   ],
   "source": [
    "data.head()"
   ]
  },
  {
   "cell_type": "code",
   "execution_count": 18,
   "metadata": {},
   "outputs": [
    {
     "data": {
      "text/plain": [
       "Open               0\n",
       "High               0\n",
       "Low                0\n",
       "Close              0\n",
       "Volume             0\n",
       "date               0\n",
       "return             0\n",
       "log_return         0\n",
       "ma_5               0\n",
       "ma_10              0\n",
       "ma_20              0\n",
       "ema_10             0\n",
       "ema_20             0\n",
       "bollinger_mid      0\n",
       "bollinger_std      0\n",
       "bollinger_upper    0\n",
       "bollinger_lower    0\n",
       "day_of_week        0\n",
       "month              0\n",
       "dtype: int64"
      ]
     },
     "execution_count": 18,
     "metadata": {},
     "output_type": "execute_result"
    }
   ],
   "source": [
    "data.isnull().sum()"
   ]
  },
  {
   "cell_type": "markdown",
   "metadata": {},
   "source": [
    "# Modelling"
   ]
  },
  {
   "cell_type": "markdown",
   "metadata": {},
   "source": [
    "## Preprocessing"
   ]
  },
  {
   "cell_type": "code",
   "execution_count": 19,
   "metadata": {},
   "outputs": [],
   "source": [
    "dataUsed = data[['Close', 'Volume', 'ma_5', 'ma_10', 'ema_10', 'bollinger_mid', 'bollinger_std', 'bollinger_upper', 'bollinger_lower', 'day_of_week', 'month']]"
   ]
  },
  {
   "cell_type": "code",
   "execution_count": 20,
   "metadata": {},
   "outputs": [
    {
     "data": {
      "text/plain": [
       "array([[0.00000000e+00, 8.91470371e-04, 0.00000000e+00, ...,\n",
       "        9.32372813e-03, 2.50000000e-01, 1.00000000e+00],\n",
       "       [1.33239343e-04, 1.21181106e-03, 3.62955307e-04, ...,\n",
       "        9.33263485e-03, 5.00000000e-01, 1.00000000e+00],\n",
       "       [2.66477056e-04, 3.87778067e-04, 4.30169307e-04, ...,\n",
       "        9.42340201e-03, 7.50000000e-01, 1.00000000e+00],\n",
       "       ...,\n",
       "       [1.19082604e-01, 2.49382074e-02, 1.25437744e-01, ...,\n",
       "        1.52824756e-01, 0.00000000e+00, 9.09090909e-01],\n",
       "       [1.16947047e-01, 3.42953933e-02, 1.22421269e-01, ...,\n",
       "        1.49367046e-01, 2.50000000e-01, 9.09090909e-01],\n",
       "       [1.22285940e-01, 4.80237540e-02, 1.22421269e-01, ...,\n",
       "        1.47703203e-01, 5.00000000e-01, 9.09090909e-01]])"
      ]
     },
     "execution_count": 20,
     "metadata": {},
     "output_type": "execute_result"
    }
   ],
   "source": [
    "from sklearn.preprocessing import MinMaxScaler\n",
    "\n",
    "# preprocessing\n",
    "scaler = MinMaxScaler(feature_range=(0, 1))\n",
    "data_scaled = scaler.fit_transform(dataUsed)\n",
    "\n",
    "data_scaled"
   ]
  },
  {
   "cell_type": "markdown",
   "metadata": {},
   "source": [
    "## Train Test Sequence"
   ]
  },
  {
   "cell_type": "code",
   "execution_count": 21,
   "metadata": {},
   "outputs": [],
   "source": [
    "import numpy as np\n",
    "\n",
    "sequence_length = 60\n",
    "x = []\n",
    "y = []\n",
    "\n",
    "# Target tetap kolom 0 (harga close), tetapi kita hanya menggunakan kolom lain sebagai input\n",
    "for i in range(sequence_length, len(data_scaled)):\n",
    "    x.append(data_scaled[i-sequence_length:i, 1:])  \n",
    "    y.append(data_scaled[i, 0]) \n",
    "\n",
    "# Konversi ke array numpy\n",
    "x, y = np.array(x), np.array(y)\n"
   ]
  },
  {
   "cell_type": "code",
   "execution_count": 22,
   "metadata": {},
   "outputs": [
    {
     "name": "stdout",
     "output_type": "stream",
     "text": [
      "(1134, 60, 10) (1134,)\n"
     ]
    }
   ],
   "source": [
    "print(x.shape, y.shape)"
   ]
  },
  {
   "cell_type": "markdown",
   "metadata": {},
   "source": [
    "## LSTM"
   ]
  },
  {
   "cell_type": "code",
   "execution_count": 23,
   "metadata": {},
   "outputs": [],
   "source": [
    "from sklearn.model_selection import train_test_split\n",
    "\n",
    "# train and test split\n",
    "x_train, x_test, y_train, y_test = train_test_split(x, y, test_size=0.2, random_state=42)"
   ]
  },
  {
   "cell_type": "code",
   "execution_count": 24,
   "metadata": {},
   "outputs": [],
   "source": [
    "from tensorflow.keras.models import Sequential\n",
    "from tensorflow.keras.layers import LSTM, Dense, Dropout"
   ]
  },
  {
   "cell_type": "code",
   "execution_count": 25,
   "metadata": {},
   "outputs": [],
   "source": [
    "# LSTM model\n",
    "model = Sequential()\n",
    "model.add(LSTM(units=50, return_sequences=True, input_shape=(x_train.shape[1], x_train.shape[2])))\n",
    "model.add(Dropout(0.2))\n",
    "model.add(LSTM(units=50, return_sequences=True))\n",
    "model.add(Dropout(0.2))\n",
    "model.add(LSTM(units=50))\n",
    "model.add(Dropout(0.2))\n",
    "model.add(Dense(units=1))\n",
    "\n",
    "model.compile(optimizer='adam', loss='mean_squared_error')"
   ]
  },
  {
   "cell_type": "code",
   "execution_count": 26,
   "metadata": {},
   "outputs": [
    {
     "name": "stdout",
     "output_type": "stream",
     "text": [
      "Epoch 1/100\n",
      "29/29 [==============================] - 7s 68ms/step - loss: 0.0283 - val_loss: 0.0060\n",
      "Epoch 2/100\n",
      "29/29 [==============================] - 1s 33ms/step - loss: 0.0068 - val_loss: 0.0049\n",
      "Epoch 3/100\n",
      "29/29 [==============================] - 1s 33ms/step - loss: 0.0051 - val_loss: 0.0046\n",
      "Epoch 4/100\n",
      "29/29 [==============================] - 1s 33ms/step - loss: 0.0052 - val_loss: 0.0040\n",
      "Epoch 5/100\n",
      "29/29 [==============================] - 1s 33ms/step - loss: 0.0049 - val_loss: 0.0038\n",
      "Epoch 6/100\n",
      "29/29 [==============================] - 1s 33ms/step - loss: 0.0045 - val_loss: 0.0036\n",
      "Epoch 7/100\n",
      "29/29 [==============================] - 1s 33ms/step - loss: 0.0047 - val_loss: 0.0036\n",
      "Epoch 8/100\n",
      "29/29 [==============================] - 1s 36ms/step - loss: 0.0037 - val_loss: 0.0038\n",
      "Epoch 9/100\n",
      "29/29 [==============================] - 1s 34ms/step - loss: 0.0038 - val_loss: 0.0041\n",
      "Epoch 10/100\n",
      "29/29 [==============================] - 1s 37ms/step - loss: 0.0037 - val_loss: 0.0034\n",
      "Epoch 11/100\n",
      "29/29 [==============================] - 1s 34ms/step - loss: 0.0040 - val_loss: 0.0031\n",
      "Epoch 12/100\n",
      "29/29 [==============================] - 1s 35ms/step - loss: 0.0039 - val_loss: 0.0031\n",
      "Epoch 13/100\n",
      "29/29 [==============================] - 1s 33ms/step - loss: 0.0036 - val_loss: 0.0033\n",
      "Epoch 14/100\n",
      "29/29 [==============================] - 1s 33ms/step - loss: 0.0031 - val_loss: 0.0033\n",
      "Epoch 15/100\n",
      "29/29 [==============================] - 1s 33ms/step - loss: 0.0042 - val_loss: 0.0028\n",
      "Epoch 16/100\n",
      "29/29 [==============================] - 1s 33ms/step - loss: 0.0041 - val_loss: 0.0028\n",
      "Epoch 17/100\n",
      "29/29 [==============================] - 1s 35ms/step - loss: 0.0032 - val_loss: 0.0033\n",
      "Epoch 18/100\n",
      "29/29 [==============================] - 1s 33ms/step - loss: 0.0032 - val_loss: 0.0026\n",
      "Epoch 19/100\n",
      "29/29 [==============================] - 1s 36ms/step - loss: 0.0029 - val_loss: 0.0027\n",
      "Epoch 20/100\n",
      "29/29 [==============================] - 1s 33ms/step - loss: 0.0030 - val_loss: 0.0027\n",
      "Epoch 21/100\n",
      "29/29 [==============================] - 1s 35ms/step - loss: 0.0029 - val_loss: 0.0023\n",
      "Epoch 22/100\n",
      "29/29 [==============================] - 1s 35ms/step - loss: 0.0032 - val_loss: 0.0029\n",
      "Epoch 23/100\n",
      "29/29 [==============================] - 1s 35ms/step - loss: 0.0033 - val_loss: 0.0037\n",
      "Epoch 24/100\n",
      "29/29 [==============================] - 1s 33ms/step - loss: 0.0033 - val_loss: 0.0028\n",
      "Epoch 25/100\n",
      "29/29 [==============================] - 1s 36ms/step - loss: 0.0031 - val_loss: 0.0023\n",
      "Epoch 26/100\n",
      "29/29 [==============================] - 1s 34ms/step - loss: 0.0025 - val_loss: 0.0027\n",
      "Epoch 27/100\n",
      "29/29 [==============================] - 1s 41ms/step - loss: 0.0029 - val_loss: 0.0022\n",
      "Epoch 28/100\n",
      "29/29 [==============================] - 1s 42ms/step - loss: 0.0031 - val_loss: 0.0037\n",
      "Epoch 29/100\n",
      "29/29 [==============================] - 1s 36ms/step - loss: 0.0030 - val_loss: 0.0024\n",
      "Epoch 30/100\n",
      "29/29 [==============================] - 1s 36ms/step - loss: 0.0032 - val_loss: 0.0026\n",
      "Epoch 31/100\n",
      "29/29 [==============================] - 1s 35ms/step - loss: 0.0031 - val_loss: 0.0021\n",
      "Epoch 32/100\n",
      "29/29 [==============================] - 1s 36ms/step - loss: 0.0026 - val_loss: 0.0025\n",
      "Epoch 33/100\n",
      "29/29 [==============================] - 1s 36ms/step - loss: 0.0032 - val_loss: 0.0027\n",
      "Epoch 34/100\n",
      "29/29 [==============================] - 1s 36ms/step - loss: 0.0025 - val_loss: 0.0023\n",
      "Epoch 35/100\n",
      "29/29 [==============================] - 1s 37ms/step - loss: 0.0023 - val_loss: 0.0020\n",
      "Epoch 36/100\n",
      "29/29 [==============================] - 1s 49ms/step - loss: 0.0024 - val_loss: 0.0032\n",
      "Epoch 37/100\n",
      "29/29 [==============================] - 2s 59ms/step - loss: 0.0033 - val_loss: 0.0021\n",
      "Epoch 38/100\n",
      "29/29 [==============================] - 2s 58ms/step - loss: 0.0031 - val_loss: 0.0027\n",
      "Epoch 39/100\n",
      "29/29 [==============================] - 2s 57ms/step - loss: 0.0025 - val_loss: 0.0022\n",
      "Epoch 40/100\n",
      "29/29 [==============================] - 2s 57ms/step - loss: 0.0024 - val_loss: 0.0020\n",
      "Epoch 41/100\n",
      "29/29 [==============================] - 2s 62ms/step - loss: 0.0025 - val_loss: 0.0021\n",
      "Epoch 42/100\n",
      "29/29 [==============================] - 2s 63ms/step - loss: 0.0023 - val_loss: 0.0018\n",
      "Epoch 43/100\n",
      "29/29 [==============================] - 2s 69ms/step - loss: 0.0022 - val_loss: 0.0018\n",
      "Epoch 44/100\n",
      "29/29 [==============================] - 2s 60ms/step - loss: 0.0020 - val_loss: 0.0019\n",
      "Epoch 45/100\n",
      "29/29 [==============================] - 2s 58ms/step - loss: 0.0021 - val_loss: 0.0018\n",
      "Epoch 46/100\n",
      "29/29 [==============================] - 2s 59ms/step - loss: 0.0023 - val_loss: 0.0018\n",
      "Epoch 47/100\n",
      "29/29 [==============================] - 2s 57ms/step - loss: 0.0020 - val_loss: 0.0024\n",
      "Epoch 48/100\n",
      "29/29 [==============================] - 2s 57ms/step - loss: 0.0023 - val_loss: 0.0019\n",
      "Epoch 49/100\n",
      "29/29 [==============================] - 2s 57ms/step - loss: 0.0021 - val_loss: 0.0019\n",
      "Epoch 50/100\n",
      "29/29 [==============================] - 2s 60ms/step - loss: 0.0023 - val_loss: 0.0021\n",
      "Epoch 51/100\n",
      "29/29 [==============================] - 2s 62ms/step - loss: 0.0024 - val_loss: 0.0016\n",
      "Epoch 52/100\n",
      "29/29 [==============================] - 2s 63ms/step - loss: 0.0018 - val_loss: 0.0016\n",
      "Epoch 53/100\n",
      "29/29 [==============================] - 2s 66ms/step - loss: 0.0021 - val_loss: 0.0017\n",
      "Epoch 54/100\n",
      "29/29 [==============================] - 2s 62ms/step - loss: 0.0022 - val_loss: 0.0019\n",
      "Epoch 55/100\n",
      "29/29 [==============================] - 2s 65ms/step - loss: 0.0022 - val_loss: 0.0030\n",
      "Epoch 56/100\n",
      "29/29 [==============================] - 2s 65ms/step - loss: 0.0021 - val_loss: 0.0017\n",
      "Epoch 57/100\n",
      "29/29 [==============================] - 2s 64ms/step - loss: 0.0018 - val_loss: 0.0017\n",
      "Epoch 58/100\n",
      "29/29 [==============================] - 2s 65ms/step - loss: 0.0021 - val_loss: 0.0017\n",
      "Epoch 59/100\n",
      "29/29 [==============================] - 2s 68ms/step - loss: 0.0022 - val_loss: 0.0014\n",
      "Epoch 60/100\n",
      "29/29 [==============================] - 2s 69ms/step - loss: 0.0019 - val_loss: 0.0018\n",
      "Epoch 61/100\n",
      "29/29 [==============================] - 2s 65ms/step - loss: 0.0018 - val_loss: 0.0019\n",
      "Epoch 62/100\n",
      "29/29 [==============================] - 2s 61ms/step - loss: 0.0020 - val_loss: 0.0016\n",
      "Epoch 63/100\n",
      "29/29 [==============================] - 2s 67ms/step - loss: 0.0019 - val_loss: 0.0017\n",
      "Epoch 64/100\n",
      "29/29 [==============================] - 2s 67ms/step - loss: 0.0018 - val_loss: 0.0016\n",
      "Epoch 65/100\n",
      "29/29 [==============================] - 2s 63ms/step - loss: 0.0018 - val_loss: 0.0014\n",
      "Epoch 66/100\n",
      "29/29 [==============================] - 2s 66ms/step - loss: 0.0019 - val_loss: 0.0013\n",
      "Epoch 67/100\n",
      "29/29 [==============================] - 2s 66ms/step - loss: 0.0020 - val_loss: 0.0019\n",
      "Epoch 68/100\n",
      "29/29 [==============================] - 2s 63ms/step - loss: 0.0020 - val_loss: 0.0014\n",
      "Epoch 69/100\n",
      "29/29 [==============================] - 2s 63ms/step - loss: 0.0019 - val_loss: 0.0015\n",
      "Epoch 70/100\n",
      "29/29 [==============================] - 2s 69ms/step - loss: 0.0019 - val_loss: 0.0014\n",
      "Epoch 71/100\n",
      "29/29 [==============================] - 2s 66ms/step - loss: 0.0017 - val_loss: 0.0014\n",
      "Epoch 72/100\n",
      "29/29 [==============================] - 2s 66ms/step - loss: 0.0018 - val_loss: 0.0015\n",
      "Epoch 73/100\n",
      "29/29 [==============================] - 2s 63ms/step - loss: 0.0017 - val_loss: 0.0015\n",
      "Epoch 74/100\n",
      "29/29 [==============================] - 2s 66ms/step - loss: 0.0017 - val_loss: 0.0013\n",
      "Epoch 75/100\n",
      "29/29 [==============================] - 2s 62ms/step - loss: 0.0017 - val_loss: 0.0014\n",
      "Epoch 76/100\n",
      "29/29 [==============================] - 2s 64ms/step - loss: 0.0018 - val_loss: 0.0014\n",
      "Epoch 77/100\n",
      "29/29 [==============================] - 2s 65ms/step - loss: 0.0017 - val_loss: 0.0022\n",
      "Epoch 78/100\n",
      "29/29 [==============================] - 2s 66ms/step - loss: 0.0017 - val_loss: 0.0012\n",
      "Epoch 79/100\n",
      "29/29 [==============================] - 2s 63ms/step - loss: 0.0016 - val_loss: 0.0012\n",
      "Epoch 80/100\n",
      "29/29 [==============================] - 2s 62ms/step - loss: 0.0016 - val_loss: 0.0013\n",
      "Epoch 81/100\n",
      "29/29 [==============================] - 2s 65ms/step - loss: 0.0015 - val_loss: 0.0013\n",
      "Epoch 82/100\n",
      "29/29 [==============================] - 2s 67ms/step - loss: 0.0016 - val_loss: 0.0012\n",
      "Epoch 83/100\n",
      "29/29 [==============================] - 2s 68ms/step - loss: 0.0014 - val_loss: 0.0014\n",
      "Epoch 84/100\n",
      "29/29 [==============================] - 2s 66ms/step - loss: 0.0015 - val_loss: 0.0011\n",
      "Epoch 85/100\n",
      "29/29 [==============================] - 2s 68ms/step - loss: 0.0015 - val_loss: 0.0017\n",
      "Epoch 86/100\n",
      "29/29 [==============================] - 2s 65ms/step - loss: 0.0014 - val_loss: 0.0014\n",
      "Epoch 87/100\n",
      "29/29 [==============================] - 2s 66ms/step - loss: 0.0016 - val_loss: 0.0014\n",
      "Epoch 88/100\n",
      "29/29 [==============================] - 2s 67ms/step - loss: 0.0018 - val_loss: 0.0013\n",
      "Epoch 89/100\n",
      "29/29 [==============================] - 2s 63ms/step - loss: 0.0018 - val_loss: 0.0013\n",
      "Epoch 90/100\n",
      "29/29 [==============================] - 1s 41ms/step - loss: 0.0017 - val_loss: 0.0012\n",
      "Epoch 91/100\n",
      "29/29 [==============================] - 1s 33ms/step - loss: 0.0017 - val_loss: 0.0011\n",
      "Epoch 92/100\n",
      "29/29 [==============================] - 1s 35ms/step - loss: 0.0014 - val_loss: 0.0011\n",
      "Epoch 93/100\n",
      "29/29 [==============================] - 1s 34ms/step - loss: 0.0016 - val_loss: 0.0011\n",
      "Epoch 94/100\n",
      "29/29 [==============================] - 1s 35ms/step - loss: 0.0014 - val_loss: 9.5733e-04\n",
      "Epoch 95/100\n",
      "29/29 [==============================] - 1s 33ms/step - loss: 0.0015 - val_loss: 0.0013\n",
      "Epoch 96/100\n",
      "29/29 [==============================] - 1s 35ms/step - loss: 0.0016 - val_loss: 8.9934e-04\n",
      "Epoch 97/100\n",
      "29/29 [==============================] - 1s 33ms/step - loss: 0.0015 - val_loss: 8.9750e-04\n",
      "Epoch 98/100\n",
      "29/29 [==============================] - 1s 36ms/step - loss: 0.0015 - val_loss: 9.0821e-04\n",
      "Epoch 99/100\n",
      "29/29 [==============================] - 1s 35ms/step - loss: 0.0014 - val_loss: 9.1900e-04\n",
      "Epoch 100/100\n",
      "29/29 [==============================] - 1s 37ms/step - loss: 0.0015 - val_loss: 0.0012\n"
     ]
    },
    {
     "data": {
      "text/plain": [
       "<keras.src.callbacks.History at 0x267cc39b160>"
      ]
     },
     "execution_count": 26,
     "metadata": {},
     "output_type": "execute_result"
    }
   ],
   "source": [
    "# train model with early stopping\n",
    "model.fit(x_train, y_train, epochs=100, batch_size=32, validation_data=(x_test, y_test), verbose=1)"
   ]
  },
  {
   "cell_type": "code",
   "execution_count": 27,
   "metadata": {},
   "outputs": [
    {
     "name": "stdout",
     "output_type": "stream",
     "text": [
      "8/8 [==============================] - 1s 10ms/step\n"
     ]
    }
   ],
   "source": [
    "# prediction\n",
    "predicted_prices =  model.predict(x_test)\n"
   ]
  },
  {
   "cell_type": "code",
   "execution_count": 28,
   "metadata": {},
   "outputs": [],
   "source": [
    "# Dapatkan jumlah kolom yang diharapkan oleh scaler\n",
    "expected_columns = scaler.min_.shape[0] \n",
    "\n",
    "# Tambahkan kolom nol untuk menyesuaikan jumlah kolom\n",
    "predicted_prices_padded = np.hstack([np.zeros((predicted_prices.shape[0], expected_columns - 1)), predicted_prices])\n",
    "\n",
    "# Inverse transform dan ambil hanya kolom harga 'Close'\n",
    "predicted_prices = scaler.inverse_transform(predicted_prices_padded)[:, -1]  # Ambil hanya kolom harga\n"
   ]
  },
  {
   "cell_type": "code",
   "execution_count": 29,
   "metadata": {},
   "outputs": [],
   "source": [
    "# Tambahkan kolom nol untuk menyesuaikan jumlah kolom\n",
    "real_prices_padded = np.hstack([np.zeros((y_test.shape[0], expected_columns - 1)), y_test.reshape(-1,1)])\n",
    "\n",
    "# Inverse transform dan ambil hanya kolom harga 'Close'\n",
    "real_prices = scaler.inverse_transform(real_prices_padded)[:, -1]  # Ambil hanya kolom harga\n"
   ]
  },
  {
   "cell_type": "markdown",
   "metadata": {},
   "source": [
    "# Evaluation"
   ]
  },
  {
   "cell_type": "code",
   "execution_count": 30,
   "metadata": {},
   "outputs": [
    {
     "data": {
      "image/png": "[encoded data removed]",
      "text/plain": [
       "<Figure size 640x480 with 1 Axes>"
      ]
     },
     "metadata": {},
     "output_type": "display_data"
    }
   ],
   "source": [
    "# conpare real and predicted prices\n",
    "import matplotlib.pyplot as plt\n",
    "\n",
    "plt.plot(real_prices, color='red', label='Real Prices')\n",
    "plt.plot(predicted_prices, color='blue', label='Predicted Prices')\n",
    "plt.title('Stock Prices Prediction')\n",
    "plt.xlabel('Time')\n",
    "plt.ylabel('Stock Prices')\n",
    "plt.legend()\n",
    "plt.show()"
   ]
  },
  {
   "cell_type": "code",
   "execution_count": 31,
   "metadata": {},
   "outputs": [
    {
     "name": "stdout",
     "output_type": "stream",
     "text": [
      "Real Prices:  [ 2.23943526  2.21007134  9.94452608 10.51712238  2.15134352  2.12751588\n",
      "  7.21368215  1.32875951  2.24530804  2.33927256  2.01333312  2.2005728\n",
      "  5.05543453  2.1572163   2.24530804  2.66814839  2.97940587  2.60942056\n",
      "  2.22181691 10.2088013   2.1762204   7.69818672  2.33339978  2.26388889\n",
      "  2.25414789  1.27031393  7.3311378   7.0962265   6.9934528   2.1762204\n",
      "  2.12264531 11.60358717  2.01333312  5.81889627  2.72687621  1.25570255\n",
      "  2.51545604  2.28054473 11.61826913  5.2022541   6.93472497  9.75366064\n",
      "  1.89881386  2.44896656  2.02801508  2.52132882  2.20544323  6.14189932\n",
      "  2.19832578  2.62116613  9.75366064  9.65088694  2.92140167  9.31320194\n",
      "  2.70925787  1.50653148  2.08674291  2.46847378  2.9262721   5.84826019\n",
      "  2.03976065  2.19245299  1.28005485 10.17943738  2.48609213  2.07499734\n",
      "  9.16638238  5.84826019 11.97063609  5.95103388  6.77322345  9.69493281\n",
      "  9.01956281  9.65088694  4.40942844 10.23816521  6.77322345  3.03813369\n",
      "  2.16308908  2.23466606  7.91841607  1.28249009  4.27539107  2.44498265\n",
      "  2.92067804  2.77973126  2.46847378  4.16580546  2.2785003   8.24141911\n",
      " 11.53017739  2.11610682 10.72266978  2.21031365  6.27403693  8.96083498\n",
      "  6.6557678  11.06035478  2.35689091  9.04892672  2.58592943  1.05202954\n",
      "  9.53343129 10.53180434  2.63878447  2.94088351  9.81238847  3.74286761\n",
      "  2.35689091  9.54811325  2.24530804  6.53831215  3.17908048  2.16896186\n",
      "  3.22606274  2.18070743  2.73862178  2.06912456  1.28005485  2.1323863\n",
      "  1.33606522  3.9588108   2.1572163   2.71513065  4.43879235  7.99182585\n",
      " 10.01793586  2.24530804  2.72100343  6.12721736  8.5497402   5.48121127\n",
      "  3.86140147  2.22768969  9.91516216  2.2005728  10.09134564 11.01630891\n",
      "  2.54481995 10.13539151  7.81564237  9.3278839   5.23161801  9.98857195\n",
      "  2.25414789  2.11610682  2.20544323  5.96787741  6.12721736  6.97877084\n",
      "  9.19574629  2.20544323 11.75040674  7.97714389  2.55069273  2.22492507\n",
      "  2.25118082 10.53180434  7.19900019  2.65640282  2.35101813 10.1060276\n",
      "  5.95103388  8.16800933  9.95920803  2.48609213  8.12396346  5.99507975\n",
      "  2.18658021  2.43323708  1.76080347  9.06360868  5.99507975  2.25414789\n",
      "  7.21368215  2.46847378  2.82084074  2.70338508 11.32463     2.34514534\n",
      "  1.26544347  1.27274917  2.21007134  2.22979563  1.27031393  2.21594412\n",
      "  8.96083498  8.4469665   6.83195128 10.70798782  1.9869056   1.06888417\n",
      "  2.2922903   4.9967067   2.65053004  2.36863647  2.30403586  2.58005665\n",
      "  9.10765455  2.72100343  5.9803978   1.32632426  2.97353308  4.01301561\n",
      "  1.4553916   6.72917758  2.54481995  4.01301561  2.1762204   2.26388889\n",
      "  5.42248345  8.5497402   7.06686258  2.41561873 10.28221108  4.25103852\n",
      " 10.41434869  2.44498265 10.51712238 10.13539151  2.45085543  2.55656552\n",
      "  1.49922577  2.18658021  1.49679056  6.47958432 11.20717434]\n",
      "Predicted Prices:  [ 2.24258274  2.19678297 10.19862682 10.56395692  2.21836036  2.13731148\n",
      "  7.74640059  1.34754163  2.14694422  2.44555363  2.19901399  2.44515811\n",
      "  5.0161016   2.0617263   2.23376694  2.68804291  2.95111111  2.67192897\n",
      "  2.17435716 10.64980918  2.19308305  7.18719643  2.49963239  2.22954454\n",
      "  2.27316763  1.33050454  7.10321671  7.16105497  7.63735664  2.33740202\n",
      "  2.10918888 11.48279881  2.10181478  6.0989179   2.80542658  1.32587072\n",
      "  2.37317106  2.21742278 11.25442898  5.25819585  7.56319004  9.78764176\n",
      "  1.90679095  2.35439239  2.14587396  2.55187073  2.4244556   6.33641243\n",
      "  2.16250676  2.75417483 10.18131566 10.18388581  2.7617394  10.36234158\n",
      "  2.69673897  1.54386832  2.14607164  2.36105053  3.00951765  6.06789511\n",
      "  2.15170335  2.22929236  1.37671991 10.71257007  2.55556828  2.08867528\n",
      "  9.3306582   6.37040204 11.44599253  6.5101462   7.65421802  9.91434175\n",
      "  9.14441395 10.11079448  4.43023309 10.86549282  6.79045016  3.03624511\n",
      "  2.13661059  2.24493735  8.68524116  1.43499073  4.44568056  2.41394551\n",
      "  2.90640259  2.75725786  2.67567471  3.65137385  2.38649127  8.79778236\n",
      " 10.64672434  2.13661002 10.32499045  2.24982785  6.22877747  9.48786169\n",
      "  6.83724725 10.47624785  2.27820836 10.45247263  2.90346937  1.01838003\n",
      " 10.53370124 10.05522609  2.95554151  2.99037658 10.480663    3.58735542\n",
      "  2.30518914 10.49253684  2.24077527  6.10287541  3.31250468  2.00478784\n",
      "  2.929125    2.20372574  2.68002217  2.16082739  1.3365957   2.10663578\n",
      "  1.39611833  3.55531785  2.23315128  2.34918948  3.81957048  7.94686788\n",
      " 10.69552445  2.18172086  2.69808322  6.38584     9.15617502  5.775796\n",
      "  3.42793533  2.22283944 10.28936958  2.25428791 10.58223057 10.99736392\n",
      "  2.40174876 10.18791741  8.45158219  9.76033586  5.44349891 10.57962829\n",
      "  1.66502723  2.14899223  2.24455887  5.02665234  6.67936188  7.20063466\n",
      "  9.09554696  2.26306511 11.5044589   7.50019377  2.59560037  2.23681825\n",
      "  2.11976503 10.51315707  7.15085435  2.52566141  2.30693358 10.67571723\n",
      "  6.14828449  7.31295556 10.04682589  2.48356549  8.09071773  6.3810131\n",
      "  2.28310075  2.33108449  1.86142096 10.4834069   5.82298583  1.76756877\n",
      "  6.63464385  2.52299029  2.8209265   2.66320996 11.51461691  2.19244748\n",
      "  1.43668084  1.42131352  2.23686849  2.28139253  1.33949237  2.21023865\n",
      "  9.08503425  9.49470735  7.17163914 10.35071754  2.07168163  1.02818529\n",
      "  2.43250683  6.36393929  2.71735527  2.38923566  2.11410463  2.70217989\n",
      "  8.88820845  2.61954638  7.35743755  1.36384735  2.92654862  4.17522317\n",
      "  1.42397268  7.67109513  2.52664849  4.4878186   2.25844441  2.39130326\n",
      "  6.19493735  9.31812936  7.7161423   2.35399458 11.06604797  4.49570411\n",
      " 10.39587027  2.46159627 10.70375812 10.08683568  2.50685553  2.5484143\n",
      "  1.47703338  2.19333228  1.46883528  6.08036166 10.72445309]\n",
      "Difference:  [-3.14748330e-03  1.32883730e-02 -2.54100740e-01 -4.68345325e-02\n",
      " -6.70168489e-02 -9.79560527e-03 -5.32718445e-01 -1.87821183e-02\n",
      "  9.83638129e-02 -1.06281071e-01 -1.85680862e-01 -2.44585305e-01\n",
      "  3.93329314e-02  9.54899963e-02  1.15411020e-02 -1.98945212e-02\n",
      "  2.82947595e-02 -6.25084107e-02  4.74597463e-02 -4.41007886e-01\n",
      " -1.68626488e-02  5.10990284e-01 -1.66232611e-01  3.43443427e-02\n",
      " -1.90197378e-02 -6.01906105e-02  2.27921095e-01 -6.48284718e-02\n",
      " -6.43903838e-01 -1.61181617e-01  1.34564241e-02  1.20788357e-01\n",
      " -8.84816531e-02 -2.80021628e-01 -7.85503686e-02 -7.01681750e-02\n",
      "  1.42284978e-01  6.31219502e-02  3.63840146e-01 -5.59417511e-02\n",
      " -6.28465069e-01 -3.39811228e-02 -7.97708733e-03  9.45741675e-02\n",
      " -1.17858876e-01 -3.05419118e-02 -2.19012370e-01 -1.94513112e-01\n",
      "  3.58190175e-02 -1.33008702e-01 -4.27655020e-01 -5.32998868e-01\n",
      "  1.59662269e-01 -1.04913964e+00  1.25188929e-02 -3.73368369e-02\n",
      " -5.93287287e-02  1.07423247e-01 -8.32455588e-02 -2.19634928e-01\n",
      " -1.11942705e-01 -3.68393689e-02 -9.66650618e-02 -5.33132689e-01\n",
      " -6.94761519e-02 -1.36779417e-02 -1.64275820e-01 -5.22141852e-01\n",
      "  5.24643557e-01 -5.59112318e-01 -8.80994566e-01 -2.19408933e-01\n",
      " -1.24851137e-01 -4.59907540e-01 -2.08046512e-02 -6.27327612e-01\n",
      " -1.72267038e-02  1.88858626e-03  2.64784909e-02 -1.02712887e-02\n",
      " -7.66825096e-01 -1.52500641e-01 -1.70289493e-01  3.10371365e-02\n",
      "  1.42754533e-02  2.24733939e-02 -2.07200929e-01  5.14431610e-01\n",
      " -1.07990969e-01 -5.56363250e-01  8.83453046e-01 -2.05031965e-02\n",
      "  3.97679325e-01 -3.95141953e-02  4.52594594e-02 -5.27026708e-01\n",
      " -1.81479453e-01  5.84106931e-01  7.86825478e-02 -1.40354590e+00\n",
      " -3.17539938e-01  3.36495111e-02 -1.00026995e+00  4.76578253e-01\n",
      " -3.16757032e-01 -4.94930664e-02 -6.68274534e-01  1.55512191e-01\n",
      "  5.17017677e-02 -9.44423594e-01  4.53276549e-03  4.35436735e-01\n",
      " -1.33424202e-01  1.64174023e-01  2.96937742e-01 -2.30183116e-02\n",
      "  5.85996142e-02 -9.17028323e-02 -5.65408541e-02  2.57505202e-02\n",
      " -6.00531088e-02  4.03492954e-01 -7.59349812e-02  3.65941174e-01\n",
      "  6.19221871e-01  4.49579661e-02 -6.77588595e-01  6.35871774e-02\n",
      "  2.29202095e-02 -2.58622637e-01 -6.06434817e-01 -2.94584725e-01\n",
      "  4.33466137e-01  4.85024495e-03 -3.74207420e-01 -5.37151092e-02\n",
      " -4.90884925e-01  1.89449831e-02  1.43071191e-01 -5.25258990e-02\n",
      " -6.35939823e-01 -4.32451963e-01 -2.11880900e-01 -5.91056342e-01\n",
      "  5.89120664e-01 -3.28854133e-02 -3.91156429e-02  9.41225077e-01\n",
      " -5.52144518e-01 -2.21863814e-01  1.00199329e-01 -5.76218867e-02\n",
      "  2.45947834e-01  4.76950118e-01 -4.49076317e-02 -1.18931881e-02\n",
      "  1.31415792e-01  1.86472707e-02  4.81458440e-02  1.30741414e-01\n",
      "  4.40845434e-02 -5.69689635e-01 -1.97250612e-01  8.55053770e-01\n",
      " -8.76178526e-02  2.52663149e-03  3.32457258e-02 -3.85933343e-01\n",
      " -9.65205352e-02  1.02152592e-01 -1.00617489e-01 -1.41979822e+00\n",
      "  1.72093924e-01  4.86579128e-01  5.79038297e-01 -5.45165084e-02\n",
      " -8.57660540e-05  4.01751237e-02 -1.89986910e-01  1.52697866e-01\n",
      " -1.71237372e-01 -1.48564350e-01 -2.67971514e-02 -5.15968966e-02\n",
      " -6.91784396e-02  5.70547410e-03 -1.24199267e-01 -1.04774084e+00\n",
      " -3.39687866e-01  3.57270275e-01 -8.47760245e-02  4.06988736e-02\n",
      " -1.40216531e-01 -1.36723258e+00 -6.68252264e-02 -2.05991873e-02\n",
      "  1.89931236e-01 -1.22123246e-01  2.19446102e-01  1.01457048e-01\n",
      " -1.37703976e+00 -3.75230808e-02  4.69844698e-02 -1.62207560e-01\n",
      "  3.14189215e-02 -9.41917551e-01  1.81714607e-02 -4.74802987e-01\n",
      " -8.22240144e-02 -1.27414371e-01 -7.72453903e-01 -7.68389161e-01\n",
      " -6.49279713e-01  6.16241561e-02 -7.83836888e-01 -2.44665597e-01\n",
      "  1.84784193e-02 -1.66136180e-02 -1.86635737e-01  4.85558299e-02\n",
      " -5.60001024e-02  8.15121272e-03  2.21923974e-02 -6.75206588e-03\n",
      "  2.79552829e-02  3.99222656e-01  4.82721252e-01]\n"
     ]
    }
   ],
   "source": [
    "print(\"Real Prices: \", real_prices)\n",
    "print(\"Predicted Prices: \", predicted_prices)\n",
    "print(\"Difference: \", real_prices - predicted_prices)"
   ]
  },
  {
   "cell_type": "code",
   "execution_count": 32,
   "metadata": {},
   "outputs": [
    {
     "data": {
      "text/plain": [
       "0.380855334685679"
      ]
     },
     "execution_count": 32,
     "metadata": {},
     "output_type": "execute_result"
    }
   ],
   "source": [
    "# calculate RMSE\n",
    "from sklearn.metrics import mean_squared_error\n",
    "\n",
    "rmse = np.sqrt(mean_squared_error(real_prices, predicted_prices))\n",
    "rmse"
   ]
  },
  {
   "cell_type": "code",
   "execution_count": 33,
   "metadata": {},
   "outputs": [
    {
     "data": {
      "text/plain": [
       "0.24414235695122552"
      ]
     },
     "execution_count": 33,
     "metadata": {},
     "output_type": "execute_result"
    }
   ],
   "source": [
    "# calculate MAE\n",
    "from sklearn.metrics import mean_absolute_error\n",
    "\n",
    "mae = mean_absolute_error(real_prices, predicted_prices)\n",
    "mae"
   ]
  },
  {
   "cell_type": "markdown",
   "metadata": {},
   "source": [
    "Directional Accuracy adalah metrik yang digunakan untuk mengukur seberapa baik model memprediksi arah perubahan harga (naik atau turun) dibandingkan dengan nilai aktual. Ini adalah metrik yang sangat berguna dalam prediksi saham karena dalam banyak kasus, arah perubahan harga lebih penting daripada nilai absolut dari harga itu sendiri—terutama jika tujuannya adalah untuk membuat keputusan beli atau jual."
   ]
  },
  {
   "cell_type": "code",
   "execution_count": 34,
   "metadata": {},
   "outputs": [
    {
     "data": {
      "text/plain": [
       "0.9601769911504425"
      ]
     },
     "execution_count": 34,
     "metadata": {},
     "output_type": "execute_result"
    }
   ],
   "source": [
    "# direction accuracy\n",
    "direction_accuracy = np.mean(np.sign(real_prices[1:] - real_prices[:-1]) == np.sign(predicted_prices[1:] - predicted_prices[:-1]))\n",
    "direction_accuracy"
   ]
  },
  {
   "cell_type": "markdown",
   "metadata": {},
   "source": [
    "# Save Model"
   ]
  },
  {
   "cell_type": "code",
   "execution_count": 35,
   "metadata": {},
   "outputs": [
    {
     "name": "stderr",
     "output_type": "stream",
     "text": [
      "c:\\Users\\thari\\anaconda3\\envs\\ML\\lib\\site-packages\\keras\\src\\engine\\training.py:3000: UserWarning: You are saving your model as an HDF5 file via `model.save()`. This file format is considered legacy. We recommend using instead the native Keras format, e.g. `model.save('my_model.keras')`.\n",
      "  saving_api.save_model(\n"
     ]
    }
   ],
   "source": [
    "# Save the entire model\n",
    "model.save('Model/lstm_model_bbni.h5')\n"
   ]
  }
 ],
 "metadata": {
  "kernelspec": {
   "display_name": "ML",
   "language": "python",
   "name": "ml"
  },
  "language_info": {
   "codemirror_mode": {
    "name": "ipython",
    "version": 3
   },
   "file_extension": ".py",
   "mimetype": "text/x-python",
   "name": "python",
   "nbconvert_exporter": "python",
   "pygments_lexer": "ipython3",
   "version": "3.8.19"
  }
 },
 "nbformat": 4,
 "nbformat_minor": 2
}
