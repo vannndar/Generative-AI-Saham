{
 "cells": [
  {
   "cell_type": "markdown",
   "metadata": {},
   "source": [
    "# Import Data"
   ]
  },
  {
   "cell_type": "code",
   "execution_count": 173,
   "metadata": {},
   "outputs": [],
   "source": [
    "import pandas as pd\n",
    "import numpy as np "
   ]
  },
  {
   "cell_type": "code",
   "execution_count": 174,
   "metadata": {},
   "outputs": [],
   "source": [
    "data = pd.read_csv('Data/bbca_data_5y.csv')"
   ]
  },
  {
   "cell_type": "code",
   "execution_count": 175,
   "metadata": {},
   "outputs": [],
   "source": [
    "data['date_str'] = pd.to_datetime(data['date_str'])"
   ]
  },
  {
   "cell_type": "code",
   "execution_count": 176,
   "metadata": {},
   "outputs": [],
   "source": [
    "# rename columns\n",
    "data = data.rename(columns={'date_str': 'date'})"
   ]
  },
  {
   "cell_type": "code",
   "execution_count": 177,
   "metadata": {},
   "outputs": [
    {
     "data": {
      "text/html": [
       "<div>\n",
       "<style scoped>\n",
       "    .dataframe tbody tr th:only-of-type {\n",
       "        vertical-align: middle;\n",
       "    }\n",
       "\n",
       "    .dataframe tbody tr th {\n",
       "        vertical-align: top;\n",
       "    }\n",
       "\n",
       "    .dataframe thead th {\n",
       "        text-align: right;\n",
       "    }\n",
       "</style>\n",
       "<table border=\"1\" class=\"dataframe\">\n",
       "  <thead>\n",
       "    <tr style=\"text-align: right;\">\n",
       "      <th></th>\n",
       "      <th>Open</th>\n",
       "      <th>High</th>\n",
       "      <th>Low</th>\n",
       "      <th>Close</th>\n",
       "      <th>Volume</th>\n",
       "      <th>Dividends</th>\n",
       "      <th>Stock Splits</th>\n",
       "      <th>date</th>\n",
       "    </tr>\n",
       "  </thead>\n",
       "  <tbody>\n",
       "    <tr>\n",
       "      <th>0</th>\n",
       "      <td>5633.568658</td>\n",
       "      <td>5660.523532</td>\n",
       "      <td>5615.598742</td>\n",
       "      <td>5651.538574</td>\n",
       "      <td>58420500</td>\n",
       "      <td>0.0</td>\n",
       "      <td>0.0</td>\n",
       "      <td>2019-10-31</td>\n",
       "    </tr>\n",
       "    <tr>\n",
       "      <th>1</th>\n",
       "      <td>5660.522959</td>\n",
       "      <td>5682.985352</td>\n",
       "      <td>5638.060566</td>\n",
       "      <td>5682.985352</td>\n",
       "      <td>42080500</td>\n",
       "      <td>0.0</td>\n",
       "      <td>0.0</td>\n",
       "      <td>2019-11-01</td>\n",
       "    </tr>\n",
       "    <tr>\n",
       "      <th>2</th>\n",
       "      <td>5705.447725</td>\n",
       "      <td>5732.402596</td>\n",
       "      <td>5624.583111</td>\n",
       "      <td>5638.060547</td>\n",
       "      <td>43794500</td>\n",
       "      <td>0.0</td>\n",
       "      <td>0.0</td>\n",
       "      <td>2019-11-04</td>\n",
       "    </tr>\n",
       "    <tr>\n",
       "      <th>3</th>\n",
       "      <td>5705.447660</td>\n",
       "      <td>5714.432617</td>\n",
       "      <td>5633.568005</td>\n",
       "      <td>5714.432617</td>\n",
       "      <td>66161500</td>\n",
       "      <td>0.0</td>\n",
       "      <td>0.0</td>\n",
       "      <td>2019-11-05</td>\n",
       "    </tr>\n",
       "    <tr>\n",
       "      <th>4</th>\n",
       "      <td>5732.401911</td>\n",
       "      <td>5732.401911</td>\n",
       "      <td>5656.029785</td>\n",
       "      <td>5656.029785</td>\n",
       "      <td>63393000</td>\n",
       "      <td>0.0</td>\n",
       "      <td>0.0</td>\n",
       "      <td>2019-11-06</td>\n",
       "    </tr>\n",
       "  </tbody>\n",
       "</table>\n",
       "</div>"
      ],
      "text/plain": [
       "          Open         High          Low        Close    Volume  Dividends  \\\n",
       "0  5633.568658  5660.523532  5615.598742  5651.538574  58420500        0.0   \n",
       "1  5660.522959  5682.985352  5638.060566  5682.985352  42080500        0.0   \n",
       "2  5705.447725  5732.402596  5624.583111  5638.060547  43794500        0.0   \n",
       "3  5705.447660  5714.432617  5633.568005  5714.432617  66161500        0.0   \n",
       "4  5732.401911  5732.401911  5656.029785  5656.029785  63393000        0.0   \n",
       "\n",
       "   Stock Splits       date  \n",
       "0           0.0 2019-10-31  \n",
       "1           0.0 2019-11-01  \n",
       "2           0.0 2019-11-04  \n",
       "3           0.0 2019-11-05  \n",
       "4           0.0 2019-11-06  "
      ]
     },
     "execution_count": 177,
     "metadata": {},
     "output_type": "execute_result"
    }
   ],
   "source": [
    "data.head()"
   ]
  },
  {
   "cell_type": "code",
   "execution_count": 178,
   "metadata": {},
   "outputs": [
    {
     "name": "stdout",
     "output_type": "stream",
     "text": [
      "<class 'pandas.core.frame.DataFrame'>\n",
      "RangeIndex: 1213 entries, 0 to 1212\n",
      "Data columns (total 8 columns):\n",
      " #   Column        Non-Null Count  Dtype         \n",
      "---  ------        --------------  -----         \n",
      " 0   Open          1213 non-null   float64       \n",
      " 1   High          1213 non-null   float64       \n",
      " 2   Low           1213 non-null   float64       \n",
      " 3   Close         1213 non-null   float64       \n",
      " 4   Volume        1213 non-null   int64         \n",
      " 5   Dividends     1213 non-null   float64       \n",
      " 6   Stock Splits  1213 non-null   float64       \n",
      " 7   date          1213 non-null   datetime64[ns]\n",
      "dtypes: datetime64[ns](1), float64(6), int64(1)\n",
      "memory usage: 75.9 KB\n"
     ]
    }
   ],
   "source": [
    "data.info()"
   ]
  },
  {
   "cell_type": "code",
   "execution_count": 179,
   "metadata": {},
   "outputs": [
    {
     "data": {
      "text/plain": [
       "Open            0\n",
       "High            0\n",
       "Low             0\n",
       "Close           0\n",
       "Volume          0\n",
       "Dividends       0\n",
       "Stock Splits    0\n",
       "date            0\n",
       "dtype: int64"
      ]
     },
     "execution_count": 179,
     "metadata": {},
     "output_type": "execute_result"
    }
   ],
   "source": [
    "data.isnull().sum()"
   ]
  },
  {
   "cell_type": "markdown",
   "metadata": {},
   "source": [
    "# Feature Engineering"
   ]
  },
  {
   "cell_type": "code",
   "execution_count": 180,
   "metadata": {},
   "outputs": [
    {
     "data": {
      "text/plain": [
       "Dividends\n",
       "0.0      1203\n",
       "20.0        1\n",
       "91.0        1\n",
       "19.6        1\n",
       "86.4        1\n",
       "25.0        1\n",
       "120.0       1\n",
       "35.0        1\n",
       "170.0       1\n",
       "42.5        1\n",
       "227.5       1\n",
       "Name: count, dtype: int64"
      ]
     },
     "execution_count": 180,
     "metadata": {},
     "output_type": "execute_result"
    }
   ],
   "source": [
    "data['Dividends'].value_counts()"
   ]
  },
  {
   "cell_type": "code",
   "execution_count": 181,
   "metadata": {},
   "outputs": [
    {
     "data": {
      "text/plain": [
       "Stock Splits\n",
       "0.0    1212\n",
       "5.0       1\n",
       "Name: count, dtype: int64"
      ]
     },
     "execution_count": 181,
     "metadata": {},
     "output_type": "execute_result"
    }
   ],
   "source": [
    "data['Stock Splits'].value_counts()"
   ]
  },
  {
   "cell_type": "code",
   "execution_count": 182,
   "metadata": {},
   "outputs": [],
   "source": [
    "data.drop(['Dividends', 'Stock Splits'], axis=1, inplace=True)"
   ]
  },
  {
   "cell_type": "code",
   "execution_count": 183,
   "metadata": {},
   "outputs": [],
   "source": [
    "# 1. Menghitung Return Harian\n",
    "data['return'] = data['Close'].pct_change()\n",
    "data['log_return'] = np.log(data['Close'] / data['Close'].shift(1))"
   ]
  },
  {
   "cell_type": "code",
   "execution_count": 184,
   "metadata": {},
   "outputs": [],
   "source": [
    "# 2. Moving Averages\n",
    "data['ma_5'] = data['Close'].rolling(window=5).mean()\n",
    "data['ma_10'] = data['Close'].rolling(window=10).mean()\n",
    "data['ma_20'] = data['Close'].rolling(window=20).mean()"
   ]
  },
  {
   "cell_type": "code",
   "execution_count": 185,
   "metadata": {},
   "outputs": [],
   "source": [
    "# 3. Exponential Moving Average (EMA)\n",
    "data['ema_10'] = data['Close'].ewm(span=10, adjust=False).mean()\n",
    "data['ema_20'] = data['Close'].ewm(span=20, adjust=False).mean()"
   ]
  },
  {
   "cell_type": "code",
   "execution_count": 186,
   "metadata": {},
   "outputs": [],
   "source": [
    "# 4. Bollinger Bands\n",
    "data['bollinger_mid'] = data['Close'].rolling(window=20).mean()\n",
    "data['bollinger_std'] = data['Close'].rolling(window=20).std()\n",
    "data['bollinger_upper'] = data['bollinger_mid'] + (2 * data['bollinger_std'])\n",
    "data['bollinger_lower'] = data['bollinger_mid'] - (2 * data['bollinger_std'])"
   ]
  },
  {
   "cell_type": "code",
   "execution_count": 187,
   "metadata": {},
   "outputs": [],
   "source": [
    "# 10. Penambahan Fitur Waktu\n",
    "data['day_of_week'] = data['date'].dt.dayofweek  # 0 = Monday, 6 = Sunday\n",
    "data['month'] = data['date'].dt.month"
   ]
  },
  {
   "cell_type": "code",
   "execution_count": 188,
   "metadata": {},
   "outputs": [],
   "source": [
    "# Hapus data yang mengandung nilai NaN akibat perhitungan rolling\n",
    "data = data.dropna().reset_index(drop=True)"
   ]
  },
  {
   "cell_type": "code",
   "execution_count": 189,
   "metadata": {},
   "outputs": [
    {
     "data": {
      "text/html": [
       "<div>\n",
       "<style scoped>\n",
       "    .dataframe tbody tr th:only-of-type {\n",
       "        vertical-align: middle;\n",
       "    }\n",
       "\n",
       "    .dataframe tbody tr th {\n",
       "        vertical-align: top;\n",
       "    }\n",
       "\n",
       "    .dataframe thead th {\n",
       "        text-align: right;\n",
       "    }\n",
       "</style>\n",
       "<table border=\"1\" class=\"dataframe\">\n",
       "  <thead>\n",
       "    <tr style=\"text-align: right;\">\n",
       "      <th></th>\n",
       "      <th>Open</th>\n",
       "      <th>High</th>\n",
       "      <th>Low</th>\n",
       "      <th>Close</th>\n",
       "      <th>Volume</th>\n",
       "      <th>date</th>\n",
       "      <th>return</th>\n",
       "      <th>log_return</th>\n",
       "      <th>ma_5</th>\n",
       "      <th>ma_10</th>\n",
       "      <th>ma_20</th>\n",
       "      <th>ema_10</th>\n",
       "      <th>ema_20</th>\n",
       "      <th>bollinger_mid</th>\n",
       "      <th>bollinger_std</th>\n",
       "      <th>bollinger_upper</th>\n",
       "      <th>bollinger_lower</th>\n",
       "      <th>day_of_week</th>\n",
       "      <th>month</th>\n",
       "    </tr>\n",
       "  </thead>\n",
       "  <tbody>\n",
       "    <tr>\n",
       "      <th>0</th>\n",
       "      <td>5633.567592</td>\n",
       "      <td>5660.522461</td>\n",
       "      <td>5606.612723</td>\n",
       "      <td>5660.522461</td>\n",
       "      <td>58833500</td>\n",
       "      <td>2019-11-27</td>\n",
       "      <td>0.002387</td>\n",
       "      <td>0.002384</td>\n",
       "      <td>5654.232910</td>\n",
       "      <td>5656.479346</td>\n",
       "      <td>5656.254785</td>\n",
       "      <td>5656.135917</td>\n",
       "      <td>5655.397281</td>\n",
       "      <td>5656.254785</td>\n",
       "      <td>22.882915</td>\n",
       "      <td>5702.020616</td>\n",
       "      <td>5610.488955</td>\n",
       "      <td>2</td>\n",
       "      <td>11</td>\n",
       "    </tr>\n",
       "    <tr>\n",
       "      <th>1</th>\n",
       "      <td>5656.029959</td>\n",
       "      <td>5656.029959</td>\n",
       "      <td>5611.105178</td>\n",
       "      <td>5615.597656</td>\n",
       "      <td>44248000</td>\n",
       "      <td>2019-11-28</td>\n",
       "      <td>-0.007937</td>\n",
       "      <td>-0.007968</td>\n",
       "      <td>5645.247949</td>\n",
       "      <td>5654.682373</td>\n",
       "      <td>5654.457739</td>\n",
       "      <td>5648.765324</td>\n",
       "      <td>5651.606841</td>\n",
       "      <td>5654.457739</td>\n",
       "      <td>24.618244</td>\n",
       "      <td>5703.694226</td>\n",
       "      <td>5605.221252</td>\n",
       "      <td>3</td>\n",
       "      <td>11</td>\n",
       "    </tr>\n",
       "    <tr>\n",
       "      <th>2</th>\n",
       "      <td>5597.627951</td>\n",
       "      <td>5656.030169</td>\n",
       "      <td>5593.135473</td>\n",
       "      <td>5642.552734</td>\n",
       "      <td>52954500</td>\n",
       "      <td>2019-11-29</td>\n",
       "      <td>0.004800</td>\n",
       "      <td>0.004789</td>\n",
       "      <td>5640.755566</td>\n",
       "      <td>5655.131592</td>\n",
       "      <td>5652.436108</td>\n",
       "      <td>5647.635762</td>\n",
       "      <td>5650.744545</td>\n",
       "      <td>5652.436108</td>\n",
       "      <td>23.798789</td>\n",
       "      <td>5700.033687</td>\n",
       "      <td>5604.838530</td>\n",
       "      <td>4</td>\n",
       "      <td>11</td>\n",
       "    </tr>\n",
       "    <tr>\n",
       "      <th>3</th>\n",
       "      <td>5642.552605</td>\n",
       "      <td>5772.834473</td>\n",
       "      <td>5633.567649</td>\n",
       "      <td>5772.834473</td>\n",
       "      <td>49909000</td>\n",
       "      <td>2019-12-02</td>\n",
       "      <td>0.023089</td>\n",
       "      <td>0.022827</td>\n",
       "      <td>5667.710352</td>\n",
       "      <td>5668.159766</td>\n",
       "      <td>5659.174805</td>\n",
       "      <td>5670.399164</td>\n",
       "      <td>5662.372157</td>\n",
       "      <td>5659.174805</td>\n",
       "      <td>35.646048</td>\n",
       "      <td>5730.466900</td>\n",
       "      <td>5587.882709</td>\n",
       "      <td>0</td>\n",
       "      <td>12</td>\n",
       "    </tr>\n",
       "    <tr>\n",
       "      <th>4</th>\n",
       "      <td>5768.341972</td>\n",
       "      <td>5768.341972</td>\n",
       "      <td>5700.954799</td>\n",
       "      <td>5727.909668</td>\n",
       "      <td>42823000</td>\n",
       "      <td>2019-12-03</td>\n",
       "      <td>-0.007782</td>\n",
       "      <td>-0.007813</td>\n",
       "      <td>5683.883398</td>\n",
       "      <td>5673.550635</td>\n",
       "      <td>5659.848657</td>\n",
       "      <td>5680.855619</td>\n",
       "      <td>5668.613825</td>\n",
       "      <td>5659.848657</td>\n",
       "      <td>36.852585</td>\n",
       "      <td>5733.553828</td>\n",
       "      <td>5586.143486</td>\n",
       "      <td>1</td>\n",
       "      <td>12</td>\n",
       "    </tr>\n",
       "  </tbody>\n",
       "</table>\n",
       "</div>"
      ],
      "text/plain": [
       "          Open         High          Low        Close    Volume       date  \\\n",
       "0  5633.567592  5660.522461  5606.612723  5660.522461  58833500 2019-11-27   \n",
       "1  5656.029959  5656.029959  5611.105178  5615.597656  44248000 2019-11-28   \n",
       "2  5597.627951  5656.030169  5593.135473  5642.552734  52954500 2019-11-29   \n",
       "3  5642.552605  5772.834473  5633.567649  5772.834473  49909000 2019-12-02   \n",
       "4  5768.341972  5768.341972  5700.954799  5727.909668  42823000 2019-12-03   \n",
       "\n",
       "     return  log_return         ma_5        ma_10        ma_20       ema_10  \\\n",
       "0  0.002387    0.002384  5654.232910  5656.479346  5656.254785  5656.135917   \n",
       "1 -0.007937   -0.007968  5645.247949  5654.682373  5654.457739  5648.765324   \n",
       "2  0.004800    0.004789  5640.755566  5655.131592  5652.436108  5647.635762   \n",
       "3  0.023089    0.022827  5667.710352  5668.159766  5659.174805  5670.399164   \n",
       "4 -0.007782   -0.007813  5683.883398  5673.550635  5659.848657  5680.855619   \n",
       "\n",
       "        ema_20  bollinger_mid  bollinger_std  bollinger_upper  \\\n",
       "0  5655.397281    5656.254785      22.882915      5702.020616   \n",
       "1  5651.606841    5654.457739      24.618244      5703.694226   \n",
       "2  5650.744545    5652.436108      23.798789      5700.033687   \n",
       "3  5662.372157    5659.174805      35.646048      5730.466900   \n",
       "4  5668.613825    5659.848657      36.852585      5733.553828   \n",
       "\n",
       "   bollinger_lower  day_of_week  month  \n",
       "0      5610.488955            2     11  \n",
       "1      5605.221252            3     11  \n",
       "2      5604.838530            4     11  \n",
       "3      5587.882709            0     12  \n",
       "4      5586.143486            1     12  "
      ]
     },
     "execution_count": 189,
     "metadata": {},
     "output_type": "execute_result"
    }
   ],
   "source": [
    "data.head()"
   ]
  },
  {
   "cell_type": "code",
   "execution_count": 190,
   "metadata": {},
   "outputs": [
    {
     "data": {
      "text/plain": [
       "Open               0\n",
       "High               0\n",
       "Low                0\n",
       "Close              0\n",
       "Volume             0\n",
       "date               0\n",
       "return             0\n",
       "log_return         0\n",
       "ma_5               0\n",
       "ma_10              0\n",
       "ma_20              0\n",
       "ema_10             0\n",
       "ema_20             0\n",
       "bollinger_mid      0\n",
       "bollinger_std      0\n",
       "bollinger_upper    0\n",
       "bollinger_lower    0\n",
       "day_of_week        0\n",
       "month              0\n",
       "dtype: int64"
      ]
     },
     "execution_count": 190,
     "metadata": {},
     "output_type": "execute_result"
    }
   ],
   "source": [
    "data.isnull().sum()"
   ]
  },
  {
   "cell_type": "markdown",
   "metadata": {},
   "source": [
    "# Modelling"
   ]
  },
  {
   "cell_type": "markdown",
   "metadata": {},
   "source": [
    "## Preprocessing"
   ]
  },
  {
   "cell_type": "code",
   "execution_count": 191,
   "metadata": {},
   "outputs": [],
   "source": [
    "dataUsed = data[['Close', 'Volume', 'ma_5', 'ma_10', 'ema_10', 'bollinger_mid', 'bollinger_std', 'bollinger_upper', 'bollinger_lower', 'day_of_week', 'month']]"
   ]
  },
  {
   "cell_type": "code",
   "execution_count": 192,
   "metadata": {},
   "outputs": [
    {
     "data": {
      "text/plain": [
       "array([[0.23969743, 0.07777769, 0.21817154, ..., 0.27528493, 0.5       ,\n",
       "        0.90909091],\n",
       "       [0.23323999, 0.05849571, 0.21682084, ..., 0.27446791, 0.75      ,\n",
       "        0.90909091],\n",
       "       [0.23711448, 0.07000567, 0.2161455 , ..., 0.27440854, 1.        ,\n",
       "        0.90909091],\n",
       "       ...,\n",
       "       [0.93531759, 0.06567692, 0.96767917, ..., 0.99948838, 0.25      ,\n",
       "        0.81818182],\n",
       "       [0.91375679, 0.15134759, 0.9586594 , ..., 0.99624454, 0.5       ,\n",
       "        0.81818182],\n",
       "       [0.89938292, 0.12896526, 0.94512975, ..., 0.99061983, 0.75      ,\n",
       "        0.81818182]])"
      ]
     },
     "execution_count": 192,
     "metadata": {},
     "output_type": "execute_result"
    }
   ],
   "source": [
    "from sklearn.preprocessing import MinMaxScaler\n",
    "\n",
    "# preprocessing\n",
    "scaler = MinMaxScaler(feature_range=(0, 1))\n",
    "data_scaled = scaler.fit_transform(dataUsed)\n",
    "\n",
    "data_scaled"
   ]
  },
  {
   "cell_type": "markdown",
   "metadata": {},
   "source": [
    "## Train Test Sequence"
   ]
  },
  {
   "cell_type": "code",
   "execution_count": 193,
   "metadata": {},
   "outputs": [],
   "source": [
    "import numpy as np\n",
    "\n",
    "# sequence generator 60 days\n",
    "sequence_length = 60\n",
    "x = []\n",
    "y = []\n",
    "\n",
    "for i in range(sequence_length, len(data_scaled)):\n",
    "    x.append(data_scaled[i-sequence_length:i])\n",
    "    y.append(data_scaled[i,3])\n",
    "\n",
    "x, y = np.array(x), np.array(y)"
   ]
  },
  {
   "cell_type": "code",
   "execution_count": 194,
   "metadata": {},
   "outputs": [
    {
     "name": "stdout",
     "output_type": "stream",
     "text": [
      "(1134, 60, 11) (1134,)\n"
     ]
    }
   ],
   "source": [
    "print(x.shape, y.shape)"
   ]
  },
  {
   "cell_type": "markdown",
   "metadata": {},
   "source": [
    "## LSTM"
   ]
  },
  {
   "cell_type": "code",
   "execution_count": 195,
   "metadata": {},
   "outputs": [],
   "source": [
    "from sklearn.model_selection import train_test_split\n",
    "\n",
    "# train and test split\n",
    "x_train, x_test, y_train, y_test = train_test_split(x, y, test_size=0.2, random_state=42)"
   ]
  },
  {
   "cell_type": "code",
   "execution_count": 196,
   "metadata": {},
   "outputs": [],
   "source": [
    "from tensorflow.keras.models import Sequential\n",
    "from tensorflow.keras.layers import LSTM, Dense, Dropout"
   ]
  },
  {
   "cell_type": "code",
   "execution_count": 197,
   "metadata": {},
   "outputs": [],
   "source": [
    "# LSTM model\n",
    "model = Sequential()\n",
    "model.add(LSTM(units=50, return_sequences=True, input_shape=(x_train.shape[1], x_train.shape[2])))\n",
    "model.add(Dropout(0.2))\n",
    "model.add(LSTM(units=50, return_sequences=True))\n",
    "model.add(Dropout(0.2))\n",
    "model.add(LSTM(units=50))\n",
    "model.add(Dropout(0.2))\n",
    "model.add(Dense(units=1))\n",
    "\n",
    "model.compile(optimizer='adam', loss='mean_squared_error')"
   ]
  },
  {
   "cell_type": "code",
   "execution_count": 198,
   "metadata": {},
   "outputs": [
    {
     "name": "stdout",
     "output_type": "stream",
     "text": [
      "Epoch 1/100\n",
      "29/29 [==============================] - 6s 58ms/step - loss: 0.0632 - val_loss: 0.0029\n",
      "Epoch 2/100\n",
      "29/29 [==============================] - 1s 32ms/step - loss: 0.0067 - val_loss: 0.0012\n",
      "Epoch 3/100\n",
      "29/29 [==============================] - 1s 32ms/step - loss: 0.0044 - val_loss: 0.0013\n",
      "Epoch 4/100\n",
      "29/29 [==============================] - 1s 32ms/step - loss: 0.0044 - val_loss: 0.0012\n",
      "Epoch 5/100\n",
      "29/29 [==============================] - 1s 33ms/step - loss: 0.0045 - val_loss: 0.0014\n",
      "Epoch 6/100\n",
      "29/29 [==============================] - 1s 33ms/step - loss: 0.0039 - val_loss: 8.8198e-04\n",
      "Epoch 7/100\n",
      "29/29 [==============================] - 1s 32ms/step - loss: 0.0035 - val_loss: 0.0016\n",
      "Epoch 8/100\n",
      "29/29 [==============================] - 1s 32ms/step - loss: 0.0038 - val_loss: 7.5811e-04\n",
      "Epoch 9/100\n",
      "29/29 [==============================] - 1s 31ms/step - loss: 0.0034 - val_loss: 0.0010\n",
      "Epoch 10/100\n",
      "29/29 [==============================] - 1s 32ms/step - loss: 0.0034 - val_loss: 7.1496e-04\n",
      "Epoch 11/100\n",
      "29/29 [==============================] - 1s 32ms/step - loss: 0.0034 - val_loss: 7.2718e-04\n",
      "Epoch 12/100\n",
      "29/29 [==============================] - 1s 32ms/step - loss: 0.0037 - val_loss: 0.0030\n",
      "Epoch 13/100\n",
      "29/29 [==============================] - 1s 32ms/step - loss: 0.0034 - val_loss: 7.4287e-04\n",
      "Epoch 14/100\n",
      "29/29 [==============================] - 1s 32ms/step - loss: 0.0035 - val_loss: 7.1907e-04\n",
      "Epoch 15/100\n",
      "29/29 [==============================] - 1s 32ms/step - loss: 0.0032 - val_loss: 9.3035e-04\n",
      "Epoch 16/100\n",
      "29/29 [==============================] - 1s 32ms/step - loss: 0.0029 - val_loss: 9.2088e-04\n",
      "Epoch 17/100\n",
      "29/29 [==============================] - 1s 32ms/step - loss: 0.0028 - val_loss: 7.1943e-04\n",
      "Epoch 18/100\n",
      "29/29 [==============================] - 1s 32ms/step - loss: 0.0031 - val_loss: 6.6089e-04\n",
      "Epoch 19/100\n",
      "29/29 [==============================] - 1s 33ms/step - loss: 0.0028 - val_loss: 5.9400e-04\n",
      "Epoch 20/100\n",
      "29/29 [==============================] - 1s 32ms/step - loss: 0.0029 - val_loss: 5.9278e-04\n",
      "Epoch 21/100\n",
      "29/29 [==============================] - 1s 31ms/step - loss: 0.0028 - val_loss: 7.2293e-04\n",
      "Epoch 22/100\n",
      "29/29 [==============================] - 1s 32ms/step - loss: 0.0038 - val_loss: 0.0013\n",
      "Epoch 23/100\n",
      "29/29 [==============================] - 1s 32ms/step - loss: 0.0032 - val_loss: 4.9116e-04\n",
      "Epoch 24/100\n",
      "29/29 [==============================] - 1s 32ms/step - loss: 0.0027 - val_loss: 5.4145e-04\n",
      "Epoch 25/100\n",
      "29/29 [==============================] - 1s 32ms/step - loss: 0.0028 - val_loss: 5.2732e-04\n",
      "Epoch 26/100\n",
      "29/29 [==============================] - 1s 31ms/step - loss: 0.0023 - val_loss: 6.4367e-04\n",
      "Epoch 27/100\n",
      "29/29 [==============================] - 1s 31ms/step - loss: 0.0022 - val_loss: 5.1421e-04\n",
      "Epoch 28/100\n",
      "29/29 [==============================] - 1s 31ms/step - loss: 0.0024 - val_loss: 0.0011\n",
      "Epoch 29/100\n",
      "29/29 [==============================] - 1s 32ms/step - loss: 0.0022 - val_loss: 0.0017\n",
      "Epoch 30/100\n",
      "29/29 [==============================] - 1s 31ms/step - loss: 0.0024 - val_loss: 4.2565e-04\n",
      "Epoch 31/100\n",
      "29/29 [==============================] - 1s 32ms/step - loss: 0.0022 - val_loss: 6.5925e-04\n",
      "Epoch 32/100\n",
      "29/29 [==============================] - 1s 31ms/step - loss: 0.0020 - val_loss: 3.9069e-04\n",
      "Epoch 33/100\n",
      "29/29 [==============================] - 1s 31ms/step - loss: 0.0023 - val_loss: 4.0285e-04\n",
      "Epoch 34/100\n",
      "29/29 [==============================] - 1s 32ms/step - loss: 0.0021 - val_loss: 4.1633e-04\n",
      "Epoch 35/100\n",
      "29/29 [==============================] - 1s 31ms/step - loss: 0.0022 - val_loss: 4.5101e-04\n",
      "Epoch 36/100\n",
      "29/29 [==============================] - 1s 31ms/step - loss: 0.0021 - val_loss: 4.7978e-04\n",
      "Epoch 37/100\n",
      "29/29 [==============================] - 1s 31ms/step - loss: 0.0021 - val_loss: 6.7617e-04\n",
      "Epoch 38/100\n",
      "29/29 [==============================] - 1s 31ms/step - loss: 0.0017 - val_loss: 3.7947e-04\n",
      "Epoch 39/100\n",
      "29/29 [==============================] - 1s 31ms/step - loss: 0.0023 - val_loss: 0.0013\n",
      "Epoch 40/100\n",
      "29/29 [==============================] - 1s 31ms/step - loss: 0.0022 - val_loss: 5.8592e-04\n",
      "Epoch 41/100\n",
      "29/29 [==============================] - 1s 31ms/step - loss: 0.0021 - val_loss: 3.0160e-04\n",
      "Epoch 42/100\n",
      "29/29 [==============================] - 1s 31ms/step - loss: 0.0016 - val_loss: 2.8992e-04\n",
      "Epoch 43/100\n",
      "29/29 [==============================] - 1s 32ms/step - loss: 0.0019 - val_loss: 9.3146e-04\n",
      "Epoch 44/100\n",
      "29/29 [==============================] - 1s 31ms/step - loss: 0.0021 - val_loss: 4.0913e-04\n",
      "Epoch 45/100\n",
      "29/29 [==============================] - 1s 32ms/step - loss: 0.0018 - val_loss: 7.1539e-04\n",
      "Epoch 46/100\n",
      "29/29 [==============================] - 1s 31ms/step - loss: 0.0019 - val_loss: 4.2597e-04\n",
      "Epoch 47/100\n",
      "29/29 [==============================] - 1s 31ms/step - loss: 0.0016 - val_loss: 5.3235e-04\n",
      "Epoch 48/100\n",
      "29/29 [==============================] - 1s 31ms/step - loss: 0.0018 - val_loss: 2.4557e-04\n",
      "Epoch 49/100\n",
      "29/29 [==============================] - 1s 31ms/step - loss: 0.0021 - val_loss: 0.0036\n",
      "Epoch 50/100\n",
      "29/29 [==============================] - 1s 31ms/step - loss: 0.0024 - val_loss: 4.7568e-04\n",
      "Epoch 51/100\n",
      "29/29 [==============================] - 1s 31ms/step - loss: 0.0017 - val_loss: 2.3576e-04\n",
      "Epoch 52/100\n",
      "29/29 [==============================] - 1s 31ms/step - loss: 0.0016 - val_loss: 2.5635e-04\n",
      "Epoch 53/100\n",
      "29/29 [==============================] - 1s 31ms/step - loss: 0.0016 - val_loss: 2.1749e-04\n",
      "Epoch 54/100\n",
      "29/29 [==============================] - 1s 31ms/step - loss: 0.0016 - val_loss: 8.4010e-04\n",
      "Epoch 55/100\n",
      "29/29 [==============================] - 1s 31ms/step - loss: 0.0014 - val_loss: 2.0616e-04\n",
      "Epoch 56/100\n",
      "29/29 [==============================] - 1s 31ms/step - loss: 0.0015 - val_loss: 1.6377e-04\n",
      "Epoch 57/100\n",
      "29/29 [==============================] - 1s 31ms/step - loss: 0.0016 - val_loss: 2.5296e-04\n",
      "Epoch 58/100\n",
      "29/29 [==============================] - 1s 31ms/step - loss: 0.0018 - val_loss: 4.1480e-04\n",
      "Epoch 59/100\n",
      "29/29 [==============================] - 1s 31ms/step - loss: 0.0017 - val_loss: 3.1165e-04\n",
      "Epoch 60/100\n",
      "29/29 [==============================] - 1s 32ms/step - loss: 0.0017 - val_loss: 4.3099e-04\n",
      "Epoch 61/100\n",
      "29/29 [==============================] - 1s 32ms/step - loss: 0.0014 - val_loss: 2.4019e-04\n",
      "Epoch 62/100\n",
      "29/29 [==============================] - 1s 31ms/step - loss: 0.0015 - val_loss: 5.8312e-04\n",
      "Epoch 63/100\n",
      "29/29 [==============================] - 1s 32ms/step - loss: 0.0014 - val_loss: 1.5090e-04\n",
      "Epoch 64/100\n",
      "29/29 [==============================] - 1s 32ms/step - loss: 0.0015 - val_loss: 3.6240e-04\n",
      "Epoch 65/100\n",
      "29/29 [==============================] - 1s 32ms/step - loss: 0.0016 - val_loss: 1.5293e-04\n",
      "Epoch 66/100\n",
      "29/29 [==============================] - 1s 31ms/step - loss: 0.0018 - val_loss: 1.7131e-04\n",
      "Epoch 67/100\n",
      "29/29 [==============================] - 1s 30ms/step - loss: 0.0014 - val_loss: 1.5508e-04\n",
      "Epoch 68/100\n",
      "29/29 [==============================] - 1s 31ms/step - loss: 0.0015 - val_loss: 2.6321e-04\n",
      "Epoch 69/100\n",
      "29/29 [==============================] - 1s 31ms/step - loss: 0.0014 - val_loss: 1.4634e-04\n",
      "Epoch 70/100\n",
      "29/29 [==============================] - 1s 31ms/step - loss: 0.0012 - val_loss: 1.4790e-04\n",
      "Epoch 71/100\n",
      "29/29 [==============================] - 1s 31ms/step - loss: 0.0014 - val_loss: 1.3381e-04\n",
      "Epoch 72/100\n",
      "29/29 [==============================] - 1s 31ms/step - loss: 0.0018 - val_loss: 7.4931e-04\n",
      "Epoch 73/100\n",
      "29/29 [==============================] - 1s 32ms/step - loss: 0.0015 - val_loss: 1.2650e-04\n",
      "Epoch 74/100\n",
      "29/29 [==============================] - 1s 31ms/step - loss: 0.0015 - val_loss: 2.7602e-04\n",
      "Epoch 75/100\n",
      "29/29 [==============================] - 1s 31ms/step - loss: 0.0012 - val_loss: 1.1133e-04\n",
      "Epoch 76/100\n",
      "29/29 [==============================] - 1s 31ms/step - loss: 0.0012 - val_loss: 2.6395e-04\n",
      "Epoch 77/100\n",
      "29/29 [==============================] - 1s 31ms/step - loss: 0.0012 - val_loss: 1.2498e-04\n",
      "Epoch 78/100\n",
      "29/29 [==============================] - 1s 31ms/step - loss: 0.0015 - val_loss: 4.3971e-04\n",
      "Epoch 79/100\n",
      "29/29 [==============================] - 1s 31ms/step - loss: 0.0013 - val_loss: 2.5804e-04\n",
      "Epoch 80/100\n",
      "29/29 [==============================] - 1s 31ms/step - loss: 0.0013 - val_loss: 1.2068e-04\n",
      "Epoch 81/100\n",
      "29/29 [==============================] - 1s 31ms/step - loss: 0.0013 - val_loss: 3.0701e-04\n",
      "Epoch 82/100\n",
      "29/29 [==============================] - 1s 32ms/step - loss: 0.0012 - val_loss: 1.3654e-04\n",
      "Epoch 83/100\n",
      "29/29 [==============================] - 1s 32ms/step - loss: 0.0013 - val_loss: 4.9354e-04\n",
      "Epoch 84/100\n",
      "29/29 [==============================] - 1s 31ms/step - loss: 0.0012 - val_loss: 1.8945e-04\n",
      "Epoch 85/100\n",
      "29/29 [==============================] - 1s 32ms/step - loss: 0.0012 - val_loss: 4.8791e-04\n",
      "Epoch 86/100\n",
      "29/29 [==============================] - 1s 31ms/step - loss: 0.0012 - val_loss: 2.5891e-04\n",
      "Epoch 87/100\n",
      "29/29 [==============================] - 1s 31ms/step - loss: 0.0011 - val_loss: 1.4230e-04\n",
      "Epoch 88/100\n",
      "29/29 [==============================] - 1s 31ms/step - loss: 0.0010 - val_loss: 7.8699e-04\n",
      "Epoch 89/100\n",
      "29/29 [==============================] - 1s 31ms/step - loss: 0.0014 - val_loss: 6.8717e-04\n",
      "Epoch 90/100\n",
      "29/29 [==============================] - 1s 32ms/step - loss: 0.0014 - val_loss: 2.8723e-04\n",
      "Epoch 91/100\n",
      "29/29 [==============================] - 1s 31ms/step - loss: 0.0011 - val_loss: 1.0569e-04\n",
      "Epoch 92/100\n",
      "29/29 [==============================] - 1s 32ms/step - loss: 0.0011 - val_loss: 1.3237e-04\n",
      "Epoch 93/100\n",
      "29/29 [==============================] - 1s 31ms/step - loss: 0.0014 - val_loss: 1.5244e-04\n",
      "Epoch 94/100\n",
      "29/29 [==============================] - 1s 31ms/step - loss: 0.0013 - val_loss: 1.1916e-04\n",
      "Epoch 95/100\n",
      "29/29 [==============================] - 1s 32ms/step - loss: 0.0012 - val_loss: 7.1200e-05\n",
      "Epoch 96/100\n",
      "29/29 [==============================] - 1s 31ms/step - loss: 0.0011 - val_loss: 1.3882e-04\n",
      "Epoch 97/100\n",
      "29/29 [==============================] - 1s 31ms/step - loss: 0.0012 - val_loss: 6.1836e-04\n",
      "Epoch 98/100\n",
      "29/29 [==============================] - 1s 32ms/step - loss: 0.0011 - val_loss: 8.3039e-05\n",
      "Epoch 99/100\n",
      "29/29 [==============================] - 1s 31ms/step - loss: 0.0011 - val_loss: 4.7697e-04\n",
      "Epoch 100/100\n",
      "29/29 [==============================] - 1s 32ms/step - loss: 9.6495e-04 - val_loss: 7.8482e-05\n"
     ]
    },
    {
     "data": {
      "text/plain": [
       "<keras.src.callbacks.History at 0x1be11eab760>"
      ]
     },
     "execution_count": 198,
     "metadata": {},
     "output_type": "execute_result"
    }
   ],
   "source": [
    "# train model with early stopping\n",
    "model.fit(x_train, y_train, epochs=100, batch_size=32, validation_data=(x_test, y_test), verbose=1)"
   ]
  },
  {
   "cell_type": "code",
   "execution_count": 199,
   "metadata": {},
   "outputs": [
    {
     "name": "stdout",
     "output_type": "stream",
     "text": [
      "8/8 [==============================] - 1s 9ms/step\n"
     ]
    }
   ],
   "source": [
    "# prediction\n",
    "predicted_prices =  model.predict(x_test)\n"
   ]
  },
  {
   "cell_type": "code",
   "execution_count": 200,
   "metadata": {},
   "outputs": [],
   "source": [
    "# Dapatkan jumlah kolom yang diharapkan oleh scaler\n",
    "expected_columns = scaler.min_.shape[0]  # Ini adalah 13 dalam kasus Anda\n",
    "\n",
    "# Tambahkan kolom nol untuk menyesuaikan jumlah kolom\n",
    "predicted_prices_padded = np.hstack([np.zeros((predicted_prices.shape[0], expected_columns - 1)), predicted_prices])\n",
    "\n",
    "# Inverse transform dan ambil hanya kolom harga 'Close'\n",
    "predicted_prices = scaler.inverse_transform(predicted_prices_padded)[:, -1]  # Ambil hanya kolom harga\n"
   ]
  },
  {
   "cell_type": "code",
   "execution_count": 201,
   "metadata": {},
   "outputs": [],
   "source": [
    "expected_columns = scaler.min_.shape[0]  # Ini adalah 13 dalam kasus Anda\n",
    "\n",
    "# Tambahkan kolom nol untuk menyesuaikan jumlah kolom\n",
    "real_prices_padded = np.hstack([np.zeros((y_test.shape[0], expected_columns - 1)), y_test.reshape(-1,1)])\n",
    "\n",
    "# Inverse transform dan ambil hanya kolom harga 'Close'\n",
    "real_prices = scaler.inverse_transform(real_prices_padded)[:, -1]  # Ambil hanya kolom harga\n"
   ]
  },
  {
   "cell_type": "code",
   "execution_count": 202,
   "metadata": {},
   "outputs": [
    {
     "data": {
      "text/plain": [
       "array([ 8.29222756,  8.23603051,  5.2871986 ,  5.86497058,  7.43214798,\n",
       "        3.01337832,  6.1008896 ,  1.20678997, 10.2936704 ,  9.6641267 ,\n",
       "        8.01324361,  2.32806422,  6.98743696,  8.25764499,  7.25414573,\n",
       "        8.39597634,  6.91509457,  8.65967026,  7.53386339,  5.32028139,\n",
       "        2.98485748,  3.53676148,  9.61200505,  2.35169549,  2.43073899,\n",
       "        1.21864891,  3.47215124,  3.535104  ,  3.13433247,  2.96611518,\n",
       "        3.06797526,  5.16643782,  8.65534715,  6.2233175 ,  8.34714241,\n",
       "        1.00560705, 10.08110024, 10.68470427,  5.3493871 ,  6.89033869,\n",
       "        3.15688504,  4.62829846,  8.41759047,  3.53245617,  8.67263853,\n",
       "       11.5200948 ,  2.46903837,  5.67450196,  9.54270763,  7.31348019,\n",
       "        3.38591923,  6.20176351,  3.48606012,  3.66191141,  8.74612731,\n",
       "        2.19116479, 10.62642515, 11.06240743,  4.00431009,  5.50141453,\n",
       "        8.67263853,  9.88486226,  1.3322815 ,  5.2329647 , 11.6933939 ,\n",
       "       10.4936309 ,  3.22761725,  5.54785258,  5.1581221 ,  6.01645611,\n",
       "        6.05445129,  3.04196486,  3.46299793,  5.15044575,  7.26606655,\n",
       "        2.96405716,  4.11131717,  7.82526538, 10.22257333,  3.40777993,\n",
       "        3.56328315,  1.84749222,  4.4611419 , 11.0535203 ,  7.54657781,\n",
       "        8.33113342,  7.88986694,  4.34507906,  3.17798313,  3.55167989,\n",
       "        2.99472307,  8.15821966,  3.0005247 ,  2.23272333,  5.67872352,\n",
       "        3.78043027,  3.75985769,  3.0005247 , 10.54585253,  3.77131358,\n",
       "        7.51267253,  2.91286441,  3.83761802,  3.09086441,  7.52538703,\n",
       "        3.96921468,  5.87328647,  7.2449577 ,  8.80664713,  3.8318163 ,\n",
       "       10.15591983,  5.28188811,  7.81910401, 10.03594353,  8.08084606,\n",
       "        7.47029132,  8.74180455,  7.85655226,  1.25486797,  3.0035997 ,\n",
       "        1.01366301,  4.27396976,  7.54272831,  8.35274755,  7.72200618,\n",
       "        3.59809294,  5.26207032, 10.5202923 ,  8.48675615,  5.63650712,\n",
       "        3.99177568,  6.23176063,  4.17098394,  8.91471814,  5.25404638,\n",
       "        2.16916297,  5.93149746,  5.18306943,  8.28854756,  5.27062245,\n",
       "        3.58648968,  6.15602593,  6.70880736,  5.37013482,  2.18057096,\n",
       "       10.58541242,  2.41281171,  4.17997444,  5.81803853,  4.12112547,\n",
       "        3.53096002,  2.18464541,  5.14149041,  3.57157127,  8.72883594,\n",
       "        2.29220958, 10.1736941 ,  5.90239192,  5.1763468 ,  8.53916611,\n",
       "        8.29222756,  5.21217488,  5.46341952,  3.55913918,  6.17265798,\n",
       "       12.        ,  6.19798761,  6.11355412,  9.00549812, 10.80468057,\n",
       "        8.57753614,  3.80612329,  6.17265754,  2.13493761,  4.09905683,\n",
       "       11.2801422 ,  9.21674858,  8.72593547,  5.16643782,  7.75848473,\n",
       "        1.63892631,  1.79702702,  8.91039538,  2.66786906,  1.36080208,\n",
       "        8.93633245,  3.68180271,  6.24334263,  5.34943483,  2.94665201,\n",
       "        8.1841562 ,  3.42392257,  7.80086551,  6.15577112, 11.2401501 ,\n",
       "        8.80664713,  8.51269339,  8.62508768,  3.59229148,  8.45649616,\n",
       "        6.04178643,  1.05929653,  8.0151336 ,  7.15208169,  1.1896772 ,\n",
       "        3.10931649, 11.5334255 ,  7.21962825,  2.99708067,  2.5554154 ,\n",
       "        5.58162603,  3.79286219,  3.19799776, 10.85800337,  5.63628442,\n",
       "        4.56739695,  3.80529498,  8.81097006,  5.19138506,  3.14390801,\n",
       "       11.75116027, 11.48898983,  1.70875574,  8.17983345,  1.87825082,\n",
       "        5.61539879,  5.20801685])"
      ]
     },
     "execution_count": 202,
     "metadata": {},
     "output_type": "execute_result"
    }
   ],
   "source": [
    "real_prices"
   ]
  },
  {
   "cell_type": "markdown",
   "metadata": {},
   "source": [
    "# Evaluation"
   ]
  },
  {
   "cell_type": "code",
   "execution_count": 203,
   "metadata": {},
   "outputs": [
    {
     "data": {
      "image/png": "[encoded data removed]",
      "text/plain": [
       "<Figure size 640x480 with 1 Axes>"
      ]
     },
     "metadata": {},
     "output_type": "display_data"
    }
   ],
   "source": [
    "# conpare real and predicted prices\n",
    "import matplotlib.pyplot as plt\n",
    "\n",
    "plt.plot(real_prices, color='red', label='Real Prices')\n",
    "plt.plot(predicted_prices, color='blue', label='Predicted Prices')\n",
    "plt.title('Stock Prices Prediction')\n",
    "plt.xlabel('Time')\n",
    "plt.ylabel('Stock Prices')\n",
    "plt.legend()\n",
    "plt.show()"
   ]
  },
  {
   "cell_type": "code",
   "execution_count": 204,
   "metadata": {},
   "outputs": [
    {
     "data": {
      "text/plain": [
       "0.09744926734085883"
      ]
     },
     "execution_count": 204,
     "metadata": {},
     "output_type": "execute_result"
    }
   ],
   "source": [
    "# calculate RMSE\n",
    "from sklearn.metrics import mean_squared_error\n",
    "\n",
    "rmse = np.sqrt(mean_squared_error(real_prices, predicted_prices))\n",
    "rmse"
   ]
  },
  {
   "cell_type": "code",
   "execution_count": 205,
   "metadata": {},
   "outputs": [
    {
     "data": {
      "text/plain": [
       "0.07961108067987323"
      ]
     },
     "execution_count": 205,
     "metadata": {},
     "output_type": "execute_result"
    }
   ],
   "source": [
    "# calculate MAE\n",
    "from sklearn.metrics import mean_absolute_error\n",
    "\n",
    "mae = mean_absolute_error(real_prices, predicted_prices)\n",
    "mae"
   ]
  },
  {
   "cell_type": "markdown",
   "metadata": {},
   "source": [
    "Directional Accuracy adalah metrik yang digunakan untuk mengukur seberapa baik model memprediksi arah perubahan harga (naik atau turun) dibandingkan dengan nilai aktual. Ini adalah metrik yang sangat berguna dalam prediksi saham karena dalam banyak kasus, arah perubahan harga lebih penting daripada nilai absolut dari harga itu sendiri—terutama jika tujuannya adalah untuk membuat keputusan beli atau jual."
   ]
  },
  {
   "cell_type": "code",
   "execution_count": 206,
   "metadata": {},
   "outputs": [
    {
     "data": {
      "text/plain": [
       "0.995575221238938"
      ]
     },
     "execution_count": 206,
     "metadata": {},
     "output_type": "execute_result"
    }
   ],
   "source": [
    "# direction accuracy\n",
    "direction_accuracy = np.mean(np.sign(real_prices[1:] - real_prices[:-1]) == np.sign(predicted_prices[1:] - predicted_prices[:-1]))\n",
    "direction_accuracy"
   ]
  }
 ],
 "metadata": {
  "kernelspec": {
   "display_name": "ML",
   "language": "python",
   "name": "ml"
  },
  "language_info": {
   "codemirror_mode": {
    "name": "ipython",
    "version": 3
   },
   "file_extension": ".py",
   "mimetype": "text/x-python",
   "name": "python",
   "nbconvert_exporter": "python",
   "pygments_lexer": "ipython3",
   "version": "3.8.19"
  }
 },
 "nbformat": 4,
 "nbformat_minor": 2
}
