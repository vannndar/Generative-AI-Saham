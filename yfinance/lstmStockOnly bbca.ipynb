{
 "cells": [
  {
   "cell_type": "markdown",
   "metadata": {},
   "source": [
    "# Import Data"
   ]
  },
  {
   "cell_type": "code",
   "execution_count": 101,
   "metadata": {},
   "outputs": [],
   "source": [
    "import pandas as pd\n",
    "import numpy as np "
   ]
  },
  {
   "cell_type": "code",
   "execution_count": 102,
   "metadata": {},
   "outputs": [],
   "source": [
    "data = pd.read_csv('Data/bbca_data_5y.csv')"
   ]
  },
  {
   "cell_type": "code",
   "execution_count": 103,
   "metadata": {},
   "outputs": [],
   "source": [
    "data['date_str'] = pd.to_datetime(data['date_str'])"
   ]
  },
  {
   "cell_type": "code",
   "execution_count": 104,
   "metadata": {},
   "outputs": [],
   "source": [
    "# rename columns\n",
    "data = data.rename(columns={'date_str': 'date'})"
   ]
  },
  {
   "cell_type": "code",
   "execution_count": 105,
   "metadata": {},
   "outputs": [
    {
     "data": {
      "text/html": [
       "<div>\n",
       "<style scoped>\n",
       "    .dataframe tbody tr th:only-of-type {\n",
       "        vertical-align: middle;\n",
       "    }\n",
       "\n",
       "    .dataframe tbody tr th {\n",
       "        vertical-align: top;\n",
       "    }\n",
       "\n",
       "    .dataframe thead th {\n",
       "        text-align: right;\n",
       "    }\n",
       "</style>\n",
       "<table border=\"1\" class=\"dataframe\">\n",
       "  <thead>\n",
       "    <tr style=\"text-align: right;\">\n",
       "      <th></th>\n",
       "      <th>Open</th>\n",
       "      <th>High</th>\n",
       "      <th>Low</th>\n",
       "      <th>Close</th>\n",
       "      <th>Volume</th>\n",
       "      <th>Dividends</th>\n",
       "      <th>Stock Splits</th>\n",
       "      <th>date</th>\n",
       "    </tr>\n",
       "  </thead>\n",
       "  <tbody>\n",
       "    <tr>\n",
       "      <th>0</th>\n",
       "      <td>5633.568658</td>\n",
       "      <td>5660.523532</td>\n",
       "      <td>5615.598742</td>\n",
       "      <td>5651.538574</td>\n",
       "      <td>58420500</td>\n",
       "      <td>0.0</td>\n",
       "      <td>0.0</td>\n",
       "      <td>2019-10-31</td>\n",
       "    </tr>\n",
       "    <tr>\n",
       "      <th>1</th>\n",
       "      <td>5660.522959</td>\n",
       "      <td>5682.985352</td>\n",
       "      <td>5638.060566</td>\n",
       "      <td>5682.985352</td>\n",
       "      <td>42080500</td>\n",
       "      <td>0.0</td>\n",
       "      <td>0.0</td>\n",
       "      <td>2019-11-01</td>\n",
       "    </tr>\n",
       "    <tr>\n",
       "      <th>2</th>\n",
       "      <td>5705.447725</td>\n",
       "      <td>5732.402596</td>\n",
       "      <td>5624.583111</td>\n",
       "      <td>5638.060547</td>\n",
       "      <td>43794500</td>\n",
       "      <td>0.0</td>\n",
       "      <td>0.0</td>\n",
       "      <td>2019-11-04</td>\n",
       "    </tr>\n",
       "    <tr>\n",
       "      <th>3</th>\n",
       "      <td>5705.447660</td>\n",
       "      <td>5714.432617</td>\n",
       "      <td>5633.568005</td>\n",
       "      <td>5714.432617</td>\n",
       "      <td>66161500</td>\n",
       "      <td>0.0</td>\n",
       "      <td>0.0</td>\n",
       "      <td>2019-11-05</td>\n",
       "    </tr>\n",
       "    <tr>\n",
       "      <th>4</th>\n",
       "      <td>5732.401911</td>\n",
       "      <td>5732.401911</td>\n",
       "      <td>5656.029785</td>\n",
       "      <td>5656.029785</td>\n",
       "      <td>63393000</td>\n",
       "      <td>0.0</td>\n",
       "      <td>0.0</td>\n",
       "      <td>2019-11-06</td>\n",
       "    </tr>\n",
       "  </tbody>\n",
       "</table>\n",
       "</div>"
      ],
      "text/plain": [
       "          Open         High          Low        Close    Volume  Dividends  \\\n",
       "0  5633.568658  5660.523532  5615.598742  5651.538574  58420500        0.0   \n",
       "1  5660.522959  5682.985352  5638.060566  5682.985352  42080500        0.0   \n",
       "2  5705.447725  5732.402596  5624.583111  5638.060547  43794500        0.0   \n",
       "3  5705.447660  5714.432617  5633.568005  5714.432617  66161500        0.0   \n",
       "4  5732.401911  5732.401911  5656.029785  5656.029785  63393000        0.0   \n",
       "\n",
       "   Stock Splits       date  \n",
       "0           0.0 2019-10-31  \n",
       "1           0.0 2019-11-01  \n",
       "2           0.0 2019-11-04  \n",
       "3           0.0 2019-11-05  \n",
       "4           0.0 2019-11-06  "
      ]
     },
     "execution_count": 105,
     "metadata": {},
     "output_type": "execute_result"
    }
   ],
   "source": [
    "data.head()"
   ]
  },
  {
   "cell_type": "code",
   "execution_count": 106,
   "metadata": {},
   "outputs": [
    {
     "name": "stdout",
     "output_type": "stream",
     "text": [
      "<class 'pandas.core.frame.DataFrame'>\n",
      "RangeIndex: 1213 entries, 0 to 1212\n",
      "Data columns (total 8 columns):\n",
      " #   Column        Non-Null Count  Dtype         \n",
      "---  ------        --------------  -----         \n",
      " 0   Open          1213 non-null   float64       \n",
      " 1   High          1213 non-null   float64       \n",
      " 2   Low           1213 non-null   float64       \n",
      " 3   Close         1213 non-null   float64       \n",
      " 4   Volume        1213 non-null   int64         \n",
      " 5   Dividends     1213 non-null   float64       \n",
      " 6   Stock Splits  1213 non-null   float64       \n",
      " 7   date          1213 non-null   datetime64[ns]\n",
      "dtypes: datetime64[ns](1), float64(6), int64(1)\n",
      "memory usage: 75.9 KB\n"
     ]
    }
   ],
   "source": [
    "data.info()"
   ]
  },
  {
   "cell_type": "code",
   "execution_count": 107,
   "metadata": {},
   "outputs": [
    {
     "data": {
      "text/plain": [
       "Open            0\n",
       "High            0\n",
       "Low             0\n",
       "Close           0\n",
       "Volume          0\n",
       "Dividends       0\n",
       "Stock Splits    0\n",
       "date            0\n",
       "dtype: int64"
      ]
     },
     "execution_count": 107,
     "metadata": {},
     "output_type": "execute_result"
    }
   ],
   "source": [
    "data.isnull().sum()"
   ]
  },
  {
   "cell_type": "markdown",
   "metadata": {},
   "source": [
    "# Feature Engineering"
   ]
  },
  {
   "cell_type": "code",
   "execution_count": 108,
   "metadata": {},
   "outputs": [
    {
     "data": {
      "text/plain": [
       "Dividends\n",
       "0.0      1203\n",
       "20.0        1\n",
       "91.0        1\n",
       "19.6        1\n",
       "86.4        1\n",
       "25.0        1\n",
       "120.0       1\n",
       "35.0        1\n",
       "170.0       1\n",
       "42.5        1\n",
       "227.5       1\n",
       "Name: count, dtype: int64"
      ]
     },
     "execution_count": 108,
     "metadata": {},
     "output_type": "execute_result"
    }
   ],
   "source": [
    "data['Dividends'].value_counts()"
   ]
  },
  {
   "cell_type": "code",
   "execution_count": 109,
   "metadata": {},
   "outputs": [
    {
     "data": {
      "text/plain": [
       "Stock Splits\n",
       "0.0    1212\n",
       "5.0       1\n",
       "Name: count, dtype: int64"
      ]
     },
     "execution_count": 109,
     "metadata": {},
     "output_type": "execute_result"
    }
   ],
   "source": [
    "data['Stock Splits'].value_counts()"
   ]
  },
  {
   "cell_type": "code",
   "execution_count": 110,
   "metadata": {},
   "outputs": [],
   "source": [
    "data.drop(['Dividends', 'Stock Splits'], axis=1, inplace=True)"
   ]
  },
  {
   "cell_type": "code",
   "execution_count": 111,
   "metadata": {},
   "outputs": [],
   "source": [
    "# 1. Menghitung Return Harian\n",
    "data['return'] = data['Close'].pct_change()\n",
    "data['log_return'] = np.log(data['Close'] / data['Close'].shift(1))"
   ]
  },
  {
   "cell_type": "code",
   "execution_count": 112,
   "metadata": {},
   "outputs": [],
   "source": [
    "# 2. Moving Averages\n",
    "data['ma_5'] = data['Close'].rolling(window=5).mean()\n",
    "data['ma_10'] = data['Close'].rolling(window=10).mean()\n",
    "data['ma_20'] = data['Close'].rolling(window=20).mean()"
   ]
  },
  {
   "cell_type": "code",
   "execution_count": 113,
   "metadata": {},
   "outputs": [],
   "source": [
    "# 3. Exponential Moving Average (EMA)\n",
    "data['ema_10'] = data['Close'].ewm(span=10, adjust=False).mean()\n",
    "data['ema_20'] = data['Close'].ewm(span=20, adjust=False).mean()"
   ]
  },
  {
   "cell_type": "code",
   "execution_count": 114,
   "metadata": {},
   "outputs": [],
   "source": [
    "# 4. Bollinger Bands\n",
    "data['bollinger_mid'] = data['Close'].rolling(window=20).mean()\n",
    "data['bollinger_std'] = data['Close'].rolling(window=20).std()\n",
    "data['bollinger_upper'] = data['bollinger_mid'] + (2 * data['bollinger_std'])\n",
    "data['bollinger_lower'] = data['bollinger_mid'] - (2 * data['bollinger_std'])"
   ]
  },
  {
   "cell_type": "code",
   "execution_count": 115,
   "metadata": {},
   "outputs": [],
   "source": [
    "# 10. Penambahan Fitur Waktu\n",
    "data['day_of_week'] = data['date'].dt.dayofweek  # 0 = Monday, 6 = Sunday\n",
    "data['month'] = data['date'].dt.month"
   ]
  },
  {
   "cell_type": "code",
   "execution_count": 116,
   "metadata": {},
   "outputs": [],
   "source": [
    "# Hapus data yang mengandung nilai NaN akibat perhitungan rolling\n",
    "data = data.dropna().reset_index(drop=True)"
   ]
  },
  {
   "cell_type": "code",
   "execution_count": 117,
   "metadata": {},
   "outputs": [
    {
     "data": {
      "text/html": [
       "<div>\n",
       "<style scoped>\n",
       "    .dataframe tbody tr th:only-of-type {\n",
       "        vertical-align: middle;\n",
       "    }\n",
       "\n",
       "    .dataframe tbody tr th {\n",
       "        vertical-align: top;\n",
       "    }\n",
       "\n",
       "    .dataframe thead th {\n",
       "        text-align: right;\n",
       "    }\n",
       "</style>\n",
       "<table border=\"1\" class=\"dataframe\">\n",
       "  <thead>\n",
       "    <tr style=\"text-align: right;\">\n",
       "      <th></th>\n",
       "      <th>Open</th>\n",
       "      <th>High</th>\n",
       "      <th>Low</th>\n",
       "      <th>Close</th>\n",
       "      <th>Volume</th>\n",
       "      <th>date</th>\n",
       "      <th>return</th>\n",
       "      <th>log_return</th>\n",
       "      <th>ma_5</th>\n",
       "      <th>ma_10</th>\n",
       "      <th>ma_20</th>\n",
       "      <th>ema_10</th>\n",
       "      <th>ema_20</th>\n",
       "      <th>bollinger_mid</th>\n",
       "      <th>bollinger_std</th>\n",
       "      <th>bollinger_upper</th>\n",
       "      <th>bollinger_lower</th>\n",
       "      <th>day_of_week</th>\n",
       "      <th>month</th>\n",
       "    </tr>\n",
       "  </thead>\n",
       "  <tbody>\n",
       "    <tr>\n",
       "      <th>0</th>\n",
       "      <td>5633.567592</td>\n",
       "      <td>5660.522461</td>\n",
       "      <td>5606.612723</td>\n",
       "      <td>5660.522461</td>\n",
       "      <td>58833500</td>\n",
       "      <td>2019-11-27</td>\n",
       "      <td>0.002387</td>\n",
       "      <td>0.002384</td>\n",
       "      <td>5654.232910</td>\n",
       "      <td>5656.479346</td>\n",
       "      <td>5656.254785</td>\n",
       "      <td>5656.135917</td>\n",
       "      <td>5655.397281</td>\n",
       "      <td>5656.254785</td>\n",
       "      <td>22.882915</td>\n",
       "      <td>5702.020616</td>\n",
       "      <td>5610.488955</td>\n",
       "      <td>2</td>\n",
       "      <td>11</td>\n",
       "    </tr>\n",
       "    <tr>\n",
       "      <th>1</th>\n",
       "      <td>5656.029959</td>\n",
       "      <td>5656.029959</td>\n",
       "      <td>5611.105178</td>\n",
       "      <td>5615.597656</td>\n",
       "      <td>44248000</td>\n",
       "      <td>2019-11-28</td>\n",
       "      <td>-0.007937</td>\n",
       "      <td>-0.007968</td>\n",
       "      <td>5645.247949</td>\n",
       "      <td>5654.682373</td>\n",
       "      <td>5654.457739</td>\n",
       "      <td>5648.765324</td>\n",
       "      <td>5651.606841</td>\n",
       "      <td>5654.457739</td>\n",
       "      <td>24.618244</td>\n",
       "      <td>5703.694226</td>\n",
       "      <td>5605.221252</td>\n",
       "      <td>3</td>\n",
       "      <td>11</td>\n",
       "    </tr>\n",
       "    <tr>\n",
       "      <th>2</th>\n",
       "      <td>5597.627951</td>\n",
       "      <td>5656.030169</td>\n",
       "      <td>5593.135473</td>\n",
       "      <td>5642.552734</td>\n",
       "      <td>52954500</td>\n",
       "      <td>2019-11-29</td>\n",
       "      <td>0.004800</td>\n",
       "      <td>0.004789</td>\n",
       "      <td>5640.755566</td>\n",
       "      <td>5655.131592</td>\n",
       "      <td>5652.436108</td>\n",
       "      <td>5647.635762</td>\n",
       "      <td>5650.744545</td>\n",
       "      <td>5652.436108</td>\n",
       "      <td>23.798789</td>\n",
       "      <td>5700.033687</td>\n",
       "      <td>5604.838530</td>\n",
       "      <td>4</td>\n",
       "      <td>11</td>\n",
       "    </tr>\n",
       "    <tr>\n",
       "      <th>3</th>\n",
       "      <td>5642.552605</td>\n",
       "      <td>5772.834473</td>\n",
       "      <td>5633.567649</td>\n",
       "      <td>5772.834473</td>\n",
       "      <td>49909000</td>\n",
       "      <td>2019-12-02</td>\n",
       "      <td>0.023089</td>\n",
       "      <td>0.022827</td>\n",
       "      <td>5667.710352</td>\n",
       "      <td>5668.159766</td>\n",
       "      <td>5659.174805</td>\n",
       "      <td>5670.399164</td>\n",
       "      <td>5662.372157</td>\n",
       "      <td>5659.174805</td>\n",
       "      <td>35.646048</td>\n",
       "      <td>5730.466900</td>\n",
       "      <td>5587.882709</td>\n",
       "      <td>0</td>\n",
       "      <td>12</td>\n",
       "    </tr>\n",
       "    <tr>\n",
       "      <th>4</th>\n",
       "      <td>5768.341972</td>\n",
       "      <td>5768.341972</td>\n",
       "      <td>5700.954799</td>\n",
       "      <td>5727.909668</td>\n",
       "      <td>42823000</td>\n",
       "      <td>2019-12-03</td>\n",
       "      <td>-0.007782</td>\n",
       "      <td>-0.007813</td>\n",
       "      <td>5683.883398</td>\n",
       "      <td>5673.550635</td>\n",
       "      <td>5659.848657</td>\n",
       "      <td>5680.855619</td>\n",
       "      <td>5668.613825</td>\n",
       "      <td>5659.848657</td>\n",
       "      <td>36.852585</td>\n",
       "      <td>5733.553828</td>\n",
       "      <td>5586.143486</td>\n",
       "      <td>1</td>\n",
       "      <td>12</td>\n",
       "    </tr>\n",
       "  </tbody>\n",
       "</table>\n",
       "</div>"
      ],
      "text/plain": [
       "          Open         High          Low        Close    Volume       date  \\\n",
       "0  5633.567592  5660.522461  5606.612723  5660.522461  58833500 2019-11-27   \n",
       "1  5656.029959  5656.029959  5611.105178  5615.597656  44248000 2019-11-28   \n",
       "2  5597.627951  5656.030169  5593.135473  5642.552734  52954500 2019-11-29   \n",
       "3  5642.552605  5772.834473  5633.567649  5772.834473  49909000 2019-12-02   \n",
       "4  5768.341972  5768.341972  5700.954799  5727.909668  42823000 2019-12-03   \n",
       "\n",
       "     return  log_return         ma_5        ma_10        ma_20       ema_10  \\\n",
       "0  0.002387    0.002384  5654.232910  5656.479346  5656.254785  5656.135917   \n",
       "1 -0.007937   -0.007968  5645.247949  5654.682373  5654.457739  5648.765324   \n",
       "2  0.004800    0.004789  5640.755566  5655.131592  5652.436108  5647.635762   \n",
       "3  0.023089    0.022827  5667.710352  5668.159766  5659.174805  5670.399164   \n",
       "4 -0.007782   -0.007813  5683.883398  5673.550635  5659.848657  5680.855619   \n",
       "\n",
       "        ema_20  bollinger_mid  bollinger_std  bollinger_upper  \\\n",
       "0  5655.397281    5656.254785      22.882915      5702.020616   \n",
       "1  5651.606841    5654.457739      24.618244      5703.694226   \n",
       "2  5650.744545    5652.436108      23.798789      5700.033687   \n",
       "3  5662.372157    5659.174805      35.646048      5730.466900   \n",
       "4  5668.613825    5659.848657      36.852585      5733.553828   \n",
       "\n",
       "   bollinger_lower  day_of_week  month  \n",
       "0      5610.488955            2     11  \n",
       "1      5605.221252            3     11  \n",
       "2      5604.838530            4     11  \n",
       "3      5587.882709            0     12  \n",
       "4      5586.143486            1     12  "
      ]
     },
     "execution_count": 117,
     "metadata": {},
     "output_type": "execute_result"
    }
   ],
   "source": [
    "data.head()"
   ]
  },
  {
   "cell_type": "code",
   "execution_count": 118,
   "metadata": {},
   "outputs": [
    {
     "data": {
      "text/plain": [
       "Open               0\n",
       "High               0\n",
       "Low                0\n",
       "Close              0\n",
       "Volume             0\n",
       "date               0\n",
       "return             0\n",
       "log_return         0\n",
       "ma_5               0\n",
       "ma_10              0\n",
       "ma_20              0\n",
       "ema_10             0\n",
       "ema_20             0\n",
       "bollinger_mid      0\n",
       "bollinger_std      0\n",
       "bollinger_upper    0\n",
       "bollinger_lower    0\n",
       "day_of_week        0\n",
       "month              0\n",
       "dtype: int64"
      ]
     },
     "execution_count": 118,
     "metadata": {},
     "output_type": "execute_result"
    }
   ],
   "source": [
    "data.isnull().sum()"
   ]
  },
  {
   "cell_type": "markdown",
   "metadata": {},
   "source": [
    "# Modelling"
   ]
  },
  {
   "cell_type": "markdown",
   "metadata": {},
   "source": [
    "## Preprocessing"
   ]
  },
  {
   "cell_type": "code",
   "execution_count": 119,
   "metadata": {},
   "outputs": [],
   "source": [
    "dataUsed = data[['Close', 'Volume', 'ma_5', 'ma_10', 'ema_10', 'bollinger_mid', 'bollinger_std', 'bollinger_upper', 'bollinger_lower', 'day_of_week', 'month']]"
   ]
  },
  {
   "cell_type": "code",
   "execution_count": 120,
   "metadata": {},
   "outputs": [
    {
     "data": {
      "text/html": [
       "<div>\n",
       "<style scoped>\n",
       "    .dataframe tbody tr th:only-of-type {\n",
       "        vertical-align: middle;\n",
       "    }\n",
       "\n",
       "    .dataframe tbody tr th {\n",
       "        vertical-align: top;\n",
       "    }\n",
       "\n",
       "    .dataframe thead th {\n",
       "        text-align: right;\n",
       "    }\n",
       "</style>\n",
       "<table border=\"1\" class=\"dataframe\">\n",
       "  <thead>\n",
       "    <tr style=\"text-align: right;\">\n",
       "      <th></th>\n",
       "      <th>Close</th>\n",
       "      <th>Volume</th>\n",
       "      <th>ma_5</th>\n",
       "      <th>ma_10</th>\n",
       "      <th>ema_10</th>\n",
       "      <th>bollinger_mid</th>\n",
       "      <th>bollinger_std</th>\n",
       "      <th>bollinger_upper</th>\n",
       "      <th>bollinger_lower</th>\n",
       "      <th>day_of_week</th>\n",
       "      <th>month</th>\n",
       "    </tr>\n",
       "  </thead>\n",
       "  <tbody>\n",
       "    <tr>\n",
       "      <th>0</th>\n",
       "      <td>5660.522461</td>\n",
       "      <td>58833500</td>\n",
       "      <td>5654.232910</td>\n",
       "      <td>5656.479346</td>\n",
       "      <td>5656.135917</td>\n",
       "      <td>5656.254785</td>\n",
       "      <td>22.882915</td>\n",
       "      <td>5702.020616</td>\n",
       "      <td>5610.488955</td>\n",
       "      <td>2</td>\n",
       "      <td>11</td>\n",
       "    </tr>\n",
       "    <tr>\n",
       "      <th>1</th>\n",
       "      <td>5615.597656</td>\n",
       "      <td>44248000</td>\n",
       "      <td>5645.247949</td>\n",
       "      <td>5654.682373</td>\n",
       "      <td>5648.765324</td>\n",
       "      <td>5654.457739</td>\n",
       "      <td>24.618244</td>\n",
       "      <td>5703.694226</td>\n",
       "      <td>5605.221252</td>\n",
       "      <td>3</td>\n",
       "      <td>11</td>\n",
       "    </tr>\n",
       "    <tr>\n",
       "      <th>2</th>\n",
       "      <td>5642.552734</td>\n",
       "      <td>52954500</td>\n",
       "      <td>5640.755566</td>\n",
       "      <td>5655.131592</td>\n",
       "      <td>5647.635762</td>\n",
       "      <td>5652.436108</td>\n",
       "      <td>23.798789</td>\n",
       "      <td>5700.033687</td>\n",
       "      <td>5604.838530</td>\n",
       "      <td>4</td>\n",
       "      <td>11</td>\n",
       "    </tr>\n",
       "    <tr>\n",
       "      <th>3</th>\n",
       "      <td>5772.834473</td>\n",
       "      <td>49909000</td>\n",
       "      <td>5667.710352</td>\n",
       "      <td>5668.159766</td>\n",
       "      <td>5670.399164</td>\n",
       "      <td>5659.174805</td>\n",
       "      <td>35.646048</td>\n",
       "      <td>5730.466900</td>\n",
       "      <td>5587.882709</td>\n",
       "      <td>0</td>\n",
       "      <td>12</td>\n",
       "    </tr>\n",
       "    <tr>\n",
       "      <th>4</th>\n",
       "      <td>5727.909668</td>\n",
       "      <td>42823000</td>\n",
       "      <td>5683.883398</td>\n",
       "      <td>5673.550635</td>\n",
       "      <td>5680.855619</td>\n",
       "      <td>5659.848657</td>\n",
       "      <td>36.852585</td>\n",
       "      <td>5733.553828</td>\n",
       "      <td>5586.143486</td>\n",
       "      <td>1</td>\n",
       "      <td>12</td>\n",
       "    </tr>\n",
       "  </tbody>\n",
       "</table>\n",
       "</div>"
      ],
      "text/plain": [
       "         Close    Volume         ma_5        ma_10       ema_10  \\\n",
       "0  5660.522461  58833500  5654.232910  5656.479346  5656.135917   \n",
       "1  5615.597656  44248000  5645.247949  5654.682373  5648.765324   \n",
       "2  5642.552734  52954500  5640.755566  5655.131592  5647.635762   \n",
       "3  5772.834473  49909000  5667.710352  5668.159766  5670.399164   \n",
       "4  5727.909668  42823000  5683.883398  5673.550635  5680.855619   \n",
       "\n",
       "   bollinger_mid  bollinger_std  bollinger_upper  bollinger_lower  \\\n",
       "0    5656.254785      22.882915      5702.020616      5610.488955   \n",
       "1    5654.457739      24.618244      5703.694226      5605.221252   \n",
       "2    5652.436108      23.798789      5700.033687      5604.838530   \n",
       "3    5659.174805      35.646048      5730.466900      5587.882709   \n",
       "4    5659.848657      36.852585      5733.553828      5586.143486   \n",
       "\n",
       "   day_of_week  month  \n",
       "0            2     11  \n",
       "1            3     11  \n",
       "2            4     11  \n",
       "3            0     12  \n",
       "4            1     12  "
      ]
     },
     "execution_count": 120,
     "metadata": {},
     "output_type": "execute_result"
    }
   ],
   "source": [
    "dataUsed.head()"
   ]
  },
  {
   "cell_type": "code",
   "execution_count": 121,
   "metadata": {},
   "outputs": [
    {
     "data": {
      "text/plain": [
       "array([[0.23969743, 0.07777769, 0.21817154, ..., 0.27528493, 0.5       ,\n",
       "        0.90909091],\n",
       "       [0.23323999, 0.05849571, 0.21682084, ..., 0.27446791, 0.75      ,\n",
       "        0.90909091],\n",
       "       [0.23711448, 0.07000567, 0.2161455 , ..., 0.27440854, 1.        ,\n",
       "        0.90909091],\n",
       "       ...,\n",
       "       [0.93531759, 0.06567692, 0.96767917, ..., 0.99948838, 0.25      ,\n",
       "        0.81818182],\n",
       "       [0.91375679, 0.15134759, 0.9586594 , ..., 0.99624454, 0.5       ,\n",
       "        0.81818182],\n",
       "       [0.89938292, 0.12896526, 0.94512975, ..., 0.99061983, 0.75      ,\n",
       "        0.81818182]])"
      ]
     },
     "execution_count": 121,
     "metadata": {},
     "output_type": "execute_result"
    }
   ],
   "source": [
    "from sklearn.preprocessing import MinMaxScaler\n",
    "\n",
    "# preprocessing\n",
    "scaler = MinMaxScaler(feature_range=(0, 1))\n",
    "data_scaled = scaler.fit_transform(dataUsed)\n",
    "\n",
    "data_scaled\n"
   ]
  },
  {
   "cell_type": "markdown",
   "metadata": {},
   "source": [
    "## Train Test Sequence"
   ]
  },
  {
   "cell_type": "code",
   "execution_count": null,
   "metadata": {},
   "outputs": [],
   "source": [
    "import numpy as np\n",
    "\n",
    "sequence_length = 60\n",
    "x = []\n",
    "y = []\n",
    "\n",
    "# Target tetap kolom 0 (harga close), tetapi kita hanya menggunakan kolom lain sebagai input\n",
    "for i in range(sequence_length, len(data_scaled)):\n",
    "    x.append(data_scaled[i-sequence_length:i, 1:])  \n",
    "    y.append(data_scaled[i, 0]) \n",
    "\n",
    "# Konversi ke array numpy\n",
    "x, y = np.array(x), np.array(y)\n"
   ]
  },
  {
   "cell_type": "code",
   "execution_count": 124,
   "metadata": {},
   "outputs": [
    {
     "name": "stdout",
     "output_type": "stream",
     "text": [
      "(1134, 60, 10) (1134,)\n"
     ]
    }
   ],
   "source": [
    "print(x.shape, y.shape)"
   ]
  },
  {
   "cell_type": "markdown",
   "metadata": {},
   "source": [
    "## LSTM"
   ]
  },
  {
   "cell_type": "markdown",
   "metadata": {},
   "source": [
    "LSTM (Long Short-Term Memory) adalah jenis jaringan saraf tiruan yang termasuk dalam kategori Recurrent Neural Networks (RNN). LSTM dirancang khusus untuk mengatasi masalah pada RNN biasa, yaitu sulitnya mengingat informasi dalam jangka panjang (long-term dependency)."
   ]
  },
  {
   "cell_type": "code",
   "execution_count": 125,
   "metadata": {},
   "outputs": [],
   "source": [
    "from sklearn.model_selection import train_test_split\n",
    "\n",
    "# train and test split\n",
    "x_train, x_test, y_train, y_test = train_test_split(x, y, test_size=0.2, random_state=42)"
   ]
  },
  {
   "cell_type": "code",
   "execution_count": 126,
   "metadata": {},
   "outputs": [],
   "source": [
    "from tensorflow.keras.models import Sequential\n",
    "from tensorflow.keras.layers import LSTM, Dense, Dropout"
   ]
  },
  {
   "cell_type": "code",
   "execution_count": 127,
   "metadata": {},
   "outputs": [],
   "source": [
    "# LSTM model\n",
    "model = Sequential()\n",
    "model.add(LSTM(units=50, return_sequences=True, input_shape=(x_train.shape[1], x_train.shape[2])))\n",
    "model.add(Dropout(0.2))\n",
    "model.add(LSTM(units=50, return_sequences=True))\n",
    "model.add(Dropout(0.2))\n",
    "model.add(LSTM(units=50))\n",
    "model.add(Dropout(0.2))\n",
    "model.add(Dense(units=1))\n",
    "\n",
    "model.compile(optimizer='adam', loss='mean_squared_error')"
   ]
  },
  {
   "cell_type": "code",
   "execution_count": 145,
   "metadata": {},
   "outputs": [
    {
     "name": "stdout",
     "output_type": "stream",
     "text": [
      "Epoch 1/100\n",
      "29/29 [==============================] - 2s 55ms/step - loss: 0.0028 - val_loss: 0.0012\n",
      "Epoch 2/100\n",
      "29/29 [==============================] - 2s 54ms/step - loss: 0.0025 - val_loss: 0.0012\n",
      "Epoch 3/100\n",
      "29/29 [==============================] - 2s 54ms/step - loss: 0.0026 - val_loss: 0.0014\n",
      "Epoch 4/100\n",
      "29/29 [==============================] - 2s 54ms/step - loss: 0.0024 - val_loss: 0.0012\n",
      "Epoch 5/100\n",
      "29/29 [==============================] - 2s 65ms/step - loss: 0.0025 - val_loss: 0.0012\n",
      "Epoch 6/100\n",
      "29/29 [==============================] - 2s 71ms/step - loss: 0.0029 - val_loss: 0.0012\n",
      "Epoch 7/100\n",
      "29/29 [==============================] - 2s 69ms/step - loss: 0.0025 - val_loss: 0.0012\n",
      "Epoch 8/100\n",
      "29/29 [==============================] - 2s 75ms/step - loss: 0.0027 - val_loss: 0.0013\n",
      "Epoch 9/100\n",
      "29/29 [==============================] - 3s 94ms/step - loss: 0.0026 - val_loss: 0.0017\n",
      "Epoch 10/100\n",
      "29/29 [==============================] - 2s 78ms/step - loss: 0.0027 - val_loss: 0.0014\n",
      "Epoch 11/100\n",
      "29/29 [==============================] - 2s 68ms/step - loss: 0.0024 - val_loss: 0.0011\n",
      "Epoch 12/100\n",
      "29/29 [==============================] - 2s 71ms/step - loss: 0.0023 - val_loss: 0.0011\n",
      "Epoch 13/100\n",
      "29/29 [==============================] - 2s 63ms/step - loss: 0.0023 - val_loss: 0.0011\n",
      "Epoch 14/100\n",
      "29/29 [==============================] - 2s 63ms/step - loss: 0.0024 - val_loss: 0.0013\n",
      "Epoch 15/100\n",
      "29/29 [==============================] - 2s 64ms/step - loss: 0.0024 - val_loss: 0.0017\n",
      "Epoch 16/100\n",
      "29/29 [==============================] - 2s 63ms/step - loss: 0.0022 - val_loss: 0.0016\n",
      "Epoch 17/100\n",
      "29/29 [==============================] - 2s 62ms/step - loss: 0.0021 - val_loss: 0.0011\n",
      "Epoch 18/100\n",
      "29/29 [==============================] - 2s 61ms/step - loss: 0.0023 - val_loss: 0.0012\n",
      "Epoch 19/100\n",
      "29/29 [==============================] - 2s 64ms/step - loss: 0.0021 - val_loss: 0.0011\n",
      "Epoch 20/100\n",
      "29/29 [==============================] - 2s 62ms/step - loss: 0.0023 - val_loss: 0.0011\n",
      "Epoch 21/100\n",
      "29/29 [==============================] - 2s 67ms/step - loss: 0.0023 - val_loss: 0.0010\n",
      "Epoch 22/100\n",
      "29/29 [==============================] - 2s 72ms/step - loss: 0.0022 - val_loss: 0.0010\n",
      "Epoch 23/100\n",
      "29/29 [==============================] - 2s 68ms/step - loss: 0.0023 - val_loss: 0.0015\n",
      "Epoch 24/100\n",
      "29/29 [==============================] - 2s 72ms/step - loss: 0.0027 - val_loss: 0.0012\n",
      "Epoch 25/100\n",
      "29/29 [==============================] - 2s 75ms/step - loss: 0.0022 - val_loss: 0.0010\n",
      "Epoch 26/100\n",
      "29/29 [==============================] - 2s 70ms/step - loss: 0.0021 - val_loss: 0.0012\n",
      "Epoch 27/100\n",
      "29/29 [==============================] - 2s 71ms/step - loss: 0.0023 - val_loss: 0.0010\n",
      "Epoch 28/100\n",
      "29/29 [==============================] - 2s 73ms/step - loss: 0.0021 - val_loss: 0.0012\n",
      "Epoch 29/100\n",
      "29/29 [==============================] - 2s 71ms/step - loss: 0.0021 - val_loss: 0.0011\n",
      "Epoch 30/100\n",
      "29/29 [==============================] - 2s 74ms/step - loss: 0.0020 - val_loss: 9.9827e-04\n",
      "Epoch 31/100\n",
      "29/29 [==============================] - 2s 76ms/step - loss: 0.0019 - val_loss: 0.0012\n",
      "Epoch 32/100\n",
      "29/29 [==============================] - 2s 72ms/step - loss: 0.0020 - val_loss: 0.0011\n",
      "Epoch 33/100\n",
      "29/29 [==============================] - 2s 76ms/step - loss: 0.0019 - val_loss: 0.0010\n",
      "Epoch 34/100\n",
      "29/29 [==============================] - 2s 75ms/step - loss: 0.0020 - val_loss: 0.0011\n",
      "Epoch 35/100\n",
      "29/29 [==============================] - 2s 76ms/step - loss: 0.0021 - val_loss: 0.0014\n",
      "Epoch 36/100\n",
      "29/29 [==============================] - 2s 72ms/step - loss: 0.0020 - val_loss: 0.0010\n",
      "Epoch 37/100\n",
      "29/29 [==============================] - 2s 66ms/step - loss: 0.0020 - val_loss: 9.3526e-04\n",
      "Epoch 38/100\n",
      "29/29 [==============================] - 2s 68ms/step - loss: 0.0018 - val_loss: 9.4314e-04\n",
      "Epoch 39/100\n",
      "29/29 [==============================] - 2s 65ms/step - loss: 0.0020 - val_loss: 0.0010\n",
      "Epoch 40/100\n",
      "29/29 [==============================] - 2s 66ms/step - loss: 0.0019 - val_loss: 0.0014\n",
      "Epoch 41/100\n",
      "29/29 [==============================] - 2s 68ms/step - loss: 0.0019 - val_loss: 0.0010\n",
      "Epoch 42/100\n",
      "29/29 [==============================] - 2s 73ms/step - loss: 0.0018 - val_loss: 0.0011\n",
      "Epoch 43/100\n",
      "29/29 [==============================] - 2s 80ms/step - loss: 0.0018 - val_loss: 0.0010\n",
      "Epoch 44/100\n",
      "29/29 [==============================] - 3s 91ms/step - loss: 0.0020 - val_loss: 0.0010\n",
      "Epoch 45/100\n",
      "29/29 [==============================] - 2s 83ms/step - loss: 0.0020 - val_loss: 9.4407e-04\n",
      "Epoch 46/100\n",
      "29/29 [==============================] - 2s 84ms/step - loss: 0.0019 - val_loss: 9.0314e-04\n",
      "Epoch 47/100\n",
      "29/29 [==============================] - 2s 85ms/step - loss: 0.0017 - val_loss: 0.0011\n",
      "Epoch 48/100\n",
      "29/29 [==============================] - 3s 95ms/step - loss: 0.0020 - val_loss: 8.7402e-04\n",
      "Epoch 49/100\n",
      "29/29 [==============================] - 3s 99ms/step - loss: 0.0018 - val_loss: 9.0860e-04\n",
      "Epoch 50/100\n",
      "29/29 [==============================] - 3s 89ms/step - loss: 0.0017 - val_loss: 9.7422e-04\n",
      "Epoch 51/100\n",
      "29/29 [==============================] - 2s 81ms/step - loss: 0.0018 - val_loss: 0.0014\n",
      "Epoch 52/100\n",
      "29/29 [==============================] - 2s 77ms/step - loss: 0.0019 - val_loss: 9.2973e-04\n",
      "Epoch 53/100\n",
      "29/29 [==============================] - 2s 82ms/step - loss: 0.0018 - val_loss: 9.4316e-04\n",
      "Epoch 54/100\n",
      "29/29 [==============================] - 2s 80ms/step - loss: 0.0017 - val_loss: 8.7429e-04\n",
      "Epoch 55/100\n",
      "29/29 [==============================] - 2s 81ms/step - loss: 0.0016 - val_loss: 8.7085e-04\n",
      "Epoch 56/100\n",
      "29/29 [==============================] - 2s 80ms/step - loss: 0.0016 - val_loss: 8.0257e-04\n",
      "Epoch 57/100\n",
      "29/29 [==============================] - 2s 77ms/step - loss: 0.0017 - val_loss: 8.6863e-04\n",
      "Epoch 58/100\n",
      "29/29 [==============================] - 2s 76ms/step - loss: 0.0018 - val_loss: 9.2317e-04\n",
      "Epoch 59/100\n",
      "29/29 [==============================] - 2s 82ms/step - loss: 0.0016 - val_loss: 8.3535e-04\n",
      "Epoch 60/100\n",
      "29/29 [==============================] - 2s 81ms/step - loss: 0.0016 - val_loss: 8.8069e-04\n",
      "Epoch 61/100\n",
      "29/29 [==============================] - 2s 80ms/step - loss: 0.0016 - val_loss: 8.3732e-04\n",
      "Epoch 62/100\n",
      "29/29 [==============================] - 2s 81ms/step - loss: 0.0018 - val_loss: 7.9157e-04\n",
      "Epoch 63/100\n",
      "29/29 [==============================] - 2s 80ms/step - loss: 0.0016 - val_loss: 0.0011\n",
      "Epoch 64/100\n",
      "29/29 [==============================] - 2s 81ms/step - loss: 0.0016 - val_loss: 9.4571e-04\n",
      "Epoch 65/100\n",
      "29/29 [==============================] - 2s 74ms/step - loss: 0.0017 - val_loss: 0.0011\n",
      "Epoch 66/100\n",
      "29/29 [==============================] - 2s 72ms/step - loss: 0.0014 - val_loss: 7.6843e-04\n",
      "Epoch 67/100\n",
      "29/29 [==============================] - 2s 79ms/step - loss: 0.0018 - val_loss: 7.1081e-04\n",
      "Epoch 68/100\n",
      "29/29 [==============================] - 2s 54ms/step - loss: 0.0016 - val_loss: 7.7055e-04\n",
      "Epoch 69/100\n",
      "29/29 [==============================] - 1s 52ms/step - loss: 0.0016 - val_loss: 7.8084e-04\n",
      "Epoch 70/100\n",
      "29/29 [==============================] - 2s 53ms/step - loss: 0.0015 - val_loss: 0.0012\n",
      "Epoch 71/100\n",
      "29/29 [==============================] - 1s 49ms/step - loss: 0.0015 - val_loss: 7.2708e-04\n",
      "Epoch 72/100\n",
      "29/29 [==============================] - 1s 49ms/step - loss: 0.0015 - val_loss: 8.7981e-04\n",
      "Epoch 73/100\n",
      "29/29 [==============================] - 1s 49ms/step - loss: 0.0015 - val_loss: 7.4796e-04\n",
      "Epoch 74/100\n",
      "29/29 [==============================] - 1s 50ms/step - loss: 0.0014 - val_loss: 8.9208e-04\n",
      "Epoch 75/100\n",
      "29/29 [==============================] - 1s 50ms/step - loss: 0.0018 - val_loss: 0.0012\n",
      "Epoch 76/100\n",
      "29/29 [==============================] - 1s 50ms/step - loss: 0.0016 - val_loss: 7.5128e-04\n",
      "Epoch 77/100\n",
      "29/29 [==============================] - 1s 49ms/step - loss: 0.0015 - val_loss: 6.5933e-04\n",
      "Epoch 78/100\n",
      "29/29 [==============================] - 1s 49ms/step - loss: 0.0014 - val_loss: 9.7479e-04\n",
      "Epoch 79/100\n",
      "29/29 [==============================] - 1s 50ms/step - loss: 0.0015 - val_loss: 8.0264e-04\n",
      "Epoch 80/100\n",
      "29/29 [==============================] - 1s 49ms/step - loss: 0.0014 - val_loss: 7.1423e-04\n",
      "Epoch 81/100\n",
      "29/29 [==============================] - 1s 51ms/step - loss: 0.0013 - val_loss: 8.5229e-04\n",
      "Epoch 82/100\n",
      "29/29 [==============================] - 1s 48ms/step - loss: 0.0013 - val_loss: 9.2562e-04\n",
      "Epoch 83/100\n",
      "29/29 [==============================] - 1s 47ms/step - loss: 0.0014 - val_loss: 7.5272e-04\n",
      "Epoch 84/100\n",
      "29/29 [==============================] - 1s 47ms/step - loss: 0.0015 - val_loss: 7.9891e-04\n",
      "Epoch 85/100\n",
      "29/29 [==============================] - 1s 47ms/step - loss: 0.0013 - val_loss: 0.0011\n",
      "Epoch 86/100\n",
      "29/29 [==============================] - 1s 49ms/step - loss: 0.0016 - val_loss: 9.4476e-04\n",
      "Epoch 87/100\n",
      "29/29 [==============================] - 1s 48ms/step - loss: 0.0016 - val_loss: 6.8548e-04\n",
      "Epoch 88/100\n",
      "29/29 [==============================] - 2s 52ms/step - loss: 0.0013 - val_loss: 8.9810e-04\n",
      "Epoch 89/100\n",
      "29/29 [==============================] - 1s 52ms/step - loss: 0.0014 - val_loss: 7.1641e-04\n",
      "Epoch 90/100\n",
      "29/29 [==============================] - 1s 51ms/step - loss: 0.0013 - val_loss: 7.5936e-04\n",
      "Epoch 91/100\n",
      "29/29 [==============================] - 1s 48ms/step - loss: 0.0012 - val_loss: 8.0673e-04\n",
      "Epoch 92/100\n",
      "29/29 [==============================] - 1s 51ms/step - loss: 0.0014 - val_loss: 6.3812e-04\n",
      "Epoch 93/100\n",
      "29/29 [==============================] - 1s 49ms/step - loss: 0.0012 - val_loss: 7.3533e-04\n",
      "Epoch 94/100\n",
      "29/29 [==============================] - 2s 53ms/step - loss: 0.0012 - val_loss: 6.3057e-04\n",
      "Epoch 95/100\n",
      "29/29 [==============================] - 2s 57ms/step - loss: 0.0013 - val_loss: 7.6540e-04\n",
      "Epoch 96/100\n",
      "29/29 [==============================] - 1s 50ms/step - loss: 0.0014 - val_loss: 7.7186e-04\n",
      "Epoch 97/100\n",
      "29/29 [==============================] - 2s 53ms/step - loss: 0.0015 - val_loss: 7.9875e-04\n",
      "Epoch 98/100\n",
      "29/29 [==============================] - 1s 51ms/step - loss: 0.0015 - val_loss: 6.8685e-04\n",
      "Epoch 99/100\n",
      "29/29 [==============================] - 1s 51ms/step - loss: 0.0011 - val_loss: 6.2170e-04\n",
      "Epoch 100/100\n",
      "29/29 [==============================] - 1s 51ms/step - loss: 0.0011 - val_loss: 6.2689e-04\n"
     ]
    },
    {
     "data": {
      "text/plain": [
       "<keras.src.callbacks.History at 0x196400f3100>"
      ]
     },
     "execution_count": 145,
     "metadata": {},
     "output_type": "execute_result"
    }
   ],
   "source": [
    "# train model \n",
    "model.fit(x_train, y_train, epochs=100, batch_size=32, validation_data=(x_test, y_test), verbose=1)"
   ]
  },
  {
   "cell_type": "code",
   "execution_count": 146,
   "metadata": {},
   "outputs": [
    {
     "name": "stdout",
     "output_type": "stream",
     "text": [
      "8/8 [==============================] - 0s 14ms/step\n"
     ]
    }
   ],
   "source": [
    "# prediction\n",
    "predicted_prices =  model.predict(x_test)\n"
   ]
  },
  {
   "cell_type": "code",
   "execution_count": 147,
   "metadata": {},
   "outputs": [],
   "source": [
    "# Dapatkan jumlah kolom yang diharapkan oleh scaler\n",
    "expected_columns = scaler.min_.shape[0]\n",
    "\n",
    "# Tambahkan kolom nol untuk menyesuaikan jumlah kolom\n",
    "predicted_prices_padded = np.hstack([np.zeros((predicted_prices.shape[0], expected_columns - 1)), predicted_prices])\n",
    "\n",
    "# Inverse transform dan ambil hanya kolom harga 'Close'\n",
    "predicted_prices = scaler.inverse_transform(predicted_prices_padded)[:, -1]  # Ambil hanya kolom harga\n"
   ]
  },
  {
   "cell_type": "code",
   "execution_count": 148,
   "metadata": {},
   "outputs": [],
   "source": [
    "# Tambahkan kolom nol untuk menyesuaikan jumlah kolom\n",
    "real_prices_padded = np.hstack([np.zeros((y_test.shape[0], expected_columns - 1)), y_test.reshape(-1,1)])\n",
    "\n",
    "# Inverse transform dan ambil hanya kolom harga 'Close'\n",
    "real_prices = scaler.inverse_transform(real_prices_padded)[:, -1]  # Ambil hanya kolom harga\n"
   ]
  },
  {
   "cell_type": "code",
   "execution_count": 149,
   "metadata": {},
   "outputs": [
    {
     "data": {
      "text/plain": [
       "array([ 8.18413403,  8.53022297,  6.00378732,  6.18971395,  7.58032471,\n",
       "        3.64623333,  6.25334344,  1.47158345, 10.02359301,  9.8326829 ,\n",
       "        8.14568057,  3.29103979,  7.49263015,  8.56867798,  7.50492324,\n",
       "        8.33795254,  7.20331813,  8.83785844,  7.61802622,  5.63490485,\n",
       "        3.53025143,  4.12374561,  9.67813251,  3.03733012,  3.10257086,\n",
       "        1.71804372,  3.73880946,  4.16060946,  3.94680005,  3.58824354,\n",
       "        3.82020423,  5.56092933,  8.64558647,  7.00442442,  8.48036193,\n",
       "        2.51776592,  9.87132166, 10.61651511,  6.07875182,  7.26730431,\n",
       "        3.9394279 ,  5.48032589,  8.29949753,  4.25513498,  8.76094996,\n",
       "       11.28849348,  3.67522861,  5.72758598,  9.86548045,  7.80653067,\n",
       "        4.41865487,  6.59657431,  4.48043148,  4.41865487,  8.64558647,\n",
       "        2.90685175, 10.57698697, 10.93274022,  4.45134819,  5.72758598,\n",
       "        8.64558647,  9.58878347,  2.25445601,  5.56092933, 11.56519046,\n",
       "        9.66783975,  3.57079325,  6.14067975,  5.56092933,  6.62888316,\n",
       "        6.14067975,  3.62977433,  3.84358374,  5.78260576,  7.19219544,\n",
       "        3.50443848,  4.88759603,  7.80653067, 10.49793069,  3.87094771,\n",
       "        4.0131556 ,  2.66027876,  4.6040349 , 10.49793069,  7.76882916,\n",
       "        8.45331449,  7.80653067,  5.09844855,  4.08116253,  4.0573916 ,\n",
       "        3.51918433,  8.37640601,  3.78460189,  2.58065427,  5.95291028,\n",
       "        4.35230009,  3.94966352,  3.60028341, 10.33497439,  4.35967224,\n",
       "        7.73112766,  3.13057021,  4.41865487,  3.97629252,  7.61802622,\n",
       "        4.61857616,  6.26368793,  7.53018265,  8.83785844,  4.36704594,\n",
       "        9.74689603,  5.65247634,  8.20615708, 10.06312115,  8.20615708,\n",
       "        7.429521  ,  8.68404148,  8.18413403,  2.29070224,  3.68247723,\n",
       "        1.88476523,  5.36746765,  8.26104406,  8.607133  ,  7.98083278,\n",
       "        4.1090013 ,  5.78285358, 10.61651511,  8.64558647,  5.72758598,\n",
       "        4.94948922,  5.99046433,  4.9384916 ,  8.79940343,  5.67201575,\n",
       "        3.09532223,  6.48561141,  5.59791747,  8.67354954,  5.52456035,\n",
       "        4.09425468,  6.52259956,  7.1170858 ,  5.67189145,  2.71838281,\n",
       "        9.74689603,  2.58790367,  4.74944981,  6.55377583,  4.5749516 ,\n",
       "        3.87307389,  2.81986668,  5.52394349,  4.24170931,  8.68404148,\n",
       "        2.66764011, 10.26076185,  6.33766268,  5.69003194,  9.05992784,\n",
       "        8.53022297,  5.56092933,  6.06557243,  4.15323653,  6.07875182,\n",
       "       11.52566232,  6.40355964,  6.59132988,  8.95322193, 10.65604325,\n",
       "        8.45331449,  4.28594531,  5.61492307,  2.95759368,  4.93122058,\n",
       "       11.0117965 ,  9.33039296,  9.09856505,  5.48695612,  7.88193214,\n",
       "        2.14572506,  2.71728189,  8.87631191,  2.84886042,  1.6238077 ,\n",
       "        8.83785844,  4.44814657,  6.41163743,  5.95291028,  3.74773726,\n",
       "        8.14568057,  3.65074355,  8.18353648,  6.89176305, 11.16990906,\n",
       "        8.72249495,  8.607133  ,  8.607133  ,  4.31543701,  8.64558647,\n",
       "        6.59132988,  1.89201462,  7.429521  ,  7.00442442,  3.06632618,\n",
       "        3.98366467, 11.48613418,  7.53018265,  3.53025143,  3.82020423,\n",
       "        5.99046433,  4.39653609,  3.82883789, 10.97226836,  6.15272657,\n",
       "        4.98211538,  4.37441886,  9.06858388,  5.56092933,  3.97629252,\n",
       "       11.52566232, 11.09085278,  3.24029863,  8.607133  ,  3.10257086,\n",
       "        5.76513926,  5.59791747])"
      ]
     },
     "execution_count": 149,
     "metadata": {},
     "output_type": "execute_result"
    }
   ],
   "source": [
    "real_prices"
   ]
  },
  {
   "cell_type": "markdown",
   "metadata": {},
   "source": [
    "# Evaluation"
   ]
  },
  {
   "cell_type": "code",
   "execution_count": 150,
   "metadata": {},
   "outputs": [
    {
     "data": {
      "application/vnd.plotly.v1+json": {
       "config": {
        "plotlyServerURL": "https://plot.ly"
       },
       "data": [
        {
         "hovertemplate": "x=%{x}<br>y=%{y}<extra></extra>",
         "legendgroup": "",
         "line": {
          "color": "#636efa",
          "dash": "solid"
         },
         "marker": {
          "symbol": "circle"
         },
         "mode": "lines",
         "name": "",
         "orientation": "v",
         "showlegend": false,
         "type": "scatter",
         "x": [
          "2023-11-17T00:00:00",
          "2023-11-20T00:00:00",
          "2023-11-21T00:00:00",
          "2023-11-22T00:00:00",
          "2023-11-23T00:00:00",
          "2023-11-24T00:00:00",
          "2023-11-27T00:00:00",
          "2023-11-28T00:00:00",
          "2023-11-29T00:00:00",
          "2023-11-30T00:00:00",
          "2023-12-01T00:00:00",
          "2023-12-04T00:00:00",
          "2023-12-05T00:00:00",
          "2023-12-06T00:00:00",
          "2023-12-07T00:00:00",
          "2023-12-08T00:00:00",
          "2023-12-11T00:00:00",
          "2023-12-12T00:00:00",
          "2023-12-13T00:00:00",
          "2023-12-14T00:00:00",
          "2023-12-15T00:00:00",
          "2023-12-18T00:00:00",
          "2023-12-19T00:00:00",
          "2023-12-20T00:00:00",
          "2023-12-21T00:00:00",
          "2023-12-22T00:00:00",
          "2023-12-27T00:00:00",
          "2023-12-28T00:00:00",
          "2023-12-29T00:00:00",
          "2024-01-02T00:00:00",
          "2024-01-03T00:00:00",
          "2024-01-04T00:00:00",
          "2024-01-05T00:00:00",
          "2024-01-08T00:00:00",
          "2024-01-09T00:00:00",
          "2024-01-10T00:00:00",
          "2024-01-11T00:00:00",
          "2024-01-12T00:00:00",
          "2024-01-15T00:00:00",
          "2024-01-16T00:00:00",
          "2024-01-17T00:00:00",
          "2024-01-18T00:00:00",
          "2024-01-19T00:00:00",
          "2024-01-22T00:00:00",
          "2024-01-23T00:00:00",
          "2024-01-24T00:00:00",
          "2024-01-25T00:00:00",
          "2024-01-26T00:00:00",
          "2024-01-29T00:00:00",
          "2024-01-30T00:00:00",
          "2024-01-31T00:00:00",
          "2024-02-01T00:00:00",
          "2024-02-02T00:00:00",
          "2024-02-05T00:00:00",
          "2024-02-06T00:00:00",
          "2024-02-07T00:00:00",
          "2024-02-12T00:00:00",
          "2024-02-13T00:00:00",
          "2024-02-15T00:00:00",
          "2024-02-16T00:00:00",
          "2024-02-19T00:00:00",
          "2024-02-20T00:00:00",
          "2024-02-21T00:00:00",
          "2024-02-22T00:00:00",
          "2024-02-23T00:00:00",
          "2024-02-26T00:00:00",
          "2024-02-27T00:00:00",
          "2024-02-28T00:00:00",
          "2024-02-29T00:00:00",
          "2024-03-01T00:00:00",
          "2024-03-04T00:00:00",
          "2024-03-05T00:00:00",
          "2024-03-06T00:00:00",
          "2024-03-07T00:00:00",
          "2024-03-08T00:00:00",
          "2024-03-13T00:00:00",
          "2024-03-14T00:00:00",
          "2024-03-15T00:00:00",
          "2024-03-18T00:00:00",
          "2024-03-19T00:00:00",
          "2024-03-20T00:00:00",
          "2024-03-21T00:00:00",
          "2024-03-22T00:00:00",
          "2024-03-25T00:00:00",
          "2024-03-26T00:00:00",
          "2024-03-27T00:00:00",
          "2024-03-28T00:00:00",
          "2024-04-01T00:00:00",
          "2024-04-02T00:00:00",
          "2024-04-03T00:00:00",
          "2024-04-04T00:00:00",
          "2024-04-05T00:00:00",
          "2024-04-16T00:00:00",
          "2024-04-17T00:00:00",
          "2024-04-18T00:00:00",
          "2024-04-19T00:00:00",
          "2024-04-22T00:00:00",
          "2024-04-23T00:00:00",
          "2024-04-24T00:00:00",
          "2024-04-25T00:00:00",
          "2024-04-26T00:00:00",
          "2024-04-29T00:00:00",
          "2024-04-30T00:00:00",
          "2024-05-02T00:00:00",
          "2024-05-03T00:00:00",
          "2024-05-06T00:00:00",
          "2024-05-07T00:00:00",
          "2024-05-08T00:00:00",
          "2024-05-13T00:00:00",
          "2024-05-14T00:00:00",
          "2024-05-15T00:00:00",
          "2024-05-16T00:00:00",
          "2024-05-17T00:00:00",
          "2024-05-20T00:00:00",
          "2024-05-21T00:00:00",
          "2024-05-22T00:00:00",
          "2024-05-27T00:00:00",
          "2024-05-28T00:00:00",
          "2024-05-29T00:00:00",
          "2024-05-30T00:00:00",
          "2024-05-31T00:00:00",
          "2024-06-03T00:00:00",
          "2024-06-04T00:00:00",
          "2024-06-05T00:00:00",
          "2024-06-06T00:00:00",
          "2024-06-07T00:00:00",
          "2024-06-10T00:00:00",
          "2024-06-11T00:00:00",
          "2024-06-12T00:00:00",
          "2024-06-13T00:00:00",
          "2024-06-14T00:00:00",
          "2024-06-19T00:00:00",
          "2024-06-20T00:00:00",
          "2024-06-21T00:00:00",
          "2024-06-24T00:00:00",
          "2024-06-25T00:00:00",
          "2024-06-26T00:00:00",
          "2024-06-27T00:00:00",
          "2024-06-28T00:00:00",
          "2024-07-01T00:00:00",
          "2024-07-02T00:00:00",
          "2024-07-03T00:00:00",
          "2024-07-04T00:00:00",
          "2024-07-05T00:00:00",
          "2024-07-08T00:00:00",
          "2024-07-09T00:00:00",
          "2024-07-10T00:00:00",
          "2024-07-11T00:00:00",
          "2024-07-12T00:00:00",
          "2024-07-15T00:00:00",
          "2024-07-16T00:00:00",
          "2024-07-17T00:00:00",
          "2024-07-18T00:00:00",
          "2024-07-19T00:00:00",
          "2024-07-22T00:00:00",
          "2024-07-23T00:00:00",
          "2024-07-24T00:00:00",
          "2024-07-25T00:00:00",
          "2024-07-26T00:00:00",
          "2024-07-29T00:00:00",
          "2024-07-30T00:00:00",
          "2024-07-31T00:00:00",
          "2024-08-01T00:00:00",
          "2024-08-02T00:00:00",
          "2024-08-05T00:00:00",
          "2024-08-06T00:00:00",
          "2024-08-07T00:00:00",
          "2024-08-08T00:00:00",
          "2024-08-09T00:00:00",
          "2024-08-12T00:00:00",
          "2024-08-13T00:00:00",
          "2024-08-14T00:00:00",
          "2024-08-15T00:00:00",
          "2024-08-16T00:00:00",
          "2024-08-19T00:00:00",
          "2024-08-20T00:00:00",
          "2024-08-21T00:00:00",
          "2024-08-22T00:00:00",
          "2024-08-23T00:00:00",
          "2024-08-26T00:00:00",
          "2024-08-27T00:00:00",
          "2024-08-28T00:00:00",
          "2024-08-29T00:00:00",
          "2024-08-30T00:00:00",
          "2024-09-02T00:00:00",
          "2024-09-03T00:00:00",
          "2024-09-04T00:00:00",
          "2024-09-05T00:00:00",
          "2024-09-06T00:00:00",
          "2024-09-09T00:00:00",
          "2024-09-10T00:00:00",
          "2024-09-11T00:00:00",
          "2024-09-12T00:00:00",
          "2024-09-13T00:00:00",
          "2024-09-17T00:00:00",
          "2024-09-18T00:00:00",
          "2024-09-19T00:00:00",
          "2024-09-20T00:00:00",
          "2024-09-23T00:00:00",
          "2024-09-24T00:00:00",
          "2024-09-25T00:00:00",
          "2024-09-26T00:00:00",
          "2024-09-27T00:00:00",
          "2024-09-30T00:00:00",
          "2024-10-01T00:00:00",
          "2024-10-02T00:00:00",
          "2024-10-03T00:00:00",
          "2024-10-04T00:00:00",
          "2024-10-07T00:00:00",
          "2024-10-08T00:00:00",
          "2024-10-09T00:00:00",
          "2024-10-10T00:00:00",
          "2024-10-11T00:00:00",
          "2024-10-14T00:00:00",
          "2024-10-15T00:00:00",
          "2024-10-16T00:00:00",
          "2024-10-17T00:00:00",
          "2024-10-18T00:00:00",
          "2024-10-21T00:00:00",
          "2024-10-22T00:00:00",
          "2024-10-23T00:00:00",
          "2024-10-24T00:00:00",
          "2024-10-25T00:00:00",
          "2024-10-28T00:00:00",
          "2024-10-29T00:00:00",
          "2024-10-30T00:00:00",
          "2024-10-31T00:00:00"
         ],
         "xaxis": "x",
         "y": [
          8.184134034925062,
          8.53022297218695,
          6.003787317973249,
          6.189713945618277,
          7.580324713983343,
          3.646233325162641,
          6.253343442299498,
          1.4715834469597744,
          10.023593007547861,
          9.832682900552722,
          8.145680566378166,
          3.2910397911577904,
          7.492630146067075,
          8.568677984801809,
          7.50492324315333,
          8.33795254131654,
          7.203318131867263,
          8.83785844090194,
          7.618026221432331,
          5.634904849443724,
          3.5302514321669016,
          4.12374560708278,
          9.678132505946856,
          3.0373301240114685,
          3.102570855611924,
          1.7180437150205001,
          3.7388094639434697,
          4.16060945766192,
          3.9468000507436884,
          3.5882435367157433,
          3.8202042345712965,
          5.560929325377407,
          8.645586465963566,
          7.004424421470195,
          8.480361929530494,
          2.517765923157002,
          9.871321657255162,
          10.6165151052835,
          6.078751817569773,
          7.267304308247903,
          3.9394278982550452,
          5.480325889580542,
          8.29949752870168,
          4.255134982245851,
          8.760949959740183,
          11.288493482717229,
          3.6752286054030807,
          5.727585984846026,
          9.86548044815169,
          7.806530670541342,
          4.418654867647934,
          6.596574309762142,
          4.480431482773729,
          4.418654867647934,
          8.645586465963566,
          2.906851748946481,
          10.576986965434457,
          10.932740224075843,
          4.451348190659407,
          5.727585984846026,
          8.645586465963566,
          9.58878346920839,
          2.25445601345164,
          5.560929325377407,
          11.565190461660528,
          9.667839748906475,
          3.570793252633557,
          6.140679751355928,
          5.560929325377407,
          6.628883159850865,
          6.140679751355928,
          3.629774332712607,
          3.8435837396308385,
          5.782605758566376,
          7.192195438296852,
          3.5044384759979024,
          4.887596028306276,
          7.806530670541342,
          10.497930685736373,
          3.8709477120685234,
          4.013155599413325,
          2.6602787639244667,
          4.604034895234111,
          10.497930685736373,
          7.768829163092354,
          8.453314491025193,
          7.806530670541342,
          5.098448545075643,
          4.081162528769232,
          4.057391602481107,
          3.5191843250431516,
          8.376406009863436,
          3.784601887517808,
          2.5806542672160506,
          5.952910278597235,
          4.352300091012279,
          3.9496635247808003,
          3.600283406656091,
          10.33497438514073,
          4.359672243500922,
          7.731127655643367,
          3.1305702120163237,
          4.418654867647934,
          3.976292520868167,
          7.618026221432331,
          4.618576155274282,
          6.263687925616631,
          7.530182650957648,
          8.83785844090194,
          4.367045940057527,
          9.746896028604562,
          5.652476342860993,
          8.20615707627924,
          10.063121147396904,
          8.20615707627924,
          7.429521000289337,
          8.684041478578427,
          8.184134034925062,
          2.290702236845638,
          3.682477232454694,
          1.88476522534356,
          5.3674676460736555,
          8.261044060154783,
          8.60713299741667,
          7.9808327825280285,
          4.109001302105495,
          5.782853581474412,
          10.6165151052835,
          8.645586465963566,
          5.727585984846026,
          4.949489220563266,
          5.990464327555771,
          4.938491596497844,
          8.79940342828708,
          5.672015750896919,
          3.09532222856031,
          6.485611409679656,
          5.597917473427556,
          8.673549536770839,
          5.524560348580361,
          4.094254681026266,
          6.522599557729805,
          7.117085796311819,
          5.67189145342591,
          2.7183828134006154,
          9.746896028604562,
          2.5879036663016475,
          4.74944981173776,
          6.553775833967776,
          4.574951603119789,
          3.873073893653373,
          2.819866680259144,
          5.523943493429201,
          4.241709311308842,
          8.684041478578427,
          2.6676401079373697,
          10.260761846642119,
          6.337662677648968,
          5.6900319358874905,
          9.059927839387454,
          8.53022297218695,
          5.560929325377407,
          6.0655724254728405,
          4.153236533139296,
          6.078751817569773,
          11.525662321811485,
          6.403559638133636,
          6.591329882926312,
          8.953221934678556,
          10.656043245132544,
          8.453314491025193,
          4.285945314376625,
          5.61492306593644,
          2.957593682375746,
          4.931220580460768,
          11.01179650377393,
          9.330392960032679,
          9.09856505202193,
          5.486956117413034,
          7.881932141371353,
          2.1457250636094596,
          2.7172818929431006,
          8.876311909448836,
          2.848860416431621,
          1.6238077031796048,
          8.83785844090194,
          4.44814656573843,
          6.411637429681302,
          5.952910278597235,
          3.7477372649046865,
          8.145680566378166,
          3.650743547682135,
          8.18353648062344,
          6.891763046628571,
          11.1699090631701,
          8.722494947125323,
          8.60713299741667,
          8.60713299741667,
          4.315437012467121,
          8.645586465963566,
          6.591329882926312,
          1.8920146244291554,
          7.429521000289337,
          7.004424421470195,
          3.0663261762858887,
          3.983664673356809,
          11.486134181962443,
          7.530182650957648,
          3.5302514321669016,
          3.8202042345712965,
          5.990464327555771,
          4.396536094080061,
          3.8288378905855898,
          10.972268363924886,
          6.15272656960211,
          4.982115376618355,
          4.374418864580152,
          9.068583884387209,
          5.560929325377407,
          3.976292520868167,
          11.525662321811485,
          11.090852783472014,
          3.2402986297625067,
          8.60713299741667,
          3.102570855611924,
          5.765139261770581,
          5.597917473427556
         ],
         "yaxis": "y"
        },
        {
         "mode": "lines",
         "type": "scatter",
         "x": [
          "2023-11-17T00:00:00",
          "2023-11-20T00:00:00",
          "2023-11-21T00:00:00",
          "2023-11-22T00:00:00",
          "2023-11-23T00:00:00",
          "2023-11-24T00:00:00",
          "2023-11-27T00:00:00",
          "2023-11-28T00:00:00",
          "2023-11-29T00:00:00",
          "2023-11-30T00:00:00",
          "2023-12-01T00:00:00",
          "2023-12-04T00:00:00",
          "2023-12-05T00:00:00",
          "2023-12-06T00:00:00",
          "2023-12-07T00:00:00",
          "2023-12-08T00:00:00",
          "2023-12-11T00:00:00",
          "2023-12-12T00:00:00",
          "2023-12-13T00:00:00",
          "2023-12-14T00:00:00",
          "2023-12-15T00:00:00",
          "2023-12-18T00:00:00",
          "2023-12-19T00:00:00",
          "2023-12-20T00:00:00",
          "2023-12-21T00:00:00",
          "2023-12-22T00:00:00",
          "2023-12-27T00:00:00",
          "2023-12-28T00:00:00",
          "2023-12-29T00:00:00",
          "2024-01-02T00:00:00",
          "2024-01-03T00:00:00",
          "2024-01-04T00:00:00",
          "2024-01-05T00:00:00",
          "2024-01-08T00:00:00",
          "2024-01-09T00:00:00",
          "2024-01-10T00:00:00",
          "2024-01-11T00:00:00",
          "2024-01-12T00:00:00",
          "2024-01-15T00:00:00",
          "2024-01-16T00:00:00",
          "2024-01-17T00:00:00",
          "2024-01-18T00:00:00",
          "2024-01-19T00:00:00",
          "2024-01-22T00:00:00",
          "2024-01-23T00:00:00",
          "2024-01-24T00:00:00",
          "2024-01-25T00:00:00",
          "2024-01-26T00:00:00",
          "2024-01-29T00:00:00",
          "2024-01-30T00:00:00",
          "2024-01-31T00:00:00",
          "2024-02-01T00:00:00",
          "2024-02-02T00:00:00",
          "2024-02-05T00:00:00",
          "2024-02-06T00:00:00",
          "2024-02-07T00:00:00",
          "2024-02-12T00:00:00",
          "2024-02-13T00:00:00",
          "2024-02-15T00:00:00",
          "2024-02-16T00:00:00",
          "2024-02-19T00:00:00",
          "2024-02-20T00:00:00",
          "2024-02-21T00:00:00",
          "2024-02-22T00:00:00",
          "2024-02-23T00:00:00",
          "2024-02-26T00:00:00",
          "2024-02-27T00:00:00",
          "2024-02-28T00:00:00",
          "2024-02-29T00:00:00",
          "2024-03-01T00:00:00",
          "2024-03-04T00:00:00",
          "2024-03-05T00:00:00",
          "2024-03-06T00:00:00",
          "2024-03-07T00:00:00",
          "2024-03-08T00:00:00",
          "2024-03-13T00:00:00",
          "2024-03-14T00:00:00",
          "2024-03-15T00:00:00",
          "2024-03-18T00:00:00",
          "2024-03-19T00:00:00",
          "2024-03-20T00:00:00",
          "2024-03-21T00:00:00",
          "2024-03-22T00:00:00",
          "2024-03-25T00:00:00",
          "2024-03-26T00:00:00",
          "2024-03-27T00:00:00",
          "2024-03-28T00:00:00",
          "2024-04-01T00:00:00",
          "2024-04-02T00:00:00",
          "2024-04-03T00:00:00",
          "2024-04-04T00:00:00",
          "2024-04-05T00:00:00",
          "2024-04-16T00:00:00",
          "2024-04-17T00:00:00",
          "2024-04-18T00:00:00",
          "2024-04-19T00:00:00",
          "2024-04-22T00:00:00",
          "2024-04-23T00:00:00",
          "2024-04-24T00:00:00",
          "2024-04-25T00:00:00",
          "2024-04-26T00:00:00",
          "2024-04-29T00:00:00",
          "2024-04-30T00:00:00",
          "2024-05-02T00:00:00",
          "2024-05-03T00:00:00",
          "2024-05-06T00:00:00",
          "2024-05-07T00:00:00",
          "2024-05-08T00:00:00",
          "2024-05-13T00:00:00",
          "2024-05-14T00:00:00",
          "2024-05-15T00:00:00",
          "2024-05-16T00:00:00",
          "2024-05-17T00:00:00",
          "2024-05-20T00:00:00",
          "2024-05-21T00:00:00",
          "2024-05-22T00:00:00",
          "2024-05-27T00:00:00",
          "2024-05-28T00:00:00",
          "2024-05-29T00:00:00",
          "2024-05-30T00:00:00",
          "2024-05-31T00:00:00",
          "2024-06-03T00:00:00",
          "2024-06-04T00:00:00",
          "2024-06-05T00:00:00",
          "2024-06-06T00:00:00",
          "2024-06-07T00:00:00",
          "2024-06-10T00:00:00",
          "2024-06-11T00:00:00",
          "2024-06-12T00:00:00",
          "2024-06-13T00:00:00",
          "2024-06-14T00:00:00",
          "2024-06-19T00:00:00",
          "2024-06-20T00:00:00",
          "2024-06-21T00:00:00",
          "2024-06-24T00:00:00",
          "2024-06-25T00:00:00",
          "2024-06-26T00:00:00",
          "2024-06-27T00:00:00",
          "2024-06-28T00:00:00",
          "2024-07-01T00:00:00",
          "2024-07-02T00:00:00",
          "2024-07-03T00:00:00",
          "2024-07-04T00:00:00",
          "2024-07-05T00:00:00",
          "2024-07-08T00:00:00",
          "2024-07-09T00:00:00",
          "2024-07-10T00:00:00",
          "2024-07-11T00:00:00",
          "2024-07-12T00:00:00",
          "2024-07-15T00:00:00",
          "2024-07-16T00:00:00",
          "2024-07-17T00:00:00",
          "2024-07-18T00:00:00",
          "2024-07-19T00:00:00",
          "2024-07-22T00:00:00",
          "2024-07-23T00:00:00",
          "2024-07-24T00:00:00",
          "2024-07-25T00:00:00",
          "2024-07-26T00:00:00",
          "2024-07-29T00:00:00",
          "2024-07-30T00:00:00",
          "2024-07-31T00:00:00",
          "2024-08-01T00:00:00",
          "2024-08-02T00:00:00",
          "2024-08-05T00:00:00",
          "2024-08-06T00:00:00",
          "2024-08-07T00:00:00",
          "2024-08-08T00:00:00",
          "2024-08-09T00:00:00",
          "2024-08-12T00:00:00",
          "2024-08-13T00:00:00",
          "2024-08-14T00:00:00",
          "2024-08-15T00:00:00",
          "2024-08-16T00:00:00",
          "2024-08-19T00:00:00",
          "2024-08-20T00:00:00",
          "2024-08-21T00:00:00",
          "2024-08-22T00:00:00",
          "2024-08-23T00:00:00",
          "2024-08-26T00:00:00",
          "2024-08-27T00:00:00",
          "2024-08-28T00:00:00",
          "2024-08-29T00:00:00",
          "2024-08-30T00:00:00",
          "2024-09-02T00:00:00",
          "2024-09-03T00:00:00",
          "2024-09-04T00:00:00",
          "2024-09-05T00:00:00",
          "2024-09-06T00:00:00",
          "2024-09-09T00:00:00",
          "2024-09-10T00:00:00",
          "2024-09-11T00:00:00",
          "2024-09-12T00:00:00",
          "2024-09-13T00:00:00",
          "2024-09-17T00:00:00",
          "2024-09-18T00:00:00",
          "2024-09-19T00:00:00",
          "2024-09-20T00:00:00",
          "2024-09-23T00:00:00",
          "2024-09-24T00:00:00",
          "2024-09-25T00:00:00",
          "2024-09-26T00:00:00",
          "2024-09-27T00:00:00",
          "2024-09-30T00:00:00",
          "2024-10-01T00:00:00",
          "2024-10-02T00:00:00",
          "2024-10-03T00:00:00",
          "2024-10-04T00:00:00",
          "2024-10-07T00:00:00",
          "2024-10-08T00:00:00",
          "2024-10-09T00:00:00",
          "2024-10-10T00:00:00",
          "2024-10-11T00:00:00",
          "2024-10-14T00:00:00",
          "2024-10-15T00:00:00",
          "2024-10-16T00:00:00",
          "2024-10-17T00:00:00",
          "2024-10-18T00:00:00",
          "2024-10-21T00:00:00",
          "2024-10-22T00:00:00",
          "2024-10-23T00:00:00",
          "2024-10-24T00:00:00",
          "2024-10-25T00:00:00",
          "2024-10-28T00:00:00",
          "2024-10-29T00:00:00",
          "2024-10-30T00:00:00",
          "2024-10-31T00:00:00"
         ],
         "y": [
          8.676335453987122,
          8.251916110515594,
          5.810098350048065,
          6.283765286207199,
          7.617883801460266,
          3.8003067970275883,
          6.408498972654343,
          2.05862720310688,
          10.023379802703857,
          9.655850648880005,
          8.209593176841736,
          3.1924607008695607,
          7.249181687831879,
          8.421629428863525,
          7.6385709047317505,
          8.48629629611969,
          7.273149013519287,
          8.787630259990692,
          7.673589885234833,
          5.669674932956696,
          3.468531280755997,
          4.009353935718536,
          9.650907695293427,
          3.2222328335046773,
          3.280928194522858,
          1.7990508377552032,
          4.153472930192947,
          4.004364430904388,
          3.620513498783112,
          3.5561770796775822,
          3.9497762322425847,
          5.723532736301422,
          8.768380999565125,
          6.339500546455383,
          8.451249122619629,
          2.1722974330186844,
          9.925826787948608,
          10.44395637512207,
          5.971002012491226,
          7.214748203754425,
          3.6313796043396,
          4.981821537017822,
          8.58162271976471,
          4.051151365041733,
          8.808874666690826,
          11.257745265960692,
          3.3366650938987736,
          6.085873395204544,
          9.722515940666199,
          7.901354551315308,
          4.2320563197135925,
          6.554352819919586,
          4.307902365922928,
          4.4105084836483,
          8.763651132583618,
          2.8838255703449254,
          10.49754273891449,
          10.655241250991821,
          4.626259654760361,
          6.082452863454819,
          8.819633901119232,
          9.700322151184082,
          1.8850814402103424,
          5.553115248680115,
          11.241718530654905,
          10.284978032112122,
          3.839105606079102,
          5.838633596897125,
          5.722298800945282,
          6.361260294914246,
          6.403303265571594,
          3.4259405136108403,
          4.143568992614746,
          5.307152330875397,
          7.4929468631744385,
          3.7052634507417683,
          4.675345957279205,
          8.036141991615295,
          10.045181512832642,
          3.874680578708649,
          4.181207299232483,
          2.6196429282426834,
          4.961945474147797,
          10.783642649650574,
          7.8460752964019775,
          8.476335644721985,
          8.108331143856049,
          4.780656963586807,
          3.827955603599549,
          4.20379513502121,
          3.300707876682282,
          8.375882029533386,
          3.2706744670867924,
          3.2707513421773915,
          6.092828214168549,
          4.484201371669769,
          4.2233492732048035,
          3.267277374863625,
          10.419357657432556,
          4.415735989809036,
          7.827820003032684,
          3.1545111238956456,
          4.2890002727508545,
          4.070736974477768,
          7.808405518531799,
          4.596498996019363,
          6.504492521286011,
          7.332610666751862,
          8.977959871292114,
          4.3720899522304535,
          9.997607469558716,
          5.575374931097031,
          8.027493953704834,
          10.09484314918518,
          8.158287823200226,
          7.644079029560089,
          8.711570143699646,
          8.075700044631958,
          1.844912976026535,
          3.6507411450147633,
          2.075599879026413,
          4.710962563753128,
          7.8395732045173645,
          8.59241670370102,
          7.7773696184158325,
          4.03178933262825,
          5.6235052943229675,
          10.330947041511536,
          8.472090303897858,
          6.0430203676223755,
          4.668868780136108,
          6.478089451789856,
          4.679168403148651,
          9.033509910106659,
          5.872673034667969,
          2.9720386713743214,
          6.536408305168152,
          5.628989160060883,
          8.47119140625,
          5.907796263694763,
          4.160722464323044,
          6.3845542669296265,
          7.086021602153778,
          5.742831170558929,
          2.65532149374485,
          10.411973714828491,
          3.4199491739273076,
          4.709879100322723,
          6.21975439786911,
          4.6782088577747345,
          4.183724999427795,
          3.1412828713655476,
          5.751696228981018,
          3.9658741056919102,
          8.695555210113525,
          3.357489883899689,
          9.994853734970093,
          6.530301570892334,
          5.748199641704559,
          8.516081869602203,
          8.6039417386055,
          5.520375967025757,
          6.012756824493408,
          3.977595835924149,
          6.55203115940094,
          11.444205880165098,
          6.442626595497131,
          6.446040898561478,
          9.120697736740112,
          10.61851954460144,
          8.615102887153625,
          4.3956838846206665,
          6.523242831230164,
          2.6917760223150253,
          4.693937599658966,
          11.08325159549713,
          9.229185700416565,
          8.651766896247864,
          5.740689158439636,
          7.82811963558197,
          1.9337340295314789,
          2.678622841835022,
          9.018774151802063,
          3.562635570764542,
          2.019929200410843,
          9.036691784858704,
          4.4005012810230255,
          6.520188808441162,
          5.920290678739548,
          3.867950320243836,
          8.402268052101135,
          3.9825227260589604,
          8.134758472442627,
          6.316361308097839,
          11.166662216186522,
          8.968600451946259,
          8.511314630508423,
          8.816238284111023,
          4.379193603992462,
          8.454120874404907,
          6.365691840648651,
          2.0809232741594315,
          8.188219606876373,
          7.472365319728851,
          2.226126551628113,
          3.6386145502328877,
          11.235256433486937,
          7.472554802894592,
          3.5041198581457143,
          3.331635266542435,
          5.7860352993011475,
          4.534107565879822,
          3.8216983973979954,
          10.59825074672699,
          6.126887649297714,
          5.028387516736984,
          4.248826563358307,
          8.927748799324036,
          5.55669641494751,
          4.119397431612015,
          11.234174609184263,
          11.272490859031675,
          2.6197040677070618,
          8.297354698181152,
          2.726647973060608,
          6.056367456912994,
          5.566024363040924
         ]
        }
       ],
       "layout": {
        "legend": {
         "tracegroupgap": 0
        },
        "template": {
         "data": {
          "bar": [
           {
            "error_x": {
             "color": "#2a3f5f"
            },
            "error_y": {
             "color": "#2a3f5f"
            },
            "marker": {
             "line": {
              "color": "#E5ECF6",
              "width": 0.5
             },
             "pattern": {
              "fillmode": "overlay",
              "size": 10,
              "solidity": 0.2
             }
            },
            "type": "bar"
           }
          ],
          "barpolar": [
           {
            "marker": {
             "line": {
              "color": "#E5ECF6",
              "width": 0.5
             },
             "pattern": {
              "fillmode": "overlay",
              "size": 10,
              "solidity": 0.2
             }
            },
            "type": "barpolar"
           }
          ],
          "carpet": [
           {
            "aaxis": {
             "endlinecolor": "#2a3f5f",
             "gridcolor": "white",
             "linecolor": "white",
             "minorgridcolor": "white",
             "startlinecolor": "#2a3f5f"
            },
            "baxis": {
             "endlinecolor": "#2a3f5f",
             "gridcolor": "white",
             "linecolor": "white",
             "minorgridcolor": "white",
             "startlinecolor": "#2a3f5f"
            },
            "type": "carpet"
           }
          ],
          "choropleth": [
           {
            "colorbar": {
             "outlinewidth": 0,
             "ticks": ""
            },
            "type": "choropleth"
           }
          ],
          "contour": [
           {
            "colorbar": {
             "outlinewidth": 0,
             "ticks": ""
            },
            "colorscale": [
             [
              0,
              "#0d0887"
             ],
             [
              0.1111111111111111,
              "#46039f"
             ],
             [
              0.2222222222222222,
              "#7201a8"
             ],
             [
              0.3333333333333333,
              "#9c179e"
             ],
             [
              0.4444444444444444,
              "#bd3786"
             ],
             [
              0.5555555555555556,
              "#d8576b"
             ],
             [
              0.6666666666666666,
              "#ed7953"
             ],
             [
              0.7777777777777778,
              "#fb9f3a"
             ],
             [
              0.8888888888888888,
              "#fdca26"
             ],
             [
              1,
              "#f0f921"
             ]
            ],
            "type": "contour"
           }
          ],
          "contourcarpet": [
           {
            "colorbar": {
             "outlinewidth": 0,
             "ticks": ""
            },
            "type": "contourcarpet"
           }
          ],
          "heatmap": [
           {
            "colorbar": {
             "outlinewidth": 0,
             "ticks": ""
            },
            "colorscale": [
             [
              0,
              "#0d0887"
             ],
             [
              0.1111111111111111,
              "#46039f"
             ],
             [
              0.2222222222222222,
              "#7201a8"
             ],
             [
              0.3333333333333333,
              "#9c179e"
             ],
             [
              0.4444444444444444,
              "#bd3786"
             ],
             [
              0.5555555555555556,
              "#d8576b"
             ],
             [
              0.6666666666666666,
              "#ed7953"
             ],
             [
              0.7777777777777778,
              "#fb9f3a"
             ],
             [
              0.8888888888888888,
              "#fdca26"
             ],
             [
              1,
              "#f0f921"
             ]
            ],
            "type": "heatmap"
           }
          ],
          "heatmapgl": [
           {
            "colorbar": {
             "outlinewidth": 0,
             "ticks": ""
            },
            "colorscale": [
             [
              0,
              "#0d0887"
             ],
             [
              0.1111111111111111,
              "#46039f"
             ],
             [
              0.2222222222222222,
              "#7201a8"
             ],
             [
              0.3333333333333333,
              "#9c179e"
             ],
             [
              0.4444444444444444,
              "#bd3786"
             ],
             [
              0.5555555555555556,
              "#d8576b"
             ],
             [
              0.6666666666666666,
              "#ed7953"
             ],
             [
              0.7777777777777778,
              "#fb9f3a"
             ],
             [
              0.8888888888888888,
              "#fdca26"
             ],
             [
              1,
              "#f0f921"
             ]
            ],
            "type": "heatmapgl"
           }
          ],
          "histogram": [
           {
            "marker": {
             "pattern": {
              "fillmode": "overlay",
              "size": 10,
              "solidity": 0.2
             }
            },
            "type": "histogram"
           }
          ],
          "histogram2d": [
           {
            "colorbar": {
             "outlinewidth": 0,
             "ticks": ""
            },
            "colorscale": [
             [
              0,
              "#0d0887"
             ],
             [
              0.1111111111111111,
              "#46039f"
             ],
             [
              0.2222222222222222,
              "#7201a8"
             ],
             [
              0.3333333333333333,
              "#9c179e"
             ],
             [
              0.4444444444444444,
              "#bd3786"
             ],
             [
              0.5555555555555556,
              "#d8576b"
             ],
             [
              0.6666666666666666,
              "#ed7953"
             ],
             [
              0.7777777777777778,
              "#fb9f3a"
             ],
             [
              0.8888888888888888,
              "#fdca26"
             ],
             [
              1,
              "#f0f921"
             ]
            ],
            "type": "histogram2d"
           }
          ],
          "histogram2dcontour": [
           {
            "colorbar": {
             "outlinewidth": 0,
             "ticks": ""
            },
            "colorscale": [
             [
              0,
              "#0d0887"
             ],
             [
              0.1111111111111111,
              "#46039f"
             ],
             [
              0.2222222222222222,
              "#7201a8"
             ],
             [
              0.3333333333333333,
              "#9c179e"
             ],
             [
              0.4444444444444444,
              "#bd3786"
             ],
             [
              0.5555555555555556,
              "#d8576b"
             ],
             [
              0.6666666666666666,
              "#ed7953"
             ],
             [
              0.7777777777777778,
              "#fb9f3a"
             ],
             [
              0.8888888888888888,
              "#fdca26"
             ],
             [
              1,
              "#f0f921"
             ]
            ],
            "type": "histogram2dcontour"
           }
          ],
          "mesh3d": [
           {
            "colorbar": {
             "outlinewidth": 0,
             "ticks": ""
            },
            "type": "mesh3d"
           }
          ],
          "parcoords": [
           {
            "line": {
             "colorbar": {
              "outlinewidth": 0,
              "ticks": ""
             }
            },
            "type": "parcoords"
           }
          ],
          "pie": [
           {
            "automargin": true,
            "type": "pie"
           }
          ],
          "scatter": [
           {
            "fillpattern": {
             "fillmode": "overlay",
             "size": 10,
             "solidity": 0.2
            },
            "type": "scatter"
           }
          ],
          "scatter3d": [
           {
            "line": {
             "colorbar": {
              "outlinewidth": 0,
              "ticks": ""
             }
            },
            "marker": {
             "colorbar": {
              "outlinewidth": 0,
              "ticks": ""
             }
            },
            "type": "scatter3d"
           }
          ],
          "scattercarpet": [
           {
            "marker": {
             "colorbar": {
              "outlinewidth": 0,
              "ticks": ""
             }
            },
            "type": "scattercarpet"
           }
          ],
          "scattergeo": [
           {
            "marker": {
             "colorbar": {
              "outlinewidth": 0,
              "ticks": ""
             }
            },
            "type": "scattergeo"
           }
          ],
          "scattergl": [
           {
            "marker": {
             "colorbar": {
              "outlinewidth": 0,
              "ticks": ""
             }
            },
            "type": "scattergl"
           }
          ],
          "scattermapbox": [
           {
            "marker": {
             "colorbar": {
              "outlinewidth": 0,
              "ticks": ""
             }
            },
            "type": "scattermapbox"
           }
          ],
          "scatterpolar": [
           {
            "marker": {
             "colorbar": {
              "outlinewidth": 0,
              "ticks": ""
             }
            },
            "type": "scatterpolar"
           }
          ],
          "scatterpolargl": [
           {
            "marker": {
             "colorbar": {
              "outlinewidth": 0,
              "ticks": ""
             }
            },
            "type": "scatterpolargl"
           }
          ],
          "scatterternary": [
           {
            "marker": {
             "colorbar": {
              "outlinewidth": 0,
              "ticks": ""
             }
            },
            "type": "scatterternary"
           }
          ],
          "surface": [
           {
            "colorbar": {
             "outlinewidth": 0,
             "ticks": ""
            },
            "colorscale": [
             [
              0,
              "#0d0887"
             ],
             [
              0.1111111111111111,
              "#46039f"
             ],
             [
              0.2222222222222222,
              "#7201a8"
             ],
             [
              0.3333333333333333,
              "#9c179e"
             ],
             [
              0.4444444444444444,
              "#bd3786"
             ],
             [
              0.5555555555555556,
              "#d8576b"
             ],
             [
              0.6666666666666666,
              "#ed7953"
             ],
             [
              0.7777777777777778,
              "#fb9f3a"
             ],
             [
              0.8888888888888888,
              "#fdca26"
             ],
             [
              1,
              "#f0f921"
             ]
            ],
            "type": "surface"
           }
          ],
          "table": [
           {
            "cells": {
             "fill": {
              "color": "#EBF0F8"
             },
             "line": {
              "color": "white"
             }
            },
            "header": {
             "fill": {
              "color": "#C8D4E3"
             },
             "line": {
              "color": "white"
             }
            },
            "type": "table"
           }
          ]
         },
         "layout": {
          "annotationdefaults": {
           "arrowcolor": "#2a3f5f",
           "arrowhead": 0,
           "arrowwidth": 1
          },
          "autotypenumbers": "strict",
          "coloraxis": {
           "colorbar": {
            "outlinewidth": 0,
            "ticks": ""
           }
          },
          "colorscale": {
           "diverging": [
            [
             0,
             "#8e0152"
            ],
            [
             0.1,
             "#c51b7d"
            ],
            [
             0.2,
             "#de77ae"
            ],
            [
             0.3,
             "#f1b6da"
            ],
            [
             0.4,
             "#fde0ef"
            ],
            [
             0.5,
             "#f7f7f7"
            ],
            [
             0.6,
             "#e6f5d0"
            ],
            [
             0.7,
             "#b8e186"
            ],
            [
             0.8,
             "#7fbc41"
            ],
            [
             0.9,
             "#4d9221"
            ],
            [
             1,
             "#276419"
            ]
           ],
           "sequential": [
            [
             0,
             "#0d0887"
            ],
            [
             0.1111111111111111,
             "#46039f"
            ],
            [
             0.2222222222222222,
             "#7201a8"
            ],
            [
             0.3333333333333333,
             "#9c179e"
            ],
            [
             0.4444444444444444,
             "#bd3786"
            ],
            [
             0.5555555555555556,
             "#d8576b"
            ],
            [
             0.6666666666666666,
             "#ed7953"
            ],
            [
             0.7777777777777778,
             "#fb9f3a"
            ],
            [
             0.8888888888888888,
             "#fdca26"
            ],
            [
             1,
             "#f0f921"
            ]
           ],
           "sequentialminus": [
            [
             0,
             "#0d0887"
            ],
            [
             0.1111111111111111,
             "#46039f"
            ],
            [
             0.2222222222222222,
             "#7201a8"
            ],
            [
             0.3333333333333333,
             "#9c179e"
            ],
            [
             0.4444444444444444,
             "#bd3786"
            ],
            [
             0.5555555555555556,
             "#d8576b"
            ],
            [
             0.6666666666666666,
             "#ed7953"
            ],
            [
             0.7777777777777778,
             "#fb9f3a"
            ],
            [
             0.8888888888888888,
             "#fdca26"
            ],
            [
             1,
             "#f0f921"
            ]
           ]
          },
          "colorway": [
           "#636efa",
           "#EF553B",
           "#00cc96",
           "#ab63fa",
           "#FFA15A",
           "#19d3f3",
           "#FF6692",
           "#B6E880",
           "#FF97FF",
           "#FECB52"
          ],
          "font": {
           "color": "#2a3f5f"
          },
          "geo": {
           "bgcolor": "white",
           "lakecolor": "white",
           "landcolor": "#E5ECF6",
           "showlakes": true,
           "showland": true,
           "subunitcolor": "white"
          },
          "hoverlabel": {
           "align": "left"
          },
          "hovermode": "closest",
          "mapbox": {
           "style": "light"
          },
          "paper_bgcolor": "white",
          "plot_bgcolor": "#E5ECF6",
          "polar": {
           "angularaxis": {
            "gridcolor": "white",
            "linecolor": "white",
            "ticks": ""
           },
           "bgcolor": "#E5ECF6",
           "radialaxis": {
            "gridcolor": "white",
            "linecolor": "white",
            "ticks": ""
           }
          },
          "scene": {
           "xaxis": {
            "backgroundcolor": "#E5ECF6",
            "gridcolor": "white",
            "gridwidth": 2,
            "linecolor": "white",
            "showbackground": true,
            "ticks": "",
            "zerolinecolor": "white"
           },
           "yaxis": {
            "backgroundcolor": "#E5ECF6",
            "gridcolor": "white",
            "gridwidth": 2,
            "linecolor": "white",
            "showbackground": true,
            "ticks": "",
            "zerolinecolor": "white"
           },
           "zaxis": {
            "backgroundcolor": "#E5ECF6",
            "gridcolor": "white",
            "gridwidth": 2,
            "linecolor": "white",
            "showbackground": true,
            "ticks": "",
            "zerolinecolor": "white"
           }
          },
          "shapedefaults": {
           "line": {
            "color": "#2a3f5f"
           }
          },
          "ternary": {
           "aaxis": {
            "gridcolor": "white",
            "linecolor": "white",
            "ticks": ""
           },
           "baxis": {
            "gridcolor": "white",
            "linecolor": "white",
            "ticks": ""
           },
           "bgcolor": "#E5ECF6",
           "caxis": {
            "gridcolor": "white",
            "linecolor": "white",
            "ticks": ""
           }
          },
          "title": {
           "x": 0.05
          },
          "xaxis": {
           "automargin": true,
           "gridcolor": "white",
           "linecolor": "white",
           "ticks": "",
           "title": {
            "standoff": 15
           },
           "zerolinecolor": "white",
           "zerolinewidth": 2
          },
          "yaxis": {
           "automargin": true,
           "gridcolor": "white",
           "linecolor": "white",
           "ticks": "",
           "title": {
            "standoff": 15
           },
           "zerolinecolor": "white",
           "zerolinewidth": 2
          }
         }
        },
        "title": {
         "text": "Real Prices vs Predicted Prices"
        },
        "xaxis": {
         "anchor": "y",
         "domain": [
          0,
          1
         ],
         "title": {
          "text": "x"
         }
        },
        "yaxis": {
         "anchor": "x",
         "domain": [
          0,
          1
         ],
         "title": {
          "text": "y"
         }
        }
       }
      }
     },
     "metadata": {},
     "output_type": "display_data"
    }
   ],
   "source": [
    "# conpare real and predicted prices\n",
    "import plotly.express as px\n",
    "\n",
    "fig = px.line(x=data['date'][-len(real_prices):], y=real_prices, title='Real Prices vs Predicted Prices')\n",
    "fig.add_scatter(x=data['date'][-len(predicted_prices):], y=predicted_prices, mode='lines')\n",
    "\n",
    "fig.show()"
   ]
  },
  {
   "cell_type": "code",
   "execution_count": 151,
   "metadata": {},
   "outputs": [
    {
     "data": {
      "text/plain": [
       "0.27541532296791543"
      ]
     },
     "execution_count": 151,
     "metadata": {},
     "output_type": "execute_result"
    }
   ],
   "source": [
    "# calculate RMSE\n",
    "from sklearn.metrics import mean_squared_error\n",
    "\n",
    "rmse = np.sqrt(mean_squared_error(real_prices, predicted_prices))\n",
    "rmse"
   ]
  },
  {
   "cell_type": "code",
   "execution_count": 152,
   "metadata": {},
   "outputs": [
    {
     "data": {
      "text/plain": [
       "0.2091312565996999"
      ]
     },
     "execution_count": 152,
     "metadata": {},
     "output_type": "execute_result"
    }
   ],
   "source": [
    "# calculate MAE\n",
    "from sklearn.metrics import mean_absolute_error\n",
    "\n",
    "mae = mean_absolute_error(real_prices, predicted_prices)\n",
    "mae"
   ]
  },
  {
   "cell_type": "markdown",
   "metadata": {},
   "source": [
    "Directional Accuracy adalah metrik yang digunakan untuk mengukur seberapa baik model memprediksi arah perubahan harga (naik atau turun) dibandingkan dengan nilai aktual. Ini adalah metrik yang sangat berguna dalam prediksi saham karena dalam banyak kasus, arah perubahan harga lebih penting daripada nilai absolut dari harga itu sendiri—terutama jika tujuannya adalah untuk membuat keputusan beli atau jual."
   ]
  },
  {
   "cell_type": "code",
   "execution_count": 153,
   "metadata": {},
   "outputs": [
    {
     "data": {
      "text/plain": [
       "0.9557522123893806"
      ]
     },
     "execution_count": 153,
     "metadata": {},
     "output_type": "execute_result"
    }
   ],
   "source": [
    "# direction accuracy\n",
    "direction_accuracy = np.mean(np.sign(real_prices[1:] - real_prices[:-1]) == np.sign(predicted_prices[1:] - predicted_prices[:-1]))\n",
    "direction_accuracy"
   ]
  }
 ],
 "metadata": {
  "kernelspec": {
   "display_name": "ML",
   "language": "python",
   "name": "ml"
  },
  "language_info": {
   "codemirror_mode": {
    "name": "ipython",
    "version": 3
   },
   "file_extension": ".py",
   "mimetype": "text/x-python",
   "name": "python",
   "nbconvert_exporter": "python",
   "pygments_lexer": "ipython3",
   "version": "3.8.19"
  }
 },
 "nbformat": 4,
 "nbformat_minor": 2
}
