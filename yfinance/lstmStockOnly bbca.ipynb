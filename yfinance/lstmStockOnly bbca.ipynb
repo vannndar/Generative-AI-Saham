{
 "cells": [
  {
   "cell_type": "markdown",
   "metadata": {},
   "source": [
    "# Import Data"
   ]
  },
  {
   "cell_type": "code",
   "execution_count": 1,
   "metadata": {},
   "outputs": [],
   "source": [
    "import pandas as pd\n",
    "import numpy as np "
   ]
  },
  {
   "cell_type": "code",
   "execution_count": 2,
   "metadata": {},
   "outputs": [],
   "source": [
    "data = pd.read_csv('Data/bbca_data_5y.csv')"
   ]
  },
  {
   "cell_type": "code",
   "execution_count": 3,
   "metadata": {},
   "outputs": [],
   "source": [
    "data['date_str'] = pd.to_datetime(data['date_str'])"
   ]
  },
  {
   "cell_type": "code",
   "execution_count": 4,
   "metadata": {},
   "outputs": [],
   "source": [
    "# rename columns\n",
    "data = data.rename(columns={'date_str': 'date'})"
   ]
  },
  {
   "cell_type": "code",
   "execution_count": 5,
   "metadata": {},
   "outputs": [
    {
     "data": {
      "text/html": [
       "<div>\n",
       "<style scoped>\n",
       "    .dataframe tbody tr th:only-of-type {\n",
       "        vertical-align: middle;\n",
       "    }\n",
       "\n",
       "    .dataframe tbody tr th {\n",
       "        vertical-align: top;\n",
       "    }\n",
       "\n",
       "    .dataframe thead th {\n",
       "        text-align: right;\n",
       "    }\n",
       "</style>\n",
       "<table border=\"1\" class=\"dataframe\">\n",
       "  <thead>\n",
       "    <tr style=\"text-align: right;\">\n",
       "      <th></th>\n",
       "      <th>Open</th>\n",
       "      <th>High</th>\n",
       "      <th>Low</th>\n",
       "      <th>Close</th>\n",
       "      <th>Volume</th>\n",
       "      <th>Dividends</th>\n",
       "      <th>Stock Splits</th>\n",
       "      <th>date</th>\n",
       "    </tr>\n",
       "  </thead>\n",
       "  <tbody>\n",
       "    <tr>\n",
       "      <th>0</th>\n",
       "      <td>5633.568658</td>\n",
       "      <td>5660.523532</td>\n",
       "      <td>5615.598742</td>\n",
       "      <td>5651.538574</td>\n",
       "      <td>58420500</td>\n",
       "      <td>0.0</td>\n",
       "      <td>0.0</td>\n",
       "      <td>2019-10-31</td>\n",
       "    </tr>\n",
       "    <tr>\n",
       "      <th>1</th>\n",
       "      <td>5660.522959</td>\n",
       "      <td>5682.985352</td>\n",
       "      <td>5638.060566</td>\n",
       "      <td>5682.985352</td>\n",
       "      <td>42080500</td>\n",
       "      <td>0.0</td>\n",
       "      <td>0.0</td>\n",
       "      <td>2019-11-01</td>\n",
       "    </tr>\n",
       "    <tr>\n",
       "      <th>2</th>\n",
       "      <td>5705.447725</td>\n",
       "      <td>5732.402596</td>\n",
       "      <td>5624.583111</td>\n",
       "      <td>5638.060547</td>\n",
       "      <td>43794500</td>\n",
       "      <td>0.0</td>\n",
       "      <td>0.0</td>\n",
       "      <td>2019-11-04</td>\n",
       "    </tr>\n",
       "    <tr>\n",
       "      <th>3</th>\n",
       "      <td>5705.447660</td>\n",
       "      <td>5714.432617</td>\n",
       "      <td>5633.568005</td>\n",
       "      <td>5714.432617</td>\n",
       "      <td>66161500</td>\n",
       "      <td>0.0</td>\n",
       "      <td>0.0</td>\n",
       "      <td>2019-11-05</td>\n",
       "    </tr>\n",
       "    <tr>\n",
       "      <th>4</th>\n",
       "      <td>5732.401911</td>\n",
       "      <td>5732.401911</td>\n",
       "      <td>5656.029785</td>\n",
       "      <td>5656.029785</td>\n",
       "      <td>63393000</td>\n",
       "      <td>0.0</td>\n",
       "      <td>0.0</td>\n",
       "      <td>2019-11-06</td>\n",
       "    </tr>\n",
       "  </tbody>\n",
       "</table>\n",
       "</div>"
      ],
      "text/plain": [
       "          Open         High          Low        Close    Volume  Dividends  \\\n",
       "0  5633.568658  5660.523532  5615.598742  5651.538574  58420500        0.0   \n",
       "1  5660.522959  5682.985352  5638.060566  5682.985352  42080500        0.0   \n",
       "2  5705.447725  5732.402596  5624.583111  5638.060547  43794500        0.0   \n",
       "3  5705.447660  5714.432617  5633.568005  5714.432617  66161500        0.0   \n",
       "4  5732.401911  5732.401911  5656.029785  5656.029785  63393000        0.0   \n",
       "\n",
       "   Stock Splits       date  \n",
       "0           0.0 2019-10-31  \n",
       "1           0.0 2019-11-01  \n",
       "2           0.0 2019-11-04  \n",
       "3           0.0 2019-11-05  \n",
       "4           0.0 2019-11-06  "
      ]
     },
     "execution_count": 5,
     "metadata": {},
     "output_type": "execute_result"
    }
   ],
   "source": [
    "data.head()"
   ]
  },
  {
   "cell_type": "code",
   "execution_count": 6,
   "metadata": {},
   "outputs": [
    {
     "name": "stdout",
     "output_type": "stream",
     "text": [
      "<class 'pandas.core.frame.DataFrame'>\n",
      "RangeIndex: 1213 entries, 0 to 1212\n",
      "Data columns (total 8 columns):\n",
      " #   Column        Non-Null Count  Dtype         \n",
      "---  ------        --------------  -----         \n",
      " 0   Open          1213 non-null   float64       \n",
      " 1   High          1213 non-null   float64       \n",
      " 2   Low           1213 non-null   float64       \n",
      " 3   Close         1213 non-null   float64       \n",
      " 4   Volume        1213 non-null   int64         \n",
      " 5   Dividends     1213 non-null   float64       \n",
      " 6   Stock Splits  1213 non-null   float64       \n",
      " 7   date          1213 non-null   datetime64[ns]\n",
      "dtypes: datetime64[ns](1), float64(6), int64(1)\n",
      "memory usage: 75.9 KB\n"
     ]
    }
   ],
   "source": [
    "data.info()"
   ]
  },
  {
   "cell_type": "code",
   "execution_count": 7,
   "metadata": {},
   "outputs": [
    {
     "data": {
      "text/plain": [
       "Open            0\n",
       "High            0\n",
       "Low             0\n",
       "Close           0\n",
       "Volume          0\n",
       "Dividends       0\n",
       "Stock Splits    0\n",
       "date            0\n",
       "dtype: int64"
      ]
     },
     "execution_count": 7,
     "metadata": {},
     "output_type": "execute_result"
    }
   ],
   "source": [
    "data.isnull().sum()"
   ]
  },
  {
   "cell_type": "markdown",
   "metadata": {},
   "source": [
    "# Feature Engineering"
   ]
  },
  {
   "cell_type": "code",
   "execution_count": 22,
   "metadata": {},
   "outputs": [],
   "source": [
    "# 1. Menghitung Return Harian\n",
    "data['return'] = data['Close'].pct_change()\n",
    "data['log_return'] = np.log(data['Close'] / data['Close'].shift(1))"
   ]
  },
  {
   "cell_type": "code",
   "execution_count": 23,
   "metadata": {},
   "outputs": [],
   "source": [
    "# 2. Moving Averages\n",
    "data['ma_5'] = data['Close'].rolling(window=5).mean()\n",
    "data['ma_10'] = data['Close'].rolling(window=10).mean()\n",
    "data['ma_20'] = data['Close'].rolling(window=20).mean()"
   ]
  },
  {
   "cell_type": "code",
   "execution_count": 24,
   "metadata": {},
   "outputs": [],
   "source": [
    "# 3. Exponential Moving Average (EMA)\n",
    "data['ema_10'] = data['Close'].ewm(span=10, adjust=False).mean()\n",
    "data['ema_20'] = data['Close'].ewm(span=20, adjust=False).mean()"
   ]
  },
  {
   "cell_type": "code",
   "execution_count": 25,
   "metadata": {},
   "outputs": [],
   "source": [
    "# 4. Bollinger Bands\n",
    "data['bollinger_mid'] = data['Close'].rolling(window=20).mean()\n",
    "data['bollinger_std'] = data['Close'].rolling(window=20).std()\n",
    "data['bollinger_upper'] = data['bollinger_mid'] + (2 * data['bollinger_std'])\n",
    "data['bollinger_lower'] = data['bollinger_mid'] - (2 * data['bollinger_std'])"
   ]
  },
  {
   "cell_type": "code",
   "execution_count": 26,
   "metadata": {},
   "outputs": [],
   "source": [
    "# 10. Penambahan Fitur Waktu\n",
    "data['day_of_week'] = data['date'].dt.dayofweek  # 0 = Monday, 6 = Sunday\n",
    "data['month'] = data['date'].dt.month"
   ]
  },
  {
   "cell_type": "code",
   "execution_count": 27,
   "metadata": {},
   "outputs": [],
   "source": [
    "# Hapus data yang mengandung nilai NaN akibat perhitungan rolling\n",
    "data = data.dropna().reset_index(drop=True)"
   ]
  },
  {
   "cell_type": "code",
   "execution_count": 28,
   "metadata": {},
   "outputs": [
    {
     "data": {
      "text/html": [
       "<div>\n",
       "<style scoped>\n",
       "    .dataframe tbody tr th:only-of-type {\n",
       "        vertical-align: middle;\n",
       "    }\n",
       "\n",
       "    .dataframe tbody tr th {\n",
       "        vertical-align: top;\n",
       "    }\n",
       "\n",
       "    .dataframe thead th {\n",
       "        text-align: right;\n",
       "    }\n",
       "</style>\n",
       "<table border=\"1\" class=\"dataframe\">\n",
       "  <thead>\n",
       "    <tr style=\"text-align: right;\">\n",
       "      <th></th>\n",
       "      <th>Open</th>\n",
       "      <th>High</th>\n",
       "      <th>Low</th>\n",
       "      <th>Close</th>\n",
       "      <th>Volume</th>\n",
       "      <th>date</th>\n",
       "      <th>return</th>\n",
       "      <th>log_return</th>\n",
       "      <th>ma_5</th>\n",
       "      <th>ma_10</th>\n",
       "      <th>ma_20</th>\n",
       "      <th>ema_10</th>\n",
       "      <th>ema_20</th>\n",
       "      <th>bollinger_mid</th>\n",
       "      <th>bollinger_std</th>\n",
       "      <th>bollinger_upper</th>\n",
       "      <th>bollinger_lower</th>\n",
       "      <th>day_of_week</th>\n",
       "      <th>month</th>\n",
       "    </tr>\n",
       "  </thead>\n",
       "  <tbody>\n",
       "    <tr>\n",
       "      <th>0</th>\n",
       "      <td>6002.917556</td>\n",
       "      <td>6061.504590</td>\n",
       "      <td>6002.917556</td>\n",
       "      <td>6020.944336</td>\n",
       "      <td>38188500</td>\n",
       "      <td>2019-12-26</td>\n",
       "      <td>0.003003</td>\n",
       "      <td>0.002998</td>\n",
       "      <td>6012.832715</td>\n",
       "      <td>5885.293115</td>\n",
       "      <td>5797.644263</td>\n",
       "      <td>5915.113122</td>\n",
       "      <td>5836.890965</td>\n",
       "      <td>5797.644263</td>\n",
       "      <td>138.944406</td>\n",
       "      <td>6075.533075</td>\n",
       "      <td>5519.755450</td>\n",
       "      <td>3</td>\n",
       "      <td>12</td>\n",
       "    </tr>\n",
       "    <tr>\n",
       "      <th>1</th>\n",
       "      <td>6011.930395</td>\n",
       "      <td>6038.970562</td>\n",
       "      <td>6011.930395</td>\n",
       "      <td>6034.463867</td>\n",
       "      <td>29945000</td>\n",
       "      <td>2019-12-27</td>\n",
       "      <td>0.002245</td>\n",
       "      <td>0.002243</td>\n",
       "      <td>6002.016406</td>\n",
       "      <td>5913.685205</td>\n",
       "      <td>5816.341333</td>\n",
       "      <td>5936.813258</td>\n",
       "      <td>5855.707432</td>\n",
       "      <td>5816.341333</td>\n",
       "      <td>144.567402</td>\n",
       "      <td>6105.476137</td>\n",
       "      <td>5527.206529</td>\n",
       "      <td>4</td>\n",
       "      <td>12</td>\n",
       "    </tr>\n",
       "    <tr>\n",
       "      <th>2</th>\n",
       "      <td>6020.944477</td>\n",
       "      <td>6056.998037</td>\n",
       "      <td>6011.931087</td>\n",
       "      <td>6025.451172</td>\n",
       "      <td>61168000</td>\n",
       "      <td>2019-12-30</td>\n",
       "      <td>-0.001494</td>\n",
       "      <td>-0.001495</td>\n",
       "      <td>6017.339063</td>\n",
       "      <td>5944.781348</td>\n",
       "      <td>5836.834009</td>\n",
       "      <td>5952.929242</td>\n",
       "      <td>5871.873503</td>\n",
       "      <td>5836.834009</td>\n",
       "      <td>143.659840</td>\n",
       "      <td>6124.153690</td>\n",
       "      <td>5549.514328</td>\n",
       "      <td>0</td>\n",
       "      <td>12</td>\n",
       "    </tr>\n",
       "    <tr>\n",
       "      <th>3</th>\n",
       "      <td>6034.464703</td>\n",
       "      <td>6111.078519</td>\n",
       "      <td>6020.944618</td>\n",
       "      <td>6029.958008</td>\n",
       "      <td>49445000</td>\n",
       "      <td>2020-01-02</td>\n",
       "      <td>0.000748</td>\n",
       "      <td>0.000748</td>\n",
       "      <td>6022.747070</td>\n",
       "      <td>5974.525586</td>\n",
       "      <td>5856.204272</td>\n",
       "      <td>5966.934472</td>\n",
       "      <td>5886.929170</td>\n",
       "      <td>5856.204272</td>\n",
       "      <td>142.195634</td>\n",
       "      <td>6140.595541</td>\n",
       "      <td>5571.813004</td>\n",
       "      <td>3</td>\n",
       "      <td>1</td>\n",
       "    </tr>\n",
       "    <tr>\n",
       "      <th>4</th>\n",
       "      <td>6084.038517</td>\n",
       "      <td>6129.105469</td>\n",
       "      <td>6061.505041</td>\n",
       "      <td>6129.105469</td>\n",
       "      <td>47755500</td>\n",
       "      <td>2020-01-03</td>\n",
       "      <td>0.016442</td>\n",
       "      <td>0.016309</td>\n",
       "      <td>6047.984570</td>\n",
       "      <td>6014.184570</td>\n",
       "      <td>5874.017822</td>\n",
       "      <td>5996.420108</td>\n",
       "      <td>5909.993579</td>\n",
       "      <td>5874.017822</td>\n",
       "      <td>153.099633</td>\n",
       "      <td>6180.217089</td>\n",
       "      <td>5567.818556</td>\n",
       "      <td>4</td>\n",
       "      <td>1</td>\n",
       "    </tr>\n",
       "  </tbody>\n",
       "</table>\n",
       "</div>"
      ],
      "text/plain": [
       "          Open         High          Low        Close    Volume       date  \\\n",
       "0  6002.917556  6061.504590  6002.917556  6020.944336  38188500 2019-12-26   \n",
       "1  6011.930395  6038.970562  6011.930395  6034.463867  29945000 2019-12-27   \n",
       "2  6020.944477  6056.998037  6011.931087  6025.451172  61168000 2019-12-30   \n",
       "3  6034.464703  6111.078519  6020.944618  6029.958008  49445000 2020-01-02   \n",
       "4  6084.038517  6129.105469  6061.505041  6129.105469  47755500 2020-01-03   \n",
       "\n",
       "     return  log_return         ma_5        ma_10        ma_20       ema_10  \\\n",
       "0  0.003003    0.002998  6012.832715  5885.293115  5797.644263  5915.113122   \n",
       "1  0.002245    0.002243  6002.016406  5913.685205  5816.341333  5936.813258   \n",
       "2 -0.001494   -0.001495  6017.339063  5944.781348  5836.834009  5952.929242   \n",
       "3  0.000748    0.000748  6022.747070  5974.525586  5856.204272  5966.934472   \n",
       "4  0.016442    0.016309  6047.984570  6014.184570  5874.017822  5996.420108   \n",
       "\n",
       "        ema_20  bollinger_mid  bollinger_std  bollinger_upper  \\\n",
       "0  5836.890965    5797.644263     138.944406      6075.533075   \n",
       "1  5855.707432    5816.341333     144.567402      6105.476137   \n",
       "2  5871.873503    5836.834009     143.659840      6124.153690   \n",
       "3  5886.929170    5856.204272     142.195634      6140.595541   \n",
       "4  5909.993579    5874.017822     153.099633      6180.217089   \n",
       "\n",
       "   bollinger_lower  day_of_week  month  \n",
       "0      5519.755450            3     12  \n",
       "1      5527.206529            4     12  \n",
       "2      5549.514328            0     12  \n",
       "3      5571.813004            3      1  \n",
       "4      5567.818556            4      1  "
      ]
     },
     "execution_count": 28,
     "metadata": {},
     "output_type": "execute_result"
    }
   ],
   "source": [
    "data.head()"
   ]
  },
  {
   "cell_type": "code",
   "execution_count": 29,
   "metadata": {},
   "outputs": [
    {
     "data": {
      "text/plain": [
       "Open               0\n",
       "High               0\n",
       "Low                0\n",
       "Close              0\n",
       "Volume             0\n",
       "date               0\n",
       "return             0\n",
       "log_return         0\n",
       "ma_5               0\n",
       "ma_10              0\n",
       "ma_20              0\n",
       "ema_10             0\n",
       "ema_20             0\n",
       "bollinger_mid      0\n",
       "bollinger_std      0\n",
       "bollinger_upper    0\n",
       "bollinger_lower    0\n",
       "day_of_week        0\n",
       "month              0\n",
       "dtype: int64"
      ]
     },
     "execution_count": 29,
     "metadata": {},
     "output_type": "execute_result"
    }
   ],
   "source": [
    "data.isnull().sum()"
   ]
  },
  {
   "cell_type": "markdown",
   "metadata": {},
   "source": [
    "# Modelling"
   ]
  },
  {
   "cell_type": "markdown",
   "metadata": {},
   "source": [
    "## Preprocessing"
   ]
  },
  {
   "cell_type": "code",
   "execution_count": 30,
   "metadata": {},
   "outputs": [],
   "source": [
    "dataUsed = data[['Close', 'Volume', 'ma_5', 'ma_10', 'ema_10', 'bollinger_mid', 'bollinger_std', 'bollinger_upper', 'bollinger_lower', 'day_of_week', 'month']]"
   ]
  },
  {
   "cell_type": "code",
   "execution_count": 31,
   "metadata": {},
   "outputs": [
    {
     "data": {
      "text/html": [
       "<div>\n",
       "<style scoped>\n",
       "    .dataframe tbody tr th:only-of-type {\n",
       "        vertical-align: middle;\n",
       "    }\n",
       "\n",
       "    .dataframe tbody tr th {\n",
       "        vertical-align: top;\n",
       "    }\n",
       "\n",
       "    .dataframe thead th {\n",
       "        text-align: right;\n",
       "    }\n",
       "</style>\n",
       "<table border=\"1\" class=\"dataframe\">\n",
       "  <thead>\n",
       "    <tr style=\"text-align: right;\">\n",
       "      <th></th>\n",
       "      <th>Close</th>\n",
       "      <th>Volume</th>\n",
       "      <th>ma_5</th>\n",
       "      <th>ma_10</th>\n",
       "      <th>ema_10</th>\n",
       "      <th>bollinger_mid</th>\n",
       "      <th>bollinger_std</th>\n",
       "      <th>bollinger_upper</th>\n",
       "      <th>bollinger_lower</th>\n",
       "      <th>day_of_week</th>\n",
       "      <th>month</th>\n",
       "    </tr>\n",
       "  </thead>\n",
       "  <tbody>\n",
       "    <tr>\n",
       "      <th>0</th>\n",
       "      <td>6020.944336</td>\n",
       "      <td>38188500</td>\n",
       "      <td>6012.832715</td>\n",
       "      <td>5885.293115</td>\n",
       "      <td>5915.113122</td>\n",
       "      <td>5797.644263</td>\n",
       "      <td>138.944406</td>\n",
       "      <td>6075.533075</td>\n",
       "      <td>5519.755450</td>\n",
       "      <td>3</td>\n",
       "      <td>12</td>\n",
       "    </tr>\n",
       "    <tr>\n",
       "      <th>1</th>\n",
       "      <td>6034.463867</td>\n",
       "      <td>29945000</td>\n",
       "      <td>6002.016406</td>\n",
       "      <td>5913.685205</td>\n",
       "      <td>5936.813258</td>\n",
       "      <td>5816.341333</td>\n",
       "      <td>144.567402</td>\n",
       "      <td>6105.476137</td>\n",
       "      <td>5527.206529</td>\n",
       "      <td>4</td>\n",
       "      <td>12</td>\n",
       "    </tr>\n",
       "    <tr>\n",
       "      <th>2</th>\n",
       "      <td>6025.451172</td>\n",
       "      <td>61168000</td>\n",
       "      <td>6017.339063</td>\n",
       "      <td>5944.781348</td>\n",
       "      <td>5952.929242</td>\n",
       "      <td>5836.834009</td>\n",
       "      <td>143.659840</td>\n",
       "      <td>6124.153690</td>\n",
       "      <td>5549.514328</td>\n",
       "      <td>0</td>\n",
       "      <td>12</td>\n",
       "    </tr>\n",
       "    <tr>\n",
       "      <th>3</th>\n",
       "      <td>6029.958008</td>\n",
       "      <td>49445000</td>\n",
       "      <td>6022.747070</td>\n",
       "      <td>5974.525586</td>\n",
       "      <td>5966.934472</td>\n",
       "      <td>5856.204272</td>\n",
       "      <td>142.195634</td>\n",
       "      <td>6140.595541</td>\n",
       "      <td>5571.813004</td>\n",
       "      <td>3</td>\n",
       "      <td>1</td>\n",
       "    </tr>\n",
       "    <tr>\n",
       "      <th>4</th>\n",
       "      <td>6129.105469</td>\n",
       "      <td>47755500</td>\n",
       "      <td>6047.984570</td>\n",
       "      <td>6014.184570</td>\n",
       "      <td>5996.420108</td>\n",
       "      <td>5874.017822</td>\n",
       "      <td>153.099633</td>\n",
       "      <td>6180.217089</td>\n",
       "      <td>5567.818556</td>\n",
       "      <td>4</td>\n",
       "      <td>1</td>\n",
       "    </tr>\n",
       "  </tbody>\n",
       "</table>\n",
       "</div>"
      ],
      "text/plain": [
       "         Close    Volume         ma_5        ma_10       ema_10  \\\n",
       "0  6020.944336  38188500  6012.832715  5885.293115  5915.113122   \n",
       "1  6034.463867  29945000  6002.016406  5913.685205  5936.813258   \n",
       "2  6025.451172  61168000  6017.339063  5944.781348  5952.929242   \n",
       "3  6029.958008  49445000  6022.747070  5974.525586  5966.934472   \n",
       "4  6129.105469  47755500  6047.984570  6014.184570  5996.420108   \n",
       "\n",
       "   bollinger_mid  bollinger_std  bollinger_upper  bollinger_lower  \\\n",
       "0    5797.644263     138.944406      6075.533075      5519.755450   \n",
       "1    5816.341333     144.567402      6105.476137      5527.206529   \n",
       "2    5836.834009     143.659840      6124.153690      5549.514328   \n",
       "3    5856.204272     142.195634      6140.595541      5571.813004   \n",
       "4    5874.017822     153.099633      6180.217089      5567.818556   \n",
       "\n",
       "   day_of_week  month  \n",
       "0            3     12  \n",
       "1            4     12  \n",
       "2            0     12  \n",
       "3            3      1  \n",
       "4            4      1  "
      ]
     },
     "execution_count": 31,
     "metadata": {},
     "output_type": "execute_result"
    }
   ],
   "source": [
    "dataUsed.head()"
   ]
  },
  {
   "cell_type": "code",
   "execution_count": 32,
   "metadata": {},
   "outputs": [
    {
     "data": {
      "text/plain": [
       "array([[0.29150399, 0.05048507, 0.27207966, ..., 0.2612121 , 0.75      ,\n",
       "        1.        ],\n",
       "       [0.29344727, 0.03958719, 0.27045365, ..., 0.26236776, 1.        ,\n",
       "        1.        ],\n",
       "       [0.2921518 , 0.08086389, 0.27275709, ..., 0.26582772, 0.        ,\n",
       "        1.        ],\n",
       "       ...,\n",
       "       [0.93531759, 0.06567692, 0.96767917, ..., 0.99948838, 0.25      ,\n",
       "        0.81818182],\n",
       "       [0.91375679, 0.15134759, 0.9586594 , ..., 0.99624454, 0.5       ,\n",
       "        0.81818182],\n",
       "       [0.89938292, 0.12896526, 0.94512975, ..., 0.99061983, 0.75      ,\n",
       "        0.81818182]])"
      ]
     },
     "execution_count": 32,
     "metadata": {},
     "output_type": "execute_result"
    }
   ],
   "source": [
    "from sklearn.preprocessing import MinMaxScaler\n",
    "\n",
    "# preprocessing\n",
    "scaler = MinMaxScaler(feature_range=(0, 1))\n",
    "data_scaled = scaler.fit_transform(dataUsed)\n",
    "\n",
    "data_scaled\n"
   ]
  },
  {
   "cell_type": "markdown",
   "metadata": {},
   "source": [
    "## Train Test Sequence"
   ]
  },
  {
   "cell_type": "code",
   "execution_count": 33,
   "metadata": {},
   "outputs": [],
   "source": [
    "import numpy as np\n",
    "\n",
    "sequence_length = 60\n",
    "x = []\n",
    "y = []\n",
    "\n",
    "# Target tetap kolom 0 (harga close), tetapi kita hanya menggunakan kolom lain sebagai input\n",
    "for i in range(sequence_length, len(data_scaled)):\n",
    "    x.append(data_scaled[i-sequence_length:i, 1:])  \n",
    "    y.append(data_scaled[i, 0]) \n",
    "\n",
    "# Konversi ke array numpy\n",
    "x, y = np.array(x), np.array(y)\n"
   ]
  },
  {
   "cell_type": "code",
   "execution_count": 34,
   "metadata": {},
   "outputs": [
    {
     "name": "stdout",
     "output_type": "stream",
     "text": [
      "(1115, 60, 10) (1115,)\n"
     ]
    }
   ],
   "source": [
    "print(x.shape, y.shape)"
   ]
  },
  {
   "cell_type": "markdown",
   "metadata": {},
   "source": [
    "## LSTM"
   ]
  },
  {
   "cell_type": "markdown",
   "metadata": {},
   "source": [
    "LSTM (Long Short-Term Memory) adalah jenis jaringan saraf tiruan yang termasuk dalam kategori Recurrent Neural Networks (RNN). LSTM dirancang khusus untuk mengatasi masalah pada RNN biasa, yaitu sulitnya mengingat informasi dalam jangka panjang (long-term dependency)."
   ]
  },
  {
   "cell_type": "code",
   "execution_count": 35,
   "metadata": {},
   "outputs": [],
   "source": [
    "from sklearn.model_selection import train_test_split\n",
    "\n",
    "# train and test split\n",
    "x_train, x_test, y_train, y_test = train_test_split(x, y, test_size=0.2, random_state=42)"
   ]
  },
  {
   "cell_type": "code",
   "execution_count": 36,
   "metadata": {},
   "outputs": [],
   "source": [
    "from tensorflow.keras.models import Sequential\n",
    "from tensorflow.keras.layers import LSTM, Dense, Dropout"
   ]
  },
  {
   "cell_type": "code",
   "execution_count": 37,
   "metadata": {},
   "outputs": [],
   "source": [
    "# LSTM model\n",
    "model = Sequential()\n",
    "model.add(LSTM(units=50, return_sequences=True, input_shape=(x_train.shape[1], x_train.shape[2])))\n",
    "model.add(Dropout(0.2))\n",
    "model.add(LSTM(units=50, return_sequences=True))\n",
    "model.add(Dropout(0.2))\n",
    "model.add(LSTM(units=50))\n",
    "model.add(Dropout(0.2))\n",
    "model.add(Dense(units=1))\n",
    "\n",
    "model.compile(optimizer='adam', loss='mean_squared_error')"
   ]
  },
  {
   "cell_type": "code",
   "execution_count": 38,
   "metadata": {},
   "outputs": [
    {
     "name": "stdout",
     "output_type": "stream",
     "text": [
      "Epoch 1/100\n",
      "28/28 [==============================] - 7s 79ms/step - loss: 0.0371 - val_loss: 0.0027\n",
      "Epoch 2/100\n",
      "28/28 [==============================] - 1s 39ms/step - loss: 0.0068 - val_loss: 0.0018\n",
      "Epoch 3/100\n",
      "28/28 [==============================] - 1s 39ms/step - loss: 0.0050 - val_loss: 0.0014\n",
      "Epoch 4/100\n",
      "28/28 [==============================] - 1s 33ms/step - loss: 0.0049 - val_loss: 0.0012\n",
      "Epoch 5/100\n",
      "28/28 [==============================] - 1s 36ms/step - loss: 0.0044 - val_loss: 0.0016\n",
      "Epoch 6/100\n",
      "28/28 [==============================] - 1s 36ms/step - loss: 0.0045 - val_loss: 0.0018\n",
      "Epoch 7/100\n",
      "28/28 [==============================] - 1s 33ms/step - loss: 0.0046 - val_loss: 0.0014\n",
      "Epoch 8/100\n",
      "28/28 [==============================] - 1s 32ms/step - loss: 0.0044 - val_loss: 0.0015\n",
      "Epoch 9/100\n",
      "28/28 [==============================] - 1s 32ms/step - loss: 0.0044 - val_loss: 0.0011\n",
      "Epoch 10/100\n",
      "28/28 [==============================] - 1s 31ms/step - loss: 0.0042 - val_loss: 0.0012\n",
      "Epoch 11/100\n",
      "28/28 [==============================] - 1s 34ms/step - loss: 0.0040 - val_loss: 0.0015\n",
      "Epoch 12/100\n",
      "28/28 [==============================] - 1s 32ms/step - loss: 0.0041 - val_loss: 0.0012\n",
      "Epoch 13/100\n",
      "28/28 [==============================] - 1s 32ms/step - loss: 0.0042 - val_loss: 0.0011\n",
      "Epoch 14/100\n",
      "28/28 [==============================] - 1s 32ms/step - loss: 0.0036 - val_loss: 0.0015\n",
      "Epoch 15/100\n",
      "28/28 [==============================] - 1s 31ms/step - loss: 0.0036 - val_loss: 0.0032\n",
      "Epoch 16/100\n",
      "28/28 [==============================] - 1s 32ms/step - loss: 0.0042 - val_loss: 0.0014\n",
      "Epoch 17/100\n",
      "28/28 [==============================] - 1s 32ms/step - loss: 0.0035 - val_loss: 0.0014\n",
      "Epoch 18/100\n",
      "28/28 [==============================] - 1s 32ms/step - loss: 0.0034 - val_loss: 0.0011\n",
      "Epoch 19/100\n",
      "28/28 [==============================] - 1s 32ms/step - loss: 0.0034 - val_loss: 0.0013\n",
      "Epoch 20/100\n",
      "28/28 [==============================] - 1s 33ms/step - loss: 0.0036 - val_loss: 0.0012\n",
      "Epoch 21/100\n",
      "28/28 [==============================] - 1s 31ms/step - loss: 0.0034 - val_loss: 0.0011\n",
      "Epoch 22/100\n",
      "28/28 [==============================] - 1s 32ms/step - loss: 0.0036 - val_loss: 0.0012\n",
      "Epoch 23/100\n",
      "28/28 [==============================] - 1s 32ms/step - loss: 0.0035 - val_loss: 0.0014\n",
      "Epoch 24/100\n",
      "28/28 [==============================] - 1s 32ms/step - loss: 0.0036 - val_loss: 0.0010\n",
      "Epoch 25/100\n",
      "28/28 [==============================] - 1s 32ms/step - loss: 0.0033 - val_loss: 0.0012\n",
      "Epoch 26/100\n",
      "28/28 [==============================] - 1s 34ms/step - loss: 0.0038 - val_loss: 0.0015\n",
      "Epoch 27/100\n",
      "28/28 [==============================] - 1s 37ms/step - loss: 0.0031 - val_loss: 0.0010\n",
      "Epoch 28/100\n",
      "28/28 [==============================] - 1s 37ms/step - loss: 0.0033 - val_loss: 0.0012\n",
      "Epoch 29/100\n",
      "28/28 [==============================] - 1s 42ms/step - loss: 0.0030 - val_loss: 0.0011\n",
      "Epoch 30/100\n",
      "28/28 [==============================] - 1s 35ms/step - loss: 0.0028 - val_loss: 0.0013\n",
      "Epoch 31/100\n",
      "28/28 [==============================] - 1s 34ms/step - loss: 0.0031 - val_loss: 0.0021\n",
      "Epoch 32/100\n",
      "28/28 [==============================] - 1s 33ms/step - loss: 0.0043 - val_loss: 0.0024\n",
      "Epoch 33/100\n",
      "28/28 [==============================] - 1s 32ms/step - loss: 0.0031 - val_loss: 0.0010\n",
      "Epoch 34/100\n",
      "28/28 [==============================] - 1s 32ms/step - loss: 0.0033 - val_loss: 0.0016\n",
      "Epoch 35/100\n",
      "28/28 [==============================] - 1s 32ms/step - loss: 0.0031 - val_loss: 0.0011\n",
      "Epoch 36/100\n",
      "28/28 [==============================] - 1s 35ms/step - loss: 0.0031 - val_loss: 9.7676e-04\n",
      "Epoch 37/100\n",
      "28/28 [==============================] - 1s 33ms/step - loss: 0.0034 - val_loss: 0.0027\n",
      "Epoch 38/100\n",
      "28/28 [==============================] - 1s 37ms/step - loss: 0.0031 - val_loss: 0.0010\n",
      "Epoch 39/100\n",
      "28/28 [==============================] - 1s 34ms/step - loss: 0.0029 - val_loss: 0.0011\n",
      "Epoch 40/100\n",
      "28/28 [==============================] - 1s 41ms/step - loss: 0.0028 - val_loss: 9.3667e-04\n",
      "Epoch 41/100\n",
      "28/28 [==============================] - 1s 34ms/step - loss: 0.0029 - val_loss: 0.0010\n",
      "Epoch 42/100\n",
      "28/28 [==============================] - 1s 34ms/step - loss: 0.0027 - val_loss: 0.0011\n",
      "Epoch 43/100\n",
      "28/28 [==============================] - 1s 37ms/step - loss: 0.0027 - val_loss: 9.0864e-04\n",
      "Epoch 44/100\n",
      "28/28 [==============================] - 1s 35ms/step - loss: 0.0029 - val_loss: 8.7972e-04\n",
      "Epoch 45/100\n",
      "28/28 [==============================] - 1s 36ms/step - loss: 0.0027 - val_loss: 8.4127e-04\n",
      "Epoch 46/100\n",
      "28/28 [==============================] - 1s 37ms/step - loss: 0.0025 - val_loss: 0.0011\n",
      "Epoch 47/100\n",
      "28/28 [==============================] - 1s 40ms/step - loss: 0.0028 - val_loss: 9.5277e-04\n",
      "Epoch 48/100\n",
      "28/28 [==============================] - 1s 35ms/step - loss: 0.0027 - val_loss: 0.0011\n",
      "Epoch 49/100\n",
      "28/28 [==============================] - 1s 35ms/step - loss: 0.0025 - val_loss: 9.2493e-04\n",
      "Epoch 50/100\n",
      "28/28 [==============================] - 1s 35ms/step - loss: 0.0023 - val_loss: 9.9177e-04\n",
      "Epoch 51/100\n",
      "28/28 [==============================] - 1s 35ms/step - loss: 0.0027 - val_loss: 9.9785e-04\n",
      "Epoch 52/100\n",
      "28/28 [==============================] - 1s 35ms/step - loss: 0.0025 - val_loss: 9.9457e-04\n",
      "Epoch 53/100\n",
      "28/28 [==============================] - 1s 35ms/step - loss: 0.0032 - val_loss: 0.0010\n",
      "Epoch 54/100\n",
      "28/28 [==============================] - 1s 36ms/step - loss: 0.0025 - val_loss: 0.0010\n",
      "Epoch 55/100\n",
      "28/28 [==============================] - 1s 35ms/step - loss: 0.0024 - val_loss: 9.3489e-04\n",
      "Epoch 56/100\n",
      "28/28 [==============================] - 1s 36ms/step - loss: 0.0024 - val_loss: 8.9254e-04\n",
      "Epoch 57/100\n",
      "28/28 [==============================] - 1s 35ms/step - loss: 0.0022 - val_loss: 9.2339e-04\n",
      "Epoch 58/100\n",
      "28/28 [==============================] - 1s 36ms/step - loss: 0.0025 - val_loss: 8.8515e-04\n",
      "Epoch 59/100\n",
      "28/28 [==============================] - 1s 33ms/step - loss: 0.0024 - val_loss: 0.0010\n",
      "Epoch 60/100\n",
      "28/28 [==============================] - 1s 34ms/step - loss: 0.0023 - val_loss: 9.6498e-04\n",
      "Epoch 61/100\n",
      "28/28 [==============================] - 1s 34ms/step - loss: 0.0022 - val_loss: 0.0013\n",
      "Epoch 62/100\n",
      "28/28 [==============================] - 1s 36ms/step - loss: 0.0023 - val_loss: 9.4215e-04\n",
      "Epoch 63/100\n",
      "28/28 [==============================] - 1s 34ms/step - loss: 0.0023 - val_loss: 9.7868e-04\n",
      "Epoch 64/100\n",
      "28/28 [==============================] - 1s 34ms/step - loss: 0.0021 - val_loss: 9.2504e-04\n",
      "Epoch 65/100\n",
      "28/28 [==============================] - 1s 34ms/step - loss: 0.0022 - val_loss: 0.0010\n",
      "Epoch 66/100\n",
      "28/28 [==============================] - 1s 34ms/step - loss: 0.0023 - val_loss: 7.5900e-04\n",
      "Epoch 67/100\n",
      "28/28 [==============================] - 1s 34ms/step - loss: 0.0025 - val_loss: 7.2487e-04\n",
      "Epoch 68/100\n",
      "28/28 [==============================] - 1s 33ms/step - loss: 0.0020 - val_loss: 8.3542e-04\n",
      "Epoch 69/100\n",
      "28/28 [==============================] - 1s 35ms/step - loss: 0.0021 - val_loss: 0.0010\n",
      "Epoch 70/100\n",
      "28/28 [==============================] - 1s 35ms/step - loss: 0.0025 - val_loss: 0.0010\n",
      "Epoch 71/100\n",
      "28/28 [==============================] - 1s 34ms/step - loss: 0.0023 - val_loss: 8.0653e-04\n",
      "Epoch 72/100\n",
      "28/28 [==============================] - 1s 34ms/step - loss: 0.0022 - val_loss: 8.3046e-04\n",
      "Epoch 73/100\n",
      "28/28 [==============================] - 1s 33ms/step - loss: 0.0023 - val_loss: 0.0014\n",
      "Epoch 74/100\n",
      "28/28 [==============================] - 1s 34ms/step - loss: 0.0023 - val_loss: 0.0011\n",
      "Epoch 75/100\n",
      "28/28 [==============================] - 1s 34ms/step - loss: 0.0026 - val_loss: 0.0017\n",
      "Epoch 76/100\n",
      "28/28 [==============================] - 1s 35ms/step - loss: 0.0019 - val_loss: 6.9283e-04\n",
      "Epoch 77/100\n",
      "28/28 [==============================] - 1s 33ms/step - loss: 0.0019 - val_loss: 6.8992e-04\n",
      "Epoch 78/100\n",
      "28/28 [==============================] - 1s 34ms/step - loss: 0.0021 - val_loss: 8.9036e-04\n",
      "Epoch 79/100\n",
      "28/28 [==============================] - 1s 33ms/step - loss: 0.0018 - val_loss: 6.9808e-04\n",
      "Epoch 80/100\n",
      "28/28 [==============================] - 1s 34ms/step - loss: 0.0021 - val_loss: 8.0998e-04\n",
      "Epoch 81/100\n",
      "28/28 [==============================] - 1s 33ms/step - loss: 0.0022 - val_loss: 9.6937e-04\n",
      "Epoch 82/100\n",
      "28/28 [==============================] - 1s 34ms/step - loss: 0.0021 - val_loss: 8.9569e-04\n",
      "Epoch 83/100\n",
      "28/28 [==============================] - 1s 34ms/step - loss: 0.0020 - val_loss: 9.9962e-04\n",
      "Epoch 84/100\n",
      "28/28 [==============================] - 1s 34ms/step - loss: 0.0019 - val_loss: 9.6749e-04\n",
      "Epoch 85/100\n",
      "28/28 [==============================] - 1s 34ms/step - loss: 0.0019 - val_loss: 8.3667e-04\n",
      "Epoch 86/100\n",
      "28/28 [==============================] - 1s 33ms/step - loss: 0.0018 - val_loss: 6.4109e-04\n",
      "Epoch 87/100\n",
      "28/28 [==============================] - 1s 42ms/step - loss: 0.0021 - val_loss: 6.4488e-04\n",
      "Epoch 88/100\n",
      "28/28 [==============================] - 1s 36ms/step - loss: 0.0020 - val_loss: 8.6259e-04\n",
      "Epoch 89/100\n",
      "28/28 [==============================] - 1s 34ms/step - loss: 0.0018 - val_loss: 6.7030e-04\n",
      "Epoch 90/100\n",
      "28/28 [==============================] - 1s 34ms/step - loss: 0.0018 - val_loss: 6.3514e-04\n",
      "Epoch 91/100\n",
      "28/28 [==============================] - 1s 34ms/step - loss: 0.0018 - val_loss: 6.6762e-04\n",
      "Epoch 92/100\n",
      "28/28 [==============================] - 1s 34ms/step - loss: 0.0018 - val_loss: 7.1237e-04\n",
      "Epoch 93/100\n",
      "28/28 [==============================] - 1s 33ms/step - loss: 0.0017 - val_loss: 5.8502e-04\n",
      "Epoch 94/100\n",
      "28/28 [==============================] - 1s 34ms/step - loss: 0.0018 - val_loss: 0.0012\n",
      "Epoch 95/100\n",
      "28/28 [==============================] - 1s 34ms/step - loss: 0.0018 - val_loss: 7.1211e-04\n",
      "Epoch 96/100\n",
      "28/28 [==============================] - 1s 35ms/step - loss: 0.0019 - val_loss: 9.1673e-04\n",
      "Epoch 97/100\n",
      "28/28 [==============================] - 1s 34ms/step - loss: 0.0017 - val_loss: 0.0012\n",
      "Epoch 98/100\n",
      "28/28 [==============================] - 1s 34ms/step - loss: 0.0017 - val_loss: 6.5496e-04\n",
      "Epoch 99/100\n",
      "28/28 [==============================] - 1s 33ms/step - loss: 0.0017 - val_loss: 7.0898e-04\n",
      "Epoch 100/100\n",
      "28/28 [==============================] - 1s 34ms/step - loss: 0.0019 - val_loss: 0.0020\n"
     ]
    },
    {
     "data": {
      "text/plain": [
       "<keras.src.callbacks.History at 0x1c47ce300d0>"
      ]
     },
     "execution_count": 38,
     "metadata": {},
     "output_type": "execute_result"
    }
   ],
   "source": [
    "# train model \n",
    "model.fit(x_train, y_train, epochs=100, batch_size=32, validation_data=(x_test, y_test), verbose=1)"
   ]
  },
  {
   "cell_type": "code",
   "execution_count": 39,
   "metadata": {},
   "outputs": [
    {
     "name": "stdout",
     "output_type": "stream",
     "text": [
      "7/7 [==============================] - 1s 12ms/step\n"
     ]
    }
   ],
   "source": [
    "# prediction\n",
    "predicted_prices =  model.predict(x_test)\n"
   ]
  },
  {
   "cell_type": "code",
   "execution_count": 40,
   "metadata": {},
   "outputs": [],
   "source": [
    "# Dapatkan jumlah kolom yang diharapkan oleh scaler\n",
    "expected_columns = scaler.min_.shape[0]\n",
    "\n",
    "# Tambahkan kolom nol untuk menyesuaikan jumlah kolom\n",
    "predicted_prices_padded = np.hstack([np.zeros((predicted_prices.shape[0], expected_columns - 1)), predicted_prices])\n",
    "\n",
    "# Inverse transform dan ambil hanya kolom harga 'Close'\n",
    "predicted_prices = scaler.inverse_transform(predicted_prices_padded)[:, -1]  # Ambil hanya kolom harga\n"
   ]
  },
  {
   "cell_type": "code",
   "execution_count": 41,
   "metadata": {},
   "outputs": [],
   "source": [
    "# Tambahkan kolom nol untuk menyesuaikan jumlah kolom\n",
    "real_prices_padded = np.hstack([np.zeros((y_test.shape[0], expected_columns - 1)), y_test.reshape(-1,1)])\n",
    "\n",
    "# Inverse transform dan ambil hanya kolom harga 'Close'\n",
    "real_prices = scaler.inverse_transform(real_prices_padded)[:, -1]  # Ambil hanya kolom harga\n"
   ]
  },
  {
   "cell_type": "code",
   "execution_count": 42,
   "metadata": {},
   "outputs": [
    {
     "data": {
      "text/plain": [
       "array([ 4.13849146,  4.25513498, 10.97226836,  8.64558647,  8.32580999,\n",
       "        6.37465005,  8.76094996,  3.68138249,  2.68938599,  3.97629252,\n",
       "       11.76283116,  3.68247723, 10.10314802,  6.41163743,  7.1170858 ,\n",
       "       10.57698697, 10.65604325,  3.06632618,  4.27119947,  4.1090013 ,\n",
       "        3.87094771,  3.45776285,  8.83785844,  2.7691232 ,  5.65247634,\n",
       "        8.64558647, 11.0117965 ,  8.91476538,  8.33795254,  4.31543701,\n",
       "        5.59828882,  7.1170858 ,  4.13849146,  8.37640601,  7.83061659,\n",
       "        3.57374551,  9.13720381,  8.64558647,  7.58032471,  8.99586137,\n",
       "        3.76248311,  8.72249495, 11.52566232,  6.55377583,  7.429521  ,\n",
       "        8.18413403,  8.91476538, 10.33981813,  3.90719085, 11.05132464,\n",
       "        4.61130514,  6.1031257 ,  6.18971395,  4.0131556 ,  2.90685175,\n",
       "        5.74574268,  7.22975026,  3.53025143,  9.66783975,  4.35230009,\n",
       "        4.61130514,  4.30069116,  8.18413403,  8.56867798,  6.14067975,\n",
       "        7.1170858 ,  7.58032471,  8.29949753,  4.74944981,  5.56092933,\n",
       "        4.33755501,  5.00847262,  8.20989681,  8.72249495,  2.36319005,\n",
       "        6.7039928 , 10.37361314, 10.97226836,  9.66783975,  4.43680539,\n",
       "        5.74586698,  4.36704594,  6.06557243,  8.72249495, 10.14217743,\n",
       "        8.4917695 ,  5.87780141,  4.65493046,  4.35230009,  8.53022297,\n",
       "        3.54867525,  3.50443848, 10.26076185,  2.74578616,  5.27388941,\n",
       "        8.9916754 ,  5.74574268,  5.04028119,  8.41486102,  7.50492324,\n",
       "        4.98211538,  3.09532223,  5.38959877,  6.96687114, 10.49793069,\n",
       "        6.37465005,  8.64558647,  7.76882916,  9.58878347,  3.09532223,\n",
       "        3.93618613,  2.95759368,  6.00477707,  3.61502926,  9.62831161,\n",
       "        5.72758598,  4.18264717,  5.44996797,  3.24029863,  1.87751814,\n",
       "        6.44862403,  5.91535623,  9.74689603,  9.31208649,  4.16060946,\n",
       "        4.44814657,  8.607133  ,  8.79940343,  3.65348118,  6.41163743,\n",
       "        3.93512226,  7.45507455,  6.62888316,  7.2410181 ,  3.55924748,\n",
       "        7.45507455,  5.87780141,  9.70736789,  9.94859608,  9.86548045,\n",
       "        5.48695612,  8.53022297,  7.53018265,  3.10257086,  8.76094996,\n",
       "        6.44862403,  5.80269408,  4.74218034,  4.27688241,  8.16860226,\n",
       "        4.09425468,  3.98601783,  5.69003194,  5.56092933,  8.53022297,\n",
       "        7.61802622,  4.6040349 ,  4.97484513,  6.59132988,  7.35412107,\n",
       "        3.67522861,  4.5749516 , 10.65604325,  3.82883789,  5.76513926,\n",
       "        7.58032471,  7.76882916,  1.89201462,  2.29070224,  9.48494335,\n",
       "        3.07357558,  2.97933956,  8.9916754 , 10.30028999,  9.94859608,\n",
       "       10.33497439,  9.8326829 ,  7.99503358,  2.539142  ,  4.41865487,\n",
       "        7.19219544, 11.28849348,  9.47019905, 10.93274022,  9.39114277,\n",
       "        4.35967224,  7.15464216,  2.83436393,  8.10722555,  8.41486102,\n",
       "        2.94309643,  3.85095589,  5.74586698,  6.1031257 ,  3.87819557,\n",
       "        4.05216802,  5.57736902,  7.88193214,  7.00442442,  5.72758598,\n",
       "        4.36704594,  7.31642034,  4.24170931,  6.22670055,  4.13849146,\n",
       "        5.52456035, 11.52566232,  3.19680455,  8.56867798,  3.29103979,\n",
       "        9.67813251,  8.41486102,  2.66027876,  4.38916317,  7.4175205 ,\n",
       "        7.53018265,  8.68404148, 10.73509952, 10.41225035,  8.41486102,\n",
       "        4.5313286 ,  7.20331813,  5.78285358])"
      ]
     },
     "execution_count": 42,
     "metadata": {},
     "output_type": "execute_result"
    }
   ],
   "source": [
    "real_prices"
   ]
  },
  {
   "cell_type": "markdown",
   "metadata": {},
   "source": [
    "# Evaluation"
   ]
  },
  {
   "cell_type": "code",
   "execution_count": 58,
   "metadata": {},
   "outputs": [
    {
     "data": {
      "application/vnd.plotly.v1+json": {
       "config": {
        "plotlyServerURL": "https://plot.ly"
       },
       "data": [
        {
         "hovertemplate": "x=%{x}<br>y=%{y}<extra></extra>",
         "legendgroup": "",
         "line": {
          "color": "#636efa",
          "dash": "solid"
         },
         "marker": {
          "symbol": "circle"
         },
         "mode": "lines",
         "name": "",
         "orientation": "v",
         "showlegend": false,
         "type": "scatter",
         "x": [
          "2023-11-23T00:00:00",
          "2023-11-24T00:00:00",
          "2023-11-27T00:00:00",
          "2023-11-28T00:00:00",
          "2023-11-29T00:00:00",
          "2023-11-30T00:00:00",
          "2023-12-01T00:00:00",
          "2023-12-04T00:00:00",
          "2023-12-05T00:00:00",
          "2023-12-06T00:00:00",
          "2023-12-07T00:00:00",
          "2023-12-08T00:00:00",
          "2023-12-11T00:00:00",
          "2023-12-12T00:00:00",
          "2023-12-13T00:00:00",
          "2023-12-14T00:00:00",
          "2023-12-15T00:00:00",
          "2023-12-18T00:00:00",
          "2023-12-19T00:00:00",
          "2023-12-20T00:00:00",
          "2023-12-21T00:00:00",
          "2023-12-22T00:00:00",
          "2023-12-27T00:00:00",
          "2023-12-28T00:00:00",
          "2023-12-29T00:00:00",
          "2024-01-02T00:00:00",
          "2024-01-03T00:00:00",
          "2024-01-04T00:00:00",
          "2024-01-05T00:00:00",
          "2024-01-08T00:00:00",
          "2024-01-09T00:00:00",
          "2024-01-10T00:00:00",
          "2024-01-11T00:00:00",
          "2024-01-12T00:00:00",
          "2024-01-15T00:00:00",
          "2024-01-16T00:00:00",
          "2024-01-17T00:00:00",
          "2024-01-18T00:00:00",
          "2024-01-19T00:00:00",
          "2024-01-22T00:00:00",
          "2024-01-23T00:00:00",
          "2024-01-24T00:00:00",
          "2024-01-25T00:00:00",
          "2024-01-26T00:00:00",
          "2024-01-29T00:00:00",
          "2024-01-30T00:00:00",
          "2024-01-31T00:00:00",
          "2024-02-01T00:00:00",
          "2024-02-02T00:00:00",
          "2024-02-05T00:00:00",
          "2024-02-06T00:00:00",
          "2024-02-07T00:00:00",
          "2024-02-12T00:00:00",
          "2024-02-13T00:00:00",
          "2024-02-15T00:00:00",
          "2024-02-16T00:00:00",
          "2024-02-19T00:00:00",
          "2024-02-20T00:00:00",
          "2024-02-21T00:00:00",
          "2024-02-22T00:00:00",
          "2024-02-23T00:00:00",
          "2024-02-26T00:00:00",
          "2024-02-27T00:00:00",
          "2024-02-28T00:00:00",
          "2024-02-29T00:00:00",
          "2024-03-01T00:00:00",
          "2024-03-04T00:00:00",
          "2024-03-05T00:00:00",
          "2024-03-06T00:00:00",
          "2024-03-07T00:00:00",
          "2024-03-08T00:00:00",
          "2024-03-13T00:00:00",
          "2024-03-14T00:00:00",
          "2024-03-15T00:00:00",
          "2024-03-18T00:00:00",
          "2024-03-19T00:00:00",
          "2024-03-20T00:00:00",
          "2024-03-21T00:00:00",
          "2024-03-22T00:00:00",
          "2024-03-25T00:00:00",
          "2024-03-26T00:00:00",
          "2024-03-27T00:00:00",
          "2024-03-28T00:00:00",
          "2024-04-01T00:00:00",
          "2024-04-02T00:00:00",
          "2024-04-03T00:00:00",
          "2024-04-04T00:00:00",
          "2024-04-05T00:00:00",
          "2024-04-16T00:00:00",
          "2024-04-17T00:00:00",
          "2024-04-18T00:00:00",
          "2024-04-19T00:00:00",
          "2024-04-22T00:00:00",
          "2024-04-23T00:00:00",
          "2024-04-24T00:00:00",
          "2024-04-25T00:00:00",
          "2024-04-26T00:00:00",
          "2024-04-29T00:00:00",
          "2024-04-30T00:00:00",
          "2024-05-02T00:00:00",
          "2024-05-03T00:00:00",
          "2024-05-06T00:00:00",
          "2024-05-07T00:00:00",
          "2024-05-08T00:00:00",
          "2024-05-13T00:00:00",
          "2024-05-14T00:00:00",
          "2024-05-15T00:00:00",
          "2024-05-16T00:00:00",
          "2024-05-17T00:00:00",
          "2024-05-20T00:00:00",
          "2024-05-21T00:00:00",
          "2024-05-22T00:00:00",
          "2024-05-27T00:00:00",
          "2024-05-28T00:00:00",
          "2024-05-29T00:00:00",
          "2024-05-30T00:00:00",
          "2024-05-31T00:00:00",
          "2024-06-03T00:00:00",
          "2024-06-04T00:00:00",
          "2024-06-05T00:00:00",
          "2024-06-06T00:00:00",
          "2024-06-07T00:00:00",
          "2024-06-10T00:00:00",
          "2024-06-11T00:00:00",
          "2024-06-12T00:00:00",
          "2024-06-13T00:00:00",
          "2024-06-14T00:00:00",
          "2024-06-19T00:00:00",
          "2024-06-20T00:00:00",
          "2024-06-21T00:00:00",
          "2024-06-24T00:00:00",
          "2024-06-25T00:00:00",
          "2024-06-26T00:00:00",
          "2024-06-27T00:00:00",
          "2024-06-28T00:00:00",
          "2024-07-01T00:00:00",
          "2024-07-02T00:00:00",
          "2024-07-03T00:00:00",
          "2024-07-04T00:00:00",
          "2024-07-05T00:00:00",
          "2024-07-08T00:00:00",
          "2024-07-09T00:00:00",
          "2024-07-10T00:00:00",
          "2024-07-11T00:00:00",
          "2024-07-12T00:00:00",
          "2024-07-15T00:00:00",
          "2024-07-16T00:00:00",
          "2024-07-17T00:00:00",
          "2024-07-18T00:00:00",
          "2024-07-19T00:00:00",
          "2024-07-22T00:00:00",
          "2024-07-23T00:00:00",
          "2024-07-24T00:00:00",
          "2024-07-25T00:00:00",
          "2024-07-26T00:00:00",
          "2024-07-29T00:00:00",
          "2024-07-30T00:00:00",
          "2024-07-31T00:00:00",
          "2024-08-01T00:00:00",
          "2024-08-02T00:00:00",
          "2024-08-05T00:00:00",
          "2024-08-06T00:00:00",
          "2024-08-07T00:00:00",
          "2024-08-08T00:00:00",
          "2024-08-09T00:00:00",
          "2024-08-12T00:00:00",
          "2024-08-13T00:00:00",
          "2024-08-14T00:00:00",
          "2024-08-15T00:00:00",
          "2024-08-16T00:00:00",
          "2024-08-19T00:00:00",
          "2024-08-20T00:00:00",
          "2024-08-21T00:00:00",
          "2024-08-22T00:00:00",
          "2024-08-23T00:00:00",
          "2024-08-26T00:00:00",
          "2024-08-27T00:00:00",
          "2024-08-28T00:00:00",
          "2024-08-29T00:00:00",
          "2024-08-30T00:00:00",
          "2024-09-02T00:00:00",
          "2024-09-03T00:00:00",
          "2024-09-04T00:00:00",
          "2024-09-05T00:00:00",
          "2024-09-06T00:00:00",
          "2024-09-09T00:00:00",
          "2024-09-10T00:00:00",
          "2024-09-11T00:00:00",
          "2024-09-12T00:00:00",
          "2024-09-13T00:00:00",
          "2024-09-17T00:00:00",
          "2024-09-18T00:00:00",
          "2024-09-19T00:00:00",
          "2024-09-20T00:00:00",
          "2024-09-23T00:00:00",
          "2024-09-24T00:00:00",
          "2024-09-25T00:00:00",
          "2024-09-26T00:00:00",
          "2024-09-27T00:00:00",
          "2024-09-30T00:00:00",
          "2024-10-01T00:00:00",
          "2024-10-02T00:00:00",
          "2024-10-03T00:00:00",
          "2024-10-04T00:00:00",
          "2024-10-07T00:00:00",
          "2024-10-08T00:00:00",
          "2024-10-09T00:00:00",
          "2024-10-10T00:00:00",
          "2024-10-11T00:00:00",
          "2024-10-14T00:00:00",
          "2024-10-15T00:00:00",
          "2024-10-16T00:00:00",
          "2024-10-17T00:00:00",
          "2024-10-18T00:00:00",
          "2024-10-21T00:00:00",
          "2024-10-22T00:00:00",
          "2024-10-23T00:00:00",
          "2024-10-24T00:00:00",
          "2024-10-25T00:00:00",
          "2024-10-28T00:00:00",
          "2024-10-29T00:00:00",
          "2024-10-30T00:00:00",
          "2024-10-31T00:00:00"
         ],
         "xaxis": "x",
         "y": [
          4.13849145612803,
          4.255134982245851,
          10.972268363924886,
          8.645586465963566,
          8.325809990856662,
          6.3746500536651345,
          8.760949959740183,
          3.681382488269032,
          2.689385989092213,
          3.976292520868167,
          11.762831160905742,
          3.682477232454694,
          10.103148021197947,
          6.411637429681302,
          7.117085796311819,
          10.576986965434457,
          10.656043245132544,
          3.0663261762858887,
          4.271199465331375,
          4.109001302105495,
          3.8709477120685234,
          3.4577628455488116,
          8.83785844090194,
          2.7691232027619166,
          5.652476342860993,
          8.645586465963566,
          11.01179650377393,
          8.914765377995733,
          8.33795254131654,
          4.315437012467121,
          5.598288821772622,
          7.117085796311819,
          4.13849145612803,
          8.376406009863436,
          7.830616586693889,
          3.5737455105785334,
          9.137203808724369,
          8.645586465963566,
          7.580324713983343,
          8.99586137147275,
          3.7624831139499353,
          8.722494947125323,
          11.525662321811485,
          6.553775833967776,
          7.429521000289337,
          8.184134034925062,
          8.914765377995733,
          10.339818126340203,
          3.9071908473265964,
          11.051324643622971,
          4.611305139237206,
          6.103125702397395,
          6.189713945618277,
          4.013155599413325,
          2.906851748946481,
          5.745742680021217,
          7.229750259289367,
          3.5302514321669016,
          9.667839748906475,
          4.352300091012279,
          4.611305139237206,
          4.300691163421872,
          8.184134034925062,
          8.568677984801809,
          6.140679751355928,
          7.117085796311819,
          7.580324713983343,
          8.29949752870168,
          4.74944981173776,
          5.560929325377407,
          4.337555014001012,
          5.0084726167442595,
          8.209896808885269,
          8.722494947125323,
          2.3631900514297453,
          6.703992801835896,
          10.37361314184317,
          10.972268363924886,
          9.667839748906475,
          4.436805386551274,
          5.745866977492227,
          4.367045940057527,
          6.0655724254728405,
          8.722494947125323,
          10.142177427094989,
          8.491769503640054,
          5.877801408646183,
          4.65493046342568,
          4.352300091012279,
          8.53022297218695,
          3.548675251099666,
          3.5044384759979024,
          10.260761846642119,
          2.745786159571353,
          5.273889407184934,
          8.991675403225454,
          5.745742680021217,
          5.040281188813017,
          8.414861022478297,
          7.50492324315333,
          4.982115376618355,
          3.09532222856031,
          5.389598772185231,
          6.966871144545641,
          10.497930685736373,
          6.3746500536651345,
          8.645586465963566,
          7.768829163092354,
          9.58878346920839,
          3.09532222856031,
          3.936186127567036,
          2.957593682375746,
          6.004777065537439,
          3.61502925570134,
          9.628311609057434,
          5.727585984846026,
          4.182647167661743,
          5.449967969362884,
          3.2402986297625067,
          1.8775181423599077,
          6.4486240336634895,
          5.915356229638701,
          9.746896028604562,
          9.312086490265091,
          4.16060945766192,
          4.44814656573843,
          8.60713299741667,
          8.79940342828708,
          3.653481180180274,
          6.411637429681302,
          3.9351222647406296,
          7.455074553040578,
          6.628883159850865,
          7.24101809524829,
          3.559247484441323,
          7.455074553040578,
          5.877801408646183,
          9.707367888755519,
          9.948596082524116,
          9.86548044815169,
          5.486956117413034,
          8.53022297218695,
          7.530182650957648,
          3.102570855611924,
          8.760949959740183,
          6.4486240336634895,
          5.802694082763096,
          4.7421803397686455,
          4.276882407468657,
          8.168602255286721,
          4.094254681026266,
          3.986017832932198,
          5.6900319358874905,
          5.560929325377407,
          8.53022297218695,
          7.618026221432331,
          4.604034895234111,
          4.974845132615259,
          6.591329882926312,
          7.3541210735272875,
          3.6752286054030807,
          4.574951603119789,
          10.656043245132544,
          3.8288378905855898,
          5.765139261770581,
          7.580324713983343,
          7.768829163092354,
          1.8920146244291554,
          2.290702236845638,
          9.484943354638546,
          3.0735755753714855,
          2.979339563530589,
          8.991675403225454,
          10.30028998649116,
          9.948596082524116,
          10.33497438514073,
          9.832682900552722,
          7.995033575582389,
          2.539142000034742,
          4.418654867647934,
          7.192195438296852,
          11.288493482717229,
          9.470199049661263,
          10.932740224075843,
          9.391142769963176,
          4.359672243500922,
          7.154642161372298,
          2.8343639343623734,
          8.107225553763307,
          8.414861022478297,
          2.9430964282725163,
          3.850955892119481,
          5.745866977492227,
          6.103125702397395,
          3.8781955670861565,
          4.052168020562775,
          5.577369016977905,
          7.881932141371353,
          7.004424421470195,
          5.727585984846026,
          4.367045940057527,
          7.316420338112282,
          4.241709311308842,
          6.226700549600465,
          4.13849145612803,
          5.524560348580361,
          11.525662321811485,
          3.196804551350876,
          8.568677984801809,
          3.2910397911577904,
          9.678132505946856,
          8.414861022478297,
          2.6602787639244667,
          4.389163169557437,
          7.417520504082042,
          7.530182650957648,
          8.684041478578427,
          10.735099524830629,
          10.41225035447765,
          8.414861022478297,
          4.531328595033259,
          7.203318131867263,
          5.782853581474412
         ],
         "yaxis": "y"
        },
        {
         "mode": "lines",
         "type": "scatter",
         "x": [
          "2023-11-23T00:00:00",
          "2023-11-24T00:00:00",
          "2023-11-27T00:00:00",
          "2023-11-28T00:00:00",
          "2023-11-29T00:00:00",
          "2023-11-30T00:00:00",
          "2023-12-01T00:00:00",
          "2023-12-04T00:00:00",
          "2023-12-05T00:00:00",
          "2023-12-06T00:00:00",
          "2023-12-07T00:00:00",
          "2023-12-08T00:00:00",
          "2023-12-11T00:00:00",
          "2023-12-12T00:00:00",
          "2023-12-13T00:00:00",
          "2023-12-14T00:00:00",
          "2023-12-15T00:00:00",
          "2023-12-18T00:00:00",
          "2023-12-19T00:00:00",
          "2023-12-20T00:00:00",
          "2023-12-21T00:00:00",
          "2023-12-22T00:00:00",
          "2023-12-27T00:00:00",
          "2023-12-28T00:00:00",
          "2023-12-29T00:00:00",
          "2024-01-02T00:00:00",
          "2024-01-03T00:00:00",
          "2024-01-04T00:00:00",
          "2024-01-05T00:00:00",
          "2024-01-08T00:00:00",
          "2024-01-09T00:00:00",
          "2024-01-10T00:00:00",
          "2024-01-11T00:00:00",
          "2024-01-12T00:00:00",
          "2024-01-15T00:00:00",
          "2024-01-16T00:00:00",
          "2024-01-17T00:00:00",
          "2024-01-18T00:00:00",
          "2024-01-19T00:00:00",
          "2024-01-22T00:00:00",
          "2024-01-23T00:00:00",
          "2024-01-24T00:00:00",
          "2024-01-25T00:00:00",
          "2024-01-26T00:00:00",
          "2024-01-29T00:00:00",
          "2024-01-30T00:00:00",
          "2024-01-31T00:00:00",
          "2024-02-01T00:00:00",
          "2024-02-02T00:00:00",
          "2024-02-05T00:00:00",
          "2024-02-06T00:00:00",
          "2024-02-07T00:00:00",
          "2024-02-12T00:00:00",
          "2024-02-13T00:00:00",
          "2024-02-15T00:00:00",
          "2024-02-16T00:00:00",
          "2024-02-19T00:00:00",
          "2024-02-20T00:00:00",
          "2024-02-21T00:00:00",
          "2024-02-22T00:00:00",
          "2024-02-23T00:00:00",
          "2024-02-26T00:00:00",
          "2024-02-27T00:00:00",
          "2024-02-28T00:00:00",
          "2024-02-29T00:00:00",
          "2024-03-01T00:00:00",
          "2024-03-04T00:00:00",
          "2024-03-05T00:00:00",
          "2024-03-06T00:00:00",
          "2024-03-07T00:00:00",
          "2024-03-08T00:00:00",
          "2024-03-13T00:00:00",
          "2024-03-14T00:00:00",
          "2024-03-15T00:00:00",
          "2024-03-18T00:00:00",
          "2024-03-19T00:00:00",
          "2024-03-20T00:00:00",
          "2024-03-21T00:00:00",
          "2024-03-22T00:00:00",
          "2024-03-25T00:00:00",
          "2024-03-26T00:00:00",
          "2024-03-27T00:00:00",
          "2024-03-28T00:00:00",
          "2024-04-01T00:00:00",
          "2024-04-02T00:00:00",
          "2024-04-03T00:00:00",
          "2024-04-04T00:00:00",
          "2024-04-05T00:00:00",
          "2024-04-16T00:00:00",
          "2024-04-17T00:00:00",
          "2024-04-18T00:00:00",
          "2024-04-19T00:00:00",
          "2024-04-22T00:00:00",
          "2024-04-23T00:00:00",
          "2024-04-24T00:00:00",
          "2024-04-25T00:00:00",
          "2024-04-26T00:00:00",
          "2024-04-29T00:00:00",
          "2024-04-30T00:00:00",
          "2024-05-02T00:00:00",
          "2024-05-03T00:00:00",
          "2024-05-06T00:00:00",
          "2024-05-07T00:00:00",
          "2024-05-08T00:00:00",
          "2024-05-13T00:00:00",
          "2024-05-14T00:00:00",
          "2024-05-15T00:00:00",
          "2024-05-16T00:00:00",
          "2024-05-17T00:00:00",
          "2024-05-20T00:00:00",
          "2024-05-21T00:00:00",
          "2024-05-22T00:00:00",
          "2024-05-27T00:00:00",
          "2024-05-28T00:00:00",
          "2024-05-29T00:00:00",
          "2024-05-30T00:00:00",
          "2024-05-31T00:00:00",
          "2024-06-03T00:00:00",
          "2024-06-04T00:00:00",
          "2024-06-05T00:00:00",
          "2024-06-06T00:00:00",
          "2024-06-07T00:00:00",
          "2024-06-10T00:00:00",
          "2024-06-11T00:00:00",
          "2024-06-12T00:00:00",
          "2024-06-13T00:00:00",
          "2024-06-14T00:00:00",
          "2024-06-19T00:00:00",
          "2024-06-20T00:00:00",
          "2024-06-21T00:00:00",
          "2024-06-24T00:00:00",
          "2024-06-25T00:00:00",
          "2024-06-26T00:00:00",
          "2024-06-27T00:00:00",
          "2024-06-28T00:00:00",
          "2024-07-01T00:00:00",
          "2024-07-02T00:00:00",
          "2024-07-03T00:00:00",
          "2024-07-04T00:00:00",
          "2024-07-05T00:00:00",
          "2024-07-08T00:00:00",
          "2024-07-09T00:00:00",
          "2024-07-10T00:00:00",
          "2024-07-11T00:00:00",
          "2024-07-12T00:00:00",
          "2024-07-15T00:00:00",
          "2024-07-16T00:00:00",
          "2024-07-17T00:00:00",
          "2024-07-18T00:00:00",
          "2024-07-19T00:00:00",
          "2024-07-22T00:00:00",
          "2024-07-23T00:00:00",
          "2024-07-24T00:00:00",
          "2024-07-25T00:00:00",
          "2024-07-26T00:00:00",
          "2024-07-29T00:00:00",
          "2024-07-30T00:00:00",
          "2024-07-31T00:00:00",
          "2024-08-01T00:00:00",
          "2024-08-02T00:00:00",
          "2024-08-05T00:00:00",
          "2024-08-06T00:00:00",
          "2024-08-07T00:00:00",
          "2024-08-08T00:00:00",
          "2024-08-09T00:00:00",
          "2024-08-12T00:00:00",
          "2024-08-13T00:00:00",
          "2024-08-14T00:00:00",
          "2024-08-15T00:00:00",
          "2024-08-16T00:00:00",
          "2024-08-19T00:00:00",
          "2024-08-20T00:00:00",
          "2024-08-21T00:00:00",
          "2024-08-22T00:00:00",
          "2024-08-23T00:00:00",
          "2024-08-26T00:00:00",
          "2024-08-27T00:00:00",
          "2024-08-28T00:00:00",
          "2024-08-29T00:00:00",
          "2024-08-30T00:00:00",
          "2024-09-02T00:00:00",
          "2024-09-03T00:00:00",
          "2024-09-04T00:00:00",
          "2024-09-05T00:00:00",
          "2024-09-06T00:00:00",
          "2024-09-09T00:00:00",
          "2024-09-10T00:00:00",
          "2024-09-11T00:00:00",
          "2024-09-12T00:00:00",
          "2024-09-13T00:00:00",
          "2024-09-17T00:00:00",
          "2024-09-18T00:00:00",
          "2024-09-19T00:00:00",
          "2024-09-20T00:00:00",
          "2024-09-23T00:00:00",
          "2024-09-24T00:00:00",
          "2024-09-25T00:00:00",
          "2024-09-26T00:00:00",
          "2024-09-27T00:00:00",
          "2024-09-30T00:00:00",
          "2024-10-01T00:00:00",
          "2024-10-02T00:00:00",
          "2024-10-03T00:00:00",
          "2024-10-04T00:00:00",
          "2024-10-07T00:00:00",
          "2024-10-08T00:00:00",
          "2024-10-09T00:00:00",
          "2024-10-10T00:00:00",
          "2024-10-11T00:00:00",
          "2024-10-14T00:00:00",
          "2024-10-15T00:00:00",
          "2024-10-16T00:00:00",
          "2024-10-17T00:00:00",
          "2024-10-18T00:00:00",
          "2024-10-21T00:00:00",
          "2024-10-22T00:00:00",
          "2024-10-23T00:00:00",
          "2024-10-24T00:00:00",
          "2024-10-25T00:00:00",
          "2024-10-28T00:00:00",
          "2024-10-29T00:00:00",
          "2024-10-30T00:00:00",
          "2024-10-31T00:00:00"
         ],
         "y": [
          4.0907628536224365,
          4.151779055595398,
          11.040313005447386,
          9.21127986907959,
          8.973119854927063,
          6.6439350843429565,
          9.258784413337708,
          3.9467425346374516,
          2.8747431635856633,
          4.038557946681976,
          11.749315738677977,
          3.8855840563774113,
          10.27508819103241,
          6.752078175544739,
          7.111188769340515,
          10.893725156784058,
          11.057766437530516,
          2.2476405948400497,
          4.22341451048851,
          4.231721937656403,
          4.2636895179748535,
          4.1561338901519775,
          9.55011510848999,
          2.9646286666393284,
          6.322892904281616,
          9.273940443992615,
          11.46012246608734,
          9.534017562866211,
          9.111283242702484,
          4.326480567455292,
          5.701947718858719,
          7.167669177055359,
          4.406280517578125,
          9.058241069316864,
          7.585068464279175,
          3.823364078998566,
          10.083336472511292,
          9.445470571517944,
          8.280601501464844,
          10.161417961120605,
          3.9371992051601414,
          9.32887351512909,
          11.798528909683226,
          6.76833963394165,
          7.866871237754822,
          9.06425142288208,
          9.39032506942749,
          10.345274329185486,
          4.0796859562397,
          11.547615170478819,
          4.89891904592514,
          6.093753665685654,
          6.450556039810181,
          4.366574615240097,
          3.022626087069512,
          5.60942879319191,
          7.300053656101227,
          3.357228115200997,
          10.72020709514618,
          4.536062061786652,
          4.914447486400604,
          4.722591519355774,
          8.33836567401886,
          9.271056234836578,
          6.238795161247253,
          7.764324128627777,
          8.120016813278198,
          8.999395728111267,
          4.832885801792145,
          6.021080315113068,
          4.548022449016571,
          4.731181859970093,
          8.990134000778198,
          9.374008536338806,
          2.184142589569092,
          6.785628497600555,
          10.510363340377808,
          11.913227200508116,
          10.770199179649353,
          4.821659088134766,
          6.048234760761261,
          4.500399231910706,
          6.095519334077835,
          9.393082737922668,
          10.517888903617859,
          8.825322985649109,
          6.1383572816848755,
          4.899264246225357,
          4.668123304843903,
          9.416013479232788,
          3.911854356527329,
          3.992244720458985,
          10.570209860801697,
          2.57328200340271,
          4.827435374259949,
          9.479574918746948,
          6.0796122550964355,
          5.029071360826492,
          8.990988969802856,
          8.578602135181427,
          5.184997320175171,
          3.7299401909112935,
          5.944836616516113,
          6.954795658588409,
          11.342930078506468,
          6.562097370624542,
          9.0562544465065,
          8.032065153121948,
          10.157520771026611,
          2.7705211937427525,
          4.285312235355377,
          2.7602594345808034,
          6.073990702629089,
          3.8244400024414067,
          9.984666228294373,
          6.299290120601654,
          4.186832457780838,
          6.171451926231384,
          3.6263087987899785,
          1.9940191805362701,
          6.734290361404419,
          6.288742333650589,
          10.82755160331726,
          10.295193076133728,
          4.228305995464325,
          4.35618057847023,
          9.280694305896759,
          9.264492511749268,
          3.7992167770862584,
          6.59522545337677,
          4.4140453934669495,
          7.759055972099304,
          6.903995156288147,
          8.251089990139008,
          3.807802855968476,
          7.641843914985657,
          6.574167907238007,
          10.112539172172546,
          10.484622478485107,
          10.583204865455627,
          5.998013854026794,
          8.826690673828125,
          7.715052604675293,
          3.6737071275711064,
          9.34442687034607,
          6.431492328643799,
          5.701637268066406,
          4.86559197306633,
          4.27328497171402,
          8.363548576831818,
          4.325168609619141,
          4.367362707853317,
          6.279199659824371,
          6.010447293519974,
          9.075111627578735,
          8.345495879650116,
          4.394049674272537,
          5.172386854887009,
          6.751785755157471,
          8.386569142341614,
          3.826278448104859,
          4.718125879764557,
          10.828578352928162,
          4.035018742084503,
          6.185912638902664,
          8.123987436294556,
          8.464933216571808,
          2.3764991462230682,
          2.1038312315940857,
          9.743721008300781,
          3.4332480728626256,
          3.0563372075557713,
          9.56489872932434,
          11.32206332683563,
          10.200838327407837,
          10.779011130332947,
          10.528471112251282,
          8.093036770820618,
          2.1905368268489838,
          4.130910664796829,
          7.765969157218933,
          12.001447677612303,
          10.67501175403595,
          11.172404408454893,
          10.455402731895447,
          4.429430246353149,
          7.760255813598633,
          2.817690044641495,
          9.053199768066406,
          9.121369779109955,
          2.775072723627091,
          3.922190368175507,
          6.273647606372833,
          6.227109491825104,
          4.097762912511826,
          4.2594815492630005,
          6.2659715712070465,
          8.48575472831726,
          7.730443358421326,
          6.287855565547943,
          4.513574540615082,
          8.166120886802673,
          4.233638405799866,
          6.45870840549469,
          4.078829675912857,
          5.865334004163742,
          11.944345712661741,
          3.0027406811714177,
          9.256028056144714,
          3.092638969421387,
          10.05431604385376,
          9.117896795272827,
          2.577419653534889,
          4.686817228794098,
          7.737062156200409,
          7.715956091880798,
          9.46340000629425,
          11.348326086997984,
          10.66718327999115,
          9.005543768405914,
          4.980688571929932,
          8.168910026550293,
          6.089669615030289
         ]
        }
       ],
       "layout": {
        "legend": {
         "tracegroupgap": 0
        },
        "template": {
         "data": {
          "bar": [
           {
            "error_x": {
             "color": "#2a3f5f"
            },
            "error_y": {
             "color": "#2a3f5f"
            },
            "marker": {
             "line": {
              "color": "#E5ECF6",
              "width": 0.5
             },
             "pattern": {
              "fillmode": "overlay",
              "size": 10,
              "solidity": 0.2
             }
            },
            "type": "bar"
           }
          ],
          "barpolar": [
           {
            "marker": {
             "line": {
              "color": "#E5ECF6",
              "width": 0.5
             },
             "pattern": {
              "fillmode": "overlay",
              "size": 10,
              "solidity": 0.2
             }
            },
            "type": "barpolar"
           }
          ],
          "carpet": [
           {
            "aaxis": {
             "endlinecolor": "#2a3f5f",
             "gridcolor": "white",
             "linecolor": "white",
             "minorgridcolor": "white",
             "startlinecolor": "#2a3f5f"
            },
            "baxis": {
             "endlinecolor": "#2a3f5f",
             "gridcolor": "white",
             "linecolor": "white",
             "minorgridcolor": "white",
             "startlinecolor": "#2a3f5f"
            },
            "type": "carpet"
           }
          ],
          "choropleth": [
           {
            "colorbar": {
             "outlinewidth": 0,
             "ticks": ""
            },
            "type": "choropleth"
           }
          ],
          "contour": [
           {
            "colorbar": {
             "outlinewidth": 0,
             "ticks": ""
            },
            "colorscale": [
             [
              0,
              "#0d0887"
             ],
             [
              0.1111111111111111,
              "#46039f"
             ],
             [
              0.2222222222222222,
              "#7201a8"
             ],
             [
              0.3333333333333333,
              "#9c179e"
             ],
             [
              0.4444444444444444,
              "#bd3786"
             ],
             [
              0.5555555555555556,
              "#d8576b"
             ],
             [
              0.6666666666666666,
              "#ed7953"
             ],
             [
              0.7777777777777778,
              "#fb9f3a"
             ],
             [
              0.8888888888888888,
              "#fdca26"
             ],
             [
              1,
              "#f0f921"
             ]
            ],
            "type": "contour"
           }
          ],
          "contourcarpet": [
           {
            "colorbar": {
             "outlinewidth": 0,
             "ticks": ""
            },
            "type": "contourcarpet"
           }
          ],
          "heatmap": [
           {
            "colorbar": {
             "outlinewidth": 0,
             "ticks": ""
            },
            "colorscale": [
             [
              0,
              "#0d0887"
             ],
             [
              0.1111111111111111,
              "#46039f"
             ],
             [
              0.2222222222222222,
              "#7201a8"
             ],
             [
              0.3333333333333333,
              "#9c179e"
             ],
             [
              0.4444444444444444,
              "#bd3786"
             ],
             [
              0.5555555555555556,
              "#d8576b"
             ],
             [
              0.6666666666666666,
              "#ed7953"
             ],
             [
              0.7777777777777778,
              "#fb9f3a"
             ],
             [
              0.8888888888888888,
              "#fdca26"
             ],
             [
              1,
              "#f0f921"
             ]
            ],
            "type": "heatmap"
           }
          ],
          "heatmapgl": [
           {
            "colorbar": {
             "outlinewidth": 0,
             "ticks": ""
            },
            "colorscale": [
             [
              0,
              "#0d0887"
             ],
             [
              0.1111111111111111,
              "#46039f"
             ],
             [
              0.2222222222222222,
              "#7201a8"
             ],
             [
              0.3333333333333333,
              "#9c179e"
             ],
             [
              0.4444444444444444,
              "#bd3786"
             ],
             [
              0.5555555555555556,
              "#d8576b"
             ],
             [
              0.6666666666666666,
              "#ed7953"
             ],
             [
              0.7777777777777778,
              "#fb9f3a"
             ],
             [
              0.8888888888888888,
              "#fdca26"
             ],
             [
              1,
              "#f0f921"
             ]
            ],
            "type": "heatmapgl"
           }
          ],
          "histogram": [
           {
            "marker": {
             "pattern": {
              "fillmode": "overlay",
              "size": 10,
              "solidity": 0.2
             }
            },
            "type": "histogram"
           }
          ],
          "histogram2d": [
           {
            "colorbar": {
             "outlinewidth": 0,
             "ticks": ""
            },
            "colorscale": [
             [
              0,
              "#0d0887"
             ],
             [
              0.1111111111111111,
              "#46039f"
             ],
             [
              0.2222222222222222,
              "#7201a8"
             ],
             [
              0.3333333333333333,
              "#9c179e"
             ],
             [
              0.4444444444444444,
              "#bd3786"
             ],
             [
              0.5555555555555556,
              "#d8576b"
             ],
             [
              0.6666666666666666,
              "#ed7953"
             ],
             [
              0.7777777777777778,
              "#fb9f3a"
             ],
             [
              0.8888888888888888,
              "#fdca26"
             ],
             [
              1,
              "#f0f921"
             ]
            ],
            "type": "histogram2d"
           }
          ],
          "histogram2dcontour": [
           {
            "colorbar": {
             "outlinewidth": 0,
             "ticks": ""
            },
            "colorscale": [
             [
              0,
              "#0d0887"
             ],
             [
              0.1111111111111111,
              "#46039f"
             ],
             [
              0.2222222222222222,
              "#7201a8"
             ],
             [
              0.3333333333333333,
              "#9c179e"
             ],
             [
              0.4444444444444444,
              "#bd3786"
             ],
             [
              0.5555555555555556,
              "#d8576b"
             ],
             [
              0.6666666666666666,
              "#ed7953"
             ],
             [
              0.7777777777777778,
              "#fb9f3a"
             ],
             [
              0.8888888888888888,
              "#fdca26"
             ],
             [
              1,
              "#f0f921"
             ]
            ],
            "type": "histogram2dcontour"
           }
          ],
          "mesh3d": [
           {
            "colorbar": {
             "outlinewidth": 0,
             "ticks": ""
            },
            "type": "mesh3d"
           }
          ],
          "parcoords": [
           {
            "line": {
             "colorbar": {
              "outlinewidth": 0,
              "ticks": ""
             }
            },
            "type": "parcoords"
           }
          ],
          "pie": [
           {
            "automargin": true,
            "type": "pie"
           }
          ],
          "scatter": [
           {
            "fillpattern": {
             "fillmode": "overlay",
             "size": 10,
             "solidity": 0.2
            },
            "type": "scatter"
           }
          ],
          "scatter3d": [
           {
            "line": {
             "colorbar": {
              "outlinewidth": 0,
              "ticks": ""
             }
            },
            "marker": {
             "colorbar": {
              "outlinewidth": 0,
              "ticks": ""
             }
            },
            "type": "scatter3d"
           }
          ],
          "scattercarpet": [
           {
            "marker": {
             "colorbar": {
              "outlinewidth": 0,
              "ticks": ""
             }
            },
            "type": "scattercarpet"
           }
          ],
          "scattergeo": [
           {
            "marker": {
             "colorbar": {
              "outlinewidth": 0,
              "ticks": ""
             }
            },
            "type": "scattergeo"
           }
          ],
          "scattergl": [
           {
            "marker": {
             "colorbar": {
              "outlinewidth": 0,
              "ticks": ""
             }
            },
            "type": "scattergl"
           }
          ],
          "scattermapbox": [
           {
            "marker": {
             "colorbar": {
              "outlinewidth": 0,
              "ticks": ""
             }
            },
            "type": "scattermapbox"
           }
          ],
          "scatterpolar": [
           {
            "marker": {
             "colorbar": {
              "outlinewidth": 0,
              "ticks": ""
             }
            },
            "type": "scatterpolar"
           }
          ],
          "scatterpolargl": [
           {
            "marker": {
             "colorbar": {
              "outlinewidth": 0,
              "ticks": ""
             }
            },
            "type": "scatterpolargl"
           }
          ],
          "scatterternary": [
           {
            "marker": {
             "colorbar": {
              "outlinewidth": 0,
              "ticks": ""
             }
            },
            "type": "scatterternary"
           }
          ],
          "surface": [
           {
            "colorbar": {
             "outlinewidth": 0,
             "ticks": ""
            },
            "colorscale": [
             [
              0,
              "#0d0887"
             ],
             [
              0.1111111111111111,
              "#46039f"
             ],
             [
              0.2222222222222222,
              "#7201a8"
             ],
             [
              0.3333333333333333,
              "#9c179e"
             ],
             [
              0.4444444444444444,
              "#bd3786"
             ],
             [
              0.5555555555555556,
              "#d8576b"
             ],
             [
              0.6666666666666666,
              "#ed7953"
             ],
             [
              0.7777777777777778,
              "#fb9f3a"
             ],
             [
              0.8888888888888888,
              "#fdca26"
             ],
             [
              1,
              "#f0f921"
             ]
            ],
            "type": "surface"
           }
          ],
          "table": [
           {
            "cells": {
             "fill": {
              "color": "#EBF0F8"
             },
             "line": {
              "color": "white"
             }
            },
            "header": {
             "fill": {
              "color": "#C8D4E3"
             },
             "line": {
              "color": "white"
             }
            },
            "type": "table"
           }
          ]
         },
         "layout": {
          "annotationdefaults": {
           "arrowcolor": "#2a3f5f",
           "arrowhead": 0,
           "arrowwidth": 1
          },
          "autotypenumbers": "strict",
          "coloraxis": {
           "colorbar": {
            "outlinewidth": 0,
            "ticks": ""
           }
          },
          "colorscale": {
           "diverging": [
            [
             0,
             "#8e0152"
            ],
            [
             0.1,
             "#c51b7d"
            ],
            [
             0.2,
             "#de77ae"
            ],
            [
             0.3,
             "#f1b6da"
            ],
            [
             0.4,
             "#fde0ef"
            ],
            [
             0.5,
             "#f7f7f7"
            ],
            [
             0.6,
             "#e6f5d0"
            ],
            [
             0.7,
             "#b8e186"
            ],
            [
             0.8,
             "#7fbc41"
            ],
            [
             0.9,
             "#4d9221"
            ],
            [
             1,
             "#276419"
            ]
           ],
           "sequential": [
            [
             0,
             "#0d0887"
            ],
            [
             0.1111111111111111,
             "#46039f"
            ],
            [
             0.2222222222222222,
             "#7201a8"
            ],
            [
             0.3333333333333333,
             "#9c179e"
            ],
            [
             0.4444444444444444,
             "#bd3786"
            ],
            [
             0.5555555555555556,
             "#d8576b"
            ],
            [
             0.6666666666666666,
             "#ed7953"
            ],
            [
             0.7777777777777778,
             "#fb9f3a"
            ],
            [
             0.8888888888888888,
             "#fdca26"
            ],
            [
             1,
             "#f0f921"
            ]
           ],
           "sequentialminus": [
            [
             0,
             "#0d0887"
            ],
            [
             0.1111111111111111,
             "#46039f"
            ],
            [
             0.2222222222222222,
             "#7201a8"
            ],
            [
             0.3333333333333333,
             "#9c179e"
            ],
            [
             0.4444444444444444,
             "#bd3786"
            ],
            [
             0.5555555555555556,
             "#d8576b"
            ],
            [
             0.6666666666666666,
             "#ed7953"
            ],
            [
             0.7777777777777778,
             "#fb9f3a"
            ],
            [
             0.8888888888888888,
             "#fdca26"
            ],
            [
             1,
             "#f0f921"
            ]
           ]
          },
          "colorway": [
           "#636efa",
           "#EF553B",
           "#00cc96",
           "#ab63fa",
           "#FFA15A",
           "#19d3f3",
           "#FF6692",
           "#B6E880",
           "#FF97FF",
           "#FECB52"
          ],
          "font": {
           "color": "#2a3f5f"
          },
          "geo": {
           "bgcolor": "white",
           "lakecolor": "white",
           "landcolor": "#E5ECF6",
           "showlakes": true,
           "showland": true,
           "subunitcolor": "white"
          },
          "hoverlabel": {
           "align": "left"
          },
          "hovermode": "closest",
          "mapbox": {
           "style": "light"
          },
          "paper_bgcolor": "white",
          "plot_bgcolor": "#E5ECF6",
          "polar": {
           "angularaxis": {
            "gridcolor": "white",
            "linecolor": "white",
            "ticks": ""
           },
           "bgcolor": "#E5ECF6",
           "radialaxis": {
            "gridcolor": "white",
            "linecolor": "white",
            "ticks": ""
           }
          },
          "scene": {
           "xaxis": {
            "backgroundcolor": "#E5ECF6",
            "gridcolor": "white",
            "gridwidth": 2,
            "linecolor": "white",
            "showbackground": true,
            "ticks": "",
            "zerolinecolor": "white"
           },
           "yaxis": {
            "backgroundcolor": "#E5ECF6",
            "gridcolor": "white",
            "gridwidth": 2,
            "linecolor": "white",
            "showbackground": true,
            "ticks": "",
            "zerolinecolor": "white"
           },
           "zaxis": {
            "backgroundcolor": "#E5ECF6",
            "gridcolor": "white",
            "gridwidth": 2,
            "linecolor": "white",
            "showbackground": true,
            "ticks": "",
            "zerolinecolor": "white"
           }
          },
          "shapedefaults": {
           "line": {
            "color": "#2a3f5f"
           }
          },
          "ternary": {
           "aaxis": {
            "gridcolor": "white",
            "linecolor": "white",
            "ticks": ""
           },
           "baxis": {
            "gridcolor": "white",
            "linecolor": "white",
            "ticks": ""
           },
           "bgcolor": "#E5ECF6",
           "caxis": {
            "gridcolor": "white",
            "linecolor": "white",
            "ticks": ""
           }
          },
          "title": {
           "x": 0.05
          },
          "xaxis": {
           "automargin": true,
           "gridcolor": "white",
           "linecolor": "white",
           "ticks": "",
           "title": {
            "standoff": 15
           },
           "zerolinecolor": "white",
           "zerolinewidth": 2
          },
          "yaxis": {
           "automargin": true,
           "gridcolor": "white",
           "linecolor": "white",
           "ticks": "",
           "title": {
            "standoff": 15
           },
           "zerolinecolor": "white",
           "zerolinewidth": 2
          }
         }
        },
        "title": {
         "text": "Real Prices vs Predicted Prices"
        },
        "xaxis": {
         "anchor": "y",
         "domain": [
          0,
          1
         ],
         "title": {
          "text": "x"
         }
        },
        "yaxis": {
         "anchor": "x",
         "domain": [
          0,
          1
         ],
         "title": {
          "text": "y"
         }
        }
       }
      }
     },
     "metadata": {},
     "output_type": "display_data"
    }
   ],
   "source": [
    "# conpare real and predicted prices\n",
    "import plotly.express as px\n",
    "\n",
    "fig = px.line(x=data['date'][-len(real_prices):], y=real_prices, title='Real Prices vs Predicted Prices')\n",
    "fig.add_scatter(x=data['date'][-len(predicted_prices):], y=predicted_prices, mode='lines')\n",
    "\n",
    "fig.show()"
   ]
  },
  {
   "cell_type": "code",
   "execution_count": 59,
   "metadata": {},
   "outputs": [
    {
     "data": {
      "text/plain": [
       "0.48697831213803355"
      ]
     },
     "execution_count": 59,
     "metadata": {},
     "output_type": "execute_result"
    }
   ],
   "source": [
    "# calculate RMSE\n",
    "from sklearn.metrics import mean_squared_error\n",
    "\n",
    "rmse = np.sqrt(mean_squared_error(real_prices, predicted_prices))\n",
    "rmse"
   ]
  },
  {
   "cell_type": "code",
   "execution_count": 60,
   "metadata": {},
   "outputs": [
    {
     "data": {
      "text/plain": [
       "0.39635868493910936"
      ]
     },
     "execution_count": 60,
     "metadata": {},
     "output_type": "execute_result"
    }
   ],
   "source": [
    "# calculate MAE\n",
    "from sklearn.metrics import mean_absolute_error\n",
    "\n",
    "mae = mean_absolute_error(real_prices, predicted_prices)\n",
    "mae"
   ]
  },
  {
   "cell_type": "markdown",
   "metadata": {},
   "source": [
    "Directional Accuracy adalah metrik yang digunakan untuk mengukur seberapa baik model memprediksi arah perubahan harga (naik atau turun) dibandingkan dengan nilai aktual. Ini adalah metrik yang sangat berguna dalam prediksi saham karena dalam banyak kasus, arah perubahan harga lebih penting daripada nilai absolut dari harga itu sendiri—terutama jika tujuannya adalah untuk membuat keputusan beli atau jual."
   ]
  },
  {
   "cell_type": "code",
   "execution_count": 61,
   "metadata": {},
   "outputs": [
    {
     "data": {
      "text/plain": [
       "0.9594594594594594"
      ]
     },
     "execution_count": 61,
     "metadata": {},
     "output_type": "execute_result"
    }
   ],
   "source": [
    "# direction accuracy\n",
    "direction_accuracy = np.mean(np.sign(real_prices[1:] - real_prices[:-1]) == np.sign(predicted_prices[1:] - predicted_prices[:-1]))\n",
    "direction_accuracy"
   ]
  },
  {
   "cell_type": "markdown",
   "metadata": {},
   "source": [
    "# Close Only"
   ]
  },
  {
   "cell_type": "code",
   "execution_count": 62,
   "metadata": {},
   "outputs": [
    {
     "data": {
      "text/plain": [
       "940"
      ]
     },
     "execution_count": 62,
     "metadata": {},
     "output_type": "execute_result"
    }
   ],
   "source": [
    "data_used = data.filter(['Close'])\n",
    "\n",
    "dataset = data_used.values\n",
    "\n",
    "training_data_len = int(np.ceil( len(dataset) * .80 ))\n",
    "\n",
    "training_data_len"
   ]
  },
  {
   "cell_type": "code",
   "execution_count": 63,
   "metadata": {},
   "outputs": [
    {
     "data": {
      "text/plain": [
       "array([[0.29150399],\n",
       "       [0.29344727],\n",
       "       [0.2921518 ],\n",
       "       ...,\n",
       "       [0.93531759],\n",
       "       [0.91375679],\n",
       "       [0.89938292]])"
      ]
     },
     "execution_count": 63,
     "metadata": {},
     "output_type": "execute_result"
    }
   ],
   "source": [
    "from sklearn.preprocessing import MinMaxScaler\n",
    "\n",
    "scaler = MinMaxScaler(feature_range=(0,1))\n",
    "scaled_data = scaler.fit_transform(dataset)\n",
    "\n",
    "scaled_data"
   ]
  },
  {
   "cell_type": "code",
   "execution_count": 64,
   "metadata": {},
   "outputs": [
    {
     "name": "stdout",
     "output_type": "stream",
     "text": [
      "[array([0.29150399, 0.29344727, 0.2921518 , 0.29279961, 0.30705093,\n",
      "       0.29862973, 0.29927753, 0.29150399, 0.29927753, 0.29733404,\n",
      "       0.29992527, 0.31611995, 0.31158537, 0.31352865, 0.31676775,\n",
      "       0.31158537, 0.31093756, 0.31223311, 0.31223311, 0.30834655,\n",
      "       0.31223311, 0.30575532, 0.30510744, 0.29927753, 0.2655925 ,\n",
      "       0.26041026, 0.28113951, 0.29798192, 0.29927753, 0.30186862,\n",
      "       0.30510744, 0.30445964, 0.30705093, 0.30575532, 0.29150399,\n",
      "       0.29668617, 0.29344727, 0.29344727, 0.2804917 , 0.28308293,\n",
      "       0.27142255, 0.27207035, 0.25781917, 0.24097669, 0.24097669,\n",
      "       0.21376965, 0.24486339, 0.26041026, 0.25976245, 0.22931659,\n",
      "       0.17555018, 0.1936882 , 0.18397145, 0.14639979, 0.14639979,\n",
      "       0.14639979, 0.08939469, 0.07384775, 0.02850269, 0.03951505])]\n",
      "[0.0]\n",
      "\n",
      "[array([0.29150399, 0.29344727, 0.2921518 , 0.29279961, 0.30705093,\n",
      "       0.29862973, 0.29927753, 0.29150399, 0.29927753, 0.29733404,\n",
      "       0.29992527, 0.31611995, 0.31158537, 0.31352865, 0.31676775,\n",
      "       0.31158537, 0.31093756, 0.31223311, 0.31223311, 0.30834655,\n",
      "       0.31223311, 0.30575532, 0.30510744, 0.29927753, 0.2655925 ,\n",
      "       0.26041026, 0.28113951, 0.29798192, 0.29927753, 0.30186862,\n",
      "       0.30510744, 0.30445964, 0.30705093, 0.30575532, 0.29150399,\n",
      "       0.29668617, 0.29344727, 0.29344727, 0.2804917 , 0.28308293,\n",
      "       0.27142255, 0.27207035, 0.25781917, 0.24097669, 0.24097669,\n",
      "       0.21376965, 0.24486339, 0.26041026, 0.25976245, 0.22931659,\n",
      "       0.17555018, 0.1936882 , 0.18397145, 0.14639979, 0.14639979,\n",
      "       0.14639979, 0.08939469, 0.07384775, 0.02850269, 0.03951505]), array([0.29344727, 0.2921518 , 0.29279961, 0.30705093, 0.29862973,\n",
      "       0.29927753, 0.29150399, 0.29927753, 0.29733404, 0.29992527,\n",
      "       0.31611995, 0.31158537, 0.31352865, 0.31676775, 0.31158537,\n",
      "       0.31093756, 0.31223311, 0.31223311, 0.30834655, 0.31223311,\n",
      "       0.30575532, 0.30510744, 0.29927753, 0.2655925 , 0.26041026,\n",
      "       0.28113951, 0.29798192, 0.29927753, 0.30186862, 0.30510744,\n",
      "       0.30445964, 0.30705093, 0.30575532, 0.29150399, 0.29668617,\n",
      "       0.29344727, 0.29344727, 0.2804917 , 0.28308293, 0.27142255,\n",
      "       0.27207035, 0.25781917, 0.24097669, 0.24097669, 0.21376965,\n",
      "       0.24486339, 0.26041026, 0.25976245, 0.22931659, 0.17555018,\n",
      "       0.1936882 , 0.18397145, 0.14639979, 0.14639979, 0.14639979,\n",
      "       0.08939469, 0.07384775, 0.02850269, 0.03951505, 0.        ])]\n",
      "[0.0, 0.009069153364725913]\n",
      "\n"
     ]
    }
   ],
   "source": [
    "train_data = scaled_data[0:int(training_data_len), :]\n",
    "\n",
    "x_train = []\n",
    "y_train = []\n",
    "\n",
    "for i in range(60, len(train_data)):\n",
    "    x_train.append(train_data[i-60:i, 0])\n",
    "    y_train.append(train_data[i, 0])\n",
    "    if i<= 61:\n",
    "        print(x_train)\n",
    "        print(y_train)\n",
    "        print()\n",
    "\n",
    "x_train, y_train = np.array(x_train), np.array(y_train)\n",
    "\n",
    "x_train = np.reshape(x_train, (x_train.shape[0], x_train.shape[1], 1))"
   ]
  },
  {
   "cell_type": "code",
   "execution_count": 65,
   "metadata": {},
   "outputs": [
    {
     "name": "stdout",
     "output_type": "stream",
     "text": [
      "Epoch 1/30\n",
      "176/176 [==============================] - 5s 16ms/step - loss: 0.0046\n",
      "Epoch 2/30\n",
      "176/176 [==============================] - 3s 17ms/step - loss: 9.3798e-04\n",
      "Epoch 3/30\n",
      "176/176 [==============================] - 3s 16ms/step - loss: 9.0300e-04\n",
      "Epoch 4/30\n",
      "176/176 [==============================] - 3s 16ms/step - loss: 6.9981e-04\n",
      "Epoch 5/30\n",
      "176/176 [==============================] - 3s 16ms/step - loss: 6.5463e-04\n",
      "Epoch 6/30\n",
      "176/176 [==============================] - 3s 16ms/step - loss: 5.2874e-04\n",
      "Epoch 7/30\n",
      "176/176 [==============================] - 3s 16ms/step - loss: 5.6460e-04\n",
      "Epoch 8/30\n",
      "176/176 [==============================] - 3s 16ms/step - loss: 4.4440e-04\n",
      "Epoch 9/30\n",
      "176/176 [==============================] - 3s 16ms/step - loss: 3.9527e-04\n",
      "Epoch 10/30\n",
      "176/176 [==============================] - 3s 16ms/step - loss: 3.7857e-04\n",
      "Epoch 11/30\n",
      "176/176 [==============================] - 3s 15ms/step - loss: 4.5611e-04\n",
      "Epoch 12/30\n",
      "176/176 [==============================] - 3s 16ms/step - loss: 3.7174e-04\n",
      "Epoch 13/30\n",
      "176/176 [==============================] - 3s 15ms/step - loss: 3.7490e-04\n",
      "Epoch 14/30\n",
      "176/176 [==============================] - 3s 15ms/step - loss: 3.9227e-04\n",
      "Epoch 15/30\n",
      "176/176 [==============================] - 3s 16ms/step - loss: 4.0546e-04\n",
      "Epoch 16/30\n",
      "176/176 [==============================] - 3s 16ms/step - loss: 3.2317e-04\n",
      "Epoch 17/30\n",
      "176/176 [==============================] - 3s 16ms/step - loss: 3.0586e-04\n",
      "Epoch 18/30\n",
      "176/176 [==============================] - 3s 16ms/step - loss: 2.8777e-04\n",
      "Epoch 19/30\n",
      "176/176 [==============================] - 3s 17ms/step - loss: 3.5390e-04\n",
      "Epoch 20/30\n",
      "176/176 [==============================] - 3s 17ms/step - loss: 3.4217e-04\n",
      "Epoch 21/30\n",
      "176/176 [==============================] - 3s 16ms/step - loss: 3.1932e-04\n",
      "Epoch 22/30\n",
      "176/176 [==============================] - 3s 16ms/step - loss: 2.8446e-04\n",
      "Epoch 23/30\n",
      "176/176 [==============================] - 3s 16ms/step - loss: 3.2278e-04\n",
      "Epoch 24/30\n",
      "176/176 [==============================] - 3s 16ms/step - loss: 3.0313e-04\n",
      "Epoch 25/30\n",
      "176/176 [==============================] - 3s 16ms/step - loss: 2.8133e-04\n",
      "Epoch 26/30\n",
      "176/176 [==============================] - 3s 15ms/step - loss: 3.3716e-04\n",
      "Epoch 27/30\n",
      "176/176 [==============================] - 3s 16ms/step - loss: 3.1597e-04\n",
      "Epoch 28/30\n",
      "176/176 [==============================] - 3s 16ms/step - loss: 2.7881e-04\n",
      "Epoch 29/30\n",
      "176/176 [==============================] - 3s 16ms/step - loss: 3.4148e-04\n",
      "Epoch 30/30\n",
      "176/176 [==============================] - 3s 16ms/step - loss: 2.8480e-04\n"
     ]
    },
    {
     "data": {
      "text/plain": [
       "<keras.src.callbacks.History at 0x1c40fd292b0>"
      ]
     },
     "execution_count": 65,
     "metadata": {},
     "output_type": "execute_result"
    }
   ],
   "source": [
    "from keras.models import Sequential\n",
    "from keras.layers import Dense, LSTM\n",
    "\n",
    "model = Sequential()\n",
    "model.add(LSTM(128, return_sequences=True, input_shape=(x_train.shape[1], 1)))\n",
    "model.add(LSTM(64, return_sequences=False))\n",
    "model.add(Dense(25))\n",
    "model.add(Dense(1))\n",
    "\n",
    "model.compile(optimizer='adam', loss='mean_squared_error')\n",
    "\n",
    "model.fit(x_train, y_train, batch_size=5, epochs=30)"
   ]
  },
  {
   "cell_type": "code",
   "execution_count": 66,
   "metadata": {},
   "outputs": [
    {
     "name": "stdout",
     "output_type": "stream",
     "text": [
      "295\n",
      "8/8 [==============================] - 1s 12ms/step\n"
     ]
    }
   ],
   "source": [
    "test_data = scaled_data[training_data_len - 60: , :]\n",
    "print(len(test_data))\n",
    "\n",
    "x_test = []\n",
    "y_test = dataset[training_data_len:, :]\n",
    "for i in range(60, len(test_data)):\n",
    "    x_test.append(test_data[i-60:i, 0])\n",
    "\n",
    "x_test = np.array(x_test)\n",
    "\n",
    "x_test = np.reshape(x_test, (x_test.shape[0], x_test.shape[1], 1))\n",
    "\n",
    "predictions = model.predict(x_test)\n",
    "predictions = scaler.inverse_transform(predictions)\n"
   ]
  },
  {
   "cell_type": "code",
   "execution_count": 67,
   "metadata": {},
   "outputs": [
    {
     "name": "stdout",
     "output_type": "stream",
     "text": [
      "RMSE:  136.6410738031915\n",
      "MAE:  154.90757978723406\n"
     ]
    }
   ],
   "source": [
    "from sklearn.metrics import mean_squared_error, mean_absolute_error\n",
    "\n",
    "y_test = dataset[training_data_len:, :]\n",
    "test = predictions[:-1, 0]\n",
    "\n",
    "rmse = np.sqrt(np.mean(predictions - y_test)**2)\n",
    "mae = mean_absolute_error(predictions, y_test)\n",
    "\n",
    "print(\"RMSE: \", rmse)\n",
    "print(\"MAE: \", mae)"
   ]
  },
  {
   "cell_type": "code",
   "execution_count": 68,
   "metadata": {},
   "outputs": [
    {
     "name": "stderr",
     "output_type": "stream",
     "text": [
      "C:\\Users\\thari\\AppData\\Local\\Temp\\ipykernel_5296\\4018437278.py:6: SettingWithCopyWarning:\n",
      "\n",
      "\n",
      "A value is trying to be set on a copy of a slice from a DataFrame.\n",
      "Try using .loc[row_indexer,col_indexer] = value instead\n",
      "\n",
      "See the caveats in the documentation: https://pandas.pydata.org/pandas-docs/stable/user_guide/indexing.html#returning-a-view-versus-a-copy\n",
      "\n"
     ]
    },
    {
     "data": {
      "image/png": "[encoded data removed]",
      "text/plain": [
       "<Figure size 1600x800 with 1 Axes>"
      ]
     },
     "metadata": {},
     "output_type": "display_data"
    }
   ],
   "source": [
    "import matplotlib.pyplot as plt\n",
    "\n",
    "train = data[:training_data_len]\n",
    "# ambil data dari training_data_len sampai akhir -1\n",
    "valid = data[training_data_len-1:-1]  # Ambil 1 baris sebelum training_data_len dan hilangkan baris terakhir\n",
    "valid['Predictions'] = predictions[:, 0]  # Predictions harus sesuai panjang dengan valid\n",
    "\n",
    "plt.figure(figsize=(16,8))\n",
    "plt.title('Model')\n",
    "plt.xlabel('Date')\n",
    "plt.ylabel('Close Price USD ($)')\n",
    "plt.plot(train['Close'])\n",
    "plt.plot(valid[['Close', 'Predictions']])\n",
    "plt.legend(['Train', 'Val', 'Predictions'], loc='lower right')\n",
    "plt.show()"
   ]
  },
  {
   "cell_type": "code",
   "execution_count": 69,
   "metadata": {},
   "outputs": [
    {
     "data": {
      "application/vnd.plotly.v1+json": {
       "config": {
        "plotlyServerURL": "https://plot.ly"
       },
       "data": [
        {
         "mode": "lines",
         "name": "Val",
         "type": "scatter",
         "x": [
          "2023-11-06T00:00:00",
          "2023-11-07T00:00:00",
          "2023-11-08T00:00:00",
          "2023-11-09T00:00:00",
          "2023-11-10T00:00:00",
          "2023-11-13T00:00:00",
          "2023-11-14T00:00:00",
          "2023-11-15T00:00:00",
          "2023-11-16T00:00:00",
          "2023-11-17T00:00:00",
          "2023-11-20T00:00:00",
          "2023-11-21T00:00:00",
          "2023-11-22T00:00:00",
          "2023-11-23T00:00:00",
          "2023-11-24T00:00:00",
          "2023-11-27T00:00:00",
          "2023-11-28T00:00:00",
          "2023-11-29T00:00:00",
          "2023-11-30T00:00:00",
          "2023-12-01T00:00:00",
          "2023-12-04T00:00:00",
          "2023-12-05T00:00:00",
          "2023-12-06T00:00:00",
          "2023-12-07T00:00:00",
          "2023-12-08T00:00:00",
          "2023-12-11T00:00:00",
          "2023-12-12T00:00:00",
          "2023-12-13T00:00:00",
          "2023-12-14T00:00:00",
          "2023-12-15T00:00:00",
          "2023-12-18T00:00:00",
          "2023-12-19T00:00:00",
          "2023-12-20T00:00:00",
          "2023-12-21T00:00:00",
          "2023-12-22T00:00:00",
          "2023-12-27T00:00:00",
          "2023-12-28T00:00:00",
          "2023-12-29T00:00:00",
          "2024-01-02T00:00:00",
          "2024-01-03T00:00:00",
          "2024-01-04T00:00:00",
          "2024-01-05T00:00:00",
          "2024-01-08T00:00:00",
          "2024-01-09T00:00:00",
          "2024-01-10T00:00:00",
          "2024-01-11T00:00:00",
          "2024-01-12T00:00:00",
          "2024-01-15T00:00:00",
          "2024-01-16T00:00:00",
          "2024-01-17T00:00:00",
          "2024-01-18T00:00:00",
          "2024-01-19T00:00:00",
          "2024-01-22T00:00:00",
          "2024-01-23T00:00:00",
          "2024-01-24T00:00:00",
          "2024-01-25T00:00:00",
          "2024-01-26T00:00:00",
          "2024-01-29T00:00:00",
          "2024-01-30T00:00:00",
          "2024-01-31T00:00:00",
          "2024-02-01T00:00:00",
          "2024-02-02T00:00:00",
          "2024-02-05T00:00:00",
          "2024-02-06T00:00:00",
          "2024-02-07T00:00:00",
          "2024-02-12T00:00:00",
          "2024-02-13T00:00:00",
          "2024-02-15T00:00:00",
          "2024-02-16T00:00:00",
          "2024-02-19T00:00:00",
          "2024-02-20T00:00:00",
          "2024-02-21T00:00:00",
          "2024-02-22T00:00:00",
          "2024-02-23T00:00:00",
          "2024-02-26T00:00:00",
          "2024-02-27T00:00:00",
          "2024-02-28T00:00:00",
          "2024-02-29T00:00:00",
          "2024-03-01T00:00:00",
          "2024-03-04T00:00:00",
          "2024-03-05T00:00:00",
          "2024-03-06T00:00:00",
          "2024-03-07T00:00:00",
          "2024-03-08T00:00:00",
          "2024-03-13T00:00:00",
          "2024-03-14T00:00:00",
          "2024-03-15T00:00:00",
          "2024-03-18T00:00:00",
          "2024-03-19T00:00:00",
          "2024-03-20T00:00:00",
          "2024-03-21T00:00:00",
          "2024-03-22T00:00:00",
          "2024-03-25T00:00:00",
          "2024-03-26T00:00:00",
          "2024-03-27T00:00:00",
          "2024-03-28T00:00:00",
          "2024-04-01T00:00:00",
          "2024-04-02T00:00:00",
          "2024-04-03T00:00:00",
          "2024-04-04T00:00:00",
          "2024-04-05T00:00:00",
          "2024-04-16T00:00:00",
          "2024-04-17T00:00:00",
          "2024-04-18T00:00:00",
          "2024-04-19T00:00:00",
          "2024-04-22T00:00:00",
          "2024-04-23T00:00:00",
          "2024-04-24T00:00:00",
          "2024-04-25T00:00:00",
          "2024-04-26T00:00:00",
          "2024-04-29T00:00:00",
          "2024-04-30T00:00:00",
          "2024-05-02T00:00:00",
          "2024-05-03T00:00:00",
          "2024-05-06T00:00:00",
          "2024-05-07T00:00:00",
          "2024-05-08T00:00:00",
          "2024-05-13T00:00:00",
          "2024-05-14T00:00:00",
          "2024-05-15T00:00:00",
          "2024-05-16T00:00:00",
          "2024-05-17T00:00:00",
          "2024-05-20T00:00:00",
          "2024-05-21T00:00:00",
          "2024-05-22T00:00:00",
          "2024-05-27T00:00:00",
          "2024-05-28T00:00:00",
          "2024-05-29T00:00:00",
          "2024-05-30T00:00:00",
          "2024-05-31T00:00:00",
          "2024-06-03T00:00:00",
          "2024-06-04T00:00:00",
          "2024-06-05T00:00:00",
          "2024-06-06T00:00:00",
          "2024-06-07T00:00:00",
          "2024-06-10T00:00:00",
          "2024-06-11T00:00:00",
          "2024-06-12T00:00:00",
          "2024-06-13T00:00:00",
          "2024-06-14T00:00:00",
          "2024-06-19T00:00:00",
          "2024-06-20T00:00:00",
          "2024-06-21T00:00:00",
          "2024-06-24T00:00:00",
          "2024-06-25T00:00:00",
          "2024-06-26T00:00:00",
          "2024-06-27T00:00:00",
          "2024-06-28T00:00:00",
          "2024-07-01T00:00:00",
          "2024-07-02T00:00:00",
          "2024-07-03T00:00:00",
          "2024-07-04T00:00:00",
          "2024-07-05T00:00:00",
          "2024-07-08T00:00:00",
          "2024-07-09T00:00:00",
          "2024-07-10T00:00:00",
          "2024-07-11T00:00:00",
          "2024-07-12T00:00:00",
          "2024-07-15T00:00:00",
          "2024-07-16T00:00:00",
          "2024-07-17T00:00:00",
          "2024-07-18T00:00:00",
          "2024-07-19T00:00:00",
          "2024-07-22T00:00:00",
          "2024-07-23T00:00:00",
          "2024-07-24T00:00:00",
          "2024-07-25T00:00:00",
          "2024-07-26T00:00:00",
          "2024-07-29T00:00:00",
          "2024-07-30T00:00:00",
          "2024-07-31T00:00:00",
          "2024-08-01T00:00:00",
          "2024-08-02T00:00:00",
          "2024-08-05T00:00:00",
          "2024-08-06T00:00:00",
          "2024-08-07T00:00:00",
          "2024-08-08T00:00:00",
          "2024-08-09T00:00:00",
          "2024-08-12T00:00:00",
          "2024-08-13T00:00:00",
          "2024-08-14T00:00:00",
          "2024-08-15T00:00:00",
          "2024-08-16T00:00:00",
          "2024-08-19T00:00:00",
          "2024-08-20T00:00:00",
          "2024-08-21T00:00:00",
          "2024-08-22T00:00:00",
          "2024-08-23T00:00:00",
          "2024-08-26T00:00:00",
          "2024-08-27T00:00:00",
          "2024-08-28T00:00:00",
          "2024-08-29T00:00:00",
          "2024-08-30T00:00:00",
          "2024-09-02T00:00:00",
          "2024-09-03T00:00:00",
          "2024-09-04T00:00:00",
          "2024-09-05T00:00:00",
          "2024-09-06T00:00:00",
          "2024-09-09T00:00:00",
          "2024-09-10T00:00:00",
          "2024-09-11T00:00:00",
          "2024-09-12T00:00:00",
          "2024-09-13T00:00:00",
          "2024-09-17T00:00:00",
          "2024-09-18T00:00:00",
          "2024-09-19T00:00:00",
          "2024-09-20T00:00:00",
          "2024-09-23T00:00:00",
          "2024-09-24T00:00:00",
          "2024-09-25T00:00:00",
          "2024-09-26T00:00:00",
          "2024-09-27T00:00:00",
          "2024-09-30T00:00:00",
          "2024-10-01T00:00:00",
          "2024-10-02T00:00:00",
          "2024-10-03T00:00:00",
          "2024-10-04T00:00:00",
          "2024-10-07T00:00:00",
          "2024-10-08T00:00:00",
          "2024-10-09T00:00:00",
          "2024-10-10T00:00:00",
          "2024-10-11T00:00:00",
          "2024-10-14T00:00:00",
          "2024-10-15T00:00:00",
          "2024-10-16T00:00:00",
          "2024-10-17T00:00:00",
          "2024-10-18T00:00:00",
          "2024-10-21T00:00:00",
          "2024-10-22T00:00:00",
          "2024-10-23T00:00:00",
          "2024-10-24T00:00:00",
          "2024-10-25T00:00:00",
          "2024-10-28T00:00:00",
          "2024-10-29T00:00:00",
          "2024-10-30T00:00:00"
         ],
         "y": [
          8804.14453125,
          8731.181640625,
          8755.501953125,
          8755.501953125,
          8585.2568359375,
          8633.8984375,
          8682.5400390625,
          8804.14453125,
          8828.46484375,
          8828.46484375,
          8633.8984375,
          8536.6142578125,
          8633.8984375,
          8682.5400390625,
          8682.5400390625,
          8633.8984375,
          8633.8984375,
          8658.21875,
          8731.181640625,
          8706.8603515625,
          8723.966796875,
          8699.529296875,
          8601.7822265625,
          8626.21875,
          8552.908203125,
          8552.908203125,
          8504.0341796875,
          8479.59765625,
          8846.150390625,
          9017.208984375,
          8992.7724609375,
          9041.6455078125,
          9090.51953125,
          9114.9560546875,
          9114.9560546875,
          9163.830078125,
          9188.267578125,
          9188.267578125,
          9212.7041015625,
          9139.3935546875,
          9261.578125,
          9359.3251953125,
          9359.3251953125,
          9408.19921875,
          9334.888671875,
          9359.3251953125,
          9481.509765625,
          9505.9462890625,
          9481.509765625,
          9530.3837890625,
          9457.0732421875,
          9408.19921875,
          9408.19921875,
          9383.76171875,
          9310.451171875,
          9286.0146484375,
          9139.3935546875,
          9334.888671875,
          9432.6357421875,
          9334.888671875,
          9481.509765625,
          9481.509765625,
          9359.3251953125,
          9408.19921875,
          9481.509765625,
          9579.2568359375,
          9505.9462890625,
          9628.130859375,
          9725.87890625,
          9652.5673828125,
          9799.189453125,
          9750.3154296875,
          9652.5673828125,
          9603.6943359375,
          9579.2568359375,
          9652.5673828125,
          9774.751953125,
          9652.5673828125,
          9603.6943359375,
          9530.3837890625,
          9579.2568359375,
          9725.87890625,
          9896.9365234375,
          9921.3740234375,
          9774.751953125,
          10092.431640625,
          9921.3740234375,
          9921.3740234375,
          9945.810546875,
          9896.9365234375,
          9896.9365234375,
          9872.5,
          10075,
          10050,
          10075,
          10075,
          9850,
          9900,
          9525,
          9850,
          9825,
          9475,
          9525,
          9475,
          9475,
          9350,
          9725,
          9950,
          9775,
          9625,
          9800,
          9800,
          9550,
          9850,
          9800,
          9700,
          9375,
          9525,
          9550,
          9500,
          9600,
          9750,
          9475,
          9375,
          9425,
          9300,
          9300,
          9150,
          9000,
          9250,
          9275,
          9350,
          9450,
          9475,
          9325,
          9525,
          9300,
          9250,
          9200,
          9200,
          9050,
          9425,
          9600,
          9600,
          9600,
          9500,
          9750,
          9925,
          9875,
          9900,
          10000,
          9825,
          9950,
          10050,
          10075,
          10100,
          10075,
          10075,
          10050,
          9950,
          9800,
          10100,
          10125,
          10100,
          10175,
          10075,
          10300,
          10325,
          10250,
          10175,
          10275,
          10375,
          10200,
          9875,
          10000,
          10100,
          10225,
          10150,
          10200,
          10300,
          10200,
          10225,
          10325,
          10375,
          10425,
          10425,
          10325,
          10325,
          10325,
          10200,
          10350,
          10225,
          10325,
          10275,
          10175,
          10300,
          10250,
          10300,
          10275,
          10350,
          10425,
          10475,
          10425,
          10500,
          10625,
          10900,
          10775,
          10950,
          10800,
          10850,
          10700,
          10650,
          10325,
          10550,
          10500,
          10450,
          10475,
          10300,
          10400,
          10425,
          10500,
          10375,
          10500,
          10625,
          10475,
          10725,
          10750,
          10675,
          10500,
          10650,
          10700,
          10750,
          10600,
          10500,
          10350
         ]
        },
        {
         "mode": "lines",
         "name": "Predictions",
         "type": "scatter",
         "x": [
          "2023-11-06T00:00:00",
          "2023-11-07T00:00:00",
          "2023-11-08T00:00:00",
          "2023-11-09T00:00:00",
          "2023-11-10T00:00:00",
          "2023-11-13T00:00:00",
          "2023-11-14T00:00:00",
          "2023-11-15T00:00:00",
          "2023-11-16T00:00:00",
          "2023-11-17T00:00:00",
          "2023-11-20T00:00:00",
          "2023-11-21T00:00:00",
          "2023-11-22T00:00:00",
          "2023-11-23T00:00:00",
          "2023-11-24T00:00:00",
          "2023-11-27T00:00:00",
          "2023-11-28T00:00:00",
          "2023-11-29T00:00:00",
          "2023-11-30T00:00:00",
          "2023-12-01T00:00:00",
          "2023-12-04T00:00:00",
          "2023-12-05T00:00:00",
          "2023-12-06T00:00:00",
          "2023-12-07T00:00:00",
          "2023-12-08T00:00:00",
          "2023-12-11T00:00:00",
          "2023-12-12T00:00:00",
          "2023-12-13T00:00:00",
          "2023-12-14T00:00:00",
          "2023-12-15T00:00:00",
          "2023-12-18T00:00:00",
          "2023-12-19T00:00:00",
          "2023-12-20T00:00:00",
          "2023-12-21T00:00:00",
          "2023-12-22T00:00:00",
          "2023-12-27T00:00:00",
          "2023-12-28T00:00:00",
          "2023-12-29T00:00:00",
          "2024-01-02T00:00:00",
          "2024-01-03T00:00:00",
          "2024-01-04T00:00:00",
          "2024-01-05T00:00:00",
          "2024-01-08T00:00:00",
          "2024-01-09T00:00:00",
          "2024-01-10T00:00:00",
          "2024-01-11T00:00:00",
          "2024-01-12T00:00:00",
          "2024-01-15T00:00:00",
          "2024-01-16T00:00:00",
          "2024-01-17T00:00:00",
          "2024-01-18T00:00:00",
          "2024-01-19T00:00:00",
          "2024-01-22T00:00:00",
          "2024-01-23T00:00:00",
          "2024-01-24T00:00:00",
          "2024-01-25T00:00:00",
          "2024-01-26T00:00:00",
          "2024-01-29T00:00:00",
          "2024-01-30T00:00:00",
          "2024-01-31T00:00:00",
          "2024-02-01T00:00:00",
          "2024-02-02T00:00:00",
          "2024-02-05T00:00:00",
          "2024-02-06T00:00:00",
          "2024-02-07T00:00:00",
          "2024-02-12T00:00:00",
          "2024-02-13T00:00:00",
          "2024-02-15T00:00:00",
          "2024-02-16T00:00:00",
          "2024-02-19T00:00:00",
          "2024-02-20T00:00:00",
          "2024-02-21T00:00:00",
          "2024-02-22T00:00:00",
          "2024-02-23T00:00:00",
          "2024-02-26T00:00:00",
          "2024-02-27T00:00:00",
          "2024-02-28T00:00:00",
          "2024-02-29T00:00:00",
          "2024-03-01T00:00:00",
          "2024-03-04T00:00:00",
          "2024-03-05T00:00:00",
          "2024-03-06T00:00:00",
          "2024-03-07T00:00:00",
          "2024-03-08T00:00:00",
          "2024-03-13T00:00:00",
          "2024-03-14T00:00:00",
          "2024-03-15T00:00:00",
          "2024-03-18T00:00:00",
          "2024-03-19T00:00:00",
          "2024-03-20T00:00:00",
          "2024-03-21T00:00:00",
          "2024-03-22T00:00:00",
          "2024-03-25T00:00:00",
          "2024-03-26T00:00:00",
          "2024-03-27T00:00:00",
          "2024-03-28T00:00:00",
          "2024-04-01T00:00:00",
          "2024-04-02T00:00:00",
          "2024-04-03T00:00:00",
          "2024-04-04T00:00:00",
          "2024-04-05T00:00:00",
          "2024-04-16T00:00:00",
          "2024-04-17T00:00:00",
          "2024-04-18T00:00:00",
          "2024-04-19T00:00:00",
          "2024-04-22T00:00:00",
          "2024-04-23T00:00:00",
          "2024-04-24T00:00:00",
          "2024-04-25T00:00:00",
          "2024-04-26T00:00:00",
          "2024-04-29T00:00:00",
          "2024-04-30T00:00:00",
          "2024-05-02T00:00:00",
          "2024-05-03T00:00:00",
          "2024-05-06T00:00:00",
          "2024-05-07T00:00:00",
          "2024-05-08T00:00:00",
          "2024-05-13T00:00:00",
          "2024-05-14T00:00:00",
          "2024-05-15T00:00:00",
          "2024-05-16T00:00:00",
          "2024-05-17T00:00:00",
          "2024-05-20T00:00:00",
          "2024-05-21T00:00:00",
          "2024-05-22T00:00:00",
          "2024-05-27T00:00:00",
          "2024-05-28T00:00:00",
          "2024-05-29T00:00:00",
          "2024-05-30T00:00:00",
          "2024-05-31T00:00:00",
          "2024-06-03T00:00:00",
          "2024-06-04T00:00:00",
          "2024-06-05T00:00:00",
          "2024-06-06T00:00:00",
          "2024-06-07T00:00:00",
          "2024-06-10T00:00:00",
          "2024-06-11T00:00:00",
          "2024-06-12T00:00:00",
          "2024-06-13T00:00:00",
          "2024-06-14T00:00:00",
          "2024-06-19T00:00:00",
          "2024-06-20T00:00:00",
          "2024-06-21T00:00:00",
          "2024-06-24T00:00:00",
          "2024-06-25T00:00:00",
          "2024-06-26T00:00:00",
          "2024-06-27T00:00:00",
          "2024-06-28T00:00:00",
          "2024-07-01T00:00:00",
          "2024-07-02T00:00:00",
          "2024-07-03T00:00:00",
          "2024-07-04T00:00:00",
          "2024-07-05T00:00:00",
          "2024-07-08T00:00:00",
          "2024-07-09T00:00:00",
          "2024-07-10T00:00:00",
          "2024-07-11T00:00:00",
          "2024-07-12T00:00:00",
          "2024-07-15T00:00:00",
          "2024-07-16T00:00:00",
          "2024-07-17T00:00:00",
          "2024-07-18T00:00:00",
          "2024-07-19T00:00:00",
          "2024-07-22T00:00:00",
          "2024-07-23T00:00:00",
          "2024-07-24T00:00:00",
          "2024-07-25T00:00:00",
          "2024-07-26T00:00:00",
          "2024-07-29T00:00:00",
          "2024-07-30T00:00:00",
          "2024-07-31T00:00:00",
          "2024-08-01T00:00:00",
          "2024-08-02T00:00:00",
          "2024-08-05T00:00:00",
          "2024-08-06T00:00:00",
          "2024-08-07T00:00:00",
          "2024-08-08T00:00:00",
          "2024-08-09T00:00:00",
          "2024-08-12T00:00:00",
          "2024-08-13T00:00:00",
          "2024-08-14T00:00:00",
          "2024-08-15T00:00:00",
          "2024-08-16T00:00:00",
          "2024-08-19T00:00:00",
          "2024-08-20T00:00:00",
          "2024-08-21T00:00:00",
          "2024-08-22T00:00:00",
          "2024-08-23T00:00:00",
          "2024-08-26T00:00:00",
          "2024-08-27T00:00:00",
          "2024-08-28T00:00:00",
          "2024-08-29T00:00:00",
          "2024-08-30T00:00:00",
          "2024-09-02T00:00:00",
          "2024-09-03T00:00:00",
          "2024-09-04T00:00:00",
          "2024-09-05T00:00:00",
          "2024-09-06T00:00:00",
          "2024-09-09T00:00:00",
          "2024-09-10T00:00:00",
          "2024-09-11T00:00:00",
          "2024-09-12T00:00:00",
          "2024-09-13T00:00:00",
          "2024-09-17T00:00:00",
          "2024-09-18T00:00:00",
          "2024-09-19T00:00:00",
          "2024-09-20T00:00:00",
          "2024-09-23T00:00:00",
          "2024-09-24T00:00:00",
          "2024-09-25T00:00:00",
          "2024-09-26T00:00:00",
          "2024-09-27T00:00:00",
          "2024-09-30T00:00:00",
          "2024-10-01T00:00:00",
          "2024-10-02T00:00:00",
          "2024-10-03T00:00:00",
          "2024-10-04T00:00:00",
          "2024-10-07T00:00:00",
          "2024-10-08T00:00:00",
          "2024-10-09T00:00:00",
          "2024-10-10T00:00:00",
          "2024-10-11T00:00:00",
          "2024-10-14T00:00:00",
          "2024-10-15T00:00:00",
          "2024-10-16T00:00:00",
          "2024-10-17T00:00:00",
          "2024-10-18T00:00:00",
          "2024-10-21T00:00:00",
          "2024-10-22T00:00:00",
          "2024-10-23T00:00:00",
          "2024-10-24T00:00:00",
          "2024-10-25T00:00:00",
          "2024-10-28T00:00:00",
          "2024-10-29T00:00:00",
          "2024-10-30T00:00:00"
         ],
         "y": [
          8720.7978515625,
          8661.1142578125,
          8669.90625,
          8670.703125,
          8519.2578125,
          8550.623046875,
          8604.4208984375,
          8719.134765625,
          8748.78515625,
          8745.8720703125,
          8569.134765625,
          8466.603515625,
          8552.9931640625,
          8611.6953125,
          8615.7470703125,
          8569.517578125,
          8563.8466796875,
          8586.12890625,
          8653.5068359375,
          8636.5732421875,
          8647.083984375,
          8625.697265625,
          8536.0703125,
          8551.2236328125,
          8491.3466796875,
          8487.1513671875,
          8445.9267578125,
          8421.287109375,
          8747.2451171875,
          8926.71484375,
          8905.6083984375,
          8935.01953125,
          8977.650390625,
          9001.7666015625,
          9003.5615234375,
          9048.0859375,
          9075.0791015625,
          9077.7373046875,
          9100.5205078125,
          9038.408203125,
          9144.3193359375,
          9241.7001953125,
          9245.888671875,
          9286.2197265625,
          9223.255859375,
          9241.15234375,
          9354.359375,
          9383.984375,
          9361.455078125,
          9402.869140625,
          9341.49609375,
          9295.1005859375,
          9296.2724609375,
          9278.353515625,
          9213.6513671875,
          9189.994140625,
          9059.849609375,
          9230.14453125,
          9331.7158203125,
          9244.390625,
          9363.84765625,
          9370.7001953125,
          9258.130859375,
          9294.6220703125,
          9366.13671875,
          9457.142578125,
          9394.4638671875,
          9496.291015625,
          9589.09765625,
          9526.171875,
          9650.1318359375,
          9614.5986328125,
          9524.29296875,
          9478.923828125,
          9460.3994140625,
          9529.5966796875,
          9643.697265625,
          9538.037109375,
          9485.7890625,
          9420.447265625,
          9464.6083984375,
          9600.7001953125,
          9756.642578125,
          9778.66015625,
          9642.9580078125,
          9915.888671875,
          9779.7421875,
          9769.8408203125,
          9795.3876953125,
          9756.08984375,
          9756.478515625,
          9737.5361328125,
          9918.078125,
          9902.6181640625,
          9919.33203125,
          9919.2373046875,
          9719.2109375,
          9759.7373046875,
          9430.8984375,
          9715.56640625,
          9714.1025390625,
          9392.142578125,
          9422.6533203125,
          9388.0654296875,
          9387.626953125,
          9274.7431640625,
          9603.6240234375,
          9816.470703125,
          9657.4599609375,
          9505.8916015625,
          9656.9111328125,
          9669.4404296875,
          9444.6591796875,
          9702.9443359375,
          9676.3662109375,
          9580.4384765625,
          9283.505859375,
          9410.1591796875,
          9450.3125,
          9406.10546875,
          9490.75,
          9626.8056640625,
          9382.9267578125,
          9275.77734375,
          9322.2412109375,
          9218.0751953125,
          9213.0576171875,
          9080.490234375,
          8937.748046875,
          9159.4111328125,
          9199.5751953125,
          9259.90234375,
          9345.4931640625,
          9366.31640625,
          9228.302734375,
          9396.19140625,
          9209.3251953125,
          9150.6572265625,
          9108.7666015625,
          9111.208984375,
          8979.5078125,
          9308.2314453125,
          9485.41015625,
          9482.525390625,
          9471.533203125,
          9379.1845703125,
          9596.3916015625,
          9765.123046875,
          9724.36328125,
          9739.63671875,
          9829.9765625,
          9681.328125,
          9787.271484375,
          9886.4384765625,
          9912.3662109375,
          9933.861328125,
          9912.794921875,
          9913.484375,
          9894.2392578125,
          9807.32421875,
          9673.501953125,
          9942.224609375,
          9977.5341796875,
          9949.5009765625,
          10011.6474609375,
          9924.8486328125,
          10120.431640625,
          10149.822265625,
          10080.6728515625,
          10012.2294921875,
          10102.8701171875,
          10197.1181640625,
          10043.6806640625,
          9747.7919921875,
          9859.794921875,
          9963.564453125,
          10075.98828125,
          10006.7763671875,
          10043.65625,
          10132.314453125,
          10044.533203125,
          10062.6181640625,
          10153.7529296875,
          10200.1474609375,
          10242.9560546875,
          10242.4033203125,
          10153.70703125,
          10153.8408203125,
          10158.16015625,
          10049.3310546875,
          10182.3828125,
          10076.806640625,
          10161.3330078125,
          10120.0048828125,
          10028.37890625,
          10138.662109375,
          10098.5888671875,
          10139.615234375,
          10118.0166015625,
          10182.6640625,
          10249.7099609375,
          10292.6591796875,
          10247.0654296875,
          10311.498046875,
          10423.556640625,
          10662.4697265625,
          10553.7548828125,
          10700.8583984375,
          10574.8857421875,
          10619.8779296875,
          10494.53515625,
          10454.3134765625,
          10169.8701171875,
          10376.244140625,
          10341.1240234375,
          10292.375,
          10312.5283203125,
          10155.794921875,
          10242.568359375,
          10268.0322265625,
          10331.4296875,
          10218.0791015625,
          10324.3916015625,
          10436.390625,
          10302.193359375,
          10517.0302734375,
          10542.4912109375,
          10473.0107421875,
          10317.8115234375,
          10453.4111328125,
          10504.025390625,
          10546.666015625,
          10413.185546875,
          10323.6982421875,
          10193.8525390625
         ]
        }
       ],
       "layout": {
        "template": {
         "data": {
          "bar": [
           {
            "error_x": {
             "color": "#2a3f5f"
            },
            "error_y": {
             "color": "#2a3f5f"
            },
            "marker": {
             "line": {
              "color": "#E5ECF6",
              "width": 0.5
             },
             "pattern": {
              "fillmode": "overlay",
              "size": 10,
              "solidity": 0.2
             }
            },
            "type": "bar"
           }
          ],
          "barpolar": [
           {
            "marker": {
             "line": {
              "color": "#E5ECF6",
              "width": 0.5
             },
             "pattern": {
              "fillmode": "overlay",
              "size": 10,
              "solidity": 0.2
             }
            },
            "type": "barpolar"
           }
          ],
          "carpet": [
           {
            "aaxis": {
             "endlinecolor": "#2a3f5f",
             "gridcolor": "white",
             "linecolor": "white",
             "minorgridcolor": "white",
             "startlinecolor": "#2a3f5f"
            },
            "baxis": {
             "endlinecolor": "#2a3f5f",
             "gridcolor": "white",
             "linecolor": "white",
             "minorgridcolor": "white",
             "startlinecolor": "#2a3f5f"
            },
            "type": "carpet"
           }
          ],
          "choropleth": [
           {
            "colorbar": {
             "outlinewidth": 0,
             "ticks": ""
            },
            "type": "choropleth"
           }
          ],
          "contour": [
           {
            "colorbar": {
             "outlinewidth": 0,
             "ticks": ""
            },
            "colorscale": [
             [
              0,
              "#0d0887"
             ],
             [
              0.1111111111111111,
              "#46039f"
             ],
             [
              0.2222222222222222,
              "#7201a8"
             ],
             [
              0.3333333333333333,
              "#9c179e"
             ],
             [
              0.4444444444444444,
              "#bd3786"
             ],
             [
              0.5555555555555556,
              "#d8576b"
             ],
             [
              0.6666666666666666,
              "#ed7953"
             ],
             [
              0.7777777777777778,
              "#fb9f3a"
             ],
             [
              0.8888888888888888,
              "#fdca26"
             ],
             [
              1,
              "#f0f921"
             ]
            ],
            "type": "contour"
           }
          ],
          "contourcarpet": [
           {
            "colorbar": {
             "outlinewidth": 0,
             "ticks": ""
            },
            "type": "contourcarpet"
           }
          ],
          "heatmap": [
           {
            "colorbar": {
             "outlinewidth": 0,
             "ticks": ""
            },
            "colorscale": [
             [
              0,
              "#0d0887"
             ],
             [
              0.1111111111111111,
              "#46039f"
             ],
             [
              0.2222222222222222,
              "#7201a8"
             ],
             [
              0.3333333333333333,
              "#9c179e"
             ],
             [
              0.4444444444444444,
              "#bd3786"
             ],
             [
              0.5555555555555556,
              "#d8576b"
             ],
             [
              0.6666666666666666,
              "#ed7953"
             ],
             [
              0.7777777777777778,
              "#fb9f3a"
             ],
             [
              0.8888888888888888,
              "#fdca26"
             ],
             [
              1,
              "#f0f921"
             ]
            ],
            "type": "heatmap"
           }
          ],
          "heatmapgl": [
           {
            "colorbar": {
             "outlinewidth": 0,
             "ticks": ""
            },
            "colorscale": [
             [
              0,
              "#0d0887"
             ],
             [
              0.1111111111111111,
              "#46039f"
             ],
             [
              0.2222222222222222,
              "#7201a8"
             ],
             [
              0.3333333333333333,
              "#9c179e"
             ],
             [
              0.4444444444444444,
              "#bd3786"
             ],
             [
              0.5555555555555556,
              "#d8576b"
             ],
             [
              0.6666666666666666,
              "#ed7953"
             ],
             [
              0.7777777777777778,
              "#fb9f3a"
             ],
             [
              0.8888888888888888,
              "#fdca26"
             ],
             [
              1,
              "#f0f921"
             ]
            ],
            "type": "heatmapgl"
           }
          ],
          "histogram": [
           {
            "marker": {
             "pattern": {
              "fillmode": "overlay",
              "size": 10,
              "solidity": 0.2
             }
            },
            "type": "histogram"
           }
          ],
          "histogram2d": [
           {
            "colorbar": {
             "outlinewidth": 0,
             "ticks": ""
            },
            "colorscale": [
             [
              0,
              "#0d0887"
             ],
             [
              0.1111111111111111,
              "#46039f"
             ],
             [
              0.2222222222222222,
              "#7201a8"
             ],
             [
              0.3333333333333333,
              "#9c179e"
             ],
             [
              0.4444444444444444,
              "#bd3786"
             ],
             [
              0.5555555555555556,
              "#d8576b"
             ],
             [
              0.6666666666666666,
              "#ed7953"
             ],
             [
              0.7777777777777778,
              "#fb9f3a"
             ],
             [
              0.8888888888888888,
              "#fdca26"
             ],
             [
              1,
              "#f0f921"
             ]
            ],
            "type": "histogram2d"
           }
          ],
          "histogram2dcontour": [
           {
            "colorbar": {
             "outlinewidth": 0,
             "ticks": ""
            },
            "colorscale": [
             [
              0,
              "#0d0887"
             ],
             [
              0.1111111111111111,
              "#46039f"
             ],
             [
              0.2222222222222222,
              "#7201a8"
             ],
             [
              0.3333333333333333,
              "#9c179e"
             ],
             [
              0.4444444444444444,
              "#bd3786"
             ],
             [
              0.5555555555555556,
              "#d8576b"
             ],
             [
              0.6666666666666666,
              "#ed7953"
             ],
             [
              0.7777777777777778,
              "#fb9f3a"
             ],
             [
              0.8888888888888888,
              "#fdca26"
             ],
             [
              1,
              "#f0f921"
             ]
            ],
            "type": "histogram2dcontour"
           }
          ],
          "mesh3d": [
           {
            "colorbar": {
             "outlinewidth": 0,
             "ticks": ""
            },
            "type": "mesh3d"
           }
          ],
          "parcoords": [
           {
            "line": {
             "colorbar": {
              "outlinewidth": 0,
              "ticks": ""
             }
            },
            "type": "parcoords"
           }
          ],
          "pie": [
           {
            "automargin": true,
            "type": "pie"
           }
          ],
          "scatter": [
           {
            "fillpattern": {
             "fillmode": "overlay",
             "size": 10,
             "solidity": 0.2
            },
            "type": "scatter"
           }
          ],
          "scatter3d": [
           {
            "line": {
             "colorbar": {
              "outlinewidth": 0,
              "ticks": ""
             }
            },
            "marker": {
             "colorbar": {
              "outlinewidth": 0,
              "ticks": ""
             }
            },
            "type": "scatter3d"
           }
          ],
          "scattercarpet": [
           {
            "marker": {
             "colorbar": {
              "outlinewidth": 0,
              "ticks": ""
             }
            },
            "type": "scattercarpet"
           }
          ],
          "scattergeo": [
           {
            "marker": {
             "colorbar": {
              "outlinewidth": 0,
              "ticks": ""
             }
            },
            "type": "scattergeo"
           }
          ],
          "scattergl": [
           {
            "marker": {
             "colorbar": {
              "outlinewidth": 0,
              "ticks": ""
             }
            },
            "type": "scattergl"
           }
          ],
          "scattermapbox": [
           {
            "marker": {
             "colorbar": {
              "outlinewidth": 0,
              "ticks": ""
             }
            },
            "type": "scattermapbox"
           }
          ],
          "scatterpolar": [
           {
            "marker": {
             "colorbar": {
              "outlinewidth": 0,
              "ticks": ""
             }
            },
            "type": "scatterpolar"
           }
          ],
          "scatterpolargl": [
           {
            "marker": {
             "colorbar": {
              "outlinewidth": 0,
              "ticks": ""
             }
            },
            "type": "scatterpolargl"
           }
          ],
          "scatterternary": [
           {
            "marker": {
             "colorbar": {
              "outlinewidth": 0,
              "ticks": ""
             }
            },
            "type": "scatterternary"
           }
          ],
          "surface": [
           {
            "colorbar": {
             "outlinewidth": 0,
             "ticks": ""
            },
            "colorscale": [
             [
              0,
              "#0d0887"
             ],
             [
              0.1111111111111111,
              "#46039f"
             ],
             [
              0.2222222222222222,
              "#7201a8"
             ],
             [
              0.3333333333333333,
              "#9c179e"
             ],
             [
              0.4444444444444444,
              "#bd3786"
             ],
             [
              0.5555555555555556,
              "#d8576b"
             ],
             [
              0.6666666666666666,
              "#ed7953"
             ],
             [
              0.7777777777777778,
              "#fb9f3a"
             ],
             [
              0.8888888888888888,
              "#fdca26"
             ],
             [
              1,
              "#f0f921"
             ]
            ],
            "type": "surface"
           }
          ],
          "table": [
           {
            "cells": {
             "fill": {
              "color": "#EBF0F8"
             },
             "line": {
              "color": "white"
             }
            },
            "header": {
             "fill": {
              "color": "#C8D4E3"
             },
             "line": {
              "color": "white"
             }
            },
            "type": "table"
           }
          ]
         },
         "layout": {
          "annotationdefaults": {
           "arrowcolor": "#2a3f5f",
           "arrowhead": 0,
           "arrowwidth": 1
          },
          "autotypenumbers": "strict",
          "coloraxis": {
           "colorbar": {
            "outlinewidth": 0,
            "ticks": ""
           }
          },
          "colorscale": {
           "diverging": [
            [
             0,
             "#8e0152"
            ],
            [
             0.1,
             "#c51b7d"
            ],
            [
             0.2,
             "#de77ae"
            ],
            [
             0.3,
             "#f1b6da"
            ],
            [
             0.4,
             "#fde0ef"
            ],
            [
             0.5,
             "#f7f7f7"
            ],
            [
             0.6,
             "#e6f5d0"
            ],
            [
             0.7,
             "#b8e186"
            ],
            [
             0.8,
             "#7fbc41"
            ],
            [
             0.9,
             "#4d9221"
            ],
            [
             1,
             "#276419"
            ]
           ],
           "sequential": [
            [
             0,
             "#0d0887"
            ],
            [
             0.1111111111111111,
             "#46039f"
            ],
            [
             0.2222222222222222,
             "#7201a8"
            ],
            [
             0.3333333333333333,
             "#9c179e"
            ],
            [
             0.4444444444444444,
             "#bd3786"
            ],
            [
             0.5555555555555556,
             "#d8576b"
            ],
            [
             0.6666666666666666,
             "#ed7953"
            ],
            [
             0.7777777777777778,
             "#fb9f3a"
            ],
            [
             0.8888888888888888,
             "#fdca26"
            ],
            [
             1,
             "#f0f921"
            ]
           ],
           "sequentialminus": [
            [
             0,
             "#0d0887"
            ],
            [
             0.1111111111111111,
             "#46039f"
            ],
            [
             0.2222222222222222,
             "#7201a8"
            ],
            [
             0.3333333333333333,
             "#9c179e"
            ],
            [
             0.4444444444444444,
             "#bd3786"
            ],
            [
             0.5555555555555556,
             "#d8576b"
            ],
            [
             0.6666666666666666,
             "#ed7953"
            ],
            [
             0.7777777777777778,
             "#fb9f3a"
            ],
            [
             0.8888888888888888,
             "#fdca26"
            ],
            [
             1,
             "#f0f921"
            ]
           ]
          },
          "colorway": [
           "#636efa",
           "#EF553B",
           "#00cc96",
           "#ab63fa",
           "#FFA15A",
           "#19d3f3",
           "#FF6692",
           "#B6E880",
           "#FF97FF",
           "#FECB52"
          ],
          "font": {
           "color": "#2a3f5f"
          },
          "geo": {
           "bgcolor": "white",
           "lakecolor": "white",
           "landcolor": "#E5ECF6",
           "showlakes": true,
           "showland": true,
           "subunitcolor": "white"
          },
          "hoverlabel": {
           "align": "left"
          },
          "hovermode": "closest",
          "mapbox": {
           "style": "light"
          },
          "paper_bgcolor": "white",
          "plot_bgcolor": "#E5ECF6",
          "polar": {
           "angularaxis": {
            "gridcolor": "white",
            "linecolor": "white",
            "ticks": ""
           },
           "bgcolor": "#E5ECF6",
           "radialaxis": {
            "gridcolor": "white",
            "linecolor": "white",
            "ticks": ""
           }
          },
          "scene": {
           "xaxis": {
            "backgroundcolor": "#E5ECF6",
            "gridcolor": "white",
            "gridwidth": 2,
            "linecolor": "white",
            "showbackground": true,
            "ticks": "",
            "zerolinecolor": "white"
           },
           "yaxis": {
            "backgroundcolor": "#E5ECF6",
            "gridcolor": "white",
            "gridwidth": 2,
            "linecolor": "white",
            "showbackground": true,
            "ticks": "",
            "zerolinecolor": "white"
           },
           "zaxis": {
            "backgroundcolor": "#E5ECF6",
            "gridcolor": "white",
            "gridwidth": 2,
            "linecolor": "white",
            "showbackground": true,
            "ticks": "",
            "zerolinecolor": "white"
           }
          },
          "shapedefaults": {
           "line": {
            "color": "#2a3f5f"
           }
          },
          "ternary": {
           "aaxis": {
            "gridcolor": "white",
            "linecolor": "white",
            "ticks": ""
           },
           "baxis": {
            "gridcolor": "white",
            "linecolor": "white",
            "ticks": ""
           },
           "bgcolor": "#E5ECF6",
           "caxis": {
            "gridcolor": "white",
            "linecolor": "white",
            "ticks": ""
           }
          },
          "title": {
           "x": 0.05
          },
          "xaxis": {
           "automargin": true,
           "gridcolor": "white",
           "linecolor": "white",
           "ticks": "",
           "title": {
            "standoff": 15
           },
           "zerolinecolor": "white",
           "zerolinewidth": 2
          },
          "yaxis": {
           "automargin": true,
           "gridcolor": "white",
           "linecolor": "white",
           "ticks": "",
           "title": {
            "standoff": 15
           },
           "zerolinecolor": "white",
           "zerolinewidth": 2
          }
         }
        },
        "title": {
         "text": "Model"
        },
        "xaxis": {
         "title": {
          "text": "Date"
         }
        },
        "yaxis": {
         "title": {
          "text": "Close Price USD ($)"
         }
        }
       }
      }
     },
     "metadata": {},
     "output_type": "display_data"
    }
   ],
   "source": [
    "from plotly import graph_objs as go\n",
    "\n",
    "fig = go.Figure()\n",
    "\n",
    "fig.add_trace(go.Scatter(x=valid['date'], y=valid['Close'], mode='lines', name='Val'))\n",
    "fig.add_trace(go.Scatter(x=valid['date'], y=valid['Predictions'], mode='lines', name='Predictions'))\n",
    "\n",
    "fig.update_layout(title='Model',\n",
    "                        xaxis_title='Date',\n",
    "                        yaxis_title='Close Price USD ($)')\n",
    "fig.show()"
   ]
  },
  {
   "cell_type": "markdown",
   "metadata": {},
   "source": [
    "# Close with news sentiment siebert"
   ]
  },
  {
   "cell_type": "code",
   "execution_count": 93,
   "metadata": {},
   "outputs": [
    {
     "name": "stderr",
     "output_type": "stream",
     "text": [
      "C:\\Users\\thari\\AppData\\Local\\Temp\\ipykernel_5296\\412406848.py:2: SettingWithCopyWarning:\n",
      "\n",
      "\n",
      "A value is trying to be set on a copy of a slice from a DataFrame.\n",
      "Try using .loc[row_indexer,col_indexer] = value instead\n",
      "\n",
      "See the caveats in the documentation: https://pandas.pydata.org/pandas-docs/stable/user_guide/indexing.html#returning-a-view-versus-a-copy\n",
      "\n"
     ]
    },
    {
     "data": {
      "text/html": [
       "<div>\n",
       "<style scoped>\n",
       "    .dataframe tbody tr th:only-of-type {\n",
       "        vertical-align: middle;\n",
       "    }\n",
       "\n",
       "    .dataframe tbody tr th {\n",
       "        vertical-align: top;\n",
       "    }\n",
       "\n",
       "    .dataframe thead th {\n",
       "        text-align: right;\n",
       "    }\n",
       "</style>\n",
       "<table border=\"1\" class=\"dataframe\">\n",
       "  <thead>\n",
       "    <tr style=\"text-align: right;\">\n",
       "      <th></th>\n",
       "      <th>Close</th>\n",
       "    </tr>\n",
       "    <tr>\n",
       "      <th>date</th>\n",
       "      <th></th>\n",
       "    </tr>\n",
       "  </thead>\n",
       "  <tbody>\n",
       "    <tr>\n",
       "      <th>2019-12-26</th>\n",
       "      <td>6020.944336</td>\n",
       "    </tr>\n",
       "    <tr>\n",
       "      <th>2019-12-27</th>\n",
       "      <td>6034.463867</td>\n",
       "    </tr>\n",
       "    <tr>\n",
       "      <th>2019-12-30</th>\n",
       "      <td>6025.451172</td>\n",
       "    </tr>\n",
       "    <tr>\n",
       "      <th>2020-01-02</th>\n",
       "      <td>6029.958008</td>\n",
       "    </tr>\n",
       "    <tr>\n",
       "      <th>2020-01-03</th>\n",
       "      <td>6129.105469</td>\n",
       "    </tr>\n",
       "    <tr>\n",
       "      <th>...</th>\n",
       "      <td>...</td>\n",
       "    </tr>\n",
       "    <tr>\n",
       "      <th>2024-10-25</th>\n",
       "      <td>10750.000000</td>\n",
       "    </tr>\n",
       "    <tr>\n",
       "      <th>2024-10-28</th>\n",
       "      <td>10600.000000</td>\n",
       "    </tr>\n",
       "    <tr>\n",
       "      <th>2024-10-29</th>\n",
       "      <td>10500.000000</td>\n",
       "    </tr>\n",
       "    <tr>\n",
       "      <th>2024-10-30</th>\n",
       "      <td>10350.000000</td>\n",
       "    </tr>\n",
       "    <tr>\n",
       "      <th>2024-10-31</th>\n",
       "      <td>10250.000000</td>\n",
       "    </tr>\n",
       "  </tbody>\n",
       "</table>\n",
       "<p>1175 rows × 1 columns</p>\n",
       "</div>"
      ],
      "text/plain": [
       "                   Close\n",
       "date                    \n",
       "2019-12-26   6020.944336\n",
       "2019-12-27   6034.463867\n",
       "2019-12-30   6025.451172\n",
       "2020-01-02   6029.958008\n",
       "2020-01-03   6129.105469\n",
       "...                  ...\n",
       "2024-10-25  10750.000000\n",
       "2024-10-28  10600.000000\n",
       "2024-10-29  10500.000000\n",
       "2024-10-30  10350.000000\n",
       "2024-10-31  10250.000000\n",
       "\n",
       "[1175 rows x 1 columns]"
      ]
     },
     "execution_count": 93,
     "metadata": {},
     "output_type": "execute_result"
    }
   ],
   "source": [
    "dataUsed = data[['Close', 'date']]\n",
    "dataUsed['date'] = pd.to_datetime(dataUsed['date'])\n",
    "\n",
    "dataUsed = dataUsed.set_index('date')\n",
    "\n",
    "dataUsed"
   ]
  },
  {
   "cell_type": "code",
   "execution_count": 94,
   "metadata": {},
   "outputs": [
    {
     "data": {
      "text/html": [
       "<div>\n",
       "<style scoped>\n",
       "    .dataframe tbody tr th:only-of-type {\n",
       "        vertical-align: middle;\n",
       "    }\n",
       "\n",
       "    .dataframe tbody tr th {\n",
       "        vertical-align: top;\n",
       "    }\n",
       "\n",
       "    .dataframe thead th {\n",
       "        text-align: right;\n",
       "    }\n",
       "</style>\n",
       "<table border=\"1\" class=\"dataframe\">\n",
       "  <thead>\n",
       "    <tr style=\"text-align: right;\">\n",
       "      <th></th>\n",
       "      <th>sentiment</th>\n",
       "      <th>title</th>\n",
       "    </tr>\n",
       "    <tr>\n",
       "      <th>date</th>\n",
       "      <th></th>\n",
       "      <th></th>\n",
       "    </tr>\n",
       "  </thead>\n",
       "  <tbody>\n",
       "    <tr>\n",
       "      <th>2024-11-28 08:51:00</th>\n",
       "      <td>NEGATIVE</td>\n",
       "      <td>IHSG Hari Ini Diprediksi Melemah di Level 7.20...</td>\n",
       "    </tr>\n",
       "    <tr>\n",
       "      <th>2024-11-19 08:49:00</th>\n",
       "      <td>POSITIVE</td>\n",
       "      <td>IHSG Hari Ini Diramal Bergerak di Level 7.100-...</td>\n",
       "    </tr>\n",
       "    <tr>\n",
       "      <th>2024-11-11 12:45:00</th>\n",
       "      <td>NEGATIVE</td>\n",
       "      <td>Berapa Harga Saham BBCA Hari Ini?</td>\n",
       "    </tr>\n",
       "    <tr>\n",
       "      <th>2024-10-29 08:30:00</th>\n",
       "      <td>POSITIVE</td>\n",
       "      <td>Masuk Daftar 45 Saham Pre-opening Saham GOTO M...</td>\n",
       "    </tr>\n",
       "    <tr>\n",
       "      <th>2024-10-29 07:45:00</th>\n",
       "      <td>NEGATIVE</td>\n",
       "      <td>BCA Pemberi Utang Terbesar ke Sritex Respons s...</td>\n",
       "    </tr>\n",
       "    <tr>\n",
       "      <th>...</th>\n",
       "      <td>...</td>\n",
       "      <td>...</td>\n",
       "    </tr>\n",
       "    <tr>\n",
       "      <th>2020-02-19 08:51:00</th>\n",
       "      <td>POSITIVE</td>\n",
       "      <td>IHSG Berpotensi Menguat Pagi Ini</td>\n",
       "    </tr>\n",
       "    <tr>\n",
       "      <th>2020-01-30 13:49:00</th>\n",
       "      <td>NEGATIVE</td>\n",
       "      <td>BCA dan Bank Mandiri Angkat Suara soal M-Banki...</td>\n",
       "    </tr>\n",
       "    <tr>\n",
       "      <th>2020-01-17 08:55:00</th>\n",
       "      <td>POSITIVE</td>\n",
       "      <td>IHSG Berpeluang Menguat ke 6.325</td>\n",
       "    </tr>\n",
       "    <tr>\n",
       "      <th>2020-01-06 08:49:00</th>\n",
       "      <td>NEGATIVE</td>\n",
       "      <td>IHSG Diprediksi Merah Awal Pekan</td>\n",
       "    </tr>\n",
       "    <tr>\n",
       "      <th>2019-12-24 16:30:00</th>\n",
       "      <td>POSITIVE</td>\n",
       "      <td>Menebak Jumlah Harta Duo Hartono Jika Harga Sa...</td>\n",
       "    </tr>\n",
       "  </tbody>\n",
       "</table>\n",
       "<p>227 rows × 2 columns</p>\n",
       "</div>"
      ],
      "text/plain": [
       "                    sentiment  \\\n",
       "date                            \n",
       "2024-11-28 08:51:00  NEGATIVE   \n",
       "2024-11-19 08:49:00  POSITIVE   \n",
       "2024-11-11 12:45:00  NEGATIVE   \n",
       "2024-10-29 08:30:00  POSITIVE   \n",
       "2024-10-29 07:45:00  NEGATIVE   \n",
       "...                       ...   \n",
       "2020-02-19 08:51:00  POSITIVE   \n",
       "2020-01-30 13:49:00  NEGATIVE   \n",
       "2020-01-17 08:55:00  POSITIVE   \n",
       "2020-01-06 08:49:00  NEGATIVE   \n",
       "2019-12-24 16:30:00  POSITIVE   \n",
       "\n",
       "                                                                 title  \n",
       "date                                                                    \n",
       "2024-11-28 08:51:00  IHSG Hari Ini Diprediksi Melemah di Level 7.20...  \n",
       "2024-11-19 08:49:00  IHSG Hari Ini Diramal Bergerak di Level 7.100-...  \n",
       "2024-11-11 12:45:00                  Berapa Harga Saham BBCA Hari Ini?  \n",
       "2024-10-29 08:30:00  Masuk Daftar 45 Saham Pre-opening Saham GOTO M...  \n",
       "2024-10-29 07:45:00  BCA Pemberi Utang Terbesar ke Sritex Respons s...  \n",
       "...                                                                ...  \n",
       "2020-02-19 08:51:00                   IHSG Berpotensi Menguat Pagi Ini  \n",
       "2020-01-30 13:49:00  BCA dan Bank Mandiri Angkat Suara soal M-Banki...  \n",
       "2020-01-17 08:55:00                   IHSG Berpeluang Menguat ke 6.325  \n",
       "2020-01-06 08:49:00                   IHSG Diprediksi Merah Awal Pekan  \n",
       "2019-12-24 16:30:00  Menebak Jumlah Harta Duo Hartono Jika Harga Sa...  \n",
       "\n",
       "[227 rows x 2 columns]"
      ]
     },
     "execution_count": 94,
     "metadata": {},
     "output_type": "execute_result"
    }
   ],
   "source": [
    "news = pd.read_csv('Data/bbca sentiment analysis.csv')\n",
    "# delete columns except date and sentiment and title\n",
    "news = news[['publish_date', 'sentiment', 'title']]\n",
    "news = news.rename(columns={'publish_date': 'date'})\n",
    "news['date'] = pd.to_datetime(news['date'])\n",
    "news = news.set_index('date')\n",
    "\n",
    "# hanya gunakan data diatas tanggal 2019-12-17\n",
    "\n",
    "news = news[news.index >= '2019-12-17']\n",
    "\n",
    "news"
   ]
  },
  {
   "cell_type": "code",
   "execution_count": 95,
   "metadata": {},
   "outputs": [],
   "source": [
    "news.index = news.index.normalize()\n",
    "news = news.groupby(news.index).first()\n"
   ]
  },
  {
   "cell_type": "code",
   "execution_count": 96,
   "metadata": {},
   "outputs": [
    {
     "data": {
      "text/html": [
       "<div>\n",
       "<style scoped>\n",
       "    .dataframe tbody tr th:only-of-type {\n",
       "        vertical-align: middle;\n",
       "    }\n",
       "\n",
       "    .dataframe tbody tr th {\n",
       "        vertical-align: top;\n",
       "    }\n",
       "\n",
       "    .dataframe thead th {\n",
       "        text-align: right;\n",
       "    }\n",
       "</style>\n",
       "<table border=\"1\" class=\"dataframe\">\n",
       "  <thead>\n",
       "    <tr style=\"text-align: right;\">\n",
       "      <th></th>\n",
       "      <th>Close</th>\n",
       "      <th>sentiment</th>\n",
       "      <th>title</th>\n",
       "    </tr>\n",
       "    <tr>\n",
       "      <th>date</th>\n",
       "      <th></th>\n",
       "      <th></th>\n",
       "      <th></th>\n",
       "    </tr>\n",
       "  </thead>\n",
       "  <tbody>\n",
       "    <tr>\n",
       "      <th>2019-12-26</th>\n",
       "      <td>6020.944336</td>\n",
       "      <td>NaN</td>\n",
       "      <td>NaN</td>\n",
       "    </tr>\n",
       "    <tr>\n",
       "      <th>2019-12-27</th>\n",
       "      <td>6034.463867</td>\n",
       "      <td>NaN</td>\n",
       "      <td>NaN</td>\n",
       "    </tr>\n",
       "    <tr>\n",
       "      <th>2019-12-30</th>\n",
       "      <td>6025.451172</td>\n",
       "      <td>NaN</td>\n",
       "      <td>NaN</td>\n",
       "    </tr>\n",
       "    <tr>\n",
       "      <th>2020-01-02</th>\n",
       "      <td>6029.958008</td>\n",
       "      <td>NaN</td>\n",
       "      <td>NaN</td>\n",
       "    </tr>\n",
       "    <tr>\n",
       "      <th>2020-01-03</th>\n",
       "      <td>6129.105469</td>\n",
       "      <td>NaN</td>\n",
       "      <td>NaN</td>\n",
       "    </tr>\n",
       "    <tr>\n",
       "      <th>...</th>\n",
       "      <td>...</td>\n",
       "      <td>...</td>\n",
       "      <td>...</td>\n",
       "    </tr>\n",
       "    <tr>\n",
       "      <th>2024-10-25</th>\n",
       "      <td>10750.000000</td>\n",
       "      <td>NaN</td>\n",
       "      <td>NaN</td>\n",
       "    </tr>\n",
       "    <tr>\n",
       "      <th>2024-10-28</th>\n",
       "      <td>10600.000000</td>\n",
       "      <td>NaN</td>\n",
       "      <td>NaN</td>\n",
       "    </tr>\n",
       "    <tr>\n",
       "      <th>2024-10-29</th>\n",
       "      <td>10500.000000</td>\n",
       "      <td>POSITIVE</td>\n",
       "      <td>Masuk Daftar 45 Saham Pre-opening Saham GOTO M...</td>\n",
       "    </tr>\n",
       "    <tr>\n",
       "      <th>2024-10-30</th>\n",
       "      <td>10350.000000</td>\n",
       "      <td>NaN</td>\n",
       "      <td>NaN</td>\n",
       "    </tr>\n",
       "    <tr>\n",
       "      <th>2024-10-31</th>\n",
       "      <td>10250.000000</td>\n",
       "      <td>NaN</td>\n",
       "      <td>NaN</td>\n",
       "    </tr>\n",
       "  </tbody>\n",
       "</table>\n",
       "<p>1175 rows × 3 columns</p>\n",
       "</div>"
      ],
      "text/plain": [
       "                   Close sentiment  \\\n",
       "date                                 \n",
       "2019-12-26   6020.944336       NaN   \n",
       "2019-12-27   6034.463867       NaN   \n",
       "2019-12-30   6025.451172       NaN   \n",
       "2020-01-02   6029.958008       NaN   \n",
       "2020-01-03   6129.105469       NaN   \n",
       "...                  ...       ...   \n",
       "2024-10-25  10750.000000       NaN   \n",
       "2024-10-28  10600.000000       NaN   \n",
       "2024-10-29  10500.000000  POSITIVE   \n",
       "2024-10-30  10350.000000       NaN   \n",
       "2024-10-31  10250.000000       NaN   \n",
       "\n",
       "                                                        title  \n",
       "date                                                           \n",
       "2019-12-26                                                NaN  \n",
       "2019-12-27                                                NaN  \n",
       "2019-12-30                                                NaN  \n",
       "2020-01-02                                                NaN  \n",
       "2020-01-03                                                NaN  \n",
       "...                                                       ...  \n",
       "2024-10-25                                                NaN  \n",
       "2024-10-28                                                NaN  \n",
       "2024-10-29  Masuk Daftar 45 Saham Pre-opening Saham GOTO M...  \n",
       "2024-10-30                                                NaN  \n",
       "2024-10-31                                                NaN  \n",
       "\n",
       "[1175 rows x 3 columns]"
      ]
     },
     "execution_count": 96,
     "metadata": {},
     "output_type": "execute_result"
    }
   ],
   "source": [
    "# Pastikan data terurut berdasarkan index\n",
    "news.index = news.index.normalize()\n",
    "\n",
    "# Merge DataFrame berdasarkan index\n",
    "dfMerge = dataUsed.merge(news, how='left', left_index=True, right_index=True)\n",
    "\n",
    "dfMerge"
   ]
  },
  {
   "cell_type": "code",
   "execution_count": 97,
   "metadata": {},
   "outputs": [
    {
     "data": {
      "text/plain": [
       "sentiment\n",
       "POSITIVE    116\n",
       "NEGATIVE     56\n",
       "Name: count, dtype: int64"
      ]
     },
     "execution_count": 97,
     "metadata": {},
     "output_type": "execute_result"
    }
   ],
   "source": [
    "dfMerge['sentiment'].value_counts()"
   ]
  },
  {
   "cell_type": "code",
   "execution_count": 98,
   "metadata": {},
   "outputs": [
    {
     "name": "stdout",
     "output_type": "stream",
     "text": [
      "                   Close sentiment  \\\n",
      "2019-12-26   6020.944336  POSITIVE   \n",
      "2019-12-27   6034.463867       NaN   \n",
      "2019-12-30   6025.451172       NaN   \n",
      "2020-01-02   6029.958008       NaN   \n",
      "2020-01-03   6129.105469       NaN   \n",
      "...                  ...       ...   \n",
      "2024-10-25  10750.000000  NEGATIVE   \n",
      "2024-10-28  10600.000000       NaN   \n",
      "2024-10-29  10500.000000       NaN   \n",
      "2024-10-30  10350.000000  POSITIVE   \n",
      "2024-10-31  10250.000000       NaN   \n",
      "\n",
      "                                                        title  \n",
      "2019-12-26  Menebak Jumlah Harta Duo Hartono Jika Harga Sa...  \n",
      "2019-12-27                                                NaN  \n",
      "2019-12-30                                                NaN  \n",
      "2020-01-02                                                NaN  \n",
      "2020-01-03                                                NaN  \n",
      "...                                                       ...  \n",
      "2024-10-25  Bos Buruh Ungkap Sritex Pailit Gara-gara Sulit...  \n",
      "2024-10-28                                                NaN  \n",
      "2024-10-29                                                NaN  \n",
      "2024-10-30  Masuk Daftar 45 Saham Pre-opening Saham GOTO M...  \n",
      "2024-10-31                                                NaN  \n",
      "\n",
      "[1177 rows x 3 columns]\n"
     ]
    },
    {
     "data": {
      "text/plain": [
       "sentiment\n",
       "POSITIVE    121\n",
       "NEGATIVE     61\n",
       "Name: count, dtype: int64"
      ]
     },
     "execution_count": 98,
     "metadata": {},
     "output_type": "execute_result"
    }
   ],
   "source": [
    "# Pastikan data terurut berdasarkan index\n",
    "dataUsed = dataUsed.sort_index()\n",
    "news = news.sort_index()\n",
    "\n",
    "# Buat kolom tambahan untuk mencatat tanggal pertama di dataUsed setelah berita\n",
    "news['nearest_date'] = dataUsed.index.searchsorted(news.index, side='right')\n",
    "news['nearest_date'] = news['nearest_date'].map(lambda x: dataUsed.index[x] if x < len(dataUsed.index) else None)\n",
    "\n",
    "# Gabungkan dataUsed dengan berita berdasarkan nearest_date\n",
    "news_mapped = news.dropna(subset=['nearest_date']).set_index('nearest_date')\n",
    "dfMerge = dataUsed.merge(news_mapped, how='left', left_index=True, right_index=True)\n",
    "\n",
    "# Tampilkan hasil\n",
    "print(dfMerge)\n",
    "dfMerge['sentiment'].value_counts()\n"
   ]
  },
  {
   "cell_type": "code",
   "execution_count": 99,
   "metadata": {},
   "outputs": [
    {
     "data": {
      "text/plain": [
       "sentiment\n",
       "0.0    1177\n",
       "Name: count, dtype: int64"
      ]
     },
     "execution_count": 99,
     "metadata": {},
     "output_type": "execute_result"
    }
   ],
   "source": [
    "dfMerge['sentiment'] = dfMerge['sentiment'].map({'positif': 1, 'negatif': -1}).fillna(0)\n",
    "\n",
    "dfMerge['sentiment'].value_counts()"
   ]
  },
  {
   "cell_type": "code",
   "execution_count": 100,
   "metadata": {},
   "outputs": [
    {
     "data": {
      "text/plain": [
       "array([[0.29150399, 0.        ],\n",
       "       [0.29344727, 0.        ],\n",
       "       [0.2921518 , 0.        ],\n",
       "       ...,\n",
       "       [0.93531759, 0.        ],\n",
       "       [0.91375679, 0.        ],\n",
       "       [0.89938292, 0.        ]])"
      ]
     },
     "execution_count": 100,
     "metadata": {},
     "output_type": "execute_result"
    }
   ],
   "source": [
    "sentiment_data = dfMerge.filter(['sentiment']).values  # Pastikan ada kolom 'Sentiment'\n",
    "\n",
    "# Normalisasi data sentimen\n",
    "scaled_sentiment = scaler.fit_transform(sentiment_data)\n",
    "\n",
    "scaled_data = dfMerge.filter(['Close']).values\n",
    "\n",
    "# Normalisasi data harga\n",
    "scaled_data = scaler.fit_transform(scaled_data)\n",
    "\n",
    "# Gabungkan harga (Close) dan sentimen\n",
    "scaled_combined_data = np.hstack((scaled_data, scaled_sentiment))\n",
    "\n",
    "scaled_combined_data"
   ]
  },
  {
   "cell_type": "code",
   "execution_count": 101,
   "metadata": {},
   "outputs": [
    {
     "name": "stdout",
     "output_type": "stream",
     "text": [
      "x_train shape: (880, 60, 2)\n"
     ]
    }
   ],
   "source": [
    "train_data = scaled_combined_data[0:int(training_data_len), :]\n",
    "\n",
    "x_train = []\n",
    "y_train = []\n",
    "\n",
    "for i in range(60, len(train_data)):\n",
    "    x_train.append(train_data[i-60:i, :])  # Tambahkan semua fitur\n",
    "    y_train.append(train_data[i, 0])  # Target tetap 'Close'\n",
    "\n",
    "x_train, y_train = np.array(x_train), np.array(y_train)\n",
    "\n",
    "print(f\"x_train shape: {x_train.shape}\")  # Periksa shape-nya\n",
    "# Reshape input ke bentuk yang dimengerti oleh LSTM\n",
    "# Sekarang menjadi (samples, timesteps, features)\n"
   ]
  },
  {
   "cell_type": "code",
   "execution_count": 102,
   "metadata": {},
   "outputs": [
    {
     "name": "stdout",
     "output_type": "stream",
     "text": [
      "Epoch 1/30\n",
      "176/176 [==============================] - 6s 16ms/step - loss: 0.0031\n",
      "Epoch 2/30\n",
      "176/176 [==============================] - 3s 16ms/step - loss: 0.0011\n",
      "Epoch 3/30\n",
      "176/176 [==============================] - 3s 17ms/step - loss: 8.2760e-04\n",
      "Epoch 4/30\n",
      "176/176 [==============================] - 3s 17ms/step - loss: 7.5442e-04\n",
      "Epoch 5/30\n",
      "176/176 [==============================] - 3s 16ms/step - loss: 6.5444e-04\n",
      "Epoch 6/30\n",
      "176/176 [==============================] - 3s 16ms/step - loss: 6.5541e-04\n",
      "Epoch 7/30\n",
      "176/176 [==============================] - 3s 16ms/step - loss: 5.2359e-04\n",
      "Epoch 8/30\n",
      "176/176 [==============================] - 3s 16ms/step - loss: 4.7004e-04\n",
      "Epoch 9/30\n",
      "176/176 [==============================] - 3s 16ms/step - loss: 4.3462e-04\n",
      "Epoch 10/30\n",
      "176/176 [==============================] - 3s 16ms/step - loss: 5.5118e-04\n",
      "Epoch 11/30\n",
      "176/176 [==============================] - 3s 16ms/step - loss: 3.8857e-04\n",
      "Epoch 12/30\n",
      "176/176 [==============================] - 3s 16ms/step - loss: 3.8069e-04\n",
      "Epoch 13/30\n",
      "176/176 [==============================] - 3s 16ms/step - loss: 3.3908e-04\n",
      "Epoch 14/30\n",
      "176/176 [==============================] - 3s 16ms/step - loss: 3.4457e-04\n",
      "Epoch 15/30\n",
      "176/176 [==============================] - 3s 16ms/step - loss: 3.3601e-04\n",
      "Epoch 16/30\n",
      "176/176 [==============================] - 3s 16ms/step - loss: 3.1093e-04\n",
      "Epoch 17/30\n",
      "176/176 [==============================] - 3s 16ms/step - loss: 3.2604e-04\n",
      "Epoch 18/30\n",
      "176/176 [==============================] - 3s 16ms/step - loss: 3.5684e-04\n",
      "Epoch 19/30\n",
      "176/176 [==============================] - 3s 16ms/step - loss: 3.9039e-04\n",
      "Epoch 20/30\n",
      "176/176 [==============================] - 3s 16ms/step - loss: 2.7932e-04\n",
      "Epoch 21/30\n",
      "176/176 [==============================] - 3s 16ms/step - loss: 2.8864e-04\n",
      "Epoch 22/30\n",
      "176/176 [==============================] - 3s 16ms/step - loss: 3.5841e-04\n",
      "Epoch 23/30\n",
      "176/176 [==============================] - 3s 16ms/step - loss: 3.3189e-04\n",
      "Epoch 24/30\n",
      "176/176 [==============================] - 3s 16ms/step - loss: 3.3410e-04\n",
      "Epoch 25/30\n",
      "176/176 [==============================] - 3s 16ms/step - loss: 2.8348e-04\n",
      "Epoch 26/30\n",
      "176/176 [==============================] - 3s 16ms/step - loss: 3.0283e-04\n",
      "Epoch 27/30\n",
      "176/176 [==============================] - 3s 16ms/step - loss: 3.7322e-04\n",
      "Epoch 28/30\n",
      "176/176 [==============================] - 3s 16ms/step - loss: 3.2459e-04\n",
      "Epoch 29/30\n",
      "176/176 [==============================] - 3s 16ms/step - loss: 2.9922e-04\n",
      "Epoch 30/30\n",
      "176/176 [==============================] - 3s 16ms/step - loss: 3.0553e-04\n"
     ]
    },
    {
     "data": {
      "text/plain": [
       "<keras.src.callbacks.History at 0x1c487cfc9d0>"
      ]
     },
     "execution_count": 102,
     "metadata": {},
     "output_type": "execute_result"
    }
   ],
   "source": [
    "model = Sequential()\n",
    "model.add(LSTM(128, return_sequences=True, input_shape=(x_train.shape[1], x_train.shape[2])))  # Sesuaikan fitur\n",
    "model.add(LSTM(64, return_sequences=False))\n",
    "model.add(Dense(25))\n",
    "model.add(Dense(1))\n",
    "\n",
    "model.compile(optimizer='adam', loss='mean_squared_error')\n",
    "model.fit(x_train, y_train, batch_size=5, epochs=30)\n"
   ]
  },
  {
   "cell_type": "code",
   "execution_count": 103,
   "metadata": {},
   "outputs": [
    {
     "name": "stdout",
     "output_type": "stream",
     "text": [
      "8/8 [==============================] - 1s 13ms/step\n"
     ]
    }
   ],
   "source": [
    "test_data = scaled_combined_data[training_data_len - 60:, :]\n",
    "\n",
    "x_test = []\n",
    "y_test = dataset[training_data_len:, :]\n",
    "for i in range(60, len(test_data)):\n",
    "    x_test.append(test_data[i-60:i, :])  # Tambahkan semua fitur\n",
    "\n",
    "x_test = np.array(x_test)\n",
    "\n",
    "# Reshape data uji\n",
    "x_test = np.reshape(x_test, (x_test.shape[0], x_test.shape[1], x_test.shape[2]))\n",
    "\n",
    "predictions = model.predict(x_test)\n",
    "predictions = scaler.inverse_transform(predictions)\n"
   ]
  },
  {
   "cell_type": "code",
   "execution_count": 110,
   "metadata": {},
   "outputs": [
    {
     "name": "stdout",
     "output_type": "stream",
     "text": [
      "RMSE:  22.826637300531914\n",
      "MAE:  99.15491190159574\n"
     ]
    }
   ],
   "source": [
    "from sklearn.metrics import mean_squared_error, mean_absolute_error\n",
    "\n",
    "y_test = dataset[training_data_len:, :]\n",
    "test = predictions[:-1, 0]\n",
    "\n",
    "rmse = np.sqrt(np.mean(predictions - y_test)**2)\n",
    "mae = mean_absolute_error(predictions, y_test)\n",
    "\n",
    "print(\"RMSE: \", rmse)\n",
    "print(\"MAE: \", mae)\n"
   ]
  },
  {
   "cell_type": "code",
   "execution_count": 111,
   "metadata": {},
   "outputs": [
    {
     "name": "stderr",
     "output_type": "stream",
     "text": [
      "C:\\Users\\thari\\AppData\\Local\\Temp\\ipykernel_5296\\1510546548.py:4: SettingWithCopyWarning:\n",
      "\n",
      "\n",
      "A value is trying to be set on a copy of a slice from a DataFrame.\n",
      "Try using .loc[row_indexer,col_indexer] = value instead\n",
      "\n",
      "See the caveats in the documentation: https://pandas.pydata.org/pandas-docs/stable/user_guide/indexing.html#returning-a-view-versus-a-copy\n",
      "\n"
     ]
    },
    {
     "data": {
      "image/png": "[encoded data removed]",
      "text/plain": [
       "<Figure size 1600x800 with 1 Axes>"
      ]
     },
     "metadata": {},
     "output_type": "display_data"
    }
   ],
   "source": [
    "train = data[:training_data_len]\n",
    "# ambil data dari training_data_len sampai akhir -1\n",
    "valid = data[training_data_len-1:-1]  # Ambil 1 baris sebelum training_data_len dan hilangkan baris terakhir\n",
    "valid['Predictions'] = predictions[:, 0]  # Predictions harus sesuai panjang dengan valid\n",
    "\n",
    "plt.figure(figsize=(16,8))\n",
    "plt.title('Model')\n",
    "plt.xlabel('Date')\n",
    "plt.ylabel('Close Price USD ($)')\n",
    "plt.plot(train['Close'])\n",
    "plt.plot(valid[['Close', 'Predictions']])\n",
    "plt.legend(['Train', 'Val', 'Predictions'], loc='lower right')\n",
    "plt.show()"
   ]
  },
  {
   "cell_type": "code",
   "execution_count": 112,
   "metadata": {},
   "outputs": [
    {
     "data": {
      "application/vnd.plotly.v1+json": {
       "config": {
        "plotlyServerURL": "https://plot.ly"
       },
       "data": [
        {
         "mode": "lines",
         "name": "Val",
         "type": "scatter",
         "x": [
          "2023-11-06T00:00:00",
          "2023-11-07T00:00:00",
          "2023-11-08T00:00:00",
          "2023-11-09T00:00:00",
          "2023-11-10T00:00:00",
          "2023-11-13T00:00:00",
          "2023-11-14T00:00:00",
          "2023-11-15T00:00:00",
          "2023-11-16T00:00:00",
          "2023-11-17T00:00:00",
          "2023-11-20T00:00:00",
          "2023-11-21T00:00:00",
          "2023-11-22T00:00:00",
          "2023-11-23T00:00:00",
          "2023-11-24T00:00:00",
          "2023-11-27T00:00:00",
          "2023-11-28T00:00:00",
          "2023-11-29T00:00:00",
          "2023-11-30T00:00:00",
          "2023-12-01T00:00:00",
          "2023-12-04T00:00:00",
          "2023-12-05T00:00:00",
          "2023-12-06T00:00:00",
          "2023-12-07T00:00:00",
          "2023-12-08T00:00:00",
          "2023-12-11T00:00:00",
          "2023-12-12T00:00:00",
          "2023-12-13T00:00:00",
          "2023-12-14T00:00:00",
          "2023-12-15T00:00:00",
          "2023-12-18T00:00:00",
          "2023-12-19T00:00:00",
          "2023-12-20T00:00:00",
          "2023-12-21T00:00:00",
          "2023-12-22T00:00:00",
          "2023-12-27T00:00:00",
          "2023-12-28T00:00:00",
          "2023-12-29T00:00:00",
          "2024-01-02T00:00:00",
          "2024-01-03T00:00:00",
          "2024-01-04T00:00:00",
          "2024-01-05T00:00:00",
          "2024-01-08T00:00:00",
          "2024-01-09T00:00:00",
          "2024-01-10T00:00:00",
          "2024-01-11T00:00:00",
          "2024-01-12T00:00:00",
          "2024-01-15T00:00:00",
          "2024-01-16T00:00:00",
          "2024-01-17T00:00:00",
          "2024-01-18T00:00:00",
          "2024-01-19T00:00:00",
          "2024-01-22T00:00:00",
          "2024-01-23T00:00:00",
          "2024-01-24T00:00:00",
          "2024-01-25T00:00:00",
          "2024-01-26T00:00:00",
          "2024-01-29T00:00:00",
          "2024-01-30T00:00:00",
          "2024-01-31T00:00:00",
          "2024-02-01T00:00:00",
          "2024-02-02T00:00:00",
          "2024-02-05T00:00:00",
          "2024-02-06T00:00:00",
          "2024-02-07T00:00:00",
          "2024-02-12T00:00:00",
          "2024-02-13T00:00:00",
          "2024-02-15T00:00:00",
          "2024-02-16T00:00:00",
          "2024-02-19T00:00:00",
          "2024-02-20T00:00:00",
          "2024-02-21T00:00:00",
          "2024-02-22T00:00:00",
          "2024-02-23T00:00:00",
          "2024-02-26T00:00:00",
          "2024-02-27T00:00:00",
          "2024-02-28T00:00:00",
          "2024-02-29T00:00:00",
          "2024-03-01T00:00:00",
          "2024-03-04T00:00:00",
          "2024-03-05T00:00:00",
          "2024-03-06T00:00:00",
          "2024-03-07T00:00:00",
          "2024-03-08T00:00:00",
          "2024-03-13T00:00:00",
          "2024-03-14T00:00:00",
          "2024-03-15T00:00:00",
          "2024-03-18T00:00:00",
          "2024-03-19T00:00:00",
          "2024-03-20T00:00:00",
          "2024-03-21T00:00:00",
          "2024-03-22T00:00:00",
          "2024-03-25T00:00:00",
          "2024-03-26T00:00:00",
          "2024-03-27T00:00:00",
          "2024-03-28T00:00:00",
          "2024-04-01T00:00:00",
          "2024-04-02T00:00:00",
          "2024-04-03T00:00:00",
          "2024-04-04T00:00:00",
          "2024-04-05T00:00:00",
          "2024-04-16T00:00:00",
          "2024-04-17T00:00:00",
          "2024-04-18T00:00:00",
          "2024-04-19T00:00:00",
          "2024-04-22T00:00:00",
          "2024-04-23T00:00:00",
          "2024-04-24T00:00:00",
          "2024-04-25T00:00:00",
          "2024-04-26T00:00:00",
          "2024-04-29T00:00:00",
          "2024-04-30T00:00:00",
          "2024-05-02T00:00:00",
          "2024-05-03T00:00:00",
          "2024-05-06T00:00:00",
          "2024-05-07T00:00:00",
          "2024-05-08T00:00:00",
          "2024-05-13T00:00:00",
          "2024-05-14T00:00:00",
          "2024-05-15T00:00:00",
          "2024-05-16T00:00:00",
          "2024-05-17T00:00:00",
          "2024-05-20T00:00:00",
          "2024-05-21T00:00:00",
          "2024-05-22T00:00:00",
          "2024-05-27T00:00:00",
          "2024-05-28T00:00:00",
          "2024-05-29T00:00:00",
          "2024-05-30T00:00:00",
          "2024-05-31T00:00:00",
          "2024-06-03T00:00:00",
          "2024-06-04T00:00:00",
          "2024-06-05T00:00:00",
          "2024-06-06T00:00:00",
          "2024-06-07T00:00:00",
          "2024-06-10T00:00:00",
          "2024-06-11T00:00:00",
          "2024-06-12T00:00:00",
          "2024-06-13T00:00:00",
          "2024-06-14T00:00:00",
          "2024-06-19T00:00:00",
          "2024-06-20T00:00:00",
          "2024-06-21T00:00:00",
          "2024-06-24T00:00:00",
          "2024-06-25T00:00:00",
          "2024-06-26T00:00:00",
          "2024-06-27T00:00:00",
          "2024-06-28T00:00:00",
          "2024-07-01T00:00:00",
          "2024-07-02T00:00:00",
          "2024-07-03T00:00:00",
          "2024-07-04T00:00:00",
          "2024-07-05T00:00:00",
          "2024-07-08T00:00:00",
          "2024-07-09T00:00:00",
          "2024-07-10T00:00:00",
          "2024-07-11T00:00:00",
          "2024-07-12T00:00:00",
          "2024-07-15T00:00:00",
          "2024-07-16T00:00:00",
          "2024-07-17T00:00:00",
          "2024-07-18T00:00:00",
          "2024-07-19T00:00:00",
          "2024-07-22T00:00:00",
          "2024-07-23T00:00:00",
          "2024-07-24T00:00:00",
          "2024-07-25T00:00:00",
          "2024-07-26T00:00:00",
          "2024-07-29T00:00:00",
          "2024-07-30T00:00:00",
          "2024-07-31T00:00:00",
          "2024-08-01T00:00:00",
          "2024-08-02T00:00:00",
          "2024-08-05T00:00:00",
          "2024-08-06T00:00:00",
          "2024-08-07T00:00:00",
          "2024-08-08T00:00:00",
          "2024-08-09T00:00:00",
          "2024-08-12T00:00:00",
          "2024-08-13T00:00:00",
          "2024-08-14T00:00:00",
          "2024-08-15T00:00:00",
          "2024-08-16T00:00:00",
          "2024-08-19T00:00:00",
          "2024-08-20T00:00:00",
          "2024-08-21T00:00:00",
          "2024-08-22T00:00:00",
          "2024-08-23T00:00:00",
          "2024-08-26T00:00:00",
          "2024-08-27T00:00:00",
          "2024-08-28T00:00:00",
          "2024-08-29T00:00:00",
          "2024-08-30T00:00:00",
          "2024-09-02T00:00:00",
          "2024-09-03T00:00:00",
          "2024-09-04T00:00:00",
          "2024-09-05T00:00:00",
          "2024-09-06T00:00:00",
          "2024-09-09T00:00:00",
          "2024-09-10T00:00:00",
          "2024-09-11T00:00:00",
          "2024-09-12T00:00:00",
          "2024-09-13T00:00:00",
          "2024-09-17T00:00:00",
          "2024-09-18T00:00:00",
          "2024-09-19T00:00:00",
          "2024-09-20T00:00:00",
          "2024-09-23T00:00:00",
          "2024-09-24T00:00:00",
          "2024-09-25T00:00:00",
          "2024-09-26T00:00:00",
          "2024-09-27T00:00:00",
          "2024-09-30T00:00:00",
          "2024-10-01T00:00:00",
          "2024-10-02T00:00:00",
          "2024-10-03T00:00:00",
          "2024-10-04T00:00:00",
          "2024-10-07T00:00:00",
          "2024-10-08T00:00:00",
          "2024-10-09T00:00:00",
          "2024-10-10T00:00:00",
          "2024-10-11T00:00:00",
          "2024-10-14T00:00:00",
          "2024-10-15T00:00:00",
          "2024-10-16T00:00:00",
          "2024-10-17T00:00:00",
          "2024-10-18T00:00:00",
          "2024-10-21T00:00:00",
          "2024-10-22T00:00:00",
          "2024-10-23T00:00:00",
          "2024-10-24T00:00:00",
          "2024-10-25T00:00:00",
          "2024-10-28T00:00:00",
          "2024-10-29T00:00:00",
          "2024-10-30T00:00:00"
         ],
         "y": [
          8804.14453125,
          8731.181640625,
          8755.501953125,
          8755.501953125,
          8585.2568359375,
          8633.8984375,
          8682.5400390625,
          8804.14453125,
          8828.46484375,
          8828.46484375,
          8633.8984375,
          8536.6142578125,
          8633.8984375,
          8682.5400390625,
          8682.5400390625,
          8633.8984375,
          8633.8984375,
          8658.21875,
          8731.181640625,
          8706.8603515625,
          8723.966796875,
          8699.529296875,
          8601.7822265625,
          8626.21875,
          8552.908203125,
          8552.908203125,
          8504.0341796875,
          8479.59765625,
          8846.150390625,
          9017.208984375,
          8992.7724609375,
          9041.6455078125,
          9090.51953125,
          9114.9560546875,
          9114.9560546875,
          9163.830078125,
          9188.267578125,
          9188.267578125,
          9212.7041015625,
          9139.3935546875,
          9261.578125,
          9359.3251953125,
          9359.3251953125,
          9408.19921875,
          9334.888671875,
          9359.3251953125,
          9481.509765625,
          9505.9462890625,
          9481.509765625,
          9530.3837890625,
          9457.0732421875,
          9408.19921875,
          9408.19921875,
          9383.76171875,
          9310.451171875,
          9286.0146484375,
          9139.3935546875,
          9334.888671875,
          9432.6357421875,
          9334.888671875,
          9481.509765625,
          9481.509765625,
          9359.3251953125,
          9408.19921875,
          9481.509765625,
          9579.2568359375,
          9505.9462890625,
          9628.130859375,
          9725.87890625,
          9652.5673828125,
          9799.189453125,
          9750.3154296875,
          9652.5673828125,
          9603.6943359375,
          9579.2568359375,
          9652.5673828125,
          9774.751953125,
          9652.5673828125,
          9603.6943359375,
          9530.3837890625,
          9579.2568359375,
          9725.87890625,
          9896.9365234375,
          9921.3740234375,
          9774.751953125,
          10092.431640625,
          9921.3740234375,
          9921.3740234375,
          9945.810546875,
          9896.9365234375,
          9896.9365234375,
          9872.5,
          10075,
          10050,
          10075,
          10075,
          9850,
          9900,
          9525,
          9850,
          9825,
          9475,
          9525,
          9475,
          9475,
          9350,
          9725,
          9950,
          9775,
          9625,
          9800,
          9800,
          9550,
          9850,
          9800,
          9700,
          9375,
          9525,
          9550,
          9500,
          9600,
          9750,
          9475,
          9375,
          9425,
          9300,
          9300,
          9150,
          9000,
          9250,
          9275,
          9350,
          9450,
          9475,
          9325,
          9525,
          9300,
          9250,
          9200,
          9200,
          9050,
          9425,
          9600,
          9600,
          9600,
          9500,
          9750,
          9925,
          9875,
          9900,
          10000,
          9825,
          9950,
          10050,
          10075,
          10100,
          10075,
          10075,
          10050,
          9950,
          9800,
          10100,
          10125,
          10100,
          10175,
          10075,
          10300,
          10325,
          10250,
          10175,
          10275,
          10375,
          10200,
          9875,
          10000,
          10100,
          10225,
          10150,
          10200,
          10300,
          10200,
          10225,
          10325,
          10375,
          10425,
          10425,
          10325,
          10325,
          10325,
          10200,
          10350,
          10225,
          10325,
          10275,
          10175,
          10300,
          10250,
          10300,
          10275,
          10350,
          10425,
          10475,
          10425,
          10500,
          10625,
          10900,
          10775,
          10950,
          10800,
          10850,
          10700,
          10650,
          10325,
          10550,
          10500,
          10450,
          10475,
          10300,
          10400,
          10425,
          10500,
          10375,
          10500,
          10625,
          10475,
          10725,
          10750,
          10675,
          10500,
          10650,
          10700,
          10750,
          10600,
          10500,
          10350
         ]
        },
        {
         "mode": "lines",
         "name": "Predictions",
         "type": "scatter",
         "x": [
          "2023-11-06T00:00:00",
          "2023-11-07T00:00:00",
          "2023-11-08T00:00:00",
          "2023-11-09T00:00:00",
          "2023-11-10T00:00:00",
          "2023-11-13T00:00:00",
          "2023-11-14T00:00:00",
          "2023-11-15T00:00:00",
          "2023-11-16T00:00:00",
          "2023-11-17T00:00:00",
          "2023-11-20T00:00:00",
          "2023-11-21T00:00:00",
          "2023-11-22T00:00:00",
          "2023-11-23T00:00:00",
          "2023-11-24T00:00:00",
          "2023-11-27T00:00:00",
          "2023-11-28T00:00:00",
          "2023-11-29T00:00:00",
          "2023-11-30T00:00:00",
          "2023-12-01T00:00:00",
          "2023-12-04T00:00:00",
          "2023-12-05T00:00:00",
          "2023-12-06T00:00:00",
          "2023-12-07T00:00:00",
          "2023-12-08T00:00:00",
          "2023-12-11T00:00:00",
          "2023-12-12T00:00:00",
          "2023-12-13T00:00:00",
          "2023-12-14T00:00:00",
          "2023-12-15T00:00:00",
          "2023-12-18T00:00:00",
          "2023-12-19T00:00:00",
          "2023-12-20T00:00:00",
          "2023-12-21T00:00:00",
          "2023-12-22T00:00:00",
          "2023-12-27T00:00:00",
          "2023-12-28T00:00:00",
          "2023-12-29T00:00:00",
          "2024-01-02T00:00:00",
          "2024-01-03T00:00:00",
          "2024-01-04T00:00:00",
          "2024-01-05T00:00:00",
          "2024-01-08T00:00:00",
          "2024-01-09T00:00:00",
          "2024-01-10T00:00:00",
          "2024-01-11T00:00:00",
          "2024-01-12T00:00:00",
          "2024-01-15T00:00:00",
          "2024-01-16T00:00:00",
          "2024-01-17T00:00:00",
          "2024-01-18T00:00:00",
          "2024-01-19T00:00:00",
          "2024-01-22T00:00:00",
          "2024-01-23T00:00:00",
          "2024-01-24T00:00:00",
          "2024-01-25T00:00:00",
          "2024-01-26T00:00:00",
          "2024-01-29T00:00:00",
          "2024-01-30T00:00:00",
          "2024-01-31T00:00:00",
          "2024-02-01T00:00:00",
          "2024-02-02T00:00:00",
          "2024-02-05T00:00:00",
          "2024-02-06T00:00:00",
          "2024-02-07T00:00:00",
          "2024-02-12T00:00:00",
          "2024-02-13T00:00:00",
          "2024-02-15T00:00:00",
          "2024-02-16T00:00:00",
          "2024-02-19T00:00:00",
          "2024-02-20T00:00:00",
          "2024-02-21T00:00:00",
          "2024-02-22T00:00:00",
          "2024-02-23T00:00:00",
          "2024-02-26T00:00:00",
          "2024-02-27T00:00:00",
          "2024-02-28T00:00:00",
          "2024-02-29T00:00:00",
          "2024-03-01T00:00:00",
          "2024-03-04T00:00:00",
          "2024-03-05T00:00:00",
          "2024-03-06T00:00:00",
          "2024-03-07T00:00:00",
          "2024-03-08T00:00:00",
          "2024-03-13T00:00:00",
          "2024-03-14T00:00:00",
          "2024-03-15T00:00:00",
          "2024-03-18T00:00:00",
          "2024-03-19T00:00:00",
          "2024-03-20T00:00:00",
          "2024-03-21T00:00:00",
          "2024-03-22T00:00:00",
          "2024-03-25T00:00:00",
          "2024-03-26T00:00:00",
          "2024-03-27T00:00:00",
          "2024-03-28T00:00:00",
          "2024-04-01T00:00:00",
          "2024-04-02T00:00:00",
          "2024-04-03T00:00:00",
          "2024-04-04T00:00:00",
          "2024-04-05T00:00:00",
          "2024-04-16T00:00:00",
          "2024-04-17T00:00:00",
          "2024-04-18T00:00:00",
          "2024-04-19T00:00:00",
          "2024-04-22T00:00:00",
          "2024-04-23T00:00:00",
          "2024-04-24T00:00:00",
          "2024-04-25T00:00:00",
          "2024-04-26T00:00:00",
          "2024-04-29T00:00:00",
          "2024-04-30T00:00:00",
          "2024-05-02T00:00:00",
          "2024-05-03T00:00:00",
          "2024-05-06T00:00:00",
          "2024-05-07T00:00:00",
          "2024-05-08T00:00:00",
          "2024-05-13T00:00:00",
          "2024-05-14T00:00:00",
          "2024-05-15T00:00:00",
          "2024-05-16T00:00:00",
          "2024-05-17T00:00:00",
          "2024-05-20T00:00:00",
          "2024-05-21T00:00:00",
          "2024-05-22T00:00:00",
          "2024-05-27T00:00:00",
          "2024-05-28T00:00:00",
          "2024-05-29T00:00:00",
          "2024-05-30T00:00:00",
          "2024-05-31T00:00:00",
          "2024-06-03T00:00:00",
          "2024-06-04T00:00:00",
          "2024-06-05T00:00:00",
          "2024-06-06T00:00:00",
          "2024-06-07T00:00:00",
          "2024-06-10T00:00:00",
          "2024-06-11T00:00:00",
          "2024-06-12T00:00:00",
          "2024-06-13T00:00:00",
          "2024-06-14T00:00:00",
          "2024-06-19T00:00:00",
          "2024-06-20T00:00:00",
          "2024-06-21T00:00:00",
          "2024-06-24T00:00:00",
          "2024-06-25T00:00:00",
          "2024-06-26T00:00:00",
          "2024-06-27T00:00:00",
          "2024-06-28T00:00:00",
          "2024-07-01T00:00:00",
          "2024-07-02T00:00:00",
          "2024-07-03T00:00:00",
          "2024-07-04T00:00:00",
          "2024-07-05T00:00:00",
          "2024-07-08T00:00:00",
          "2024-07-09T00:00:00",
          "2024-07-10T00:00:00",
          "2024-07-11T00:00:00",
          "2024-07-12T00:00:00",
          "2024-07-15T00:00:00",
          "2024-07-16T00:00:00",
          "2024-07-17T00:00:00",
          "2024-07-18T00:00:00",
          "2024-07-19T00:00:00",
          "2024-07-22T00:00:00",
          "2024-07-23T00:00:00",
          "2024-07-24T00:00:00",
          "2024-07-25T00:00:00",
          "2024-07-26T00:00:00",
          "2024-07-29T00:00:00",
          "2024-07-30T00:00:00",
          "2024-07-31T00:00:00",
          "2024-08-01T00:00:00",
          "2024-08-02T00:00:00",
          "2024-08-05T00:00:00",
          "2024-08-06T00:00:00",
          "2024-08-07T00:00:00",
          "2024-08-08T00:00:00",
          "2024-08-09T00:00:00",
          "2024-08-12T00:00:00",
          "2024-08-13T00:00:00",
          "2024-08-14T00:00:00",
          "2024-08-15T00:00:00",
          "2024-08-16T00:00:00",
          "2024-08-19T00:00:00",
          "2024-08-20T00:00:00",
          "2024-08-21T00:00:00",
          "2024-08-22T00:00:00",
          "2024-08-23T00:00:00",
          "2024-08-26T00:00:00",
          "2024-08-27T00:00:00",
          "2024-08-28T00:00:00",
          "2024-08-29T00:00:00",
          "2024-08-30T00:00:00",
          "2024-09-02T00:00:00",
          "2024-09-03T00:00:00",
          "2024-09-04T00:00:00",
          "2024-09-05T00:00:00",
          "2024-09-06T00:00:00",
          "2024-09-09T00:00:00",
          "2024-09-10T00:00:00",
          "2024-09-11T00:00:00",
          "2024-09-12T00:00:00",
          "2024-09-13T00:00:00",
          "2024-09-17T00:00:00",
          "2024-09-18T00:00:00",
          "2024-09-19T00:00:00",
          "2024-09-20T00:00:00",
          "2024-09-23T00:00:00",
          "2024-09-24T00:00:00",
          "2024-09-25T00:00:00",
          "2024-09-26T00:00:00",
          "2024-09-27T00:00:00",
          "2024-09-30T00:00:00",
          "2024-10-01T00:00:00",
          "2024-10-02T00:00:00",
          "2024-10-03T00:00:00",
          "2024-10-04T00:00:00",
          "2024-10-07T00:00:00",
          "2024-10-08T00:00:00",
          "2024-10-09T00:00:00",
          "2024-10-10T00:00:00",
          "2024-10-11T00:00:00",
          "2024-10-14T00:00:00",
          "2024-10-15T00:00:00",
          "2024-10-16T00:00:00",
          "2024-10-17T00:00:00",
          "2024-10-18T00:00:00",
          "2024-10-21T00:00:00",
          "2024-10-22T00:00:00",
          "2024-10-23T00:00:00",
          "2024-10-24T00:00:00",
          "2024-10-25T00:00:00",
          "2024-10-28T00:00:00",
          "2024-10-29T00:00:00",
          "2024-10-30T00:00:00"
         ],
         "y": [
          8776.166015625,
          8715.779296875,
          8736.146484375,
          8737.580078125,
          8591.884765625,
          8630.6962890625,
          8674.759765625,
          8783.0009765625,
          8807.294921875,
          8808.7353515625,
          8640.388671875,
          8551.7216796875,
          8633.7158203125,
          8679.318359375,
          8680.6513671875,
          8637.361328125,
          8635.1494140625,
          8655.77734375,
          8719.919921875,
          8700.705078125,
          8715.279296875,
          8694.4853515625,
          8609.4814453125,
          8628.1416015625,
          8564.8701171875,
          8562.5615234375,
          8518.8955078125,
          8495.01953125,
          8811.732421875,
          8968.8466796875,
          8952.849609375,
          8997.12890625,
          9043.7041015625,
          9070.9306640625,
          9076.3955078125,
          9123.9423828125,
          9150.05078125,
          9154.5537109375,
          9179.7724609375,
          9118.8212890625,
          9229.21484375,
          9318.001953125,
          9322.109375,
          9369.0693359375,
          9307.7177734375,
          9333.60546875,
          9444.2236328125,
          9468.6630859375,
          9451.1689453125,
          9497.8623046875,
          9435.466796875,
          9396.27734375,
          9398.0068359375,
          9377.5224609375,
          9313.548828125,
          9292.033203125,
          9161.26171875,
          9333.173828125,
          9416.5947265625,
          9330.54296875,
          9460.806640625,
          9459.2333984375,
          9354.1708984375,
          9399.091796875,
          9463.759765625,
          9551.5048828125,
          9487.185546875,
          9598.78125,
          9684.9873046875,
          9622.5478515625,
          9758.1484375,
          9714.1416015625,
          9633.7392578125,
          9593.9072265625,
          9573.9453125,
          9640.294921875,
          9748.052734375,
          9638.1201171875,
          9599.080078125,
          9533.6513671875,
          9578.375,
          9707.310546875,
          9857.453125,
          9877.7626953125,
          9751.1337890625,
          10042.083984375,
          9881.7265625,
          9896.0185546875,
          9917.947265625,
          9876.8662109375,
          9880.6220703125,
          9859.3271484375,
          10042.7529296875,
          10014.3544921875,
          10042.8544921875,
          10043.623046875,
          9845.2744140625,
          9898.8994140625,
          9558.8095703125,
          9859.068359375,
          9820.609375,
          9511.1845703125,
          9558.0517578125,
          9505.4130859375,
          9503.4775390625,
          9386.9580078125,
          9718.5322265625,
          9907.4931640625,
          9750.1806640625,
          9623.9794921875,
          9781.9326171875,
          9778.447265625,
          9559.458984375,
          9831.95703125,
          9777.568359375,
          9694.3828125,
          9405.681640625,
          9542.150390625,
          9557.41015625,
          9512.076171875,
          9598.818359375,
          9728.1572265625,
          9481.40234375,
          9397.4404296875,
          9438.849609375,
          9325.5322265625,
          9324.455078125,
          9186.9814453125,
          9050.896484375,
          9266.3583984375,
          9283.314453125,
          9347.8076171875,
          9432.7861328125,
          9453.9921875,
          9322.638671875,
          9501.5126953125,
          9300.91015625,
          9260.7587890625,
          9213.978515625,
          9213.1640625,
          9078.560546875,
          9407.6630859375,
          9557.9970703125,
          9559.6474609375,
          9562.3994140625,
          9476.8974609375,
          9703.876953125,
          9858.375,
          9818.0517578125,
          9848.693359375,
          9942.0751953125,
          9789.64453125,
          9912.39453125,
          9999.9765625,
          10025.484375,
          10052.4228515625,
          10033.837890625,
          10039.533203125,
          10020.5771484375,
          9934.958984375,
          9805.3115234375,
          10078.9833984375,
          10089.0078125,
          10071.576171875,
          10141.259765625,
          10050.75390625,
          10261.2080078125,
          10275.0458984375,
          10214.4208984375,
          10153.580078125,
          10248.662109375,
          10335.517578125,
          10177.212890625,
          9895.654296875,
          10017.130859375,
          10096.517578125,
          10205.2822265625,
          10131.9306640625,
          10181.8759765625,
          10269.037109375,
          10177.2294921875,
          10207.5966796875,
          10296.220703125,
          10339.0224609375,
          10385.5126953125,
          10386.376953125,
          10300.0380859375,
          10307.4658203125,
          10307.2060546875,
          10195.294921875,
          10336.7705078125,
          10213.646484375,
          10312.748046875,
          10259.455078125,
          10173.7666015625,
          10289.6298828125,
          10236.3974609375,
          10286.1220703125,
          10259.6484375,
          10329.951171875,
          10393.900390625,
          10438.0498046875,
          10393.5634765625,
          10467.435546875,
          10577.982421875,
          10824.984375,
          10701.3642578125,
          10881.8583984375,
          10736.4697265625,
          10804.3193359375,
          10664.6845703125,
          10634.626953125,
          10339.0859375,
          10561.623046875,
          10492.2646484375,
          10452.4970703125,
          10473.2314453125,
          10309.92578125,
          10408.5576171875,
          10419.53515625,
          10486.55859375,
          10367.76171875,
          10488.8505859375,
          10591.970703125,
          10452.33203125,
          10691.5546875,
          10696.79296875,
          10636.6630859375,
          10485.318359375,
          10632.83203125,
          10665.974609375,
          10712.921875,
          10575.12890625,
          10496.232421875,
          10362.3583984375
         ]
        }
       ],
       "layout": {
        "template": {
         "data": {
          "bar": [
           {
            "error_x": {
             "color": "#2a3f5f"
            },
            "error_y": {
             "color": "#2a3f5f"
            },
            "marker": {
             "line": {
              "color": "#E5ECF6",
              "width": 0.5
             },
             "pattern": {
              "fillmode": "overlay",
              "size": 10,
              "solidity": 0.2
             }
            },
            "type": "bar"
           }
          ],
          "barpolar": [
           {
            "marker": {
             "line": {
              "color": "#E5ECF6",
              "width": 0.5
             },
             "pattern": {
              "fillmode": "overlay",
              "size": 10,
              "solidity": 0.2
             }
            },
            "type": "barpolar"
           }
          ],
          "carpet": [
           {
            "aaxis": {
             "endlinecolor": "#2a3f5f",
             "gridcolor": "white",
             "linecolor": "white",
             "minorgridcolor": "white",
             "startlinecolor": "#2a3f5f"
            },
            "baxis": {
             "endlinecolor": "#2a3f5f",
             "gridcolor": "white",
             "linecolor": "white",
             "minorgridcolor": "white",
             "startlinecolor": "#2a3f5f"
            },
            "type": "carpet"
           }
          ],
          "choropleth": [
           {
            "colorbar": {
             "outlinewidth": 0,
             "ticks": ""
            },
            "type": "choropleth"
           }
          ],
          "contour": [
           {
            "colorbar": {
             "outlinewidth": 0,
             "ticks": ""
            },
            "colorscale": [
             [
              0,
              "#0d0887"
             ],
             [
              0.1111111111111111,
              "#46039f"
             ],
             [
              0.2222222222222222,
              "#7201a8"
             ],
             [
              0.3333333333333333,
              "#9c179e"
             ],
             [
              0.4444444444444444,
              "#bd3786"
             ],
             [
              0.5555555555555556,
              "#d8576b"
             ],
             [
              0.6666666666666666,
              "#ed7953"
             ],
             [
              0.7777777777777778,
              "#fb9f3a"
             ],
             [
              0.8888888888888888,
              "#fdca26"
             ],
             [
              1,
              "#f0f921"
             ]
            ],
            "type": "contour"
           }
          ],
          "contourcarpet": [
           {
            "colorbar": {
             "outlinewidth": 0,
             "ticks": ""
            },
            "type": "contourcarpet"
           }
          ],
          "heatmap": [
           {
            "colorbar": {
             "outlinewidth": 0,
             "ticks": ""
            },
            "colorscale": [
             [
              0,
              "#0d0887"
             ],
             [
              0.1111111111111111,
              "#46039f"
             ],
             [
              0.2222222222222222,
              "#7201a8"
             ],
             [
              0.3333333333333333,
              "#9c179e"
             ],
             [
              0.4444444444444444,
              "#bd3786"
             ],
             [
              0.5555555555555556,
              "#d8576b"
             ],
             [
              0.6666666666666666,
              "#ed7953"
             ],
             [
              0.7777777777777778,
              "#fb9f3a"
             ],
             [
              0.8888888888888888,
              "#fdca26"
             ],
             [
              1,
              "#f0f921"
             ]
            ],
            "type": "heatmap"
           }
          ],
          "heatmapgl": [
           {
            "colorbar": {
             "outlinewidth": 0,
             "ticks": ""
            },
            "colorscale": [
             [
              0,
              "#0d0887"
             ],
             [
              0.1111111111111111,
              "#46039f"
             ],
             [
              0.2222222222222222,
              "#7201a8"
             ],
             [
              0.3333333333333333,
              "#9c179e"
             ],
             [
              0.4444444444444444,
              "#bd3786"
             ],
             [
              0.5555555555555556,
              "#d8576b"
             ],
             [
              0.6666666666666666,
              "#ed7953"
             ],
             [
              0.7777777777777778,
              "#fb9f3a"
             ],
             [
              0.8888888888888888,
              "#fdca26"
             ],
             [
              1,
              "#f0f921"
             ]
            ],
            "type": "heatmapgl"
           }
          ],
          "histogram": [
           {
            "marker": {
             "pattern": {
              "fillmode": "overlay",
              "size": 10,
              "solidity": 0.2
             }
            },
            "type": "histogram"
           }
          ],
          "histogram2d": [
           {
            "colorbar": {
             "outlinewidth": 0,
             "ticks": ""
            },
            "colorscale": [
             [
              0,
              "#0d0887"
             ],
             [
              0.1111111111111111,
              "#46039f"
             ],
             [
              0.2222222222222222,
              "#7201a8"
             ],
             [
              0.3333333333333333,
              "#9c179e"
             ],
             [
              0.4444444444444444,
              "#bd3786"
             ],
             [
              0.5555555555555556,
              "#d8576b"
             ],
             [
              0.6666666666666666,
              "#ed7953"
             ],
             [
              0.7777777777777778,
              "#fb9f3a"
             ],
             [
              0.8888888888888888,
              "#fdca26"
             ],
             [
              1,
              "#f0f921"
             ]
            ],
            "type": "histogram2d"
           }
          ],
          "histogram2dcontour": [
           {
            "colorbar": {
             "outlinewidth": 0,
             "ticks": ""
            },
            "colorscale": [
             [
              0,
              "#0d0887"
             ],
             [
              0.1111111111111111,
              "#46039f"
             ],
             [
              0.2222222222222222,
              "#7201a8"
             ],
             [
              0.3333333333333333,
              "#9c179e"
             ],
             [
              0.4444444444444444,
              "#bd3786"
             ],
             [
              0.5555555555555556,
              "#d8576b"
             ],
             [
              0.6666666666666666,
              "#ed7953"
             ],
             [
              0.7777777777777778,
              "#fb9f3a"
             ],
             [
              0.8888888888888888,
              "#fdca26"
             ],
             [
              1,
              "#f0f921"
             ]
            ],
            "type": "histogram2dcontour"
           }
          ],
          "mesh3d": [
           {
            "colorbar": {
             "outlinewidth": 0,
             "ticks": ""
            },
            "type": "mesh3d"
           }
          ],
          "parcoords": [
           {
            "line": {
             "colorbar": {
              "outlinewidth": 0,
              "ticks": ""
             }
            },
            "type": "parcoords"
           }
          ],
          "pie": [
           {
            "automargin": true,
            "type": "pie"
           }
          ],
          "scatter": [
           {
            "fillpattern": {
             "fillmode": "overlay",
             "size": 10,
             "solidity": 0.2
            },
            "type": "scatter"
           }
          ],
          "scatter3d": [
           {
            "line": {
             "colorbar": {
              "outlinewidth": 0,
              "ticks": ""
             }
            },
            "marker": {
             "colorbar": {
              "outlinewidth": 0,
              "ticks": ""
             }
            },
            "type": "scatter3d"
           }
          ],
          "scattercarpet": [
           {
            "marker": {
             "colorbar": {
              "outlinewidth": 0,
              "ticks": ""
             }
            },
            "type": "scattercarpet"
           }
          ],
          "scattergeo": [
           {
            "marker": {
             "colorbar": {
              "outlinewidth": 0,
              "ticks": ""
             }
            },
            "type": "scattergeo"
           }
          ],
          "scattergl": [
           {
            "marker": {
             "colorbar": {
              "outlinewidth": 0,
              "ticks": ""
             }
            },
            "type": "scattergl"
           }
          ],
          "scattermapbox": [
           {
            "marker": {
             "colorbar": {
              "outlinewidth": 0,
              "ticks": ""
             }
            },
            "type": "scattermapbox"
           }
          ],
          "scatterpolar": [
           {
            "marker": {
             "colorbar": {
              "outlinewidth": 0,
              "ticks": ""
             }
            },
            "type": "scatterpolar"
           }
          ],
          "scatterpolargl": [
           {
            "marker": {
             "colorbar": {
              "outlinewidth": 0,
              "ticks": ""
             }
            },
            "type": "scatterpolargl"
           }
          ],
          "scatterternary": [
           {
            "marker": {
             "colorbar": {
              "outlinewidth": 0,
              "ticks": ""
             }
            },
            "type": "scatterternary"
           }
          ],
          "surface": [
           {
            "colorbar": {
             "outlinewidth": 0,
             "ticks": ""
            },
            "colorscale": [
             [
              0,
              "#0d0887"
             ],
             [
              0.1111111111111111,
              "#46039f"
             ],
             [
              0.2222222222222222,
              "#7201a8"
             ],
             [
              0.3333333333333333,
              "#9c179e"
             ],
             [
              0.4444444444444444,
              "#bd3786"
             ],
             [
              0.5555555555555556,
              "#d8576b"
             ],
             [
              0.6666666666666666,
              "#ed7953"
             ],
             [
              0.7777777777777778,
              "#fb9f3a"
             ],
             [
              0.8888888888888888,
              "#fdca26"
             ],
             [
              1,
              "#f0f921"
             ]
            ],
            "type": "surface"
           }
          ],
          "table": [
           {
            "cells": {
             "fill": {
              "color": "#EBF0F8"
             },
             "line": {
              "color": "white"
             }
            },
            "header": {
             "fill": {
              "color": "#C8D4E3"
             },
             "line": {
              "color": "white"
             }
            },
            "type": "table"
           }
          ]
         },
         "layout": {
          "annotationdefaults": {
           "arrowcolor": "#2a3f5f",
           "arrowhead": 0,
           "arrowwidth": 1
          },
          "autotypenumbers": "strict",
          "coloraxis": {
           "colorbar": {
            "outlinewidth": 0,
            "ticks": ""
           }
          },
          "colorscale": {
           "diverging": [
            [
             0,
             "#8e0152"
            ],
            [
             0.1,
             "#c51b7d"
            ],
            [
             0.2,
             "#de77ae"
            ],
            [
             0.3,
             "#f1b6da"
            ],
            [
             0.4,
             "#fde0ef"
            ],
            [
             0.5,
             "#f7f7f7"
            ],
            [
             0.6,
             "#e6f5d0"
            ],
            [
             0.7,
             "#b8e186"
            ],
            [
             0.8,
             "#7fbc41"
            ],
            [
             0.9,
             "#4d9221"
            ],
            [
             1,
             "#276419"
            ]
           ],
           "sequential": [
            [
             0,
             "#0d0887"
            ],
            [
             0.1111111111111111,
             "#46039f"
            ],
            [
             0.2222222222222222,
             "#7201a8"
            ],
            [
             0.3333333333333333,
             "#9c179e"
            ],
            [
             0.4444444444444444,
             "#bd3786"
            ],
            [
             0.5555555555555556,
             "#d8576b"
            ],
            [
             0.6666666666666666,
             "#ed7953"
            ],
            [
             0.7777777777777778,
             "#fb9f3a"
            ],
            [
             0.8888888888888888,
             "#fdca26"
            ],
            [
             1,
             "#f0f921"
            ]
           ],
           "sequentialminus": [
            [
             0,
             "#0d0887"
            ],
            [
             0.1111111111111111,
             "#46039f"
            ],
            [
             0.2222222222222222,
             "#7201a8"
            ],
            [
             0.3333333333333333,
             "#9c179e"
            ],
            [
             0.4444444444444444,
             "#bd3786"
            ],
            [
             0.5555555555555556,
             "#d8576b"
            ],
            [
             0.6666666666666666,
             "#ed7953"
            ],
            [
             0.7777777777777778,
             "#fb9f3a"
            ],
            [
             0.8888888888888888,
             "#fdca26"
            ],
            [
             1,
             "#f0f921"
            ]
           ]
          },
          "colorway": [
           "#636efa",
           "#EF553B",
           "#00cc96",
           "#ab63fa",
           "#FFA15A",
           "#19d3f3",
           "#FF6692",
           "#B6E880",
           "#FF97FF",
           "#FECB52"
          ],
          "font": {
           "color": "#2a3f5f"
          },
          "geo": {
           "bgcolor": "white",
           "lakecolor": "white",
           "landcolor": "#E5ECF6",
           "showlakes": true,
           "showland": true,
           "subunitcolor": "white"
          },
          "hoverlabel": {
           "align": "left"
          },
          "hovermode": "closest",
          "mapbox": {
           "style": "light"
          },
          "paper_bgcolor": "white",
          "plot_bgcolor": "#E5ECF6",
          "polar": {
           "angularaxis": {
            "gridcolor": "white",
            "linecolor": "white",
            "ticks": ""
           },
           "bgcolor": "#E5ECF6",
           "radialaxis": {
            "gridcolor": "white",
            "linecolor": "white",
            "ticks": ""
           }
          },
          "scene": {
           "xaxis": {
            "backgroundcolor": "#E5ECF6",
            "gridcolor": "white",
            "gridwidth": 2,
            "linecolor": "white",
            "showbackground": true,
            "ticks": "",
            "zerolinecolor": "white"
           },
           "yaxis": {
            "backgroundcolor": "#E5ECF6",
            "gridcolor": "white",
            "gridwidth": 2,
            "linecolor": "white",
            "showbackground": true,
            "ticks": "",
            "zerolinecolor": "white"
           },
           "zaxis": {
            "backgroundcolor": "#E5ECF6",
            "gridcolor": "white",
            "gridwidth": 2,
            "linecolor": "white",
            "showbackground": true,
            "ticks": "",
            "zerolinecolor": "white"
           }
          },
          "shapedefaults": {
           "line": {
            "color": "#2a3f5f"
           }
          },
          "ternary": {
           "aaxis": {
            "gridcolor": "white",
            "linecolor": "white",
            "ticks": ""
           },
           "baxis": {
            "gridcolor": "white",
            "linecolor": "white",
            "ticks": ""
           },
           "bgcolor": "#E5ECF6",
           "caxis": {
            "gridcolor": "white",
            "linecolor": "white",
            "ticks": ""
           }
          },
          "title": {
           "x": 0.05
          },
          "xaxis": {
           "automargin": true,
           "gridcolor": "white",
           "linecolor": "white",
           "ticks": "",
           "title": {
            "standoff": 15
           },
           "zerolinecolor": "white",
           "zerolinewidth": 2
          },
          "yaxis": {
           "automargin": true,
           "gridcolor": "white",
           "linecolor": "white",
           "ticks": "",
           "title": {
            "standoff": 15
           },
           "zerolinecolor": "white",
           "zerolinewidth": 2
          }
         }
        },
        "title": {
         "text": "Model"
        },
        "xaxis": {
         "title": {
          "text": "Date"
         }
        },
        "yaxis": {
         "title": {
          "text": "Close Price USD ($)"
         }
        }
       }
      }
     },
     "metadata": {},
     "output_type": "display_data"
    }
   ],
   "source": [
    "from plotly import graph_objs as go\n",
    "\n",
    "fig = go.Figure()\n",
    "\n",
    "fig.add_trace(go.Scatter(x=valid['date'], y=valid['Close'], mode='lines', name='Val'))\n",
    "fig.add_trace(go.Scatter(x=valid['date'], y=valid['Predictions'], mode='lines', name='Predictions'))\n",
    "\n",
    "fig.update_layout(title='Model',\n",
    "                        xaxis_title='Date',\n",
    "                        yaxis_title='Close Price USD ($)')\n",
    "fig.show()"
   ]
  }
 ],
 "metadata": {
  "kernelspec": {
   "display_name": "ML",
   "language": "python",
   "name": "ml"
  },
  "language_info": {
   "codemirror_mode": {
    "name": "ipython",
    "version": 3
   },
   "file_extension": ".py",
   "mimetype": "text/x-python",
   "name": "python",
   "nbconvert_exporter": "python",
   "pygments_lexer": "ipython3",
   "version": "3.8.19"
  }
 },
 "nbformat": 4,
 "nbformat_minor": 2
}
